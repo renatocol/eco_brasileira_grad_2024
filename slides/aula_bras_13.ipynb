{
 "cells": [
  {
   "cell_type": "markdown",
   "metadata": {
    "heading_collapsed": true,
    "slideshow": {
     "slide_type": "slide"
    }
   },
   "source": [
    "## <center>Economia Brasileira - FEA-USP</center>\n",
    "\n",
    "### <center>Aula 13 - O governo Dilma</center>\n",
    "\n",
    "#### <center>Renato Perim Colistete</center>\n",
    "\n",
    "\n",
    "#### <center>2024</center>  "
   ]
  },
  {
   "cell_type": "markdown",
   "metadata": {
    "slideshow": {
     "slide_type": "slide"
    }
   },
   "source": [
    "## Objetivos\n",
    "\n",
    "Esta aula reconstitui as principais políticas macroeconômicas do primeiro governo de Dilma Roussef, entre 2011 e 2014.\n",
    "\n",
    "O foco é a política macroeconômica e seus resultados, em particular a mudança mais explícita da orientação quanto ao regime de metas de inflação, a política fiscal e ao câmbio ocorrida no período.\n",
    "\n",
    "Outros temas - política social, distribuição de renda e desempenho da indústria - serão vistos nas próximas aulas."
   ]
  },
  {
   "cell_type": "markdown",
   "metadata": {
    "slideshow": {
     "slide_type": "slide"
    }
   },
   "source": [
    "## Novo governo\n",
    "\n",
    "Ao contrário das transições políticas anteriores marcadas por instabilidade e incerteza, a passagem do governo Lula para o governo Dilma ocorreu sem maiores sobressaltos - por exemplo, em indicadores relacionados ao setor externo e aos juros."
   ]
  },
  {
   "cell_type": "markdown",
   "metadata": {
    "slideshow": {
     "slide_type": "fragment"
    }
   },
   "source": [
    "A transição ocorreu no contexto dos bons resultados macroeconômicos dos anos anteriores e da rápida recuperação da crise de 2008/2009."
   ]
  },
  {
   "cell_type": "markdown",
   "metadata": {
    "slideshow": {
     "slide_type": "fragment"
    }
   },
   "source": [
    "Paralelamente, os resultados do balanço de pagamentos mantiveram-se favoráveis na transição, de forma inédita em relação às décadas anteriores (embora os indicadores externos tenham começado a se deteriorar logo em seguida, como veremos adiante). "
   ]
  },
  {
   "cell_type": "markdown",
   "metadata": {
    "slideshow": {
     "slide_type": "subslide"
    }
   },
   "source": [
    "Ver nas figuras a seguir os dados pós-2010 para o setor externo, já apresentados na aula anterior: termos de troca e reservas. Alguma mudança perceptível?"
   ]
  },
  {
   "cell_type": "code",
   "execution_count": 23,
   "metadata": {
    "slideshow": {
     "slide_type": "notes"
    }
   },
   "outputs": [
    {
     "data": {
      "application/javascript": [
       "(function(root) {\n",
       "  function now() {\n",
       "    return new Date();\n",
       "  }\n",
       "\n",
       "  var force = true;\n",
       "  var py_version = '3.1.1'.replace('rc', '-rc.').replace('.dev', '-dev.');\n",
       "  var is_dev = py_version.indexOf(\"+\") !== -1 || py_version.indexOf(\"-\") !== -1;\n",
       "  var reloading = false;\n",
       "  var Bokeh = root.Bokeh;\n",
       "  var bokeh_loaded = Bokeh != null && (Bokeh.version === py_version || (Bokeh.versions !== undefined && Bokeh.versions.has(py_version)));\n",
       "\n",
       "  if (typeof (root._bokeh_timeout) === \"undefined\" || force) {\n",
       "    root._bokeh_timeout = Date.now() + 5000;\n",
       "    root._bokeh_failed_load = false;\n",
       "  }\n",
       "\n",
       "  function run_callbacks() {\n",
       "    try {\n",
       "      root._bokeh_onload_callbacks.forEach(function(callback) {\n",
       "        if (callback != null)\n",
       "          callback();\n",
       "      });\n",
       "    } finally {\n",
       "      delete root._bokeh_onload_callbacks;\n",
       "    }\n",
       "    console.debug(\"Bokeh: all callbacks have finished\");\n",
       "  }\n",
       "\n",
       "  function load_libs(css_urls, js_urls, js_modules, js_exports, callback) {\n",
       "    if (css_urls == null) css_urls = [];\n",
       "    if (js_urls == null) js_urls = [];\n",
       "    if (js_modules == null) js_modules = [];\n",
       "    if (js_exports == null) js_exports = {};\n",
       "\n",
       "    root._bokeh_onload_callbacks.push(callback);\n",
       "\n",
       "    if (root._bokeh_is_loading > 0) {\n",
       "      console.debug(\"Bokeh: BokehJS is being loaded, scheduling callback at\", now());\n",
       "      return null;\n",
       "    }\n",
       "    if (js_urls.length === 0 && js_modules.length === 0 && Object.keys(js_exports).length === 0) {\n",
       "      run_callbacks();\n",
       "      return null;\n",
       "    }\n",
       "    if (!reloading) {\n",
       "      console.debug(\"Bokeh: BokehJS not loaded, scheduling load and callback at\", now());\n",
       "    }\n",
       "\n",
       "    function on_load() {\n",
       "      root._bokeh_is_loading--;\n",
       "      if (root._bokeh_is_loading === 0) {\n",
       "        console.debug(\"Bokeh: all BokehJS libraries/stylesheets loaded\");\n",
       "        run_callbacks()\n",
       "      }\n",
       "    }\n",
       "    window._bokeh_on_load = on_load\n",
       "\n",
       "    function on_error() {\n",
       "      console.error(\"failed to load \" + url);\n",
       "    }\n",
       "\n",
       "    var skip = [];\n",
       "    if (window.requirejs) {\n",
       "      window.requirejs.config({'packages': {}, 'paths': {'jspanel': 'https://cdn.jsdelivr.net/npm/jspanel4@4.12.0/dist/jspanel', 'jspanel-modal': 'https://cdn.jsdelivr.net/npm/jspanel4@4.12.0/dist/extensions/modal/jspanel.modal', 'jspanel-tooltip': 'https://cdn.jsdelivr.net/npm/jspanel4@4.12.0/dist/extensions/tooltip/jspanel.tooltip', 'jspanel-hint': 'https://cdn.jsdelivr.net/npm/jspanel4@4.12.0/dist/extensions/hint/jspanel.hint', 'jspanel-layout': 'https://cdn.jsdelivr.net/npm/jspanel4@4.12.0/dist/extensions/layout/jspanel.layout', 'jspanel-contextmenu': 'https://cdn.jsdelivr.net/npm/jspanel4@4.12.0/dist/extensions/contextmenu/jspanel.contextmenu', 'jspanel-dock': 'https://cdn.jsdelivr.net/npm/jspanel4@4.12.0/dist/extensions/dock/jspanel.dock', 'gridstack': 'https://cdn.jsdelivr.net/npm/gridstack@7.2.3/dist/gridstack-all', 'notyf': 'https://cdn.jsdelivr.net/npm/notyf@3/notyf.min'}, 'shim': {'jspanel': {'exports': 'jsPanel'}, 'gridstack': {'exports': 'GridStack'}}});\n",
       "      require([\"jspanel\"], function(jsPanel) {\n",
       "\twindow.jsPanel = jsPanel\n",
       "\ton_load()\n",
       "      })\n",
       "      require([\"jspanel-modal\"], function() {\n",
       "\ton_load()\n",
       "      })\n",
       "      require([\"jspanel-tooltip\"], function() {\n",
       "\ton_load()\n",
       "      })\n",
       "      require([\"jspanel-hint\"], function() {\n",
       "\ton_load()\n",
       "      })\n",
       "      require([\"jspanel-layout\"], function() {\n",
       "\ton_load()\n",
       "      })\n",
       "      require([\"jspanel-contextmenu\"], function() {\n",
       "\ton_load()\n",
       "      })\n",
       "      require([\"jspanel-dock\"], function() {\n",
       "\ton_load()\n",
       "      })\n",
       "      require([\"gridstack\"], function(GridStack) {\n",
       "\twindow.GridStack = GridStack\n",
       "\ton_load()\n",
       "      })\n",
       "      require([\"notyf\"], function() {\n",
       "\ton_load()\n",
       "      })\n",
       "      root._bokeh_is_loading = css_urls.length + 9;\n",
       "    } else {\n",
       "      root._bokeh_is_loading = css_urls.length + js_urls.length + js_modules.length + Object.keys(js_exports).length;\n",
       "    }\n",
       "\n",
       "    var existing_stylesheets = []\n",
       "    var links = document.getElementsByTagName('link')\n",
       "    for (var i = 0; i < links.length; i++) {\n",
       "      var link = links[i]\n",
       "      if (link.href != null) {\n",
       "\texisting_stylesheets.push(link.href)\n",
       "      }\n",
       "    }\n",
       "    for (var i = 0; i < css_urls.length; i++) {\n",
       "      var url = css_urls[i];\n",
       "      if (existing_stylesheets.indexOf(url) !== -1) {\n",
       "\ton_load()\n",
       "\tcontinue;\n",
       "      }\n",
       "      const element = document.createElement(\"link\");\n",
       "      element.onload = on_load;\n",
       "      element.onerror = on_error;\n",
       "      element.rel = \"stylesheet\";\n",
       "      element.type = \"text/css\";\n",
       "      element.href = url;\n",
       "      console.debug(\"Bokeh: injecting link tag for BokehJS stylesheet: \", url);\n",
       "      document.body.appendChild(element);\n",
       "    }    if (((window['jsPanel'] !== undefined) && (!(window['jsPanel'] instanceof HTMLElement))) || window.requirejs) {\n",
       "      var urls = ['https://cdn.holoviz.org/panel/1.2.3/dist/bundled/floatpanel/jspanel4@4.12.0/dist/jspanel.js', 'https://cdn.holoviz.org/panel/1.2.3/dist/bundled/floatpanel/jspanel4@4.12.0/dist/extensions/modal/jspanel.modal.js', 'https://cdn.holoviz.org/panel/1.2.3/dist/bundled/floatpanel/jspanel4@4.12.0/dist/extensions/tooltip/jspanel.tooltip.js', 'https://cdn.holoviz.org/panel/1.2.3/dist/bundled/floatpanel/jspanel4@4.12.0/dist/extensions/hint/jspanel.hint.js', 'https://cdn.holoviz.org/panel/1.2.3/dist/bundled/floatpanel/jspanel4@4.12.0/dist/extensions/layout/jspanel.layout.js', 'https://cdn.holoviz.org/panel/1.2.3/dist/bundled/floatpanel/jspanel4@4.12.0/dist/extensions/contextmenu/jspanel.contextmenu.js', 'https://cdn.holoviz.org/panel/1.2.3/dist/bundled/floatpanel/jspanel4@4.12.0/dist/extensions/dock/jspanel.dock.js'];\n",
       "      for (var i = 0; i < urls.length; i++) {\n",
       "        skip.push(urls[i])\n",
       "      }\n",
       "    }    if (((window['GridStack'] !== undefined) && (!(window['GridStack'] instanceof HTMLElement))) || window.requirejs) {\n",
       "      var urls = ['https://cdn.holoviz.org/panel/1.2.3/dist/bundled/gridstack/gridstack@7.2.3/dist/gridstack-all.js'];\n",
       "      for (var i = 0; i < urls.length; i++) {\n",
       "        skip.push(urls[i])\n",
       "      }\n",
       "    }    if (((window['Notyf'] !== undefined) && (!(window['Notyf'] instanceof HTMLElement))) || window.requirejs) {\n",
       "      var urls = ['https://cdn.holoviz.org/panel/1.2.3/dist/bundled/notificationarea/notyf@3/notyf.min.js'];\n",
       "      for (var i = 0; i < urls.length; i++) {\n",
       "        skip.push(urls[i])\n",
       "      }\n",
       "    }    var existing_scripts = []\n",
       "    var scripts = document.getElementsByTagName('script')\n",
       "    for (var i = 0; i < scripts.length; i++) {\n",
       "      var script = scripts[i]\n",
       "      if (script.src != null) {\n",
       "\texisting_scripts.push(script.src)\n",
       "      }\n",
       "    }\n",
       "    for (var i = 0; i < js_urls.length; i++) {\n",
       "      var url = js_urls[i];\n",
       "      if (skip.indexOf(url) !== -1 || existing_scripts.indexOf(url) !== -1) {\n",
       "\tif (!window.requirejs) {\n",
       "\t  on_load();\n",
       "\t}\n",
       "\tcontinue;\n",
       "      }\n",
       "      var element = document.createElement('script');\n",
       "      element.onload = on_load;\n",
       "      element.onerror = on_error;\n",
       "      element.async = false;\n",
       "      element.src = url;\n",
       "      console.debug(\"Bokeh: injecting script tag for BokehJS library: \", url);\n",
       "      document.head.appendChild(element);\n",
       "    }\n",
       "    for (var i = 0; i < js_modules.length; i++) {\n",
       "      var url = js_modules[i];\n",
       "      if (skip.indexOf(url) !== -1 || existing_scripts.indexOf(url) !== -1) {\n",
       "\tif (!window.requirejs) {\n",
       "\t  on_load();\n",
       "\t}\n",
       "\tcontinue;\n",
       "      }\n",
       "      var element = document.createElement('script');\n",
       "      element.onload = on_load;\n",
       "      element.onerror = on_error;\n",
       "      element.async = false;\n",
       "      element.src = url;\n",
       "      element.type = \"module\";\n",
       "      console.debug(\"Bokeh: injecting script tag for BokehJS library: \", url);\n",
       "      document.head.appendChild(element);\n",
       "    }\n",
       "    for (const name in js_exports) {\n",
       "      var url = js_exports[name];\n",
       "      if (skip.indexOf(url) >= 0 || root[name] != null) {\n",
       "\tif (!window.requirejs) {\n",
       "\t  on_load();\n",
       "\t}\n",
       "\tcontinue;\n",
       "      }\n",
       "      var element = document.createElement('script');\n",
       "      element.onerror = on_error;\n",
       "      element.async = false;\n",
       "      element.type = \"module\";\n",
       "      console.debug(\"Bokeh: injecting script tag for BokehJS library: \", url);\n",
       "      element.textContent = `\n",
       "      import ${name} from \"${url}\"\n",
       "      window.${name} = ${name}\n",
       "      window._bokeh_on_load()\n",
       "      `\n",
       "      document.head.appendChild(element);\n",
       "    }\n",
       "    if (!js_urls.length && !js_modules.length) {\n",
       "      on_load()\n",
       "    }\n",
       "  };\n",
       "\n",
       "  function inject_raw_css(css) {\n",
       "    const element = document.createElement(\"style\");\n",
       "    element.appendChild(document.createTextNode(css));\n",
       "    document.body.appendChild(element);\n",
       "  }\n",
       "\n",
       "  var js_urls = [\"https://cdn.bokeh.org/bokeh/release/bokeh-3.1.1.min.js\", \"https://cdn.bokeh.org/bokeh/release/bokeh-gl-3.1.1.min.js\", \"https://cdn.bokeh.org/bokeh/release/bokeh-widgets-3.1.1.min.js\", \"https://cdn.bokeh.org/bokeh/release/bokeh-tables-3.1.1.min.js\", \"https://cdn.holoviz.org/panel/1.2.3/dist/panel.min.js\"];\n",
       "  var js_modules = [];\n",
       "  var js_exports = {};\n",
       "  var css_urls = [];\n",
       "  var inline_js = [    function(Bokeh) {\n",
       "      Bokeh.set_log_level(\"info\");\n",
       "    },\n",
       "function(Bokeh) {} // ensure no trailing comma for IE\n",
       "  ];\n",
       "\n",
       "  function run_inline_js() {\n",
       "    if ((root.Bokeh !== undefined) || (force === true)) {\n",
       "      for (var i = 0; i < inline_js.length; i++) {\n",
       "        inline_js[i].call(root, root.Bokeh);\n",
       "      }\n",
       "      // Cache old bokeh versions\n",
       "      if (Bokeh != undefined && !reloading) {\n",
       "\tvar NewBokeh = root.Bokeh;\n",
       "\tif (Bokeh.versions === undefined) {\n",
       "\t  Bokeh.versions = new Map();\n",
       "\t}\n",
       "\tif (NewBokeh.version !== Bokeh.version) {\n",
       "\t  Bokeh.versions.set(NewBokeh.version, NewBokeh)\n",
       "\t}\n",
       "\troot.Bokeh = Bokeh;\n",
       "      }} else if (Date.now() < root._bokeh_timeout) {\n",
       "      setTimeout(run_inline_js, 100);\n",
       "    } else if (!root._bokeh_failed_load) {\n",
       "      console.log(\"Bokeh: BokehJS failed to load within specified timeout.\");\n",
       "      root._bokeh_failed_load = true;\n",
       "    }\n",
       "    root._bokeh_is_initializing = false\n",
       "  }\n",
       "\n",
       "  function load_or_wait() {\n",
       "    // Implement a backoff loop that tries to ensure we do not load multiple\n",
       "    // versions of Bokeh and its dependencies at the same time.\n",
       "    // In recent versions we use the root._bokeh_is_initializing flag\n",
       "    // to determine whether there is an ongoing attempt to initialize\n",
       "    // bokeh, however for backward compatibility we also try to ensure\n",
       "    // that we do not start loading a newer (Panel>=1.0 and Bokeh>3) version\n",
       "    // before older versions are fully initialized.\n",
       "    if (root._bokeh_is_initializing && Date.now() > root._bokeh_timeout) {\n",
       "      root._bokeh_is_initializing = false;\n",
       "      root._bokeh_onload_callbacks = undefined;\n",
       "      console.log(\"Bokeh: BokehJS was loaded multiple times but one version failed to initialize.\");\n",
       "      load_or_wait();\n",
       "    } else if (root._bokeh_is_initializing || (typeof root._bokeh_is_initializing === \"undefined\" && root._bokeh_onload_callbacks !== undefined)) {\n",
       "      setTimeout(load_or_wait, 100);\n",
       "    } else {\n",
       "      Bokeh = root.Bokeh;\n",
       "      bokeh_loaded = Bokeh != null && (Bokeh.version === py_version || (Bokeh.versions !== undefined && Bokeh.versions.has(py_version)));\n",
       "      root._bokeh_is_initializing = true\n",
       "      root._bokeh_onload_callbacks = []\n",
       "      if (!reloading && (!bokeh_loaded || is_dev)) {\n",
       "\troot.Bokeh = undefined;\n",
       "      }\n",
       "      load_libs(css_urls, js_urls, js_modules, js_exports, function() {\n",
       "\tconsole.debug(\"Bokeh: BokehJS plotting callback run at\", now());\n",
       "\trun_inline_js();\n",
       "      });\n",
       "    }\n",
       "  }\n",
       "  // Give older versions of the autoload script a head-start to ensure\n",
       "  // they initialize before we start loading newer version.\n",
       "  setTimeout(load_or_wait, 100)\n",
       "}(window));"
      ],
      "application/vnd.holoviews_load.v0+json": "(function(root) {\n  function now() {\n    return new Date();\n  }\n\n  var force = true;\n  var py_version = '3.1.1'.replace('rc', '-rc.').replace('.dev', '-dev.');\n  var is_dev = py_version.indexOf(\"+\") !== -1 || py_version.indexOf(\"-\") !== -1;\n  var reloading = false;\n  var Bokeh = root.Bokeh;\n  var bokeh_loaded = Bokeh != null && (Bokeh.version === py_version || (Bokeh.versions !== undefined && Bokeh.versions.has(py_version)));\n\n  if (typeof (root._bokeh_timeout) === \"undefined\" || force) {\n    root._bokeh_timeout = Date.now() + 5000;\n    root._bokeh_failed_load = false;\n  }\n\n  function run_callbacks() {\n    try {\n      root._bokeh_onload_callbacks.forEach(function(callback) {\n        if (callback != null)\n          callback();\n      });\n    } finally {\n      delete root._bokeh_onload_callbacks;\n    }\n    console.debug(\"Bokeh: all callbacks have finished\");\n  }\n\n  function load_libs(css_urls, js_urls, js_modules, js_exports, callback) {\n    if (css_urls == null) css_urls = [];\n    if (js_urls == null) js_urls = [];\n    if (js_modules == null) js_modules = [];\n    if (js_exports == null) js_exports = {};\n\n    root._bokeh_onload_callbacks.push(callback);\n\n    if (root._bokeh_is_loading > 0) {\n      console.debug(\"Bokeh: BokehJS is being loaded, scheduling callback at\", now());\n      return null;\n    }\n    if (js_urls.length === 0 && js_modules.length === 0 && Object.keys(js_exports).length === 0) {\n      run_callbacks();\n      return null;\n    }\n    if (!reloading) {\n      console.debug(\"Bokeh: BokehJS not loaded, scheduling load and callback at\", now());\n    }\n\n    function on_load() {\n      root._bokeh_is_loading--;\n      if (root._bokeh_is_loading === 0) {\n        console.debug(\"Bokeh: all BokehJS libraries/stylesheets loaded\");\n        run_callbacks()\n      }\n    }\n    window._bokeh_on_load = on_load\n\n    function on_error() {\n      console.error(\"failed to load \" + url);\n    }\n\n    var skip = [];\n    if (window.requirejs) {\n      window.requirejs.config({'packages': {}, 'paths': {'jspanel': 'https://cdn.jsdelivr.net/npm/jspanel4@4.12.0/dist/jspanel', 'jspanel-modal': 'https://cdn.jsdelivr.net/npm/jspanel4@4.12.0/dist/extensions/modal/jspanel.modal', 'jspanel-tooltip': 'https://cdn.jsdelivr.net/npm/jspanel4@4.12.0/dist/extensions/tooltip/jspanel.tooltip', 'jspanel-hint': 'https://cdn.jsdelivr.net/npm/jspanel4@4.12.0/dist/extensions/hint/jspanel.hint', 'jspanel-layout': 'https://cdn.jsdelivr.net/npm/jspanel4@4.12.0/dist/extensions/layout/jspanel.layout', 'jspanel-contextmenu': 'https://cdn.jsdelivr.net/npm/jspanel4@4.12.0/dist/extensions/contextmenu/jspanel.contextmenu', 'jspanel-dock': 'https://cdn.jsdelivr.net/npm/jspanel4@4.12.0/dist/extensions/dock/jspanel.dock', 'gridstack': 'https://cdn.jsdelivr.net/npm/gridstack@7.2.3/dist/gridstack-all', 'notyf': 'https://cdn.jsdelivr.net/npm/notyf@3/notyf.min'}, 'shim': {'jspanel': {'exports': 'jsPanel'}, 'gridstack': {'exports': 'GridStack'}}});\n      require([\"jspanel\"], function(jsPanel) {\n\twindow.jsPanel = jsPanel\n\ton_load()\n      })\n      require([\"jspanel-modal\"], function() {\n\ton_load()\n      })\n      require([\"jspanel-tooltip\"], function() {\n\ton_load()\n      })\n      require([\"jspanel-hint\"], function() {\n\ton_load()\n      })\n      require([\"jspanel-layout\"], function() {\n\ton_load()\n      })\n      require([\"jspanel-contextmenu\"], function() {\n\ton_load()\n      })\n      require([\"jspanel-dock\"], function() {\n\ton_load()\n      })\n      require([\"gridstack\"], function(GridStack) {\n\twindow.GridStack = GridStack\n\ton_load()\n      })\n      require([\"notyf\"], function() {\n\ton_load()\n      })\n      root._bokeh_is_loading = css_urls.length + 9;\n    } else {\n      root._bokeh_is_loading = css_urls.length + js_urls.length + js_modules.length + Object.keys(js_exports).length;\n    }\n\n    var existing_stylesheets = []\n    var links = document.getElementsByTagName('link')\n    for (var i = 0; i < links.length; i++) {\n      var link = links[i]\n      if (link.href != null) {\n\texisting_stylesheets.push(link.href)\n      }\n    }\n    for (var i = 0; i < css_urls.length; i++) {\n      var url = css_urls[i];\n      if (existing_stylesheets.indexOf(url) !== -1) {\n\ton_load()\n\tcontinue;\n      }\n      const element = document.createElement(\"link\");\n      element.onload = on_load;\n      element.onerror = on_error;\n      element.rel = \"stylesheet\";\n      element.type = \"text/css\";\n      element.href = url;\n      console.debug(\"Bokeh: injecting link tag for BokehJS stylesheet: \", url);\n      document.body.appendChild(element);\n    }    if (((window['jsPanel'] !== undefined) && (!(window['jsPanel'] instanceof HTMLElement))) || window.requirejs) {\n      var urls = ['https://cdn.holoviz.org/panel/1.2.3/dist/bundled/floatpanel/jspanel4@4.12.0/dist/jspanel.js', 'https://cdn.holoviz.org/panel/1.2.3/dist/bundled/floatpanel/jspanel4@4.12.0/dist/extensions/modal/jspanel.modal.js', 'https://cdn.holoviz.org/panel/1.2.3/dist/bundled/floatpanel/jspanel4@4.12.0/dist/extensions/tooltip/jspanel.tooltip.js', 'https://cdn.holoviz.org/panel/1.2.3/dist/bundled/floatpanel/jspanel4@4.12.0/dist/extensions/hint/jspanel.hint.js', 'https://cdn.holoviz.org/panel/1.2.3/dist/bundled/floatpanel/jspanel4@4.12.0/dist/extensions/layout/jspanel.layout.js', 'https://cdn.holoviz.org/panel/1.2.3/dist/bundled/floatpanel/jspanel4@4.12.0/dist/extensions/contextmenu/jspanel.contextmenu.js', 'https://cdn.holoviz.org/panel/1.2.3/dist/bundled/floatpanel/jspanel4@4.12.0/dist/extensions/dock/jspanel.dock.js'];\n      for (var i = 0; i < urls.length; i++) {\n        skip.push(urls[i])\n      }\n    }    if (((window['GridStack'] !== undefined) && (!(window['GridStack'] instanceof HTMLElement))) || window.requirejs) {\n      var urls = ['https://cdn.holoviz.org/panel/1.2.3/dist/bundled/gridstack/gridstack@7.2.3/dist/gridstack-all.js'];\n      for (var i = 0; i < urls.length; i++) {\n        skip.push(urls[i])\n      }\n    }    if (((window['Notyf'] !== undefined) && (!(window['Notyf'] instanceof HTMLElement))) || window.requirejs) {\n      var urls = ['https://cdn.holoviz.org/panel/1.2.3/dist/bundled/notificationarea/notyf@3/notyf.min.js'];\n      for (var i = 0; i < urls.length; i++) {\n        skip.push(urls[i])\n      }\n    }    var existing_scripts = []\n    var scripts = document.getElementsByTagName('script')\n    for (var i = 0; i < scripts.length; i++) {\n      var script = scripts[i]\n      if (script.src != null) {\n\texisting_scripts.push(script.src)\n      }\n    }\n    for (var i = 0; i < js_urls.length; i++) {\n      var url = js_urls[i];\n      if (skip.indexOf(url) !== -1 || existing_scripts.indexOf(url) !== -1) {\n\tif (!window.requirejs) {\n\t  on_load();\n\t}\n\tcontinue;\n      }\n      var element = document.createElement('script');\n      element.onload = on_load;\n      element.onerror = on_error;\n      element.async = false;\n      element.src = url;\n      console.debug(\"Bokeh: injecting script tag for BokehJS library: \", url);\n      document.head.appendChild(element);\n    }\n    for (var i = 0; i < js_modules.length; i++) {\n      var url = js_modules[i];\n      if (skip.indexOf(url) !== -1 || existing_scripts.indexOf(url) !== -1) {\n\tif (!window.requirejs) {\n\t  on_load();\n\t}\n\tcontinue;\n      }\n      var element = document.createElement('script');\n      element.onload = on_load;\n      element.onerror = on_error;\n      element.async = false;\n      element.src = url;\n      element.type = \"module\";\n      console.debug(\"Bokeh: injecting script tag for BokehJS library: \", url);\n      document.head.appendChild(element);\n    }\n    for (const name in js_exports) {\n      var url = js_exports[name];\n      if (skip.indexOf(url) >= 0 || root[name] != null) {\n\tif (!window.requirejs) {\n\t  on_load();\n\t}\n\tcontinue;\n      }\n      var element = document.createElement('script');\n      element.onerror = on_error;\n      element.async = false;\n      element.type = \"module\";\n      console.debug(\"Bokeh: injecting script tag for BokehJS library: \", url);\n      element.textContent = `\n      import ${name} from \"${url}\"\n      window.${name} = ${name}\n      window._bokeh_on_load()\n      `\n      document.head.appendChild(element);\n    }\n    if (!js_urls.length && !js_modules.length) {\n      on_load()\n    }\n  };\n\n  function inject_raw_css(css) {\n    const element = document.createElement(\"style\");\n    element.appendChild(document.createTextNode(css));\n    document.body.appendChild(element);\n  }\n\n  var js_urls = [\"https://cdn.bokeh.org/bokeh/release/bokeh-3.1.1.min.js\", \"https://cdn.bokeh.org/bokeh/release/bokeh-gl-3.1.1.min.js\", \"https://cdn.bokeh.org/bokeh/release/bokeh-widgets-3.1.1.min.js\", \"https://cdn.bokeh.org/bokeh/release/bokeh-tables-3.1.1.min.js\", \"https://cdn.holoviz.org/panel/1.2.3/dist/panel.min.js\"];\n  var js_modules = [];\n  var js_exports = {};\n  var css_urls = [];\n  var inline_js = [    function(Bokeh) {\n      Bokeh.set_log_level(\"info\");\n    },\nfunction(Bokeh) {} // ensure no trailing comma for IE\n  ];\n\n  function run_inline_js() {\n    if ((root.Bokeh !== undefined) || (force === true)) {\n      for (var i = 0; i < inline_js.length; i++) {\n        inline_js[i].call(root, root.Bokeh);\n      }\n      // Cache old bokeh versions\n      if (Bokeh != undefined && !reloading) {\n\tvar NewBokeh = root.Bokeh;\n\tif (Bokeh.versions === undefined) {\n\t  Bokeh.versions = new Map();\n\t}\n\tif (NewBokeh.version !== Bokeh.version) {\n\t  Bokeh.versions.set(NewBokeh.version, NewBokeh)\n\t}\n\troot.Bokeh = Bokeh;\n      }} else if (Date.now() < root._bokeh_timeout) {\n      setTimeout(run_inline_js, 100);\n    } else if (!root._bokeh_failed_load) {\n      console.log(\"Bokeh: BokehJS failed to load within specified timeout.\");\n      root._bokeh_failed_load = true;\n    }\n    root._bokeh_is_initializing = false\n  }\n\n  function load_or_wait() {\n    // Implement a backoff loop that tries to ensure we do not load multiple\n    // versions of Bokeh and its dependencies at the same time.\n    // In recent versions we use the root._bokeh_is_initializing flag\n    // to determine whether there is an ongoing attempt to initialize\n    // bokeh, however for backward compatibility we also try to ensure\n    // that we do not start loading a newer (Panel>=1.0 and Bokeh>3) version\n    // before older versions are fully initialized.\n    if (root._bokeh_is_initializing && Date.now() > root._bokeh_timeout) {\n      root._bokeh_is_initializing = false;\n      root._bokeh_onload_callbacks = undefined;\n      console.log(\"Bokeh: BokehJS was loaded multiple times but one version failed to initialize.\");\n      load_or_wait();\n    } else if (root._bokeh_is_initializing || (typeof root._bokeh_is_initializing === \"undefined\" && root._bokeh_onload_callbacks !== undefined)) {\n      setTimeout(load_or_wait, 100);\n    } else {\n      Bokeh = root.Bokeh;\n      bokeh_loaded = Bokeh != null && (Bokeh.version === py_version || (Bokeh.versions !== undefined && Bokeh.versions.has(py_version)));\n      root._bokeh_is_initializing = true\n      root._bokeh_onload_callbacks = []\n      if (!reloading && (!bokeh_loaded || is_dev)) {\n\troot.Bokeh = undefined;\n      }\n      load_libs(css_urls, js_urls, js_modules, js_exports, function() {\n\tconsole.debug(\"Bokeh: BokehJS plotting callback run at\", now());\n\trun_inline_js();\n      });\n    }\n  }\n  // Give older versions of the autoload script a head-start to ensure\n  // they initialize before we start loading newer version.\n  setTimeout(load_or_wait, 100)\n}(window));"
     },
     "metadata": {},
     "output_type": "display_data"
    },
    {
     "data": {
      "application/javascript": [
       "\n",
       "if ((window.PyViz === undefined) || (window.PyViz instanceof HTMLElement)) {\n",
       "  window.PyViz = {comms: {}, comm_status:{}, kernels:{}, receivers: {}, plot_index: []}\n",
       "}\n",
       "\n",
       "\n",
       "    function JupyterCommManager() {\n",
       "    }\n",
       "\n",
       "    JupyterCommManager.prototype.register_target = function(plot_id, comm_id, msg_handler) {\n",
       "      if (window.comm_manager || ((window.Jupyter !== undefined) && (Jupyter.notebook.kernel != null))) {\n",
       "        var comm_manager = window.comm_manager || Jupyter.notebook.kernel.comm_manager;\n",
       "        comm_manager.register_target(comm_id, function(comm) {\n",
       "          comm.on_msg(msg_handler);\n",
       "        });\n",
       "      } else if ((plot_id in window.PyViz.kernels) && (window.PyViz.kernels[plot_id])) {\n",
       "        window.PyViz.kernels[plot_id].registerCommTarget(comm_id, function(comm) {\n",
       "          comm.onMsg = msg_handler;\n",
       "        });\n",
       "      } else if (typeof google != 'undefined' && google.colab.kernel != null) {\n",
       "        google.colab.kernel.comms.registerTarget(comm_id, (comm) => {\n",
       "          var messages = comm.messages[Symbol.asyncIterator]();\n",
       "          function processIteratorResult(result) {\n",
       "            var message = result.value;\n",
       "            console.log(message)\n",
       "            var content = {data: message.data, comm_id};\n",
       "            var buffers = []\n",
       "            for (var buffer of message.buffers || []) {\n",
       "              buffers.push(new DataView(buffer))\n",
       "            }\n",
       "            var metadata = message.metadata || {};\n",
       "            var msg = {content, buffers, metadata}\n",
       "            msg_handler(msg);\n",
       "            return messages.next().then(processIteratorResult);\n",
       "          }\n",
       "          return messages.next().then(processIteratorResult);\n",
       "        })\n",
       "      }\n",
       "    }\n",
       "\n",
       "    JupyterCommManager.prototype.get_client_comm = function(plot_id, comm_id, msg_handler) {\n",
       "      if (comm_id in window.PyViz.comms) {\n",
       "        return window.PyViz.comms[comm_id];\n",
       "      } else if (window.comm_manager || ((window.Jupyter !== undefined) && (Jupyter.notebook.kernel != null))) {\n",
       "        var comm_manager = window.comm_manager || Jupyter.notebook.kernel.comm_manager;\n",
       "        var comm = comm_manager.new_comm(comm_id, {}, {}, {}, comm_id);\n",
       "        if (msg_handler) {\n",
       "          comm.on_msg(msg_handler);\n",
       "        }\n",
       "      } else if ((plot_id in window.PyViz.kernels) && (window.PyViz.kernels[plot_id])) {\n",
       "        var comm = window.PyViz.kernels[plot_id].connectToComm(comm_id);\n",
       "        comm.open();\n",
       "        if (msg_handler) {\n",
       "          comm.onMsg = msg_handler;\n",
       "        }\n",
       "      } else if (typeof google != 'undefined' && google.colab.kernel != null) {\n",
       "        var comm_promise = google.colab.kernel.comms.open(comm_id)\n",
       "        comm_promise.then((comm) => {\n",
       "          window.PyViz.comms[comm_id] = comm;\n",
       "          if (msg_handler) {\n",
       "            var messages = comm.messages[Symbol.asyncIterator]();\n",
       "            function processIteratorResult(result) {\n",
       "              var message = result.value;\n",
       "              var content = {data: message.data};\n",
       "              var metadata = message.metadata || {comm_id};\n",
       "              var msg = {content, metadata}\n",
       "              msg_handler(msg);\n",
       "              return messages.next().then(processIteratorResult);\n",
       "            }\n",
       "            return messages.next().then(processIteratorResult);\n",
       "          }\n",
       "        }) \n",
       "        var sendClosure = (data, metadata, buffers, disposeOnDone) => {\n",
       "          return comm_promise.then((comm) => {\n",
       "            comm.send(data, metadata, buffers, disposeOnDone);\n",
       "          });\n",
       "        };\n",
       "        var comm = {\n",
       "          send: sendClosure\n",
       "        };\n",
       "      }\n",
       "      window.PyViz.comms[comm_id] = comm;\n",
       "      return comm;\n",
       "    }\n",
       "    window.PyViz.comm_manager = new JupyterCommManager();\n",
       "    \n",
       "\n",
       "\n",
       "var JS_MIME_TYPE = 'application/javascript';\n",
       "var HTML_MIME_TYPE = 'text/html';\n",
       "var EXEC_MIME_TYPE = 'application/vnd.holoviews_exec.v0+json';\n",
       "var CLASS_NAME = 'output';\n",
       "\n",
       "/**\n",
       " * Render data to the DOM node\n",
       " */\n",
       "function render(props, node) {\n",
       "  var div = document.createElement(\"div\");\n",
       "  var script = document.createElement(\"script\");\n",
       "  node.appendChild(div);\n",
       "  node.appendChild(script);\n",
       "}\n",
       "\n",
       "/**\n",
       " * Handle when a new output is added\n",
       " */\n",
       "function handle_add_output(event, handle) {\n",
       "  var output_area = handle.output_area;\n",
       "  var output = handle.output;\n",
       "  if ((output.data == undefined) || (!output.data.hasOwnProperty(EXEC_MIME_TYPE))) {\n",
       "    return\n",
       "  }\n",
       "  var id = output.metadata[EXEC_MIME_TYPE][\"id\"];\n",
       "  var toinsert = output_area.element.find(\".\" + CLASS_NAME.split(' ')[0]);\n",
       "  if (id !== undefined) {\n",
       "    var nchildren = toinsert.length;\n",
       "    var html_node = toinsert[nchildren-1].children[0];\n",
       "    html_node.innerHTML = output.data[HTML_MIME_TYPE];\n",
       "    var scripts = [];\n",
       "    var nodelist = html_node.querySelectorAll(\"script\");\n",
       "    for (var i in nodelist) {\n",
       "      if (nodelist.hasOwnProperty(i)) {\n",
       "        scripts.push(nodelist[i])\n",
       "      }\n",
       "    }\n",
       "\n",
       "    scripts.forEach( function (oldScript) {\n",
       "      var newScript = document.createElement(\"script\");\n",
       "      var attrs = [];\n",
       "      var nodemap = oldScript.attributes;\n",
       "      for (var j in nodemap) {\n",
       "        if (nodemap.hasOwnProperty(j)) {\n",
       "          attrs.push(nodemap[j])\n",
       "        }\n",
       "      }\n",
       "      attrs.forEach(function(attr) { newScript.setAttribute(attr.name, attr.value) });\n",
       "      newScript.appendChild(document.createTextNode(oldScript.innerHTML));\n",
       "      oldScript.parentNode.replaceChild(newScript, oldScript);\n",
       "    });\n",
       "    if (JS_MIME_TYPE in output.data) {\n",
       "      toinsert[nchildren-1].children[1].textContent = output.data[JS_MIME_TYPE];\n",
       "    }\n",
       "    output_area._hv_plot_id = id;\n",
       "    if ((window.Bokeh !== undefined) && (id in Bokeh.index)) {\n",
       "      window.PyViz.plot_index[id] = Bokeh.index[id];\n",
       "    } else {\n",
       "      window.PyViz.plot_index[id] = null;\n",
       "    }\n",
       "  } else if (output.metadata[EXEC_MIME_TYPE][\"server_id\"] !== undefined) {\n",
       "    var bk_div = document.createElement(\"div\");\n",
       "    bk_div.innerHTML = output.data[HTML_MIME_TYPE];\n",
       "    var script_attrs = bk_div.children[0].attributes;\n",
       "    for (var i = 0; i < script_attrs.length; i++) {\n",
       "      toinsert[toinsert.length - 1].childNodes[1].setAttribute(script_attrs[i].name, script_attrs[i].value);\n",
       "    }\n",
       "    // store reference to server id on output_area\n",
       "    output_area._bokeh_server_id = output.metadata[EXEC_MIME_TYPE][\"server_id\"];\n",
       "  }\n",
       "}\n",
       "\n",
       "/**\n",
       " * Handle when an output is cleared or removed\n",
       " */\n",
       "function handle_clear_output(event, handle) {\n",
       "  var id = handle.cell.output_area._hv_plot_id;\n",
       "  var server_id = handle.cell.output_area._bokeh_server_id;\n",
       "  if (((id === undefined) || !(id in PyViz.plot_index)) && (server_id !== undefined)) { return; }\n",
       "  var comm = window.PyViz.comm_manager.get_client_comm(\"hv-extension-comm\", \"hv-extension-comm\", function () {});\n",
       "  if (server_id !== null) {\n",
       "    comm.send({event_type: 'server_delete', 'id': server_id});\n",
       "    return;\n",
       "  } else if (comm !== null) {\n",
       "    comm.send({event_type: 'delete', 'id': id});\n",
       "  }\n",
       "  delete PyViz.plot_index[id];\n",
       "  if ((window.Bokeh !== undefined) & (id in window.Bokeh.index)) {\n",
       "    var doc = window.Bokeh.index[id].model.document\n",
       "    doc.clear();\n",
       "    const i = window.Bokeh.documents.indexOf(doc);\n",
       "    if (i > -1) {\n",
       "      window.Bokeh.documents.splice(i, 1);\n",
       "    }\n",
       "  }\n",
       "}\n",
       "\n",
       "/**\n",
       " * Handle kernel restart event\n",
       " */\n",
       "function handle_kernel_cleanup(event, handle) {\n",
       "  delete PyViz.comms[\"hv-extension-comm\"];\n",
       "  window.PyViz.plot_index = {}\n",
       "}\n",
       "\n",
       "/**\n",
       " * Handle update_display_data messages\n",
       " */\n",
       "function handle_update_output(event, handle) {\n",
       "  handle_clear_output(event, {cell: {output_area: handle.output_area}})\n",
       "  handle_add_output(event, handle)\n",
       "}\n",
       "\n",
       "function register_renderer(events, OutputArea) {\n",
       "  function append_mime(data, metadata, element) {\n",
       "    // create a DOM node to render to\n",
       "    var toinsert = this.create_output_subarea(\n",
       "    metadata,\n",
       "    CLASS_NAME,\n",
       "    EXEC_MIME_TYPE\n",
       "    );\n",
       "    this.keyboard_manager.register_events(toinsert);\n",
       "    // Render to node\n",
       "    var props = {data: data, metadata: metadata[EXEC_MIME_TYPE]};\n",
       "    render(props, toinsert[0]);\n",
       "    element.append(toinsert);\n",
       "    return toinsert\n",
       "  }\n",
       "\n",
       "  events.on('output_added.OutputArea', handle_add_output);\n",
       "  events.on('output_updated.OutputArea', handle_update_output);\n",
       "  events.on('clear_output.CodeCell', handle_clear_output);\n",
       "  events.on('delete.Cell', handle_clear_output);\n",
       "  events.on('kernel_ready.Kernel', handle_kernel_cleanup);\n",
       "\n",
       "  OutputArea.prototype.register_mime_type(EXEC_MIME_TYPE, append_mime, {\n",
       "    safe: true,\n",
       "    index: 0\n",
       "  });\n",
       "}\n",
       "\n",
       "if (window.Jupyter !== undefined) {\n",
       "  try {\n",
       "    var events = require('base/js/events');\n",
       "    var OutputArea = require('notebook/js/outputarea').OutputArea;\n",
       "    if (OutputArea.prototype.mime_types().indexOf(EXEC_MIME_TYPE) == -1) {\n",
       "      register_renderer(events, OutputArea);\n",
       "    }\n",
       "  } catch(err) {\n",
       "  }\n",
       "}\n"
      ],
      "application/vnd.holoviews_load.v0+json": "\nif ((window.PyViz === undefined) || (window.PyViz instanceof HTMLElement)) {\n  window.PyViz = {comms: {}, comm_status:{}, kernels:{}, receivers: {}, plot_index: []}\n}\n\n\n    function JupyterCommManager() {\n    }\n\n    JupyterCommManager.prototype.register_target = function(plot_id, comm_id, msg_handler) {\n      if (window.comm_manager || ((window.Jupyter !== undefined) && (Jupyter.notebook.kernel != null))) {\n        var comm_manager = window.comm_manager || Jupyter.notebook.kernel.comm_manager;\n        comm_manager.register_target(comm_id, function(comm) {\n          comm.on_msg(msg_handler);\n        });\n      } else if ((plot_id in window.PyViz.kernels) && (window.PyViz.kernels[plot_id])) {\n        window.PyViz.kernels[plot_id].registerCommTarget(comm_id, function(comm) {\n          comm.onMsg = msg_handler;\n        });\n      } else if (typeof google != 'undefined' && google.colab.kernel != null) {\n        google.colab.kernel.comms.registerTarget(comm_id, (comm) => {\n          var messages = comm.messages[Symbol.asyncIterator]();\n          function processIteratorResult(result) {\n            var message = result.value;\n            console.log(message)\n            var content = {data: message.data, comm_id};\n            var buffers = []\n            for (var buffer of message.buffers || []) {\n              buffers.push(new DataView(buffer))\n            }\n            var metadata = message.metadata || {};\n            var msg = {content, buffers, metadata}\n            msg_handler(msg);\n            return messages.next().then(processIteratorResult);\n          }\n          return messages.next().then(processIteratorResult);\n        })\n      }\n    }\n\n    JupyterCommManager.prototype.get_client_comm = function(plot_id, comm_id, msg_handler) {\n      if (comm_id in window.PyViz.comms) {\n        return window.PyViz.comms[comm_id];\n      } else if (window.comm_manager || ((window.Jupyter !== undefined) && (Jupyter.notebook.kernel != null))) {\n        var comm_manager = window.comm_manager || Jupyter.notebook.kernel.comm_manager;\n        var comm = comm_manager.new_comm(comm_id, {}, {}, {}, comm_id);\n        if (msg_handler) {\n          comm.on_msg(msg_handler);\n        }\n      } else if ((plot_id in window.PyViz.kernels) && (window.PyViz.kernels[plot_id])) {\n        var comm = window.PyViz.kernels[plot_id].connectToComm(comm_id);\n        comm.open();\n        if (msg_handler) {\n          comm.onMsg = msg_handler;\n        }\n      } else if (typeof google != 'undefined' && google.colab.kernel != null) {\n        var comm_promise = google.colab.kernel.comms.open(comm_id)\n        comm_promise.then((comm) => {\n          window.PyViz.comms[comm_id] = comm;\n          if (msg_handler) {\n            var messages = comm.messages[Symbol.asyncIterator]();\n            function processIteratorResult(result) {\n              var message = result.value;\n              var content = {data: message.data};\n              var metadata = message.metadata || {comm_id};\n              var msg = {content, metadata}\n              msg_handler(msg);\n              return messages.next().then(processIteratorResult);\n            }\n            return messages.next().then(processIteratorResult);\n          }\n        }) \n        var sendClosure = (data, metadata, buffers, disposeOnDone) => {\n          return comm_promise.then((comm) => {\n            comm.send(data, metadata, buffers, disposeOnDone);\n          });\n        };\n        var comm = {\n          send: sendClosure\n        };\n      }\n      window.PyViz.comms[comm_id] = comm;\n      return comm;\n    }\n    window.PyViz.comm_manager = new JupyterCommManager();\n    \n\n\nvar JS_MIME_TYPE = 'application/javascript';\nvar HTML_MIME_TYPE = 'text/html';\nvar EXEC_MIME_TYPE = 'application/vnd.holoviews_exec.v0+json';\nvar CLASS_NAME = 'output';\n\n/**\n * Render data to the DOM node\n */\nfunction render(props, node) {\n  var div = document.createElement(\"div\");\n  var script = document.createElement(\"script\");\n  node.appendChild(div);\n  node.appendChild(script);\n}\n\n/**\n * Handle when a new output is added\n */\nfunction handle_add_output(event, handle) {\n  var output_area = handle.output_area;\n  var output = handle.output;\n  if ((output.data == undefined) || (!output.data.hasOwnProperty(EXEC_MIME_TYPE))) {\n    return\n  }\n  var id = output.metadata[EXEC_MIME_TYPE][\"id\"];\n  var toinsert = output_area.element.find(\".\" + CLASS_NAME.split(' ')[0]);\n  if (id !== undefined) {\n    var nchildren = toinsert.length;\n    var html_node = toinsert[nchildren-1].children[0];\n    html_node.innerHTML = output.data[HTML_MIME_TYPE];\n    var scripts = [];\n    var nodelist = html_node.querySelectorAll(\"script\");\n    for (var i in nodelist) {\n      if (nodelist.hasOwnProperty(i)) {\n        scripts.push(nodelist[i])\n      }\n    }\n\n    scripts.forEach( function (oldScript) {\n      var newScript = document.createElement(\"script\");\n      var attrs = [];\n      var nodemap = oldScript.attributes;\n      for (var j in nodemap) {\n        if (nodemap.hasOwnProperty(j)) {\n          attrs.push(nodemap[j])\n        }\n      }\n      attrs.forEach(function(attr) { newScript.setAttribute(attr.name, attr.value) });\n      newScript.appendChild(document.createTextNode(oldScript.innerHTML));\n      oldScript.parentNode.replaceChild(newScript, oldScript);\n    });\n    if (JS_MIME_TYPE in output.data) {\n      toinsert[nchildren-1].children[1].textContent = output.data[JS_MIME_TYPE];\n    }\n    output_area._hv_plot_id = id;\n    if ((window.Bokeh !== undefined) && (id in Bokeh.index)) {\n      window.PyViz.plot_index[id] = Bokeh.index[id];\n    } else {\n      window.PyViz.plot_index[id] = null;\n    }\n  } else if (output.metadata[EXEC_MIME_TYPE][\"server_id\"] !== undefined) {\n    var bk_div = document.createElement(\"div\");\n    bk_div.innerHTML = output.data[HTML_MIME_TYPE];\n    var script_attrs = bk_div.children[0].attributes;\n    for (var i = 0; i < script_attrs.length; i++) {\n      toinsert[toinsert.length - 1].childNodes[1].setAttribute(script_attrs[i].name, script_attrs[i].value);\n    }\n    // store reference to server id on output_area\n    output_area._bokeh_server_id = output.metadata[EXEC_MIME_TYPE][\"server_id\"];\n  }\n}\n\n/**\n * Handle when an output is cleared or removed\n */\nfunction handle_clear_output(event, handle) {\n  var id = handle.cell.output_area._hv_plot_id;\n  var server_id = handle.cell.output_area._bokeh_server_id;\n  if (((id === undefined) || !(id in PyViz.plot_index)) && (server_id !== undefined)) { return; }\n  var comm = window.PyViz.comm_manager.get_client_comm(\"hv-extension-comm\", \"hv-extension-comm\", function () {});\n  if (server_id !== null) {\n    comm.send({event_type: 'server_delete', 'id': server_id});\n    return;\n  } else if (comm !== null) {\n    comm.send({event_type: 'delete', 'id': id});\n  }\n  delete PyViz.plot_index[id];\n  if ((window.Bokeh !== undefined) & (id in window.Bokeh.index)) {\n    var doc = window.Bokeh.index[id].model.document\n    doc.clear();\n    const i = window.Bokeh.documents.indexOf(doc);\n    if (i > -1) {\n      window.Bokeh.documents.splice(i, 1);\n    }\n  }\n}\n\n/**\n * Handle kernel restart event\n */\nfunction handle_kernel_cleanup(event, handle) {\n  delete PyViz.comms[\"hv-extension-comm\"];\n  window.PyViz.plot_index = {}\n}\n\n/**\n * Handle update_display_data messages\n */\nfunction handle_update_output(event, handle) {\n  handle_clear_output(event, {cell: {output_area: handle.output_area}})\n  handle_add_output(event, handle)\n}\n\nfunction register_renderer(events, OutputArea) {\n  function append_mime(data, metadata, element) {\n    // create a DOM node to render to\n    var toinsert = this.create_output_subarea(\n    metadata,\n    CLASS_NAME,\n    EXEC_MIME_TYPE\n    );\n    this.keyboard_manager.register_events(toinsert);\n    // Render to node\n    var props = {data: data, metadata: metadata[EXEC_MIME_TYPE]};\n    render(props, toinsert[0]);\n    element.append(toinsert);\n    return toinsert\n  }\n\n  events.on('output_added.OutputArea', handle_add_output);\n  events.on('output_updated.OutputArea', handle_update_output);\n  events.on('clear_output.CodeCell', handle_clear_output);\n  events.on('delete.Cell', handle_clear_output);\n  events.on('kernel_ready.Kernel', handle_kernel_cleanup);\n\n  OutputArea.prototype.register_mime_type(EXEC_MIME_TYPE, append_mime, {\n    safe: true,\n    index: 0\n  });\n}\n\nif (window.Jupyter !== undefined) {\n  try {\n    var events = require('base/js/events');\n    var OutputArea = require('notebook/js/outputarea').OutputArea;\n    if (OutputArea.prototype.mime_types().indexOf(EXEC_MIME_TYPE) == -1) {\n      register_renderer(events, OutputArea);\n    }\n  } catch(err) {\n  }\n}\n"
     },
     "metadata": {},
     "output_type": "display_data"
    },
    {
     "data": {
      "text/html": [
       "<style>*[data-root-id],\n",
       "*[data-root-id] > * {\n",
       "  box-sizing: border-box;\n",
       "  font-family: var(--jp-ui-font-family);\n",
       "  font-size: var(--jp-ui-font-size1);\n",
       "  color: var(--vscode-editor-foreground, var(--jp-ui-font-color1));\n",
       "}\n",
       "\n",
       "/* Override VSCode background color */\n",
       ".cell-output-ipywidget-background:has(\n",
       "    > .cell-output-ipywidget-background > .lm-Widget > *[data-root-id]\n",
       "  ),\n",
       ".cell-output-ipywidget-background:has(> .lm-Widget > *[data-root-id]) {\n",
       "  background-color: transparent !important;\n",
       "}\n",
       "</style>"
      ]
     },
     "metadata": {},
     "output_type": "display_data"
    },
    {
     "data": {
      "text/html": [
       "\n",
       "<div class=\"logo-block\">\n",
       "<img src='data:image/png;base64,iVBORw0KGgoAAAANSUhEUgAAAEAAAABACAYAAACqaXHeAAAABHNCSVQICAgIfAhkiAAAAAlwSFlz\n",
       "AAAB+wAAAfsBxc2miwAAABl0RVh0U29mdHdhcmUAd3d3Lmlua3NjYXBlLm9yZ5vuPBoAAA6zSURB\n",
       "VHic7ZtpeFRVmsf/5966taWqUlUJ2UioBBJiIBAwCZtog9IOgjqACsogKtqirT2ttt069nQ/zDzt\n",
       "tI4+CrJIREFaFgWhBXpUNhHZQoKBkIUASchWla1S+3ar7r1nPkDaCAnZKoQP/D7mnPOe9/xy76n3\n",
       "nFSAW9ziFoPFNED2LLK5wcyBDObkb8ZkxuaoSYlI6ZcOKq1eWFdedqNzGHQBk9RMEwFAASkk0Xw3\n",
       "ETacDNi2vtvc7L0ROdw0AjoSotQVkKSvHQz/wRO1lScGModBFbDMaNRN1A4tUBCS3lk7BWhQkgpD\n",
       "lG4852/+7DWr1R3uHAZVQDsbh6ZPN7CyxUrCzJMRouusj0ipRwD2uKm0Zn5d2dFwzX1TCGhnmdGo\n",
       "G62Nna+isiUqhkzuKrkQaJlPEv5mFl2fvGg2t/VnzkEV8F5ioioOEWkLG86fvbpthynjdhXYZziQ\n",
       "x1hC9J2NFyi8vCTt91Fh04KGip0AaG9zuCk2wQCVyoNU3Hjezee9bq92duzzTmxsRJoy+jEZZZYo\n",
       "GTKJ6SJngdJqAfRzpze0+jHreUtPc7gpBLQnIYK6BYp/uGhw9YK688eu7v95ysgshcg9qSLMo3JC\n",
       "4jqLKQFBgdKDPoQ+Pltb8dUyQLpeDjeVgI6EgLIQFT5tEl3rn2losHVsexbZ3EyT9wE1uGdkIPcy\n",
       "BGxn8QUq1QrA5nqW5i2tLqvrrM9NK6AdkVIvL9E9bZL/oyfMVd/jqvc8LylzRBKDJSzIExwhQzuL\n",
       "QYGQj4rHfFTc8mUdu3E7yoLtbTe9gI4EqVgVkug2i5+uXGo919ixbRog+3fTbQ8qJe4ZOYNfMoTI\n",
       "OoshUNosgO60AisX15aeI2PSIp5KiFLI9ubb1vV3Qb2ltwLakUCDAkWX7/nHKRmmGIl9VgYsUhJm\n",
       "2NXjKYADtM1ygne9QQDIXlk49FBstMKx66D1v4+XuQr7vqTe0VcBHQlRWiOCbmmSYe2SqtL6q5rJ\n",
       "zsTb7lKx3FKOYC4DoqyS/B5bvLPxvD9Qtf6saxYLQGJErmDOdOMr/zo96km1nElr8bmPOBwI9COv\n",
       "HnFPRIwmkSOv9kcAS4heRsidOkpeWBgZM+UBrTFAXNYL5Vf2ii9c1trNzpYdaoVil3WIc+wdk+gQ\n",
       "noie3ecCcxt9ITcLAPWt/laGEO/9U6PmzZkenTtsSMQ8uYywJVW+grCstAvCIaAdArAsIWkRDDs/\n",
       "KzLm2YcjY1Lv0UdW73HabE9n6V66cxSzfEmuJssTpKGVp+0vHq73FwL46eOjpMpbRAnNmJFrGJNu\n",
       "Ukf9Yrz+3rghiumCKNXXWPhLYcjxGsIpoCMsIRoFITkW8AuyM8jC1+/QLx4bozCEJIq38+1rtpR6\n",
       "V/yzb8eBlRb3fo5l783N0CWolAzJHaVNzkrTzlEp2bQ2q3TC5gn6wpnoQAmwSiGh2GitnTmVMc5O\n",
       "UyfKWUKCIsU7+fZDKwqdT6DDpvkzAX4/+AMFjk0tDp5GRXLpQ2MUmhgDp5gxQT8+Y7hyPsMi8uxF\n",
       "71H0oebujHALECjFKaW9Lm68n18wXp2kVzIcABytD5iXFzg+WVXkegpAsOOYziqo0OkK76GyquC3\n",
       "ltZAzMhhqlSNmmWTE5T6e3IN05ITFLM4GdN0vtZ3ob8Jh1NAKXFbm5PtLU/eqTSlGjkNAJjdgn/N\n",
       "aedXa0tdi7+t9G0FIF49rtMSEgAs1kDLkTPO7ebm4IUWeyh1bKomXqlgMG6kJmHcSM0clYLJ8XtR\n",
       "1GTnbV3F6I5wCGikAb402npp1h1s7LQUZZSMIfALFOuL3UUrfnS8+rez7v9qcold5tilgHbO1fjK\n",
       "9ubb17u9oshxzMiUBKXWqJNxd+fqb0tLVs4lILFnK71H0Ind7uiPgACVcFJlrb0tV6DzxqqTIhUM\n",
       "CwDf1/rrVhTa33/3pGPxJYdQ2l2cbgVcQSosdx8uqnDtbGjh9SlDVSMNWhlnilfqZk42Th2ZpLpf\n",
       "xrHec5e815zrr0dfBZSwzkZfqsv+1FS1KUknUwPARVvItfKUY+cn57yP7qv07UE3p8B2uhUwLk09\n",
       "e0SCOrK+hbdYHYLjRIl71wWzv9jpEoeOHhGRrJAzyEyNiJuUqX0g2sBN5kGK6y2Blp5M3lsB9Qh4\n",
       "y2Ja6x6+i0ucmKgwMATwhSjdUu49tKrQ/pvN5d53ml2CGwCmJipmKjgmyuaXzNeL2a0AkQ01Th5j\n",
       "2DktO3Jyk8f9vcOBQHV94OK+fPumJmvQHxJoWkaKWq9Vs+yUsbq0zGT1I4RgeH2b5wef7+c7bl8F\n",
       "eKgoHVVZa8ZPEORzR6sT1BzDUAD/d9F78e2Tzv99v8D+fLVTqAKAsbGamKey1Mt9Ann4eH3gTXTz\n",
       "idWtAJ8PQWOk7NzSeQn/OTHDuEikVF1R4z8BQCy+6D1aWRfY0tTGG2OM8rRoPaeIj5ZHzJxszElN\n",
       "VM8K8JS5WOfv8mzRnQAKoEhmt8gyPM4lU9SmBK1MCQBnW4KONT86v1hZ1PbwSXPw4JWussVjtH9Y\n",
       "NCoiL9UoH/6PSu8jFrfY2t36erQHXLIEakMi1SydmzB31h3GGXFDFNPaK8Rme9B79Ixrd0WN+1ij\n",
       "NRQ/doRmuFLBkHSTOm5GruG+pFjFdAmorG4IXH1Qua6ASniclfFtDYt+oUjKipPrCQB7QBQ2lrgP\n",
       "fFzm+9XWUtcqJ3/5vDLDpJ79XHZk3u8nGZ42qlj1+ydtbxysCezrydp6ugmipNJ7WBPB5tydY0jP\n",
       "HaVNzs3QzeE4ZpTbI+ZbnSFPbVOw9vsfnVvqWnirPyCNGD08IlqtYkh2hjZ5dErEQzoNm+6ykyOt\n",
       "Lt5/PQEuSRRKo22VkydK+vvS1XEKlhCJAnsqvcVvH7f/ZU2R67eXbMEGAMiIV5oWZWiWvz5Fv2xG\n",
       "sjqNJQRvn3Rs2lji/lNP19VjAQDgD7FHhujZB9OGqYxRkZxixgRDVlqS6uEOFaJUVu0rPFzctrnF\n",
       "JqijImVp8dEKVWyUXDk92zAuMZ6bFwpBU1HrOw6AdhQgUooChb0+ItMbWJitSo5Ws3IAOGEOtL53\n",
       "0vHZih9sC4vtofZ7Qu6523V/fmGcds1TY3V36pUsBwAbSlxnVh2xLfAD/IAIMDf7XYIkNmXfpp2l\n",
       "18rkAJAy9HKFaIr/qULkeQQKy9zf1JgDB2uaeFNGijo5QsUyacNUUTOnGO42xSnv4oOwpDi1zYkc\n",
       "efUc3I5Gk6PhyTuVKaOGyLUAYPGIoY9Pu/atL/L92+4q9wbflRJ2Trpm/jPjdBtfnqB/dIThcl8A\n",
       "KG7hbRuKnb8qsQsVvVlTrwQAQMUlf3kwJI24Z4JhPMtcfng5GcH49GsrxJpGvvHIaeem2ma+KSjQ\n",
       "lIwUdYyCY8j4dE1KzijNnIP2llF2wcXNnsoapw9XxsgYAl6k+KzUXbi2yP3KR2ecf6z3BFsBICdW\n",
       "nvnIaG3eHybqX7vbpEqUMT+9OL4Qpe8VON7dXuFd39v19FoAABRVePbGGuXTszO0P7tu6lghUonE\n",
       "llRdrhArLvmKdh9u29jcFiRRkfLUxBiFNiqSU9icoZQHo5mYBI1MBgBH6wMNb+U7Pnw337H4gi1Y\n",
       "ciWs+uks3Z9fztUvfzxTm9Ne8XXkvQLHNytOOZeiD4e0PgkAIAYCYknKUNUDSXEKzdWNpnil7r4p\n",
       "xqkjTarZMtk/K8TQ6Qve78qqvXurGwIJqcOUKfUWHsm8KGvxSP68YudXq4pcj39X49uOK2X142O0\n",
       "Tz5/u/7TVybqH0rSya6ZBwD21/gubbrgWdDgEOx9WUhfBaC2ibcEBYm7a7x+ukrBMNcEZggyR0TE\n",
       "T8zUPjikQ4VosQZbTpS4vqizBKvqmvjsqnpfzaZyx9JPiz1/bfGKdgD45XB1zoIMzYbfTdS/NClB\n",
       "Gct0USiY3YL/g0LHy/uq/Ef6uo5+n0R/vyhp17Klpge763f8rMu6YU/zrn2nml+2WtH+Z+5IAAFc\n",
       "2bUTdTDOSNa9+cQY7YLsOIXhevEkCvzph7a8laecz/Un/z4/Ae04XeL3UQb57IwU9ZDr9UuKVajv\n",
       "nxp1+1UVIo/LjztZkKH59fO3G/JemqCfmaCRqbqbd90ZZ8FfjtkfAyD0J/9+C2h1hDwsSxvGjNDc\n",
       "b4zk5NfrSwiQblLHzZhg+Jf4aPlUwpDqkQqa9nimbt1/TDH8OitGMaQnj+RJS6B1fbF7SY1TqO5v\n",
       "/v0WAADl1f7zokgS7s7VT2DZ7pegUjBM7mjtiDZbcN4j0YrHH0rXpCtY0qPX0cVL0rv5jv/ZXend\n",
       "0u/EESYBAFBU4T4Qa5TflZOhTe7pmKpaP8kCVUVw1+yhXfJWvn1P3hnXi33JsTN6PnP3hHZ8Z3/h\n",
       "aLHzmkNPuPj7Bc/F/Q38CwjTpSwQXgE4Vmwry9tpfq/ZFgqFMy4AVDtCvi8rvMvOmv0N4YwbVgEA\n",
       "sPM72/KVnzfspmH7HQGCRLG2yL1+z8XwvPcdCbsAANh+xPzstgMtxeGKt+6MK3/tacfvwhWvIwMi\n",
       "oKEBtm0H7W+UVfkc/Y1V0BhoPlDr/w1w/eu1vjIgAgDg22OtX6/eYfnEz/focrZTHAFR+PSs56/7\n",
       "q32nwpjazxgwAQCwcU/T62t3WL7r6/jVRa6/byp1rei+Z98ZUAEAhEPHPc8fKnTU9nbgtnOe8h0l\n",
       "9hcGIqmODLQAHCy2Xti6v/XNRivf43f4fFvIteu854+VHnR7q9tfBlwAAGz+pnndB9vM26UebAe8\n",
       "SLHujPOTPVW+rwY+sxskAAC2HrA8t2Vvc7ffP1r9o+vwR2dcr92InIAbKKC1FZ5tB1tf+/G8p8sv\n",
       "N/9Q5zd/XR34LYCwV5JdccMEAMDBk45DH243r/X4xGvqxFa/GNpS7n6rwOwNWwHVE26oAADYurf1\n",
       "zx/utOzt+DMKYM0p17YtZZ5VNzqfsB2HewG1WXE8PoZ7gOclbTIvynZf9JV+fqZtfgs/8F/Nu5rB\n",
       "EIBmJ+8QRMmpU7EzGRsf2FzuePqYRbzh/zE26EwdrT10f6r6o8HOYzCJB9Dpff8tbnGLG8L/A/WE\n",
       "roTBs2RqAAAAAElFTkSuQmCC'\n",
       "     style='height:25px; border-radius:12px; display: inline-block; float: left; vertical-align: middle'></img>\n",
       "\n",
       "\n",
       "  <img src='data:image/png;base64,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'\n",
       "       style='height:15px; border-radius:12px; display: inline-block; float: left'></img>\n",
       "  \n",
       "\n",
       "\n",
       "  <img src='data:image/png;base64,iVBORw0KGgoAAAANSUhEUgAAACAAAAAgCAYAAABzenr0AAAABHNCSVQICAgIfAhkiAAAAAlwSFlz\n",
       "AAAFMAAABTABZarKtgAAABl0RVh0U29mdHdhcmUAd3d3Lmlua3NjYXBlLm9yZ5vuPBoAAArNSURB\n",
       "VFiFnVd5VFNXGv/ee0kgGyQhbFoXIKCFYEXEDVErTucMoKUOWA/VLsNSLPQgFTOdyrHPiIp1lFIQ\n",
       "OlaPShEG3EpPcQmISCuV1bQ1CLKIULeQhJA9JO+9+UMT0x5aPfOdc895373f/e7v/t537/ddBF5Q\n",
       "JBIJl81mJwCACEVRQBCEQhAEAQCgnghCURRCkmS7Wq2+WlJSYn0Rv8jzDHAcD0EQJIVGo5mFQuGF\n",
       "jIyMu39kq1KpkOrq6gU6nS6aIAiGzWY7VVBQ0P9/AcjNzWXy+fxcOp2uiY+Przm0d6+n8dblv/Fo\n",
       "kzM4SzYfPlRePvFnjnt6ehh1dXVv2mw2nlar/byoqMj8wgBwHBchCJIZEhJSeu1yHVi7vtu02t8+\n",
       "NykQ7BMWoOUMhXQsXLv5IQAwSJJEEASxcDicoeTk5DtCoZBy9XX69Gnv3t7ebJIky3EcH3guAKlU\n",
       "GoGiaOKWLVsOvhs7/9XXPMde3/IyIFbMnaPDuD5AUdQuOf2XlD0npTExMWYAgNbWVpZcLg8xGAzB\n",
       "JEnSvby82tPT052LaTQatLy8fBtJkt/s3Lnz5h8CwHFcRKPRNu/YsePAjh072KTs0IGCxRg8RgUB\n",
       "TGpSx6cmHgMAfNqN6Xa1GvJ/D35gYAAViURkcXHxUrPZHDRv3rxv4uLiDI7xPXv2bLdYLBUFBQWD\n",
       "jj7M8ZGbm8tkMpmSrKysQiaTScXGxtpqL7dManT6tcu5mgEWWJyOhicozpk+c3NsbKzNFcBbWWEf\n",
       "1Td9/upA30i3ZJv0h8bGxiSFQmFcuHDhOACAWCy+0d3dvX3lypUtzc3N9t8AiIuLk4SEhByLiooy\n",
       "AgAcO3ZsNlPgH3Cttb35JZo+bCYXIQAA9MDiUW7sWS1KN687w6Mera2twa2trfMvXboUOS28Pyb1\n",
       "U08McRtf/sXBSmt5cc35pqamVQqFwhoZGallMpnU/fv3e7RaberVq1d/AABAn1IfQqfTNRs3blQB\n",
       "AFy+fJk7Nja2XCKRnD3dNSorusPq6NfTPR+gPiEEoLRFXO1tS2+zavv27ReftjNttyr0S1/j0rUP\n",
       "PEJQwNwQYGgAACQSyXmNRhMtk8lYAAApKSlKDMP0+fn5QU4ACIKkxMfH1zjYuHnz5uspKSlOfdX7\n",
       "u68fvOePcCzKQR4YVCgATGfa/F3pnzaHWOAXSDyaMCqH2+r8VXErP3D+snXr1tV2dXW94dATExOr\n",
       "6XT6JgAAVCKRcDEMM4WHh9sAAHJyUqNu//wDymKx7AAAVVVVPiaTKXxByrYMvBsxEMSTwPXhuL+8\n",
       "e/fu9fv371+flvbemogYNz+TnsBOFEwMFO8/KzEYDKFVVVX+AAChoaGT7u7ud48ePRro0DEMs+bl\n",
       "5bFRNpud4O3tfdGBzq5uy/5wTUPM/q2zC9atmbVqeHg4Pi0t7WxGRoZFH5rw76I7LI8HqHfwPL7d\n",
       "rfVagzw1NfW81t4ePUfsP/OrnWZ6fPSuUqFQSEkkkrOjo6OvuQR5q0ajiXLoPj4+lzgcTjwKACLH\n",
       "9SqXy2kzhBO8haGo+UA2wZW+p880DxeveGt9aHx9fT09ctlq3sC0NT9e6xsbjuZblSxl7wKtVotM\n",
       "m6PnXvlmZJBtX91CEMQsxyJsNlteXl4udugIghAajQYFAEhPTx9AEGQOimGY8y4oLt63KlJkdB4t\n",
       "P282Z/c/dPrDH04ktJ9P2tfWXP3+2o1vHzunEp6Xq0lsGt08KzUrcSGTQ3n3XeefLCs5UqnT6Rap\n",
       "VCoEACA7O/snvV4f5gJooLa2NsihoygKKEVRzquTND2OCpttGXdG1tOxwOlgzdvE9v30rV+m3W5I\n",
       "2jfJNQmLH85QUUzPNTwvkAx0+vVGhq2/VV9fT+dyuZ01NTXOXQOA3fGxevXq2waDYY5r8KIoij5b\n",
       "jzB5Cz2oKdOo0erOm+1tVuVtBMZXElNMRJR1fvvjx9iPLQ/RjpuB0Xu/Vp7YmH1864YNG3oNBkPw\n",
       "VD7mzp1rJUnSzZUBmqsBggAgGFC/n6jVA+3WoN3tu1Gg39cg2tEx1Cg3CIJHsclxnl2HRorMN8Z0\n",
       "fRW+vr7GJ36Q56Z5h9BIknzGAMJWtvdQYs0EZe3/FSwqk5tpXEMb1JoYD+n8xRdQJl/fMPEgzKhS\n",
       "L40KCD7lGzg92qIyovpb3y/msT2un2psvFpWVvYyl8vtc1nDSXFXV5c7iqLOtEyS5LNBAADfWeKm\n",
       "Ly4uuvR1++sfv51/P5sfnHm2/Iy+mBmwsaHJbpt+Q0jHSS7TZ/PSNVkNJ/973OxtemD1s91CPb12\n",
       "h9MfvZsk5meo1eqo5ORkxTNWn7HR1tY2l8PhOAsUiqIolCRJcETtv/61qzNySYK5trZ2TCgUUiwW\n",
       "S1FSUhLR+bA/kAzwXcAbHa/cFhrTXrJ/v+7IkSPu3Je4Xm5eboJv2wba5QbO5fQwxhsP679Y+nFO\n",
       "jgAAoKSkJILFYjnBGI1G0YYNGwYBnqRoiqIQlKKojurq6gUAAAKBgKQoiuGYkJWVpTCZTOKmI1Xd\n",
       "HwnDcm+cOnOMw+H0FxYWbqpvqv/r9EV+bky+O+/QoUPiqJRt9JphTLFHbKBCR87tWL9EPN9oNIZn\n",
       "ZWUpXHaMCQQCEgCgsrIyEgBuoGq1+qpOp4t2GPH5/BvFxcVLHXpgYGDD8ePH/56Xl2cCAMjMzOxP\n",
       "S0s7pWfow4RCbz/fAF9RT0+P9yeffHJySSqev+9nxLD1FaAlTR8vlJ8vxxzsFhUVLRMIBB0OvwaD\n",
       "YRlFUdfQkpISK0EQ9J6eHgYAQEZGxl2z2Rw0MjJCBwBITk5+xOVyfzpw4ECSw5lQKKQIbxtJm4EN\n",
       "8eZ7jPz0oNv+dK5FG/jq54eH+IFr/S1KabBy0UerAvI+++wzD4vFEpCWljYEACCTyVh2ux3FcXwS\n",
       "BQCw2WxVdXV1bzrQRURE1FVVVTn1zMzM/pkzZ35/9OjRd0pLS19RqVQIy4/tCwDgOcPTQvFQEQBA\n",
       "aWnpK0ERK2LbyVllN341GUJ4YDu8zD5bKyur7O+85tx9Z2fnO1ar9QjA04KkpaVFs2LFir8olcq7\n",
       "YWFhJpFINNnX16drbGyMjY6Ovg0AIBaLjcuXL5d3d3d7XbhwIW704b3F479MeD1qVfJ5Og/bvb4R\n",
       "LwaDMZabm9uwflNa/z/3HOIv5NsDEK7XS7FeevXPvYNLvm5S/GglCK5KpZorlUobXE8g5ObmMqVS\n",
       "6UG1Wu1BURSHoijOiRMnwgoLC7coFAqBo+9Fm0KhEKStmvvto3TeucFN7pVJYbytarXaQyqVHsRx\n",
       "3N15TF1BuBaljr4rV66wOzo63mAymXdzcnKuwwtIUVHRMqvVGkgQxMV7NXvyJijGvcNXB/7z5Zdf\n",
       "bicI4gSO40NTAgD4bVnuODIAT2pElUq1FEEQO4fD6QsPD++fqixHEATj8/ntjoCrqKhwS0hIsJWV\n",
       "leURBHEOx3G563pT3tn5+flBDAbjg6CgoMMpKSlK17GhoSFMJpMFPk04DJIkEQzDzCwW6+5UD5Oa\n",
       "mhrfO3fufECS5GHXnf8pAAAAHMfdURTdimGYPjExsTo0NHTyj2ynEplMxurs7HyHIAiKJMlSHMct\n",
       "U9k9N2vl5+cH0en0TRiGWX18fC65vnh+LxqNBq2oqFhgMpmi7XY7arVaj+zdu/fxn/l/4bSZl5fH\n",
       "5nK5CQAQMtXznCRJePpEbwOAZhzHX4ix/wHzzC/tu64gcwAAAABJRU5ErkJggg=='\n",
       "       style='height:15px; border-radius:12px; display: inline-block; float: left'></img>\n",
       "  \n",
       "\n",
       "\n",
       "</div>\n"
      ]
     },
     "metadata": {},
     "output_type": "display_data"
    }
   ],
   "source": [
    "import pandas as pd\n",
    "import numpy as np\n",
    "\n",
    "import holoviews as hv\n",
    "from holoviews import dim, opts\n",
    "import hvplot.pandas\n",
    "hv.extension('bokeh', 'matplotlib')"
   ]
  },
  {
   "cell_type": "code",
   "execution_count": 24,
   "metadata": {
    "slideshow": {
     "slide_type": "notes"
    }
   },
   "outputs": [],
   "source": [
    "p = pd.read_excel('br_terms_1990_2021.xlsx')\n",
    "\n",
    "termos = p.hvplot.line('Ano', ['Termos de troca'],\n",
    "                       height=400,\n",
    "                       width=650,\n",
    "                       rot=45,\n",
    "                       padding=0.02,\n",
    "                       group_label='Indicador',\n",
    "                       legend='bottom',\n",
    "                       cmap='Set2',\n",
    "                       ylim=(60, 130),\n",
    "                       xlim=(1990, 2021),\n",
    "                       yticks=20,\n",
    "                       xticks=24,\n",
    "                       xlabel='',\n",
    "                       ylabel='Índice 2008=100',\n",
    "                       label='Termos de troca, Brasil, 1990-2021'\n",
    "                      ).opts(fontsize={'title': 11, 'labels': 8, 'xticks': 8, 'yticks': 8})"
   ]
  },
  {
   "cell_type": "code",
   "execution_count": 25,
   "metadata": {
    "slideshow": {
     "slide_type": "slide"
    }
   },
   "outputs": [
    {
     "data": {},
     "metadata": {},
     "output_type": "display_data"
    },
    {
     "data": {
      "application/vnd.holoviews_exec.v0+json": "",
      "text/html": [
       "<div id='p2394'>\n",
       "  <div id=\"f902d187-bd52-4eef-acf6-2d250fe6365b\" data-root-id=\"p2394\" style=\"display: contents;\"></div>\n",
       "</div>\n",
       "<script type=\"application/javascript\">(function(root) {\n",
       "  var docs_json = {\"c0c19582-2243-4379-abd5-682e5ada7820\":{\"version\":\"3.1.1\",\"title\":\"Bokeh Application\",\"defs\":[{\"type\":\"model\",\"name\":\"ReactiveHTML1\"},{\"type\":\"model\",\"name\":\"FlexBox1\",\"properties\":[{\"name\":\"align_content\",\"kind\":\"Any\",\"default\":\"flex-start\"},{\"name\":\"align_items\",\"kind\":\"Any\",\"default\":\"flex-start\"},{\"name\":\"flex_direction\",\"kind\":\"Any\",\"default\":\"row\"},{\"name\":\"flex_wrap\",\"kind\":\"Any\",\"default\":\"wrap\"},{\"name\":\"justify_content\",\"kind\":\"Any\",\"default\":\"flex-start\"}]},{\"type\":\"model\",\"name\":\"FloatPanel1\",\"properties\":[{\"name\":\"config\",\"kind\":\"Any\",\"default\":{\"type\":\"map\"}},{\"name\":\"contained\",\"kind\":\"Any\",\"default\":true},{\"name\":\"position\",\"kind\":\"Any\",\"default\":\"right-top\"},{\"name\":\"offsetx\",\"kind\":\"Any\",\"default\":null},{\"name\":\"offsety\",\"kind\":\"Any\",\"default\":null},{\"name\":\"theme\",\"kind\":\"Any\",\"default\":\"primary\"},{\"name\":\"status\",\"kind\":\"Any\",\"default\":\"normalized\"}]},{\"type\":\"model\",\"name\":\"GridStack1\",\"properties\":[{\"name\":\"mode\",\"kind\":\"Any\",\"default\":\"warn\"},{\"name\":\"ncols\",\"kind\":\"Any\",\"default\":null},{\"name\":\"nrows\",\"kind\":\"Any\",\"default\":null},{\"name\":\"allow_resize\",\"kind\":\"Any\",\"default\":true},{\"name\":\"allow_drag\",\"kind\":\"Any\",\"default\":true},{\"name\":\"state\",\"kind\":\"Any\",\"default\":[]}]},{\"type\":\"model\",\"name\":\"drag1\",\"properties\":[{\"name\":\"slider_width\",\"kind\":\"Any\",\"default\":5},{\"name\":\"slider_color\",\"kind\":\"Any\",\"default\":\"black\"},{\"name\":\"value\",\"kind\":\"Any\",\"default\":50}]},{\"type\":\"model\",\"name\":\"click1\",\"properties\":[{\"name\":\"terminal_output\",\"kind\":\"Any\",\"default\":\"\"},{\"name\":\"debug_name\",\"kind\":\"Any\",\"default\":\"\"},{\"name\":\"clears\",\"kind\":\"Any\",\"default\":0}]},{\"type\":\"model\",\"name\":\"FastWrapper1\",\"properties\":[{\"name\":\"object\",\"kind\":\"Any\",\"default\":null},{\"name\":\"style\",\"kind\":\"Any\",\"default\":null}]},{\"type\":\"model\",\"name\":\"NotificationAreaBase1\",\"properties\":[{\"name\":\"js_events\",\"kind\":\"Any\",\"default\":{\"type\":\"map\"}},{\"name\":\"position\",\"kind\":\"Any\",\"default\":\"bottom-right\"},{\"name\":\"_clear\",\"kind\":\"Any\",\"default\":0}]},{\"type\":\"model\",\"name\":\"NotificationArea1\",\"properties\":[{\"name\":\"js_events\",\"kind\":\"Any\",\"default\":{\"type\":\"map\"}},{\"name\":\"notifications\",\"kind\":\"Any\",\"default\":[]},{\"name\":\"position\",\"kind\":\"Any\",\"default\":\"bottom-right\"},{\"name\":\"_clear\",\"kind\":\"Any\",\"default\":0},{\"name\":\"types\",\"kind\":\"Any\",\"default\":[{\"type\":\"map\",\"entries\":[[\"type\",\"warning\"],[\"background\",\"#ffc107\"],[\"icon\",{\"type\":\"map\",\"entries\":[[\"className\",\"fas fa-exclamation-triangle\"],[\"tagName\",\"i\"],[\"color\",\"white\"]]}]]},{\"type\":\"map\",\"entries\":[[\"type\",\"info\"],[\"background\",\"#007bff\"],[\"icon\",{\"type\":\"map\",\"entries\":[[\"className\",\"fas fa-info-circle\"],[\"tagName\",\"i\"],[\"color\",\"white\"]]}]]}]}]},{\"type\":\"model\",\"name\":\"Notification\",\"properties\":[{\"name\":\"background\",\"kind\":\"Any\",\"default\":null},{\"name\":\"duration\",\"kind\":\"Any\",\"default\":3000},{\"name\":\"icon\",\"kind\":\"Any\",\"default\":null},{\"name\":\"message\",\"kind\":\"Any\",\"default\":\"\"},{\"name\":\"notification_type\",\"kind\":\"Any\",\"default\":null},{\"name\":\"_destroyed\",\"kind\":\"Any\",\"default\":false}]},{\"type\":\"model\",\"name\":\"TemplateActions1\",\"properties\":[{\"name\":\"open_modal\",\"kind\":\"Any\",\"default\":0},{\"name\":\"close_modal\",\"kind\":\"Any\",\"default\":0}]},{\"type\":\"model\",\"name\":\"BootstrapTemplateActions1\",\"properties\":[{\"name\":\"open_modal\",\"kind\":\"Any\",\"default\":0},{\"name\":\"close_modal\",\"kind\":\"Any\",\"default\":0}]},{\"type\":\"model\",\"name\":\"MaterialTemplateActions1\",\"properties\":[{\"name\":\"open_modal\",\"kind\":\"Any\",\"default\":0},{\"name\":\"close_modal\",\"kind\":\"Any\",\"default\":0}]}],\"roots\":[{\"type\":\"object\",\"name\":\"Row\",\"id\":\"p2394\",\"attributes\":{\"name\":\"Row03791\",\"tags\":[\"embedded\"],\"stylesheets\":[\"\\n:host(.pn-loading.pn-arc):before, .pn-loading.pn-arc:before {\\n  background-image: url(\\\"data:image/svg+xml;base64,PHN2ZyB4bWxucz0iaHR0cDovL3d3dy53My5vcmcvMjAwMC9zdmciIHN0eWxlPSJtYXJnaW46IGF1dG87IGJhY2tncm91bmQ6IG5vbmU7IGRpc3BsYXk6IGJsb2NrOyBzaGFwZS1yZW5kZXJpbmc6IGF1dG87IiB2aWV3Qm94PSIwIDAgMTAwIDEwMCIgcHJlc2VydmVBc3BlY3RSYXRpbz0ieE1pZFlNaWQiPiAgPGNpcmNsZSBjeD0iNTAiIGN5PSI1MCIgZmlsbD0ibm9uZSIgc3Ryb2tlPSIjYzNjM2MzIiBzdHJva2Utd2lkdGg9IjEwIiByPSIzNSIgc3Ryb2tlLWRhc2hhcnJheT0iMTY0LjkzMzYxNDMxMzQ2NDE1IDU2Ljk3Nzg3MTQzNzgyMTM4Ij4gICAgPGFuaW1hdGVUcmFuc2Zvcm0gYXR0cmlidXRlTmFtZT0idHJhbnNmb3JtIiB0eXBlPSJyb3RhdGUiIHJlcGVhdENvdW50PSJpbmRlZmluaXRlIiBkdXI9IjFzIiB2YWx1ZXM9IjAgNTAgNTA7MzYwIDUwIDUwIiBrZXlUaW1lcz0iMDsxIj48L2FuaW1hdGVUcmFuc2Zvcm0+ICA8L2NpcmNsZT48L3N2Zz4=\\\");\\n  background-size: auto calc(min(50%, 400px));\\n}\",{\"type\":\"object\",\"name\":\"ImportedStyleSheet\",\"id\":\"p2397\",\"attributes\":{\"url\":\"https://cdn.holoviz.org/panel/1.2.3/dist/css/loading.css\"}},{\"type\":\"object\",\"name\":\"ImportedStyleSheet\",\"id\":\"p2490\",\"attributes\":{\"url\":\"https://cdn.holoviz.org/panel/1.2.3/dist/css/listpanel.css\"}},{\"type\":\"object\",\"name\":\"ImportedStyleSheet\",\"id\":\"p2395\",\"attributes\":{\"url\":\"https://cdn.holoviz.org/panel/1.2.3/dist/bundled/theme/default.css\"}},{\"type\":\"object\",\"name\":\"ImportedStyleSheet\",\"id\":\"p2396\",\"attributes\":{\"url\":\"https://cdn.holoviz.org/panel/1.2.3/dist/bundled/theme/native.css\"}}],\"min_width\":650,\"margin\":0,\"sizing_mode\":\"stretch_width\",\"align\":\"start\",\"children\":[{\"type\":\"object\",\"name\":\"Spacer\",\"id\":\"p2398\",\"attributes\":{\"name\":\"HSpacer03802\",\"stylesheets\":[\"\\n:host(.pn-loading.pn-arc):before, .pn-loading.pn-arc:before {\\n  background-image: url(\\\"data:image/svg+xml;base64,PHN2ZyB4bWxucz0iaHR0cDovL3d3dy53My5vcmcvMjAwMC9zdmciIHN0eWxlPSJtYXJnaW46IGF1dG87IGJhY2tncm91bmQ6IG5vbmU7IGRpc3BsYXk6IGJsb2NrOyBzaGFwZS1yZW5kZXJpbmc6IGF1dG87IiB2aWV3Qm94PSIwIDAgMTAwIDEwMCIgcHJlc2VydmVBc3BlY3RSYXRpbz0ieE1pZFlNaWQiPiAgPGNpcmNsZSBjeD0iNTAiIGN5PSI1MCIgZmlsbD0ibm9uZSIgc3Ryb2tlPSIjYzNjM2MzIiBzdHJva2Utd2lkdGg9IjEwIiByPSIzNSIgc3Ryb2tlLWRhc2hhcnJheT0iMTY0LjkzMzYxNDMxMzQ2NDE1IDU2Ljk3Nzg3MTQzNzgyMTM4Ij4gICAgPGFuaW1hdGVUcmFuc2Zvcm0gYXR0cmlidXRlTmFtZT0idHJhbnNmb3JtIiB0eXBlPSJyb3RhdGUiIHJlcGVhdENvdW50PSJpbmRlZmluaXRlIiBkdXI9IjFzIiB2YWx1ZXM9IjAgNTAgNTA7MzYwIDUwIDUwIiBrZXlUaW1lcz0iMDsxIj48L2FuaW1hdGVUcmFuc2Zvcm0+ICA8L2NpcmNsZT48L3N2Zz4=\\\");\\n  background-size: auto calc(min(50%, 400px));\\n}\",{\"id\":\"p2397\"},{\"id\":\"p2395\"},{\"id\":\"p2396\"}],\"margin\":0,\"sizing_mode\":\"stretch_width\",\"align\":\"start\"}},{\"type\":\"object\",\"name\":\"Figure\",\"id\":\"p2404\",\"attributes\":{\"width\":650,\"height\":400,\"margin\":[5,10],\"sizing_mode\":\"fixed\",\"align\":\"start\",\"x_range\":{\"type\":\"object\",\"name\":\"Range1d\",\"id\":\"p2399\",\"attributes\":{\"tags\":[[[\"Ano\",\"Ano\",null]],[]],\"start\":1990,\"end\":2021,\"reset_start\":1990,\"reset_end\":2021}},\"y_range\":{\"type\":\"object\",\"name\":\"Range1d\",\"id\":\"p2400\",\"attributes\":{\"tags\":[[[\"Termos de troca\",\"Termos de troca\",null]],{\"type\":\"map\",\"entries\":[[\"invert_yaxis\",false],[\"autorange\",false]]}],\"start\":60,\"end\":130,\"reset_start\":60,\"reset_end\":130}},\"x_scale\":{\"type\":\"object\",\"name\":\"LinearScale\",\"id\":\"p2416\"},\"y_scale\":{\"type\":\"object\",\"name\":\"LinearScale\",\"id\":\"p2417\"},\"title\":{\"type\":\"object\",\"name\":\"Title\",\"id\":\"p2407\",\"attributes\":{\"text\":\"Termos de troca, Brasil, 1990-2021\",\"text_color\":\"black\",\"text_font_size\":\"11pt\"}},\"renderers\":[{\"type\":\"object\",\"name\":\"GlyphRenderer\",\"id\":\"p2456\",\"attributes\":{\"data_source\":{\"type\":\"object\",\"name\":\"ColumnDataSource\",\"id\":\"p2446\",\"attributes\":{\"selected\":{\"type\":\"object\",\"name\":\"Selection\",\"id\":\"p2448\",\"attributes\":{\"indices\":[],\"line_indices\":[]}},\"selection_policy\":{\"type\":\"object\",\"name\":\"UnionRenderers\",\"id\":\"p2447\"},\"data\":{\"type\":\"map\",\"entries\":[[\"Ano\",{\"type\":\"ndarray\",\"array\":{\"type\":\"bytes\",\"data\":\"xgcAAMcHAADIBwAAyQcAAMoHAADLBwAAzAcAAM0HAADOBwAAzwcAANAHAADRBwAA0gcAANMHAADUBwAA1QcAANYHAADXBwAA2AcAANkHAADaBwAA2wcAANwHAADdBwAA3gcAAN8HAADgBwAA4QcAAOIHAADjBwAA5AcAAOUHAAA=\"},\"shape\":[32],\"dtype\":\"int32\",\"order\":\"little\"}],[\"Termos de troca\",{\"type\":\"ndarray\",\"array\":{\"type\":\"bytes\",\"data\":\"XI/C9SgMUUDsUbgehQtSQGZmZmZmZlJAexSuR+GaUkDhehSuR0FVQFyPwvUonFdAmpmZmZkpV0BI4XoUrodYQMP1KFyPMlhApHA9CtcjVUBcj8L1KMxVQM3MzMzMvFVAcT0K16NwVUAAAAAAADBVQArXo3A9ilVAuB6F61G4VUDhehSuR+FWQPYoXI/CtVdAzczMzMyMWEBI4XoUrsdXQClcj8L1uFtAZmZmZmbGXUApXI/C9ShcQIXrUbgeZVtAmpmZmZl5WkCkcD0K12NXQFK4HoXr8VdA4XoUrkdRWUAAAAAAAABZQJqZmZmZCVlAj8L1KFwvWUDD9Shcj9JcQA==\"},\"shape\":[32],\"dtype\":\"float64\",\"order\":\"little\"}],[\"Termos_de_troca\",{\"type\":\"ndarray\",\"array\":{\"type\":\"bytes\",\"data\":\"XI/C9SgMUUDsUbgehQtSQGZmZmZmZlJAexSuR+GaUkDhehSuR0FVQFyPwvUonFdAmpmZmZkpV0BI4XoUrodYQMP1KFyPMlhApHA9CtcjVUBcj8L1KMxVQM3MzMzMvFVAcT0K16NwVUAAAAAAADBVQArXo3A9ilVAuB6F61G4VUDhehSuR+FWQPYoXI/CtVdAzczMzMyMWEBI4XoUrsdXQClcj8L1uFtAZmZmZmbGXUApXI/C9ShcQIXrUbgeZVtAmpmZmZl5WkCkcD0K12NXQFK4HoXr8VdA4XoUrkdRWUAAAAAAAABZQJqZmZmZCVlAj8L1KFwvWUDD9Shcj9JcQA==\"},\"shape\":[32],\"dtype\":\"float64\",\"order\":\"little\"}]]}}},\"view\":{\"type\":\"object\",\"name\":\"CDSView\",\"id\":\"p2457\",\"attributes\":{\"filter\":{\"type\":\"object\",\"name\":\"AllIndices\",\"id\":\"p2458\"}}},\"glyph\":{\"type\":\"object\",\"name\":\"Line\",\"id\":\"p2453\",\"attributes\":{\"tags\":[\"apply_ranges\"],\"x\":{\"type\":\"field\",\"field\":\"Ano\"},\"y\":{\"type\":\"field\",\"field\":\"Termos de troca\"},\"line_color\":\"#30a2da\",\"line_width\":2}},\"selection_glyph\":{\"type\":\"object\",\"name\":\"Line\",\"id\":\"p2459\",\"attributes\":{\"tags\":[\"apply_ranges\"],\"x\":{\"type\":\"field\",\"field\":\"Ano\"},\"y\":{\"type\":\"field\",\"field\":\"Termos de troca\"},\"line_color\":\"#30a2da\",\"line_width\":2}},\"nonselection_glyph\":{\"type\":\"object\",\"name\":\"Line\",\"id\":\"p2454\",\"attributes\":{\"tags\":[\"apply_ranges\"],\"x\":{\"type\":\"field\",\"field\":\"Ano\"},\"y\":{\"type\":\"field\",\"field\":\"Termos de troca\"},\"line_color\":\"#30a2da\",\"line_alpha\":0.1,\"line_width\":2}},\"muted_glyph\":{\"type\":\"object\",\"name\":\"Line\",\"id\":\"p2455\",\"attributes\":{\"tags\":[\"apply_ranges\"],\"x\":{\"type\":\"field\",\"field\":\"Ano\"},\"y\":{\"type\":\"field\",\"field\":\"Termos de troca\"},\"line_color\":\"#30a2da\",\"line_alpha\":0.2,\"line_width\":2}}}}],\"toolbar\":{\"type\":\"object\",\"name\":\"Toolbar\",\"id\":\"p2412\",\"attributes\":{\"tools\":[{\"type\":\"object\",\"name\":\"HoverTool\",\"id\":\"p2403\",\"attributes\":{\"tags\":[\"hv_created\"],\"renderers\":[{\"id\":\"p2456\"}],\"tooltips\":[[\"Ano\",\"@{Ano}\"],[\"Termos de troca\",\"@{Termos_de_troca}\"]]}},{\"type\":\"object\",\"name\":\"SaveTool\",\"id\":\"p2432\"},{\"type\":\"object\",\"name\":\"PanTool\",\"id\":\"p2433\"},{\"type\":\"object\",\"name\":\"WheelZoomTool\",\"id\":\"p2434\"},{\"type\":\"object\",\"name\":\"BoxZoomTool\",\"id\":\"p2435\",\"attributes\":{\"overlay\":{\"type\":\"object\",\"name\":\"BoxAnnotation\",\"id\":\"p2436\",\"attributes\":{\"syncable\":false,\"level\":\"overlay\",\"visible\":false,\"left_units\":\"canvas\",\"right_units\":\"canvas\",\"bottom_units\":\"canvas\",\"top_units\":\"canvas\",\"line_color\":\"black\",\"line_alpha\":1.0,\"line_width\":2,\"line_dash\":[4,4],\"fill_color\":\"lightgrey\",\"fill_alpha\":0.5}}}},{\"type\":\"object\",\"name\":\"ResetTool\",\"id\":\"p2437\"}],\"active_drag\":{\"id\":\"p2433\"},\"active_scroll\":{\"id\":\"p2434\"}}},\"left\":[{\"type\":\"object\",\"name\":\"LinearAxis\",\"id\":\"p2425\",\"attributes\":{\"ticker\":{\"type\":\"object\",\"name\":\"BasicTicker\",\"id\":\"p2427\",\"attributes\":{\"desired_num_ticks\":20,\"mantissas\":[1,2,5]}},\"formatter\":{\"type\":\"object\",\"name\":\"BasicTickFormatter\",\"id\":\"p2426\"},\"axis_label\":\"\\u00cdndice 2008=100\",\"axis_label_text_font_size\":\"8pt\",\"major_label_policy\":{\"type\":\"object\",\"name\":\"AllLabels\",\"id\":\"p2428\"},\"major_label_text_font_size\":\"8pt\"}}],\"below\":[{\"type\":\"object\",\"name\":\"LinearAxis\",\"id\":\"p2418\",\"attributes\":{\"ticker\":{\"type\":\"object\",\"name\":\"BasicTicker\",\"id\":\"p2420\",\"attributes\":{\"desired_num_ticks\":24,\"mantissas\":[1,2,5]}},\"formatter\":{\"type\":\"object\",\"name\":\"BasicTickFormatter\",\"id\":\"p2419\"},\"axis_label\":\"\",\"axis_label_text_font_size\":\"8pt\",\"major_label_orientation\":0.7853981633974483,\"major_label_policy\":{\"type\":\"object\",\"name\":\"AllLabels\",\"id\":\"p2421\"},\"major_label_text_font_size\":\"8pt\"}}],\"center\":[{\"type\":\"object\",\"name\":\"Grid\",\"id\":\"p2424\",\"attributes\":{\"axis\":{\"id\":\"p2418\"},\"grid_line_color\":null}},{\"type\":\"object\",\"name\":\"Grid\",\"id\":\"p2431\",\"attributes\":{\"dimension\":1,\"axis\":{\"id\":\"p2425\"},\"grid_line_color\":null}}],\"min_border_top\":10,\"min_border_bottom\":10,\"min_border_left\":10,\"min_border_right\":10,\"output_backend\":\"webgl\"}},{\"type\":\"object\",\"name\":\"Spacer\",\"id\":\"p2488\",\"attributes\":{\"name\":\"HSpacer03805\",\"stylesheets\":[\"\\n:host(.pn-loading.pn-arc):before, .pn-loading.pn-arc:before {\\n  background-image: url(\\\"data:image/svg+xml;base64,PHN2ZyB4bWxucz0iaHR0cDovL3d3dy53My5vcmcvMjAwMC9zdmciIHN0eWxlPSJtYXJnaW46IGF1dG87IGJhY2tncm91bmQ6IG5vbmU7IGRpc3BsYXk6IGJsb2NrOyBzaGFwZS1yZW5kZXJpbmc6IGF1dG87IiB2aWV3Qm94PSIwIDAgMTAwIDEwMCIgcHJlc2VydmVBc3BlY3RSYXRpbz0ieE1pZFlNaWQiPiAgPGNpcmNsZSBjeD0iNTAiIGN5PSI1MCIgZmlsbD0ibm9uZSIgc3Ryb2tlPSIjYzNjM2MzIiBzdHJva2Utd2lkdGg9IjEwIiByPSIzNSIgc3Ryb2tlLWRhc2hhcnJheT0iMTY0LjkzMzYxNDMxMzQ2NDE1IDU2Ljk3Nzg3MTQzNzgyMTM4Ij4gICAgPGFuaW1hdGVUcmFuc2Zvcm0gYXR0cmlidXRlTmFtZT0idHJhbnNmb3JtIiB0eXBlPSJyb3RhdGUiIHJlcGVhdENvdW50PSJpbmRlZmluaXRlIiBkdXI9IjFzIiB2YWx1ZXM9IjAgNTAgNTA7MzYwIDUwIDUwIiBrZXlUaW1lcz0iMDsxIj48L2FuaW1hdGVUcmFuc2Zvcm0+ICA8L2NpcmNsZT48L3N2Zz4=\\\");\\n  background-size: auto calc(min(50%, 400px));\\n}\",{\"id\":\"p2397\"},{\"id\":\"p2395\"},{\"id\":\"p2396\"}],\"margin\":0,\"sizing_mode\":\"stretch_width\",\"align\":\"start\"}}]}}],\"callbacks\":{\"type\":\"map\"}}};\n",
       "  var render_items = [{\"docid\":\"c0c19582-2243-4379-abd5-682e5ada7820\",\"roots\":{\"p2394\":\"f902d187-bd52-4eef-acf6-2d250fe6365b\"},\"root_ids\":[\"p2394\"]}];\n",
       "  var docs = Object.values(docs_json)\n",
       "  if (!docs) {\n",
       "    return\n",
       "  }\n",
       "  const py_version = docs[0].version.replace('rc', '-rc.').replace('.dev', '-dev.')\n",
       "  const is_dev = py_version.indexOf(\"+\") !== -1 || py_version.indexOf(\"-\") !== -1\n",
       "  function embed_document(root) {\n",
       "    var Bokeh = get_bokeh(root)\n",
       "    Bokeh.embed.embed_items_notebook(docs_json, render_items);\n",
       "    for (const render_item of render_items) {\n",
       "      for (const root_id of render_item.root_ids) {\n",
       "\tconst id_el = document.getElementById(root_id)\n",
       "\tif (id_el.children.length && (id_el.children[0].className === 'bk-root')) {\n",
       "\t  const root_el = id_el.children[0]\n",
       "\t  root_el.id = root_el.id + '-rendered'\n",
       "\t}\n",
       "      }\n",
       "    }\n",
       "  }\n",
       "  function get_bokeh(root) {\n",
       "    if (root.Bokeh === undefined) {\n",
       "      return null\n",
       "    } else if (root.Bokeh.version !== py_version && !is_dev) {\n",
       "      if (root.Bokeh.versions === undefined || !root.Bokeh.versions.has(py_version)) {\n",
       "\treturn null\n",
       "      }\n",
       "      return root.Bokeh.versions.get(py_version);\n",
       "    } else if (root.Bokeh.version === py_version) {\n",
       "      return root.Bokeh\n",
       "    }\n",
       "    return null\n",
       "  }\n",
       "  function is_loaded(root) {\n",
       "    var Bokeh = get_bokeh(root)\n",
       "    return (Bokeh != null && Bokeh.Panel !== undefined)\n",
       "  }\n",
       "  if (is_loaded(root)) {\n",
       "    embed_document(root);\n",
       "  } else {\n",
       "    var attempts = 0;\n",
       "    var timer = setInterval(function(root) {\n",
       "      if (is_loaded(root)) {\n",
       "        clearInterval(timer);\n",
       "        embed_document(root);\n",
       "      } else if (document.readyState == \"complete\") {\n",
       "        attempts++;\n",
       "        if (attempts > 200) {\n",
       "          clearInterval(timer);\n",
       "\t  var Bokeh = get_bokeh(root)\n",
       "\t  if (Bokeh == null || Bokeh.Panel == null) {\n",
       "            console.warn(\"Panel: ERROR: Unable to run Panel code because Bokeh or Panel library is missing\");\n",
       "\t  } else {\n",
       "\t    console.warn(\"Panel: WARNING: Attempting to render but not all required libraries could be resolved.\")\n",
       "\t    embed_document(root)\n",
       "\t  }\n",
       "        }\n",
       "      }\n",
       "    }, 25, root)\n",
       "  }\n",
       "})(window);</script>"
      ],
      "text/plain": [
       ":Curve   [Ano]   (Termos de troca)"
      ]
     },
     "execution_count": 25,
     "metadata": {
      "application/vnd.holoviews_exec.v0+json": {
       "id": "p2394"
      }
     },
     "output_type": "execute_result"
    }
   ],
   "source": [
    "termos"
   ]
  },
  {
   "cell_type": "code",
   "execution_count": 26,
   "metadata": {
    "slideshow": {
     "slide_type": "notes"
    }
   },
   "outputs": [],
   "source": [
    "r = pd.read_excel('br_reservas_debt_1975_2018.xlsx')\n",
    "\n",
    "reservas_div = r.hvplot.bar('Ano', ['Reservas (% dívida externa)'],\n",
    "                            height=450,\n",
    "                            width=750,\n",
    "                            rot=40,\n",
    "                            padding=0.02,\n",
    "                            legend='top_left',\n",
    "                            color='dodgerblue',\n",
    "                            yticks=18,\n",
    "                            ylim=(0,90),\n",
    "                            xlabel='',\n",
    "                            ylabel='% da dívida externa total',\n",
    "                            xlim=(1978, 2018),\n",
    "                            yformatter='%.1f',\n",
    "                            label='Reservas internacionais - % da dívida externa total, Brasil, 1975-2018'\n",
    "                           ).opts(fontsize={'title': 11, 'labels': 8, 'xticks': 8, \n",
    "                                            'yticks': 8, 'legend': 8}).opts(multi_level=False)"
   ]
  },
  {
   "cell_type": "code",
   "execution_count": 27,
   "metadata": {
    "slideshow": {
     "slide_type": "slide"
    }
   },
   "outputs": [
    {
     "data": {},
     "metadata": {},
     "output_type": "display_data"
    },
    {
     "data": {
      "application/vnd.holoviews_exec.v0+json": "",
      "text/html": [
       "<div id='p2547'>\n",
       "  <div id=\"ca1c719e-2612-4882-97f0-1465c51ba435\" data-root-id=\"p2547\" style=\"display: contents;\"></div>\n",
       "</div>\n",
       "<script type=\"application/javascript\">(function(root) {\n",
       "  var docs_json = {\"3dbf25e5-7eee-4494-8f88-0c556a461839\":{\"version\":\"3.1.1\",\"title\":\"Bokeh Application\",\"defs\":[{\"type\":\"model\",\"name\":\"ReactiveHTML1\"},{\"type\":\"model\",\"name\":\"FlexBox1\",\"properties\":[{\"name\":\"align_content\",\"kind\":\"Any\",\"default\":\"flex-start\"},{\"name\":\"align_items\",\"kind\":\"Any\",\"default\":\"flex-start\"},{\"name\":\"flex_direction\",\"kind\":\"Any\",\"default\":\"row\"},{\"name\":\"flex_wrap\",\"kind\":\"Any\",\"default\":\"wrap\"},{\"name\":\"justify_content\",\"kind\":\"Any\",\"default\":\"flex-start\"}]},{\"type\":\"model\",\"name\":\"FloatPanel1\",\"properties\":[{\"name\":\"config\",\"kind\":\"Any\",\"default\":{\"type\":\"map\"}},{\"name\":\"contained\",\"kind\":\"Any\",\"default\":true},{\"name\":\"position\",\"kind\":\"Any\",\"default\":\"right-top\"},{\"name\":\"offsetx\",\"kind\":\"Any\",\"default\":null},{\"name\":\"offsety\",\"kind\":\"Any\",\"default\":null},{\"name\":\"theme\",\"kind\":\"Any\",\"default\":\"primary\"},{\"name\":\"status\",\"kind\":\"Any\",\"default\":\"normalized\"}]},{\"type\":\"model\",\"name\":\"GridStack1\",\"properties\":[{\"name\":\"mode\",\"kind\":\"Any\",\"default\":\"warn\"},{\"name\":\"ncols\",\"kind\":\"Any\",\"default\":null},{\"name\":\"nrows\",\"kind\":\"Any\",\"default\":null},{\"name\":\"allow_resize\",\"kind\":\"Any\",\"default\":true},{\"name\":\"allow_drag\",\"kind\":\"Any\",\"default\":true},{\"name\":\"state\",\"kind\":\"Any\",\"default\":[]}]},{\"type\":\"model\",\"name\":\"drag1\",\"properties\":[{\"name\":\"slider_width\",\"kind\":\"Any\",\"default\":5},{\"name\":\"slider_color\",\"kind\":\"Any\",\"default\":\"black\"},{\"name\":\"value\",\"kind\":\"Any\",\"default\":50}]},{\"type\":\"model\",\"name\":\"click1\",\"properties\":[{\"name\":\"terminal_output\",\"kind\":\"Any\",\"default\":\"\"},{\"name\":\"debug_name\",\"kind\":\"Any\",\"default\":\"\"},{\"name\":\"clears\",\"kind\":\"Any\",\"default\":0}]},{\"type\":\"model\",\"name\":\"FastWrapper1\",\"properties\":[{\"name\":\"object\",\"kind\":\"Any\",\"default\":null},{\"name\":\"style\",\"kind\":\"Any\",\"default\":null}]},{\"type\":\"model\",\"name\":\"NotificationAreaBase1\",\"properties\":[{\"name\":\"js_events\",\"kind\":\"Any\",\"default\":{\"type\":\"map\"}},{\"name\":\"position\",\"kind\":\"Any\",\"default\":\"bottom-right\"},{\"name\":\"_clear\",\"kind\":\"Any\",\"default\":0}]},{\"type\":\"model\",\"name\":\"NotificationArea1\",\"properties\":[{\"name\":\"js_events\",\"kind\":\"Any\",\"default\":{\"type\":\"map\"}},{\"name\":\"notifications\",\"kind\":\"Any\",\"default\":[]},{\"name\":\"position\",\"kind\":\"Any\",\"default\":\"bottom-right\"},{\"name\":\"_clear\",\"kind\":\"Any\",\"default\":0},{\"name\":\"types\",\"kind\":\"Any\",\"default\":[{\"type\":\"map\",\"entries\":[[\"type\",\"warning\"],[\"background\",\"#ffc107\"],[\"icon\",{\"type\":\"map\",\"entries\":[[\"className\",\"fas fa-exclamation-triangle\"],[\"tagName\",\"i\"],[\"color\",\"white\"]]}]]},{\"type\":\"map\",\"entries\":[[\"type\",\"info\"],[\"background\",\"#007bff\"],[\"icon\",{\"type\":\"map\",\"entries\":[[\"className\",\"fas fa-info-circle\"],[\"tagName\",\"i\"],[\"color\",\"white\"]]}]]}]}]},{\"type\":\"model\",\"name\":\"Notification\",\"properties\":[{\"name\":\"background\",\"kind\":\"Any\",\"default\":null},{\"name\":\"duration\",\"kind\":\"Any\",\"default\":3000},{\"name\":\"icon\",\"kind\":\"Any\",\"default\":null},{\"name\":\"message\",\"kind\":\"Any\",\"default\":\"\"},{\"name\":\"notification_type\",\"kind\":\"Any\",\"default\":null},{\"name\":\"_destroyed\",\"kind\":\"Any\",\"default\":false}]},{\"type\":\"model\",\"name\":\"TemplateActions1\",\"properties\":[{\"name\":\"open_modal\",\"kind\":\"Any\",\"default\":0},{\"name\":\"close_modal\",\"kind\":\"Any\",\"default\":0}]},{\"type\":\"model\",\"name\":\"BootstrapTemplateActions1\",\"properties\":[{\"name\":\"open_modal\",\"kind\":\"Any\",\"default\":0},{\"name\":\"close_modal\",\"kind\":\"Any\",\"default\":0}]},{\"type\":\"model\",\"name\":\"MaterialTemplateActions1\",\"properties\":[{\"name\":\"open_modal\",\"kind\":\"Any\",\"default\":0},{\"name\":\"close_modal\",\"kind\":\"Any\",\"default\":0}]}],\"roots\":[{\"type\":\"object\",\"name\":\"Row\",\"id\":\"p2547\",\"attributes\":{\"name\":\"Row03914\",\"tags\":[\"embedded\"],\"stylesheets\":[\"\\n:host(.pn-loading.pn-arc):before, .pn-loading.pn-arc:before {\\n  background-image: url(\\\"data:image/svg+xml;base64,PHN2ZyB4bWxucz0iaHR0cDovL3d3dy53My5vcmcvMjAwMC9zdmciIHN0eWxlPSJtYXJnaW46IGF1dG87IGJhY2tncm91bmQ6IG5vbmU7IGRpc3BsYXk6IGJsb2NrOyBzaGFwZS1yZW5kZXJpbmc6IGF1dG87IiB2aWV3Qm94PSIwIDAgMTAwIDEwMCIgcHJlc2VydmVBc3BlY3RSYXRpbz0ieE1pZFlNaWQiPiAgPGNpcmNsZSBjeD0iNTAiIGN5PSI1MCIgZmlsbD0ibm9uZSIgc3Ryb2tlPSIjYzNjM2MzIiBzdHJva2Utd2lkdGg9IjEwIiByPSIzNSIgc3Ryb2tlLWRhc2hhcnJheT0iMTY0LjkzMzYxNDMxMzQ2NDE1IDU2Ljk3Nzg3MTQzNzgyMTM4Ij4gICAgPGFuaW1hdGVUcmFuc2Zvcm0gYXR0cmlidXRlTmFtZT0idHJhbnNmb3JtIiB0eXBlPSJyb3RhdGUiIHJlcGVhdENvdW50PSJpbmRlZmluaXRlIiBkdXI9IjFzIiB2YWx1ZXM9IjAgNTAgNTA7MzYwIDUwIDUwIiBrZXlUaW1lcz0iMDsxIj48L2FuaW1hdGVUcmFuc2Zvcm0+ICA8L2NpcmNsZT48L3N2Zz4=\\\");\\n  background-size: auto calc(min(50%, 400px));\\n}\",{\"type\":\"object\",\"name\":\"ImportedStyleSheet\",\"id\":\"p2550\",\"attributes\":{\"url\":\"https://cdn.holoviz.org/panel/1.2.3/dist/css/loading.css\"}},{\"type\":\"object\",\"name\":\"ImportedStyleSheet\",\"id\":\"p2645\",\"attributes\":{\"url\":\"https://cdn.holoviz.org/panel/1.2.3/dist/css/listpanel.css\"}},{\"type\":\"object\",\"name\":\"ImportedStyleSheet\",\"id\":\"p2548\",\"attributes\":{\"url\":\"https://cdn.holoviz.org/panel/1.2.3/dist/bundled/theme/default.css\"}},{\"type\":\"object\",\"name\":\"ImportedStyleSheet\",\"id\":\"p2549\",\"attributes\":{\"url\":\"https://cdn.holoviz.org/panel/1.2.3/dist/bundled/theme/native.css\"}}],\"min_width\":750,\"margin\":0,\"sizing_mode\":\"stretch_width\",\"align\":\"start\",\"children\":[{\"type\":\"object\",\"name\":\"Spacer\",\"id\":\"p2551\",\"attributes\":{\"name\":\"HSpacer03925\",\"stylesheets\":[\"\\n:host(.pn-loading.pn-arc):before, .pn-loading.pn-arc:before {\\n  background-image: url(\\\"data:image/svg+xml;base64,PHN2ZyB4bWxucz0iaHR0cDovL3d3dy53My5vcmcvMjAwMC9zdmciIHN0eWxlPSJtYXJnaW46IGF1dG87IGJhY2tncm91bmQ6IG5vbmU7IGRpc3BsYXk6IGJsb2NrOyBzaGFwZS1yZW5kZXJpbmc6IGF1dG87IiB2aWV3Qm94PSIwIDAgMTAwIDEwMCIgcHJlc2VydmVBc3BlY3RSYXRpbz0ieE1pZFlNaWQiPiAgPGNpcmNsZSBjeD0iNTAiIGN5PSI1MCIgZmlsbD0ibm9uZSIgc3Ryb2tlPSIjYzNjM2MzIiBzdHJva2Utd2lkdGg9IjEwIiByPSIzNSIgc3Ryb2tlLWRhc2hhcnJheT0iMTY0LjkzMzYxNDMxMzQ2NDE1IDU2Ljk3Nzg3MTQzNzgyMTM4Ij4gICAgPGFuaW1hdGVUcmFuc2Zvcm0gYXR0cmlidXRlTmFtZT0idHJhbnNmb3JtIiB0eXBlPSJyb3RhdGUiIHJlcGVhdENvdW50PSJpbmRlZmluaXRlIiBkdXI9IjFzIiB2YWx1ZXM9IjAgNTAgNTA7MzYwIDUwIDUwIiBrZXlUaW1lcz0iMDsxIj48L2FuaW1hdGVUcmFuc2Zvcm0+ICA8L2NpcmNsZT48L3N2Zz4=\\\");\\n  background-size: auto calc(min(50%, 400px));\\n}\",{\"id\":\"p2550\"},{\"id\":\"p2548\"},{\"id\":\"p2549\"}],\"margin\":0,\"sizing_mode\":\"stretch_width\",\"align\":\"start\"}},{\"type\":\"object\",\"name\":\"Figure\",\"id\":\"p2557\",\"attributes\":{\"width\":750,\"height\":450,\"margin\":[5,10],\"sizing_mode\":\"fixed\",\"align\":\"start\",\"x_range\":{\"type\":\"object\",\"name\":\"FactorRange\",\"id\":\"p2552\",\"attributes\":{\"tags\":[[[\"Ano\",\"Ano\",null]],[]],\"factors\":[[\"1975\",\"Reservas (% d\\u00edvida externa)\"],[\"1976\",\"Reservas (% d\\u00edvida externa)\"],[\"1977\",\"Reservas (% d\\u00edvida externa)\"],[\"1978\",\"Reservas (% d\\u00edvida externa)\"],[\"1979\",\"Reservas (% d\\u00edvida externa)\"],[\"1980\",\"Reservas (% d\\u00edvida externa)\"],[\"1981\",\"Reservas (% d\\u00edvida externa)\"],[\"1982\",\"Reservas (% d\\u00edvida externa)\"],[\"1983\",\"Reservas (% d\\u00edvida externa)\"],[\"1984\",\"Reservas (% d\\u00edvida externa)\"],[\"1985\",\"Reservas (% d\\u00edvida externa)\"],[\"1986\",\"Reservas (% d\\u00edvida externa)\"],[\"1987\",\"Reservas (% d\\u00edvida externa)\"],[\"1988\",\"Reservas (% d\\u00edvida externa)\"],[\"1989\",\"Reservas (% d\\u00edvida externa)\"],[\"1990\",\"Reservas (% d\\u00edvida externa)\"],[\"1991\",\"Reservas (% d\\u00edvida externa)\"],[\"1992\",\"Reservas (% d\\u00edvida externa)\"],[\"1993\",\"Reservas (% d\\u00edvida externa)\"],[\"1994\",\"Reservas (% d\\u00edvida externa)\"],[\"1995\",\"Reservas (% d\\u00edvida externa)\"],[\"1996\",\"Reservas (% d\\u00edvida externa)\"],[\"1997\",\"Reservas (% d\\u00edvida externa)\"],[\"1998\",\"Reservas (% d\\u00edvida externa)\"],[\"1999\",\"Reservas (% d\\u00edvida externa)\"],[\"2000\",\"Reservas (% d\\u00edvida externa)\"],[\"2001\",\"Reservas (% d\\u00edvida externa)\"],[\"2002\",\"Reservas (% d\\u00edvida externa)\"],[\"2003\",\"Reservas (% d\\u00edvida externa)\"],[\"2004\",\"Reservas (% d\\u00edvida externa)\"],[\"2005\",\"Reservas (% d\\u00edvida externa)\"],[\"2006\",\"Reservas (% d\\u00edvida externa)\"],[\"2007\",\"Reservas (% d\\u00edvida externa)\"],[\"2008\",\"Reservas (% d\\u00edvida externa)\"],[\"2009\",\"Reservas (% d\\u00edvida externa)\"],[\"2010\",\"Reservas (% d\\u00edvida externa)\"],[\"2011\",\"Reservas (% d\\u00edvida externa)\"],[\"2012\",\"Reservas (% d\\u00edvida externa)\"],[\"2013\",\"Reservas (% d\\u00edvida externa)\"],[\"2014\",\"Reservas (% d\\u00edvida externa)\"],[\"2015\",\"Reservas (% d\\u00edvida externa)\"],[\"2016\",\"Reservas (% d\\u00edvida externa)\"],[\"2017\",\"Reservas (% d\\u00edvida externa)\"],[\"2018\",\"Reservas (% d\\u00edvida externa)\"]]}},\"y_range\":{\"type\":\"object\",\"name\":\"Range1d\",\"id\":\"p2553\",\"attributes\":{\"tags\":[[[\"value\",\"value\",null]],{\"type\":\"map\",\"entries\":[[\"invert_yaxis\",false],[\"autorange\",false]]}],\"end\":90,\"reset_start\":0,\"reset_end\":90}},\"x_scale\":{\"type\":\"object\",\"name\":\"CategoricalScale\",\"id\":\"p2569\"},\"y_scale\":{\"type\":\"object\",\"name\":\"LinearScale\",\"id\":\"p2570\"},\"title\":{\"type\":\"object\",\"name\":\"Title\",\"id\":\"p2560\",\"attributes\":{\"text\":\"Reservas internacionais - % da d\\u00edvida externa total, Brasil, 1975-2018\",\"text_color\":\"black\",\"text_font_size\":\"11pt\"}},\"renderers\":[{\"type\":\"object\",\"name\":\"GlyphRenderer\",\"id\":\"p2609\",\"attributes\":{\"data_source\":{\"type\":\"object\",\"name\":\"ColumnDataSource\",\"id\":\"p2599\",\"attributes\":{\"selected\":{\"type\":\"object\",\"name\":\"Selection\",\"id\":\"p2601\",\"attributes\":{\"indices\":[],\"line_indices\":[]}},\"selection_policy\":{\"type\":\"object\",\"name\":\"UnionRenderers\",\"id\":\"p2600\"},\"data\":{\"type\":\"map\",\"entries\":[[\"xoffsets\",[[\"1975\",\"Reservas (% d\\u00edvida externa)\"],[\"1976\",\"Reservas (% d\\u00edvida externa)\"],[\"1977\",\"Reservas (% d\\u00edvida externa)\"],[\"1978\",\"Reservas (% d\\u00edvida externa)\"],[\"1979\",\"Reservas (% d\\u00edvida externa)\"],[\"1980\",\"Reservas (% d\\u00edvida externa)\"],[\"1981\",\"Reservas (% d\\u00edvida externa)\"],[\"1982\",\"Reservas (% d\\u00edvida externa)\"],[\"1983\",\"Reservas (% d\\u00edvida externa)\"],[\"1984\",\"Reservas (% d\\u00edvida externa)\"],[\"1985\",\"Reservas (% d\\u00edvida externa)\"],[\"1986\",\"Reservas (% d\\u00edvida externa)\"],[\"1987\",\"Reservas (% d\\u00edvida externa)\"],[\"1988\",\"Reservas (% d\\u00edvida externa)\"],[\"1989\",\"Reservas (% d\\u00edvida externa)\"],[\"1990\",\"Reservas (% d\\u00edvida externa)\"],[\"1991\",\"Reservas (% d\\u00edvida externa)\"],[\"1992\",\"Reservas (% d\\u00edvida externa)\"],[\"1993\",\"Reservas (% d\\u00edvida externa)\"],[\"1994\",\"Reservas (% d\\u00edvida externa)\"],[\"1995\",\"Reservas (% d\\u00edvida externa)\"],[\"1996\",\"Reservas (% d\\u00edvida externa)\"],[\"1997\",\"Reservas (% d\\u00edvida externa)\"],[\"1998\",\"Reservas (% d\\u00edvida externa)\"],[\"1999\",\"Reservas (% d\\u00edvida externa)\"],[\"2000\",\"Reservas (% d\\u00edvida externa)\"],[\"2001\",\"Reservas (% d\\u00edvida externa)\"],[\"2002\",\"Reservas (% d\\u00edvida externa)\"],[\"2003\",\"Reservas (% d\\u00edvida externa)\"],[\"2004\",\"Reservas (% d\\u00edvida externa)\"],[\"2005\",\"Reservas (% d\\u00edvida externa)\"],[\"2006\",\"Reservas (% d\\u00edvida externa)\"],[\"2007\",\"Reservas (% d\\u00edvida externa)\"],[\"2008\",\"Reservas (% d\\u00edvida externa)\"],[\"2009\",\"Reservas (% d\\u00edvida externa)\"],[\"2010\",\"Reservas (% d\\u00edvida externa)\"],[\"2011\",\"Reservas (% d\\u00edvida externa)\"],[\"2012\",\"Reservas (% d\\u00edvida externa)\"],[\"2013\",\"Reservas (% d\\u00edvida externa)\"],[\"2014\",\"Reservas (% d\\u00edvida externa)\"],[\"2015\",\"Reservas (% d\\u00edvida externa)\"],[\"2016\",\"Reservas (% d\\u00edvida externa)\"],[\"2017\",\"Reservas (% d\\u00edvida externa)\"],[\"2018\",\"Reservas (% d\\u00edvida externa)\"]]],[\"value\",{\"type\":\"ndarray\",\"array\":{\"type\":\"bytes\",\"data\":\"cYopFJ/+LUAEu080QbkzQAbnLvSkgjFAsWc075gmNkCcY543yNcvQHytGQwlGiNA2kKKohZDIkClBynWy+4QQFIkz94SbRJAWZD+t8/rJkA0+hHFGE4mQAnEFBti2x1AA+eF9xACG0BqkUgW3uIeQHGglsKO1yBABMDMpJSeIECJiLtX5/UeQCdyk0POVTJAUBMAJyNNNkBBdGvX8WE5QFphXgSMGkBApkxxAk+LQEDX1tLp7zw6QD5iaTYdYjJAiD+w7T2nLUDy+yQLUTorQL/1082UMS9AywrzGpZPMECv6SWOluU0QFG7CbZV/DdAiKvDpK6PPED+px6pBhdGQMGRfr9E6FJAUCn+XGhsUkArBbv8XSxVQPDLRJdieVRArfhgZMPHVUCVLQi7ci1VQOSLyzL7ilJAPTUlARJSUEAb7JlKW2ZQQE1h/AHNy1BANgP6dL43UUBlnC2dHMtQQA==\"},\"shape\":[44],\"dtype\":\"float64\",\"order\":\"little\"}],[\"Ano\",[\"1975\",\"1976\",\"1977\",\"1978\",\"1979\",\"1980\",\"1981\",\"1982\",\"1983\",\"1984\",\"1985\",\"1986\",\"1987\",\"1988\",\"1989\",\"1990\",\"1991\",\"1992\",\"1993\",\"1994\",\"1995\",\"1996\",\"1997\",\"1998\",\"1999\",\"2000\",\"2001\",\"2002\",\"2003\",\"2004\",\"2005\",\"2006\",\"2007\",\"2008\",\"2009\",\"2010\",\"2011\",\"2012\",\"2013\",\"2014\",\"2015\",\"2016\",\"2017\",\"2018\"]],[\"Variable\",[\"Reservas (% d\\u00edvida externa)\",\"Reservas (% d\\u00edvida externa)\",\"Reservas (% d\\u00edvida externa)\",\"Reservas (% d\\u00edvida externa)\",\"Reservas (% d\\u00edvida externa)\",\"Reservas (% d\\u00edvida externa)\",\"Reservas (% d\\u00edvida externa)\",\"Reservas (% d\\u00edvida externa)\",\"Reservas (% d\\u00edvida externa)\",\"Reservas (% d\\u00edvida externa)\",\"Reservas (% d\\u00edvida externa)\",\"Reservas (% d\\u00edvida externa)\",\"Reservas (% d\\u00edvida externa)\",\"Reservas (% d\\u00edvida externa)\",\"Reservas (% d\\u00edvida externa)\",\"Reservas (% d\\u00edvida externa)\",\"Reservas (% d\\u00edvida externa)\",\"Reservas (% d\\u00edvida externa)\",\"Reservas (% d\\u00edvida externa)\",\"Reservas (% d\\u00edvida externa)\",\"Reservas (% d\\u00edvida externa)\",\"Reservas (% d\\u00edvida externa)\",\"Reservas (% d\\u00edvida externa)\",\"Reservas (% d\\u00edvida externa)\",\"Reservas (% d\\u00edvida externa)\",\"Reservas (% d\\u00edvida externa)\",\"Reservas (% d\\u00edvida externa)\",\"Reservas (% d\\u00edvida externa)\",\"Reservas (% d\\u00edvida externa)\",\"Reservas (% d\\u00edvida externa)\",\"Reservas (% d\\u00edvida externa)\",\"Reservas (% d\\u00edvida externa)\",\"Reservas (% d\\u00edvida externa)\",\"Reservas (% d\\u00edvida externa)\",\"Reservas (% d\\u00edvida externa)\",\"Reservas (% d\\u00edvida externa)\",\"Reservas (% d\\u00edvida externa)\",\"Reservas (% d\\u00edvida externa)\",\"Reservas (% d\\u00edvida externa)\",\"Reservas (% d\\u00edvida externa)\",\"Reservas (% d\\u00edvida externa)\",\"Reservas (% d\\u00edvida externa)\",\"Reservas (% d\\u00edvida externa)\",\"Reservas (% d\\u00edvida externa)\"]]]}}},\"view\":{\"type\":\"object\",\"name\":\"CDSView\",\"id\":\"p2610\",\"attributes\":{\"filter\":{\"type\":\"object\",\"name\":\"AllIndices\",\"id\":\"p2611\"}}},\"glyph\":{\"type\":\"object\",\"name\":\"VBar\",\"id\":\"p2606\",\"attributes\":{\"tags\":[\"apply_ranges\"],\"x\":{\"type\":\"field\",\"field\":\"xoffsets\"},\"width\":{\"type\":\"value\",\"value\":0.8},\"top\":{\"type\":\"field\",\"field\":\"value\"},\"fill_color\":{\"type\":\"field\",\"field\":\"Variable\",\"transform\":{\"type\":\"object\",\"name\":\"CategoricalColorMapper\",\"id\":\"p2598\",\"attributes\":{\"palette\":[\"dodgerblue\"],\"factors\":[\"Reservas (% d\\u00edvida externa)\"]}}},\"hatch_color\":{\"type\":\"field\",\"field\":\"Variable\",\"transform\":{\"id\":\"p2598\"}}}},\"selection_glyph\":{\"type\":\"object\",\"name\":\"VBar\",\"id\":\"p2614\",\"attributes\":{\"tags\":[\"apply_ranges\"],\"x\":{\"type\":\"field\",\"field\":\"xoffsets\"},\"width\":{\"type\":\"value\",\"value\":0.8},\"bottom\":{\"type\":\"value\",\"value\":0},\"top\":{\"type\":\"field\",\"field\":\"value\"},\"line_color\":{\"type\":\"value\",\"value\":\"black\"},\"line_alpha\":{\"type\":\"value\",\"value\":1.0},\"line_width\":{\"type\":\"value\",\"value\":1},\"line_join\":{\"type\":\"value\",\"value\":\"bevel\"},\"line_cap\":{\"type\":\"value\",\"value\":\"butt\"},\"line_dash\":{\"type\":\"value\",\"value\":[]},\"line_dash_offset\":{\"type\":\"value\",\"value\":0},\"fill_color\":{\"type\":\"field\",\"field\":\"Variable\",\"transform\":{\"id\":\"p2598\"}},\"fill_alpha\":{\"type\":\"value\",\"value\":1.0},\"hatch_color\":{\"type\":\"field\",\"field\":\"Variable\",\"transform\":{\"id\":\"p2598\"}},\"hatch_alpha\":{\"type\":\"value\",\"value\":1.0},\"hatch_scale\":{\"type\":\"value\",\"value\":12.0},\"hatch_pattern\":{\"type\":\"value\",\"value\":null},\"hatch_weight\":{\"type\":\"value\",\"value\":1.0}}},\"nonselection_glyph\":{\"type\":\"object\",\"name\":\"VBar\",\"id\":\"p2607\",\"attributes\":{\"tags\":[\"apply_ranges\"],\"x\":{\"type\":\"field\",\"field\":\"xoffsets\"},\"width\":{\"type\":\"value\",\"value\":0.8},\"top\":{\"type\":\"field\",\"field\":\"value\"},\"line_alpha\":{\"type\":\"value\",\"value\":0.1},\"fill_color\":{\"type\":\"field\",\"field\":\"Variable\",\"transform\":{\"id\":\"p2598\"}},\"fill_alpha\":{\"type\":\"value\",\"value\":0.1},\"hatch_color\":{\"type\":\"field\",\"field\":\"Variable\",\"transform\":{\"id\":\"p2598\"}},\"hatch_alpha\":{\"type\":\"value\",\"value\":0.1}}},\"muted_glyph\":{\"type\":\"object\",\"name\":\"VBar\",\"id\":\"p2608\",\"attributes\":{\"tags\":[\"apply_ranges\"],\"x\":{\"type\":\"field\",\"field\":\"xoffsets\"},\"width\":{\"type\":\"value\",\"value\":0.8},\"top\":{\"type\":\"field\",\"field\":\"value\"},\"line_alpha\":{\"type\":\"value\",\"value\":0.2},\"fill_color\":{\"type\":\"field\",\"field\":\"Variable\",\"transform\":{\"id\":\"p2598\"}},\"fill_alpha\":{\"type\":\"value\",\"value\":0.2},\"hatch_color\":{\"type\":\"field\",\"field\":\"Variable\",\"transform\":{\"id\":\"p2598\"}},\"hatch_alpha\":{\"type\":\"value\",\"value\":0.2}}}}}],\"toolbar\":{\"type\":\"object\",\"name\":\"Toolbar\",\"id\":\"p2565\",\"attributes\":{\"tools\":[{\"type\":\"object\",\"name\":\"HoverTool\",\"id\":\"p2556\",\"attributes\":{\"tags\":[\"hv_created\"],\"renderers\":[{\"id\":\"p2609\"}],\"tooltips\":[[\"Ano\",\"@{Ano}\"],[\"Variable\",\"@{Variable}\"],[\"value\",\"@{value}\"]]}},{\"type\":\"object\",\"name\":\"SaveTool\",\"id\":\"p2584\"},{\"type\":\"object\",\"name\":\"PanTool\",\"id\":\"p2585\"},{\"type\":\"object\",\"name\":\"WheelZoomTool\",\"id\":\"p2586\"},{\"type\":\"object\",\"name\":\"BoxZoomTool\",\"id\":\"p2587\",\"attributes\":{\"overlay\":{\"type\":\"object\",\"name\":\"BoxAnnotation\",\"id\":\"p2588\",\"attributes\":{\"syncable\":false,\"level\":\"overlay\",\"visible\":false,\"left_units\":\"canvas\",\"right_units\":\"canvas\",\"bottom_units\":\"canvas\",\"top_units\":\"canvas\",\"line_color\":\"black\",\"line_alpha\":1.0,\"line_width\":2,\"line_dash\":[4,4],\"fill_color\":\"lightgrey\",\"fill_alpha\":0.5}}}},{\"type\":\"object\",\"name\":\"ResetTool\",\"id\":\"p2589\"}],\"active_drag\":{\"id\":\"p2585\"},\"active_scroll\":{\"id\":\"p2586\"}}},\"left\":[{\"type\":\"object\",\"name\":\"LinearAxis\",\"id\":\"p2577\",\"attributes\":{\"ticker\":{\"type\":\"object\",\"name\":\"BasicTicker\",\"id\":\"p2579\",\"attributes\":{\"desired_num_ticks\":18,\"mantissas\":[1,2,5]}},\"formatter\":{\"type\":\"object\",\"name\":\"PrintfTickFormatter\",\"id\":\"p2616\",\"attributes\":{\"format\":\"%.1f\"}},\"axis_label\":\"% da d\\u00edvida externa total\",\"axis_label_text_font_size\":\"8pt\",\"major_label_policy\":{\"type\":\"object\",\"name\":\"AllLabels\",\"id\":\"p2580\"},\"major_label_text_font_size\":\"8pt\"}}],\"below\":[{\"type\":\"object\",\"name\":\"CategoricalAxis\",\"id\":\"p2571\",\"attributes\":{\"ticker\":{\"type\":\"object\",\"name\":\"CategoricalTicker\",\"id\":\"p2573\"},\"formatter\":{\"type\":\"object\",\"name\":\"CategoricalTickFormatter\",\"id\":\"p2572\"},\"axis_label\":\"\",\"axis_label_text_font_size\":\"8pt\",\"major_label_policy\":{\"type\":\"object\",\"name\":\"AllLabels\",\"id\":\"p2574\"},\"major_label_text_alpha\":0,\"major_label_text_font_size\":\"1px\",\"major_label_text_line_height\":0,\"major_tick_line_alpha\":0,\"separator_line_width\":0,\"group_text_color\":\"black\",\"group_text_font_size\":\"8pt\",\"group_text_font_style\":\"normal\",\"group_text_align\":\"center\",\"group_label_orientation\":0.6981317007977318}}],\"center\":[{\"type\":\"object\",\"name\":\"Grid\",\"id\":\"p2576\",\"attributes\":{\"axis\":{\"id\":\"p2571\"},\"grid_line_color\":null}},{\"type\":\"object\",\"name\":\"Grid\",\"id\":\"p2583\",\"attributes\":{\"dimension\":1,\"axis\":{\"id\":\"p2577\"},\"grid_line_color\":null}},{\"type\":\"object\",\"name\":\"Legend\",\"id\":\"p2612\",\"attributes\":{\"location\":\"top_left\",\"items\":[{\"type\":\"object\",\"name\":\"LegendItem\",\"id\":\"p2613\",\"attributes\":{\"label\":{\"type\":\"field\",\"field\":\"Variable\"},\"renderers\":[{\"id\":\"p2609\"}]}}]}}],\"min_border_top\":10,\"min_border_bottom\":10,\"min_border_left\":10,\"min_border_right\":10,\"output_backend\":\"webgl\"}},{\"type\":\"object\",\"name\":\"Spacer\",\"id\":\"p2643\",\"attributes\":{\"name\":\"HSpacer03928\",\"stylesheets\":[\"\\n:host(.pn-loading.pn-arc):before, .pn-loading.pn-arc:before {\\n  background-image: url(\\\"data:image/svg+xml;base64,PHN2ZyB4bWxucz0iaHR0cDovL3d3dy53My5vcmcvMjAwMC9zdmciIHN0eWxlPSJtYXJnaW46IGF1dG87IGJhY2tncm91bmQ6IG5vbmU7IGRpc3BsYXk6IGJsb2NrOyBzaGFwZS1yZW5kZXJpbmc6IGF1dG87IiB2aWV3Qm94PSIwIDAgMTAwIDEwMCIgcHJlc2VydmVBc3BlY3RSYXRpbz0ieE1pZFlNaWQiPiAgPGNpcmNsZSBjeD0iNTAiIGN5PSI1MCIgZmlsbD0ibm9uZSIgc3Ryb2tlPSIjYzNjM2MzIiBzdHJva2Utd2lkdGg9IjEwIiByPSIzNSIgc3Ryb2tlLWRhc2hhcnJheT0iMTY0LjkzMzYxNDMxMzQ2NDE1IDU2Ljk3Nzg3MTQzNzgyMTM4Ij4gICAgPGFuaW1hdGVUcmFuc2Zvcm0gYXR0cmlidXRlTmFtZT0idHJhbnNmb3JtIiB0eXBlPSJyb3RhdGUiIHJlcGVhdENvdW50PSJpbmRlZmluaXRlIiBkdXI9IjFzIiB2YWx1ZXM9IjAgNTAgNTA7MzYwIDUwIDUwIiBrZXlUaW1lcz0iMDsxIj48L2FuaW1hdGVUcmFuc2Zvcm0+ICA8L2NpcmNsZT48L3N2Zz4=\\\");\\n  background-size: auto calc(min(50%, 400px));\\n}\",{\"id\":\"p2550\"},{\"id\":\"p2548\"},{\"id\":\"p2549\"}],\"margin\":0,\"sizing_mode\":\"stretch_width\",\"align\":\"start\"}}]}}],\"callbacks\":{\"type\":\"map\"}}};\n",
       "  var render_items = [{\"docid\":\"3dbf25e5-7eee-4494-8f88-0c556a461839\",\"roots\":{\"p2547\":\"ca1c719e-2612-4882-97f0-1465c51ba435\"},\"root_ids\":[\"p2547\"]}];\n",
       "  var docs = Object.values(docs_json)\n",
       "  if (!docs) {\n",
       "    return\n",
       "  }\n",
       "  const py_version = docs[0].version.replace('rc', '-rc.').replace('.dev', '-dev.')\n",
       "  const is_dev = py_version.indexOf(\"+\") !== -1 || py_version.indexOf(\"-\") !== -1\n",
       "  function embed_document(root) {\n",
       "    var Bokeh = get_bokeh(root)\n",
       "    Bokeh.embed.embed_items_notebook(docs_json, render_items);\n",
       "    for (const render_item of render_items) {\n",
       "      for (const root_id of render_item.root_ids) {\n",
       "\tconst id_el = document.getElementById(root_id)\n",
       "\tif (id_el.children.length && (id_el.children[0].className === 'bk-root')) {\n",
       "\t  const root_el = id_el.children[0]\n",
       "\t  root_el.id = root_el.id + '-rendered'\n",
       "\t}\n",
       "      }\n",
       "    }\n",
       "  }\n",
       "  function get_bokeh(root) {\n",
       "    if (root.Bokeh === undefined) {\n",
       "      return null\n",
       "    } else if (root.Bokeh.version !== py_version && !is_dev) {\n",
       "      if (root.Bokeh.versions === undefined || !root.Bokeh.versions.has(py_version)) {\n",
       "\treturn null\n",
       "      }\n",
       "      return root.Bokeh.versions.get(py_version);\n",
       "    } else if (root.Bokeh.version === py_version) {\n",
       "      return root.Bokeh\n",
       "    }\n",
       "    return null\n",
       "  }\n",
       "  function is_loaded(root) {\n",
       "    var Bokeh = get_bokeh(root)\n",
       "    return (Bokeh != null && Bokeh.Panel !== undefined)\n",
       "  }\n",
       "  if (is_loaded(root)) {\n",
       "    embed_document(root);\n",
       "  } else {\n",
       "    var attempts = 0;\n",
       "    var timer = setInterval(function(root) {\n",
       "      if (is_loaded(root)) {\n",
       "        clearInterval(timer);\n",
       "        embed_document(root);\n",
       "      } else if (document.readyState == \"complete\") {\n",
       "        attempts++;\n",
       "        if (attempts > 200) {\n",
       "          clearInterval(timer);\n",
       "\t  var Bokeh = get_bokeh(root)\n",
       "\t  if (Bokeh == null || Bokeh.Panel == null) {\n",
       "            console.warn(\"Panel: ERROR: Unable to run Panel code because Bokeh or Panel library is missing\");\n",
       "\t  } else {\n",
       "\t    console.warn(\"Panel: WARNING: Attempting to render but not all required libraries could be resolved.\")\n",
       "\t    embed_document(root)\n",
       "\t  }\n",
       "        }\n",
       "      }\n",
       "    }, 25, root)\n",
       "  }\n",
       "})(window);</script>"
      ],
      "text/plain": [
       ":Bars   [Ano,Variable]   (value)"
      ]
     },
     "execution_count": 27,
     "metadata": {
      "application/vnd.holoviews_exec.v0+json": {
       "id": "p2547"
      }
     },
     "output_type": "execute_result"
    }
   ],
   "source": [
    "reservas_div"
   ]
  },
  {
   "cell_type": "code",
   "execution_count": 28,
   "metadata": {
    "slideshow": {
     "slide_type": "notes"
    }
   },
   "outputs": [],
   "source": [
    "r = pd.read_excel('br_reservas_imp_1975_2018.xlsx')\n",
    "\n",
    "reservas_imp = r.hvplot.bar('Ano', ['Reservas (meses de importações)'],\n",
    "                            height=450,\n",
    "                            width=750,\n",
    "                            rot=40,\n",
    "                            padding=0.02,\n",
    "                            legend='top_left',\n",
    "                            color='salmon',\n",
    "                            yticks=18,\n",
    "                            xlabel='',\n",
    "                            ylabel='número de meses',\n",
    "                            xlim=(1975, 2018),\n",
    "                            yformatter='%.0f',\n",
    "                            label='Total das reservas internacionais, Brasil, 1975-2018 (em meses de importações)'\n",
    "                           ).opts(fontsize={'title': 11, 'labels': 8, 'xticks': 8, \n",
    "                                            'yticks': 8, 'legend': 8}).opts(multi_level=False)"
   ]
  },
  {
   "cell_type": "code",
   "execution_count": 29,
   "metadata": {
    "slideshow": {
     "slide_type": "slide"
    }
   },
   "outputs": [
    {
     "data": {},
     "metadata": {},
     "output_type": "display_data"
    },
    {
     "data": {
      "application/vnd.holoviews_exec.v0+json": "",
      "text/html": [
       "<div id='p2696'>\n",
       "  <div id=\"caec756f-2ee3-4169-9040-b7dcc502dfce\" data-root-id=\"p2696\" style=\"display: contents;\"></div>\n",
       "</div>\n",
       "<script type=\"application/javascript\">(function(root) {\n",
       "  var docs_json = {\"375b1240-24bc-48c1-97ea-9922a766b20b\":{\"version\":\"3.1.1\",\"title\":\"Bokeh Application\",\"defs\":[{\"type\":\"model\",\"name\":\"ReactiveHTML1\"},{\"type\":\"model\",\"name\":\"FlexBox1\",\"properties\":[{\"name\":\"align_content\",\"kind\":\"Any\",\"default\":\"flex-start\"},{\"name\":\"align_items\",\"kind\":\"Any\",\"default\":\"flex-start\"},{\"name\":\"flex_direction\",\"kind\":\"Any\",\"default\":\"row\"},{\"name\":\"flex_wrap\",\"kind\":\"Any\",\"default\":\"wrap\"},{\"name\":\"justify_content\",\"kind\":\"Any\",\"default\":\"flex-start\"}]},{\"type\":\"model\",\"name\":\"FloatPanel1\",\"properties\":[{\"name\":\"config\",\"kind\":\"Any\",\"default\":{\"type\":\"map\"}},{\"name\":\"contained\",\"kind\":\"Any\",\"default\":true},{\"name\":\"position\",\"kind\":\"Any\",\"default\":\"right-top\"},{\"name\":\"offsetx\",\"kind\":\"Any\",\"default\":null},{\"name\":\"offsety\",\"kind\":\"Any\",\"default\":null},{\"name\":\"theme\",\"kind\":\"Any\",\"default\":\"primary\"},{\"name\":\"status\",\"kind\":\"Any\",\"default\":\"normalized\"}]},{\"type\":\"model\",\"name\":\"GridStack1\",\"properties\":[{\"name\":\"mode\",\"kind\":\"Any\",\"default\":\"warn\"},{\"name\":\"ncols\",\"kind\":\"Any\",\"default\":null},{\"name\":\"nrows\",\"kind\":\"Any\",\"default\":null},{\"name\":\"allow_resize\",\"kind\":\"Any\",\"default\":true},{\"name\":\"allow_drag\",\"kind\":\"Any\",\"default\":true},{\"name\":\"state\",\"kind\":\"Any\",\"default\":[]}]},{\"type\":\"model\",\"name\":\"drag1\",\"properties\":[{\"name\":\"slider_width\",\"kind\":\"Any\",\"default\":5},{\"name\":\"slider_color\",\"kind\":\"Any\",\"default\":\"black\"},{\"name\":\"value\",\"kind\":\"Any\",\"default\":50}]},{\"type\":\"model\",\"name\":\"click1\",\"properties\":[{\"name\":\"terminal_output\",\"kind\":\"Any\",\"default\":\"\"},{\"name\":\"debug_name\",\"kind\":\"Any\",\"default\":\"\"},{\"name\":\"clears\",\"kind\":\"Any\",\"default\":0}]},{\"type\":\"model\",\"name\":\"FastWrapper1\",\"properties\":[{\"name\":\"object\",\"kind\":\"Any\",\"default\":null},{\"name\":\"style\",\"kind\":\"Any\",\"default\":null}]},{\"type\":\"model\",\"name\":\"NotificationAreaBase1\",\"properties\":[{\"name\":\"js_events\",\"kind\":\"Any\",\"default\":{\"type\":\"map\"}},{\"name\":\"position\",\"kind\":\"Any\",\"default\":\"bottom-right\"},{\"name\":\"_clear\",\"kind\":\"Any\",\"default\":0}]},{\"type\":\"model\",\"name\":\"NotificationArea1\",\"properties\":[{\"name\":\"js_events\",\"kind\":\"Any\",\"default\":{\"type\":\"map\"}},{\"name\":\"notifications\",\"kind\":\"Any\",\"default\":[]},{\"name\":\"position\",\"kind\":\"Any\",\"default\":\"bottom-right\"},{\"name\":\"_clear\",\"kind\":\"Any\",\"default\":0},{\"name\":\"types\",\"kind\":\"Any\",\"default\":[{\"type\":\"map\",\"entries\":[[\"type\",\"warning\"],[\"background\",\"#ffc107\"],[\"icon\",{\"type\":\"map\",\"entries\":[[\"className\",\"fas fa-exclamation-triangle\"],[\"tagName\",\"i\"],[\"color\",\"white\"]]}]]},{\"type\":\"map\",\"entries\":[[\"type\",\"info\"],[\"background\",\"#007bff\"],[\"icon\",{\"type\":\"map\",\"entries\":[[\"className\",\"fas fa-info-circle\"],[\"tagName\",\"i\"],[\"color\",\"white\"]]}]]}]}]},{\"type\":\"model\",\"name\":\"Notification\",\"properties\":[{\"name\":\"background\",\"kind\":\"Any\",\"default\":null},{\"name\":\"duration\",\"kind\":\"Any\",\"default\":3000},{\"name\":\"icon\",\"kind\":\"Any\",\"default\":null},{\"name\":\"message\",\"kind\":\"Any\",\"default\":\"\"},{\"name\":\"notification_type\",\"kind\":\"Any\",\"default\":null},{\"name\":\"_destroyed\",\"kind\":\"Any\",\"default\":false}]},{\"type\":\"model\",\"name\":\"TemplateActions1\",\"properties\":[{\"name\":\"open_modal\",\"kind\":\"Any\",\"default\":0},{\"name\":\"close_modal\",\"kind\":\"Any\",\"default\":0}]},{\"type\":\"model\",\"name\":\"BootstrapTemplateActions1\",\"properties\":[{\"name\":\"open_modal\",\"kind\":\"Any\",\"default\":0},{\"name\":\"close_modal\",\"kind\":\"Any\",\"default\":0}]},{\"type\":\"model\",\"name\":\"MaterialTemplateActions1\",\"properties\":[{\"name\":\"open_modal\",\"kind\":\"Any\",\"default\":0},{\"name\":\"close_modal\",\"kind\":\"Any\",\"default\":0}]}],\"roots\":[{\"type\":\"object\",\"name\":\"Row\",\"id\":\"p2696\",\"attributes\":{\"name\":\"Row04274\",\"tags\":[\"embedded\"],\"stylesheets\":[\"\\n:host(.pn-loading.pn-arc):before, .pn-loading.pn-arc:before {\\n  background-image: url(\\\"data:image/svg+xml;base64,PHN2ZyB4bWxucz0iaHR0cDovL3d3dy53My5vcmcvMjAwMC9zdmciIHN0eWxlPSJtYXJnaW46IGF1dG87IGJhY2tncm91bmQ6IG5vbmU7IGRpc3BsYXk6IGJsb2NrOyBzaGFwZS1yZW5kZXJpbmc6IGF1dG87IiB2aWV3Qm94PSIwIDAgMTAwIDEwMCIgcHJlc2VydmVBc3BlY3RSYXRpbz0ieE1pZFlNaWQiPiAgPGNpcmNsZSBjeD0iNTAiIGN5PSI1MCIgZmlsbD0ibm9uZSIgc3Ryb2tlPSIjYzNjM2MzIiBzdHJva2Utd2lkdGg9IjEwIiByPSIzNSIgc3Ryb2tlLWRhc2hhcnJheT0iMTY0LjkzMzYxNDMxMzQ2NDE1IDU2Ljk3Nzg3MTQzNzgyMTM4Ij4gICAgPGFuaW1hdGVUcmFuc2Zvcm0gYXR0cmlidXRlTmFtZT0idHJhbnNmb3JtIiB0eXBlPSJyb3RhdGUiIHJlcGVhdENvdW50PSJpbmRlZmluaXRlIiBkdXI9IjFzIiB2YWx1ZXM9IjAgNTAgNTA7MzYwIDUwIDUwIiBrZXlUaW1lcz0iMDsxIj48L2FuaW1hdGVUcmFuc2Zvcm0+ICA8L2NpcmNsZT48L3N2Zz4=\\\");\\n  background-size: auto calc(min(50%, 400px));\\n}\",{\"type\":\"object\",\"name\":\"ImportedStyleSheet\",\"id\":\"p2699\",\"attributes\":{\"url\":\"https://cdn.holoviz.org/panel/1.2.3/dist/css/loading.css\"}},{\"type\":\"object\",\"name\":\"ImportedStyleSheet\",\"id\":\"p2794\",\"attributes\":{\"url\":\"https://cdn.holoviz.org/panel/1.2.3/dist/css/listpanel.css\"}},{\"type\":\"object\",\"name\":\"ImportedStyleSheet\",\"id\":\"p2697\",\"attributes\":{\"url\":\"https://cdn.holoviz.org/panel/1.2.3/dist/bundled/theme/default.css\"}},{\"type\":\"object\",\"name\":\"ImportedStyleSheet\",\"id\":\"p2698\",\"attributes\":{\"url\":\"https://cdn.holoviz.org/panel/1.2.3/dist/bundled/theme/native.css\"}}],\"min_width\":750,\"margin\":0,\"sizing_mode\":\"stretch_width\",\"align\":\"start\",\"children\":[{\"type\":\"object\",\"name\":\"Spacer\",\"id\":\"p2700\",\"attributes\":{\"name\":\"HSpacer04285\",\"stylesheets\":[\"\\n:host(.pn-loading.pn-arc):before, .pn-loading.pn-arc:before {\\n  background-image: url(\\\"data:image/svg+xml;base64,PHN2ZyB4bWxucz0iaHR0cDovL3d3dy53My5vcmcvMjAwMC9zdmciIHN0eWxlPSJtYXJnaW46IGF1dG87IGJhY2tncm91bmQ6IG5vbmU7IGRpc3BsYXk6IGJsb2NrOyBzaGFwZS1yZW5kZXJpbmc6IGF1dG87IiB2aWV3Qm94PSIwIDAgMTAwIDEwMCIgcHJlc2VydmVBc3BlY3RSYXRpbz0ieE1pZFlNaWQiPiAgPGNpcmNsZSBjeD0iNTAiIGN5PSI1MCIgZmlsbD0ibm9uZSIgc3Ryb2tlPSIjYzNjM2MzIiBzdHJva2Utd2lkdGg9IjEwIiByPSIzNSIgc3Ryb2tlLWRhc2hhcnJheT0iMTY0LjkzMzYxNDMxMzQ2NDE1IDU2Ljk3Nzg3MTQzNzgyMTM4Ij4gICAgPGFuaW1hdGVUcmFuc2Zvcm0gYXR0cmlidXRlTmFtZT0idHJhbnNmb3JtIiB0eXBlPSJyb3RhdGUiIHJlcGVhdENvdW50PSJpbmRlZmluaXRlIiBkdXI9IjFzIiB2YWx1ZXM9IjAgNTAgNTA7MzYwIDUwIDUwIiBrZXlUaW1lcz0iMDsxIj48L2FuaW1hdGVUcmFuc2Zvcm0+ICA8L2NpcmNsZT48L3N2Zz4=\\\");\\n  background-size: auto calc(min(50%, 400px));\\n}\",{\"id\":\"p2699\"},{\"id\":\"p2697\"},{\"id\":\"p2698\"}],\"margin\":0,\"sizing_mode\":\"stretch_width\",\"align\":\"start\"}},{\"type\":\"object\",\"name\":\"Figure\",\"id\":\"p2706\",\"attributes\":{\"width\":750,\"height\":450,\"margin\":[5,10],\"sizing_mode\":\"fixed\",\"align\":\"start\",\"x_range\":{\"type\":\"object\",\"name\":\"FactorRange\",\"id\":\"p2701\",\"attributes\":{\"tags\":[[[\"Ano\",\"Ano\",null]],[]],\"factors\":[[\"1975\",\"Reservas (meses de importa\\u00e7\\u00f5es)\"],[\"1976\",\"Reservas (meses de importa\\u00e7\\u00f5es)\"],[\"1977\",\"Reservas (meses de importa\\u00e7\\u00f5es)\"],[\"1978\",\"Reservas (meses de importa\\u00e7\\u00f5es)\"],[\"1979\",\"Reservas (meses de importa\\u00e7\\u00f5es)\"],[\"1980\",\"Reservas (meses de importa\\u00e7\\u00f5es)\"],[\"1981\",\"Reservas (meses de importa\\u00e7\\u00f5es)\"],[\"1982\",\"Reservas (meses de importa\\u00e7\\u00f5es)\"],[\"1983\",\"Reservas (meses de importa\\u00e7\\u00f5es)\"],[\"1984\",\"Reservas (meses de importa\\u00e7\\u00f5es)\"],[\"1985\",\"Reservas (meses de importa\\u00e7\\u00f5es)\"],[\"1986\",\"Reservas (meses de importa\\u00e7\\u00f5es)\"],[\"1987\",\"Reservas (meses de importa\\u00e7\\u00f5es)\"],[\"1988\",\"Reservas (meses de importa\\u00e7\\u00f5es)\"],[\"1989\",\"Reservas (meses de importa\\u00e7\\u00f5es)\"],[\"1990\",\"Reservas (meses de importa\\u00e7\\u00f5es)\"],[\"1991\",\"Reservas (meses de importa\\u00e7\\u00f5es)\"],[\"1992\",\"Reservas (meses de importa\\u00e7\\u00f5es)\"],[\"1993\",\"Reservas (meses de importa\\u00e7\\u00f5es)\"],[\"1994\",\"Reservas (meses de importa\\u00e7\\u00f5es)\"],[\"1995\",\"Reservas (meses de importa\\u00e7\\u00f5es)\"],[\"1996\",\"Reservas (meses de importa\\u00e7\\u00f5es)\"],[\"1997\",\"Reservas (meses de importa\\u00e7\\u00f5es)\"],[\"1998\",\"Reservas (meses de importa\\u00e7\\u00f5es)\"],[\"1999\",\"Reservas (meses de importa\\u00e7\\u00f5es)\"],[\"2000\",\"Reservas (meses de importa\\u00e7\\u00f5es)\"],[\"2001\",\"Reservas (meses de importa\\u00e7\\u00f5es)\"],[\"2002\",\"Reservas (meses de importa\\u00e7\\u00f5es)\"],[\"2003\",\"Reservas (meses de importa\\u00e7\\u00f5es)\"],[\"2004\",\"Reservas (meses de importa\\u00e7\\u00f5es)\"],[\"2005\",\"Reservas (meses de importa\\u00e7\\u00f5es)\"],[\"2006\",\"Reservas (meses de importa\\u00e7\\u00f5es)\"],[\"2007\",\"Reservas (meses de importa\\u00e7\\u00f5es)\"],[\"2008\",\"Reservas (meses de importa\\u00e7\\u00f5es)\"],[\"2009\",\"Reservas (meses de importa\\u00e7\\u00f5es)\"],[\"2010\",\"Reservas (meses de importa\\u00e7\\u00f5es)\"],[\"2011\",\"Reservas (meses de importa\\u00e7\\u00f5es)\"],[\"2012\",\"Reservas (meses de importa\\u00e7\\u00f5es)\"],[\"2013\",\"Reservas (meses de importa\\u00e7\\u00f5es)\"],[\"2014\",\"Reservas (meses de importa\\u00e7\\u00f5es)\"],[\"2015\",\"Reservas (meses de importa\\u00e7\\u00f5es)\"],[\"2016\",\"Reservas (meses de importa\\u00e7\\u00f5es)\"],[\"2017\",\"Reservas (meses de importa\\u00e7\\u00f5es)\"],[\"2018\",\"Reservas (meses de importa\\u00e7\\u00f5es)\"]]}},\"y_range\":{\"type\":\"object\",\"name\":\"Range1d\",\"id\":\"p2702\",\"attributes\":{\"tags\":[[[\"value\",\"value\",null]],{\"type\":\"map\",\"entries\":[[\"invert_yaxis\",false],[\"autorange\",false]]}],\"end\":17.305911848509396,\"reset_start\":0.0,\"reset_end\":17.305911848509396}},\"x_scale\":{\"type\":\"object\",\"name\":\"CategoricalScale\",\"id\":\"p2718\"},\"y_scale\":{\"type\":\"object\",\"name\":\"LinearScale\",\"id\":\"p2719\"},\"title\":{\"type\":\"object\",\"name\":\"Title\",\"id\":\"p2709\",\"attributes\":{\"text\":\"Total das reservas internacionais, Brasil, 1975-2018 (em meses de importa\\u00e7\\u00f5es)\",\"text_color\":\"black\",\"text_font_size\":\"11pt\"}},\"renderers\":[{\"type\":\"object\",\"name\":\"GlyphRenderer\",\"id\":\"p2758\",\"attributes\":{\"data_source\":{\"type\":\"object\",\"name\":\"ColumnDataSource\",\"id\":\"p2748\",\"attributes\":{\"selected\":{\"type\":\"object\",\"name\":\"Selection\",\"id\":\"p2750\",\"attributes\":{\"indices\":[],\"line_indices\":[]}},\"selection_policy\":{\"type\":\"object\",\"name\":\"UnionRenderers\",\"id\":\"p2749\"},\"data\":{\"type\":\"map\",\"entries\":[[\"xoffsets\",[[\"1975\",\"Reservas (meses de importa\\u00e7\\u00f5es)\"],[\"1976\",\"Reservas (meses de importa\\u00e7\\u00f5es)\"],[\"1977\",\"Reservas (meses de importa\\u00e7\\u00f5es)\"],[\"1978\",\"Reservas (meses de importa\\u00e7\\u00f5es)\"],[\"1979\",\"Reservas (meses de importa\\u00e7\\u00f5es)\"],[\"1980\",\"Reservas (meses de importa\\u00e7\\u00f5es)\"],[\"1981\",\"Reservas (meses de importa\\u00e7\\u00f5es)\"],[\"1982\",\"Reservas (meses de importa\\u00e7\\u00f5es)\"],[\"1983\",\"Reservas (meses de importa\\u00e7\\u00f5es)\"],[\"1984\",\"Reservas (meses de importa\\u00e7\\u00f5es)\"],[\"1985\",\"Reservas (meses de importa\\u00e7\\u00f5es)\"],[\"1986\",\"Reservas (meses de importa\\u00e7\\u00f5es)\"],[\"1987\",\"Reservas (meses de importa\\u00e7\\u00f5es)\"],[\"1988\",\"Reservas (meses de importa\\u00e7\\u00f5es)\"],[\"1989\",\"Reservas (meses de importa\\u00e7\\u00f5es)\"],[\"1990\",\"Reservas (meses de importa\\u00e7\\u00f5es)\"],[\"1991\",\"Reservas (meses de importa\\u00e7\\u00f5es)\"],[\"1992\",\"Reservas (meses de importa\\u00e7\\u00f5es)\"],[\"1993\",\"Reservas (meses de importa\\u00e7\\u00f5es)\"],[\"1994\",\"Reservas (meses de importa\\u00e7\\u00f5es)\"],[\"1995\",\"Reservas (meses de importa\\u00e7\\u00f5es)\"],[\"1996\",\"Reservas (meses de importa\\u00e7\\u00f5es)\"],[\"1997\",\"Reservas (meses de importa\\u00e7\\u00f5es)\"],[\"1998\",\"Reservas (meses de importa\\u00e7\\u00f5es)\"],[\"1999\",\"Reservas (meses de importa\\u00e7\\u00f5es)\"],[\"2000\",\"Reservas (meses de importa\\u00e7\\u00f5es)\"],[\"2001\",\"Reservas (meses de importa\\u00e7\\u00f5es)\"],[\"2002\",\"Reservas (meses de importa\\u00e7\\u00f5es)\"],[\"2003\",\"Reservas (meses de importa\\u00e7\\u00f5es)\"],[\"2004\",\"Reservas (meses de importa\\u00e7\\u00f5es)\"],[\"2005\",\"Reservas (meses de importa\\u00e7\\u00f5es)\"],[\"2006\",\"Reservas (meses de importa\\u00e7\\u00f5es)\"],[\"2007\",\"Reservas (meses de importa\\u00e7\\u00f5es)\"],[\"2008\",\"Reservas (meses de importa\\u00e7\\u00f5es)\"],[\"2009\",\"Reservas (meses de importa\\u00e7\\u00f5es)\"],[\"2010\",\"Reservas (meses de importa\\u00e7\\u00f5es)\"],[\"2011\",\"Reservas (meses de importa\\u00e7\\u00f5es)\"],[\"2012\",\"Reservas (meses de importa\\u00e7\\u00f5es)\"],[\"2013\",\"Reservas (meses de importa\\u00e7\\u00f5es)\"],[\"2014\",\"Reservas (meses de importa\\u00e7\\u00f5es)\"],[\"2015\",\"Reservas (meses de importa\\u00e7\\u00f5es)\"],[\"2016\",\"Reservas (meses de importa\\u00e7\\u00f5es)\"],[\"2017\",\"Reservas (meses de importa\\u00e7\\u00f5es)\"],[\"2018\",\"Reservas (meses de importa\\u00e7\\u00f5es)\"]]],[\"value\",{\"type\":\"ndarray\",\"array\":{\"type\":\"bytes\",\"data\":\"TfZDXwmZB0BccTfOzO8RQKOmEiSpLhNAGGCm27wXG0Do8a7gE5MQQCYytlsfNQJA9Z5YxrN4AkBz9jxJ/EvzP9MpwxlT/vs/RUrUxjTtEkDPn4EszcASQJwsuXnRvQlAn1xkdMrQCUDuCJfc8LUKQPKZt5dfbQhAZ0t8fSpwB0DXzHhPwjsHQKqGDdm7uh5A3YGX/CCmIEDRqpv1SgAhQCnRf5Jh9h9AdQIxg69HIUAIMuQdneEZQLpX7GTRlBVAnuTxtshhFECm4rINYwYRQPBdSedxMBJAZSwqWgoTFkDNhwbAg/gbQLbYBBq/vBhA+A9RQTKIFECwGTEEN9saQF+upwugyyVAYYX66hYEIUC8jJMuZ1sqQBxni2LG4iRACtQjEEloJUCeNg0H7cAnQDZwoflR5SZAEGA+k5w0J0AA+OWWVTEuQKXnKpp//TBAq+2fM9ujLkCj/xljiEYrQA==\"},\"shape\":[44],\"dtype\":\"float64\",\"order\":\"little\"}],[\"Ano\",[\"1975\",\"1976\",\"1977\",\"1978\",\"1979\",\"1980\",\"1981\",\"1982\",\"1983\",\"1984\",\"1985\",\"1986\",\"1987\",\"1988\",\"1989\",\"1990\",\"1991\",\"1992\",\"1993\",\"1994\",\"1995\",\"1996\",\"1997\",\"1998\",\"1999\",\"2000\",\"2001\",\"2002\",\"2003\",\"2004\",\"2005\",\"2006\",\"2007\",\"2008\",\"2009\",\"2010\",\"2011\",\"2012\",\"2013\",\"2014\",\"2015\",\"2016\",\"2017\",\"2018\"]],[\"Variable\",[\"Reservas (meses de importa\\u00e7\\u00f5es)\",\"Reservas (meses de importa\\u00e7\\u00f5es)\",\"Reservas (meses de importa\\u00e7\\u00f5es)\",\"Reservas (meses de importa\\u00e7\\u00f5es)\",\"Reservas (meses de importa\\u00e7\\u00f5es)\",\"Reservas (meses de importa\\u00e7\\u00f5es)\",\"Reservas (meses de importa\\u00e7\\u00f5es)\",\"Reservas (meses de importa\\u00e7\\u00f5es)\",\"Reservas (meses de importa\\u00e7\\u00f5es)\",\"Reservas (meses de importa\\u00e7\\u00f5es)\",\"Reservas (meses de importa\\u00e7\\u00f5es)\",\"Reservas (meses de importa\\u00e7\\u00f5es)\",\"Reservas (meses de importa\\u00e7\\u00f5es)\",\"Reservas (meses de importa\\u00e7\\u00f5es)\",\"Reservas (meses de importa\\u00e7\\u00f5es)\",\"Reservas (meses de importa\\u00e7\\u00f5es)\",\"Reservas (meses de importa\\u00e7\\u00f5es)\",\"Reservas (meses de importa\\u00e7\\u00f5es)\",\"Reservas (meses de importa\\u00e7\\u00f5es)\",\"Reservas (meses de importa\\u00e7\\u00f5es)\",\"Reservas (meses de importa\\u00e7\\u00f5es)\",\"Reservas (meses de importa\\u00e7\\u00f5es)\",\"Reservas (meses de importa\\u00e7\\u00f5es)\",\"Reservas (meses de importa\\u00e7\\u00f5es)\",\"Reservas (meses de importa\\u00e7\\u00f5es)\",\"Reservas (meses de importa\\u00e7\\u00f5es)\",\"Reservas (meses de importa\\u00e7\\u00f5es)\",\"Reservas (meses de importa\\u00e7\\u00f5es)\",\"Reservas (meses de importa\\u00e7\\u00f5es)\",\"Reservas (meses de importa\\u00e7\\u00f5es)\",\"Reservas (meses de importa\\u00e7\\u00f5es)\",\"Reservas (meses de importa\\u00e7\\u00f5es)\",\"Reservas (meses de importa\\u00e7\\u00f5es)\",\"Reservas (meses de importa\\u00e7\\u00f5es)\",\"Reservas (meses de importa\\u00e7\\u00f5es)\",\"Reservas (meses de importa\\u00e7\\u00f5es)\",\"Reservas (meses de importa\\u00e7\\u00f5es)\",\"Reservas (meses de importa\\u00e7\\u00f5es)\",\"Reservas (meses de importa\\u00e7\\u00f5es)\",\"Reservas (meses de importa\\u00e7\\u00f5es)\",\"Reservas (meses de importa\\u00e7\\u00f5es)\",\"Reservas (meses de importa\\u00e7\\u00f5es)\",\"Reservas (meses de importa\\u00e7\\u00f5es)\",\"Reservas (meses de importa\\u00e7\\u00f5es)\"]]]}}},\"view\":{\"type\":\"object\",\"name\":\"CDSView\",\"id\":\"p2759\",\"attributes\":{\"filter\":{\"type\":\"object\",\"name\":\"AllIndices\",\"id\":\"p2760\"}}},\"glyph\":{\"type\":\"object\",\"name\":\"VBar\",\"id\":\"p2755\",\"attributes\":{\"tags\":[\"apply_ranges\"],\"x\":{\"type\":\"field\",\"field\":\"xoffsets\"},\"width\":{\"type\":\"value\",\"value\":0.8},\"top\":{\"type\":\"field\",\"field\":\"value\"},\"fill_color\":{\"type\":\"field\",\"field\":\"Variable\",\"transform\":{\"type\":\"object\",\"name\":\"CategoricalColorMapper\",\"id\":\"p2747\",\"attributes\":{\"palette\":[\"salmon\"],\"factors\":[\"Reservas (meses de importa\\u00e7\\u00f5es)\"]}}},\"hatch_color\":{\"type\":\"field\",\"field\":\"Variable\",\"transform\":{\"id\":\"p2747\"}}}},\"selection_glyph\":{\"type\":\"object\",\"name\":\"VBar\",\"id\":\"p2763\",\"attributes\":{\"tags\":[\"apply_ranges\"],\"x\":{\"type\":\"field\",\"field\":\"xoffsets\"},\"width\":{\"type\":\"value\",\"value\":0.8},\"bottom\":{\"type\":\"value\",\"value\":0},\"top\":{\"type\":\"field\",\"field\":\"value\"},\"line_color\":{\"type\":\"value\",\"value\":\"black\"},\"line_alpha\":{\"type\":\"value\",\"value\":1.0},\"line_width\":{\"type\":\"value\",\"value\":1},\"line_join\":{\"type\":\"value\",\"value\":\"bevel\"},\"line_cap\":{\"type\":\"value\",\"value\":\"butt\"},\"line_dash\":{\"type\":\"value\",\"value\":[]},\"line_dash_offset\":{\"type\":\"value\",\"value\":0},\"fill_color\":{\"type\":\"field\",\"field\":\"Variable\",\"transform\":{\"id\":\"p2747\"}},\"fill_alpha\":{\"type\":\"value\",\"value\":1.0},\"hatch_color\":{\"type\":\"field\",\"field\":\"Variable\",\"transform\":{\"id\":\"p2747\"}},\"hatch_alpha\":{\"type\":\"value\",\"value\":1.0},\"hatch_scale\":{\"type\":\"value\",\"value\":12.0},\"hatch_pattern\":{\"type\":\"value\",\"value\":null},\"hatch_weight\":{\"type\":\"value\",\"value\":1.0}}},\"nonselection_glyph\":{\"type\":\"object\",\"name\":\"VBar\",\"id\":\"p2756\",\"attributes\":{\"tags\":[\"apply_ranges\"],\"x\":{\"type\":\"field\",\"field\":\"xoffsets\"},\"width\":{\"type\":\"value\",\"value\":0.8},\"top\":{\"type\":\"field\",\"field\":\"value\"},\"line_alpha\":{\"type\":\"value\",\"value\":0.1},\"fill_color\":{\"type\":\"field\",\"field\":\"Variable\",\"transform\":{\"id\":\"p2747\"}},\"fill_alpha\":{\"type\":\"value\",\"value\":0.1},\"hatch_color\":{\"type\":\"field\",\"field\":\"Variable\",\"transform\":{\"id\":\"p2747\"}},\"hatch_alpha\":{\"type\":\"value\",\"value\":0.1}}},\"muted_glyph\":{\"type\":\"object\",\"name\":\"VBar\",\"id\":\"p2757\",\"attributes\":{\"tags\":[\"apply_ranges\"],\"x\":{\"type\":\"field\",\"field\":\"xoffsets\"},\"width\":{\"type\":\"value\",\"value\":0.8},\"top\":{\"type\":\"field\",\"field\":\"value\"},\"line_alpha\":{\"type\":\"value\",\"value\":0.2},\"fill_color\":{\"type\":\"field\",\"field\":\"Variable\",\"transform\":{\"id\":\"p2747\"}},\"fill_alpha\":{\"type\":\"value\",\"value\":0.2},\"hatch_color\":{\"type\":\"field\",\"field\":\"Variable\",\"transform\":{\"id\":\"p2747\"}},\"hatch_alpha\":{\"type\":\"value\",\"value\":0.2}}}}}],\"toolbar\":{\"type\":\"object\",\"name\":\"Toolbar\",\"id\":\"p2714\",\"attributes\":{\"tools\":[{\"type\":\"object\",\"name\":\"HoverTool\",\"id\":\"p2705\",\"attributes\":{\"tags\":[\"hv_created\"],\"renderers\":[{\"id\":\"p2758\"}],\"tooltips\":[[\"Ano\",\"@{Ano}\"],[\"Variable\",\"@{Variable}\"],[\"value\",\"@{value}\"]]}},{\"type\":\"object\",\"name\":\"SaveTool\",\"id\":\"p2733\"},{\"type\":\"object\",\"name\":\"PanTool\",\"id\":\"p2734\"},{\"type\":\"object\",\"name\":\"WheelZoomTool\",\"id\":\"p2735\"},{\"type\":\"object\",\"name\":\"BoxZoomTool\",\"id\":\"p2736\",\"attributes\":{\"overlay\":{\"type\":\"object\",\"name\":\"BoxAnnotation\",\"id\":\"p2737\",\"attributes\":{\"syncable\":false,\"level\":\"overlay\",\"visible\":false,\"left_units\":\"canvas\",\"right_units\":\"canvas\",\"bottom_units\":\"canvas\",\"top_units\":\"canvas\",\"line_color\":\"black\",\"line_alpha\":1.0,\"line_width\":2,\"line_dash\":[4,4],\"fill_color\":\"lightgrey\",\"fill_alpha\":0.5}}}},{\"type\":\"object\",\"name\":\"ResetTool\",\"id\":\"p2738\"}],\"active_drag\":{\"id\":\"p2734\"},\"active_scroll\":{\"id\":\"p2735\"}}},\"left\":[{\"type\":\"object\",\"name\":\"LinearAxis\",\"id\":\"p2726\",\"attributes\":{\"ticker\":{\"type\":\"object\",\"name\":\"BasicTicker\",\"id\":\"p2728\",\"attributes\":{\"desired_num_ticks\":18,\"mantissas\":[1,2,5]}},\"formatter\":{\"type\":\"object\",\"name\":\"PrintfTickFormatter\",\"id\":\"p2765\",\"attributes\":{\"format\":\"%.0f\"}},\"axis_label\":\"n\\u00famero de meses\",\"axis_label_text_font_size\":\"8pt\",\"major_label_policy\":{\"type\":\"object\",\"name\":\"AllLabels\",\"id\":\"p2729\"},\"major_label_text_font_size\":\"8pt\"}}],\"below\":[{\"type\":\"object\",\"name\":\"CategoricalAxis\",\"id\":\"p2720\",\"attributes\":{\"ticker\":{\"type\":\"object\",\"name\":\"CategoricalTicker\",\"id\":\"p2722\"},\"formatter\":{\"type\":\"object\",\"name\":\"CategoricalTickFormatter\",\"id\":\"p2721\"},\"axis_label\":\"\",\"axis_label_text_font_size\":\"8pt\",\"major_label_policy\":{\"type\":\"object\",\"name\":\"AllLabels\",\"id\":\"p2723\"},\"major_label_text_alpha\":0,\"major_label_text_font_size\":\"1px\",\"major_label_text_line_height\":0,\"major_tick_line_alpha\":0,\"separator_line_width\":0,\"group_text_color\":\"black\",\"group_text_font_size\":\"8pt\",\"group_text_font_style\":\"normal\",\"group_text_align\":\"center\",\"group_label_orientation\":0.6981317007977318}}],\"center\":[{\"type\":\"object\",\"name\":\"Grid\",\"id\":\"p2725\",\"attributes\":{\"axis\":{\"id\":\"p2720\"},\"grid_line_color\":null}},{\"type\":\"object\",\"name\":\"Grid\",\"id\":\"p2732\",\"attributes\":{\"dimension\":1,\"axis\":{\"id\":\"p2726\"},\"grid_line_color\":null}},{\"type\":\"object\",\"name\":\"Legend\",\"id\":\"p2761\",\"attributes\":{\"location\":\"top_left\",\"items\":[{\"type\":\"object\",\"name\":\"LegendItem\",\"id\":\"p2762\",\"attributes\":{\"label\":{\"type\":\"field\",\"field\":\"Variable\"},\"renderers\":[{\"id\":\"p2758\"}]}}]}}],\"min_border_top\":10,\"min_border_bottom\":10,\"min_border_left\":10,\"min_border_right\":10,\"output_backend\":\"webgl\"}},{\"type\":\"object\",\"name\":\"Spacer\",\"id\":\"p2792\",\"attributes\":{\"name\":\"HSpacer04288\",\"stylesheets\":[\"\\n:host(.pn-loading.pn-arc):before, .pn-loading.pn-arc:before {\\n  background-image: url(\\\"data:image/svg+xml;base64,PHN2ZyB4bWxucz0iaHR0cDovL3d3dy53My5vcmcvMjAwMC9zdmciIHN0eWxlPSJtYXJnaW46IGF1dG87IGJhY2tncm91bmQ6IG5vbmU7IGRpc3BsYXk6IGJsb2NrOyBzaGFwZS1yZW5kZXJpbmc6IGF1dG87IiB2aWV3Qm94PSIwIDAgMTAwIDEwMCIgcHJlc2VydmVBc3BlY3RSYXRpbz0ieE1pZFlNaWQiPiAgPGNpcmNsZSBjeD0iNTAiIGN5PSI1MCIgZmlsbD0ibm9uZSIgc3Ryb2tlPSIjYzNjM2MzIiBzdHJva2Utd2lkdGg9IjEwIiByPSIzNSIgc3Ryb2tlLWRhc2hhcnJheT0iMTY0LjkzMzYxNDMxMzQ2NDE1IDU2Ljk3Nzg3MTQzNzgyMTM4Ij4gICAgPGFuaW1hdGVUcmFuc2Zvcm0gYXR0cmlidXRlTmFtZT0idHJhbnNmb3JtIiB0eXBlPSJyb3RhdGUiIHJlcGVhdENvdW50PSJpbmRlZmluaXRlIiBkdXI9IjFzIiB2YWx1ZXM9IjAgNTAgNTA7MzYwIDUwIDUwIiBrZXlUaW1lcz0iMDsxIj48L2FuaW1hdGVUcmFuc2Zvcm0+ICA8L2NpcmNsZT48L3N2Zz4=\\\");\\n  background-size: auto calc(min(50%, 400px));\\n}\",{\"id\":\"p2699\"},{\"id\":\"p2697\"},{\"id\":\"p2698\"}],\"margin\":0,\"sizing_mode\":\"stretch_width\",\"align\":\"start\"}}]}}],\"callbacks\":{\"type\":\"map\"}}};\n",
       "  var render_items = [{\"docid\":\"375b1240-24bc-48c1-97ea-9922a766b20b\",\"roots\":{\"p2696\":\"caec756f-2ee3-4169-9040-b7dcc502dfce\"},\"root_ids\":[\"p2696\"]}];\n",
       "  var docs = Object.values(docs_json)\n",
       "  if (!docs) {\n",
       "    return\n",
       "  }\n",
       "  const py_version = docs[0].version.replace('rc', '-rc.').replace('.dev', '-dev.')\n",
       "  const is_dev = py_version.indexOf(\"+\") !== -1 || py_version.indexOf(\"-\") !== -1\n",
       "  function embed_document(root) {\n",
       "    var Bokeh = get_bokeh(root)\n",
       "    Bokeh.embed.embed_items_notebook(docs_json, render_items);\n",
       "    for (const render_item of render_items) {\n",
       "      for (const root_id of render_item.root_ids) {\n",
       "\tconst id_el = document.getElementById(root_id)\n",
       "\tif (id_el.children.length && (id_el.children[0].className === 'bk-root')) {\n",
       "\t  const root_el = id_el.children[0]\n",
       "\t  root_el.id = root_el.id + '-rendered'\n",
       "\t}\n",
       "      }\n",
       "    }\n",
       "  }\n",
       "  function get_bokeh(root) {\n",
       "    if (root.Bokeh === undefined) {\n",
       "      return null\n",
       "    } else if (root.Bokeh.version !== py_version && !is_dev) {\n",
       "      if (root.Bokeh.versions === undefined || !root.Bokeh.versions.has(py_version)) {\n",
       "\treturn null\n",
       "      }\n",
       "      return root.Bokeh.versions.get(py_version);\n",
       "    } else if (root.Bokeh.version === py_version) {\n",
       "      return root.Bokeh\n",
       "    }\n",
       "    return null\n",
       "  }\n",
       "  function is_loaded(root) {\n",
       "    var Bokeh = get_bokeh(root)\n",
       "    return (Bokeh != null && Bokeh.Panel !== undefined)\n",
       "  }\n",
       "  if (is_loaded(root)) {\n",
       "    embed_document(root);\n",
       "  } else {\n",
       "    var attempts = 0;\n",
       "    var timer = setInterval(function(root) {\n",
       "      if (is_loaded(root)) {\n",
       "        clearInterval(timer);\n",
       "        embed_document(root);\n",
       "      } else if (document.readyState == \"complete\") {\n",
       "        attempts++;\n",
       "        if (attempts > 200) {\n",
       "          clearInterval(timer);\n",
       "\t  var Bokeh = get_bokeh(root)\n",
       "\t  if (Bokeh == null || Bokeh.Panel == null) {\n",
       "            console.warn(\"Panel: ERROR: Unable to run Panel code because Bokeh or Panel library is missing\");\n",
       "\t  } else {\n",
       "\t    console.warn(\"Panel: WARNING: Attempting to render but not all required libraries could be resolved.\")\n",
       "\t    embed_document(root)\n",
       "\t  }\n",
       "        }\n",
       "      }\n",
       "    }, 25, root)\n",
       "  }\n",
       "})(window);</script>"
      ],
      "text/plain": [
       ":Bars   [Ano,Variable]   (value)"
      ]
     },
     "execution_count": 29,
     "metadata": {
      "application/vnd.holoviews_exec.v0+json": {
       "id": "p2696"
      }
     },
     "output_type": "execute_result"
    }
   ],
   "source": [
    "reservas_imp"
   ]
  },
  {
   "cell_type": "markdown",
   "metadata": {
    "slideshow": {
     "slide_type": "slide"
    }
   },
   "source": [
    "## Orientação\n",
    "\n",
    "A equipe econômica do novo governo (Guido Mantega, Fazenda; Alexandre Tombini, Banco central) buscou consolidar uma nova orientação da política macroeconômica, já iniciada no 2o governo Lula. Elementos:"
   ]
  },
  {
   "cell_type": "markdown",
   "metadata": {
    "slideshow": {
     "slide_type": "fragment"
    }
   },
   "source": [
    "- tolerância com a meta de inflação - informalmente visando o limite da banda, em vez do centro da meta;"
   ]
  },
  {
   "cell_type": "markdown",
   "metadata": {
    "slideshow": {
     "slide_type": "fragment"
    }
   },
   "source": [
    "- redução da taxa de juros básica - Selic;"
   ]
  },
  {
   "cell_type": "markdown",
   "metadata": {
    "slideshow": {
     "slide_type": "slide"
    }
   },
   "source": [
    "## Mais elementos\n",
    "\n",
    "- limites ao câmbio flutuante via intervenção mais sistemática do Bacen no mercado de câmbio;"
   ]
  },
  {
   "cell_type": "markdown",
   "metadata": {
    "slideshow": {
     "slide_type": "fragment"
    }
   },
   "source": [
    "- menor superávit primário;"
   ]
  },
  {
   "cell_type": "markdown",
   "metadata": {
    "slideshow": {
     "slide_type": "fragment"
    }
   },
   "source": [
    "- elevação do investimento público via BNDES e estatais (Petrobrás e Eletrobrás)."
   ]
  },
  {
   "cell_type": "markdown",
   "metadata": {
    "slideshow": {
     "slide_type": "fragment"
    }
   },
   "source": [
    " Vejamos esses pontos a seguir (o desempenho do investimento público será tratado na próxima aula)."
   ]
  },
  {
   "cell_type": "markdown",
   "metadata": {
    "slideshow": {
     "slide_type": "slide"
    }
   },
   "source": [
    "## Nova matriz econômica\n",
    "\n",
    "Esse conjunto de medidas - e outras complementares - foi batizado de \"Nova Matriz Econômica\" por membros da equipe econômica, mas o conceito permaneceu ambíguo e sem definição clara (porém ver texto de Barbosa e Souza, 2010)."
   ]
  },
  {
   "cell_type": "markdown",
   "metadata": {
    "slideshow": {
     "slide_type": "fragment"
    }
   },
   "source": [
    "O objetivo anunciado foi reconfigurar os instrumentos e objetivos da política econômica a fim de que superassem as restrições estabelecidas pelo modelo macroeconômico vigente (\"tripé econômico\"), definindo maior espaço para um papel indutor do Estado no crescimento econômico. "
   ]
  },
  {
   "cell_type": "markdown",
   "metadata": {
    "editable": true,
    "slideshow": {
     "slide_type": "fragment"
    },
    "tags": []
   },
   "source": [
    "Tripé econômico: regime de metas de inflação, superávit fiscal primário e câmbio flutuante. "
   ]
  },
  {
   "cell_type": "markdown",
   "metadata": {
    "editable": true,
    "slideshow": {
     "slide_type": "subslide"
    },
    "tags": []
   },
   "source": [
    "Notar, contudo, que *não* houve abandono formal de nenhum dos objetivos do chamado tripé (superávit fiscal, meta de inflação, câmbio flutuante), o que torna a análise do período mais difícil."
   ]
  },
  {
   "cell_type": "markdown",
   "metadata": {
    "editable": true,
    "slideshow": {
     "slide_type": "slide"
    },
    "tags": []
   },
   "source": [
    "## Metas de inflação\n",
    "\n",
    "Durante todo o período do novo governo, a **meta de inflação** foi mantida em 4,5%, com bandas de 2% (isto é, bandas inferior e superior de 2,5% e 6,5% a.a.). Mas o empenho em alcançar a meta variou ao longo do tempo (ver a tabela a seguir)."
   ]
  },
  {
   "cell_type": "markdown",
   "metadata": {
    "slideshow": {
     "slide_type": "fragment"
    }
   },
   "source": [
    "Nos primeiros meses de 2011, o Banco Central seguiu uma política monetária apertada, buscando corrigir a flexibilização monetária e do crédito do ano anterior, dominado pela disputa eleitoral."
   ]
  },
  {
   "cell_type": "markdown",
   "metadata": {
    "slideshow": {
     "slide_type": "fragment"
    }
   },
   "source": [
    "Uma mudança importante ocorreu após 6 meses do início do governo Dilma, em agosto de 2011, quando o Copom anunciou a redução da taxa Selic de 12,5% para 12% a.a. (depois de aumentá-la nas reuniões anteriores)."
   ]
  },
  {
   "cell_type": "markdown",
   "metadata": {
    "slideshow": {
     "slide_type": "subslide"
    }
   },
   "source": [
    "### <center>Metas e inflação observada</center>\n",
    "\n",
    "<center><img src=\"br_regime_metas.png\" width=\"1000\" height=\"450\"></center>"
   ]
  },
  {
   "cell_type": "markdown",
   "metadata": {
    "slideshow": {
     "slide_type": "slide"
    }
   },
   "source": [
    "## Recepção\n",
    "\n",
    "A decisão de reduzir a taxa Selic surpreendeu, uma vez que ocorreu em um momento em que a inflação projetada apresentava tendência de alta."
   ]
  },
  {
   "cell_type": "markdown",
   "metadata": {
    "slideshow": {
     "slide_type": "fragment"
    }
   },
   "source": [
    "O diagnóstico do Copom foi que o baixo crescimento (PIB em 2011 = 4,0%) e os sinais de uma nova recessão internacional justificariam uma ação preventiva e a reversão da taxa Selic, a fim de evitar efeitos negativos na economia doméstica."
   ]
  },
  {
   "cell_type": "markdown",
   "metadata": {
    "slideshow": {
     "slide_type": "fragment"
    }
   },
   "source": [
    "Por outro lado, a opinião dominante foi que o Bacen sinalizou uma política monetária mais tolerante com a inflação, que visava mais a banda superior do que o centro da meta. Banda superior: 6,5%, inflação observada em 2011: 6,5%.  "
   ]
  },
  {
   "cell_type": "markdown",
   "metadata": {
    "slideshow": {
     "slide_type": "slide"
    }
   },
   "source": [
    "## Inflação e Selic\n",
    "\n",
    "Ainda assim, a inflação foi um pouco menor em 2012 (5,8%) e 2013 (5,9%), mas manteve-se distante da meta de 4,5% e retomou a tendência de alta."
   ]
  },
  {
   "cell_type": "markdown",
   "metadata": {
    "slideshow": {
     "slide_type": "fragment"
    }
   },
   "source": [
    "Já em 2013, a subida dos preços levou a uma nova mudança do Copom, com elevação da taxa Selic a partir de abril de 2013. Apesar da guinada, e em um contexto de eleição presidencial, a inflação atingiu 6,4% em 2014 (comparar com 2006 = 3,1%). "
   ]
  },
  {
   "cell_type": "markdown",
   "metadata": {
    "slideshow": {
     "slide_type": "fragment"
    }
   },
   "source": [
    "Em 2014, medidas paralelas (isto é, fora do âmbito da política monetária ou fiscal) para contenção dos preços passaram a ser generalizadas: adiamento de reajustes de tarifas e preços públicos (por exemplo, combustível e energia elétrica; mais detalhes adiante). "
   ]
  },
  {
   "cell_type": "markdown",
   "metadata": {
    "slideshow": {
     "slide_type": "subslide"
    }
   },
   "source": [
    "De uma maneira ou de outra, os resultados da inflação tornaram-se mais críticos no ano seguinte, em 2015, com o IPCA chegando a 10,7% (diante da meta de 4,5% a.a., banda de 2%; ver [aqui](https://normativos.bcb.gov.br/Lists/Normativos/Attachments/48918/Res_4237_v1_O.pdf)), a despeito do adiamento de reajustes e de outros artifícios adotados. "
   ]
  },
  {
   "cell_type": "markdown",
   "metadata": {
    "slideshow": {
     "slide_type": "fragment"
    }
   },
   "source": [
    "Ver as figuras com o IPCA e a taxa Selic a seguir."
   ]
  },
  {
   "cell_type": "code",
   "execution_count": 30,
   "metadata": {
    "slideshow": {
     "slide_type": "notes"
    }
   },
   "outputs": [],
   "source": [
    "p = pd.read_excel('ipca_1995_2019.xlsx')\n",
    "\n",
    "ipca = p.hvplot.bar('Ano', ['IPCA'],\n",
    "                    height=450,\n",
    "                    width=650,\n",
    "                    rot=30,\n",
    "                    padding=0.1,\n",
    "                    legend='top_right',\n",
    "                    color='tomato',\n",
    "                    xlim=(1995, 2019),\n",
    "                    yticks=18,\n",
    "                    xlabel='',\n",
    "                    ylabel='taxa de crescimento anual, %',\n",
    "                    label='Inflação, Brasil, 1995-2019 (IPCA, anual, %)'\n",
    "                   ).opts(fontsize={'title': 11, 'labels': 8, 'xticks': 8,\n",
    "                                    'yticks': 8, 'legend': 8}).opts(multi_level=False)"
   ]
  },
  {
   "cell_type": "code",
   "execution_count": 31,
   "metadata": {
    "slideshow": {
     "slide_type": "slide"
    }
   },
   "outputs": [
    {
     "data": {},
     "metadata": {},
     "output_type": "display_data"
    },
    {
     "data": {
      "application/vnd.holoviews_exec.v0+json": "",
      "text/html": [
       "<div id='p2845'>\n",
       "  <div id=\"d8f60376-995a-4331-af3d-af26205f401e\" data-root-id=\"p2845\" style=\"display: contents;\"></div>\n",
       "</div>\n",
       "<script type=\"application/javascript\">(function(root) {\n",
       "  var docs_json = {\"9af0b59d-3213-45f6-9310-81c4a2ec3399\":{\"version\":\"3.1.1\",\"title\":\"Bokeh Application\",\"defs\":[{\"type\":\"model\",\"name\":\"ReactiveHTML1\"},{\"type\":\"model\",\"name\":\"FlexBox1\",\"properties\":[{\"name\":\"align_content\",\"kind\":\"Any\",\"default\":\"flex-start\"},{\"name\":\"align_items\",\"kind\":\"Any\",\"default\":\"flex-start\"},{\"name\":\"flex_direction\",\"kind\":\"Any\",\"default\":\"row\"},{\"name\":\"flex_wrap\",\"kind\":\"Any\",\"default\":\"wrap\"},{\"name\":\"justify_content\",\"kind\":\"Any\",\"default\":\"flex-start\"}]},{\"type\":\"model\",\"name\":\"FloatPanel1\",\"properties\":[{\"name\":\"config\",\"kind\":\"Any\",\"default\":{\"type\":\"map\"}},{\"name\":\"contained\",\"kind\":\"Any\",\"default\":true},{\"name\":\"position\",\"kind\":\"Any\",\"default\":\"right-top\"},{\"name\":\"offsetx\",\"kind\":\"Any\",\"default\":null},{\"name\":\"offsety\",\"kind\":\"Any\",\"default\":null},{\"name\":\"theme\",\"kind\":\"Any\",\"default\":\"primary\"},{\"name\":\"status\",\"kind\":\"Any\",\"default\":\"normalized\"}]},{\"type\":\"model\",\"name\":\"GridStack1\",\"properties\":[{\"name\":\"mode\",\"kind\":\"Any\",\"default\":\"warn\"},{\"name\":\"ncols\",\"kind\":\"Any\",\"default\":null},{\"name\":\"nrows\",\"kind\":\"Any\",\"default\":null},{\"name\":\"allow_resize\",\"kind\":\"Any\",\"default\":true},{\"name\":\"allow_drag\",\"kind\":\"Any\",\"default\":true},{\"name\":\"state\",\"kind\":\"Any\",\"default\":[]}]},{\"type\":\"model\",\"name\":\"drag1\",\"properties\":[{\"name\":\"slider_width\",\"kind\":\"Any\",\"default\":5},{\"name\":\"slider_color\",\"kind\":\"Any\",\"default\":\"black\"},{\"name\":\"value\",\"kind\":\"Any\",\"default\":50}]},{\"type\":\"model\",\"name\":\"click1\",\"properties\":[{\"name\":\"terminal_output\",\"kind\":\"Any\",\"default\":\"\"},{\"name\":\"debug_name\",\"kind\":\"Any\",\"default\":\"\"},{\"name\":\"clears\",\"kind\":\"Any\",\"default\":0}]},{\"type\":\"model\",\"name\":\"FastWrapper1\",\"properties\":[{\"name\":\"object\",\"kind\":\"Any\",\"default\":null},{\"name\":\"style\",\"kind\":\"Any\",\"default\":null}]},{\"type\":\"model\",\"name\":\"NotificationAreaBase1\",\"properties\":[{\"name\":\"js_events\",\"kind\":\"Any\",\"default\":{\"type\":\"map\"}},{\"name\":\"position\",\"kind\":\"Any\",\"default\":\"bottom-right\"},{\"name\":\"_clear\",\"kind\":\"Any\",\"default\":0}]},{\"type\":\"model\",\"name\":\"NotificationArea1\",\"properties\":[{\"name\":\"js_events\",\"kind\":\"Any\",\"default\":{\"type\":\"map\"}},{\"name\":\"notifications\",\"kind\":\"Any\",\"default\":[]},{\"name\":\"position\",\"kind\":\"Any\",\"default\":\"bottom-right\"},{\"name\":\"_clear\",\"kind\":\"Any\",\"default\":0},{\"name\":\"types\",\"kind\":\"Any\",\"default\":[{\"type\":\"map\",\"entries\":[[\"type\",\"warning\"],[\"background\",\"#ffc107\"],[\"icon\",{\"type\":\"map\",\"entries\":[[\"className\",\"fas fa-exclamation-triangle\"],[\"tagName\",\"i\"],[\"color\",\"white\"]]}]]},{\"type\":\"map\",\"entries\":[[\"type\",\"info\"],[\"background\",\"#007bff\"],[\"icon\",{\"type\":\"map\",\"entries\":[[\"className\",\"fas fa-info-circle\"],[\"tagName\",\"i\"],[\"color\",\"white\"]]}]]}]}]},{\"type\":\"model\",\"name\":\"Notification\",\"properties\":[{\"name\":\"background\",\"kind\":\"Any\",\"default\":null},{\"name\":\"duration\",\"kind\":\"Any\",\"default\":3000},{\"name\":\"icon\",\"kind\":\"Any\",\"default\":null},{\"name\":\"message\",\"kind\":\"Any\",\"default\":\"\"},{\"name\":\"notification_type\",\"kind\":\"Any\",\"default\":null},{\"name\":\"_destroyed\",\"kind\":\"Any\",\"default\":false}]},{\"type\":\"model\",\"name\":\"TemplateActions1\",\"properties\":[{\"name\":\"open_modal\",\"kind\":\"Any\",\"default\":0},{\"name\":\"close_modal\",\"kind\":\"Any\",\"default\":0}]},{\"type\":\"model\",\"name\":\"BootstrapTemplateActions1\",\"properties\":[{\"name\":\"open_modal\",\"kind\":\"Any\",\"default\":0},{\"name\":\"close_modal\",\"kind\":\"Any\",\"default\":0}]},{\"type\":\"model\",\"name\":\"MaterialTemplateActions1\",\"properties\":[{\"name\":\"open_modal\",\"kind\":\"Any\",\"default\":0},{\"name\":\"close_modal\",\"kind\":\"Any\",\"default\":0}]}],\"roots\":[{\"type\":\"object\",\"name\":\"Row\",\"id\":\"p2845\",\"attributes\":{\"name\":\"Row04634\",\"tags\":[\"embedded\"],\"stylesheets\":[\"\\n:host(.pn-loading.pn-arc):before, .pn-loading.pn-arc:before {\\n  background-image: url(\\\"data:image/svg+xml;base64,PHN2ZyB4bWxucz0iaHR0cDovL3d3dy53My5vcmcvMjAwMC9zdmciIHN0eWxlPSJtYXJnaW46IGF1dG87IGJhY2tncm91bmQ6IG5vbmU7IGRpc3BsYXk6IGJsb2NrOyBzaGFwZS1yZW5kZXJpbmc6IGF1dG87IiB2aWV3Qm94PSIwIDAgMTAwIDEwMCIgcHJlc2VydmVBc3BlY3RSYXRpbz0ieE1pZFlNaWQiPiAgPGNpcmNsZSBjeD0iNTAiIGN5PSI1MCIgZmlsbD0ibm9uZSIgc3Ryb2tlPSIjYzNjM2MzIiBzdHJva2Utd2lkdGg9IjEwIiByPSIzNSIgc3Ryb2tlLWRhc2hhcnJheT0iMTY0LjkzMzYxNDMxMzQ2NDE1IDU2Ljk3Nzg3MTQzNzgyMTM4Ij4gICAgPGFuaW1hdGVUcmFuc2Zvcm0gYXR0cmlidXRlTmFtZT0idHJhbnNmb3JtIiB0eXBlPSJyb3RhdGUiIHJlcGVhdENvdW50PSJpbmRlZmluaXRlIiBkdXI9IjFzIiB2YWx1ZXM9IjAgNTAgNTA7MzYwIDUwIDUwIiBrZXlUaW1lcz0iMDsxIj48L2FuaW1hdGVUcmFuc2Zvcm0+ICA8L2NpcmNsZT48L3N2Zz4=\\\");\\n  background-size: auto calc(min(50%, 400px));\\n}\",{\"type\":\"object\",\"name\":\"ImportedStyleSheet\",\"id\":\"p2848\",\"attributes\":{\"url\":\"https://cdn.holoviz.org/panel/1.2.3/dist/css/loading.css\"}},{\"type\":\"object\",\"name\":\"ImportedStyleSheet\",\"id\":\"p2941\",\"attributes\":{\"url\":\"https://cdn.holoviz.org/panel/1.2.3/dist/css/listpanel.css\"}},{\"type\":\"object\",\"name\":\"ImportedStyleSheet\",\"id\":\"p2846\",\"attributes\":{\"url\":\"https://cdn.holoviz.org/panel/1.2.3/dist/bundled/theme/default.css\"}},{\"type\":\"object\",\"name\":\"ImportedStyleSheet\",\"id\":\"p2847\",\"attributes\":{\"url\":\"https://cdn.holoviz.org/panel/1.2.3/dist/bundled/theme/native.css\"}}],\"min_width\":650,\"margin\":0,\"sizing_mode\":\"stretch_width\",\"align\":\"start\",\"children\":[{\"type\":\"object\",\"name\":\"Spacer\",\"id\":\"p2849\",\"attributes\":{\"name\":\"HSpacer04645\",\"stylesheets\":[\"\\n:host(.pn-loading.pn-arc):before, .pn-loading.pn-arc:before {\\n  background-image: url(\\\"data:image/svg+xml;base64,PHN2ZyB4bWxucz0iaHR0cDovL3d3dy53My5vcmcvMjAwMC9zdmciIHN0eWxlPSJtYXJnaW46IGF1dG87IGJhY2tncm91bmQ6IG5vbmU7IGRpc3BsYXk6IGJsb2NrOyBzaGFwZS1yZW5kZXJpbmc6IGF1dG87IiB2aWV3Qm94PSIwIDAgMTAwIDEwMCIgcHJlc2VydmVBc3BlY3RSYXRpbz0ieE1pZFlNaWQiPiAgPGNpcmNsZSBjeD0iNTAiIGN5PSI1MCIgZmlsbD0ibm9uZSIgc3Ryb2tlPSIjYzNjM2MzIiBzdHJva2Utd2lkdGg9IjEwIiByPSIzNSIgc3Ryb2tlLWRhc2hhcnJheT0iMTY0LjkzMzYxNDMxMzQ2NDE1IDU2Ljk3Nzg3MTQzNzgyMTM4Ij4gICAgPGFuaW1hdGVUcmFuc2Zvcm0gYXR0cmlidXRlTmFtZT0idHJhbnNmb3JtIiB0eXBlPSJyb3RhdGUiIHJlcGVhdENvdW50PSJpbmRlZmluaXRlIiBkdXI9IjFzIiB2YWx1ZXM9IjAgNTAgNTA7MzYwIDUwIDUwIiBrZXlUaW1lcz0iMDsxIj48L2FuaW1hdGVUcmFuc2Zvcm0+ICA8L2NpcmNsZT48L3N2Zz4=\\\");\\n  background-size: auto calc(min(50%, 400px));\\n}\",{\"id\":\"p2848\"},{\"id\":\"p2846\"},{\"id\":\"p2847\"}],\"margin\":0,\"sizing_mode\":\"stretch_width\",\"align\":\"start\"}},{\"type\":\"object\",\"name\":\"Figure\",\"id\":\"p2855\",\"attributes\":{\"width\":650,\"height\":450,\"margin\":[5,10],\"sizing_mode\":\"fixed\",\"align\":\"start\",\"x_range\":{\"type\":\"object\",\"name\":\"FactorRange\",\"id\":\"p2850\",\"attributes\":{\"tags\":[[[\"Ano\",\"Ano\",null]],[]],\"factors\":[[\"1995\",\"IPCA\"],[\"1996\",\"IPCA\"],[\"1997\",\"IPCA\"],[\"1998\",\"IPCA\"],[\"1999\",\"IPCA\"],[\"2000\",\"IPCA\"],[\"2001\",\"IPCA\"],[\"2002\",\"IPCA\"],[\"2003\",\"IPCA\"],[\"2004\",\"IPCA\"],[\"2005\",\"IPCA\"],[\"2006\",\"IPCA\"],[\"2007\",\"IPCA\"],[\"2008\",\"IPCA\"],[\"2009\",\"IPCA\"],[\"2010\",\"IPCA\"],[\"2011\",\"IPCA\"],[\"2012\",\"IPCA\"],[\"2013\",\"IPCA\"],[\"2014\",\"IPCA\"],[\"2015\",\"IPCA\"],[\"2016\",\"IPCA\"],[\"2017\",\"IPCA\"],[\"2018\",\"IPCA\"],[\"2019\",\"IPCA\"]]}},\"y_range\":{\"type\":\"object\",\"name\":\"Range1d\",\"id\":\"p2851\",\"attributes\":{\"tags\":[[[\"value\",\"value\",null]],{\"type\":\"map\",\"entries\":[[\"invert_yaxis\",false],[\"autorange\",false]]}],\"end\":24.483480007006314,\"reset_start\":0.0,\"reset_end\":24.483480007006314}},\"x_scale\":{\"type\":\"object\",\"name\":\"CategoricalScale\",\"id\":\"p2867\"},\"y_scale\":{\"type\":\"object\",\"name\":\"LinearScale\",\"id\":\"p2868\"},\"title\":{\"type\":\"object\",\"name\":\"Title\",\"id\":\"p2858\",\"attributes\":{\"text\":\"Infla\\u00e7\\u00e3o, Brasil, 1995-2019 (IPCA, anual, %)\",\"text_color\":\"black\",\"text_font_size\":\"11pt\"}},\"renderers\":[{\"type\":\"object\",\"name\":\"GlyphRenderer\",\"id\":\"p2907\",\"attributes\":{\"data_source\":{\"type\":\"object\",\"name\":\"ColumnDataSource\",\"id\":\"p2897\",\"attributes\":{\"selected\":{\"type\":\"object\",\"name\":\"Selection\",\"id\":\"p2899\",\"attributes\":{\"indices\":[],\"line_indices\":[]}},\"selection_policy\":{\"type\":\"object\",\"name\":\"UnionRenderers\",\"id\":\"p2898\"},\"data\":{\"type\":\"map\",\"entries\":[[\"xoffsets\",[[\"1995\",\"IPCA\"],[\"1996\",\"IPCA\"],[\"1997\",\"IPCA\"],[\"1998\",\"IPCA\"],[\"1999\",\"IPCA\"],[\"2000\",\"IPCA\"],[\"2001\",\"IPCA\"],[\"2002\",\"IPCA\"],[\"2003\",\"IPCA\"],[\"2004\",\"IPCA\"],[\"2005\",\"IPCA\"],[\"2006\",\"IPCA\"],[\"2007\",\"IPCA\"],[\"2008\",\"IPCA\"],[\"2009\",\"IPCA\"],[\"2010\",\"IPCA\"],[\"2011\",\"IPCA\"],[\"2012\",\"IPCA\"],[\"2013\",\"IPCA\"],[\"2014\",\"IPCA\"],[\"2015\",\"IPCA\"],[\"2016\",\"IPCA\"],[\"2017\",\"IPCA\"],[\"2018\",\"IPCA\"],[\"2019\",\"IPCA\"]]],[\"value\",{\"type\":\"ndarray\",\"array\":{\"type\":\"bytes\",\"data\":\"V0dRSH1oNkC9ulhdQSEjQOo2E8Kz5RRAZSFnZsp6+j/kaLz+K+EhQGr/Ecz75RdAjoW5UJmxHkDf00n9fw8pQLl+U9DcmSJAXjBjPeJlHkAs+desxMEWQC3VpzXTIQlAMeadcaTUEUArp1zIY5wXQNUZqjEhPxFA/GfZS3+iF0Az1dHmbgMaQKIq5JK4WhdAsaW6JoqkF0CcADoGQKEZQANswSSXWCVAXa3VYeYmGUDYZhahUZQHQJHjs0Lz9g1AUkU9z385EUA=\"},\"shape\":[25],\"dtype\":\"float64\",\"order\":\"little\"}],[\"Ano\",[\"1995\",\"1996\",\"1997\",\"1998\",\"1999\",\"2000\",\"2001\",\"2002\",\"2003\",\"2004\",\"2005\",\"2006\",\"2007\",\"2008\",\"2009\",\"2010\",\"2011\",\"2012\",\"2013\",\"2014\",\"2015\",\"2016\",\"2017\",\"2018\",\"2019\"]],[\"Variable\",[\"IPCA\",\"IPCA\",\"IPCA\",\"IPCA\",\"IPCA\",\"IPCA\",\"IPCA\",\"IPCA\",\"IPCA\",\"IPCA\",\"IPCA\",\"IPCA\",\"IPCA\",\"IPCA\",\"IPCA\",\"IPCA\",\"IPCA\",\"IPCA\",\"IPCA\",\"IPCA\",\"IPCA\",\"IPCA\",\"IPCA\",\"IPCA\",\"IPCA\"]]]}}},\"view\":{\"type\":\"object\",\"name\":\"CDSView\",\"id\":\"p2908\",\"attributes\":{\"filter\":{\"type\":\"object\",\"name\":\"AllIndices\",\"id\":\"p2909\"}}},\"glyph\":{\"type\":\"object\",\"name\":\"VBar\",\"id\":\"p2904\",\"attributes\":{\"tags\":[\"apply_ranges\"],\"x\":{\"type\":\"field\",\"field\":\"xoffsets\"},\"width\":{\"type\":\"value\",\"value\":0.8},\"top\":{\"type\":\"field\",\"field\":\"value\"},\"fill_color\":{\"type\":\"field\",\"field\":\"Variable\",\"transform\":{\"type\":\"object\",\"name\":\"CategoricalColorMapper\",\"id\":\"p2896\",\"attributes\":{\"palette\":[\"tomato\"],\"factors\":[\"IPCA\"]}}},\"hatch_color\":{\"type\":\"field\",\"field\":\"Variable\",\"transform\":{\"id\":\"p2896\"}}}},\"selection_glyph\":{\"type\":\"object\",\"name\":\"VBar\",\"id\":\"p2912\",\"attributes\":{\"tags\":[\"apply_ranges\"],\"x\":{\"type\":\"field\",\"field\":\"xoffsets\"},\"width\":{\"type\":\"value\",\"value\":0.8},\"bottom\":{\"type\":\"value\",\"value\":0},\"top\":{\"type\":\"field\",\"field\":\"value\"},\"line_color\":{\"type\":\"value\",\"value\":\"black\"},\"line_alpha\":{\"type\":\"value\",\"value\":1.0},\"line_width\":{\"type\":\"value\",\"value\":1},\"line_join\":{\"type\":\"value\",\"value\":\"bevel\"},\"line_cap\":{\"type\":\"value\",\"value\":\"butt\"},\"line_dash\":{\"type\":\"value\",\"value\":[]},\"line_dash_offset\":{\"type\":\"value\",\"value\":0},\"fill_color\":{\"type\":\"field\",\"field\":\"Variable\",\"transform\":{\"id\":\"p2896\"}},\"fill_alpha\":{\"type\":\"value\",\"value\":1.0},\"hatch_color\":{\"type\":\"field\",\"field\":\"Variable\",\"transform\":{\"id\":\"p2896\"}},\"hatch_alpha\":{\"type\":\"value\",\"value\":1.0},\"hatch_scale\":{\"type\":\"value\",\"value\":12.0},\"hatch_pattern\":{\"type\":\"value\",\"value\":null},\"hatch_weight\":{\"type\":\"value\",\"value\":1.0}}},\"nonselection_glyph\":{\"type\":\"object\",\"name\":\"VBar\",\"id\":\"p2905\",\"attributes\":{\"tags\":[\"apply_ranges\"],\"x\":{\"type\":\"field\",\"field\":\"xoffsets\"},\"width\":{\"type\":\"value\",\"value\":0.8},\"top\":{\"type\":\"field\",\"field\":\"value\"},\"line_alpha\":{\"type\":\"value\",\"value\":0.1},\"fill_color\":{\"type\":\"field\",\"field\":\"Variable\",\"transform\":{\"id\":\"p2896\"}},\"fill_alpha\":{\"type\":\"value\",\"value\":0.1},\"hatch_color\":{\"type\":\"field\",\"field\":\"Variable\",\"transform\":{\"id\":\"p2896\"}},\"hatch_alpha\":{\"type\":\"value\",\"value\":0.1}}},\"muted_glyph\":{\"type\":\"object\",\"name\":\"VBar\",\"id\":\"p2906\",\"attributes\":{\"tags\":[\"apply_ranges\"],\"x\":{\"type\":\"field\",\"field\":\"xoffsets\"},\"width\":{\"type\":\"value\",\"value\":0.8},\"top\":{\"type\":\"field\",\"field\":\"value\"},\"line_alpha\":{\"type\":\"value\",\"value\":0.2},\"fill_color\":{\"type\":\"field\",\"field\":\"Variable\",\"transform\":{\"id\":\"p2896\"}},\"fill_alpha\":{\"type\":\"value\",\"value\":0.2},\"hatch_color\":{\"type\":\"field\",\"field\":\"Variable\",\"transform\":{\"id\":\"p2896\"}},\"hatch_alpha\":{\"type\":\"value\",\"value\":0.2}}}}}],\"toolbar\":{\"type\":\"object\",\"name\":\"Toolbar\",\"id\":\"p2863\",\"attributes\":{\"tools\":[{\"type\":\"object\",\"name\":\"HoverTool\",\"id\":\"p2854\",\"attributes\":{\"tags\":[\"hv_created\"],\"renderers\":[{\"id\":\"p2907\"}],\"tooltips\":[[\"Ano\",\"@{Ano}\"],[\"Variable\",\"@{Variable}\"],[\"value\",\"@{value}\"]]}},{\"type\":\"object\",\"name\":\"SaveTool\",\"id\":\"p2882\"},{\"type\":\"object\",\"name\":\"PanTool\",\"id\":\"p2883\"},{\"type\":\"object\",\"name\":\"WheelZoomTool\",\"id\":\"p2884\"},{\"type\":\"object\",\"name\":\"BoxZoomTool\",\"id\":\"p2885\",\"attributes\":{\"overlay\":{\"type\":\"object\",\"name\":\"BoxAnnotation\",\"id\":\"p2886\",\"attributes\":{\"syncable\":false,\"level\":\"overlay\",\"visible\":false,\"left_units\":\"canvas\",\"right_units\":\"canvas\",\"bottom_units\":\"canvas\",\"top_units\":\"canvas\",\"line_color\":\"black\",\"line_alpha\":1.0,\"line_width\":2,\"line_dash\":[4,4],\"fill_color\":\"lightgrey\",\"fill_alpha\":0.5}}}},{\"type\":\"object\",\"name\":\"ResetTool\",\"id\":\"p2887\"}],\"active_drag\":{\"id\":\"p2883\"},\"active_scroll\":{\"id\":\"p2884\"}}},\"left\":[{\"type\":\"object\",\"name\":\"LinearAxis\",\"id\":\"p2875\",\"attributes\":{\"ticker\":{\"type\":\"object\",\"name\":\"BasicTicker\",\"id\":\"p2877\",\"attributes\":{\"desired_num_ticks\":18,\"mantissas\":[1,2,5]}},\"formatter\":{\"type\":\"object\",\"name\":\"BasicTickFormatter\",\"id\":\"p2876\"},\"axis_label\":\"taxa de crescimento anual, %\",\"axis_label_text_font_size\":\"8pt\",\"major_label_policy\":{\"type\":\"object\",\"name\":\"AllLabels\",\"id\":\"p2878\"},\"major_label_text_font_size\":\"8pt\"}}],\"below\":[{\"type\":\"object\",\"name\":\"CategoricalAxis\",\"id\":\"p2869\",\"attributes\":{\"ticker\":{\"type\":\"object\",\"name\":\"CategoricalTicker\",\"id\":\"p2871\"},\"formatter\":{\"type\":\"object\",\"name\":\"CategoricalTickFormatter\",\"id\":\"p2870\"},\"axis_label\":\"\",\"axis_label_text_font_size\":\"8pt\",\"major_label_policy\":{\"type\":\"object\",\"name\":\"AllLabels\",\"id\":\"p2872\"},\"major_label_text_alpha\":0,\"major_label_text_font_size\":\"1px\",\"major_label_text_line_height\":0,\"major_tick_line_alpha\":0,\"separator_line_width\":0,\"group_text_color\":\"black\",\"group_text_font_size\":\"8pt\",\"group_text_font_style\":\"normal\",\"group_text_align\":\"center\",\"group_label_orientation\":0.5235987755982988}}],\"center\":[{\"type\":\"object\",\"name\":\"Grid\",\"id\":\"p2874\",\"attributes\":{\"axis\":{\"id\":\"p2869\"},\"grid_line_color\":null}},{\"type\":\"object\",\"name\":\"Grid\",\"id\":\"p2881\",\"attributes\":{\"dimension\":1,\"axis\":{\"id\":\"p2875\"},\"grid_line_color\":null}},{\"type\":\"object\",\"name\":\"Legend\",\"id\":\"p2910\",\"attributes\":{\"items\":[{\"type\":\"object\",\"name\":\"LegendItem\",\"id\":\"p2911\",\"attributes\":{\"label\":{\"type\":\"field\",\"field\":\"Variable\"},\"renderers\":[{\"id\":\"p2907\"}]}}]}}],\"min_border_top\":10,\"min_border_bottom\":10,\"min_border_left\":10,\"min_border_right\":10,\"output_backend\":\"webgl\"}},{\"type\":\"object\",\"name\":\"Spacer\",\"id\":\"p2939\",\"attributes\":{\"name\":\"HSpacer04648\",\"stylesheets\":[\"\\n:host(.pn-loading.pn-arc):before, .pn-loading.pn-arc:before {\\n  background-image: url(\\\"data:image/svg+xml;base64,PHN2ZyB4bWxucz0iaHR0cDovL3d3dy53My5vcmcvMjAwMC9zdmciIHN0eWxlPSJtYXJnaW46IGF1dG87IGJhY2tncm91bmQ6IG5vbmU7IGRpc3BsYXk6IGJsb2NrOyBzaGFwZS1yZW5kZXJpbmc6IGF1dG87IiB2aWV3Qm94PSIwIDAgMTAwIDEwMCIgcHJlc2VydmVBc3BlY3RSYXRpbz0ieE1pZFlNaWQiPiAgPGNpcmNsZSBjeD0iNTAiIGN5PSI1MCIgZmlsbD0ibm9uZSIgc3Ryb2tlPSIjYzNjM2MzIiBzdHJva2Utd2lkdGg9IjEwIiByPSIzNSIgc3Ryb2tlLWRhc2hhcnJheT0iMTY0LjkzMzYxNDMxMzQ2NDE1IDU2Ljk3Nzg3MTQzNzgyMTM4Ij4gICAgPGFuaW1hdGVUcmFuc2Zvcm0gYXR0cmlidXRlTmFtZT0idHJhbnNmb3JtIiB0eXBlPSJyb3RhdGUiIHJlcGVhdENvdW50PSJpbmRlZmluaXRlIiBkdXI9IjFzIiB2YWx1ZXM9IjAgNTAgNTA7MzYwIDUwIDUwIiBrZXlUaW1lcz0iMDsxIj48L2FuaW1hdGVUcmFuc2Zvcm0+ICA8L2NpcmNsZT48L3N2Zz4=\\\");\\n  background-size: auto calc(min(50%, 400px));\\n}\",{\"id\":\"p2848\"},{\"id\":\"p2846\"},{\"id\":\"p2847\"}],\"margin\":0,\"sizing_mode\":\"stretch_width\",\"align\":\"start\"}}]}}],\"callbacks\":{\"type\":\"map\"}}};\n",
       "  var render_items = [{\"docid\":\"9af0b59d-3213-45f6-9310-81c4a2ec3399\",\"roots\":{\"p2845\":\"d8f60376-995a-4331-af3d-af26205f401e\"},\"root_ids\":[\"p2845\"]}];\n",
       "  var docs = Object.values(docs_json)\n",
       "  if (!docs) {\n",
       "    return\n",
       "  }\n",
       "  const py_version = docs[0].version.replace('rc', '-rc.').replace('.dev', '-dev.')\n",
       "  const is_dev = py_version.indexOf(\"+\") !== -1 || py_version.indexOf(\"-\") !== -1\n",
       "  function embed_document(root) {\n",
       "    var Bokeh = get_bokeh(root)\n",
       "    Bokeh.embed.embed_items_notebook(docs_json, render_items);\n",
       "    for (const render_item of render_items) {\n",
       "      for (const root_id of render_item.root_ids) {\n",
       "\tconst id_el = document.getElementById(root_id)\n",
       "\tif (id_el.children.length && (id_el.children[0].className === 'bk-root')) {\n",
       "\t  const root_el = id_el.children[0]\n",
       "\t  root_el.id = root_el.id + '-rendered'\n",
       "\t}\n",
       "      }\n",
       "    }\n",
       "  }\n",
       "  function get_bokeh(root) {\n",
       "    if (root.Bokeh === undefined) {\n",
       "      return null\n",
       "    } else if (root.Bokeh.version !== py_version && !is_dev) {\n",
       "      if (root.Bokeh.versions === undefined || !root.Bokeh.versions.has(py_version)) {\n",
       "\treturn null\n",
       "      }\n",
       "      return root.Bokeh.versions.get(py_version);\n",
       "    } else if (root.Bokeh.version === py_version) {\n",
       "      return root.Bokeh\n",
       "    }\n",
       "    return null\n",
       "  }\n",
       "  function is_loaded(root) {\n",
       "    var Bokeh = get_bokeh(root)\n",
       "    return (Bokeh != null && Bokeh.Panel !== undefined)\n",
       "  }\n",
       "  if (is_loaded(root)) {\n",
       "    embed_document(root);\n",
       "  } else {\n",
       "    var attempts = 0;\n",
       "    var timer = setInterval(function(root) {\n",
       "      if (is_loaded(root)) {\n",
       "        clearInterval(timer);\n",
       "        embed_document(root);\n",
       "      } else if (document.readyState == \"complete\") {\n",
       "        attempts++;\n",
       "        if (attempts > 200) {\n",
       "          clearInterval(timer);\n",
       "\t  var Bokeh = get_bokeh(root)\n",
       "\t  if (Bokeh == null || Bokeh.Panel == null) {\n",
       "            console.warn(\"Panel: ERROR: Unable to run Panel code because Bokeh or Panel library is missing\");\n",
       "\t  } else {\n",
       "\t    console.warn(\"Panel: WARNING: Attempting to render but not all required libraries could be resolved.\")\n",
       "\t    embed_document(root)\n",
       "\t  }\n",
       "        }\n",
       "      }\n",
       "    }, 25, root)\n",
       "  }\n",
       "})(window);</script>"
      ],
      "text/plain": [
       ":Bars   [Ano,Variable]   (value)"
      ]
     },
     "execution_count": 31,
     "metadata": {
      "application/vnd.holoviews_exec.v0+json": {
       "id": "p2845"
      }
     },
     "output_type": "execute_result"
    }
   ],
   "source": [
    "ipca"
   ]
  },
  {
   "cell_type": "code",
   "execution_count": 32,
   "metadata": {
    "slideshow": {
     "slide_type": "notes"
    }
   },
   "outputs": [],
   "source": [
    "p = pd.read_excel('br_selic_2000_2019.xlsx')\n",
    "\n",
    "selic = p.hvplot.step('Ano', ['Taxa Selic'],\n",
    "                      height=450,\n",
    "                      width=650,\n",
    "                      rot=30,\n",
    "                      padding=0.05,\n",
    "                      legend=True,\n",
    "                      color='crimson',\n",
    "                      alpha=1,\n",
    "                      xlabel='',\n",
    "                      ylabel='taxa mensal anualizada, %',\n",
    "                      yformatter='%.1f',\n",
    "                      xlim=(2000, 2019),\n",
    "                      xticks=24,\n",
    "                      ylim=(5, 30),\n",
    "                      yticks=24,\n",
    "                      label='Taxa básica de juros - Selic, jan/2000-dez/2019 (mês, anualizada, %)'\n",
    "                     ).opts(fontsize={'title': 11, 'labels': 8, 'xticks': 8, 'yticks': 8})"
   ]
  },
  {
   "cell_type": "code",
   "execution_count": 33,
   "metadata": {
    "slideshow": {
     "slide_type": "slide"
    }
   },
   "outputs": [
    {
     "data": {},
     "metadata": {},
     "output_type": "display_data"
    },
    {
     "data": {
      "application/vnd.holoviews_exec.v0+json": "",
      "text/html": [
       "<div id='p2996'>\n",
       "  <div id=\"c911e53d-90dd-445f-a83c-37c80d194728\" data-root-id=\"p2996\" style=\"display: contents;\"></div>\n",
       "</div>\n",
       "<script type=\"application/javascript\">(function(root) {\n",
       "  var docs_json = {\"3002c35b-fd46-49c6-a2da-bda99dd8a3e5\":{\"version\":\"3.1.1\",\"title\":\"Bokeh Application\",\"defs\":[{\"type\":\"model\",\"name\":\"ReactiveHTML1\"},{\"type\":\"model\",\"name\":\"FlexBox1\",\"properties\":[{\"name\":\"align_content\",\"kind\":\"Any\",\"default\":\"flex-start\"},{\"name\":\"align_items\",\"kind\":\"Any\",\"default\":\"flex-start\"},{\"name\":\"flex_direction\",\"kind\":\"Any\",\"default\":\"row\"},{\"name\":\"flex_wrap\",\"kind\":\"Any\",\"default\":\"wrap\"},{\"name\":\"justify_content\",\"kind\":\"Any\",\"default\":\"flex-start\"}]},{\"type\":\"model\",\"name\":\"FloatPanel1\",\"properties\":[{\"name\":\"config\",\"kind\":\"Any\",\"default\":{\"type\":\"map\"}},{\"name\":\"contained\",\"kind\":\"Any\",\"default\":true},{\"name\":\"position\",\"kind\":\"Any\",\"default\":\"right-top\"},{\"name\":\"offsetx\",\"kind\":\"Any\",\"default\":null},{\"name\":\"offsety\",\"kind\":\"Any\",\"default\":null},{\"name\":\"theme\",\"kind\":\"Any\",\"default\":\"primary\"},{\"name\":\"status\",\"kind\":\"Any\",\"default\":\"normalized\"}]},{\"type\":\"model\",\"name\":\"GridStack1\",\"properties\":[{\"name\":\"mode\",\"kind\":\"Any\",\"default\":\"warn\"},{\"name\":\"ncols\",\"kind\":\"Any\",\"default\":null},{\"name\":\"nrows\",\"kind\":\"Any\",\"default\":null},{\"name\":\"allow_resize\",\"kind\":\"Any\",\"default\":true},{\"name\":\"allow_drag\",\"kind\":\"Any\",\"default\":true},{\"name\":\"state\",\"kind\":\"Any\",\"default\":[]}]},{\"type\":\"model\",\"name\":\"drag1\",\"properties\":[{\"name\":\"slider_width\",\"kind\":\"Any\",\"default\":5},{\"name\":\"slider_color\",\"kind\":\"Any\",\"default\":\"black\"},{\"name\":\"value\",\"kind\":\"Any\",\"default\":50}]},{\"type\":\"model\",\"name\":\"click1\",\"properties\":[{\"name\":\"terminal_output\",\"kind\":\"Any\",\"default\":\"\"},{\"name\":\"debug_name\",\"kind\":\"Any\",\"default\":\"\"},{\"name\":\"clears\",\"kind\":\"Any\",\"default\":0}]},{\"type\":\"model\",\"name\":\"FastWrapper1\",\"properties\":[{\"name\":\"object\",\"kind\":\"Any\",\"default\":null},{\"name\":\"style\",\"kind\":\"Any\",\"default\":null}]},{\"type\":\"model\",\"name\":\"NotificationAreaBase1\",\"properties\":[{\"name\":\"js_events\",\"kind\":\"Any\",\"default\":{\"type\":\"map\"}},{\"name\":\"position\",\"kind\":\"Any\",\"default\":\"bottom-right\"},{\"name\":\"_clear\",\"kind\":\"Any\",\"default\":0}]},{\"type\":\"model\",\"name\":\"NotificationArea1\",\"properties\":[{\"name\":\"js_events\",\"kind\":\"Any\",\"default\":{\"type\":\"map\"}},{\"name\":\"notifications\",\"kind\":\"Any\",\"default\":[]},{\"name\":\"position\",\"kind\":\"Any\",\"default\":\"bottom-right\"},{\"name\":\"_clear\",\"kind\":\"Any\",\"default\":0},{\"name\":\"types\",\"kind\":\"Any\",\"default\":[{\"type\":\"map\",\"entries\":[[\"type\",\"warning\"],[\"background\",\"#ffc107\"],[\"icon\",{\"type\":\"map\",\"entries\":[[\"className\",\"fas fa-exclamation-triangle\"],[\"tagName\",\"i\"],[\"color\",\"white\"]]}]]},{\"type\":\"map\",\"entries\":[[\"type\",\"info\"],[\"background\",\"#007bff\"],[\"icon\",{\"type\":\"map\",\"entries\":[[\"className\",\"fas fa-info-circle\"],[\"tagName\",\"i\"],[\"color\",\"white\"]]}]]}]}]},{\"type\":\"model\",\"name\":\"Notification\",\"properties\":[{\"name\":\"background\",\"kind\":\"Any\",\"default\":null},{\"name\":\"duration\",\"kind\":\"Any\",\"default\":3000},{\"name\":\"icon\",\"kind\":\"Any\",\"default\":null},{\"name\":\"message\",\"kind\":\"Any\",\"default\":\"\"},{\"name\":\"notification_type\",\"kind\":\"Any\",\"default\":null},{\"name\":\"_destroyed\",\"kind\":\"Any\",\"default\":false}]},{\"type\":\"model\",\"name\":\"TemplateActions1\",\"properties\":[{\"name\":\"open_modal\",\"kind\":\"Any\",\"default\":0},{\"name\":\"close_modal\",\"kind\":\"Any\",\"default\":0}]},{\"type\":\"model\",\"name\":\"BootstrapTemplateActions1\",\"properties\":[{\"name\":\"open_modal\",\"kind\":\"Any\",\"default\":0},{\"name\":\"close_modal\",\"kind\":\"Any\",\"default\":0}]},{\"type\":\"model\",\"name\":\"MaterialTemplateActions1\",\"properties\":[{\"name\":\"open_modal\",\"kind\":\"Any\",\"default\":0},{\"name\":\"close_modal\",\"kind\":\"Any\",\"default\":0}]}],\"roots\":[{\"type\":\"object\",\"name\":\"Row\",\"id\":\"p2996\",\"attributes\":{\"name\":\"Row04942\",\"tags\":[\"embedded\"],\"stylesheets\":[\"\\n:host(.pn-loading.pn-arc):before, .pn-loading.pn-arc:before {\\n  background-image: url(\\\"data:image/svg+xml;base64,PHN2ZyB4bWxucz0iaHR0cDovL3d3dy53My5vcmcvMjAwMC9zdmciIHN0eWxlPSJtYXJnaW46IGF1dG87IGJhY2tncm91bmQ6IG5vbmU7IGRpc3BsYXk6IGJsb2NrOyBzaGFwZS1yZW5kZXJpbmc6IGF1dG87IiB2aWV3Qm94PSIwIDAgMTAwIDEwMCIgcHJlc2VydmVBc3BlY3RSYXRpbz0ieE1pZFlNaWQiPiAgPGNpcmNsZSBjeD0iNTAiIGN5PSI1MCIgZmlsbD0ibm9uZSIgc3Ryb2tlPSIjYzNjM2MzIiBzdHJva2Utd2lkdGg9IjEwIiByPSIzNSIgc3Ryb2tlLWRhc2hhcnJheT0iMTY0LjkzMzYxNDMxMzQ2NDE1IDU2Ljk3Nzg3MTQzNzgyMTM4Ij4gICAgPGFuaW1hdGVUcmFuc2Zvcm0gYXR0cmlidXRlTmFtZT0idHJhbnNmb3JtIiB0eXBlPSJyb3RhdGUiIHJlcGVhdENvdW50PSJpbmRlZmluaXRlIiBkdXI9IjFzIiB2YWx1ZXM9IjAgNTAgNTA7MzYwIDUwIDUwIiBrZXlUaW1lcz0iMDsxIj48L2FuaW1hdGVUcmFuc2Zvcm0+ICA8L2NpcmNsZT48L3N2Zz4=\\\");\\n  background-size: auto calc(min(50%, 400px));\\n}\",{\"type\":\"object\",\"name\":\"ImportedStyleSheet\",\"id\":\"p2999\",\"attributes\":{\"url\":\"https://cdn.holoviz.org/panel/1.2.3/dist/css/loading.css\"}},{\"type\":\"object\",\"name\":\"ImportedStyleSheet\",\"id\":\"p3094\",\"attributes\":{\"url\":\"https://cdn.holoviz.org/panel/1.2.3/dist/css/listpanel.css\"}},{\"type\":\"object\",\"name\":\"ImportedStyleSheet\",\"id\":\"p2997\",\"attributes\":{\"url\":\"https://cdn.holoviz.org/panel/1.2.3/dist/bundled/theme/default.css\"}},{\"type\":\"object\",\"name\":\"ImportedStyleSheet\",\"id\":\"p2998\",\"attributes\":{\"url\":\"https://cdn.holoviz.org/panel/1.2.3/dist/bundled/theme/native.css\"}}],\"min_width\":650,\"margin\":0,\"sizing_mode\":\"stretch_width\",\"align\":\"start\",\"children\":[{\"type\":\"object\",\"name\":\"Spacer\",\"id\":\"p3000\",\"attributes\":{\"name\":\"HSpacer04953\",\"stylesheets\":[\"\\n:host(.pn-loading.pn-arc):before, .pn-loading.pn-arc:before {\\n  background-image: url(\\\"data:image/svg+xml;base64,PHN2ZyB4bWxucz0iaHR0cDovL3d3dy53My5vcmcvMjAwMC9zdmciIHN0eWxlPSJtYXJnaW46IGF1dG87IGJhY2tncm91bmQ6IG5vbmU7IGRpc3BsYXk6IGJsb2NrOyBzaGFwZS1yZW5kZXJpbmc6IGF1dG87IiB2aWV3Qm94PSIwIDAgMTAwIDEwMCIgcHJlc2VydmVBc3BlY3RSYXRpbz0ieE1pZFlNaWQiPiAgPGNpcmNsZSBjeD0iNTAiIGN5PSI1MCIgZmlsbD0ibm9uZSIgc3Ryb2tlPSIjYzNjM2MzIiBzdHJva2Utd2lkdGg9IjEwIiByPSIzNSIgc3Ryb2tlLWRhc2hhcnJheT0iMTY0LjkzMzYxNDMxMzQ2NDE1IDU2Ljk3Nzg3MTQzNzgyMTM4Ij4gICAgPGFuaW1hdGVUcmFuc2Zvcm0gYXR0cmlidXRlTmFtZT0idHJhbnNmb3JtIiB0eXBlPSJyb3RhdGUiIHJlcGVhdENvdW50PSJpbmRlZmluaXRlIiBkdXI9IjFzIiB2YWx1ZXM9IjAgNTAgNTA7MzYwIDUwIDUwIiBrZXlUaW1lcz0iMDsxIj48L2FuaW1hdGVUcmFuc2Zvcm0+ICA8L2NpcmNsZT48L3N2Zz4=\\\");\\n  background-size: auto calc(min(50%, 400px));\\n}\",{\"id\":\"p2999\"},{\"id\":\"p2997\"},{\"id\":\"p2998\"}],\"margin\":0,\"sizing_mode\":\"stretch_width\",\"align\":\"start\"}},{\"type\":\"object\",\"name\":\"Figure\",\"id\":\"p3006\",\"attributes\":{\"width\":650,\"height\":450,\"margin\":[5,10],\"sizing_mode\":\"fixed\",\"align\":\"start\",\"x_range\":{\"type\":\"object\",\"name\":\"Range1d\",\"id\":\"p3001\",\"attributes\":{\"tags\":[[[\"Ano\",\"Ano\",null]],[]],\"start\":2000,\"end\":2019,\"reset_start\":2000,\"reset_end\":2019}},\"y_range\":{\"type\":\"object\",\"name\":\"Range1d\",\"id\":\"p3002\",\"attributes\":{\"tags\":[[[\"Taxa Selic\",\"Taxa Selic\",null]],{\"type\":\"map\",\"entries\":[[\"invert_yaxis\",false],[\"autorange\",false]]}],\"start\":5,\"end\":30,\"reset_start\":5,\"reset_end\":30}},\"x_scale\":{\"type\":\"object\",\"name\":\"LinearScale\",\"id\":\"p3018\"},\"y_scale\":{\"type\":\"object\",\"name\":\"LinearScale\",\"id\":\"p3019\"},\"title\":{\"type\":\"object\",\"name\":\"Title\",\"id\":\"p3009\",\"attributes\":{\"text\":\"Taxa b\\u00e1sica de juros - Selic, jan/2000-dez/2019 (m\\u00eas, anualizada, %)\",\"text_color\":\"black\",\"text_font_size\":\"11pt\"}},\"renderers\":[{\"type\":\"object\",\"name\":\"GlyphRenderer\",\"id\":\"p3058\",\"attributes\":{\"data_source\":{\"type\":\"object\",\"name\":\"ColumnDataSource\",\"id\":\"p3048\",\"attributes\":{\"selected\":{\"type\":\"object\",\"name\":\"Selection\",\"id\":\"p3050\",\"attributes\":{\"indices\":[],\"line_indices\":[]}},\"selection_policy\":{\"type\":\"object\",\"name\":\"UnionRenderers\",\"id\":\"p3049\"},\"data\":{\"type\":\"map\",\"entries\":[[\"Ano\",{\"type\":\"ndarray\",\"array\":{\"type\":\"bytes\",\"data\":\"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\"},\"shape\":[480],\"dtype\":\"float64\",\"order\":\"little\"}],[\"Taxa Selic\",{\"type\":\"ndarray\",\"array\":{\"type\":\"bytes\",\"data\":\"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\"},\"shape\":[480],\"dtype\":\"float64\",\"order\":\"little\"}],[\"Taxa_Selic\",{\"type\":\"ndarray\",\"array\":{\"type\":\"bytes\",\"data\":\"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\"},\"shape\":[480],\"dtype\":\"float64\",\"order\":\"little\"}]]}}},\"view\":{\"type\":\"object\",\"name\":\"CDSView\",\"id\":\"p3059\",\"attributes\":{\"filter\":{\"type\":\"object\",\"name\":\"AllIndices\",\"id\":\"p3060\"}}},\"glyph\":{\"type\":\"object\",\"name\":\"Line\",\"id\":\"p3055\",\"attributes\":{\"tags\":[\"apply_ranges\"],\"x\":{\"type\":\"field\",\"field\":\"Ano\"},\"y\":{\"type\":\"field\",\"field\":\"Taxa Selic\"},\"line_color\":\"crimson\",\"line_width\":2}},\"selection_glyph\":{\"type\":\"object\",\"name\":\"Line\",\"id\":\"p3061\",\"attributes\":{\"tags\":[\"apply_ranges\"],\"x\":{\"type\":\"field\",\"field\":\"Ano\"},\"y\":{\"type\":\"field\",\"field\":\"Taxa Selic\"},\"line_color\":\"crimson\",\"line_width\":2}},\"nonselection_glyph\":{\"type\":\"object\",\"name\":\"Line\",\"id\":\"p3056\",\"attributes\":{\"tags\":[\"apply_ranges\"],\"x\":{\"type\":\"field\",\"field\":\"Ano\"},\"y\":{\"type\":\"field\",\"field\":\"Taxa Selic\"},\"line_color\":\"crimson\",\"line_alpha\":1,\"line_width\":2}},\"muted_glyph\":{\"type\":\"object\",\"name\":\"Line\",\"id\":\"p3057\",\"attributes\":{\"tags\":[\"apply_ranges\"],\"x\":{\"type\":\"field\",\"field\":\"Ano\"},\"y\":{\"type\":\"field\",\"field\":\"Taxa Selic\"},\"line_color\":\"crimson\",\"line_alpha\":0.2,\"line_width\":2}}}}],\"toolbar\":{\"type\":\"object\",\"name\":\"Toolbar\",\"id\":\"p3014\",\"attributes\":{\"tools\":[{\"type\":\"object\",\"name\":\"HoverTool\",\"id\":\"p3005\",\"attributes\":{\"tags\":[\"hv_created\"],\"renderers\":[{\"id\":\"p3058\"}],\"tooltips\":[[\"Ano\",\"@{Ano}\"],[\"Taxa Selic\",\"@{Taxa_Selic}\"]]}},{\"type\":\"object\",\"name\":\"SaveTool\",\"id\":\"p3034\"},{\"type\":\"object\",\"name\":\"PanTool\",\"id\":\"p3035\"},{\"type\":\"object\",\"name\":\"WheelZoomTool\",\"id\":\"p3036\"},{\"type\":\"object\",\"name\":\"BoxZoomTool\",\"id\":\"p3037\",\"attributes\":{\"overlay\":{\"type\":\"object\",\"name\":\"BoxAnnotation\",\"id\":\"p3038\",\"attributes\":{\"syncable\":false,\"level\":\"overlay\",\"visible\":false,\"left_units\":\"canvas\",\"right_units\":\"canvas\",\"bottom_units\":\"canvas\",\"top_units\":\"canvas\",\"line_color\":\"black\",\"line_alpha\":1.0,\"line_width\":2,\"line_dash\":[4,4],\"fill_color\":\"lightgrey\",\"fill_alpha\":0.5}}}},{\"type\":\"object\",\"name\":\"ResetTool\",\"id\":\"p3039\"}],\"active_drag\":{\"id\":\"p3035\"},\"active_scroll\":{\"id\":\"p3036\"}}},\"left\":[{\"type\":\"object\",\"name\":\"LinearAxis\",\"id\":\"p3027\",\"attributes\":{\"ticker\":{\"type\":\"object\",\"name\":\"BasicTicker\",\"id\":\"p3029\",\"attributes\":{\"desired_num_ticks\":24,\"mantissas\":[1,2,5]}},\"formatter\":{\"type\":\"object\",\"name\":\"PrintfTickFormatter\",\"id\":\"p3064\",\"attributes\":{\"format\":\"%.1f\"}},\"axis_label\":\"taxa mensal anualizada, %\",\"axis_label_text_font_size\":\"8pt\",\"major_label_policy\":{\"type\":\"object\",\"name\":\"AllLabels\",\"id\":\"p3030\"},\"major_label_text_font_size\":\"8pt\"}}],\"below\":[{\"type\":\"object\",\"name\":\"LinearAxis\",\"id\":\"p3020\",\"attributes\":{\"ticker\":{\"type\":\"object\",\"name\":\"BasicTicker\",\"id\":\"p3022\",\"attributes\":{\"desired_num_ticks\":24,\"mantissas\":[1,2,5]}},\"formatter\":{\"type\":\"object\",\"name\":\"BasicTickFormatter\",\"id\":\"p3021\"},\"axis_label\":\"\",\"axis_label_text_font_size\":\"8pt\",\"major_label_orientation\":0.5235987755982988,\"major_label_policy\":{\"type\":\"object\",\"name\":\"AllLabels\",\"id\":\"p3023\"},\"major_label_text_font_size\":\"8pt\"}}],\"center\":[{\"type\":\"object\",\"name\":\"Grid\",\"id\":\"p3026\",\"attributes\":{\"axis\":{\"id\":\"p3020\"},\"grid_line_color\":null}},{\"type\":\"object\",\"name\":\"Grid\",\"id\":\"p3033\",\"attributes\":{\"dimension\":1,\"axis\":{\"id\":\"p3027\"},\"grid_line_color\":null}}],\"min_border_top\":10,\"min_border_bottom\":10,\"min_border_left\":10,\"min_border_right\":10,\"output_backend\":\"webgl\"}},{\"type\":\"object\",\"name\":\"Spacer\",\"id\":\"p3092\",\"attributes\":{\"name\":\"HSpacer04956\",\"stylesheets\":[\"\\n:host(.pn-loading.pn-arc):before, .pn-loading.pn-arc:before {\\n  background-image: url(\\\"data:image/svg+xml;base64,PHN2ZyB4bWxucz0iaHR0cDovL3d3dy53My5vcmcvMjAwMC9zdmciIHN0eWxlPSJtYXJnaW46IGF1dG87IGJhY2tncm91bmQ6IG5vbmU7IGRpc3BsYXk6IGJsb2NrOyBzaGFwZS1yZW5kZXJpbmc6IGF1dG87IiB2aWV3Qm94PSIwIDAgMTAwIDEwMCIgcHJlc2VydmVBc3BlY3RSYXRpbz0ieE1pZFlNaWQiPiAgPGNpcmNsZSBjeD0iNTAiIGN5PSI1MCIgZmlsbD0ibm9uZSIgc3Ryb2tlPSIjYzNjM2MzIiBzdHJva2Utd2lkdGg9IjEwIiByPSIzNSIgc3Ryb2tlLWRhc2hhcnJheT0iMTY0LjkzMzYxNDMxMzQ2NDE1IDU2Ljk3Nzg3MTQzNzgyMTM4Ij4gICAgPGFuaW1hdGVUcmFuc2Zvcm0gYXR0cmlidXRlTmFtZT0idHJhbnNmb3JtIiB0eXBlPSJyb3RhdGUiIHJlcGVhdENvdW50PSJpbmRlZmluaXRlIiBkdXI9IjFzIiB2YWx1ZXM9IjAgNTAgNTA7MzYwIDUwIDUwIiBrZXlUaW1lcz0iMDsxIj48L2FuaW1hdGVUcmFuc2Zvcm0+ICA8L2NpcmNsZT48L3N2Zz4=\\\");\\n  background-size: auto calc(min(50%, 400px));\\n}\",{\"id\":\"p2999\"},{\"id\":\"p2997\"},{\"id\":\"p2998\"}],\"margin\":0,\"sizing_mode\":\"stretch_width\",\"align\":\"start\"}}]}}],\"callbacks\":{\"type\":\"map\"}}};\n",
       "  var render_items = [{\"docid\":\"3002c35b-fd46-49c6-a2da-bda99dd8a3e5\",\"roots\":{\"p2996\":\"c911e53d-90dd-445f-a83c-37c80d194728\"},\"root_ids\":[\"p2996\"]}];\n",
       "  var docs = Object.values(docs_json)\n",
       "  if (!docs) {\n",
       "    return\n",
       "  }\n",
       "  const py_version = docs[0].version.replace('rc', '-rc.').replace('.dev', '-dev.')\n",
       "  const is_dev = py_version.indexOf(\"+\") !== -1 || py_version.indexOf(\"-\") !== -1\n",
       "  function embed_document(root) {\n",
       "    var Bokeh = get_bokeh(root)\n",
       "    Bokeh.embed.embed_items_notebook(docs_json, render_items);\n",
       "    for (const render_item of render_items) {\n",
       "      for (const root_id of render_item.root_ids) {\n",
       "\tconst id_el = document.getElementById(root_id)\n",
       "\tif (id_el.children.length && (id_el.children[0].className === 'bk-root')) {\n",
       "\t  const root_el = id_el.children[0]\n",
       "\t  root_el.id = root_el.id + '-rendered'\n",
       "\t}\n",
       "      }\n",
       "    }\n",
       "  }\n",
       "  function get_bokeh(root) {\n",
       "    if (root.Bokeh === undefined) {\n",
       "      return null\n",
       "    } else if (root.Bokeh.version !== py_version && !is_dev) {\n",
       "      if (root.Bokeh.versions === undefined || !root.Bokeh.versions.has(py_version)) {\n",
       "\treturn null\n",
       "      }\n",
       "      return root.Bokeh.versions.get(py_version);\n",
       "    } else if (root.Bokeh.version === py_version) {\n",
       "      return root.Bokeh\n",
       "    }\n",
       "    return null\n",
       "  }\n",
       "  function is_loaded(root) {\n",
       "    var Bokeh = get_bokeh(root)\n",
       "    return (Bokeh != null && Bokeh.Panel !== undefined)\n",
       "  }\n",
       "  if (is_loaded(root)) {\n",
       "    embed_document(root);\n",
       "  } else {\n",
       "    var attempts = 0;\n",
       "    var timer = setInterval(function(root) {\n",
       "      if (is_loaded(root)) {\n",
       "        clearInterval(timer);\n",
       "        embed_document(root);\n",
       "      } else if (document.readyState == \"complete\") {\n",
       "        attempts++;\n",
       "        if (attempts > 200) {\n",
       "          clearInterval(timer);\n",
       "\t  var Bokeh = get_bokeh(root)\n",
       "\t  if (Bokeh == null || Bokeh.Panel == null) {\n",
       "            console.warn(\"Panel: ERROR: Unable to run Panel code because Bokeh or Panel library is missing\");\n",
       "\t  } else {\n",
       "\t    console.warn(\"Panel: WARNING: Attempting to render but not all required libraries could be resolved.\")\n",
       "\t    embed_document(root)\n",
       "\t  }\n",
       "        }\n",
       "      }\n",
       "    }, 25, root)\n",
       "  }\n",
       "})(window);</script>"
      ],
      "text/plain": [
       ":Curve   [Ano]   (Taxa Selic)"
      ]
     },
     "execution_count": 33,
     "metadata": {
      "application/vnd.holoviews_exec.v0+json": {
       "id": "p2996"
      }
     },
     "output_type": "execute_result"
    }
   ],
   "source": [
    "selic"
   ]
  },
  {
   "cell_type": "markdown",
   "metadata": {
    "slideshow": {
     "slide_type": "slide"
    }
   },
   "source": [
    "## Câmbio\n",
    "\n",
    "A **política cambial**, por sua vez, buscou conter a apreciação do Real e induzir sua depreciação em relação ao dólar. Exemplos:"
   ]
  },
  {
   "cell_type": "markdown",
   "metadata": {
    "slideshow": {
     "slide_type": "fragment"
    }
   },
   "source": [
    "- introdução do IOF sobre derivativos cambiais e variação de prazos e alíquotas sobre outras aplicações para desestimular a abundante entrada de capital de curto prazo; "
   ]
  },
  {
   "cell_type": "markdown",
   "metadata": {
    "slideshow": {
     "slide_type": "fragment"
    }
   },
   "source": [
    "- operações de compra de dólar com o objetivo de forçar a depreciação do Real."
   ]
  },
  {
   "cell_type": "markdown",
   "metadata": {
    "slideshow": {
     "slide_type": "slide"
    }
   },
   "source": [
    "## Mudanças\n",
    "\n",
    "Essa política também variou ao longo do período - por exemplo com o Banco Central voltando às operações de venda de dólar em meados de 2013."
   ]
  },
  {
   "cell_type": "markdown",
   "metadata": {
    "slideshow": {
     "slide_type": "fragment"
    }
   },
   "source": [
    "Além disso, lembrar: "
   ]
  },
  {
   "cell_type": "markdown",
   "metadata": {
    "slideshow": {
     "slide_type": "fragment"
    }
   },
   "source": [
    "a política de redução da taxa Selic contribuía igualmente para reduzir a atração dos títulos brasileiros, diminuir a entrada de dólares e conter a valorização ou induzir a desvalorização do Real."
   ]
  },
  {
   "cell_type": "markdown",
   "metadata": {
    "slideshow": {
     "slide_type": "slide"
    }
   },
   "source": [
    "## Política fiscal\n",
    "\n",
    "Com relação ao **setor público**, o quadro é mais complexo. Manteve-se o compromisso formal com o superávit primário, mas a tendência foi de aceitar ou buscar a diminuição do resultado primário no período."
   ]
  },
  {
   "cell_type": "markdown",
   "metadata": {
    "slideshow": {
     "slide_type": "fragment"
    }
   },
   "source": [
    "O período aprofundou tendências e políticas iniciadas já no 2o governo Lula."
   ]
  },
  {
   "cell_type": "markdown",
   "metadata": {
    "slideshow": {
     "slide_type": "fragment"
    }
   },
   "source": [
    "Essas políticas incluíam a atuação mais incisiva das empresas estatais e a ampliação de renúncias fiscais (subsídos e desonerações), combinadas com artifícios contábeis."
   ]
  },
  {
   "cell_type": "markdown",
   "metadata": {
    "slideshow": {
     "slide_type": "subslide"
    }
   },
   "source": [
    "Outra tendência foi a continuidade do crescimento das despesas primárias, mas agora *acompanhada por queda da receita líquida* do governo central (receita total menos transferências), conf. a figura a seguir."
   ]
  },
  {
   "cell_type": "markdown",
   "metadata": {
    "slideshow": {
     "slide_type": "fragment"
    }
   },
   "source": [
    "Observar que, em 2011, a queda da receita líquida foi acompanhada pela *redução* da despesa primária. A partir de 2012, porém, a tendência se inverte, isto é, a receita líquida continuou caindo mas com aumento da despesa primária."
   ]
  },
  {
   "cell_type": "code",
   "execution_count": 34,
   "metadata": {
    "slideshow": {
     "slide_type": "notes"
    }
   },
   "outputs": [],
   "source": [
    "r = pd.read_excel('br_receita_despesa_1997_2021.xlsx')\n",
    "\n",
    "rec_desp = r.hvplot.line('Ano', ['Receita líquida', 'Despesa primária'],\n",
    "                         height=450,\n",
    "                         width=650,\n",
    "                         rot=30,\n",
    "                         padding=0.05,\n",
    "                         group_label='Resultados',\n",
    "                         legend='bottom',\n",
    "                         cmap='Set1',\n",
    "                         xlabel='',\n",
    "                         ylabel='%',\n",
    "                         xlim=(1997, 2021),\n",
    "                         ylim=(12, 27),\n",
    "                         yformatter='%.1f',\n",
    "                         xticks=24,\n",
    "                         yticks=18,\n",
    "                         label='Receita e despesa do governo central, Brasil, 1997-2021 (% do PIB)'\n",
    "                        ).opts(fontsize={'title': 11, 'labels': 8, 'xticks': 8, \n",
    "                                         'yticks': 8})\n",
    "\n",
    "vline = hv.VLine(2010)\n",
    "\n",
    "receita = rec_desp * vline.opts(color='limegreen', line_dash='dashed', line_width=1)"
   ]
  },
  {
   "cell_type": "code",
   "execution_count": 35,
   "metadata": {
    "slideshow": {
     "slide_type": "slide"
    }
   },
   "outputs": [
    {
     "data": {},
     "metadata": {},
     "output_type": "display_data"
    },
    {
     "data": {
      "application/vnd.holoviews_exec.v0+json": "",
      "text/html": [
       "<div id='p3147'>\n",
       "  <div id=\"c9693950-73b1-4998-a493-10029fc282f3\" data-root-id=\"p3147\" style=\"display: contents;\"></div>\n",
       "</div>\n",
       "<script type=\"application/javascript\">(function(root) {\n",
       "  var docs_json = {\"222c1468-9733-4130-9143-cc4639355ffb\":{\"version\":\"3.1.1\",\"title\":\"Bokeh Application\",\"defs\":[{\"type\":\"model\",\"name\":\"ReactiveHTML1\"},{\"type\":\"model\",\"name\":\"FlexBox1\",\"properties\":[{\"name\":\"align_content\",\"kind\":\"Any\",\"default\":\"flex-start\"},{\"name\":\"align_items\",\"kind\":\"Any\",\"default\":\"flex-start\"},{\"name\":\"flex_direction\",\"kind\":\"Any\",\"default\":\"row\"},{\"name\":\"flex_wrap\",\"kind\":\"Any\",\"default\":\"wrap\"},{\"name\":\"justify_content\",\"kind\":\"Any\",\"default\":\"flex-start\"}]},{\"type\":\"model\",\"name\":\"FloatPanel1\",\"properties\":[{\"name\":\"config\",\"kind\":\"Any\",\"default\":{\"type\":\"map\"}},{\"name\":\"contained\",\"kind\":\"Any\",\"default\":true},{\"name\":\"position\",\"kind\":\"Any\",\"default\":\"right-top\"},{\"name\":\"offsetx\",\"kind\":\"Any\",\"default\":null},{\"name\":\"offsety\",\"kind\":\"Any\",\"default\":null},{\"name\":\"theme\",\"kind\":\"Any\",\"default\":\"primary\"},{\"name\":\"status\",\"kind\":\"Any\",\"default\":\"normalized\"}]},{\"type\":\"model\",\"name\":\"GridStack1\",\"properties\":[{\"name\":\"mode\",\"kind\":\"Any\",\"default\":\"warn\"},{\"name\":\"ncols\",\"kind\":\"Any\",\"default\":null},{\"name\":\"nrows\",\"kind\":\"Any\",\"default\":null},{\"name\":\"allow_resize\",\"kind\":\"Any\",\"default\":true},{\"name\":\"allow_drag\",\"kind\":\"Any\",\"default\":true},{\"name\":\"state\",\"kind\":\"Any\",\"default\":[]}]},{\"type\":\"model\",\"name\":\"drag1\",\"properties\":[{\"name\":\"slider_width\",\"kind\":\"Any\",\"default\":5},{\"name\":\"slider_color\",\"kind\":\"Any\",\"default\":\"black\"},{\"name\":\"value\",\"kind\":\"Any\",\"default\":50}]},{\"type\":\"model\",\"name\":\"click1\",\"properties\":[{\"name\":\"terminal_output\",\"kind\":\"Any\",\"default\":\"\"},{\"name\":\"debug_name\",\"kind\":\"Any\",\"default\":\"\"},{\"name\":\"clears\",\"kind\":\"Any\",\"default\":0}]},{\"type\":\"model\",\"name\":\"FastWrapper1\",\"properties\":[{\"name\":\"object\",\"kind\":\"Any\",\"default\":null},{\"name\":\"style\",\"kind\":\"Any\",\"default\":null}]},{\"type\":\"model\",\"name\":\"NotificationAreaBase1\",\"properties\":[{\"name\":\"js_events\",\"kind\":\"Any\",\"default\":{\"type\":\"map\"}},{\"name\":\"position\",\"kind\":\"Any\",\"default\":\"bottom-right\"},{\"name\":\"_clear\",\"kind\":\"Any\",\"default\":0}]},{\"type\":\"model\",\"name\":\"NotificationArea1\",\"properties\":[{\"name\":\"js_events\",\"kind\":\"Any\",\"default\":{\"type\":\"map\"}},{\"name\":\"notifications\",\"kind\":\"Any\",\"default\":[]},{\"name\":\"position\",\"kind\":\"Any\",\"default\":\"bottom-right\"},{\"name\":\"_clear\",\"kind\":\"Any\",\"default\":0},{\"name\":\"types\",\"kind\":\"Any\",\"default\":[{\"type\":\"map\",\"entries\":[[\"type\",\"warning\"],[\"background\",\"#ffc107\"],[\"icon\",{\"type\":\"map\",\"entries\":[[\"className\",\"fas fa-exclamation-triangle\"],[\"tagName\",\"i\"],[\"color\",\"white\"]]}]]},{\"type\":\"map\",\"entries\":[[\"type\",\"info\"],[\"background\",\"#007bff\"],[\"icon\",{\"type\":\"map\",\"entries\":[[\"className\",\"fas fa-info-circle\"],[\"tagName\",\"i\"],[\"color\",\"white\"]]}]]}]}]},{\"type\":\"model\",\"name\":\"Notification\",\"properties\":[{\"name\":\"background\",\"kind\":\"Any\",\"default\":null},{\"name\":\"duration\",\"kind\":\"Any\",\"default\":3000},{\"name\":\"icon\",\"kind\":\"Any\",\"default\":null},{\"name\":\"message\",\"kind\":\"Any\",\"default\":\"\"},{\"name\":\"notification_type\",\"kind\":\"Any\",\"default\":null},{\"name\":\"_destroyed\",\"kind\":\"Any\",\"default\":false}]},{\"type\":\"model\",\"name\":\"TemplateActions1\",\"properties\":[{\"name\":\"open_modal\",\"kind\":\"Any\",\"default\":0},{\"name\":\"close_modal\",\"kind\":\"Any\",\"default\":0}]},{\"type\":\"model\",\"name\":\"BootstrapTemplateActions1\",\"properties\":[{\"name\":\"open_modal\",\"kind\":\"Any\",\"default\":0},{\"name\":\"close_modal\",\"kind\":\"Any\",\"default\":0}]},{\"type\":\"model\",\"name\":\"MaterialTemplateActions1\",\"properties\":[{\"name\":\"open_modal\",\"kind\":\"Any\",\"default\":0},{\"name\":\"close_modal\",\"kind\":\"Any\",\"default\":0}]}],\"roots\":[{\"type\":\"object\",\"name\":\"Row\",\"id\":\"p3147\",\"attributes\":{\"name\":\"Row05138\",\"tags\":[\"embedded\"],\"stylesheets\":[\"\\n:host(.pn-loading.pn-arc):before, .pn-loading.pn-arc:before {\\n  background-image: url(\\\"data:image/svg+xml;base64,PHN2ZyB4bWxucz0iaHR0cDovL3d3dy53My5vcmcvMjAwMC9zdmciIHN0eWxlPSJtYXJnaW46IGF1dG87IGJhY2tncm91bmQ6IG5vbmU7IGRpc3BsYXk6IGJsb2NrOyBzaGFwZS1yZW5kZXJpbmc6IGF1dG87IiB2aWV3Qm94PSIwIDAgMTAwIDEwMCIgcHJlc2VydmVBc3BlY3RSYXRpbz0ieE1pZFlNaWQiPiAgPGNpcmNsZSBjeD0iNTAiIGN5PSI1MCIgZmlsbD0ibm9uZSIgc3Ryb2tlPSIjYzNjM2MzIiBzdHJva2Utd2lkdGg9IjEwIiByPSIzNSIgc3Ryb2tlLWRhc2hhcnJheT0iMTY0LjkzMzYxNDMxMzQ2NDE1IDU2Ljk3Nzg3MTQzNzgyMTM4Ij4gICAgPGFuaW1hdGVUcmFuc2Zvcm0gYXR0cmlidXRlTmFtZT0idHJhbnNmb3JtIiB0eXBlPSJyb3RhdGUiIHJlcGVhdENvdW50PSJpbmRlZmluaXRlIiBkdXI9IjFzIiB2YWx1ZXM9IjAgNTAgNTA7MzYwIDUwIDUwIiBrZXlUaW1lcz0iMDsxIj48L2FuaW1hdGVUcmFuc2Zvcm0+ICA8L2NpcmNsZT48L3N2Zz4=\\\");\\n  background-size: auto calc(min(50%, 400px));\\n}\",{\"type\":\"object\",\"name\":\"ImportedStyleSheet\",\"id\":\"p3150\",\"attributes\":{\"url\":\"https://cdn.holoviz.org/panel/1.2.3/dist/css/loading.css\"}},{\"type\":\"object\",\"name\":\"ImportedStyleSheet\",\"id\":\"p3273\",\"attributes\":{\"url\":\"https://cdn.holoviz.org/panel/1.2.3/dist/css/listpanel.css\"}},{\"type\":\"object\",\"name\":\"ImportedStyleSheet\",\"id\":\"p3148\",\"attributes\":{\"url\":\"https://cdn.holoviz.org/panel/1.2.3/dist/bundled/theme/default.css\"}},{\"type\":\"object\",\"name\":\"ImportedStyleSheet\",\"id\":\"p3149\",\"attributes\":{\"url\":\"https://cdn.holoviz.org/panel/1.2.3/dist/bundled/theme/native.css\"}}],\"min_width\":650,\"margin\":0,\"sizing_mode\":\"stretch_width\",\"align\":\"start\",\"children\":[{\"type\":\"object\",\"name\":\"Spacer\",\"id\":\"p3151\",\"attributes\":{\"name\":\"HSpacer05148\",\"stylesheets\":[\"\\n:host(.pn-loading.pn-arc):before, .pn-loading.pn-arc:before {\\n  background-image: url(\\\"data:image/svg+xml;base64,PHN2ZyB4bWxucz0iaHR0cDovL3d3dy53My5vcmcvMjAwMC9zdmciIHN0eWxlPSJtYXJnaW46IGF1dG87IGJhY2tncm91bmQ6IG5vbmU7IGRpc3BsYXk6IGJsb2NrOyBzaGFwZS1yZW5kZXJpbmc6IGF1dG87IiB2aWV3Qm94PSIwIDAgMTAwIDEwMCIgcHJlc2VydmVBc3BlY3RSYXRpbz0ieE1pZFlNaWQiPiAgPGNpcmNsZSBjeD0iNTAiIGN5PSI1MCIgZmlsbD0ibm9uZSIgc3Ryb2tlPSIjYzNjM2MzIiBzdHJva2Utd2lkdGg9IjEwIiByPSIzNSIgc3Ryb2tlLWRhc2hhcnJheT0iMTY0LjkzMzYxNDMxMzQ2NDE1IDU2Ljk3Nzg3MTQzNzgyMTM4Ij4gICAgPGFuaW1hdGVUcmFuc2Zvcm0gYXR0cmlidXRlTmFtZT0idHJhbnNmb3JtIiB0eXBlPSJyb3RhdGUiIHJlcGVhdENvdW50PSJpbmRlZmluaXRlIiBkdXI9IjFzIiB2YWx1ZXM9IjAgNTAgNTA7MzYwIDUwIDUwIiBrZXlUaW1lcz0iMDsxIj48L2FuaW1hdGVUcmFuc2Zvcm0+ICA8L2NpcmNsZT48L3N2Zz4=\\\");\\n  background-size: auto calc(min(50%, 400px));\\n}\",{\"id\":\"p3150\"},{\"id\":\"p3148\"},{\"id\":\"p3149\"}],\"margin\":0,\"sizing_mode\":\"stretch_width\",\"align\":\"start\"}},{\"type\":\"object\",\"name\":\"Figure\",\"id\":\"p3158\",\"attributes\":{\"width\":650,\"height\":450,\"margin\":[5,10],\"sizing_mode\":\"fixed\",\"align\":\"start\",\"x_range\":{\"type\":\"object\",\"name\":\"Range1d\",\"id\":\"p3152\",\"attributes\":{\"tags\":[[[\"Ano\",\"Ano\",null]],[]],\"start\":1997,\"end\":2021,\"reset_start\":1997,\"reset_end\":2021}},\"y_range\":{\"type\":\"object\",\"name\":\"Range1d\",\"id\":\"p3153\",\"attributes\":{\"tags\":[[[\"value\",\"value\",null]],{\"type\":\"map\",\"entries\":[[\"invert_yaxis\",false],[\"autorange\",false]]}],\"start\":12,\"end\":27,\"reset_start\":12,\"reset_end\":27}},\"x_scale\":{\"type\":\"object\",\"name\":\"LinearScale\",\"id\":\"p3170\"},\"y_scale\":{\"type\":\"object\",\"name\":\"LinearScale\",\"id\":\"p3171\"},\"title\":{\"type\":\"object\",\"name\":\"Title\",\"id\":\"p3161\",\"attributes\":{\"text\":\"Receita e despesa do governo central, Brasil, 1997-2021 (% do PIB)\",\"text_color\":\"black\",\"text_font_size\":\"11pt\"}},\"renderers\":[{\"type\":\"object\",\"name\":\"GlyphRenderer\",\"id\":\"p3223\",\"attributes\":{\"name\":\"Receita l\\u00edquida\",\"data_source\":{\"type\":\"object\",\"name\":\"ColumnDataSource\",\"id\":\"p3213\",\"attributes\":{\"selected\":{\"type\":\"object\",\"name\":\"Selection\",\"id\":\"p3215\",\"attributes\":{\"indices\":[],\"line_indices\":[]}},\"selection_policy\":{\"type\":\"object\",\"name\":\"UnionRenderers\",\"id\":\"p3214\"},\"data\":{\"type\":\"map\",\"entries\":[[\"Ano\",{\"type\":\"ndarray\",\"array\":{\"type\":\"bytes\",\"data\":\"zQcAAM4HAADPBwAA0AcAANEHAADSBwAA0wcAANQHAADVBwAA1gcAANcHAADYBwAA2QcAANoHAADbBwAA3AcAAN0HAADeBwAA3wcAAOAHAADhBwAA4gcAAOMHAADkBwAA5QcAAA==\"},\"shape\":[25],\"dtype\":\"int32\",\"order\":\"little\"}],[\"value\",{\"type\":\"ndarray\",\"array\":{\"type\":\"bytes\",\"data\":\"ZmZmZmZmLEAzMzMzMzMvQGZmZmZmZjBAAAAAAACAMEDNzMzMzEwxQAAAAAAAADJAZmZmZmZmMUCamZmZmRkyQM3MzMzMzDJAzczMzMzMMkAAAAAAAAAzQGZmZmZm5jJAmpmZmZmZMkAzMzMzMzM0QGZmZmZm5jJAMzMzMzOzMkAzMzMzM7MyQDMzMzMzszFAZmZmZmZmMUBmZmZmZmYxQAAAAAAAgDFAmpmZmZmZMUAzMzMzMzMyQJqZmZmZGTBAMzMzMzMzMkA=\"},\"shape\":[25],\"dtype\":\"float64\",\"order\":\"little\"}],[\"Resultados\",[\"Receita l\\u00edquida\",\"Receita l\\u00edquida\",\"Receita l\\u00edquida\",\"Receita l\\u00edquida\",\"Receita l\\u00edquida\",\"Receita l\\u00edquida\",\"Receita l\\u00edquida\",\"Receita l\\u00edquida\",\"Receita l\\u00edquida\",\"Receita l\\u00edquida\",\"Receita l\\u00edquida\",\"Receita l\\u00edquida\",\"Receita l\\u00edquida\",\"Receita l\\u00edquida\",\"Receita l\\u00edquida\",\"Receita l\\u00edquida\",\"Receita l\\u00edquida\",\"Receita l\\u00edquida\",\"Receita l\\u00edquida\",\"Receita l\\u00edquida\",\"Receita l\\u00edquida\",\"Receita l\\u00edquida\",\"Receita l\\u00edquida\",\"Receita l\\u00edquida\",\"Receita l\\u00edquida\"]]]}}},\"view\":{\"type\":\"object\",\"name\":\"CDSView\",\"id\":\"p3224\",\"attributes\":{\"filter\":{\"type\":\"object\",\"name\":\"AllIndices\",\"id\":\"p3225\"}}},\"glyph\":{\"type\":\"object\",\"name\":\"Line\",\"id\":\"p3220\",\"attributes\":{\"tags\":[\"apply_ranges\"],\"x\":{\"type\":\"field\",\"field\":\"Ano\"},\"y\":{\"type\":\"field\",\"field\":\"value\"},\"line_color\":\"#30a2da\",\"line_width\":2}},\"selection_glyph\":{\"type\":\"object\",\"name\":\"Line\",\"id\":\"p3228\",\"attributes\":{\"tags\":[\"apply_ranges\"],\"x\":{\"type\":\"field\",\"field\":\"Ano\"},\"y\":{\"type\":\"field\",\"field\":\"value\"},\"line_color\":\"#30a2da\",\"line_width\":2}},\"nonselection_glyph\":{\"type\":\"object\",\"name\":\"Line\",\"id\":\"p3221\",\"attributes\":{\"tags\":[\"apply_ranges\"],\"x\":{\"type\":\"field\",\"field\":\"Ano\"},\"y\":{\"type\":\"field\",\"field\":\"value\"},\"line_color\":\"#30a2da\",\"line_alpha\":0.1,\"line_width\":2}},\"muted_glyph\":{\"type\":\"object\",\"name\":\"Line\",\"id\":\"p3222\",\"attributes\":{\"tags\":[\"apply_ranges\"],\"x\":{\"type\":\"field\",\"field\":\"Ano\"},\"y\":{\"type\":\"field\",\"field\":\"value\"},\"line_color\":\"#30a2da\",\"line_alpha\":0.2,\"line_width\":2}}}},{\"type\":\"object\",\"name\":\"GlyphRenderer\",\"id\":\"p3239\",\"attributes\":{\"name\":\"Despesa prim\\u00e1ria\",\"data_source\":{\"type\":\"object\",\"name\":\"ColumnDataSource\",\"id\":\"p3229\",\"attributes\":{\"selected\":{\"type\":\"object\",\"name\":\"Selection\",\"id\":\"p3231\",\"attributes\":{\"indices\":[],\"line_indices\":[]}},\"selection_policy\":{\"type\":\"object\",\"name\":\"UnionRenderers\",\"id\":\"p3230\"},\"data\":{\"type\":\"map\",\"entries\":[[\"Ano\",{\"type\":\"ndarray\",\"array\":{\"type\":\"bytes\",\"data\":\"zQcAAM4HAADPBwAA0AcAANEHAADSBwAA0wcAANQHAADVBwAA1gcAANcHAADYBwAA2QcAANoHAADbBwAA3AcAAN0HAADeBwAA3wcAAOAHAADhBwAA4gcAAOMHAADkBwAA5QcAAA==\"},\"shape\":[25],\"dtype\":\"int32\",\"order\":\"little\"}],[\"value\",{\"type\":\"ndarray\",\"array\":{\"type\":\"bytes\",\"data\":\"AAAAAAAALECamZmZmZktQDMzMzMzMy1AmpmZmZmZLUAzMzMzMzMvQM3MzMzMzC9AMzMzMzMzLkAzMzMzMzMvQGZmZmZmZjBAzczMzMzMMEBmZmZmZuYwQJqZmZmZmTBAZmZmZmZmMUAzMzMzMzMyQM3MzMzMzDBAZmZmZmbmMEDNzMzMzEwxQJqZmZmZGTJAZmZmZmZmM0BmZmZmZuYzQGZmZmZmZjNAzczMzMxMM0AAAAAAAIAzQJqZmZmZGTpAmpmZmZmZMkA=\"},\"shape\":[25],\"dtype\":\"float64\",\"order\":\"little\"}],[\"Resultados\",[\"Despesa prim\\u00e1ria\",\"Despesa prim\\u00e1ria\",\"Despesa prim\\u00e1ria\",\"Despesa prim\\u00e1ria\",\"Despesa prim\\u00e1ria\",\"Despesa prim\\u00e1ria\",\"Despesa prim\\u00e1ria\",\"Despesa prim\\u00e1ria\",\"Despesa prim\\u00e1ria\",\"Despesa prim\\u00e1ria\",\"Despesa prim\\u00e1ria\",\"Despesa prim\\u00e1ria\",\"Despesa prim\\u00e1ria\",\"Despesa prim\\u00e1ria\",\"Despesa prim\\u00e1ria\",\"Despesa prim\\u00e1ria\",\"Despesa prim\\u00e1ria\",\"Despesa prim\\u00e1ria\",\"Despesa prim\\u00e1ria\",\"Despesa prim\\u00e1ria\",\"Despesa prim\\u00e1ria\",\"Despesa prim\\u00e1ria\",\"Despesa prim\\u00e1ria\",\"Despesa prim\\u00e1ria\",\"Despesa prim\\u00e1ria\"]]]}}},\"view\":{\"type\":\"object\",\"name\":\"CDSView\",\"id\":\"p3240\",\"attributes\":{\"filter\":{\"type\":\"object\",\"name\":\"AllIndices\",\"id\":\"p3241\"}}},\"glyph\":{\"type\":\"object\",\"name\":\"Line\",\"id\":\"p3236\",\"attributes\":{\"tags\":[\"apply_ranges\"],\"x\":{\"type\":\"field\",\"field\":\"Ano\"},\"y\":{\"type\":\"field\",\"field\":\"value\"},\"line_color\":\"#fc4f30\",\"line_width\":2}},\"selection_glyph\":{\"type\":\"object\",\"name\":\"Line\",\"id\":\"p3243\",\"attributes\":{\"tags\":[\"apply_ranges\"],\"x\":{\"type\":\"field\",\"field\":\"Ano\"},\"y\":{\"type\":\"field\",\"field\":\"value\"},\"line_color\":\"#fc4f30\",\"line_width\":2}},\"nonselection_glyph\":{\"type\":\"object\",\"name\":\"Line\",\"id\":\"p3237\",\"attributes\":{\"tags\":[\"apply_ranges\"],\"x\":{\"type\":\"field\",\"field\":\"Ano\"},\"y\":{\"type\":\"field\",\"field\":\"value\"},\"line_color\":\"#fc4f30\",\"line_alpha\":0.1,\"line_width\":2}},\"muted_glyph\":{\"type\":\"object\",\"name\":\"Line\",\"id\":\"p3238\",\"attributes\":{\"tags\":[\"apply_ranges\"],\"x\":{\"type\":\"field\",\"field\":\"Ano\"},\"y\":{\"type\":\"field\",\"field\":\"value\"},\"line_color\":\"#fc4f30\",\"line_alpha\":0.2,\"line_width\":2}}}},{\"type\":\"object\",\"name\":\"Span\",\"id\":\"p3248\",\"attributes\":{\"level\":\"glyph\",\"location\":2010,\"dimension\":\"height\",\"line_color\":\"limegreen\",\"line_dash\":[6]}}],\"toolbar\":{\"type\":\"object\",\"name\":\"Toolbar\",\"id\":\"p3166\",\"attributes\":{\"tools\":[{\"type\":\"object\",\"name\":\"HoverTool\",\"id\":\"p3156\",\"attributes\":{\"tags\":[\"hv_created\"],\"renderers\":[{\"id\":\"p3223\"},{\"id\":\"p3239\"}],\"tooltips\":[[\"Resultados\",\"@{Resultados}\"],[\"Ano\",\"@{Ano}\"],[\"value\",\"@{value}\"]]}},{\"type\":\"object\",\"name\":\"SaveTool\",\"id\":\"p3186\"},{\"type\":\"object\",\"name\":\"PanTool\",\"id\":\"p3187\"},{\"type\":\"object\",\"name\":\"WheelZoomTool\",\"id\":\"p3188\"},{\"type\":\"object\",\"name\":\"BoxZoomTool\",\"id\":\"p3189\",\"attributes\":{\"overlay\":{\"type\":\"object\",\"name\":\"BoxAnnotation\",\"id\":\"p3190\",\"attributes\":{\"syncable\":false,\"level\":\"overlay\",\"visible\":false,\"left_units\":\"canvas\",\"right_units\":\"canvas\",\"bottom_units\":\"canvas\",\"top_units\":\"canvas\",\"line_color\":\"black\",\"line_alpha\":1.0,\"line_width\":2,\"line_dash\":[4,4],\"fill_color\":\"lightgrey\",\"fill_alpha\":0.5}}}},{\"type\":\"object\",\"name\":\"ResetTool\",\"id\":\"p3191\"}],\"active_drag\":{\"id\":\"p3187\"},\"active_scroll\":{\"id\":\"p3188\"}}},\"left\":[{\"type\":\"object\",\"name\":\"LinearAxis\",\"id\":\"p3179\",\"attributes\":{\"ticker\":{\"type\":\"object\",\"name\":\"BasicTicker\",\"id\":\"p3181\",\"attributes\":{\"desired_num_ticks\":18,\"mantissas\":[1,2,5]}},\"formatter\":{\"type\":\"object\",\"name\":\"PrintfTickFormatter\",\"id\":\"p3202\",\"attributes\":{\"format\":\"%.1f\"}},\"axis_label\":\"%\",\"axis_label_text_font_size\":\"8pt\",\"major_label_policy\":{\"type\":\"object\",\"name\":\"AllLabels\",\"id\":\"p3182\"},\"major_label_text_font_size\":\"8pt\"}}],\"below\":[{\"type\":\"object\",\"name\":\"LinearAxis\",\"id\":\"p3172\",\"attributes\":{\"ticker\":{\"type\":\"object\",\"name\":\"BasicTicker\",\"id\":\"p3174\",\"attributes\":{\"desired_num_ticks\":24,\"mantissas\":[1,2,5]}},\"formatter\":{\"type\":\"object\",\"name\":\"BasicTickFormatter\",\"id\":\"p3173\"},\"axis_label\":\"\",\"axis_label_text_font_size\":\"8pt\",\"major_label_orientation\":0.5235987755982988,\"major_label_policy\":{\"type\":\"object\",\"name\":\"AllLabels\",\"id\":\"p3175\"},\"major_label_text_font_size\":\"8pt\"}},{\"type\":\"object\",\"name\":\"Legend\",\"id\":\"p3226\",\"attributes\":{\"location\":[0,0],\"orientation\":\"horizontal\",\"click_policy\":\"mute\",\"items\":[{\"type\":\"object\",\"name\":\"LegendItem\",\"id\":\"p3227\",\"attributes\":{\"label\":{\"type\":\"value\",\"value\":\"Receita l\\u00edquida\"},\"renderers\":[{\"id\":\"p3223\"}]}},{\"type\":\"object\",\"name\":\"LegendItem\",\"id\":\"p3242\",\"attributes\":{\"label\":{\"type\":\"value\",\"value\":\"Despesa prim\\u00e1ria\"},\"renderers\":[{\"id\":\"p3239\"}]}}]}}],\"center\":[{\"type\":\"object\",\"name\":\"Grid\",\"id\":\"p3178\",\"attributes\":{\"axis\":{\"id\":\"p3172\"},\"grid_line_color\":null}},{\"type\":\"object\",\"name\":\"Grid\",\"id\":\"p3185\",\"attributes\":{\"dimension\":1,\"axis\":{\"id\":\"p3179\"},\"grid_line_color\":null}}],\"min_border_top\":10,\"min_border_bottom\":10,\"min_border_left\":10,\"min_border_right\":10,\"output_backend\":\"webgl\"}},{\"type\":\"object\",\"name\":\"Spacer\",\"id\":\"p3271\",\"attributes\":{\"name\":\"HSpacer05151\",\"stylesheets\":[\"\\n:host(.pn-loading.pn-arc):before, .pn-loading.pn-arc:before {\\n  background-image: url(\\\"data:image/svg+xml;base64,PHN2ZyB4bWxucz0iaHR0cDovL3d3dy53My5vcmcvMjAwMC9zdmciIHN0eWxlPSJtYXJnaW46IGF1dG87IGJhY2tncm91bmQ6IG5vbmU7IGRpc3BsYXk6IGJsb2NrOyBzaGFwZS1yZW5kZXJpbmc6IGF1dG87IiB2aWV3Qm94PSIwIDAgMTAwIDEwMCIgcHJlc2VydmVBc3BlY3RSYXRpbz0ieE1pZFlNaWQiPiAgPGNpcmNsZSBjeD0iNTAiIGN5PSI1MCIgZmlsbD0ibm9uZSIgc3Ryb2tlPSIjYzNjM2MzIiBzdHJva2Utd2lkdGg9IjEwIiByPSIzNSIgc3Ryb2tlLWRhc2hhcnJheT0iMTY0LjkzMzYxNDMxMzQ2NDE1IDU2Ljk3Nzg3MTQzNzgyMTM4Ij4gICAgPGFuaW1hdGVUcmFuc2Zvcm0gYXR0cmlidXRlTmFtZT0idHJhbnNmb3JtIiB0eXBlPSJyb3RhdGUiIHJlcGVhdENvdW50PSJpbmRlZmluaXRlIiBkdXI9IjFzIiB2YWx1ZXM9IjAgNTAgNTA7MzYwIDUwIDUwIiBrZXlUaW1lcz0iMDsxIj48L2FuaW1hdGVUcmFuc2Zvcm0+ICA8L2NpcmNsZT48L3N2Zz4=\\\");\\n  background-size: auto calc(min(50%, 400px));\\n}\",{\"id\":\"p3150\"},{\"id\":\"p3148\"},{\"id\":\"p3149\"}],\"margin\":0,\"sizing_mode\":\"stretch_width\",\"align\":\"start\"}}]}}],\"callbacks\":{\"type\":\"map\"}}};\n",
       "  var render_items = [{\"docid\":\"222c1468-9733-4130-9143-cc4639355ffb\",\"roots\":{\"p3147\":\"c9693950-73b1-4998-a493-10029fc282f3\"},\"root_ids\":[\"p3147\"]}];\n",
       "  var docs = Object.values(docs_json)\n",
       "  if (!docs) {\n",
       "    return\n",
       "  }\n",
       "  const py_version = docs[0].version.replace('rc', '-rc.').replace('.dev', '-dev.')\n",
       "  const is_dev = py_version.indexOf(\"+\") !== -1 || py_version.indexOf(\"-\") !== -1\n",
       "  function embed_document(root) {\n",
       "    var Bokeh = get_bokeh(root)\n",
       "    Bokeh.embed.embed_items_notebook(docs_json, render_items);\n",
       "    for (const render_item of render_items) {\n",
       "      for (const root_id of render_item.root_ids) {\n",
       "\tconst id_el = document.getElementById(root_id)\n",
       "\tif (id_el.children.length && (id_el.children[0].className === 'bk-root')) {\n",
       "\t  const root_el = id_el.children[0]\n",
       "\t  root_el.id = root_el.id + '-rendered'\n",
       "\t}\n",
       "      }\n",
       "    }\n",
       "  }\n",
       "  function get_bokeh(root) {\n",
       "    if (root.Bokeh === undefined) {\n",
       "      return null\n",
       "    } else if (root.Bokeh.version !== py_version && !is_dev) {\n",
       "      if (root.Bokeh.versions === undefined || !root.Bokeh.versions.has(py_version)) {\n",
       "\treturn null\n",
       "      }\n",
       "      return root.Bokeh.versions.get(py_version);\n",
       "    } else if (root.Bokeh.version === py_version) {\n",
       "      return root.Bokeh\n",
       "    }\n",
       "    return null\n",
       "  }\n",
       "  function is_loaded(root) {\n",
       "    var Bokeh = get_bokeh(root)\n",
       "    return (Bokeh != null && Bokeh.Panel !== undefined)\n",
       "  }\n",
       "  if (is_loaded(root)) {\n",
       "    embed_document(root);\n",
       "  } else {\n",
       "    var attempts = 0;\n",
       "    var timer = setInterval(function(root) {\n",
       "      if (is_loaded(root)) {\n",
       "        clearInterval(timer);\n",
       "        embed_document(root);\n",
       "      } else if (document.readyState == \"complete\") {\n",
       "        attempts++;\n",
       "        if (attempts > 200) {\n",
       "          clearInterval(timer);\n",
       "\t  var Bokeh = get_bokeh(root)\n",
       "\t  if (Bokeh == null || Bokeh.Panel == null) {\n",
       "            console.warn(\"Panel: ERROR: Unable to run Panel code because Bokeh or Panel library is missing\");\n",
       "\t  } else {\n",
       "\t    console.warn(\"Panel: WARNING: Attempting to render but not all required libraries could be resolved.\")\n",
       "\t    embed_document(root)\n",
       "\t  }\n",
       "        }\n",
       "      }\n",
       "    }, 25, root)\n",
       "  }\n",
       "})(window);</script>"
      ],
      "text/plain": [
       ":Overlay\n",
       "   .NdOverlay.Receita_e_despesa_do_governo_central_comma_Brasil_comma_1997_hyphen_minus_2021_left_parenthesis_percent_do_PIB_right_parenthesis :NdOverlay   [Resultados]\n",
       "      :Curve   [Ano]   (value)\n",
       "   .VLine.I                                                                                                                                    :VLine   [x,y]"
      ]
     },
     "execution_count": 35,
     "metadata": {
      "application/vnd.holoviews_exec.v0+json": {
       "id": "p3147"
      }
     },
     "output_type": "execute_result"
    }
   ],
   "source": [
    "receita"
   ]
  },
  {
   "cell_type": "markdown",
   "metadata": {
    "slideshow": {
     "slide_type": "slide"
    }
   },
   "source": [
    "## Resultado primário do governo central\n",
    "\n",
    "Como resultado, o superávit primário declinou nos dois anos seguintes, com déficits daí em diante, após um resultado positivo substancial em 2011.   "
   ]
  },
  {
   "cell_type": "markdown",
   "metadata": {
    "slideshow": {
     "slide_type": "fragment"
    }
   },
   "source": [
    "Ver o gráfico a seguir com o resultado primário do período."
   ]
  },
  {
   "cell_type": "code",
   "execution_count": 36,
   "metadata": {
    "slideshow": {
     "slide_type": "notes"
    }
   },
   "outputs": [],
   "source": [
    "p = pd.read_excel('br_primario_1997_2019.xlsx')\n",
    "\n",
    "prim = p.hvplot.bar('Ano', ['Resultado primário'],\n",
    "                    height=450,\n",
    "                    width=650,\n",
    "                    rot=30,\n",
    "                    padding=0.02,\n",
    "                    legend=False,\n",
    "                    color='crimson',\n",
    "                    alpha=0.7,\n",
    "                    xlabel='',\n",
    "                    ylabel='',\n",
    "                    xlim=(1997, 2009),\n",
    "                    ylim=(-3, 3),\n",
    "                    yformatter='%.1f',\n",
    "                    label='Resultado primário do governo central, Brasil, 1997-2019 (% do PIB)'\n",
    "                   ).opts(fontsize={'title': 11, 'labels': 9,\n",
    "                                    'xticks': 9, 'yticks': 9}).opts(multi_level=False)"
   ]
  },
  {
   "cell_type": "code",
   "execution_count": 37,
   "metadata": {
    "slideshow": {
     "slide_type": "slide"
    }
   },
   "outputs": [
    {
     "data": {},
     "metadata": {},
     "output_type": "display_data"
    },
    {
     "data": {
      "application/vnd.holoviews_exec.v0+json": "",
      "text/html": [
       "<div id='p3347'>\n",
       "  <div id=\"c1b60922-5a65-48dc-86b5-3dc88cb69675\" data-root-id=\"p3347\" style=\"display: contents;\"></div>\n",
       "</div>\n",
       "<script type=\"application/javascript\">(function(root) {\n",
       "  var docs_json = {\"4d95e4d9-936d-4e61-b52f-0f79bf4c3bfd\":{\"version\":\"3.1.1\",\"title\":\"Bokeh Application\",\"defs\":[{\"type\":\"model\",\"name\":\"ReactiveHTML1\"},{\"type\":\"model\",\"name\":\"FlexBox1\",\"properties\":[{\"name\":\"align_content\",\"kind\":\"Any\",\"default\":\"flex-start\"},{\"name\":\"align_items\",\"kind\":\"Any\",\"default\":\"flex-start\"},{\"name\":\"flex_direction\",\"kind\":\"Any\",\"default\":\"row\"},{\"name\":\"flex_wrap\",\"kind\":\"Any\",\"default\":\"wrap\"},{\"name\":\"justify_content\",\"kind\":\"Any\",\"default\":\"flex-start\"}]},{\"type\":\"model\",\"name\":\"FloatPanel1\",\"properties\":[{\"name\":\"config\",\"kind\":\"Any\",\"default\":{\"type\":\"map\"}},{\"name\":\"contained\",\"kind\":\"Any\",\"default\":true},{\"name\":\"position\",\"kind\":\"Any\",\"default\":\"right-top\"},{\"name\":\"offsetx\",\"kind\":\"Any\",\"default\":null},{\"name\":\"offsety\",\"kind\":\"Any\",\"default\":null},{\"name\":\"theme\",\"kind\":\"Any\",\"default\":\"primary\"},{\"name\":\"status\",\"kind\":\"Any\",\"default\":\"normalized\"}]},{\"type\":\"model\",\"name\":\"GridStack1\",\"properties\":[{\"name\":\"mode\",\"kind\":\"Any\",\"default\":\"warn\"},{\"name\":\"ncols\",\"kind\":\"Any\",\"default\":null},{\"name\":\"nrows\",\"kind\":\"Any\",\"default\":null},{\"name\":\"allow_resize\",\"kind\":\"Any\",\"default\":true},{\"name\":\"allow_drag\",\"kind\":\"Any\",\"default\":true},{\"name\":\"state\",\"kind\":\"Any\",\"default\":[]}]},{\"type\":\"model\",\"name\":\"drag1\",\"properties\":[{\"name\":\"slider_width\",\"kind\":\"Any\",\"default\":5},{\"name\":\"slider_color\",\"kind\":\"Any\",\"default\":\"black\"},{\"name\":\"value\",\"kind\":\"Any\",\"default\":50}]},{\"type\":\"model\",\"name\":\"click1\",\"properties\":[{\"name\":\"terminal_output\",\"kind\":\"Any\",\"default\":\"\"},{\"name\":\"debug_name\",\"kind\":\"Any\",\"default\":\"\"},{\"name\":\"clears\",\"kind\":\"Any\",\"default\":0}]},{\"type\":\"model\",\"name\":\"FastWrapper1\",\"properties\":[{\"name\":\"object\",\"kind\":\"Any\",\"default\":null},{\"name\":\"style\",\"kind\":\"Any\",\"default\":null}]},{\"type\":\"model\",\"name\":\"NotificationAreaBase1\",\"properties\":[{\"name\":\"js_events\",\"kind\":\"Any\",\"default\":{\"type\":\"map\"}},{\"name\":\"position\",\"kind\":\"Any\",\"default\":\"bottom-right\"},{\"name\":\"_clear\",\"kind\":\"Any\",\"default\":0}]},{\"type\":\"model\",\"name\":\"NotificationArea1\",\"properties\":[{\"name\":\"js_events\",\"kind\":\"Any\",\"default\":{\"type\":\"map\"}},{\"name\":\"notifications\",\"kind\":\"Any\",\"default\":[]},{\"name\":\"position\",\"kind\":\"Any\",\"default\":\"bottom-right\"},{\"name\":\"_clear\",\"kind\":\"Any\",\"default\":0},{\"name\":\"types\",\"kind\":\"Any\",\"default\":[{\"type\":\"map\",\"entries\":[[\"type\",\"warning\"],[\"background\",\"#ffc107\"],[\"icon\",{\"type\":\"map\",\"entries\":[[\"className\",\"fas fa-exclamation-triangle\"],[\"tagName\",\"i\"],[\"color\",\"white\"]]}]]},{\"type\":\"map\",\"entries\":[[\"type\",\"info\"],[\"background\",\"#007bff\"],[\"icon\",{\"type\":\"map\",\"entries\":[[\"className\",\"fas fa-info-circle\"],[\"tagName\",\"i\"],[\"color\",\"white\"]]}]]}]}]},{\"type\":\"model\",\"name\":\"Notification\",\"properties\":[{\"name\":\"background\",\"kind\":\"Any\",\"default\":null},{\"name\":\"duration\",\"kind\":\"Any\",\"default\":3000},{\"name\":\"icon\",\"kind\":\"Any\",\"default\":null},{\"name\":\"message\",\"kind\":\"Any\",\"default\":\"\"},{\"name\":\"notification_type\",\"kind\":\"Any\",\"default\":null},{\"name\":\"_destroyed\",\"kind\":\"Any\",\"default\":false}]},{\"type\":\"model\",\"name\":\"TemplateActions1\",\"properties\":[{\"name\":\"open_modal\",\"kind\":\"Any\",\"default\":0},{\"name\":\"close_modal\",\"kind\":\"Any\",\"default\":0}]},{\"type\":\"model\",\"name\":\"BootstrapTemplateActions1\",\"properties\":[{\"name\":\"open_modal\",\"kind\":\"Any\",\"default\":0},{\"name\":\"close_modal\",\"kind\":\"Any\",\"default\":0}]},{\"type\":\"model\",\"name\":\"MaterialTemplateActions1\",\"properties\":[{\"name\":\"open_modal\",\"kind\":\"Any\",\"default\":0},{\"name\":\"close_modal\",\"kind\":\"Any\",\"default\":0}]}],\"roots\":[{\"type\":\"object\",\"name\":\"Row\",\"id\":\"p3347\",\"attributes\":{\"name\":\"Row05308\",\"tags\":[\"embedded\"],\"stylesheets\":[\"\\n:host(.pn-loading.pn-arc):before, .pn-loading.pn-arc:before {\\n  background-image: url(\\\"data:image/svg+xml;base64,PHN2ZyB4bWxucz0iaHR0cDovL3d3dy53My5vcmcvMjAwMC9zdmciIHN0eWxlPSJtYXJnaW46IGF1dG87IGJhY2tncm91bmQ6IG5vbmU7IGRpc3BsYXk6IGJsb2NrOyBzaGFwZS1yZW5kZXJpbmc6IGF1dG87IiB2aWV3Qm94PSIwIDAgMTAwIDEwMCIgcHJlc2VydmVBc3BlY3RSYXRpbz0ieE1pZFlNaWQiPiAgPGNpcmNsZSBjeD0iNTAiIGN5PSI1MCIgZmlsbD0ibm9uZSIgc3Ryb2tlPSIjYzNjM2MzIiBzdHJva2Utd2lkdGg9IjEwIiByPSIzNSIgc3Ryb2tlLWRhc2hhcnJheT0iMTY0LjkzMzYxNDMxMzQ2NDE1IDU2Ljk3Nzg3MTQzNzgyMTM4Ij4gICAgPGFuaW1hdGVUcmFuc2Zvcm0gYXR0cmlidXRlTmFtZT0idHJhbnNmb3JtIiB0eXBlPSJyb3RhdGUiIHJlcGVhdENvdW50PSJpbmRlZmluaXRlIiBkdXI9IjFzIiB2YWx1ZXM9IjAgNTAgNTA7MzYwIDUwIDUwIiBrZXlUaW1lcz0iMDsxIj48L2FuaW1hdGVUcmFuc2Zvcm0+ICA8L2NpcmNsZT48L3N2Zz4=\\\");\\n  background-size: auto calc(min(50%, 400px));\\n}\",{\"type\":\"object\",\"name\":\"ImportedStyleSheet\",\"id\":\"p3350\",\"attributes\":{\"url\":\"https://cdn.holoviz.org/panel/1.2.3/dist/css/loading.css\"}},{\"type\":\"object\",\"name\":\"ImportedStyleSheet\",\"id\":\"p3441\",\"attributes\":{\"url\":\"https://cdn.holoviz.org/panel/1.2.3/dist/css/listpanel.css\"}},{\"type\":\"object\",\"name\":\"ImportedStyleSheet\",\"id\":\"p3348\",\"attributes\":{\"url\":\"https://cdn.holoviz.org/panel/1.2.3/dist/bundled/theme/default.css\"}},{\"type\":\"object\",\"name\":\"ImportedStyleSheet\",\"id\":\"p3349\",\"attributes\":{\"url\":\"https://cdn.holoviz.org/panel/1.2.3/dist/bundled/theme/native.css\"}}],\"min_width\":650,\"margin\":0,\"sizing_mode\":\"stretch_width\",\"align\":\"start\",\"children\":[{\"type\":\"object\",\"name\":\"Spacer\",\"id\":\"p3351\",\"attributes\":{\"name\":\"HSpacer05319\",\"stylesheets\":[\"\\n:host(.pn-loading.pn-arc):before, .pn-loading.pn-arc:before {\\n  background-image: url(\\\"data:image/svg+xml;base64,PHN2ZyB4bWxucz0iaHR0cDovL3d3dy53My5vcmcvMjAwMC9zdmciIHN0eWxlPSJtYXJnaW46IGF1dG87IGJhY2tncm91bmQ6IG5vbmU7IGRpc3BsYXk6IGJsb2NrOyBzaGFwZS1yZW5kZXJpbmc6IGF1dG87IiB2aWV3Qm94PSIwIDAgMTAwIDEwMCIgcHJlc2VydmVBc3BlY3RSYXRpbz0ieE1pZFlNaWQiPiAgPGNpcmNsZSBjeD0iNTAiIGN5PSI1MCIgZmlsbD0ibm9uZSIgc3Ryb2tlPSIjYzNjM2MzIiBzdHJva2Utd2lkdGg9IjEwIiByPSIzNSIgc3Ryb2tlLWRhc2hhcnJheT0iMTY0LjkzMzYxNDMxMzQ2NDE1IDU2Ljk3Nzg3MTQzNzgyMTM4Ij4gICAgPGFuaW1hdGVUcmFuc2Zvcm0gYXR0cmlidXRlTmFtZT0idHJhbnNmb3JtIiB0eXBlPSJyb3RhdGUiIHJlcGVhdENvdW50PSJpbmRlZmluaXRlIiBkdXI9IjFzIiB2YWx1ZXM9IjAgNTAgNTA7MzYwIDUwIDUwIiBrZXlUaW1lcz0iMDsxIj48L2FuaW1hdGVUcmFuc2Zvcm0+ICA8L2NpcmNsZT48L3N2Zz4=\\\");\\n  background-size: auto calc(min(50%, 400px));\\n}\",{\"id\":\"p3350\"},{\"id\":\"p3348\"},{\"id\":\"p3349\"}],\"margin\":0,\"sizing_mode\":\"stretch_width\",\"align\":\"start\"}},{\"type\":\"object\",\"name\":\"Figure\",\"id\":\"p3357\",\"attributes\":{\"width\":650,\"height\":450,\"margin\":[5,10],\"sizing_mode\":\"fixed\",\"align\":\"start\",\"x_range\":{\"type\":\"object\",\"name\":\"FactorRange\",\"id\":\"p3352\",\"attributes\":{\"tags\":[[[\"Ano\",\"Ano\",null]],[]],\"factors\":[[\"1997\",\"Resultado prim\\u00e1rio\"],[\"1998\",\"Resultado prim\\u00e1rio\"],[\"1999\",\"Resultado prim\\u00e1rio\"],[\"2000\",\"Resultado prim\\u00e1rio\"],[\"2001\",\"Resultado prim\\u00e1rio\"],[\"2002\",\"Resultado prim\\u00e1rio\"],[\"2003\",\"Resultado prim\\u00e1rio\"],[\"2004\",\"Resultado prim\\u00e1rio\"],[\"2005\",\"Resultado prim\\u00e1rio\"],[\"2006\",\"Resultado prim\\u00e1rio\"],[\"2007\",\"Resultado prim\\u00e1rio\"],[\"2008\",\"Resultado prim\\u00e1rio\"],[\"2009\",\"Resultado prim\\u00e1rio\"],[\"2010\",\"Resultado prim\\u00e1rio\"],[\"2011\",\"Resultado prim\\u00e1rio\"],[\"2012\",\"Resultado prim\\u00e1rio\"],[\"2013\",\"Resultado prim\\u00e1rio\"],[\"2014\",\"Resultado prim\\u00e1rio\"],[\"2015\",\"Resultado prim\\u00e1rio\"],[\"2016\",\"Resultado prim\\u00e1rio\"],[\"2017\",\"Resultado prim\\u00e1rio\"],[\"2018\",\"Resultado prim\\u00e1rio\"],[\"2019\",\"Resultado prim\\u00e1rio\"]]}},\"y_range\":{\"type\":\"object\",\"name\":\"Range1d\",\"id\":\"p3353\",\"attributes\":{\"tags\":[[[\"value\",\"value\",null]],{\"type\":\"map\",\"entries\":[[\"invert_yaxis\",false],[\"autorange\",false]]}],\"start\":-3,\"end\":3,\"reset_start\":-3,\"reset_end\":3}},\"x_scale\":{\"type\":\"object\",\"name\":\"CategoricalScale\",\"id\":\"p3369\"},\"y_scale\":{\"type\":\"object\",\"name\":\"LinearScale\",\"id\":\"p3370\"},\"title\":{\"type\":\"object\",\"name\":\"Title\",\"id\":\"p3360\",\"attributes\":{\"text\":\"Resultado prim\\u00e1rio do governo central, Brasil, 1997-2019 (% do PIB)\",\"text_color\":\"black\",\"text_font_size\":\"11pt\"}},\"renderers\":[{\"type\":\"object\",\"name\":\"GlyphRenderer\",\"id\":\"p3409\",\"attributes\":{\"data_source\":{\"type\":\"object\",\"name\":\"ColumnDataSource\",\"id\":\"p3399\",\"attributes\":{\"selected\":{\"type\":\"object\",\"name\":\"Selection\",\"id\":\"p3401\",\"attributes\":{\"indices\":[],\"line_indices\":[]}},\"selection_policy\":{\"type\":\"object\",\"name\":\"UnionRenderers\",\"id\":\"p3400\"},\"data\":{\"type\":\"map\",\"entries\":[[\"xoffsets\",[[\"1997\",\"Resultado prim\\u00e1rio\"],[\"1998\",\"Resultado prim\\u00e1rio\"],[\"1999\",\"Resultado prim\\u00e1rio\"],[\"2000\",\"Resultado prim\\u00e1rio\"],[\"2001\",\"Resultado prim\\u00e1rio\"],[\"2002\",\"Resultado prim\\u00e1rio\"],[\"2003\",\"Resultado prim\\u00e1rio\"],[\"2004\",\"Resultado prim\\u00e1rio\"],[\"2005\",\"Resultado prim\\u00e1rio\"],[\"2006\",\"Resultado prim\\u00e1rio\"],[\"2007\",\"Resultado prim\\u00e1rio\"],[\"2008\",\"Resultado prim\\u00e1rio\"],[\"2009\",\"Resultado prim\\u00e1rio\"],[\"2010\",\"Resultado prim\\u00e1rio\"],[\"2011\",\"Resultado prim\\u00e1rio\"],[\"2012\",\"Resultado prim\\u00e1rio\"],[\"2013\",\"Resultado prim\\u00e1rio\"],[\"2014\",\"Resultado prim\\u00e1rio\"],[\"2015\",\"Resultado prim\\u00e1rio\"],[\"2016\",\"Resultado prim\\u00e1rio\"],[\"2017\",\"Resultado prim\\u00e1rio\"],[\"2018\",\"Resultado prim\\u00e1rio\"],[\"2019\",\"Resultado prim\\u00e1rio\"]]],[\"value\",{\"type\":\"ndarray\",\"array\":{\"type\":\"bytes\",\"data\":\"fyjpi6M1yD/Ei13CiDDoPwKQtKFIqf0/naLbOVn/+z90PUHm2G76Pwby7svP9wBAk0DcyM0yAkARdFP6mCkEQHVrd9/XaQNAx47Zr4gvAEB8+47KUPQAQJyUu0SqYAJADBG041/u8j/i4FS9LgkAQNTRuioxzABA9xUS8BI+/D/9KDqwmqf1P2AKbmyIAdq/MTQ1iAgUAMA9A+l3Y5QEwJAOJI1IM/6/5ZmIp9Pr+7+itaJrtPX0vw==\"},\"shape\":[23],\"dtype\":\"float64\",\"order\":\"little\"}],[\"Ano\",[\"1997\",\"1998\",\"1999\",\"2000\",\"2001\",\"2002\",\"2003\",\"2004\",\"2005\",\"2006\",\"2007\",\"2008\",\"2009\",\"2010\",\"2011\",\"2012\",\"2013\",\"2014\",\"2015\",\"2016\",\"2017\",\"2018\",\"2019\"]],[\"Variable\",[\"Resultado prim\\u00e1rio\",\"Resultado prim\\u00e1rio\",\"Resultado prim\\u00e1rio\",\"Resultado prim\\u00e1rio\",\"Resultado prim\\u00e1rio\",\"Resultado prim\\u00e1rio\",\"Resultado prim\\u00e1rio\",\"Resultado prim\\u00e1rio\",\"Resultado prim\\u00e1rio\",\"Resultado prim\\u00e1rio\",\"Resultado prim\\u00e1rio\",\"Resultado prim\\u00e1rio\",\"Resultado prim\\u00e1rio\",\"Resultado prim\\u00e1rio\",\"Resultado prim\\u00e1rio\",\"Resultado prim\\u00e1rio\",\"Resultado prim\\u00e1rio\",\"Resultado prim\\u00e1rio\",\"Resultado prim\\u00e1rio\",\"Resultado prim\\u00e1rio\",\"Resultado prim\\u00e1rio\",\"Resultado prim\\u00e1rio\",\"Resultado prim\\u00e1rio\"]]]}}},\"view\":{\"type\":\"object\",\"name\":\"CDSView\",\"id\":\"p3410\",\"attributes\":{\"filter\":{\"type\":\"object\",\"name\":\"AllIndices\",\"id\":\"p3411\"}}},\"glyph\":{\"type\":\"object\",\"name\":\"VBar\",\"id\":\"p3406\",\"attributes\":{\"tags\":[\"apply_ranges\"],\"x\":{\"type\":\"field\",\"field\":\"xoffsets\"},\"width\":{\"type\":\"value\",\"value\":0.8},\"top\":{\"type\":\"field\",\"field\":\"value\"},\"line_alpha\":{\"type\":\"value\",\"value\":0.7},\"fill_color\":{\"type\":\"field\",\"field\":\"Variable\",\"transform\":{\"type\":\"object\",\"name\":\"CategoricalColorMapper\",\"id\":\"p3398\",\"attributes\":{\"palette\":[\"crimson\"],\"factors\":[\"Resultado prim\\u00e1rio\"]}}},\"fill_alpha\":{\"type\":\"value\",\"value\":0.7},\"hatch_color\":{\"type\":\"field\",\"field\":\"Variable\",\"transform\":{\"id\":\"p3398\"}},\"hatch_alpha\":{\"type\":\"value\",\"value\":0.7}}},\"selection_glyph\":{\"type\":\"object\",\"name\":\"VBar\",\"id\":\"p3412\",\"attributes\":{\"tags\":[\"apply_ranges\"],\"x\":{\"type\":\"field\",\"field\":\"xoffsets\"},\"width\":{\"type\":\"value\",\"value\":0.8},\"bottom\":{\"type\":\"value\",\"value\":0},\"top\":{\"type\":\"field\",\"field\":\"value\"},\"line_color\":{\"type\":\"value\",\"value\":\"black\"},\"line_alpha\":{\"type\":\"value\",\"value\":0.7},\"line_width\":{\"type\":\"value\",\"value\":1},\"line_join\":{\"type\":\"value\",\"value\":\"bevel\"},\"line_cap\":{\"type\":\"value\",\"value\":\"butt\"},\"line_dash\":{\"type\":\"value\",\"value\":[]},\"line_dash_offset\":{\"type\":\"value\",\"value\":0},\"fill_color\":{\"type\":\"field\",\"field\":\"Variable\",\"transform\":{\"id\":\"p3398\"}},\"fill_alpha\":{\"type\":\"value\",\"value\":0.7},\"hatch_color\":{\"type\":\"field\",\"field\":\"Variable\",\"transform\":{\"id\":\"p3398\"}},\"hatch_alpha\":{\"type\":\"value\",\"value\":0.7},\"hatch_scale\":{\"type\":\"value\",\"value\":12.0},\"hatch_pattern\":{\"type\":\"value\",\"value\":null},\"hatch_weight\":{\"type\":\"value\",\"value\":1.0}}},\"nonselection_glyph\":{\"type\":\"object\",\"name\":\"VBar\",\"id\":\"p3407\",\"attributes\":{\"tags\":[\"apply_ranges\"],\"x\":{\"type\":\"field\",\"field\":\"xoffsets\"},\"width\":{\"type\":\"value\",\"value\":0.8},\"top\":{\"type\":\"field\",\"field\":\"value\"},\"line_alpha\":{\"type\":\"value\",\"value\":0.7},\"fill_color\":{\"type\":\"field\",\"field\":\"Variable\",\"transform\":{\"id\":\"p3398\"}},\"fill_alpha\":{\"type\":\"value\",\"value\":0.7},\"hatch_color\":{\"type\":\"field\",\"field\":\"Variable\",\"transform\":{\"id\":\"p3398\"}},\"hatch_alpha\":{\"type\":\"value\",\"value\":0.1}}},\"muted_glyph\":{\"type\":\"object\",\"name\":\"VBar\",\"id\":\"p3408\",\"attributes\":{\"tags\":[\"apply_ranges\"],\"x\":{\"type\":\"field\",\"field\":\"xoffsets\"},\"width\":{\"type\":\"value\",\"value\":0.8},\"top\":{\"type\":\"field\",\"field\":\"value\"},\"line_alpha\":{\"type\":\"value\",\"value\":0.2},\"fill_color\":{\"type\":\"field\",\"field\":\"Variable\",\"transform\":{\"id\":\"p3398\"}},\"fill_alpha\":{\"type\":\"value\",\"value\":0.2},\"hatch_color\":{\"type\":\"field\",\"field\":\"Variable\",\"transform\":{\"id\":\"p3398\"}},\"hatch_alpha\":{\"type\":\"value\",\"value\":0.2}}}}}],\"toolbar\":{\"type\":\"object\",\"name\":\"Toolbar\",\"id\":\"p3365\",\"attributes\":{\"tools\":[{\"type\":\"object\",\"name\":\"HoverTool\",\"id\":\"p3356\",\"attributes\":{\"tags\":[\"hv_created\"],\"renderers\":[{\"id\":\"p3409\"}],\"tooltips\":[[\"Ano\",\"@{Ano}\"],[\"Variable\",\"@{Variable}\"],[\"value\",\"@{value}\"]]}},{\"type\":\"object\",\"name\":\"SaveTool\",\"id\":\"p3384\"},{\"type\":\"object\",\"name\":\"PanTool\",\"id\":\"p3385\"},{\"type\":\"object\",\"name\":\"WheelZoomTool\",\"id\":\"p3386\"},{\"type\":\"object\",\"name\":\"BoxZoomTool\",\"id\":\"p3387\",\"attributes\":{\"overlay\":{\"type\":\"object\",\"name\":\"BoxAnnotation\",\"id\":\"p3388\",\"attributes\":{\"syncable\":false,\"level\":\"overlay\",\"visible\":false,\"left_units\":\"canvas\",\"right_units\":\"canvas\",\"bottom_units\":\"canvas\",\"top_units\":\"canvas\",\"line_color\":\"black\",\"line_alpha\":1.0,\"line_width\":2,\"line_dash\":[4,4],\"fill_color\":\"lightgrey\",\"fill_alpha\":0.5}}}},{\"type\":\"object\",\"name\":\"ResetTool\",\"id\":\"p3389\"}],\"active_drag\":{\"id\":\"p3385\"},\"active_scroll\":{\"id\":\"p3386\"}}},\"left\":[{\"type\":\"object\",\"name\":\"LinearAxis\",\"id\":\"p3377\",\"attributes\":{\"ticker\":{\"type\":\"object\",\"name\":\"BasicTicker\",\"id\":\"p3379\",\"attributes\":{\"mantissas\":[1,2,5]}},\"formatter\":{\"type\":\"object\",\"name\":\"PrintfTickFormatter\",\"id\":\"p3413\",\"attributes\":{\"format\":\"%.1f\"}},\"axis_label\":\"\",\"axis_label_text_font_size\":\"9pt\",\"major_label_policy\":{\"type\":\"object\",\"name\":\"AllLabels\",\"id\":\"p3380\"},\"major_label_text_font_size\":\"9pt\"}}],\"below\":[{\"type\":\"object\",\"name\":\"CategoricalAxis\",\"id\":\"p3371\",\"attributes\":{\"ticker\":{\"type\":\"object\",\"name\":\"CategoricalTicker\",\"id\":\"p3373\"},\"formatter\":{\"type\":\"object\",\"name\":\"CategoricalTickFormatter\",\"id\":\"p3372\"},\"axis_label\":\"\",\"axis_label_text_font_size\":\"9pt\",\"major_label_policy\":{\"type\":\"object\",\"name\":\"AllLabels\",\"id\":\"p3374\"},\"major_label_text_alpha\":0,\"major_label_text_font_size\":\"1px\",\"major_label_text_line_height\":0,\"major_tick_line_alpha\":0,\"separator_line_width\":0,\"group_text_color\":\"black\",\"group_text_font_size\":\"9pt\",\"group_text_font_style\":\"normal\",\"group_text_align\":\"center\",\"group_label_orientation\":0.5235987755982988}}],\"center\":[{\"type\":\"object\",\"name\":\"Grid\",\"id\":\"p3376\",\"attributes\":{\"axis\":{\"id\":\"p3371\"},\"grid_line_color\":null}},{\"type\":\"object\",\"name\":\"Grid\",\"id\":\"p3383\",\"attributes\":{\"dimension\":1,\"axis\":{\"id\":\"p3377\"},\"grid_line_color\":null}}],\"min_border_top\":10,\"min_border_bottom\":10,\"min_border_left\":10,\"min_border_right\":10,\"output_backend\":\"webgl\"}},{\"type\":\"object\",\"name\":\"Spacer\",\"id\":\"p3439\",\"attributes\":{\"name\":\"HSpacer05322\",\"stylesheets\":[\"\\n:host(.pn-loading.pn-arc):before, .pn-loading.pn-arc:before {\\n  background-image: url(\\\"data:image/svg+xml;base64,PHN2ZyB4bWxucz0iaHR0cDovL3d3dy53My5vcmcvMjAwMC9zdmciIHN0eWxlPSJtYXJnaW46IGF1dG87IGJhY2tncm91bmQ6IG5vbmU7IGRpc3BsYXk6IGJsb2NrOyBzaGFwZS1yZW5kZXJpbmc6IGF1dG87IiB2aWV3Qm94PSIwIDAgMTAwIDEwMCIgcHJlc2VydmVBc3BlY3RSYXRpbz0ieE1pZFlNaWQiPiAgPGNpcmNsZSBjeD0iNTAiIGN5PSI1MCIgZmlsbD0ibm9uZSIgc3Ryb2tlPSIjYzNjM2MzIiBzdHJva2Utd2lkdGg9IjEwIiByPSIzNSIgc3Ryb2tlLWRhc2hhcnJheT0iMTY0LjkzMzYxNDMxMzQ2NDE1IDU2Ljk3Nzg3MTQzNzgyMTM4Ij4gICAgPGFuaW1hdGVUcmFuc2Zvcm0gYXR0cmlidXRlTmFtZT0idHJhbnNmb3JtIiB0eXBlPSJyb3RhdGUiIHJlcGVhdENvdW50PSJpbmRlZmluaXRlIiBkdXI9IjFzIiB2YWx1ZXM9IjAgNTAgNTA7MzYwIDUwIDUwIiBrZXlUaW1lcz0iMDsxIj48L2FuaW1hdGVUcmFuc2Zvcm0+ICA8L2NpcmNsZT48L3N2Zz4=\\\");\\n  background-size: auto calc(min(50%, 400px));\\n}\",{\"id\":\"p3350\"},{\"id\":\"p3348\"},{\"id\":\"p3349\"}],\"margin\":0,\"sizing_mode\":\"stretch_width\",\"align\":\"start\"}}]}}],\"callbacks\":{\"type\":\"map\"}}};\n",
       "  var render_items = [{\"docid\":\"4d95e4d9-936d-4e61-b52f-0f79bf4c3bfd\",\"roots\":{\"p3347\":\"c1b60922-5a65-48dc-86b5-3dc88cb69675\"},\"root_ids\":[\"p3347\"]}];\n",
       "  var docs = Object.values(docs_json)\n",
       "  if (!docs) {\n",
       "    return\n",
       "  }\n",
       "  const py_version = docs[0].version.replace('rc', '-rc.').replace('.dev', '-dev.')\n",
       "  const is_dev = py_version.indexOf(\"+\") !== -1 || py_version.indexOf(\"-\") !== -1\n",
       "  function embed_document(root) {\n",
       "    var Bokeh = get_bokeh(root)\n",
       "    Bokeh.embed.embed_items_notebook(docs_json, render_items);\n",
       "    for (const render_item of render_items) {\n",
       "      for (const root_id of render_item.root_ids) {\n",
       "\tconst id_el = document.getElementById(root_id)\n",
       "\tif (id_el.children.length && (id_el.children[0].className === 'bk-root')) {\n",
       "\t  const root_el = id_el.children[0]\n",
       "\t  root_el.id = root_el.id + '-rendered'\n",
       "\t}\n",
       "      }\n",
       "    }\n",
       "  }\n",
       "  function get_bokeh(root) {\n",
       "    if (root.Bokeh === undefined) {\n",
       "      return null\n",
       "    } else if (root.Bokeh.version !== py_version && !is_dev) {\n",
       "      if (root.Bokeh.versions === undefined || !root.Bokeh.versions.has(py_version)) {\n",
       "\treturn null\n",
       "      }\n",
       "      return root.Bokeh.versions.get(py_version);\n",
       "    } else if (root.Bokeh.version === py_version) {\n",
       "      return root.Bokeh\n",
       "    }\n",
       "    return null\n",
       "  }\n",
       "  function is_loaded(root) {\n",
       "    var Bokeh = get_bokeh(root)\n",
       "    return (Bokeh != null && Bokeh.Panel !== undefined)\n",
       "  }\n",
       "  if (is_loaded(root)) {\n",
       "    embed_document(root);\n",
       "  } else {\n",
       "    var attempts = 0;\n",
       "    var timer = setInterval(function(root) {\n",
       "      if (is_loaded(root)) {\n",
       "        clearInterval(timer);\n",
       "        embed_document(root);\n",
       "      } else if (document.readyState == \"complete\") {\n",
       "        attempts++;\n",
       "        if (attempts > 200) {\n",
       "          clearInterval(timer);\n",
       "\t  var Bokeh = get_bokeh(root)\n",
       "\t  if (Bokeh == null || Bokeh.Panel == null) {\n",
       "            console.warn(\"Panel: ERROR: Unable to run Panel code because Bokeh or Panel library is missing\");\n",
       "\t  } else {\n",
       "\t    console.warn(\"Panel: WARNING: Attempting to render but not all required libraries could be resolved.\")\n",
       "\t    embed_document(root)\n",
       "\t  }\n",
       "        }\n",
       "      }\n",
       "    }, 25, root)\n",
       "  }\n",
       "})(window);</script>"
      ],
      "text/plain": [
       ":Bars   [Ano,Variable]   (value)"
      ]
     },
     "execution_count": 37,
     "metadata": {
      "application/vnd.holoviews_exec.v0+json": {
       "id": "p3347"
      }
     },
     "output_type": "execute_result"
    }
   ],
   "source": [
    "prim"
   ]
  },
  {
   "cell_type": "markdown",
   "metadata": {
    "slideshow": {
     "slide_type": "slide"
    }
   },
   "source": [
    "## Superávit estrutural e impulso fiscal\n",
    "\n",
    "Um conceito relevante para analisar esses resultados é o de superávit estrutural."
   ]
  },
  {
   "cell_type": "markdown",
   "metadata": {
    "slideshow": {
     "slide_type": "fragment"
    }
   },
   "source": [
    "O resultado estrutural desconta tanto receitas e despesas decorrentes do ciclo econômico quanto receitas e despesas extraordinárias."
   ]
  },
  {
   "cell_type": "markdown",
   "metadata": {
    "slideshow": {
     "slide_type": "fragment"
    }
   },
   "source": [
    "Esse conceito é usado para analisar o esforço fiscal efetivo do setor público e avaliar se a política fiscal é contracionista, neutra ou expansionista."
   ]
  },
  {
   "cell_type": "markdown",
   "metadata": {
    "slideshow": {
     "slide_type": "slide"
    }
   },
   "source": [
    "## Impulso fiscal\n",
    "\n",
    "Outro conceito relacionado ao resultado estrutural é o de impulso fiscal."
   ]
  },
  {
   "cell_type": "markdown",
   "metadata": {
    "slideshow": {
     "slide_type": "fragment"
    }
   },
   "source": [
    "O impulso fiscal é definido pela diferença entre o resultado estrutural de um ano em relação ao do ano anterior."
   ]
  },
  {
   "cell_type": "markdown",
   "metadata": {
    "slideshow": {
     "slide_type": "fragment"
    }
   },
   "source": [
    "O resultado líquido do impulso fiscal é expresso com *valor positivo = expansão; valor negativo = contração*. "
   ]
  },
  {
   "cell_type": "markdown",
   "metadata": {
    "slideshow": {
     "slide_type": "subslide"
    }
   },
   "source": [
    "As figuras a seguir apresentam o resultado estrutural (superávit ou déficit) e o impulso fiscal (positivo ou negativo) do governo geral (isto é, todas as esferas de governo da federação)."
   ]
  },
  {
   "cell_type": "code",
   "execution_count": 38,
   "metadata": {
    "slideshow": {
     "slide_type": "notes"
    }
   },
   "outputs": [],
   "source": [
    "p = pd.read_excel('br_prim_estrutural_2000_2019.xlsx')\n",
    "\n",
    "estrutural = p.hvplot.bar('Ano', ['Resultado efetivo', 'Resultado estrutural'],\n",
    "                          height=450,\n",
    "                          width=650,\n",
    "                          rot=30,\n",
    "                          padding=0.05,\n",
    "                          legend='bottom',\n",
    "                          cmap='Set1',\n",
    "                          alpha=0.7,\n",
    "                          yformatter='%.1f',\n",
    "                          xlabel='',\n",
    "                          ylabel='% do PIB',\n",
    "                          ylim=(-3, 4),\n",
    "                          label='Resultado primário efetivo e estrutural, Governo geral, 2000-2019'\n",
    "                         ).opts(fontsize={'title': 11, 'labels': 8,\n",
    "                                          'xticks': 8, 'yticks': 8}).opts(multi_level=False)"
   ]
  },
  {
   "cell_type": "code",
   "execution_count": 39,
   "metadata": {
    "slideshow": {
     "slide_type": "slide"
    }
   },
   "outputs": [
    {
     "data": {},
     "metadata": {},
     "output_type": "display_data"
    },
    {
     "data": {
      "application/vnd.holoviews_exec.v0+json": "",
      "text/html": [
       "<div id='p3492'>\n",
       "  <div id=\"b6817d38-0e6c-4e04-a07c-6925ca37e56b\" data-root-id=\"p3492\" style=\"display: contents;\"></div>\n",
       "</div>\n",
       "<script type=\"application/javascript\">(function(root) {\n",
       "  var docs_json = {\"6f5c4bc7-fcd8-4dbc-a9ea-205e1a27be58\":{\"version\":\"3.1.1\",\"title\":\"Bokeh Application\",\"defs\":[{\"type\":\"model\",\"name\":\"ReactiveHTML1\"},{\"type\":\"model\",\"name\":\"FlexBox1\",\"properties\":[{\"name\":\"align_content\",\"kind\":\"Any\",\"default\":\"flex-start\"},{\"name\":\"align_items\",\"kind\":\"Any\",\"default\":\"flex-start\"},{\"name\":\"flex_direction\",\"kind\":\"Any\",\"default\":\"row\"},{\"name\":\"flex_wrap\",\"kind\":\"Any\",\"default\":\"wrap\"},{\"name\":\"justify_content\",\"kind\":\"Any\",\"default\":\"flex-start\"}]},{\"type\":\"model\",\"name\":\"FloatPanel1\",\"properties\":[{\"name\":\"config\",\"kind\":\"Any\",\"default\":{\"type\":\"map\"}},{\"name\":\"contained\",\"kind\":\"Any\",\"default\":true},{\"name\":\"position\",\"kind\":\"Any\",\"default\":\"right-top\"},{\"name\":\"offsetx\",\"kind\":\"Any\",\"default\":null},{\"name\":\"offsety\",\"kind\":\"Any\",\"default\":null},{\"name\":\"theme\",\"kind\":\"Any\",\"default\":\"primary\"},{\"name\":\"status\",\"kind\":\"Any\",\"default\":\"normalized\"}]},{\"type\":\"model\",\"name\":\"GridStack1\",\"properties\":[{\"name\":\"mode\",\"kind\":\"Any\",\"default\":\"warn\"},{\"name\":\"ncols\",\"kind\":\"Any\",\"default\":null},{\"name\":\"nrows\",\"kind\":\"Any\",\"default\":null},{\"name\":\"allow_resize\",\"kind\":\"Any\",\"default\":true},{\"name\":\"allow_drag\",\"kind\":\"Any\",\"default\":true},{\"name\":\"state\",\"kind\":\"Any\",\"default\":[]}]},{\"type\":\"model\",\"name\":\"drag1\",\"properties\":[{\"name\":\"slider_width\",\"kind\":\"Any\",\"default\":5},{\"name\":\"slider_color\",\"kind\":\"Any\",\"default\":\"black\"},{\"name\":\"value\",\"kind\":\"Any\",\"default\":50}]},{\"type\":\"model\",\"name\":\"click1\",\"properties\":[{\"name\":\"terminal_output\",\"kind\":\"Any\",\"default\":\"\"},{\"name\":\"debug_name\",\"kind\":\"Any\",\"default\":\"\"},{\"name\":\"clears\",\"kind\":\"Any\",\"default\":0}]},{\"type\":\"model\",\"name\":\"FastWrapper1\",\"properties\":[{\"name\":\"object\",\"kind\":\"Any\",\"default\":null},{\"name\":\"style\",\"kind\":\"Any\",\"default\":null}]},{\"type\":\"model\",\"name\":\"NotificationAreaBase1\",\"properties\":[{\"name\":\"js_events\",\"kind\":\"Any\",\"default\":{\"type\":\"map\"}},{\"name\":\"position\",\"kind\":\"Any\",\"default\":\"bottom-right\"},{\"name\":\"_clear\",\"kind\":\"Any\",\"default\":0}]},{\"type\":\"model\",\"name\":\"NotificationArea1\",\"properties\":[{\"name\":\"js_events\",\"kind\":\"Any\",\"default\":{\"type\":\"map\"}},{\"name\":\"notifications\",\"kind\":\"Any\",\"default\":[]},{\"name\":\"position\",\"kind\":\"Any\",\"default\":\"bottom-right\"},{\"name\":\"_clear\",\"kind\":\"Any\",\"default\":0},{\"name\":\"types\",\"kind\":\"Any\",\"default\":[{\"type\":\"map\",\"entries\":[[\"type\",\"warning\"],[\"background\",\"#ffc107\"],[\"icon\",{\"type\":\"map\",\"entries\":[[\"className\",\"fas fa-exclamation-triangle\"],[\"tagName\",\"i\"],[\"color\",\"white\"]]}]]},{\"type\":\"map\",\"entries\":[[\"type\",\"info\"],[\"background\",\"#007bff\"],[\"icon\",{\"type\":\"map\",\"entries\":[[\"className\",\"fas fa-info-circle\"],[\"tagName\",\"i\"],[\"color\",\"white\"]]}]]}]}]},{\"type\":\"model\",\"name\":\"Notification\",\"properties\":[{\"name\":\"background\",\"kind\":\"Any\",\"default\":null},{\"name\":\"duration\",\"kind\":\"Any\",\"default\":3000},{\"name\":\"icon\",\"kind\":\"Any\",\"default\":null},{\"name\":\"message\",\"kind\":\"Any\",\"default\":\"\"},{\"name\":\"notification_type\",\"kind\":\"Any\",\"default\":null},{\"name\":\"_destroyed\",\"kind\":\"Any\",\"default\":false}]},{\"type\":\"model\",\"name\":\"TemplateActions1\",\"properties\":[{\"name\":\"open_modal\",\"kind\":\"Any\",\"default\":0},{\"name\":\"close_modal\",\"kind\":\"Any\",\"default\":0}]},{\"type\":\"model\",\"name\":\"BootstrapTemplateActions1\",\"properties\":[{\"name\":\"open_modal\",\"kind\":\"Any\",\"default\":0},{\"name\":\"close_modal\",\"kind\":\"Any\",\"default\":0}]},{\"type\":\"model\",\"name\":\"MaterialTemplateActions1\",\"properties\":[{\"name\":\"open_modal\",\"kind\":\"Any\",\"default\":0},{\"name\":\"close_modal\",\"kind\":\"Any\",\"default\":0}]}],\"roots\":[{\"type\":\"object\",\"name\":\"Row\",\"id\":\"p3492\",\"attributes\":{\"name\":\"Row05565\",\"tags\":[\"embedded\"],\"stylesheets\":[\"\\n:host(.pn-loading.pn-arc):before, .pn-loading.pn-arc:before {\\n  background-image: url(\\\"data:image/svg+xml;base64,PHN2ZyB4bWxucz0iaHR0cDovL3d3dy53My5vcmcvMjAwMC9zdmciIHN0eWxlPSJtYXJnaW46IGF1dG87IGJhY2tncm91bmQ6IG5vbmU7IGRpc3BsYXk6IGJsb2NrOyBzaGFwZS1yZW5kZXJpbmc6IGF1dG87IiB2aWV3Qm94PSIwIDAgMTAwIDEwMCIgcHJlc2VydmVBc3BlY3RSYXRpbz0ieE1pZFlNaWQiPiAgPGNpcmNsZSBjeD0iNTAiIGN5PSI1MCIgZmlsbD0ibm9uZSIgc3Ryb2tlPSIjYzNjM2MzIiBzdHJva2Utd2lkdGg9IjEwIiByPSIzNSIgc3Ryb2tlLWRhc2hhcnJheT0iMTY0LjkzMzYxNDMxMzQ2NDE1IDU2Ljk3Nzg3MTQzNzgyMTM4Ij4gICAgPGFuaW1hdGVUcmFuc2Zvcm0gYXR0cmlidXRlTmFtZT0idHJhbnNmb3JtIiB0eXBlPSJyb3RhdGUiIHJlcGVhdENvdW50PSJpbmRlZmluaXRlIiBkdXI9IjFzIiB2YWx1ZXM9IjAgNTAgNTA7MzYwIDUwIDUwIiBrZXlUaW1lcz0iMDsxIj48L2FuaW1hdGVUcmFuc2Zvcm0+ICA8L2NpcmNsZT48L3N2Zz4=\\\");\\n  background-size: auto calc(min(50%, 400px));\\n}\",{\"type\":\"object\",\"name\":\"ImportedStyleSheet\",\"id\":\"p3495\",\"attributes\":{\"url\":\"https://cdn.holoviz.org/panel/1.2.3/dist/css/loading.css\"}},{\"type\":\"object\",\"name\":\"ImportedStyleSheet\",\"id\":\"p3588\",\"attributes\":{\"url\":\"https://cdn.holoviz.org/panel/1.2.3/dist/css/listpanel.css\"}},{\"type\":\"object\",\"name\":\"ImportedStyleSheet\",\"id\":\"p3493\",\"attributes\":{\"url\":\"https://cdn.holoviz.org/panel/1.2.3/dist/bundled/theme/default.css\"}},{\"type\":\"object\",\"name\":\"ImportedStyleSheet\",\"id\":\"p3494\",\"attributes\":{\"url\":\"https://cdn.holoviz.org/panel/1.2.3/dist/bundled/theme/native.css\"}}],\"min_width\":650,\"margin\":0,\"sizing_mode\":\"stretch_width\",\"align\":\"start\",\"children\":[{\"type\":\"object\",\"name\":\"Spacer\",\"id\":\"p3496\",\"attributes\":{\"name\":\"HSpacer05576\",\"stylesheets\":[\"\\n:host(.pn-loading.pn-arc):before, .pn-loading.pn-arc:before {\\n  background-image: url(\\\"data:image/svg+xml;base64,PHN2ZyB4bWxucz0iaHR0cDovL3d3dy53My5vcmcvMjAwMC9zdmciIHN0eWxlPSJtYXJnaW46IGF1dG87IGJhY2tncm91bmQ6IG5vbmU7IGRpc3BsYXk6IGJsb2NrOyBzaGFwZS1yZW5kZXJpbmc6IGF1dG87IiB2aWV3Qm94PSIwIDAgMTAwIDEwMCIgcHJlc2VydmVBc3BlY3RSYXRpbz0ieE1pZFlNaWQiPiAgPGNpcmNsZSBjeD0iNTAiIGN5PSI1MCIgZmlsbD0ibm9uZSIgc3Ryb2tlPSIjYzNjM2MzIiBzdHJva2Utd2lkdGg9IjEwIiByPSIzNSIgc3Ryb2tlLWRhc2hhcnJheT0iMTY0LjkzMzYxNDMxMzQ2NDE1IDU2Ljk3Nzg3MTQzNzgyMTM4Ij4gICAgPGFuaW1hdGVUcmFuc2Zvcm0gYXR0cmlidXRlTmFtZT0idHJhbnNmb3JtIiB0eXBlPSJyb3RhdGUiIHJlcGVhdENvdW50PSJpbmRlZmluaXRlIiBkdXI9IjFzIiB2YWx1ZXM9IjAgNTAgNTA7MzYwIDUwIDUwIiBrZXlUaW1lcz0iMDsxIj48L2FuaW1hdGVUcmFuc2Zvcm0+ICA8L2NpcmNsZT48L3N2Zz4=\\\");\\n  background-size: auto calc(min(50%, 400px));\\n}\",{\"id\":\"p3495\"},{\"id\":\"p3493\"},{\"id\":\"p3494\"}],\"margin\":0,\"sizing_mode\":\"stretch_width\",\"align\":\"start\"}},{\"type\":\"object\",\"name\":\"Figure\",\"id\":\"p3502\",\"attributes\":{\"width\":650,\"height\":450,\"margin\":[5,10],\"sizing_mode\":\"fixed\",\"align\":\"start\",\"x_range\":{\"type\":\"object\",\"name\":\"FactorRange\",\"id\":\"p3497\",\"attributes\":{\"tags\":[[[\"Ano\",\"Ano\",null]],[]],\"factors\":[[\"2000\",\"Resultado efetivo\"],[\"2000\",\"Resultado estrutural\"],[\"2001\",\"Resultado efetivo\"],[\"2001\",\"Resultado estrutural\"],[\"2002\",\"Resultado efetivo\"],[\"2002\",\"Resultado estrutural\"],[\"2003\",\"Resultado efetivo\"],[\"2003\",\"Resultado estrutural\"],[\"2004\",\"Resultado efetivo\"],[\"2004\",\"Resultado estrutural\"],[\"2005\",\"Resultado efetivo\"],[\"2005\",\"Resultado estrutural\"],[\"2006\",\"Resultado efetivo\"],[\"2006\",\"Resultado estrutural\"],[\"2007\",\"Resultado efetivo\"],[\"2007\",\"Resultado estrutural\"],[\"2008\",\"Resultado efetivo\"],[\"2008\",\"Resultado estrutural\"],[\"2009\",\"Resultado efetivo\"],[\"2009\",\"Resultado estrutural\"],[\"2010\",\"Resultado efetivo\"],[\"2010\",\"Resultado estrutural\"],[\"2011\",\"Resultado efetivo\"],[\"2011\",\"Resultado estrutural\"],[\"2012\",\"Resultado efetivo\"],[\"2012\",\"Resultado estrutural\"],[\"2013\",\"Resultado efetivo\"],[\"2013\",\"Resultado estrutural\"],[\"2014\",\"Resultado efetivo\"],[\"2014\",\"Resultado estrutural\"],[\"2015\",\"Resultado efetivo\"],[\"2015\",\"Resultado estrutural\"],[\"2016\",\"Resultado efetivo\"],[\"2016\",\"Resultado estrutural\"],[\"2017\",\"Resultado efetivo\"],[\"2017\",\"Resultado estrutural\"],[\"2018\",\"Resultado efetivo\"],[\"2018\",\"Resultado estrutural\"],[\"2019\",\"Resultado efetivo\"],[\"2019\",\"Resultado estrutural\"]]}},\"y_range\":{\"type\":\"object\",\"name\":\"Range1d\",\"id\":\"p3498\",\"attributes\":{\"tags\":[[[\"value\",\"value\",null]],{\"type\":\"map\",\"entries\":[[\"invert_yaxis\",false],[\"autorange\",false]]}],\"start\":-3,\"end\":4,\"reset_start\":-3,\"reset_end\":4}},\"x_scale\":{\"type\":\"object\",\"name\":\"CategoricalScale\",\"id\":\"p3514\"},\"y_scale\":{\"type\":\"object\",\"name\":\"LinearScale\",\"id\":\"p3515\"},\"title\":{\"type\":\"object\",\"name\":\"Title\",\"id\":\"p3505\",\"attributes\":{\"text\":\"Resultado prim\\u00e1rio efetivo e estrutural, Governo geral, 2000-2019\",\"text_color\":\"black\",\"text_font_size\":\"11pt\"}},\"renderers\":[{\"type\":\"object\",\"name\":\"GlyphRenderer\",\"id\":\"p3554\",\"attributes\":{\"data_source\":{\"type\":\"object\",\"name\":\"ColumnDataSource\",\"id\":\"p3544\",\"attributes\":{\"selected\":{\"type\":\"object\",\"name\":\"Selection\",\"id\":\"p3546\",\"attributes\":{\"indices\":[],\"line_indices\":[]}},\"selection_policy\":{\"type\":\"object\",\"name\":\"UnionRenderers\",\"id\":\"p3545\"},\"data\":{\"type\":\"map\",\"entries\":[[\"xoffsets\",[[\"2000\",\"Resultado efetivo\"],[\"2001\",\"Resultado efetivo\"],[\"2002\",\"Resultado efetivo\"],[\"2003\",\"Resultado efetivo\"],[\"2004\",\"Resultado efetivo\"],[\"2005\",\"Resultado efetivo\"],[\"2006\",\"Resultado efetivo\"],[\"2007\",\"Resultado efetivo\"],[\"2008\",\"Resultado efetivo\"],[\"2009\",\"Resultado efetivo\"],[\"2010\",\"Resultado efetivo\"],[\"2011\",\"Resultado efetivo\"],[\"2012\",\"Resultado efetivo\"],[\"2013\",\"Resultado efetivo\"],[\"2014\",\"Resultado efetivo\"],[\"2015\",\"Resultado efetivo\"],[\"2016\",\"Resultado efetivo\"],[\"2017\",\"Resultado efetivo\"],[\"2018\",\"Resultado efetivo\"],[\"2019\",\"Resultado efetivo\"],[\"2000\",\"Resultado estrutural\"],[\"2001\",\"Resultado estrutural\"],[\"2002\",\"Resultado estrutural\"],[\"2003\",\"Resultado estrutural\"],[\"2004\",\"Resultado estrutural\"],[\"2005\",\"Resultado estrutural\"],[\"2006\",\"Resultado estrutural\"],[\"2007\",\"Resultado estrutural\"],[\"2008\",\"Resultado estrutural\"],[\"2009\",\"Resultado estrutural\"],[\"2010\",\"Resultado estrutural\"],[\"2011\",\"Resultado estrutural\"],[\"2012\",\"Resultado estrutural\"],[\"2013\",\"Resultado estrutural\"],[\"2014\",\"Resultado estrutural\"],[\"2015\",\"Resultado estrutural\"],[\"2016\",\"Resultado estrutural\"],[\"2017\",\"Resultado estrutural\"],[\"2018\",\"Resultado estrutural\"],[\"2019\",\"Resultado estrutural\"]]],[\"value\",{\"type\":\"ndarray\",\"array\":{\"type\":\"bytes\",\"data\":\"rkfhehSuAUDD9Shcj8IDQOF6FK5H4QZAexSuR+F6CECPwvUoXI8MQGZmZmZmZgxAmpmZmZmZB0BSuB6F61EKQD0K16NwPQpAcT0K16NwAUB7FK5H4XoEQArXo3A9CgdA16NwPQrXAUCF61G4HoX7P1yPwvUoXN+/exSuR+F6/L/D9Shcj8IDwArXo3A9Cvu/PQrXo3A9+r9SuB6F61HwvwAAAAAAAPw/mpmZmZmZA0ApXI/C9Sj8PwAAAAAAAAhA16NwPQrXBUAUrkfhehQEQM3MzMzMzPw/FK5H4XoU+j89CtejcD3+PwAAAAAAAPA/16NwPQrX4z8fhetRuB79P1K4HoXrUfA/uB6F61G4vr8pXI/C9Sj4v/YoXI/C9di/CtejcD0K97+4HoXrUbjmv7gehetRuL6/7FG4HoXrwb8=\"},\"shape\":[40],\"dtype\":\"float64\",\"order\":\"little\"}],[\"Ano\",[\"2000\",\"2001\",\"2002\",\"2003\",\"2004\",\"2005\",\"2006\",\"2007\",\"2008\",\"2009\",\"2010\",\"2011\",\"2012\",\"2013\",\"2014\",\"2015\",\"2016\",\"2017\",\"2018\",\"2019\",\"2000\",\"2001\",\"2002\",\"2003\",\"2004\",\"2005\",\"2006\",\"2007\",\"2008\",\"2009\",\"2010\",\"2011\",\"2012\",\"2013\",\"2014\",\"2015\",\"2016\",\"2017\",\"2018\",\"2019\"]],[\"Variable\",[\"Resultado efetivo\",\"Resultado efetivo\",\"Resultado efetivo\",\"Resultado efetivo\",\"Resultado efetivo\",\"Resultado efetivo\",\"Resultado efetivo\",\"Resultado efetivo\",\"Resultado efetivo\",\"Resultado efetivo\",\"Resultado efetivo\",\"Resultado efetivo\",\"Resultado efetivo\",\"Resultado efetivo\",\"Resultado efetivo\",\"Resultado efetivo\",\"Resultado efetivo\",\"Resultado efetivo\",\"Resultado efetivo\",\"Resultado efetivo\",\"Resultado estrutural\",\"Resultado estrutural\",\"Resultado estrutural\",\"Resultado estrutural\",\"Resultado estrutural\",\"Resultado estrutural\",\"Resultado estrutural\",\"Resultado estrutural\",\"Resultado estrutural\",\"Resultado estrutural\",\"Resultado estrutural\",\"Resultado estrutural\",\"Resultado estrutural\",\"Resultado estrutural\",\"Resultado estrutural\",\"Resultado estrutural\",\"Resultado estrutural\",\"Resultado estrutural\",\"Resultado estrutural\",\"Resultado estrutural\"]]]}}},\"view\":{\"type\":\"object\",\"name\":\"CDSView\",\"id\":\"p3555\",\"attributes\":{\"filter\":{\"type\":\"object\",\"name\":\"AllIndices\",\"id\":\"p3556\"}}},\"glyph\":{\"type\":\"object\",\"name\":\"VBar\",\"id\":\"p3551\",\"attributes\":{\"tags\":[\"apply_ranges\"],\"x\":{\"type\":\"field\",\"field\":\"xoffsets\"},\"width\":{\"type\":\"value\",\"value\":0.8},\"top\":{\"type\":\"field\",\"field\":\"value\"},\"line_alpha\":{\"type\":\"value\",\"value\":0.7},\"fill_color\":{\"type\":\"field\",\"field\":\"Variable\",\"transform\":{\"type\":\"object\",\"name\":\"CategoricalColorMapper\",\"id\":\"p3543\",\"attributes\":{\"palette\":[\"#e41a1c\",\"#377eb8\"],\"factors\":[\"Resultado efetivo\",\"Resultado estrutural\"]}}},\"fill_alpha\":{\"type\":\"value\",\"value\":0.7},\"hatch_color\":{\"type\":\"field\",\"field\":\"Variable\",\"transform\":{\"id\":\"p3543\"}},\"hatch_alpha\":{\"type\":\"value\",\"value\":0.7}}},\"selection_glyph\":{\"type\":\"object\",\"name\":\"VBar\",\"id\":\"p3559\",\"attributes\":{\"tags\":[\"apply_ranges\"],\"x\":{\"type\":\"field\",\"field\":\"xoffsets\"},\"width\":{\"type\":\"value\",\"value\":0.8},\"bottom\":{\"type\":\"value\",\"value\":0},\"top\":{\"type\":\"field\",\"field\":\"value\"},\"line_color\":{\"type\":\"value\",\"value\":\"black\"},\"line_alpha\":{\"type\":\"value\",\"value\":0.7},\"line_width\":{\"type\":\"value\",\"value\":1},\"line_join\":{\"type\":\"value\",\"value\":\"bevel\"},\"line_cap\":{\"type\":\"value\",\"value\":\"butt\"},\"line_dash\":{\"type\":\"value\",\"value\":[]},\"line_dash_offset\":{\"type\":\"value\",\"value\":0},\"fill_color\":{\"type\":\"field\",\"field\":\"Variable\",\"transform\":{\"id\":\"p3543\"}},\"fill_alpha\":{\"type\":\"value\",\"value\":0.7},\"hatch_color\":{\"type\":\"field\",\"field\":\"Variable\",\"transform\":{\"id\":\"p3543\"}},\"hatch_alpha\":{\"type\":\"value\",\"value\":0.7},\"hatch_scale\":{\"type\":\"value\",\"value\":12.0},\"hatch_pattern\":{\"type\":\"value\",\"value\":null},\"hatch_weight\":{\"type\":\"value\",\"value\":1.0}}},\"nonselection_glyph\":{\"type\":\"object\",\"name\":\"VBar\",\"id\":\"p3552\",\"attributes\":{\"tags\":[\"apply_ranges\"],\"x\":{\"type\":\"field\",\"field\":\"xoffsets\"},\"width\":{\"type\":\"value\",\"value\":0.8},\"top\":{\"type\":\"field\",\"field\":\"value\"},\"line_alpha\":{\"type\":\"value\",\"value\":0.7},\"fill_color\":{\"type\":\"field\",\"field\":\"Variable\",\"transform\":{\"id\":\"p3543\"}},\"fill_alpha\":{\"type\":\"value\",\"value\":0.7},\"hatch_color\":{\"type\":\"field\",\"field\":\"Variable\",\"transform\":{\"id\":\"p3543\"}},\"hatch_alpha\":{\"type\":\"value\",\"value\":0.1}}},\"muted_glyph\":{\"type\":\"object\",\"name\":\"VBar\",\"id\":\"p3553\",\"attributes\":{\"tags\":[\"apply_ranges\"],\"x\":{\"type\":\"field\",\"field\":\"xoffsets\"},\"width\":{\"type\":\"value\",\"value\":0.8},\"top\":{\"type\":\"field\",\"field\":\"value\"},\"line_alpha\":{\"type\":\"value\",\"value\":0.2},\"fill_color\":{\"type\":\"field\",\"field\":\"Variable\",\"transform\":{\"id\":\"p3543\"}},\"fill_alpha\":{\"type\":\"value\",\"value\":0.2},\"hatch_color\":{\"type\":\"field\",\"field\":\"Variable\",\"transform\":{\"id\":\"p3543\"}},\"hatch_alpha\":{\"type\":\"value\",\"value\":0.2}}}}}],\"toolbar\":{\"type\":\"object\",\"name\":\"Toolbar\",\"id\":\"p3510\",\"attributes\":{\"tools\":[{\"type\":\"object\",\"name\":\"HoverTool\",\"id\":\"p3501\",\"attributes\":{\"tags\":[\"hv_created\"],\"renderers\":[{\"id\":\"p3554\"}],\"tooltips\":[[\"Ano\",\"@{Ano}\"],[\"Variable\",\"@{Variable}\"],[\"value\",\"@{value}\"]]}},{\"type\":\"object\",\"name\":\"SaveTool\",\"id\":\"p3529\"},{\"type\":\"object\",\"name\":\"PanTool\",\"id\":\"p3530\"},{\"type\":\"object\",\"name\":\"WheelZoomTool\",\"id\":\"p3531\"},{\"type\":\"object\",\"name\":\"BoxZoomTool\",\"id\":\"p3532\",\"attributes\":{\"overlay\":{\"type\":\"object\",\"name\":\"BoxAnnotation\",\"id\":\"p3533\",\"attributes\":{\"syncable\":false,\"level\":\"overlay\",\"visible\":false,\"left_units\":\"canvas\",\"right_units\":\"canvas\",\"bottom_units\":\"canvas\",\"top_units\":\"canvas\",\"line_color\":\"black\",\"line_alpha\":1.0,\"line_width\":2,\"line_dash\":[4,4],\"fill_color\":\"lightgrey\",\"fill_alpha\":0.5}}}},{\"type\":\"object\",\"name\":\"ResetTool\",\"id\":\"p3534\"}],\"active_drag\":{\"id\":\"p3530\"},\"active_scroll\":{\"id\":\"p3531\"}}},\"left\":[{\"type\":\"object\",\"name\":\"LinearAxis\",\"id\":\"p3522\",\"attributes\":{\"ticker\":{\"type\":\"object\",\"name\":\"BasicTicker\",\"id\":\"p3524\",\"attributes\":{\"mantissas\":[1,2,5]}},\"formatter\":{\"type\":\"object\",\"name\":\"PrintfTickFormatter\",\"id\":\"p3560\",\"attributes\":{\"format\":\"%.1f\"}},\"axis_label\":\"% do PIB\",\"axis_label_text_font_size\":\"8pt\",\"major_label_policy\":{\"type\":\"object\",\"name\":\"AllLabels\",\"id\":\"p3525\"},\"major_label_text_font_size\":\"8pt\"}}],\"below\":[{\"type\":\"object\",\"name\":\"CategoricalAxis\",\"id\":\"p3516\",\"attributes\":{\"ticker\":{\"type\":\"object\",\"name\":\"CategoricalTicker\",\"id\":\"p3518\"},\"formatter\":{\"type\":\"object\",\"name\":\"CategoricalTickFormatter\",\"id\":\"p3517\"},\"axis_label\":\"\",\"axis_label_text_font_size\":\"8pt\",\"major_label_policy\":{\"type\":\"object\",\"name\":\"AllLabels\",\"id\":\"p3519\"},\"major_label_text_alpha\":0,\"major_label_text_font_size\":\"1px\",\"major_label_text_line_height\":0,\"major_tick_line_alpha\":0,\"separator_line_width\":0,\"group_text_color\":\"black\",\"group_text_font_size\":\"8pt\",\"group_text_font_style\":\"normal\",\"group_text_align\":\"center\",\"group_label_orientation\":0.5235987755982988}},{\"type\":\"object\",\"name\":\"Legend\",\"id\":\"p3557\",\"attributes\":{\"location\":[0,0],\"orientation\":\"horizontal\",\"items\":[{\"type\":\"object\",\"name\":\"LegendItem\",\"id\":\"p3558\",\"attributes\":{\"label\":{\"type\":\"field\",\"field\":\"Variable\"},\"renderers\":[{\"id\":\"p3554\"}]}}]}}],\"center\":[{\"type\":\"object\",\"name\":\"Grid\",\"id\":\"p3521\",\"attributes\":{\"axis\":{\"id\":\"p3516\"},\"grid_line_color\":null}},{\"type\":\"object\",\"name\":\"Grid\",\"id\":\"p3528\",\"attributes\":{\"dimension\":1,\"axis\":{\"id\":\"p3522\"},\"grid_line_color\":null}},{\"id\":\"p3557\"}],\"min_border_top\":10,\"min_border_bottom\":10,\"min_border_left\":10,\"min_border_right\":10,\"output_backend\":\"webgl\"}},{\"type\":\"object\",\"name\":\"Spacer\",\"id\":\"p3586\",\"attributes\":{\"name\":\"HSpacer05579\",\"stylesheets\":[\"\\n:host(.pn-loading.pn-arc):before, .pn-loading.pn-arc:before {\\n  background-image: url(\\\"data:image/svg+xml;base64,PHN2ZyB4bWxucz0iaHR0cDovL3d3dy53My5vcmcvMjAwMC9zdmciIHN0eWxlPSJtYXJnaW46IGF1dG87IGJhY2tncm91bmQ6IG5vbmU7IGRpc3BsYXk6IGJsb2NrOyBzaGFwZS1yZW5kZXJpbmc6IGF1dG87IiB2aWV3Qm94PSIwIDAgMTAwIDEwMCIgcHJlc2VydmVBc3BlY3RSYXRpbz0ieE1pZFlNaWQiPiAgPGNpcmNsZSBjeD0iNTAiIGN5PSI1MCIgZmlsbD0ibm9uZSIgc3Ryb2tlPSIjYzNjM2MzIiBzdHJva2Utd2lkdGg9IjEwIiByPSIzNSIgc3Ryb2tlLWRhc2hhcnJheT0iMTY0LjkzMzYxNDMxMzQ2NDE1IDU2Ljk3Nzg3MTQzNzgyMTM4Ij4gICAgPGFuaW1hdGVUcmFuc2Zvcm0gYXR0cmlidXRlTmFtZT0idHJhbnNmb3JtIiB0eXBlPSJyb3RhdGUiIHJlcGVhdENvdW50PSJpbmRlZmluaXRlIiBkdXI9IjFzIiB2YWx1ZXM9IjAgNTAgNTA7MzYwIDUwIDUwIiBrZXlUaW1lcz0iMDsxIj48L2FuaW1hdGVUcmFuc2Zvcm0+ICA8L2NpcmNsZT48L3N2Zz4=\\\");\\n  background-size: auto calc(min(50%, 400px));\\n}\",{\"id\":\"p3495\"},{\"id\":\"p3493\"},{\"id\":\"p3494\"}],\"margin\":0,\"sizing_mode\":\"stretch_width\",\"align\":\"start\"}}]}}],\"callbacks\":{\"type\":\"map\"}}};\n",
       "  var render_items = [{\"docid\":\"6f5c4bc7-fcd8-4dbc-a9ea-205e1a27be58\",\"roots\":{\"p3492\":\"b6817d38-0e6c-4e04-a07c-6925ca37e56b\"},\"root_ids\":[\"p3492\"]}];\n",
       "  var docs = Object.values(docs_json)\n",
       "  if (!docs) {\n",
       "    return\n",
       "  }\n",
       "  const py_version = docs[0].version.replace('rc', '-rc.').replace('.dev', '-dev.')\n",
       "  const is_dev = py_version.indexOf(\"+\") !== -1 || py_version.indexOf(\"-\") !== -1\n",
       "  function embed_document(root) {\n",
       "    var Bokeh = get_bokeh(root)\n",
       "    Bokeh.embed.embed_items_notebook(docs_json, render_items);\n",
       "    for (const render_item of render_items) {\n",
       "      for (const root_id of render_item.root_ids) {\n",
       "\tconst id_el = document.getElementById(root_id)\n",
       "\tif (id_el.children.length && (id_el.children[0].className === 'bk-root')) {\n",
       "\t  const root_el = id_el.children[0]\n",
       "\t  root_el.id = root_el.id + '-rendered'\n",
       "\t}\n",
       "      }\n",
       "    }\n",
       "  }\n",
       "  function get_bokeh(root) {\n",
       "    if (root.Bokeh === undefined) {\n",
       "      return null\n",
       "    } else if (root.Bokeh.version !== py_version && !is_dev) {\n",
       "      if (root.Bokeh.versions === undefined || !root.Bokeh.versions.has(py_version)) {\n",
       "\treturn null\n",
       "      }\n",
       "      return root.Bokeh.versions.get(py_version);\n",
       "    } else if (root.Bokeh.version === py_version) {\n",
       "      return root.Bokeh\n",
       "    }\n",
       "    return null\n",
       "  }\n",
       "  function is_loaded(root) {\n",
       "    var Bokeh = get_bokeh(root)\n",
       "    return (Bokeh != null && Bokeh.Panel !== undefined)\n",
       "  }\n",
       "  if (is_loaded(root)) {\n",
       "    embed_document(root);\n",
       "  } else {\n",
       "    var attempts = 0;\n",
       "    var timer = setInterval(function(root) {\n",
       "      if (is_loaded(root)) {\n",
       "        clearInterval(timer);\n",
       "        embed_document(root);\n",
       "      } else if (document.readyState == \"complete\") {\n",
       "        attempts++;\n",
       "        if (attempts > 200) {\n",
       "          clearInterval(timer);\n",
       "\t  var Bokeh = get_bokeh(root)\n",
       "\t  if (Bokeh == null || Bokeh.Panel == null) {\n",
       "            console.warn(\"Panel: ERROR: Unable to run Panel code because Bokeh or Panel library is missing\");\n",
       "\t  } else {\n",
       "\t    console.warn(\"Panel: WARNING: Attempting to render but not all required libraries could be resolved.\")\n",
       "\t    embed_document(root)\n",
       "\t  }\n",
       "        }\n",
       "      }\n",
       "    }, 25, root)\n",
       "  }\n",
       "})(window);</script>"
      ],
      "text/plain": [
       ":Bars   [Ano,Variable]   (value)"
      ]
     },
     "execution_count": 39,
     "metadata": {
      "application/vnd.holoviews_exec.v0+json": {
       "id": "p3492"
      }
     },
     "output_type": "execute_result"
    }
   ],
   "source": [
    "estrutural"
   ]
  },
  {
   "cell_type": "code",
   "execution_count": 40,
   "metadata": {
    "slideshow": {
     "slide_type": "notes"
    }
   },
   "outputs": [],
   "source": [
    "p = pd.read_excel('br_prim_estrutural_2000_2019.xlsx')\n",
    "\n",
    "impulso = p.hvplot.bar('Ano', ['Impulso fiscal'],\n",
    "                       height=450,\n",
    "                       width=650,\n",
    "                       rot=45,\n",
    "                       padding=0.05,\n",
    "                       legend='bottom',\n",
    "                       color='green',\n",
    "                       alpha=0.7,\n",
    "                       xlabel='',\n",
    "                       ylabel='% do PIB',\n",
    "                       ylim=(-1.5, 1.5),\n",
    "                       yformatter='%.1f',\n",
    "                       label='Impulso fiscal, Governo geral, 2000-2019 (positivo = expansão)'\n",
    "                      ).opts(fontsize={'title': 11, 'labels': 8, \n",
    "                                       'xticks': 8, 'yticks': 8}).opts(multi_level=False)"
   ]
  },
  {
   "cell_type": "code",
   "execution_count": 41,
   "metadata": {
    "slideshow": {
     "slide_type": "slide"
    }
   },
   "outputs": [
    {
     "data": {},
     "metadata": {},
     "output_type": "display_data"
    },
    {
     "data": {
      "application/vnd.holoviews_exec.v0+json": "",
      "text/html": [
       "<div id='p3639'>\n",
       "  <div id=\"e3503d0d-7b55-4e62-bd8b-4cb8cb3360fa\" data-root-id=\"p3639\" style=\"display: contents;\"></div>\n",
       "</div>\n",
       "<script type=\"application/javascript\">(function(root) {\n",
       "  var docs_json = {\"4bb55fa5-2039-436d-b528-f82a05b7d878\":{\"version\":\"3.1.1\",\"title\":\"Bokeh Application\",\"defs\":[{\"type\":\"model\",\"name\":\"ReactiveHTML1\"},{\"type\":\"model\",\"name\":\"FlexBox1\",\"properties\":[{\"name\":\"align_content\",\"kind\":\"Any\",\"default\":\"flex-start\"},{\"name\":\"align_items\",\"kind\":\"Any\",\"default\":\"flex-start\"},{\"name\":\"flex_direction\",\"kind\":\"Any\",\"default\":\"row\"},{\"name\":\"flex_wrap\",\"kind\":\"Any\",\"default\":\"wrap\"},{\"name\":\"justify_content\",\"kind\":\"Any\",\"default\":\"flex-start\"}]},{\"type\":\"model\",\"name\":\"FloatPanel1\",\"properties\":[{\"name\":\"config\",\"kind\":\"Any\",\"default\":{\"type\":\"map\"}},{\"name\":\"contained\",\"kind\":\"Any\",\"default\":true},{\"name\":\"position\",\"kind\":\"Any\",\"default\":\"right-top\"},{\"name\":\"offsetx\",\"kind\":\"Any\",\"default\":null},{\"name\":\"offsety\",\"kind\":\"Any\",\"default\":null},{\"name\":\"theme\",\"kind\":\"Any\",\"default\":\"primary\"},{\"name\":\"status\",\"kind\":\"Any\",\"default\":\"normalized\"}]},{\"type\":\"model\",\"name\":\"GridStack1\",\"properties\":[{\"name\":\"mode\",\"kind\":\"Any\",\"default\":\"warn\"},{\"name\":\"ncols\",\"kind\":\"Any\",\"default\":null},{\"name\":\"nrows\",\"kind\":\"Any\",\"default\":null},{\"name\":\"allow_resize\",\"kind\":\"Any\",\"default\":true},{\"name\":\"allow_drag\",\"kind\":\"Any\",\"default\":true},{\"name\":\"state\",\"kind\":\"Any\",\"default\":[]}]},{\"type\":\"model\",\"name\":\"drag1\",\"properties\":[{\"name\":\"slider_width\",\"kind\":\"Any\",\"default\":5},{\"name\":\"slider_color\",\"kind\":\"Any\",\"default\":\"black\"},{\"name\":\"value\",\"kind\":\"Any\",\"default\":50}]},{\"type\":\"model\",\"name\":\"click1\",\"properties\":[{\"name\":\"terminal_output\",\"kind\":\"Any\",\"default\":\"\"},{\"name\":\"debug_name\",\"kind\":\"Any\",\"default\":\"\"},{\"name\":\"clears\",\"kind\":\"Any\",\"default\":0}]},{\"type\":\"model\",\"name\":\"FastWrapper1\",\"properties\":[{\"name\":\"object\",\"kind\":\"Any\",\"default\":null},{\"name\":\"style\",\"kind\":\"Any\",\"default\":null}]},{\"type\":\"model\",\"name\":\"NotificationAreaBase1\",\"properties\":[{\"name\":\"js_events\",\"kind\":\"Any\",\"default\":{\"type\":\"map\"}},{\"name\":\"position\",\"kind\":\"Any\",\"default\":\"bottom-right\"},{\"name\":\"_clear\",\"kind\":\"Any\",\"default\":0}]},{\"type\":\"model\",\"name\":\"NotificationArea1\",\"properties\":[{\"name\":\"js_events\",\"kind\":\"Any\",\"default\":{\"type\":\"map\"}},{\"name\":\"notifications\",\"kind\":\"Any\",\"default\":[]},{\"name\":\"position\",\"kind\":\"Any\",\"default\":\"bottom-right\"},{\"name\":\"_clear\",\"kind\":\"Any\",\"default\":0},{\"name\":\"types\",\"kind\":\"Any\",\"default\":[{\"type\":\"map\",\"entries\":[[\"type\",\"warning\"],[\"background\",\"#ffc107\"],[\"icon\",{\"type\":\"map\",\"entries\":[[\"className\",\"fas fa-exclamation-triangle\"],[\"tagName\",\"i\"],[\"color\",\"white\"]]}]]},{\"type\":\"map\",\"entries\":[[\"type\",\"info\"],[\"background\",\"#007bff\"],[\"icon\",{\"type\":\"map\",\"entries\":[[\"className\",\"fas fa-info-circle\"],[\"tagName\",\"i\"],[\"color\",\"white\"]]}]]}]}]},{\"type\":\"model\",\"name\":\"Notification\",\"properties\":[{\"name\":\"background\",\"kind\":\"Any\",\"default\":null},{\"name\":\"duration\",\"kind\":\"Any\",\"default\":3000},{\"name\":\"icon\",\"kind\":\"Any\",\"default\":null},{\"name\":\"message\",\"kind\":\"Any\",\"default\":\"\"},{\"name\":\"notification_type\",\"kind\":\"Any\",\"default\":null},{\"name\":\"_destroyed\",\"kind\":\"Any\",\"default\":false}]},{\"type\":\"model\",\"name\":\"TemplateActions1\",\"properties\":[{\"name\":\"open_modal\",\"kind\":\"Any\",\"default\":0},{\"name\":\"close_modal\",\"kind\":\"Any\",\"default\":0}]},{\"type\":\"model\",\"name\":\"BootstrapTemplateActions1\",\"properties\":[{\"name\":\"open_modal\",\"kind\":\"Any\",\"default\":0},{\"name\":\"close_modal\",\"kind\":\"Any\",\"default\":0}]},{\"type\":\"model\",\"name\":\"MaterialTemplateActions1\",\"properties\":[{\"name\":\"open_modal\",\"kind\":\"Any\",\"default\":0},{\"name\":\"close_modal\",\"kind\":\"Any\",\"default\":0}]}],\"roots\":[{\"type\":\"object\",\"name\":\"Row\",\"id\":\"p3639\",\"attributes\":{\"name\":\"Row05821\",\"tags\":[\"embedded\"],\"stylesheets\":[\"\\n:host(.pn-loading.pn-arc):before, .pn-loading.pn-arc:before {\\n  background-image: url(\\\"data:image/svg+xml;base64,PHN2ZyB4bWxucz0iaHR0cDovL3d3dy53My5vcmcvMjAwMC9zdmciIHN0eWxlPSJtYXJnaW46IGF1dG87IGJhY2tncm91bmQ6IG5vbmU7IGRpc3BsYXk6IGJsb2NrOyBzaGFwZS1yZW5kZXJpbmc6IGF1dG87IiB2aWV3Qm94PSIwIDAgMTAwIDEwMCIgcHJlc2VydmVBc3BlY3RSYXRpbz0ieE1pZFlNaWQiPiAgPGNpcmNsZSBjeD0iNTAiIGN5PSI1MCIgZmlsbD0ibm9uZSIgc3Ryb2tlPSIjYzNjM2MzIiBzdHJva2Utd2lkdGg9IjEwIiByPSIzNSIgc3Ryb2tlLWRhc2hhcnJheT0iMTY0LjkzMzYxNDMxMzQ2NDE1IDU2Ljk3Nzg3MTQzNzgyMTM4Ij4gICAgPGFuaW1hdGVUcmFuc2Zvcm0gYXR0cmlidXRlTmFtZT0idHJhbnNmb3JtIiB0eXBlPSJyb3RhdGUiIHJlcGVhdENvdW50PSJpbmRlZmluaXRlIiBkdXI9IjFzIiB2YWx1ZXM9IjAgNTAgNTA7MzYwIDUwIDUwIiBrZXlUaW1lcz0iMDsxIj48L2FuaW1hdGVUcmFuc2Zvcm0+ICA8L2NpcmNsZT48L3N2Zz4=\\\");\\n  background-size: auto calc(min(50%, 400px));\\n}\",{\"type\":\"object\",\"name\":\"ImportedStyleSheet\",\"id\":\"p3642\",\"attributes\":{\"url\":\"https://cdn.holoviz.org/panel/1.2.3/dist/css/loading.css\"}},{\"type\":\"object\",\"name\":\"ImportedStyleSheet\",\"id\":\"p3735\",\"attributes\":{\"url\":\"https://cdn.holoviz.org/panel/1.2.3/dist/css/listpanel.css\"}},{\"type\":\"object\",\"name\":\"ImportedStyleSheet\",\"id\":\"p3640\",\"attributes\":{\"url\":\"https://cdn.holoviz.org/panel/1.2.3/dist/bundled/theme/default.css\"}},{\"type\":\"object\",\"name\":\"ImportedStyleSheet\",\"id\":\"p3641\",\"attributes\":{\"url\":\"https://cdn.holoviz.org/panel/1.2.3/dist/bundled/theme/native.css\"}}],\"min_width\":650,\"margin\":0,\"sizing_mode\":\"stretch_width\",\"align\":\"start\",\"children\":[{\"type\":\"object\",\"name\":\"Spacer\",\"id\":\"p3643\",\"attributes\":{\"name\":\"HSpacer05832\",\"stylesheets\":[\"\\n:host(.pn-loading.pn-arc):before, .pn-loading.pn-arc:before {\\n  background-image: url(\\\"data:image/svg+xml;base64,PHN2ZyB4bWxucz0iaHR0cDovL3d3dy53My5vcmcvMjAwMC9zdmciIHN0eWxlPSJtYXJnaW46IGF1dG87IGJhY2tncm91bmQ6IG5vbmU7IGRpc3BsYXk6IGJsb2NrOyBzaGFwZS1yZW5kZXJpbmc6IGF1dG87IiB2aWV3Qm94PSIwIDAgMTAwIDEwMCIgcHJlc2VydmVBc3BlY3RSYXRpbz0ieE1pZFlNaWQiPiAgPGNpcmNsZSBjeD0iNTAiIGN5PSI1MCIgZmlsbD0ibm9uZSIgc3Ryb2tlPSIjYzNjM2MzIiBzdHJva2Utd2lkdGg9IjEwIiByPSIzNSIgc3Ryb2tlLWRhc2hhcnJheT0iMTY0LjkzMzYxNDMxMzQ2NDE1IDU2Ljk3Nzg3MTQzNzgyMTM4Ij4gICAgPGFuaW1hdGVUcmFuc2Zvcm0gYXR0cmlidXRlTmFtZT0idHJhbnNmb3JtIiB0eXBlPSJyb3RhdGUiIHJlcGVhdENvdW50PSJpbmRlZmluaXRlIiBkdXI9IjFzIiB2YWx1ZXM9IjAgNTAgNTA7MzYwIDUwIDUwIiBrZXlUaW1lcz0iMDsxIj48L2FuaW1hdGVUcmFuc2Zvcm0+ICA8L2NpcmNsZT48L3N2Zz4=\\\");\\n  background-size: auto calc(min(50%, 400px));\\n}\",{\"id\":\"p3642\"},{\"id\":\"p3640\"},{\"id\":\"p3641\"}],\"margin\":0,\"sizing_mode\":\"stretch_width\",\"align\":\"start\"}},{\"type\":\"object\",\"name\":\"Figure\",\"id\":\"p3649\",\"attributes\":{\"width\":650,\"height\":450,\"margin\":[5,10],\"sizing_mode\":\"fixed\",\"align\":\"start\",\"x_range\":{\"type\":\"object\",\"name\":\"FactorRange\",\"id\":\"p3644\",\"attributes\":{\"tags\":[[[\"Ano\",\"Ano\",null]],[]],\"factors\":[[\"2000\",\"Impulso fiscal\"],[\"2001\",\"Impulso fiscal\"],[\"2002\",\"Impulso fiscal\"],[\"2003\",\"Impulso fiscal\"],[\"2004\",\"Impulso fiscal\"],[\"2005\",\"Impulso fiscal\"],[\"2006\",\"Impulso fiscal\"],[\"2007\",\"Impulso fiscal\"],[\"2008\",\"Impulso fiscal\"],[\"2009\",\"Impulso fiscal\"],[\"2010\",\"Impulso fiscal\"],[\"2011\",\"Impulso fiscal\"],[\"2012\",\"Impulso fiscal\"],[\"2013\",\"Impulso fiscal\"],[\"2014\",\"Impulso fiscal\"],[\"2015\",\"Impulso fiscal\"],[\"2016\",\"Impulso fiscal\"],[\"2017\",\"Impulso fiscal\"],[\"2018\",\"Impulso fiscal\"],[\"2019\",\"Impulso fiscal\"]]}},\"y_range\":{\"type\":\"object\",\"name\":\"Range1d\",\"id\":\"p3645\",\"attributes\":{\"tags\":[[[\"value\",\"value\",null]],{\"type\":\"map\",\"entries\":[[\"invert_yaxis\",false],[\"autorange\",false]]}],\"start\":-1.5,\"end\":1.5,\"reset_start\":-1.5,\"reset_end\":1.5}},\"x_scale\":{\"type\":\"object\",\"name\":\"CategoricalScale\",\"id\":\"p3661\"},\"y_scale\":{\"type\":\"object\",\"name\":\"LinearScale\",\"id\":\"p3662\"},\"title\":{\"type\":\"object\",\"name\":\"Title\",\"id\":\"p3652\",\"attributes\":{\"text\":\"Impulso fiscal, Governo geral, 2000-2019 (positivo = expans\\u00e3o)\",\"text_color\":\"black\",\"text_font_size\":\"11pt\"}},\"renderers\":[{\"type\":\"object\",\"name\":\"GlyphRenderer\",\"id\":\"p3701\",\"attributes\":{\"data_source\":{\"type\":\"object\",\"name\":\"ColumnDataSource\",\"id\":\"p3691\",\"attributes\":{\"selected\":{\"type\":\"object\",\"name\":\"Selection\",\"id\":\"p3693\",\"attributes\":{\"indices\":[],\"line_indices\":[]}},\"selection_policy\":{\"type\":\"object\",\"name\":\"UnionRenderers\",\"id\":\"p3692\"},\"data\":{\"type\":\"map\",\"entries\":[[\"xoffsets\",[[\"2000\",\"Impulso fiscal\"],[\"2001\",\"Impulso fiscal\"],[\"2002\",\"Impulso fiscal\"],[\"2003\",\"Impulso fiscal\"],[\"2004\",\"Impulso fiscal\"],[\"2005\",\"Impulso fiscal\"],[\"2006\",\"Impulso fiscal\"],[\"2007\",\"Impulso fiscal\"],[\"2008\",\"Impulso fiscal\"],[\"2009\",\"Impulso fiscal\"],[\"2010\",\"Impulso fiscal\"],[\"2011\",\"Impulso fiscal\"],[\"2012\",\"Impulso fiscal\"],[\"2013\",\"Impulso fiscal\"],[\"2014\",\"Impulso fiscal\"],[\"2015\",\"Impulso fiscal\"],[\"2016\",\"Impulso fiscal\"],[\"2017\",\"Impulso fiscal\"],[\"2018\",\"Impulso fiscal\"],[\"2019\",\"Impulso fiscal\"]]],[\"value\",{\"type\":\"ndarray\",\"array\":{\"type\":\"bytes\",\"data\":\"AAAAAAAA+H9mZmZmZmbmvxSuR+F6FOY/16NwPQrX879I4XoUrkfRPylcj8L1KMw/uB6F61G45j/D9Shcj8LFP6RwPQrXo9C/exSuR+F67D9SuB6F61HYPzMzMzMzM/O/mpmZmZmZ6T89CtejcD3yPz0K16NwPfY/7FG4HoXr8b/NzMzMzMzwP1yPwvUoXOe/4XoUrkfh4r97FK5H4XqUPw==\"},\"shape\":[20],\"dtype\":\"float64\",\"order\":\"little\"}],[\"Ano\",[\"2000\",\"2001\",\"2002\",\"2003\",\"2004\",\"2005\",\"2006\",\"2007\",\"2008\",\"2009\",\"2010\",\"2011\",\"2012\",\"2013\",\"2014\",\"2015\",\"2016\",\"2017\",\"2018\",\"2019\"]],[\"Variable\",[\"Impulso fiscal\",\"Impulso fiscal\",\"Impulso fiscal\",\"Impulso fiscal\",\"Impulso fiscal\",\"Impulso fiscal\",\"Impulso fiscal\",\"Impulso fiscal\",\"Impulso fiscal\",\"Impulso fiscal\",\"Impulso fiscal\",\"Impulso fiscal\",\"Impulso fiscal\",\"Impulso fiscal\",\"Impulso fiscal\",\"Impulso fiscal\",\"Impulso fiscal\",\"Impulso fiscal\",\"Impulso fiscal\",\"Impulso fiscal\"]]]}}},\"view\":{\"type\":\"object\",\"name\":\"CDSView\",\"id\":\"p3702\",\"attributes\":{\"filter\":{\"type\":\"object\",\"name\":\"AllIndices\",\"id\":\"p3703\"}}},\"glyph\":{\"type\":\"object\",\"name\":\"VBar\",\"id\":\"p3698\",\"attributes\":{\"tags\":[\"apply_ranges\"],\"x\":{\"type\":\"field\",\"field\":\"xoffsets\"},\"width\":{\"type\":\"value\",\"value\":0.8},\"top\":{\"type\":\"field\",\"field\":\"value\"},\"line_alpha\":{\"type\":\"value\",\"value\":0.7},\"fill_color\":{\"type\":\"field\",\"field\":\"Variable\",\"transform\":{\"type\":\"object\",\"name\":\"CategoricalColorMapper\",\"id\":\"p3690\",\"attributes\":{\"palette\":[\"green\"],\"factors\":[\"Impulso fiscal\"]}}},\"fill_alpha\":{\"type\":\"value\",\"value\":0.7},\"hatch_color\":{\"type\":\"field\",\"field\":\"Variable\",\"transform\":{\"id\":\"p3690\"}},\"hatch_alpha\":{\"type\":\"value\",\"value\":0.7}}},\"selection_glyph\":{\"type\":\"object\",\"name\":\"VBar\",\"id\":\"p3706\",\"attributes\":{\"tags\":[\"apply_ranges\"],\"x\":{\"type\":\"field\",\"field\":\"xoffsets\"},\"width\":{\"type\":\"value\",\"value\":0.8},\"bottom\":{\"type\":\"value\",\"value\":0},\"top\":{\"type\":\"field\",\"field\":\"value\"},\"line_color\":{\"type\":\"value\",\"value\":\"black\"},\"line_alpha\":{\"type\":\"value\",\"value\":0.7},\"line_width\":{\"type\":\"value\",\"value\":1},\"line_join\":{\"type\":\"value\",\"value\":\"bevel\"},\"line_cap\":{\"type\":\"value\",\"value\":\"butt\"},\"line_dash\":{\"type\":\"value\",\"value\":[]},\"line_dash_offset\":{\"type\":\"value\",\"value\":0},\"fill_color\":{\"type\":\"field\",\"field\":\"Variable\",\"transform\":{\"id\":\"p3690\"}},\"fill_alpha\":{\"type\":\"value\",\"value\":0.7},\"hatch_color\":{\"type\":\"field\",\"field\":\"Variable\",\"transform\":{\"id\":\"p3690\"}},\"hatch_alpha\":{\"type\":\"value\",\"value\":0.7},\"hatch_scale\":{\"type\":\"value\",\"value\":12.0},\"hatch_pattern\":{\"type\":\"value\",\"value\":null},\"hatch_weight\":{\"type\":\"value\",\"value\":1.0}}},\"nonselection_glyph\":{\"type\":\"object\",\"name\":\"VBar\",\"id\":\"p3699\",\"attributes\":{\"tags\":[\"apply_ranges\"],\"x\":{\"type\":\"field\",\"field\":\"xoffsets\"},\"width\":{\"type\":\"value\",\"value\":0.8},\"top\":{\"type\":\"field\",\"field\":\"value\"},\"line_alpha\":{\"type\":\"value\",\"value\":0.7},\"fill_color\":{\"type\":\"field\",\"field\":\"Variable\",\"transform\":{\"id\":\"p3690\"}},\"fill_alpha\":{\"type\":\"value\",\"value\":0.7},\"hatch_color\":{\"type\":\"field\",\"field\":\"Variable\",\"transform\":{\"id\":\"p3690\"}},\"hatch_alpha\":{\"type\":\"value\",\"value\":0.1}}},\"muted_glyph\":{\"type\":\"object\",\"name\":\"VBar\",\"id\":\"p3700\",\"attributes\":{\"tags\":[\"apply_ranges\"],\"x\":{\"type\":\"field\",\"field\":\"xoffsets\"},\"width\":{\"type\":\"value\",\"value\":0.8},\"top\":{\"type\":\"field\",\"field\":\"value\"},\"line_alpha\":{\"type\":\"value\",\"value\":0.2},\"fill_color\":{\"type\":\"field\",\"field\":\"Variable\",\"transform\":{\"id\":\"p3690\"}},\"fill_alpha\":{\"type\":\"value\",\"value\":0.2},\"hatch_color\":{\"type\":\"field\",\"field\":\"Variable\",\"transform\":{\"id\":\"p3690\"}},\"hatch_alpha\":{\"type\":\"value\",\"value\":0.2}}}}}],\"toolbar\":{\"type\":\"object\",\"name\":\"Toolbar\",\"id\":\"p3657\",\"attributes\":{\"tools\":[{\"type\":\"object\",\"name\":\"HoverTool\",\"id\":\"p3648\",\"attributes\":{\"tags\":[\"hv_created\"],\"renderers\":[{\"id\":\"p3701\"}],\"tooltips\":[[\"Ano\",\"@{Ano}\"],[\"Variable\",\"@{Variable}\"],[\"value\",\"@{value}\"]]}},{\"type\":\"object\",\"name\":\"SaveTool\",\"id\":\"p3676\"},{\"type\":\"object\",\"name\":\"PanTool\",\"id\":\"p3677\"},{\"type\":\"object\",\"name\":\"WheelZoomTool\",\"id\":\"p3678\"},{\"type\":\"object\",\"name\":\"BoxZoomTool\",\"id\":\"p3679\",\"attributes\":{\"overlay\":{\"type\":\"object\",\"name\":\"BoxAnnotation\",\"id\":\"p3680\",\"attributes\":{\"syncable\":false,\"level\":\"overlay\",\"visible\":false,\"left_units\":\"canvas\",\"right_units\":\"canvas\",\"bottom_units\":\"canvas\",\"top_units\":\"canvas\",\"line_color\":\"black\",\"line_alpha\":1.0,\"line_width\":2,\"line_dash\":[4,4],\"fill_color\":\"lightgrey\",\"fill_alpha\":0.5}}}},{\"type\":\"object\",\"name\":\"ResetTool\",\"id\":\"p3681\"}],\"active_drag\":{\"id\":\"p3677\"},\"active_scroll\":{\"id\":\"p3678\"}}},\"left\":[{\"type\":\"object\",\"name\":\"LinearAxis\",\"id\":\"p3669\",\"attributes\":{\"ticker\":{\"type\":\"object\",\"name\":\"BasicTicker\",\"id\":\"p3671\",\"attributes\":{\"mantissas\":[1,2,5]}},\"formatter\":{\"type\":\"object\",\"name\":\"PrintfTickFormatter\",\"id\":\"p3707\",\"attributes\":{\"format\":\"%.1f\"}},\"axis_label\":\"% do PIB\",\"axis_label_text_font_size\":\"8pt\",\"major_label_policy\":{\"type\":\"object\",\"name\":\"AllLabels\",\"id\":\"p3672\"},\"major_label_text_font_size\":\"8pt\"}}],\"below\":[{\"type\":\"object\",\"name\":\"CategoricalAxis\",\"id\":\"p3663\",\"attributes\":{\"ticker\":{\"type\":\"object\",\"name\":\"CategoricalTicker\",\"id\":\"p3665\"},\"formatter\":{\"type\":\"object\",\"name\":\"CategoricalTickFormatter\",\"id\":\"p3664\"},\"axis_label\":\"\",\"axis_label_text_font_size\":\"8pt\",\"major_label_policy\":{\"type\":\"object\",\"name\":\"AllLabels\",\"id\":\"p3666\"},\"major_label_text_alpha\":0,\"major_label_text_font_size\":\"1px\",\"major_label_text_line_height\":0,\"major_tick_line_alpha\":0,\"separator_line_width\":0,\"group_text_color\":\"black\",\"group_text_font_size\":\"8pt\",\"group_text_font_style\":\"normal\",\"group_text_align\":\"center\",\"group_label_orientation\":0.7853981633974483}},{\"type\":\"object\",\"name\":\"Legend\",\"id\":\"p3704\",\"attributes\":{\"location\":[0,0],\"orientation\":\"horizontal\",\"items\":[{\"type\":\"object\",\"name\":\"LegendItem\",\"id\":\"p3705\",\"attributes\":{\"label\":{\"type\":\"field\",\"field\":\"Variable\"},\"renderers\":[{\"id\":\"p3701\"}]}}]}}],\"center\":[{\"type\":\"object\",\"name\":\"Grid\",\"id\":\"p3668\",\"attributes\":{\"axis\":{\"id\":\"p3663\"},\"grid_line_color\":null}},{\"type\":\"object\",\"name\":\"Grid\",\"id\":\"p3675\",\"attributes\":{\"dimension\":1,\"axis\":{\"id\":\"p3669\"},\"grid_line_color\":null}},{\"id\":\"p3704\"}],\"min_border_top\":10,\"min_border_bottom\":10,\"min_border_left\":10,\"min_border_right\":10,\"output_backend\":\"webgl\"}},{\"type\":\"object\",\"name\":\"Spacer\",\"id\":\"p3733\",\"attributes\":{\"name\":\"HSpacer05835\",\"stylesheets\":[\"\\n:host(.pn-loading.pn-arc):before, .pn-loading.pn-arc:before {\\n  background-image: url(\\\"data:image/svg+xml;base64,PHN2ZyB4bWxucz0iaHR0cDovL3d3dy53My5vcmcvMjAwMC9zdmciIHN0eWxlPSJtYXJnaW46IGF1dG87IGJhY2tncm91bmQ6IG5vbmU7IGRpc3BsYXk6IGJsb2NrOyBzaGFwZS1yZW5kZXJpbmc6IGF1dG87IiB2aWV3Qm94PSIwIDAgMTAwIDEwMCIgcHJlc2VydmVBc3BlY3RSYXRpbz0ieE1pZFlNaWQiPiAgPGNpcmNsZSBjeD0iNTAiIGN5PSI1MCIgZmlsbD0ibm9uZSIgc3Ryb2tlPSIjYzNjM2MzIiBzdHJva2Utd2lkdGg9IjEwIiByPSIzNSIgc3Ryb2tlLWRhc2hhcnJheT0iMTY0LjkzMzYxNDMxMzQ2NDE1IDU2Ljk3Nzg3MTQzNzgyMTM4Ij4gICAgPGFuaW1hdGVUcmFuc2Zvcm0gYXR0cmlidXRlTmFtZT0idHJhbnNmb3JtIiB0eXBlPSJyb3RhdGUiIHJlcGVhdENvdW50PSJpbmRlZmluaXRlIiBkdXI9IjFzIiB2YWx1ZXM9IjAgNTAgNTA7MzYwIDUwIDUwIiBrZXlUaW1lcz0iMDsxIj48L2FuaW1hdGVUcmFuc2Zvcm0+ICA8L2NpcmNsZT48L3N2Zz4=\\\");\\n  background-size: auto calc(min(50%, 400px));\\n}\",{\"id\":\"p3642\"},{\"id\":\"p3640\"},{\"id\":\"p3641\"}],\"margin\":0,\"sizing_mode\":\"stretch_width\",\"align\":\"start\"}}]}}],\"callbacks\":{\"type\":\"map\"}}};\n",
       "  var render_items = [{\"docid\":\"4bb55fa5-2039-436d-b528-f82a05b7d878\",\"roots\":{\"p3639\":\"e3503d0d-7b55-4e62-bd8b-4cb8cb3360fa\"},\"root_ids\":[\"p3639\"]}];\n",
       "  var docs = Object.values(docs_json)\n",
       "  if (!docs) {\n",
       "    return\n",
       "  }\n",
       "  const py_version = docs[0].version.replace('rc', '-rc.').replace('.dev', '-dev.')\n",
       "  const is_dev = py_version.indexOf(\"+\") !== -1 || py_version.indexOf(\"-\") !== -1\n",
       "  function embed_document(root) {\n",
       "    var Bokeh = get_bokeh(root)\n",
       "    Bokeh.embed.embed_items_notebook(docs_json, render_items);\n",
       "    for (const render_item of render_items) {\n",
       "      for (const root_id of render_item.root_ids) {\n",
       "\tconst id_el = document.getElementById(root_id)\n",
       "\tif (id_el.children.length && (id_el.children[0].className === 'bk-root')) {\n",
       "\t  const root_el = id_el.children[0]\n",
       "\t  root_el.id = root_el.id + '-rendered'\n",
       "\t}\n",
       "      }\n",
       "    }\n",
       "  }\n",
       "  function get_bokeh(root) {\n",
       "    if (root.Bokeh === undefined) {\n",
       "      return null\n",
       "    } else if (root.Bokeh.version !== py_version && !is_dev) {\n",
       "      if (root.Bokeh.versions === undefined || !root.Bokeh.versions.has(py_version)) {\n",
       "\treturn null\n",
       "      }\n",
       "      return root.Bokeh.versions.get(py_version);\n",
       "    } else if (root.Bokeh.version === py_version) {\n",
       "      return root.Bokeh\n",
       "    }\n",
       "    return null\n",
       "  }\n",
       "  function is_loaded(root) {\n",
       "    var Bokeh = get_bokeh(root)\n",
       "    return (Bokeh != null && Bokeh.Panel !== undefined)\n",
       "  }\n",
       "  if (is_loaded(root)) {\n",
       "    embed_document(root);\n",
       "  } else {\n",
       "    var attempts = 0;\n",
       "    var timer = setInterval(function(root) {\n",
       "      if (is_loaded(root)) {\n",
       "        clearInterval(timer);\n",
       "        embed_document(root);\n",
       "      } else if (document.readyState == \"complete\") {\n",
       "        attempts++;\n",
       "        if (attempts > 200) {\n",
       "          clearInterval(timer);\n",
       "\t  var Bokeh = get_bokeh(root)\n",
       "\t  if (Bokeh == null || Bokeh.Panel == null) {\n",
       "            console.warn(\"Panel: ERROR: Unable to run Panel code because Bokeh or Panel library is missing\");\n",
       "\t  } else {\n",
       "\t    console.warn(\"Panel: WARNING: Attempting to render but not all required libraries could be resolved.\")\n",
       "\t    embed_document(root)\n",
       "\t  }\n",
       "        }\n",
       "      }\n",
       "    }, 25, root)\n",
       "  }\n",
       "})(window);</script>"
      ],
      "text/plain": [
       ":Bars   [Ano,Variable]   (value)"
      ]
     },
     "execution_count": 41,
     "metadata": {
      "application/vnd.holoviews_exec.v0+json": {
       "id": "p3639"
      }
     },
     "output_type": "execute_result"
    }
   ],
   "source": [
    "impulso"
   ]
  },
  {
   "cell_type": "markdown",
   "metadata": {
    "slideshow": {
     "slide_type": "slide"
    }
   },
   "source": [
    "## Desempenho\n",
    "\n",
    "Em resumo, as figuras mostram o declínio acentuado do superávit primário no período (exceto em 2011), culminando com déficit primário em 2014, com o efetivo menor do que o estrutural."
   ]
  },
  {
   "cell_type": "markdown",
   "metadata": {
    "slideshow": {
     "slide_type": "fragment"
    }
   },
   "source": [
    "O ano de 2011 exibiu um expressivo esforço fiscal do governo geral como um todo e uma redução do impulso fiscal (contração de -1,2% em relação PIB). "
   ]
  },
  {
   "cell_type": "markdown",
   "metadata": {
    "slideshow": {
     "slide_type": "fragment"
    }
   },
   "source": [
    "Os anos seguintes foram de crescente expansão fiscal, chegando a 1,4% do PIB em 2014 e déficit primário efetivo de -0,5% e déficit estrutural de 1,5% do PIB - com tendência de crescimento. "
   ]
  },
  {
   "cell_type": "markdown",
   "metadata": {
    "slideshow": {
     "slide_type": "slide"
    }
   },
   "source": [
    "## Receitas e desonerações\n",
    "\n",
    "No plano fiscal, uma das políticas perseguidas pelo governo Dilma, iniciada já no governo anterior, foi a de expandir as renúncias fiscais (tributárias, previdenciárias e creditícias) para empresas do setor produtivo."
   ]
  },
  {
   "cell_type": "markdown",
   "metadata": {
    "slideshow": {
     "slide_type": "fragment"
    }
   },
   "source": [
    "O efeito *esperado* era que o alívio da carga tributária induzisse as empresas a aumentar investimentos, resultando em maior crescimento econômico e maior arrecadação com o aumento de produção e vendas."
   ]
  },
  {
   "cell_type": "markdown",
   "metadata": {
    "slideshow": {
     "slide_type": "fragment"
    }
   },
   "source": [
    "O resultado observado, porém, foi a redução ainda maior da arrecadação, sem resposta do investimento privado e a persistência do baixo crescimento econômico. "
   ]
  },
  {
   "cell_type": "markdown",
   "metadata": {
    "slideshow": {
     "slide_type": "subslide"
    }
   },
   "source": [
    "Uma síntese dessa orientação da política fiscal:"
   ]
  },
  {
   "cell_type": "markdown",
   "metadata": {
    "slideshow": {
     "slide_type": "fragment"
    }
   },
   "source": [
    "2011 e 2014: Carga tributária federal = 22,8% e 22,1% do PIB; Renúncias tributárias e previdenciárias = 3,5% e 4,6% do PIB, respectivamente. "
   ]
  },
  {
   "cell_type": "markdown",
   "metadata": {
    "slideshow": {
     "slide_type": "slide"
    }
   },
   "source": [
    "## Renúncias fiscais\n",
    "\n",
    "Em 2014, o conjunto dos benefícios tributários, previdenciários e creditícios ultrapassou o *total das despesas* com educação, saúde e assistência social do governo federal."
   ]
  },
  {
   "cell_type": "markdown",
   "metadata": {
    "slideshow": {
     "slide_type": "fragment"
    }
   },
   "source": [
    "Globalmente, as desonerações concentraram-se nas áreas mais desenvolvidas do país."
   ]
  },
  {
   "cell_type": "markdown",
   "metadata": {
    "slideshow": {
     "slide_type": "fragment"
    }
   },
   "source": [
    "A região nordeste recebeu o menor valor de renúncia fiscal per capita. A região norte, por sua vez, foi beneficiada sobretudo pelos subsídios às empresas da Zona Franca de Manaus. Ver a seguir:"
   ]
  },
  {
   "cell_type": "markdown",
   "metadata": {
    "slideshow": {
     "slide_type": "slide"
    }
   },
   "source": [
    "### <center></center>\n",
    "\n",
    "<center><img src=\"br_tcu_desonera_2014.png\" width=\"900\" height=\"450\"></center>"
   ]
  },
  {
   "cell_type": "markdown",
   "metadata": {
    "slideshow": {
     "slide_type": "subslide"
    }
   },
   "source": [
    "### <center></center>\n",
    "\n",
    "<center><img src=\"br_tcu_regiao_2014.png\" width=\"900\" height=\"450\"></center>"
   ]
  },
  {
   "cell_type": "markdown",
   "metadata": {
    "slideshow": {
     "slide_type": "slide"
    }
   },
   "source": [
    "## Quadro fiscal e alternativas\n",
    "\n",
    "Em resumo, a situação fiscal envolvia: a) queda da receita líquida da União; b) política de aumento de desonerações; c) política de aumento das despesas públicas; "
   ]
  },
  {
   "cell_type": "markdown",
   "metadata": {
    "slideshow": {
     "slide_type": "fragment"
    }
   },
   "source": [
    "d) manutenção de metas de superávit primário, ainda que reduzidas; d) e o crescimento histórico das despesas obrigatórias (previdência, por exemplo) visto em aulas anteriores."
   ]
  },
  {
   "cell_type": "markdown",
   "metadata": {
    "slideshow": {
     "slide_type": "fragment"
    }
   },
   "source": [
    "Diante desse quadro, a opção do governo foi reforçar a criação de receitas atípicas e a realização de operações contábeis variadas como tentativa de acomodar os gastos crescentes à receita líquida declinante. "
   ]
  },
  {
   "cell_type": "markdown",
   "metadata": {
    "slideshow": {
     "slide_type": "subslide"
    }
   },
   "source": [
    "Ver exemplos a seguir, primeiro com uma conta corriqueira: Restos a pagar."
   ]
  },
  {
   "cell_type": "markdown",
   "metadata": {
    "slideshow": {
     "slide_type": "slide"
    }
   },
   "source": [
    "## Restos a pagar\n",
    "\n",
    "As operações visando acomodar a queda nas receitas líquidas, no superávit primário e o aumento das despesas incluíram um conjunto variado de artifícios contábeis."
   ]
  },
  {
   "cell_type": "markdown",
   "metadata": {
    "slideshow": {
     "slide_type": "fragment"
    }
   },
   "source": [
    "Um deles foi ampliar o adiamento do pagamento de despesas já liquidadas ou ainda em liquidação para o ano orçamentário seguinte."
   ]
  },
  {
   "cell_type": "markdown",
   "metadata": {
    "slideshow": {
     "slide_type": "fragment"
    }
   },
   "source": [
    "Essa operação reduzia os gastos efetivamente realizados no ano de origem e diminuía o efeito negativo sobre o superávit primário."
   ]
  },
  {
   "cell_type": "markdown",
   "metadata": {
    "slideshow": {
     "slide_type": "subslide"
    }
   },
   "source": [
    "Essa prática contábil, considerada normal quando mantida como resíduo da execução orçamentária, foi ampliada desde o final dos anos 2000 e tornou-se política recorrente daí em diante. Ver gráfico."
   ]
  },
  {
   "cell_type": "code",
   "execution_count": 42,
   "metadata": {
    "slideshow": {
     "slide_type": "notes"
    }
   },
   "outputs": [],
   "source": [
    "p = pd.read_excel('br_tcu_restos_2001_2014.xlsx')\n",
    "\n",
    "restos = p.hvplot.bar('Ano', ['Restos a pagar em relação às dotações orçamentárias'],\n",
    "                      height=450,\n",
    "                      width=650,\n",
    "                      rot=0,\n",
    "                      padding=0.05,\n",
    "                      legend='bottom',\n",
    "                      color='dodgerblue',\n",
    "                      yformatter='%.1f',\n",
    "                      xlabel='',\n",
    "                      ylabel='%',\n",
    "                      ylim=(0, 14),\n",
    "                      label='Restos a pagar, Governo federal, 2001-2014, %'\n",
    "                     ).opts(fontsize={'title': 11, 'labels': 8, \n",
    "                                            'xticks': 8, 'yticks': 8}).opts(multi_level=False)"
   ]
  },
  {
   "cell_type": "code",
   "execution_count": 43,
   "metadata": {
    "slideshow": {
     "slide_type": "slide"
    }
   },
   "outputs": [
    {
     "data": {},
     "metadata": {},
     "output_type": "display_data"
    },
    {
     "data": {
      "application/vnd.holoviews_exec.v0+json": "",
      "text/html": [
       "<div id='p3786'>\n",
       "  <div id=\"e8699756-24ec-4154-bd66-d9cd4344dc18\" data-root-id=\"p3786\" style=\"display: contents;\"></div>\n",
       "</div>\n",
       "<script type=\"application/javascript\">(function(root) {\n",
       "  var docs_json = {\"810f4493-7dd8-49fd-b488-c8a7d01abd9d\":{\"version\":\"3.1.1\",\"title\":\"Bokeh Application\",\"defs\":[{\"type\":\"model\",\"name\":\"ReactiveHTML1\"},{\"type\":\"model\",\"name\":\"FlexBox1\",\"properties\":[{\"name\":\"align_content\",\"kind\":\"Any\",\"default\":\"flex-start\"},{\"name\":\"align_items\",\"kind\":\"Any\",\"default\":\"flex-start\"},{\"name\":\"flex_direction\",\"kind\":\"Any\",\"default\":\"row\"},{\"name\":\"flex_wrap\",\"kind\":\"Any\",\"default\":\"wrap\"},{\"name\":\"justify_content\",\"kind\":\"Any\",\"default\":\"flex-start\"}]},{\"type\":\"model\",\"name\":\"FloatPanel1\",\"properties\":[{\"name\":\"config\",\"kind\":\"Any\",\"default\":{\"type\":\"map\"}},{\"name\":\"contained\",\"kind\":\"Any\",\"default\":true},{\"name\":\"position\",\"kind\":\"Any\",\"default\":\"right-top\"},{\"name\":\"offsetx\",\"kind\":\"Any\",\"default\":null},{\"name\":\"offsety\",\"kind\":\"Any\",\"default\":null},{\"name\":\"theme\",\"kind\":\"Any\",\"default\":\"primary\"},{\"name\":\"status\",\"kind\":\"Any\",\"default\":\"normalized\"}]},{\"type\":\"model\",\"name\":\"GridStack1\",\"properties\":[{\"name\":\"mode\",\"kind\":\"Any\",\"default\":\"warn\"},{\"name\":\"ncols\",\"kind\":\"Any\",\"default\":null},{\"name\":\"nrows\",\"kind\":\"Any\",\"default\":null},{\"name\":\"allow_resize\",\"kind\":\"Any\",\"default\":true},{\"name\":\"allow_drag\",\"kind\":\"Any\",\"default\":true},{\"name\":\"state\",\"kind\":\"Any\",\"default\":[]}]},{\"type\":\"model\",\"name\":\"drag1\",\"properties\":[{\"name\":\"slider_width\",\"kind\":\"Any\",\"default\":5},{\"name\":\"slider_color\",\"kind\":\"Any\",\"default\":\"black\"},{\"name\":\"value\",\"kind\":\"Any\",\"default\":50}]},{\"type\":\"model\",\"name\":\"click1\",\"properties\":[{\"name\":\"terminal_output\",\"kind\":\"Any\",\"default\":\"\"},{\"name\":\"debug_name\",\"kind\":\"Any\",\"default\":\"\"},{\"name\":\"clears\",\"kind\":\"Any\",\"default\":0}]},{\"type\":\"model\",\"name\":\"FastWrapper1\",\"properties\":[{\"name\":\"object\",\"kind\":\"Any\",\"default\":null},{\"name\":\"style\",\"kind\":\"Any\",\"default\":null}]},{\"type\":\"model\",\"name\":\"NotificationAreaBase1\",\"properties\":[{\"name\":\"js_events\",\"kind\":\"Any\",\"default\":{\"type\":\"map\"}},{\"name\":\"position\",\"kind\":\"Any\",\"default\":\"bottom-right\"},{\"name\":\"_clear\",\"kind\":\"Any\",\"default\":0}]},{\"type\":\"model\",\"name\":\"NotificationArea1\",\"properties\":[{\"name\":\"js_events\",\"kind\":\"Any\",\"default\":{\"type\":\"map\"}},{\"name\":\"notifications\",\"kind\":\"Any\",\"default\":[]},{\"name\":\"position\",\"kind\":\"Any\",\"default\":\"bottom-right\"},{\"name\":\"_clear\",\"kind\":\"Any\",\"default\":0},{\"name\":\"types\",\"kind\":\"Any\",\"default\":[{\"type\":\"map\",\"entries\":[[\"type\",\"warning\"],[\"background\",\"#ffc107\"],[\"icon\",{\"type\":\"map\",\"entries\":[[\"className\",\"fas fa-exclamation-triangle\"],[\"tagName\",\"i\"],[\"color\",\"white\"]]}]]},{\"type\":\"map\",\"entries\":[[\"type\",\"info\"],[\"background\",\"#007bff\"],[\"icon\",{\"type\":\"map\",\"entries\":[[\"className\",\"fas fa-info-circle\"],[\"tagName\",\"i\"],[\"color\",\"white\"]]}]]}]}]},{\"type\":\"model\",\"name\":\"Notification\",\"properties\":[{\"name\":\"background\",\"kind\":\"Any\",\"default\":null},{\"name\":\"duration\",\"kind\":\"Any\",\"default\":3000},{\"name\":\"icon\",\"kind\":\"Any\",\"default\":null},{\"name\":\"message\",\"kind\":\"Any\",\"default\":\"\"},{\"name\":\"notification_type\",\"kind\":\"Any\",\"default\":null},{\"name\":\"_destroyed\",\"kind\":\"Any\",\"default\":false}]},{\"type\":\"model\",\"name\":\"TemplateActions1\",\"properties\":[{\"name\":\"open_modal\",\"kind\":\"Any\",\"default\":0},{\"name\":\"close_modal\",\"kind\":\"Any\",\"default\":0}]},{\"type\":\"model\",\"name\":\"BootstrapTemplateActions1\",\"properties\":[{\"name\":\"open_modal\",\"kind\":\"Any\",\"default\":0},{\"name\":\"close_modal\",\"kind\":\"Any\",\"default\":0}]},{\"type\":\"model\",\"name\":\"MaterialTemplateActions1\",\"properties\":[{\"name\":\"open_modal\",\"kind\":\"Any\",\"default\":0},{\"name\":\"close_modal\",\"kind\":\"Any\",\"default\":0}]}],\"roots\":[{\"type\":\"object\",\"name\":\"Row\",\"id\":\"p3786\",\"attributes\":{\"name\":\"Row06061\",\"tags\":[\"embedded\"],\"stylesheets\":[\"\\n:host(.pn-loading.pn-arc):before, .pn-loading.pn-arc:before {\\n  background-image: url(\\\"data:image/svg+xml;base64,PHN2ZyB4bWxucz0iaHR0cDovL3d3dy53My5vcmcvMjAwMC9zdmciIHN0eWxlPSJtYXJnaW46IGF1dG87IGJhY2tncm91bmQ6IG5vbmU7IGRpc3BsYXk6IGJsb2NrOyBzaGFwZS1yZW5kZXJpbmc6IGF1dG87IiB2aWV3Qm94PSIwIDAgMTAwIDEwMCIgcHJlc2VydmVBc3BlY3RSYXRpbz0ieE1pZFlNaWQiPiAgPGNpcmNsZSBjeD0iNTAiIGN5PSI1MCIgZmlsbD0ibm9uZSIgc3Ryb2tlPSIjYzNjM2MzIiBzdHJva2Utd2lkdGg9IjEwIiByPSIzNSIgc3Ryb2tlLWRhc2hhcnJheT0iMTY0LjkzMzYxNDMxMzQ2NDE1IDU2Ljk3Nzg3MTQzNzgyMTM4Ij4gICAgPGFuaW1hdGVUcmFuc2Zvcm0gYXR0cmlidXRlTmFtZT0idHJhbnNmb3JtIiB0eXBlPSJyb3RhdGUiIHJlcGVhdENvdW50PSJpbmRlZmluaXRlIiBkdXI9IjFzIiB2YWx1ZXM9IjAgNTAgNTA7MzYwIDUwIDUwIiBrZXlUaW1lcz0iMDsxIj48L2FuaW1hdGVUcmFuc2Zvcm0+ICA8L2NpcmNsZT48L3N2Zz4=\\\");\\n  background-size: auto calc(min(50%, 400px));\\n}\",{\"type\":\"object\",\"name\":\"ImportedStyleSheet\",\"id\":\"p3789\",\"attributes\":{\"url\":\"https://cdn.holoviz.org/panel/1.2.3/dist/css/loading.css\"}},{\"type\":\"object\",\"name\":\"ImportedStyleSheet\",\"id\":\"p3882\",\"attributes\":{\"url\":\"https://cdn.holoviz.org/panel/1.2.3/dist/css/listpanel.css\"}},{\"type\":\"object\",\"name\":\"ImportedStyleSheet\",\"id\":\"p3787\",\"attributes\":{\"url\":\"https://cdn.holoviz.org/panel/1.2.3/dist/bundled/theme/default.css\"}},{\"type\":\"object\",\"name\":\"ImportedStyleSheet\",\"id\":\"p3788\",\"attributes\":{\"url\":\"https://cdn.holoviz.org/panel/1.2.3/dist/bundled/theme/native.css\"}}],\"min_width\":650,\"margin\":0,\"sizing_mode\":\"stretch_width\",\"align\":\"start\",\"children\":[{\"type\":\"object\",\"name\":\"Spacer\",\"id\":\"p3790\",\"attributes\":{\"name\":\"HSpacer06072\",\"stylesheets\":[\"\\n:host(.pn-loading.pn-arc):before, .pn-loading.pn-arc:before {\\n  background-image: url(\\\"data:image/svg+xml;base64,PHN2ZyB4bWxucz0iaHR0cDovL3d3dy53My5vcmcvMjAwMC9zdmciIHN0eWxlPSJtYXJnaW46IGF1dG87IGJhY2tncm91bmQ6IG5vbmU7IGRpc3BsYXk6IGJsb2NrOyBzaGFwZS1yZW5kZXJpbmc6IGF1dG87IiB2aWV3Qm94PSIwIDAgMTAwIDEwMCIgcHJlc2VydmVBc3BlY3RSYXRpbz0ieE1pZFlNaWQiPiAgPGNpcmNsZSBjeD0iNTAiIGN5PSI1MCIgZmlsbD0ibm9uZSIgc3Ryb2tlPSIjYzNjM2MzIiBzdHJva2Utd2lkdGg9IjEwIiByPSIzNSIgc3Ryb2tlLWRhc2hhcnJheT0iMTY0LjkzMzYxNDMxMzQ2NDE1IDU2Ljk3Nzg3MTQzNzgyMTM4Ij4gICAgPGFuaW1hdGVUcmFuc2Zvcm0gYXR0cmlidXRlTmFtZT0idHJhbnNmb3JtIiB0eXBlPSJyb3RhdGUiIHJlcGVhdENvdW50PSJpbmRlZmluaXRlIiBkdXI9IjFzIiB2YWx1ZXM9IjAgNTAgNTA7MzYwIDUwIDUwIiBrZXlUaW1lcz0iMDsxIj48L2FuaW1hdGVUcmFuc2Zvcm0+ICA8L2NpcmNsZT48L3N2Zz4=\\\");\\n  background-size: auto calc(min(50%, 400px));\\n}\",{\"id\":\"p3789\"},{\"id\":\"p3787\"},{\"id\":\"p3788\"}],\"margin\":0,\"sizing_mode\":\"stretch_width\",\"align\":\"start\"}},{\"type\":\"object\",\"name\":\"Figure\",\"id\":\"p3796\",\"attributes\":{\"width\":650,\"height\":450,\"margin\":[5,10],\"sizing_mode\":\"fixed\",\"align\":\"start\",\"x_range\":{\"type\":\"object\",\"name\":\"FactorRange\",\"id\":\"p3791\",\"attributes\":{\"tags\":[[[\"Ano\",\"Ano\",null]],[]],\"factors\":[[\"2001\",\"Restos a pagar em rela\\u00e7\\u00e3o \\u00e0s dota\\u00e7\\u00f5es or\\u00e7ament\\u00e1rias\"],[\"2002\",\"Restos a pagar em rela\\u00e7\\u00e3o \\u00e0s dota\\u00e7\\u00f5es or\\u00e7ament\\u00e1rias\"],[\"2003\",\"Restos a pagar em rela\\u00e7\\u00e3o \\u00e0s dota\\u00e7\\u00f5es or\\u00e7ament\\u00e1rias\"],[\"2004\",\"Restos a pagar em rela\\u00e7\\u00e3o \\u00e0s dota\\u00e7\\u00f5es or\\u00e7ament\\u00e1rias\"],[\"2005\",\"Restos a pagar em rela\\u00e7\\u00e3o \\u00e0s dota\\u00e7\\u00f5es or\\u00e7ament\\u00e1rias\"],[\"2006\",\"Restos a pagar em rela\\u00e7\\u00e3o \\u00e0s dota\\u00e7\\u00f5es or\\u00e7ament\\u00e1rias\"],[\"2007\",\"Restos a pagar em rela\\u00e7\\u00e3o \\u00e0s dota\\u00e7\\u00f5es or\\u00e7ament\\u00e1rias\"],[\"2008\",\"Restos a pagar em rela\\u00e7\\u00e3o \\u00e0s dota\\u00e7\\u00f5es or\\u00e7ament\\u00e1rias\"],[\"2009\",\"Restos a pagar em rela\\u00e7\\u00e3o \\u00e0s dota\\u00e7\\u00f5es or\\u00e7ament\\u00e1rias\"],[\"2010\",\"Restos a pagar em rela\\u00e7\\u00e3o \\u00e0s dota\\u00e7\\u00f5es or\\u00e7ament\\u00e1rias\"],[\"2011\",\"Restos a pagar em rela\\u00e7\\u00e3o \\u00e0s dota\\u00e7\\u00f5es or\\u00e7ament\\u00e1rias\"],[\"2012\",\"Restos a pagar em rela\\u00e7\\u00e3o \\u00e0s dota\\u00e7\\u00f5es or\\u00e7ament\\u00e1rias\"],[\"2013\",\"Restos a pagar em rela\\u00e7\\u00e3o \\u00e0s dota\\u00e7\\u00f5es or\\u00e7ament\\u00e1rias\"],[\"2014\",\"Restos a pagar em rela\\u00e7\\u00e3o \\u00e0s dota\\u00e7\\u00f5es or\\u00e7ament\\u00e1rias\"]]}},\"y_range\":{\"type\":\"object\",\"name\":\"Range1d\",\"id\":\"p3792\",\"attributes\":{\"tags\":[[[\"value\",\"value\",null]],{\"type\":\"map\",\"entries\":[[\"invert_yaxis\",false],[\"autorange\",false]]}],\"end\":14,\"reset_start\":0,\"reset_end\":14}},\"x_scale\":{\"type\":\"object\",\"name\":\"CategoricalScale\",\"id\":\"p3808\"},\"y_scale\":{\"type\":\"object\",\"name\":\"LinearScale\",\"id\":\"p3809\"},\"title\":{\"type\":\"object\",\"name\":\"Title\",\"id\":\"p3799\",\"attributes\":{\"text\":\"Restos a pagar, Governo federal, 2001-2014, %\",\"text_color\":\"black\",\"text_font_size\":\"11pt\"}},\"renderers\":[{\"type\":\"object\",\"name\":\"GlyphRenderer\",\"id\":\"p3848\",\"attributes\":{\"data_source\":{\"type\":\"object\",\"name\":\"ColumnDataSource\",\"id\":\"p3838\",\"attributes\":{\"selected\":{\"type\":\"object\",\"name\":\"Selection\",\"id\":\"p3840\",\"attributes\":{\"indices\":[],\"line_indices\":[]}},\"selection_policy\":{\"type\":\"object\",\"name\":\"UnionRenderers\",\"id\":\"p3839\"},\"data\":{\"type\":\"map\",\"entries\":[[\"xoffsets\",[[\"2001\",\"Restos a pagar em rela\\u00e7\\u00e3o \\u00e0s dota\\u00e7\\u00f5es or\\u00e7ament\\u00e1rias\"],[\"2002\",\"Restos a pagar em rela\\u00e7\\u00e3o \\u00e0s dota\\u00e7\\u00f5es or\\u00e7ament\\u00e1rias\"],[\"2003\",\"Restos a pagar em rela\\u00e7\\u00e3o \\u00e0s dota\\u00e7\\u00f5es or\\u00e7ament\\u00e1rias\"],[\"2004\",\"Restos a pagar em rela\\u00e7\\u00e3o \\u00e0s dota\\u00e7\\u00f5es or\\u00e7ament\\u00e1rias\"],[\"2005\",\"Restos a pagar em rela\\u00e7\\u00e3o \\u00e0s dota\\u00e7\\u00f5es or\\u00e7ament\\u00e1rias\"],[\"2006\",\"Restos a pagar em rela\\u00e7\\u00e3o \\u00e0s dota\\u00e7\\u00f5es or\\u00e7ament\\u00e1rias\"],[\"2007\",\"Restos a pagar em rela\\u00e7\\u00e3o \\u00e0s dota\\u00e7\\u00f5es or\\u00e7ament\\u00e1rias\"],[\"2008\",\"Restos a pagar em rela\\u00e7\\u00e3o \\u00e0s dota\\u00e7\\u00f5es or\\u00e7ament\\u00e1rias\"],[\"2009\",\"Restos a pagar em rela\\u00e7\\u00e3o \\u00e0s dota\\u00e7\\u00f5es or\\u00e7ament\\u00e1rias\"],[\"2010\",\"Restos a pagar em rela\\u00e7\\u00e3o \\u00e0s dota\\u00e7\\u00f5es or\\u00e7ament\\u00e1rias\"],[\"2011\",\"Restos a pagar em rela\\u00e7\\u00e3o \\u00e0s dota\\u00e7\\u00f5es or\\u00e7ament\\u00e1rias\"],[\"2012\",\"Restos a pagar em rela\\u00e7\\u00e3o \\u00e0s dota\\u00e7\\u00f5es or\\u00e7ament\\u00e1rias\"],[\"2013\",\"Restos a pagar em rela\\u00e7\\u00e3o \\u00e0s dota\\u00e7\\u00f5es or\\u00e7ament\\u00e1rias\"],[\"2014\",\"Restos a pagar em rela\\u00e7\\u00e3o \\u00e0s dota\\u00e7\\u00f5es or\\u00e7ament\\u00e1rias\"]]],[\"value\",{\"type\":\"ndarray\",\"array\":{\"type\":\"bytes\",\"data\":\"BAAAAAYAAAAEAAAABgAAAAMAAAAFAAAABQAAAAcAAAAJAAAACgAAAAoAAAAJAAAACwAAAA0AAAA=\"},\"shape\":[14],\"dtype\":\"int32\",\"order\":\"little\"}],[\"Ano\",[\"2001\",\"2002\",\"2003\",\"2004\",\"2005\",\"2006\",\"2007\",\"2008\",\"2009\",\"2010\",\"2011\",\"2012\",\"2013\",\"2014\"]],[\"Variable\",[\"Restos a pagar em rela\\u00e7\\u00e3o \\u00e0s dota\\u00e7\\u00f5es or\\u00e7ament\\u00e1rias\",\"Restos a pagar em rela\\u00e7\\u00e3o \\u00e0s dota\\u00e7\\u00f5es or\\u00e7ament\\u00e1rias\",\"Restos a pagar em rela\\u00e7\\u00e3o \\u00e0s dota\\u00e7\\u00f5es or\\u00e7ament\\u00e1rias\",\"Restos a pagar em rela\\u00e7\\u00e3o \\u00e0s dota\\u00e7\\u00f5es or\\u00e7ament\\u00e1rias\",\"Restos a pagar em rela\\u00e7\\u00e3o \\u00e0s dota\\u00e7\\u00f5es or\\u00e7ament\\u00e1rias\",\"Restos a pagar em rela\\u00e7\\u00e3o \\u00e0s dota\\u00e7\\u00f5es or\\u00e7ament\\u00e1rias\",\"Restos a pagar em rela\\u00e7\\u00e3o \\u00e0s dota\\u00e7\\u00f5es or\\u00e7ament\\u00e1rias\",\"Restos a pagar em rela\\u00e7\\u00e3o \\u00e0s dota\\u00e7\\u00f5es or\\u00e7ament\\u00e1rias\",\"Restos a pagar em rela\\u00e7\\u00e3o \\u00e0s dota\\u00e7\\u00f5es or\\u00e7ament\\u00e1rias\",\"Restos a pagar em rela\\u00e7\\u00e3o \\u00e0s dota\\u00e7\\u00f5es or\\u00e7ament\\u00e1rias\",\"Restos a pagar em rela\\u00e7\\u00e3o \\u00e0s dota\\u00e7\\u00f5es or\\u00e7ament\\u00e1rias\",\"Restos a pagar em rela\\u00e7\\u00e3o \\u00e0s dota\\u00e7\\u00f5es or\\u00e7ament\\u00e1rias\",\"Restos a pagar em rela\\u00e7\\u00e3o \\u00e0s dota\\u00e7\\u00f5es or\\u00e7ament\\u00e1rias\",\"Restos a pagar em rela\\u00e7\\u00e3o \\u00e0s dota\\u00e7\\u00f5es or\\u00e7ament\\u00e1rias\"]]]}}},\"view\":{\"type\":\"object\",\"name\":\"CDSView\",\"id\":\"p3849\",\"attributes\":{\"filter\":{\"type\":\"object\",\"name\":\"AllIndices\",\"id\":\"p3850\"}}},\"glyph\":{\"type\":\"object\",\"name\":\"VBar\",\"id\":\"p3845\",\"attributes\":{\"tags\":[\"apply_ranges\"],\"x\":{\"type\":\"field\",\"field\":\"xoffsets\"},\"width\":{\"type\":\"value\",\"value\":0.8},\"top\":{\"type\":\"field\",\"field\":\"value\"},\"fill_color\":{\"type\":\"field\",\"field\":\"Variable\",\"transform\":{\"type\":\"object\",\"name\":\"CategoricalColorMapper\",\"id\":\"p3837\",\"attributes\":{\"palette\":[\"dodgerblue\"],\"factors\":[\"Restos a pagar em rela\\u00e7\\u00e3o \\u00e0s dota\\u00e7\\u00f5es or\\u00e7ament\\u00e1rias\"]}}},\"hatch_color\":{\"type\":\"field\",\"field\":\"Variable\",\"transform\":{\"id\":\"p3837\"}}}},\"selection_glyph\":{\"type\":\"object\",\"name\":\"VBar\",\"id\":\"p3853\",\"attributes\":{\"tags\":[\"apply_ranges\"],\"x\":{\"type\":\"field\",\"field\":\"xoffsets\"},\"width\":{\"type\":\"value\",\"value\":0.8},\"bottom\":{\"type\":\"value\",\"value\":0},\"top\":{\"type\":\"field\",\"field\":\"value\"},\"line_color\":{\"type\":\"value\",\"value\":\"black\"},\"line_alpha\":{\"type\":\"value\",\"value\":1.0},\"line_width\":{\"type\":\"value\",\"value\":1},\"line_join\":{\"type\":\"value\",\"value\":\"bevel\"},\"line_cap\":{\"type\":\"value\",\"value\":\"butt\"},\"line_dash\":{\"type\":\"value\",\"value\":[]},\"line_dash_offset\":{\"type\":\"value\",\"value\":0},\"fill_color\":{\"type\":\"field\",\"field\":\"Variable\",\"transform\":{\"id\":\"p3837\"}},\"fill_alpha\":{\"type\":\"value\",\"value\":1.0},\"hatch_color\":{\"type\":\"field\",\"field\":\"Variable\",\"transform\":{\"id\":\"p3837\"}},\"hatch_alpha\":{\"type\":\"value\",\"value\":1.0},\"hatch_scale\":{\"type\":\"value\",\"value\":12.0},\"hatch_pattern\":{\"type\":\"value\",\"value\":null},\"hatch_weight\":{\"type\":\"value\",\"value\":1.0}}},\"nonselection_glyph\":{\"type\":\"object\",\"name\":\"VBar\",\"id\":\"p3846\",\"attributes\":{\"tags\":[\"apply_ranges\"],\"x\":{\"type\":\"field\",\"field\":\"xoffsets\"},\"width\":{\"type\":\"value\",\"value\":0.8},\"top\":{\"type\":\"field\",\"field\":\"value\"},\"line_alpha\":{\"type\":\"value\",\"value\":0.1},\"fill_color\":{\"type\":\"field\",\"field\":\"Variable\",\"transform\":{\"id\":\"p3837\"}},\"fill_alpha\":{\"type\":\"value\",\"value\":0.1},\"hatch_color\":{\"type\":\"field\",\"field\":\"Variable\",\"transform\":{\"id\":\"p3837\"}},\"hatch_alpha\":{\"type\":\"value\",\"value\":0.1}}},\"muted_glyph\":{\"type\":\"object\",\"name\":\"VBar\",\"id\":\"p3847\",\"attributes\":{\"tags\":[\"apply_ranges\"],\"x\":{\"type\":\"field\",\"field\":\"xoffsets\"},\"width\":{\"type\":\"value\",\"value\":0.8},\"top\":{\"type\":\"field\",\"field\":\"value\"},\"line_alpha\":{\"type\":\"value\",\"value\":0.2},\"fill_color\":{\"type\":\"field\",\"field\":\"Variable\",\"transform\":{\"id\":\"p3837\"}},\"fill_alpha\":{\"type\":\"value\",\"value\":0.2},\"hatch_color\":{\"type\":\"field\",\"field\":\"Variable\",\"transform\":{\"id\":\"p3837\"}},\"hatch_alpha\":{\"type\":\"value\",\"value\":0.2}}}}}],\"toolbar\":{\"type\":\"object\",\"name\":\"Toolbar\",\"id\":\"p3804\",\"attributes\":{\"tools\":[{\"type\":\"object\",\"name\":\"HoverTool\",\"id\":\"p3795\",\"attributes\":{\"tags\":[\"hv_created\"],\"renderers\":[{\"id\":\"p3848\"}],\"tooltips\":[[\"Ano\",\"@{Ano}\"],[\"Variable\",\"@{Variable}\"],[\"value\",\"@{value}\"]]}},{\"type\":\"object\",\"name\":\"SaveTool\",\"id\":\"p3823\"},{\"type\":\"object\",\"name\":\"PanTool\",\"id\":\"p3824\"},{\"type\":\"object\",\"name\":\"WheelZoomTool\",\"id\":\"p3825\"},{\"type\":\"object\",\"name\":\"BoxZoomTool\",\"id\":\"p3826\",\"attributes\":{\"overlay\":{\"type\":\"object\",\"name\":\"BoxAnnotation\",\"id\":\"p3827\",\"attributes\":{\"syncable\":false,\"level\":\"overlay\",\"visible\":false,\"left_units\":\"canvas\",\"right_units\":\"canvas\",\"bottom_units\":\"canvas\",\"top_units\":\"canvas\",\"line_color\":\"black\",\"line_alpha\":1.0,\"line_width\":2,\"line_dash\":[4,4],\"fill_color\":\"lightgrey\",\"fill_alpha\":0.5}}}},{\"type\":\"object\",\"name\":\"ResetTool\",\"id\":\"p3828\"}],\"active_drag\":{\"id\":\"p3824\"},\"active_scroll\":{\"id\":\"p3825\"}}},\"left\":[{\"type\":\"object\",\"name\":\"LinearAxis\",\"id\":\"p3816\",\"attributes\":{\"ticker\":{\"type\":\"object\",\"name\":\"BasicTicker\",\"id\":\"p3818\",\"attributes\":{\"mantissas\":[1,2,5]}},\"formatter\":{\"type\":\"object\",\"name\":\"PrintfTickFormatter\",\"id\":\"p3854\",\"attributes\":{\"format\":\"%.1f\"}},\"axis_label\":\"%\",\"axis_label_text_font_size\":\"8pt\",\"major_label_policy\":{\"type\":\"object\",\"name\":\"AllLabels\",\"id\":\"p3819\"},\"major_label_text_font_size\":\"8pt\"}}],\"below\":[{\"type\":\"object\",\"name\":\"CategoricalAxis\",\"id\":\"p3810\",\"attributes\":{\"ticker\":{\"type\":\"object\",\"name\":\"CategoricalTicker\",\"id\":\"p3812\"},\"formatter\":{\"type\":\"object\",\"name\":\"CategoricalTickFormatter\",\"id\":\"p3811\"},\"axis_label\":\"\",\"axis_label_text_font_size\":\"8pt\",\"major_label_policy\":{\"type\":\"object\",\"name\":\"AllLabels\",\"id\":\"p3813\"},\"major_label_text_alpha\":0,\"major_label_text_font_size\":\"1px\",\"major_label_text_line_height\":0,\"major_tick_line_alpha\":0,\"separator_line_width\":0,\"group_text_color\":\"black\",\"group_text_font_size\":\"8pt\",\"group_text_font_style\":\"normal\",\"group_text_align\":\"center\"}},{\"type\":\"object\",\"name\":\"Legend\",\"id\":\"p3851\",\"attributes\":{\"location\":[0,0],\"orientation\":\"horizontal\",\"items\":[{\"type\":\"object\",\"name\":\"LegendItem\",\"id\":\"p3852\",\"attributes\":{\"label\":{\"type\":\"field\",\"field\":\"Variable\"},\"renderers\":[{\"id\":\"p3848\"}]}}]}}],\"center\":[{\"type\":\"object\",\"name\":\"Grid\",\"id\":\"p3815\",\"attributes\":{\"axis\":{\"id\":\"p3810\"},\"grid_line_color\":null}},{\"type\":\"object\",\"name\":\"Grid\",\"id\":\"p3822\",\"attributes\":{\"dimension\":1,\"axis\":{\"id\":\"p3816\"},\"grid_line_color\":null}},{\"id\":\"p3851\"}],\"min_border_top\":10,\"min_border_bottom\":10,\"min_border_left\":10,\"min_border_right\":10,\"output_backend\":\"webgl\"}},{\"type\":\"object\",\"name\":\"Spacer\",\"id\":\"p3880\",\"attributes\":{\"name\":\"HSpacer06075\",\"stylesheets\":[\"\\n:host(.pn-loading.pn-arc):before, .pn-loading.pn-arc:before {\\n  background-image: url(\\\"data:image/svg+xml;base64,PHN2ZyB4bWxucz0iaHR0cDovL3d3dy53My5vcmcvMjAwMC9zdmciIHN0eWxlPSJtYXJnaW46IGF1dG87IGJhY2tncm91bmQ6IG5vbmU7IGRpc3BsYXk6IGJsb2NrOyBzaGFwZS1yZW5kZXJpbmc6IGF1dG87IiB2aWV3Qm94PSIwIDAgMTAwIDEwMCIgcHJlc2VydmVBc3BlY3RSYXRpbz0ieE1pZFlNaWQiPiAgPGNpcmNsZSBjeD0iNTAiIGN5PSI1MCIgZmlsbD0ibm9uZSIgc3Ryb2tlPSIjYzNjM2MzIiBzdHJva2Utd2lkdGg9IjEwIiByPSIzNSIgc3Ryb2tlLWRhc2hhcnJheT0iMTY0LjkzMzYxNDMxMzQ2NDE1IDU2Ljk3Nzg3MTQzNzgyMTM4Ij4gICAgPGFuaW1hdGVUcmFuc2Zvcm0gYXR0cmlidXRlTmFtZT0idHJhbnNmb3JtIiB0eXBlPSJyb3RhdGUiIHJlcGVhdENvdW50PSJpbmRlZmluaXRlIiBkdXI9IjFzIiB2YWx1ZXM9IjAgNTAgNTA7MzYwIDUwIDUwIiBrZXlUaW1lcz0iMDsxIj48L2FuaW1hdGVUcmFuc2Zvcm0+ICA8L2NpcmNsZT48L3N2Zz4=\\\");\\n  background-size: auto calc(min(50%, 400px));\\n}\",{\"id\":\"p3789\"},{\"id\":\"p3787\"},{\"id\":\"p3788\"}],\"margin\":0,\"sizing_mode\":\"stretch_width\",\"align\":\"start\"}}]}}],\"callbacks\":{\"type\":\"map\"}}};\n",
       "  var render_items = [{\"docid\":\"810f4493-7dd8-49fd-b488-c8a7d01abd9d\",\"roots\":{\"p3786\":\"e8699756-24ec-4154-bd66-d9cd4344dc18\"},\"root_ids\":[\"p3786\"]}];\n",
       "  var docs = Object.values(docs_json)\n",
       "  if (!docs) {\n",
       "    return\n",
       "  }\n",
       "  const py_version = docs[0].version.replace('rc', '-rc.').replace('.dev', '-dev.')\n",
       "  const is_dev = py_version.indexOf(\"+\") !== -1 || py_version.indexOf(\"-\") !== -1\n",
       "  function embed_document(root) {\n",
       "    var Bokeh = get_bokeh(root)\n",
       "    Bokeh.embed.embed_items_notebook(docs_json, render_items);\n",
       "    for (const render_item of render_items) {\n",
       "      for (const root_id of render_item.root_ids) {\n",
       "\tconst id_el = document.getElementById(root_id)\n",
       "\tif (id_el.children.length && (id_el.children[0].className === 'bk-root')) {\n",
       "\t  const root_el = id_el.children[0]\n",
       "\t  root_el.id = root_el.id + '-rendered'\n",
       "\t}\n",
       "      }\n",
       "    }\n",
       "  }\n",
       "  function get_bokeh(root) {\n",
       "    if (root.Bokeh === undefined) {\n",
       "      return null\n",
       "    } else if (root.Bokeh.version !== py_version && !is_dev) {\n",
       "      if (root.Bokeh.versions === undefined || !root.Bokeh.versions.has(py_version)) {\n",
       "\treturn null\n",
       "      }\n",
       "      return root.Bokeh.versions.get(py_version);\n",
       "    } else if (root.Bokeh.version === py_version) {\n",
       "      return root.Bokeh\n",
       "    }\n",
       "    return null\n",
       "  }\n",
       "  function is_loaded(root) {\n",
       "    var Bokeh = get_bokeh(root)\n",
       "    return (Bokeh != null && Bokeh.Panel !== undefined)\n",
       "  }\n",
       "  if (is_loaded(root)) {\n",
       "    embed_document(root);\n",
       "  } else {\n",
       "    var attempts = 0;\n",
       "    var timer = setInterval(function(root) {\n",
       "      if (is_loaded(root)) {\n",
       "        clearInterval(timer);\n",
       "        embed_document(root);\n",
       "      } else if (document.readyState == \"complete\") {\n",
       "        attempts++;\n",
       "        if (attempts > 200) {\n",
       "          clearInterval(timer);\n",
       "\t  var Bokeh = get_bokeh(root)\n",
       "\t  if (Bokeh == null || Bokeh.Panel == null) {\n",
       "            console.warn(\"Panel: ERROR: Unable to run Panel code because Bokeh or Panel library is missing\");\n",
       "\t  } else {\n",
       "\t    console.warn(\"Panel: WARNING: Attempting to render but not all required libraries could be resolved.\")\n",
       "\t    embed_document(root)\n",
       "\t  }\n",
       "        }\n",
       "      }\n",
       "    }, 25, root)\n",
       "  }\n",
       "})(window);</script>"
      ],
      "text/plain": [
       ":Bars   [Ano,Variable]   (value)"
      ]
     },
     "execution_count": 43,
     "metadata": {
      "application/vnd.holoviews_exec.v0+json": {
       "id": "p3786"
      }
     },
     "output_type": "execute_result"
    }
   ],
   "source": [
    "restos"
   ]
  },
  {
   "cell_type": "markdown",
   "metadata": {
    "slideshow": {
     "slide_type": "slide"
    }
   },
   "source": [
    "## Preços\n",
    "\n",
    "Do lado dos preços, buscou-se contornar a alta da inflação por meio de controle direto de tarifas e preços públicos administrados, como notado antes."
   ]
  },
  {
   "cell_type": "markdown",
   "metadata": {
    "slideshow": {
     "slide_type": "fragment"
    }
   },
   "source": [
    "A intervenção nos preços foi combinada com desonerações tributárias a fim de evitar o repasse de custos para os preços por parte das empresas privadas  (por exemplo, do setor elétrico e transporte)."
   ]
  },
  {
   "cell_type": "markdown",
   "metadata": {
    "slideshow": {
     "slide_type": "fragment"
    }
   },
   "source": [
    "Além de criar desconfiança e acumular distorções nos preços relativos, a intervenção nos preços e as desonerações tributárias comprometeram as finanças de empresas estatais, como a Petrobrás e as do setor elétrico."
   ]
  },
  {
   "cell_type": "markdown",
   "metadata": {
    "slideshow": {
     "slide_type": "slide"
    }
   },
   "source": [
    "## Mais artifícios\n",
    "\n",
    "Outro exemplo foram as trocas de ativos e recursos envolvendo BNDES, Caixa Econômica Federal e Tesouro, iniciadas pelo menos desde 2009 e aprofundadas no novo governo."
   ]
  },
  {
   "cell_type": "markdown",
   "metadata": {
    "slideshow": {
     "slide_type": "fragment"
    }
   },
   "source": [
    "Por exemplo, a venda pelo Tesouro ao BNDES de direitos sobre dividendos da Eletrobrás, recebendo em contrapartida recursos contabilizados como receita extraordinária (2009). Ver mais exemplos no texto do programa."
   ]
  },
  {
   "cell_type": "markdown",
   "metadata": {
    "slideshow": {
     "slide_type": "subslide"
    }
   },
   "source": [
    "Mais adiante, as operações contábeis incluíram as chamadas \"pedaladas fiscais\" - o atraso deliberado pelo Tesouro do repasse de recursos para despesas fiscais intermediadas por bancos (públicos e privados) e autarquias (INSS, por exemplo). "
   ]
  },
  {
   "cell_type": "markdown",
   "metadata": {
    "slideshow": {
     "slide_type": "fragment"
    }
   },
   "source": [
    "O objetivo do Tesouro e do Ministério da Fazenda era melhorar artificialmente a demonstração contábil das receitas públicas federais. A prática foi amplamente divulgada pela imprensa em 2014."
   ]
  },
  {
   "cell_type": "markdown",
   "metadata": {
    "slideshow": {
     "slide_type": "slide"
    }
   },
   "source": [
    "## Desempenho\n",
    "\n",
    "Para concluir, vejamos outros indicadores gerais, além dos já mostrados anteriormente, que resumem o desempenho econômico do período: "
   ]
  },
  {
   "cell_type": "markdown",
   "metadata": {
    "slideshow": {
     "slide_type": "fragment"
    }
   },
   "source": [
    "a) resultado nominal do governo central; b) evolução do PIB e do produto industrial e c) nível do PIB per capita em um período longo, 1996 e 2021."
   ]
  },
  {
   "cell_type": "code",
   "execution_count": 44,
   "metadata": {
    "slideshow": {
     "slide_type": "notes"
    }
   },
   "outputs": [],
   "source": [
    "p = pd.read_excel('br_primario_1997_2019.xlsx')\n",
    "\n",
    "gov = p.hvplot.bar('Ano', ['Resultado primário', 'Juros nominais','NFSP'],\n",
    "                   height=450,\n",
    "                   width=650,\n",
    "                   rot=45,\n",
    "                   stacked=True,\n",
    "                   padding=0.02,\n",
    "                   yformatter='%.1f',\n",
    "                   legend='bottom',\n",
    "                   cmap='Set1',\n",
    "                   alpha=0.7,\n",
    "                   xlabel='',\n",
    "                   ylabel='%',\n",
    "                   ylim=(-20, 5),\n",
    "                   label='Resultados do governo central, Brasil, 1997-2019 (% do PIB)'\n",
    "                  ).opts(fontsize={'title': 11, 'labels': 9,\n",
    "                                   'xticks': 9, 'yticks': 9}).opts(multi_level=False)"
   ]
  },
  {
   "cell_type": "code",
   "execution_count": 45,
   "metadata": {
    "slideshow": {
     "slide_type": "slide"
    }
   },
   "outputs": [
    {
     "data": {},
     "metadata": {},
     "output_type": "display_data"
    },
    {
     "data": {
      "application/vnd.holoviews_exec.v0+json": "",
      "text/html": [
       "<div id='p3933'>\n",
       "  <div id=\"ecda7982-4530-4a26-ad0e-11c5e683f96c\" data-root-id=\"p3933\" style=\"display: contents;\"></div>\n",
       "</div>\n",
       "<script type=\"application/javascript\">(function(root) {\n",
       "  var docs_json = {\"669d3bb9-1bf5-4a70-9652-9f365b52c99c\":{\"version\":\"3.1.1\",\"title\":\"Bokeh Application\",\"defs\":[{\"type\":\"model\",\"name\":\"ReactiveHTML1\"},{\"type\":\"model\",\"name\":\"FlexBox1\",\"properties\":[{\"name\":\"align_content\",\"kind\":\"Any\",\"default\":\"flex-start\"},{\"name\":\"align_items\",\"kind\":\"Any\",\"default\":\"flex-start\"},{\"name\":\"flex_direction\",\"kind\":\"Any\",\"default\":\"row\"},{\"name\":\"flex_wrap\",\"kind\":\"Any\",\"default\":\"wrap\"},{\"name\":\"justify_content\",\"kind\":\"Any\",\"default\":\"flex-start\"}]},{\"type\":\"model\",\"name\":\"FloatPanel1\",\"properties\":[{\"name\":\"config\",\"kind\":\"Any\",\"default\":{\"type\":\"map\"}},{\"name\":\"contained\",\"kind\":\"Any\",\"default\":true},{\"name\":\"position\",\"kind\":\"Any\",\"default\":\"right-top\"},{\"name\":\"offsetx\",\"kind\":\"Any\",\"default\":null},{\"name\":\"offsety\",\"kind\":\"Any\",\"default\":null},{\"name\":\"theme\",\"kind\":\"Any\",\"default\":\"primary\"},{\"name\":\"status\",\"kind\":\"Any\",\"default\":\"normalized\"}]},{\"type\":\"model\",\"name\":\"GridStack1\",\"properties\":[{\"name\":\"mode\",\"kind\":\"Any\",\"default\":\"warn\"},{\"name\":\"ncols\",\"kind\":\"Any\",\"default\":null},{\"name\":\"nrows\",\"kind\":\"Any\",\"default\":null},{\"name\":\"allow_resize\",\"kind\":\"Any\",\"default\":true},{\"name\":\"allow_drag\",\"kind\":\"Any\",\"default\":true},{\"name\":\"state\",\"kind\":\"Any\",\"default\":[]}]},{\"type\":\"model\",\"name\":\"drag1\",\"properties\":[{\"name\":\"slider_width\",\"kind\":\"Any\",\"default\":5},{\"name\":\"slider_color\",\"kind\":\"Any\",\"default\":\"black\"},{\"name\":\"value\",\"kind\":\"Any\",\"default\":50}]},{\"type\":\"model\",\"name\":\"click1\",\"properties\":[{\"name\":\"terminal_output\",\"kind\":\"Any\",\"default\":\"\"},{\"name\":\"debug_name\",\"kind\":\"Any\",\"default\":\"\"},{\"name\":\"clears\",\"kind\":\"Any\",\"default\":0}]},{\"type\":\"model\",\"name\":\"FastWrapper1\",\"properties\":[{\"name\":\"object\",\"kind\":\"Any\",\"default\":null},{\"name\":\"style\",\"kind\":\"Any\",\"default\":null}]},{\"type\":\"model\",\"name\":\"NotificationAreaBase1\",\"properties\":[{\"name\":\"js_events\",\"kind\":\"Any\",\"default\":{\"type\":\"map\"}},{\"name\":\"position\",\"kind\":\"Any\",\"default\":\"bottom-right\"},{\"name\":\"_clear\",\"kind\":\"Any\",\"default\":0}]},{\"type\":\"model\",\"name\":\"NotificationArea1\",\"properties\":[{\"name\":\"js_events\",\"kind\":\"Any\",\"default\":{\"type\":\"map\"}},{\"name\":\"notifications\",\"kind\":\"Any\",\"default\":[]},{\"name\":\"position\",\"kind\":\"Any\",\"default\":\"bottom-right\"},{\"name\":\"_clear\",\"kind\":\"Any\",\"default\":0},{\"name\":\"types\",\"kind\":\"Any\",\"default\":[{\"type\":\"map\",\"entries\":[[\"type\",\"warning\"],[\"background\",\"#ffc107\"],[\"icon\",{\"type\":\"map\",\"entries\":[[\"className\",\"fas fa-exclamation-triangle\"],[\"tagName\",\"i\"],[\"color\",\"white\"]]}]]},{\"type\":\"map\",\"entries\":[[\"type\",\"info\"],[\"background\",\"#007bff\"],[\"icon\",{\"type\":\"map\",\"entries\":[[\"className\",\"fas fa-info-circle\"],[\"tagName\",\"i\"],[\"color\",\"white\"]]}]]}]}]},{\"type\":\"model\",\"name\":\"Notification\",\"properties\":[{\"name\":\"background\",\"kind\":\"Any\",\"default\":null},{\"name\":\"duration\",\"kind\":\"Any\",\"default\":3000},{\"name\":\"icon\",\"kind\":\"Any\",\"default\":null},{\"name\":\"message\",\"kind\":\"Any\",\"default\":\"\"},{\"name\":\"notification_type\",\"kind\":\"Any\",\"default\":null},{\"name\":\"_destroyed\",\"kind\":\"Any\",\"default\":false}]},{\"type\":\"model\",\"name\":\"TemplateActions1\",\"properties\":[{\"name\":\"open_modal\",\"kind\":\"Any\",\"default\":0},{\"name\":\"close_modal\",\"kind\":\"Any\",\"default\":0}]},{\"type\":\"model\",\"name\":\"BootstrapTemplateActions1\",\"properties\":[{\"name\":\"open_modal\",\"kind\":\"Any\",\"default\":0},{\"name\":\"close_modal\",\"kind\":\"Any\",\"default\":0}]},{\"type\":\"model\",\"name\":\"MaterialTemplateActions1\",\"properties\":[{\"name\":\"open_modal\",\"kind\":\"Any\",\"default\":0},{\"name\":\"close_modal\",\"kind\":\"Any\",\"default\":0}]}],\"roots\":[{\"type\":\"object\",\"name\":\"Row\",\"id\":\"p3933\",\"attributes\":{\"name\":\"Row06273\",\"tags\":[\"embedded\"],\"stylesheets\":[\"\\n:host(.pn-loading.pn-arc):before, .pn-loading.pn-arc:before {\\n  background-image: url(\\\"data:image/svg+xml;base64,PHN2ZyB4bWxucz0iaHR0cDovL3d3dy53My5vcmcvMjAwMC9zdmciIHN0eWxlPSJtYXJnaW46IGF1dG87IGJhY2tncm91bmQ6IG5vbmU7IGRpc3BsYXk6IGJsb2NrOyBzaGFwZS1yZW5kZXJpbmc6IGF1dG87IiB2aWV3Qm94PSIwIDAgMTAwIDEwMCIgcHJlc2VydmVBc3BlY3RSYXRpbz0ieE1pZFlNaWQiPiAgPGNpcmNsZSBjeD0iNTAiIGN5PSI1MCIgZmlsbD0ibm9uZSIgc3Ryb2tlPSIjYzNjM2MzIiBzdHJva2Utd2lkdGg9IjEwIiByPSIzNSIgc3Ryb2tlLWRhc2hhcnJheT0iMTY0LjkzMzYxNDMxMzQ2NDE1IDU2Ljk3Nzg3MTQzNzgyMTM4Ij4gICAgPGFuaW1hdGVUcmFuc2Zvcm0gYXR0cmlidXRlTmFtZT0idHJhbnNmb3JtIiB0eXBlPSJyb3RhdGUiIHJlcGVhdENvdW50PSJpbmRlZmluaXRlIiBkdXI9IjFzIiB2YWx1ZXM9IjAgNTAgNTA7MzYwIDUwIDUwIiBrZXlUaW1lcz0iMDsxIj48L2FuaW1hdGVUcmFuc2Zvcm0+ICA8L2NpcmNsZT48L3N2Zz4=\\\");\\n  background-size: auto calc(min(50%, 400px));\\n}\",{\"type\":\"object\",\"name\":\"ImportedStyleSheet\",\"id\":\"p3936\",\"attributes\":{\"url\":\"https://cdn.holoviz.org/panel/1.2.3/dist/css/loading.css\"}},{\"type\":\"object\",\"name\":\"ImportedStyleSheet\",\"id\":\"p4029\",\"attributes\":{\"url\":\"https://cdn.holoviz.org/panel/1.2.3/dist/css/listpanel.css\"}},{\"type\":\"object\",\"name\":\"ImportedStyleSheet\",\"id\":\"p3934\",\"attributes\":{\"url\":\"https://cdn.holoviz.org/panel/1.2.3/dist/bundled/theme/default.css\"}},{\"type\":\"object\",\"name\":\"ImportedStyleSheet\",\"id\":\"p3935\",\"attributes\":{\"url\":\"https://cdn.holoviz.org/panel/1.2.3/dist/bundled/theme/native.css\"}}],\"min_width\":650,\"margin\":0,\"sizing_mode\":\"stretch_width\",\"align\":\"start\",\"children\":[{\"type\":\"object\",\"name\":\"Spacer\",\"id\":\"p3937\",\"attributes\":{\"name\":\"HSpacer06284\",\"stylesheets\":[\"\\n:host(.pn-loading.pn-arc):before, .pn-loading.pn-arc:before {\\n  background-image: url(\\\"data:image/svg+xml;base64,PHN2ZyB4bWxucz0iaHR0cDovL3d3dy53My5vcmcvMjAwMC9zdmciIHN0eWxlPSJtYXJnaW46IGF1dG87IGJhY2tncm91bmQ6IG5vbmU7IGRpc3BsYXk6IGJsb2NrOyBzaGFwZS1yZW5kZXJpbmc6IGF1dG87IiB2aWV3Qm94PSIwIDAgMTAwIDEwMCIgcHJlc2VydmVBc3BlY3RSYXRpbz0ieE1pZFlNaWQiPiAgPGNpcmNsZSBjeD0iNTAiIGN5PSI1MCIgZmlsbD0ibm9uZSIgc3Ryb2tlPSIjYzNjM2MzIiBzdHJva2Utd2lkdGg9IjEwIiByPSIzNSIgc3Ryb2tlLWRhc2hhcnJheT0iMTY0LjkzMzYxNDMxMzQ2NDE1IDU2Ljk3Nzg3MTQzNzgyMTM4Ij4gICAgPGFuaW1hdGVUcmFuc2Zvcm0gYXR0cmlidXRlTmFtZT0idHJhbnNmb3JtIiB0eXBlPSJyb3RhdGUiIHJlcGVhdENvdW50PSJpbmRlZmluaXRlIiBkdXI9IjFzIiB2YWx1ZXM9IjAgNTAgNTA7MzYwIDUwIDUwIiBrZXlUaW1lcz0iMDsxIj48L2FuaW1hdGVUcmFuc2Zvcm0+ICA8L2NpcmNsZT48L3N2Zz4=\\\");\\n  background-size: auto calc(min(50%, 400px));\\n}\",{\"id\":\"p3936\"},{\"id\":\"p3934\"},{\"id\":\"p3935\"}],\"margin\":0,\"sizing_mode\":\"stretch_width\",\"align\":\"start\"}},{\"type\":\"object\",\"name\":\"Figure\",\"id\":\"p3943\",\"attributes\":{\"width\":650,\"height\":450,\"margin\":[5,10],\"sizing_mode\":\"fixed\",\"align\":\"start\",\"x_range\":{\"type\":\"object\",\"name\":\"FactorRange\",\"id\":\"p3938\",\"attributes\":{\"tags\":[[[\"Ano\",\"Ano\",null]],[]],\"factors\":[\"1997\",\"1998\",\"1999\",\"2000\",\"2001\",\"2002\",\"2003\",\"2004\",\"2005\",\"2006\",\"2007\",\"2008\",\"2009\",\"2010\",\"2011\",\"2012\",\"2013\",\"2014\",\"2015\",\"2016\",\"2017\",\"2018\",\"2019\"]}},\"y_range\":{\"type\":\"object\",\"name\":\"Range1d\",\"id\":\"p3939\",\"attributes\":{\"tags\":[[[\"value\",\"value\",null]],{\"type\":\"map\",\"entries\":[[\"invert_yaxis\",false],[\"autorange\",false]]}],\"start\":-20,\"end\":5,\"reset_start\":-20,\"reset_end\":5}},\"x_scale\":{\"type\":\"object\",\"name\":\"CategoricalScale\",\"id\":\"p3955\"},\"y_scale\":{\"type\":\"object\",\"name\":\"LinearScale\",\"id\":\"p3956\"},\"title\":{\"type\":\"object\",\"name\":\"Title\",\"id\":\"p3946\",\"attributes\":{\"text\":\"Resultados do governo central, Brasil, 1997-2019 (% do PIB)\",\"text_color\":\"black\",\"text_font_size\":\"11pt\"}},\"renderers\":[{\"type\":\"object\",\"name\":\"GlyphRenderer\",\"id\":\"p3995\",\"attributes\":{\"data_source\":{\"type\":\"object\",\"name\":\"ColumnDataSource\",\"id\":\"p3985\",\"attributes\":{\"selected\":{\"type\":\"object\",\"name\":\"Selection\",\"id\":\"p3987\",\"attributes\":{\"indices\":[],\"line_indices\":[]}},\"selection_policy\":{\"type\":\"object\",\"name\":\"UnionRenderers\",\"id\":\"p3986\"},\"data\":{\"type\":\"map\",\"entries\":[[\"bottom\",{\"type\":\"ndarray\",\"array\":{\"type\":\"bytes\",\"data\":\"YApubIgB2r8xNDWICBQAwD0D6XdjlATAkA4kjUgz/r/lmYin0+v7v6K1omu09fS/tQV3dx6iCcAQWw+Zo4AQwMO3Fx4oeAjAQVzhhMTiC8A1SbV/c0McwCxwpfIsRSHAsimCYXX6EcAmdEhqVP8YwPhj86BaVRbAaiSUee0AE8CROjoHSb8IwL4nkfkomh7AmqiJ5YvjFMBmWGePSYERwL3Wv1xyAhTAG7zT9sAFEsCTnSqBKlIOwAh2GCmQ0P+/8U4uJHiKBsA9KGgABn4XwHSORnP6ORDA8qiLVu7GF8B+qmgsCLsMwJGcAHoxFizA3EV8T/LcHsDU1c7+cIsuwHYUZm7ANDHA8U0r7kDmIsAyvjWquDwWwMTwEjBJURHAJIl4SmeAGMDPs9G8mYcRwP+7OVp/Jg/ACm/HdBjuC8CHTe3HV6AgwNvIcOAYpCLAvVpCVPS/FcAWHzZXV/siwNRyC2tuDBbAqNY0TG+BF8A8b5GIGLUbwE4qFV7tACPAkg2LUMbnEMDq/7GFM+EowF9imx0ZRRrARkTdGtopJsAAAAAAAAAAAAAAAAAAAAAAAAAAAAAAAAAAAAAAAAAAAAAAAAAAAAAAAAAAAAAAAAAAAAAAAAAAAAAAAAAAAAAAAAAAAAAAAAAAAAAAAAAAAAAAAAAAAAAAAAAAAAAAAAAAAAAAAAAAAAAAAAAAAAAAAAAAAAAAAAAAAAAAAAAAAAAAAAAAAAAA\"},\"shape\":[69],\"dtype\":\"float64\",\"order\":\"little\"}],[\"top\",{\"type\":\"ndarray\",\"array\":{\"type\":\"bytes\",\"data\":\"AAAAAAAAAAAAAAAAAAAAAAAAAAAAAAAAAAAAAAAAAAAAAAAAAAAAAAAAAAAAAAAAAAAAAAAAAAAAAAAAAAAAAAAAAAAAAAAAAAAAAAAAAACQDiSNSDP+vzE0NYgIFADAAAAAAAAAAADlmYin0+v7v6K1omu09fS/YApubIgB2r8AAAAAAAAAAD0D6XdjlATAAAAAAAAAAAAAAAAAAAAAAAAAAAAAAAAAAAAAAAAAAAAAAAAAAAAAAAAAAAAAAAAAAAAAAAAAAAAAAAAAAAAAAAAAAAAAAAAAAAAAAAAAAAAAAAAAAAAAADVJtX9zQxzAsimCYXX6EcC+J5H5KJoewCxwpfIsRSHAaiSUee0AE8BBXOGExOILwMO3Fx4oeAjAEFsPmaOAEMC1BXd3HqIJwJE6OgdJvwjA8U4uJHiKBsCaqInli+MUwPKoi1buxhfAdI5Gc/o5EMA9KGgABn4XwH6qaCwIuwzAk50qgSpSDsAbvNP2wAUSwL3Wv1xyAhTACHYYKZDQ/78mdEhqVP8YwGZYZ49JgRHA+GPzoFpVFsB/KOmLozXIP9TRuioxzABA4uBUvS4JAEAMEbTjX+7yP5yUu0SqYAJAfPuOylD0AEDHjtmviC8AQPcVEvASPvw/dWt339dpA0CTQNzIzTICQAby7svP9wBAdD1B5thu+j+dots5Wf/7PwKQtKFIqf0/xItdwogw6D8RdFP6mCkEQP0oOrCap/U/\"},\"shape\":[69],\"dtype\":\"float64\",\"order\":\"little\"}],[\"Ano\",[\"2014\",\"2015\",\"2016\",\"2017\",\"2018\",\"2019\",\"2010\",\"2011\",\"2012\",\"2013\",\"2017\",\"2015\",\"2009\",\"2018\",\"2019\",\"2014\",\"2008\",\"2016\",\"2006\",\"2007\",\"1998\",\"1999\",\"2000\",\"1997\",\"2002\",\"2003\",\"2004\",\"2005\",\"2001\",\"2017\",\"2009\",\"2016\",\"2015\",\"2014\",\"2013\",\"2012\",\"2011\",\"2010\",\"2008\",\"2002\",\"2006\",\"2005\",\"2004\",\"2003\",\"2001\",\"2000\",\"1999\",\"1998\",\"1997\",\"2018\",\"2007\",\"2019\",\"1997\",\"2011\",\"2010\",\"2009\",\"2008\",\"2007\",\"2006\",\"2012\",\"2005\",\"2003\",\"2002\",\"2001\",\"2000\",\"1999\",\"1998\",\"2004\",\"2013\"]],[\"Variable\",[\"Resultado prim\\u00e1rio\",\"Resultado prim\\u00e1rio\",\"Resultado prim\\u00e1rio\",\"Resultado prim\\u00e1rio\",\"Resultado prim\\u00e1rio\",\"Resultado prim\\u00e1rio\",\"Juros nominais\",\"Juros nominais\",\"Juros nominais\",\"Juros nominais\",\"Juros nominais\",\"Juros nominais\",\"Juros nominais\",\"Juros nominais\",\"Juros nominais\",\"Juros nominais\",\"Juros nominais\",\"Juros nominais\",\"Juros nominais\",\"Juros nominais\",\"Juros nominais\",\"Juros nominais\",\"Juros nominais\",\"Juros nominais\",\"Juros nominais\",\"Juros nominais\",\"Juros nominais\",\"Juros nominais\",\"Juros nominais\",\"NFSP\",\"NFSP\",\"NFSP\",\"NFSP\",\"NFSP\",\"NFSP\",\"NFSP\",\"NFSP\",\"NFSP\",\"NFSP\",\"NFSP\",\"NFSP\",\"NFSP\",\"NFSP\",\"NFSP\",\"NFSP\",\"NFSP\",\"NFSP\",\"NFSP\",\"NFSP\",\"NFSP\",\"NFSP\",\"NFSP\",\"Resultado prim\\u00e1rio\",\"Resultado prim\\u00e1rio\",\"Resultado prim\\u00e1rio\",\"Resultado prim\\u00e1rio\",\"Resultado prim\\u00e1rio\",\"Resultado prim\\u00e1rio\",\"Resultado prim\\u00e1rio\",\"Resultado prim\\u00e1rio\",\"Resultado prim\\u00e1rio\",\"Resultado prim\\u00e1rio\",\"Resultado prim\\u00e1rio\",\"Resultado prim\\u00e1rio\",\"Resultado prim\\u00e1rio\",\"Resultado prim\\u00e1rio\",\"Resultado prim\\u00e1rio\",\"Resultado prim\\u00e1rio\",\"Resultado prim\\u00e1rio\"]],[\"value\",{\"type\":\"ndarray\",\"array\":{\"type\":\"bytes\",\"data\":\"YApubIgB2r8xNDWICBQAwD0D6XdjlATAkA4kjUgz/r/lmYin0+v7v6K1omu09fS/tQV3dx6iCcAQWw+Zo4AQwMO3Fx4oeAjAQVzhhMTiC8CRRWxcobYUwD9GMKFVgBrAsimCYXX6EcCtTWaAXwQSwJC2CobtFxHAxEPN8tRgEcCROjoHSb8IwCCmnD33TxTAmqiJ5YvjFMBmWGePSYERwL3Wv1xyAhTAG7zT9sAFEsCTnSqBKlIOwAh2GCmQ0P+/8U4uJHiKBsA9KGgABn4XwHSORnP6ORDA8qiLVu7GF8B+qmgsCLsMwO3vS3Tv6BvAVTj02/nECcDpgwwEuXwewMC4JupTJCHAeHfCYpTLEsAkIIrPrJYAwItTHITUVPS/UrikxQ7//7/Sw1gEKtryv7gF/kvZnOm/ZYBkQoGO5b/o5KFUR7oIwInRq9SGAgvAJDHvg+cX9r/dKwhcUfEMwFV2XFOpu/6/vA8/F7SwAMBDZnsjr14DwN99al9o/xHAIeCJjETnAcCuixuhEsMYwPITaByfhwHAlSTHlFn+FcB/KOmLozXIP9TRuioxzABA4uBUvS4JAEAMEbTjX+7yP5yUu0SqYAJAfPuOylD0AEDHjtmviC8AQPcVEvASPvw/dWt339dpA0CTQNzIzTICQAby7svP9wBAdD1B5thu+j+dots5Wf/7PwKQtKFIqf0/xItdwogw6D8RdFP6mCkEQP0oOrCap/U/\"},\"shape\":[69],\"dtype\":\"float64\",\"order\":\"little\"}]]}}},\"view\":{\"type\":\"object\",\"name\":\"CDSView\",\"id\":\"p3996\",\"attributes\":{\"filter\":{\"type\":\"object\",\"name\":\"AllIndices\",\"id\":\"p3997\"}}},\"glyph\":{\"type\":\"object\",\"name\":\"VBar\",\"id\":\"p3992\",\"attributes\":{\"tags\":[\"apply_ranges\"],\"x\":{\"type\":\"field\",\"field\":\"Ano\"},\"width\":{\"type\":\"value\",\"value\":0.8},\"bottom\":{\"type\":\"field\",\"field\":\"bottom\"},\"top\":{\"type\":\"field\",\"field\":\"top\"},\"line_alpha\":{\"type\":\"value\",\"value\":0.7},\"fill_color\":{\"type\":\"field\",\"field\":\"Variable\",\"transform\":{\"type\":\"object\",\"name\":\"CategoricalColorMapper\",\"id\":\"p3984\",\"attributes\":{\"palette\":[\"#e41a1c\",\"#377eb8\",\"#4daf4a\"],\"factors\":[\"Resultado prim\\u00e1rio\",\"Juros nominais\",\"NFSP\"]}}},\"fill_alpha\":{\"type\":\"value\",\"value\":0.7},\"hatch_color\":{\"type\":\"field\",\"field\":\"Variable\",\"transform\":{\"id\":\"p3984\"}},\"hatch_alpha\":{\"type\":\"value\",\"value\":0.7}}},\"selection_glyph\":{\"type\":\"object\",\"name\":\"VBar\",\"id\":\"p4000\",\"attributes\":{\"tags\":[\"apply_ranges\"],\"x\":{\"type\":\"field\",\"field\":\"Ano\"},\"width\":{\"type\":\"value\",\"value\":0.8},\"bottom\":{\"type\":\"field\",\"field\":\"bottom\"},\"top\":{\"type\":\"field\",\"field\":\"top\"},\"line_color\":{\"type\":\"value\",\"value\":\"black\"},\"line_alpha\":{\"type\":\"value\",\"value\":0.7},\"line_width\":{\"type\":\"value\",\"value\":1},\"line_join\":{\"type\":\"value\",\"value\":\"bevel\"},\"line_cap\":{\"type\":\"value\",\"value\":\"butt\"},\"line_dash\":{\"type\":\"value\",\"value\":[]},\"line_dash_offset\":{\"type\":\"value\",\"value\":0},\"fill_color\":{\"type\":\"field\",\"field\":\"Variable\",\"transform\":{\"id\":\"p3984\"}},\"fill_alpha\":{\"type\":\"value\",\"value\":0.7},\"hatch_color\":{\"type\":\"field\",\"field\":\"Variable\",\"transform\":{\"id\":\"p3984\"}},\"hatch_alpha\":{\"type\":\"value\",\"value\":0.7},\"hatch_scale\":{\"type\":\"value\",\"value\":12.0},\"hatch_pattern\":{\"type\":\"value\",\"value\":null},\"hatch_weight\":{\"type\":\"value\",\"value\":1.0}}},\"nonselection_glyph\":{\"type\":\"object\",\"name\":\"VBar\",\"id\":\"p3993\",\"attributes\":{\"tags\":[\"apply_ranges\"],\"x\":{\"type\":\"field\",\"field\":\"Ano\"},\"width\":{\"type\":\"value\",\"value\":0.8},\"bottom\":{\"type\":\"field\",\"field\":\"bottom\"},\"top\":{\"type\":\"field\",\"field\":\"top\"},\"line_alpha\":{\"type\":\"value\",\"value\":0.7},\"fill_color\":{\"type\":\"field\",\"field\":\"Variable\",\"transform\":{\"id\":\"p3984\"}},\"fill_alpha\":{\"type\":\"value\",\"value\":0.7},\"hatch_color\":{\"type\":\"field\",\"field\":\"Variable\",\"transform\":{\"id\":\"p3984\"}},\"hatch_alpha\":{\"type\":\"value\",\"value\":0.1}}},\"muted_glyph\":{\"type\":\"object\",\"name\":\"VBar\",\"id\":\"p3994\",\"attributes\":{\"tags\":[\"apply_ranges\"],\"x\":{\"type\":\"field\",\"field\":\"Ano\"},\"width\":{\"type\":\"value\",\"value\":0.8},\"bottom\":{\"type\":\"field\",\"field\":\"bottom\"},\"top\":{\"type\":\"field\",\"field\":\"top\"},\"line_alpha\":{\"type\":\"value\",\"value\":0.2},\"fill_color\":{\"type\":\"field\",\"field\":\"Variable\",\"transform\":{\"id\":\"p3984\"}},\"fill_alpha\":{\"type\":\"value\",\"value\":0.2},\"hatch_color\":{\"type\":\"field\",\"field\":\"Variable\",\"transform\":{\"id\":\"p3984\"}},\"hatch_alpha\":{\"type\":\"value\",\"value\":0.2}}}}}],\"toolbar\":{\"type\":\"object\",\"name\":\"Toolbar\",\"id\":\"p3951\",\"attributes\":{\"tools\":[{\"type\":\"object\",\"name\":\"HoverTool\",\"id\":\"p3942\",\"attributes\":{\"tags\":[\"hv_created\"],\"renderers\":[{\"id\":\"p3995\"}],\"tooltips\":[[\"Ano\",\"@{Ano}\"],[\"Variable\",\"@{Variable}\"],[\"value\",\"@{value}\"]]}},{\"type\":\"object\",\"name\":\"SaveTool\",\"id\":\"p3970\"},{\"type\":\"object\",\"name\":\"PanTool\",\"id\":\"p3971\"},{\"type\":\"object\",\"name\":\"WheelZoomTool\",\"id\":\"p3972\"},{\"type\":\"object\",\"name\":\"BoxZoomTool\",\"id\":\"p3973\",\"attributes\":{\"overlay\":{\"type\":\"object\",\"name\":\"BoxAnnotation\",\"id\":\"p3974\",\"attributes\":{\"syncable\":false,\"level\":\"overlay\",\"visible\":false,\"left_units\":\"canvas\",\"right_units\":\"canvas\",\"bottom_units\":\"canvas\",\"top_units\":\"canvas\",\"line_color\":\"black\",\"line_alpha\":1.0,\"line_width\":2,\"line_dash\":[4,4],\"fill_color\":\"lightgrey\",\"fill_alpha\":0.5}}}},{\"type\":\"object\",\"name\":\"ResetTool\",\"id\":\"p3975\"}],\"active_drag\":{\"id\":\"p3971\"},\"active_scroll\":{\"id\":\"p3972\"}}},\"left\":[{\"type\":\"object\",\"name\":\"LinearAxis\",\"id\":\"p3963\",\"attributes\":{\"ticker\":{\"type\":\"object\",\"name\":\"BasicTicker\",\"id\":\"p3965\",\"attributes\":{\"mantissas\":[1,2,5]}},\"formatter\":{\"type\":\"object\",\"name\":\"PrintfTickFormatter\",\"id\":\"p4001\",\"attributes\":{\"format\":\"%.1f\"}},\"axis_label\":\"%\",\"axis_label_text_font_size\":\"9pt\",\"major_label_policy\":{\"type\":\"object\",\"name\":\"AllLabels\",\"id\":\"p3966\"},\"major_label_text_font_size\":\"9pt\"}}],\"below\":[{\"type\":\"object\",\"name\":\"CategoricalAxis\",\"id\":\"p3957\",\"attributes\":{\"ticker\":{\"type\":\"object\",\"name\":\"CategoricalTicker\",\"id\":\"p3959\"},\"formatter\":{\"type\":\"object\",\"name\":\"CategoricalTickFormatter\",\"id\":\"p3958\"},\"axis_label\":\"\",\"axis_label_text_font_size\":\"9pt\",\"major_label_orientation\":0.7853981633974483,\"major_label_policy\":{\"type\":\"object\",\"name\":\"AllLabels\",\"id\":\"p3960\"},\"major_label_text_font_size\":\"9pt\",\"group_text_font_size\":\"9pt\"}},{\"type\":\"object\",\"name\":\"Legend\",\"id\":\"p3998\",\"attributes\":{\"location\":[0,0],\"orientation\":\"horizontal\",\"items\":[{\"type\":\"object\",\"name\":\"LegendItem\",\"id\":\"p3999\",\"attributes\":{\"label\":{\"type\":\"field\",\"field\":\"Variable\"},\"renderers\":[{\"id\":\"p3995\"}]}}]}}],\"center\":[{\"type\":\"object\",\"name\":\"Grid\",\"id\":\"p3962\",\"attributes\":{\"axis\":{\"id\":\"p3957\"},\"grid_line_color\":null}},{\"type\":\"object\",\"name\":\"Grid\",\"id\":\"p3969\",\"attributes\":{\"dimension\":1,\"axis\":{\"id\":\"p3963\"},\"grid_line_color\":null}},{\"id\":\"p3998\"}],\"min_border_top\":10,\"min_border_bottom\":10,\"min_border_left\":10,\"min_border_right\":10,\"output_backend\":\"webgl\"}},{\"type\":\"object\",\"name\":\"Spacer\",\"id\":\"p4027\",\"attributes\":{\"name\":\"HSpacer06287\",\"stylesheets\":[\"\\n:host(.pn-loading.pn-arc):before, .pn-loading.pn-arc:before {\\n  background-image: url(\\\"data:image/svg+xml;base64,PHN2ZyB4bWxucz0iaHR0cDovL3d3dy53My5vcmcvMjAwMC9zdmciIHN0eWxlPSJtYXJnaW46IGF1dG87IGJhY2tncm91bmQ6IG5vbmU7IGRpc3BsYXk6IGJsb2NrOyBzaGFwZS1yZW5kZXJpbmc6IGF1dG87IiB2aWV3Qm94PSIwIDAgMTAwIDEwMCIgcHJlc2VydmVBc3BlY3RSYXRpbz0ieE1pZFlNaWQiPiAgPGNpcmNsZSBjeD0iNTAiIGN5PSI1MCIgZmlsbD0ibm9uZSIgc3Ryb2tlPSIjYzNjM2MzIiBzdHJva2Utd2lkdGg9IjEwIiByPSIzNSIgc3Ryb2tlLWRhc2hhcnJheT0iMTY0LjkzMzYxNDMxMzQ2NDE1IDU2Ljk3Nzg3MTQzNzgyMTM4Ij4gICAgPGFuaW1hdGVUcmFuc2Zvcm0gYXR0cmlidXRlTmFtZT0idHJhbnNmb3JtIiB0eXBlPSJyb3RhdGUiIHJlcGVhdENvdW50PSJpbmRlZmluaXRlIiBkdXI9IjFzIiB2YWx1ZXM9IjAgNTAgNTA7MzYwIDUwIDUwIiBrZXlUaW1lcz0iMDsxIj48L2FuaW1hdGVUcmFuc2Zvcm0+ICA8L2NpcmNsZT48L3N2Zz4=\\\");\\n  background-size: auto calc(min(50%, 400px));\\n}\",{\"id\":\"p3936\"},{\"id\":\"p3934\"},{\"id\":\"p3935\"}],\"margin\":0,\"sizing_mode\":\"stretch_width\",\"align\":\"start\"}}]}}],\"callbacks\":{\"type\":\"map\"}}};\n",
       "  var render_items = [{\"docid\":\"669d3bb9-1bf5-4a70-9652-9f365b52c99c\",\"roots\":{\"p3933\":\"ecda7982-4530-4a26-ad0e-11c5e683f96c\"},\"root_ids\":[\"p3933\"]}];\n",
       "  var docs = Object.values(docs_json)\n",
       "  if (!docs) {\n",
       "    return\n",
       "  }\n",
       "  const py_version = docs[0].version.replace('rc', '-rc.').replace('.dev', '-dev.')\n",
       "  const is_dev = py_version.indexOf(\"+\") !== -1 || py_version.indexOf(\"-\") !== -1\n",
       "  function embed_document(root) {\n",
       "    var Bokeh = get_bokeh(root)\n",
       "    Bokeh.embed.embed_items_notebook(docs_json, render_items);\n",
       "    for (const render_item of render_items) {\n",
       "      for (const root_id of render_item.root_ids) {\n",
       "\tconst id_el = document.getElementById(root_id)\n",
       "\tif (id_el.children.length && (id_el.children[0].className === 'bk-root')) {\n",
       "\t  const root_el = id_el.children[0]\n",
       "\t  root_el.id = root_el.id + '-rendered'\n",
       "\t}\n",
       "      }\n",
       "    }\n",
       "  }\n",
       "  function get_bokeh(root) {\n",
       "    if (root.Bokeh === undefined) {\n",
       "      return null\n",
       "    } else if (root.Bokeh.version !== py_version && !is_dev) {\n",
       "      if (root.Bokeh.versions === undefined || !root.Bokeh.versions.has(py_version)) {\n",
       "\treturn null\n",
       "      }\n",
       "      return root.Bokeh.versions.get(py_version);\n",
       "    } else if (root.Bokeh.version === py_version) {\n",
       "      return root.Bokeh\n",
       "    }\n",
       "    return null\n",
       "  }\n",
       "  function is_loaded(root) {\n",
       "    var Bokeh = get_bokeh(root)\n",
       "    return (Bokeh != null && Bokeh.Panel !== undefined)\n",
       "  }\n",
       "  if (is_loaded(root)) {\n",
       "    embed_document(root);\n",
       "  } else {\n",
       "    var attempts = 0;\n",
       "    var timer = setInterval(function(root) {\n",
       "      if (is_loaded(root)) {\n",
       "        clearInterval(timer);\n",
       "        embed_document(root);\n",
       "      } else if (document.readyState == \"complete\") {\n",
       "        attempts++;\n",
       "        if (attempts > 200) {\n",
       "          clearInterval(timer);\n",
       "\t  var Bokeh = get_bokeh(root)\n",
       "\t  if (Bokeh == null || Bokeh.Panel == null) {\n",
       "            console.warn(\"Panel: ERROR: Unable to run Panel code because Bokeh or Panel library is missing\");\n",
       "\t  } else {\n",
       "\t    console.warn(\"Panel: WARNING: Attempting to render but not all required libraries could be resolved.\")\n",
       "\t    embed_document(root)\n",
       "\t  }\n",
       "        }\n",
       "      }\n",
       "    }, 25, root)\n",
       "  }\n",
       "})(window);</script>"
      ],
      "text/plain": [
       ":Bars   [Ano,Variable]   (value)"
      ]
     },
     "execution_count": 45,
     "metadata": {
      "application/vnd.holoviews_exec.v0+json": {
       "id": "p3933"
      }
     },
     "output_type": "execute_result"
    }
   ],
   "source": [
    "gov"
   ]
  },
  {
   "cell_type": "code",
   "execution_count": 50,
   "metadata": {
    "slideshow": {
     "slide_type": "notes"
    }
   },
   "outputs": [],
   "source": [
    "pr = pd.read_excel('br_pib_real_1990_2021.xlsx')\n",
    "\n",
    "produto = pr.hvplot.bar('Ano', ['PIB', 'Indústria'],\n",
    "                        height=450,\n",
    "                        width=650,\n",
    "                        stacked=True,\n",
    "                        rot=45,\n",
    "                        padding=0.02,\n",
    "                        legend='bottom',\n",
    "                        cmap='tab10',\n",
    "                        yticks=22,\n",
    "                        ylim=(-14,20),\n",
    "                        xlabel='',\n",
    "                        ylabel='taxa de crescimento anual, %',\n",
    "                        label='Crescimento do PIB e da indústria, Brasil, 1990-2021'\n",
    "                       ).opts(fontsize={'title': 11, 'labels': 8, 'xticks': 8, \n",
    "                                        'yticks': 8, 'legend': 8}).opts(multi_level=False)"
   ]
  },
  {
   "cell_type": "code",
   "execution_count": 51,
   "metadata": {
    "slideshow": {
     "slide_type": "slide"
    }
   },
   "outputs": [
    {
     "data": {},
     "metadata": {},
     "output_type": "display_data"
    },
    {
     "data": {
      "application/vnd.holoviews_exec.v0+json": "",
      "text/html": [
       "<div id='p4082'>\n",
       "  <div id=\"b77a1e36-4397-49c9-8584-deec7ff6c63d\" data-root-id=\"p4082\" style=\"display: contents;\"></div>\n",
       "</div>\n",
       "<script type=\"application/javascript\">(function(root) {\n",
       "  var docs_json = {\"709ade38-0758-4092-95b0-1a178d3a41ff\":{\"version\":\"3.1.1\",\"title\":\"Bokeh Application\",\"defs\":[{\"type\":\"model\",\"name\":\"ReactiveHTML1\"},{\"type\":\"model\",\"name\":\"FlexBox1\",\"properties\":[{\"name\":\"align_content\",\"kind\":\"Any\",\"default\":\"flex-start\"},{\"name\":\"align_items\",\"kind\":\"Any\",\"default\":\"flex-start\"},{\"name\":\"flex_direction\",\"kind\":\"Any\",\"default\":\"row\"},{\"name\":\"flex_wrap\",\"kind\":\"Any\",\"default\":\"wrap\"},{\"name\":\"justify_content\",\"kind\":\"Any\",\"default\":\"flex-start\"}]},{\"type\":\"model\",\"name\":\"FloatPanel1\",\"properties\":[{\"name\":\"config\",\"kind\":\"Any\",\"default\":{\"type\":\"map\"}},{\"name\":\"contained\",\"kind\":\"Any\",\"default\":true},{\"name\":\"position\",\"kind\":\"Any\",\"default\":\"right-top\"},{\"name\":\"offsetx\",\"kind\":\"Any\",\"default\":null},{\"name\":\"offsety\",\"kind\":\"Any\",\"default\":null},{\"name\":\"theme\",\"kind\":\"Any\",\"default\":\"primary\"},{\"name\":\"status\",\"kind\":\"Any\",\"default\":\"normalized\"}]},{\"type\":\"model\",\"name\":\"GridStack1\",\"properties\":[{\"name\":\"mode\",\"kind\":\"Any\",\"default\":\"warn\"},{\"name\":\"ncols\",\"kind\":\"Any\",\"default\":null},{\"name\":\"nrows\",\"kind\":\"Any\",\"default\":null},{\"name\":\"allow_resize\",\"kind\":\"Any\",\"default\":true},{\"name\":\"allow_drag\",\"kind\":\"Any\",\"default\":true},{\"name\":\"state\",\"kind\":\"Any\",\"default\":[]}]},{\"type\":\"model\",\"name\":\"drag1\",\"properties\":[{\"name\":\"slider_width\",\"kind\":\"Any\",\"default\":5},{\"name\":\"slider_color\",\"kind\":\"Any\",\"default\":\"black\"},{\"name\":\"value\",\"kind\":\"Any\",\"default\":50}]},{\"type\":\"model\",\"name\":\"click1\",\"properties\":[{\"name\":\"terminal_output\",\"kind\":\"Any\",\"default\":\"\"},{\"name\":\"debug_name\",\"kind\":\"Any\",\"default\":\"\"},{\"name\":\"clears\",\"kind\":\"Any\",\"default\":0}]},{\"type\":\"model\",\"name\":\"FastWrapper1\",\"properties\":[{\"name\":\"object\",\"kind\":\"Any\",\"default\":null},{\"name\":\"style\",\"kind\":\"Any\",\"default\":null}]},{\"type\":\"model\",\"name\":\"NotificationAreaBase1\",\"properties\":[{\"name\":\"js_events\",\"kind\":\"Any\",\"default\":{\"type\":\"map\"}},{\"name\":\"position\",\"kind\":\"Any\",\"default\":\"bottom-right\"},{\"name\":\"_clear\",\"kind\":\"Any\",\"default\":0}]},{\"type\":\"model\",\"name\":\"NotificationArea1\",\"properties\":[{\"name\":\"js_events\",\"kind\":\"Any\",\"default\":{\"type\":\"map\"}},{\"name\":\"notifications\",\"kind\":\"Any\",\"default\":[]},{\"name\":\"position\",\"kind\":\"Any\",\"default\":\"bottom-right\"},{\"name\":\"_clear\",\"kind\":\"Any\",\"default\":0},{\"name\":\"types\",\"kind\":\"Any\",\"default\":[{\"type\":\"map\",\"entries\":[[\"type\",\"warning\"],[\"background\",\"#ffc107\"],[\"icon\",{\"type\":\"map\",\"entries\":[[\"className\",\"fas fa-exclamation-triangle\"],[\"tagName\",\"i\"],[\"color\",\"white\"]]}]]},{\"type\":\"map\",\"entries\":[[\"type\",\"info\"],[\"background\",\"#007bff\"],[\"icon\",{\"type\":\"map\",\"entries\":[[\"className\",\"fas fa-info-circle\"],[\"tagName\",\"i\"],[\"color\",\"white\"]]}]]}]}]},{\"type\":\"model\",\"name\":\"Notification\",\"properties\":[{\"name\":\"background\",\"kind\":\"Any\",\"default\":null},{\"name\":\"duration\",\"kind\":\"Any\",\"default\":3000},{\"name\":\"icon\",\"kind\":\"Any\",\"default\":null},{\"name\":\"message\",\"kind\":\"Any\",\"default\":\"\"},{\"name\":\"notification_type\",\"kind\":\"Any\",\"default\":null},{\"name\":\"_destroyed\",\"kind\":\"Any\",\"default\":false}]},{\"type\":\"model\",\"name\":\"TemplateActions1\",\"properties\":[{\"name\":\"open_modal\",\"kind\":\"Any\",\"default\":0},{\"name\":\"close_modal\",\"kind\":\"Any\",\"default\":0}]},{\"type\":\"model\",\"name\":\"BootstrapTemplateActions1\",\"properties\":[{\"name\":\"open_modal\",\"kind\":\"Any\",\"default\":0},{\"name\":\"close_modal\",\"kind\":\"Any\",\"default\":0}]},{\"type\":\"model\",\"name\":\"MaterialTemplateActions1\",\"properties\":[{\"name\":\"open_modal\",\"kind\":\"Any\",\"default\":0},{\"name\":\"close_modal\",\"kind\":\"Any\",\"default\":0}]}],\"roots\":[{\"type\":\"object\",\"name\":\"Row\",\"id\":\"p4082\",\"attributes\":{\"name\":\"Row06533\",\"tags\":[\"embedded\"],\"stylesheets\":[\"\\n:host(.pn-loading.pn-arc):before, .pn-loading.pn-arc:before {\\n  background-image: url(\\\"data:image/svg+xml;base64,PHN2ZyB4bWxucz0iaHR0cDovL3d3dy53My5vcmcvMjAwMC9zdmciIHN0eWxlPSJtYXJnaW46IGF1dG87IGJhY2tncm91bmQ6IG5vbmU7IGRpc3BsYXk6IGJsb2NrOyBzaGFwZS1yZW5kZXJpbmc6IGF1dG87IiB2aWV3Qm94PSIwIDAgMTAwIDEwMCIgcHJlc2VydmVBc3BlY3RSYXRpbz0ieE1pZFlNaWQiPiAgPGNpcmNsZSBjeD0iNTAiIGN5PSI1MCIgZmlsbD0ibm9uZSIgc3Ryb2tlPSIjYzNjM2MzIiBzdHJva2Utd2lkdGg9IjEwIiByPSIzNSIgc3Ryb2tlLWRhc2hhcnJheT0iMTY0LjkzMzYxNDMxMzQ2NDE1IDU2Ljk3Nzg3MTQzNzgyMTM4Ij4gICAgPGFuaW1hdGVUcmFuc2Zvcm0gYXR0cmlidXRlTmFtZT0idHJhbnNmb3JtIiB0eXBlPSJyb3RhdGUiIHJlcGVhdENvdW50PSJpbmRlZmluaXRlIiBkdXI9IjFzIiB2YWx1ZXM9IjAgNTAgNTA7MzYwIDUwIDUwIiBrZXlUaW1lcz0iMDsxIj48L2FuaW1hdGVUcmFuc2Zvcm0+ICA8L2NpcmNsZT48L3N2Zz4=\\\");\\n  background-size: auto calc(min(50%, 400px));\\n}\",{\"type\":\"object\",\"name\":\"ImportedStyleSheet\",\"id\":\"p4085\",\"attributes\":{\"url\":\"https://cdn.holoviz.org/panel/1.2.3/dist/css/loading.css\"}},{\"type\":\"object\",\"name\":\"ImportedStyleSheet\",\"id\":\"p4178\",\"attributes\":{\"url\":\"https://cdn.holoviz.org/panel/1.2.3/dist/css/listpanel.css\"}},{\"type\":\"object\",\"name\":\"ImportedStyleSheet\",\"id\":\"p4083\",\"attributes\":{\"url\":\"https://cdn.holoviz.org/panel/1.2.3/dist/bundled/theme/default.css\"}},{\"type\":\"object\",\"name\":\"ImportedStyleSheet\",\"id\":\"p4084\",\"attributes\":{\"url\":\"https://cdn.holoviz.org/panel/1.2.3/dist/bundled/theme/native.css\"}}],\"min_width\":650,\"margin\":0,\"sizing_mode\":\"stretch_width\",\"align\":\"start\",\"children\":[{\"type\":\"object\",\"name\":\"Spacer\",\"id\":\"p4086\",\"attributes\":{\"name\":\"HSpacer06544\",\"stylesheets\":[\"\\n:host(.pn-loading.pn-arc):before, .pn-loading.pn-arc:before {\\n  background-image: url(\\\"data:image/svg+xml;base64,PHN2ZyB4bWxucz0iaHR0cDovL3d3dy53My5vcmcvMjAwMC9zdmciIHN0eWxlPSJtYXJnaW46IGF1dG87IGJhY2tncm91bmQ6IG5vbmU7IGRpc3BsYXk6IGJsb2NrOyBzaGFwZS1yZW5kZXJpbmc6IGF1dG87IiB2aWV3Qm94PSIwIDAgMTAwIDEwMCIgcHJlc2VydmVBc3BlY3RSYXRpbz0ieE1pZFlNaWQiPiAgPGNpcmNsZSBjeD0iNTAiIGN5PSI1MCIgZmlsbD0ibm9uZSIgc3Ryb2tlPSIjYzNjM2MzIiBzdHJva2Utd2lkdGg9IjEwIiByPSIzNSIgc3Ryb2tlLWRhc2hhcnJheT0iMTY0LjkzMzYxNDMxMzQ2NDE1IDU2Ljk3Nzg3MTQzNzgyMTM4Ij4gICAgPGFuaW1hdGVUcmFuc2Zvcm0gYXR0cmlidXRlTmFtZT0idHJhbnNmb3JtIiB0eXBlPSJyb3RhdGUiIHJlcGVhdENvdW50PSJpbmRlZmluaXRlIiBkdXI9IjFzIiB2YWx1ZXM9IjAgNTAgNTA7MzYwIDUwIDUwIiBrZXlUaW1lcz0iMDsxIj48L2FuaW1hdGVUcmFuc2Zvcm0+ICA8L2NpcmNsZT48L3N2Zz4=\\\");\\n  background-size: auto calc(min(50%, 400px));\\n}\",{\"id\":\"p4085\"},{\"id\":\"p4083\"},{\"id\":\"p4084\"}],\"margin\":0,\"sizing_mode\":\"stretch_width\",\"align\":\"start\"}},{\"type\":\"object\",\"name\":\"Figure\",\"id\":\"p4092\",\"attributes\":{\"width\":650,\"height\":450,\"margin\":[5,10],\"sizing_mode\":\"fixed\",\"align\":\"start\",\"x_range\":{\"type\":\"object\",\"name\":\"FactorRange\",\"id\":\"p4087\",\"attributes\":{\"tags\":[[[\"Ano\",\"Ano\",null]],[]],\"factors\":[\"1990\",\"1991\",\"1992\",\"1993\",\"1994\",\"1995\",\"1996\",\"1997\",\"1998\",\"1999\",\"2000\",\"2001\",\"2002\",\"2003\",\"2004\",\"2005\",\"2006\",\"2007\",\"2008\",\"2009\",\"2010\",\"2011\",\"2012\",\"2013\",\"2014\",\"2015\",\"2016\",\"2017\",\"2018\",\"2019\",\"2020\",\"2021\"]}},\"y_range\":{\"type\":\"object\",\"name\":\"Range1d\",\"id\":\"p4088\",\"attributes\":{\"tags\":[[[\"value\",\"value\",null]],{\"type\":\"map\",\"entries\":[[\"invert_yaxis\",false],[\"autorange\",false]]}],\"start\":-14,\"end\":20,\"reset_start\":-14,\"reset_end\":20}},\"x_scale\":{\"type\":\"object\",\"name\":\"CategoricalScale\",\"id\":\"p4104\"},\"y_scale\":{\"type\":\"object\",\"name\":\"LinearScale\",\"id\":\"p4105\"},\"title\":{\"type\":\"object\",\"name\":\"Title\",\"id\":\"p4095\",\"attributes\":{\"text\":\"Crescimento do PIB e da ind\\u00fastria, Brasil, 1990-2021\",\"text_color\":\"black\",\"text_font_size\":\"11pt\"}},\"renderers\":[{\"type\":\"object\",\"name\":\"GlyphRenderer\",\"id\":\"p4144\",\"attributes\":{\"data_source\":{\"type\":\"object\",\"name\":\"ColumnDataSource\",\"id\":\"p4134\",\"attributes\":{\"selected\":{\"type\":\"object\",\"name\":\"Selection\",\"id\":\"p4136\",\"attributes\":{\"indices\":[],\"line_indices\":[]}},\"selection_policy\":{\"type\":\"object\",\"name\":\"UnionRenderers\",\"id\":\"p4135\"},\"data\":{\"type\":\"map\",\"entries\":[[\"bottom\",{\"type\":\"ndarray\",\"array\":{\"type\":\"bytes\",\"data\":\"W2ZmZmZmEcAB+jrKCWnhvwmKJZObGsC/Ao+yMrldDMDlf0jsEzUKwNA/O3WHBw/AAAAAAAAA4L86IZ8KOGIfwEaP/gSNnCLAKVyPwvUo+L8K16NwPQrnv+F6FK5H4QTAexSuR+F65L9xPQrXo3Dlv7gehetRuADAIdpb52gOE8CKwvUoXA8pwB35ZamhTRPAgjk3VF0dHcAAAAAAAAAAAAAAAAAAAAAAAAAAAAAAAAAAAAAAAAAAAAAAAAAAAAAAAAAAAAAAAAAAAAAAAAAAAAAAAAAAAAAAAAAAAAAAAAAAAAAAAAAAAAAAAAAAAAAAAAAAAAAAAAAAAAAAAAAAAAAAAAAAAAAAAAAAAAAAAAAAAAAAAAAAAAAAAAAAAAAAAAAAAAAAAAAAAAAAAAAAAAAAAAAAAAAAAAAAAAAAAAAAAAAAAAAAAAAAAAAAAAAAAAAAAAAAAAAAAAAAAAAAAAAAAAAAAAAAQFzZd+AJCEBKryNq950JQF2K1VOeyw9A5PCWOuccHkC8bYTFdGAUQBzDFSmMRxhAewjiIieyD0B/uHUrNAoXQCNFhigq5RBA6471aH1tCEBM5HOeQo0RQGIcDwOlKAtATylS6sCrAUBAIEvZVmkXQCNtw+/hshNAQNANOtmD8D/SvXAo5on8P6zNgOjVQPI/gV9MqUl6EkA=\"},\"shape\":[64],\"dtype\":\"float64\",\"order\":\"little\"}],[\"top\",{\"type\":\"ndarray\",\"array\":{\"type\":\"bytes\",\"data\":\"AAAAAAAAAAAAAAAAAAAAAAAAAAAAAAAAAAAAAAAAAAAAAAAAAAAAAAAAAAAAAAAAAAAAAAAAAADlf0jsEzUKwAKPsjK5XQzAAAAAAAAAAAAAAAAAAAAAAAAAAAAAAAAAAAAAAAAAAAAAAAAAAAAAAAAAAAAAAAAAAfo6yglp4b9bZmZmZmYRwAmKJZObGsC/0D87dYcHD8BA0A062YPwP4FfTKlJehJA1TGEU06I8z/SvXAo5on8P4Jd48lnIOA/QFzZd+AJCEBUd50HI73+P12K1VOeyw9A5PCWOuccHkC8bYTFdGAUQBzDFSmMRxhAewjiIieyD0BKryNq950JQO7Qtr14KvU/rM2A6NVA8j9/uHUrNAoXQCNtw+/hshNAQCBL2VZpF0BPKVLqwKsBQGIcDwOlKAtAI0WGKCrlEEAHVV1osPLdP0zkc55CjRFAlpsfAwQ99j/rjvVofW0IQAPQ7mFlo9U/zvXNtgSzFECbAG5EvsQUQFCBeoA5KyBAbO/YAW26MUARavWVbWMiQHozQzNLjyhASNsUAlHjF0AsLnM0n/ArQMe1wzIBiRhAqPqt5/FpG0B4qljUjJghQKyiNckzDx9AEh97RlBuCUAWuQH8bSopQBaiM7CP3idAaSyd/M6s9D+sVGFwggcEQEZnGoJv2vM/tlgCZOcyIkA=\"},\"shape\":[64],\"dtype\":\"float64\",\"order\":\"little\"}],[\"Ano\",[\"1990\",\"1992\",\"2009\",\"2015\",\"2016\",\"2020\",\"2017\",\"2016\",\"2015\",\"2014\",\"2012\",\"1999\",\"2001\",\"2019\",\"1998\",\"1992\",\"1990\",\"2009\",\"2020\",\"1991\",\"2021\",\"2019\",\"2018\",\"2014\",\"2013\",\"2012\",\"2011\",\"2010\",\"2008\",\"2007\",\"2006\",\"2005\",\"2017\",\"2003\",\"2004\",\"1993\",\"1994\",\"1996\",\"1997\",\"1995\",\"1999\",\"2000\",\"2001\",\"2002\",\"1998\",\"2013\",\"2005\",\"2011\",\"2010\",\"2008\",\"2007\",\"2006\",\"2004\",\"1995\",\"2002\",\"2000\",\"1997\",\"1996\",\"1994\",\"1993\",\"1991\",\"2018\",\"2003\",\"2021\"]],[\"Variable\",[\"PIB\",\"PIB\",\"PIB\",\"PIB\",\"PIB\",\"PIB\",\"Ind\\u00fastria\",\"Ind\\u00fastria\",\"Ind\\u00fastria\",\"Ind\\u00fastria\",\"Ind\\u00fastria\",\"Ind\\u00fastria\",\"Ind\\u00fastria\",\"Ind\\u00fastria\",\"Ind\\u00fastria\",\"Ind\\u00fastria\",\"Ind\\u00fastria\",\"Ind\\u00fastria\",\"Ind\\u00fastria\",\"PIB\",\"PIB\",\"PIB\",\"PIB\",\"PIB\",\"PIB\",\"PIB\",\"PIB\",\"PIB\",\"PIB\",\"PIB\",\"PIB\",\"PIB\",\"PIB\",\"PIB\",\"PIB\",\"PIB\",\"PIB\",\"PIB\",\"PIB\",\"PIB\",\"PIB\",\"PIB\",\"PIB\",\"PIB\",\"PIB\",\"Ind\\u00fastria\",\"Ind\\u00fastria\",\"Ind\\u00fastria\",\"Ind\\u00fastria\",\"Ind\\u00fastria\",\"Ind\\u00fastria\",\"Ind\\u00fastria\",\"Ind\\u00fastria\",\"Ind\\u00fastria\",\"Ind\\u00fastria\",\"Ind\\u00fastria\",\"Ind\\u00fastria\",\"Ind\\u00fastria\",\"Ind\\u00fastria\",\"Ind\\u00fastria\",\"Ind\\u00fastria\",\"Ind\\u00fastria\",\"Ind\\u00fastria\",\"Ind\\u00fastria\"]],[\"value\",{\"type\":\"ndarray\",\"array\":{\"type\":\"bytes\",\"data\":\"W2ZmZmZmEcAB+jrKCWnhvwmKJZObGsC/Ao+yMrldDMDlf0jsEzUKwNA/O3WHBw/AAAAAAAAA4L9I4XoUrkcSwArXo3A9ChfAKVyPwvUo+L8K16NwPQrnv+F6FK5H4QTAexSuR+F65L9xPQrXo3Dlv7gehetRuADA4XoUrkfhEMBcj8L1KFwgwM3MzMzMzBLAMzMzMzMzC8BA0A062YPwP4FfTKlJehJA1TGEU06I8z/SvXAo5on8P4Jd48lnIOA/QFzZd+AJCEBUd50HI73+P12K1VOeyw9A5PCWOuccHkC8bYTFdGAUQBzDFSmMRxhAewjiIieyD0BKryNq950JQO7Qtr14KvU/rM2A6NVA8j9/uHUrNAoXQCNtw+/hshNAQCBL2VZpF0BPKVLqwKsBQGIcDwOlKAtAI0WGKCrlEEAHVV1osPLdP0zkc55CjRFAlpsfAwQ99j/rjvVofW0IQAPQ7mFlo9U/XI/C9ShcAUDXo3A9Ctf/P3E9CtejcBBAZmZmZmZmJEBmZmZmZmYQQNejcD0K1xhAFK5H4XoUAEDsUbgehWsgQI/C9Shcj/4/ZmZmZmZmDkCkcD0K16MRQHsUrkfhehFACtejcD0K7z/sUbgehesaQArXo3A9ChxApHA9Ctej0D8K16NwPQrnP5qZmZmZmbk/7FG4HoXrEUA=\"},\"shape\":[64],\"dtype\":\"float64\",\"order\":\"little\"}]]}}},\"view\":{\"type\":\"object\",\"name\":\"CDSView\",\"id\":\"p4145\",\"attributes\":{\"filter\":{\"type\":\"object\",\"name\":\"AllIndices\",\"id\":\"p4146\"}}},\"glyph\":{\"type\":\"object\",\"name\":\"VBar\",\"id\":\"p4141\",\"attributes\":{\"tags\":[\"apply_ranges\"],\"x\":{\"type\":\"field\",\"field\":\"Ano\"},\"width\":{\"type\":\"value\",\"value\":0.8},\"bottom\":{\"type\":\"field\",\"field\":\"bottom\"},\"top\":{\"type\":\"field\",\"field\":\"top\"},\"fill_color\":{\"type\":\"field\",\"field\":\"Variable\",\"transform\":{\"type\":\"object\",\"name\":\"CategoricalColorMapper\",\"id\":\"p4133\",\"attributes\":{\"palette\":[\"#1f77b4\",\"#ff7f0e\"],\"factors\":[\"PIB\",\"Ind\\u00fastria\"]}}},\"hatch_color\":{\"type\":\"field\",\"field\":\"Variable\",\"transform\":{\"id\":\"p4133\"}}}},\"selection_glyph\":{\"type\":\"object\",\"name\":\"VBar\",\"id\":\"p4149\",\"attributes\":{\"tags\":[\"apply_ranges\"],\"x\":{\"type\":\"field\",\"field\":\"Ano\"},\"width\":{\"type\":\"value\",\"value\":0.8},\"bottom\":{\"type\":\"field\",\"field\":\"bottom\"},\"top\":{\"type\":\"field\",\"field\":\"top\"},\"line_color\":{\"type\":\"value\",\"value\":\"black\"},\"line_alpha\":{\"type\":\"value\",\"value\":1.0},\"line_width\":{\"type\":\"value\",\"value\":1},\"line_join\":{\"type\":\"value\",\"value\":\"bevel\"},\"line_cap\":{\"type\":\"value\",\"value\":\"butt\"},\"line_dash\":{\"type\":\"value\",\"value\":[]},\"line_dash_offset\":{\"type\":\"value\",\"value\":0},\"fill_color\":{\"type\":\"field\",\"field\":\"Variable\",\"transform\":{\"id\":\"p4133\"}},\"fill_alpha\":{\"type\":\"value\",\"value\":1.0},\"hatch_color\":{\"type\":\"field\",\"field\":\"Variable\",\"transform\":{\"id\":\"p4133\"}},\"hatch_alpha\":{\"type\":\"value\",\"value\":1.0},\"hatch_scale\":{\"type\":\"value\",\"value\":12.0},\"hatch_pattern\":{\"type\":\"value\",\"value\":null},\"hatch_weight\":{\"type\":\"value\",\"value\":1.0}}},\"nonselection_glyph\":{\"type\":\"object\",\"name\":\"VBar\",\"id\":\"p4142\",\"attributes\":{\"tags\":[\"apply_ranges\"],\"x\":{\"type\":\"field\",\"field\":\"Ano\"},\"width\":{\"type\":\"value\",\"value\":0.8},\"bottom\":{\"type\":\"field\",\"field\":\"bottom\"},\"top\":{\"type\":\"field\",\"field\":\"top\"},\"line_alpha\":{\"type\":\"value\",\"value\":0.1},\"fill_color\":{\"type\":\"field\",\"field\":\"Variable\",\"transform\":{\"id\":\"p4133\"}},\"fill_alpha\":{\"type\":\"value\",\"value\":0.1},\"hatch_color\":{\"type\":\"field\",\"field\":\"Variable\",\"transform\":{\"id\":\"p4133\"}},\"hatch_alpha\":{\"type\":\"value\",\"value\":0.1}}},\"muted_glyph\":{\"type\":\"object\",\"name\":\"VBar\",\"id\":\"p4143\",\"attributes\":{\"tags\":[\"apply_ranges\"],\"x\":{\"type\":\"field\",\"field\":\"Ano\"},\"width\":{\"type\":\"value\",\"value\":0.8},\"bottom\":{\"type\":\"field\",\"field\":\"bottom\"},\"top\":{\"type\":\"field\",\"field\":\"top\"},\"line_alpha\":{\"type\":\"value\",\"value\":0.2},\"fill_color\":{\"type\":\"field\",\"field\":\"Variable\",\"transform\":{\"id\":\"p4133\"}},\"fill_alpha\":{\"type\":\"value\",\"value\":0.2},\"hatch_color\":{\"type\":\"field\",\"field\":\"Variable\",\"transform\":{\"id\":\"p4133\"}},\"hatch_alpha\":{\"type\":\"value\",\"value\":0.2}}}}}],\"toolbar\":{\"type\":\"object\",\"name\":\"Toolbar\",\"id\":\"p4100\",\"attributes\":{\"tools\":[{\"type\":\"object\",\"name\":\"HoverTool\",\"id\":\"p4091\",\"attributes\":{\"tags\":[\"hv_created\"],\"renderers\":[{\"id\":\"p4144\"}],\"tooltips\":[[\"Ano\",\"@{Ano}\"],[\"Variable\",\"@{Variable}\"],[\"value\",\"@{value}\"]]}},{\"type\":\"object\",\"name\":\"SaveTool\",\"id\":\"p4119\"},{\"type\":\"object\",\"name\":\"PanTool\",\"id\":\"p4120\"},{\"type\":\"object\",\"name\":\"WheelZoomTool\",\"id\":\"p4121\"},{\"type\":\"object\",\"name\":\"BoxZoomTool\",\"id\":\"p4122\",\"attributes\":{\"overlay\":{\"type\":\"object\",\"name\":\"BoxAnnotation\",\"id\":\"p4123\",\"attributes\":{\"syncable\":false,\"level\":\"overlay\",\"visible\":false,\"left_units\":\"canvas\",\"right_units\":\"canvas\",\"bottom_units\":\"canvas\",\"top_units\":\"canvas\",\"line_color\":\"black\",\"line_alpha\":1.0,\"line_width\":2,\"line_dash\":[4,4],\"fill_color\":\"lightgrey\",\"fill_alpha\":0.5}}}},{\"type\":\"object\",\"name\":\"ResetTool\",\"id\":\"p4124\"}],\"active_drag\":{\"id\":\"p4120\"},\"active_scroll\":{\"id\":\"p4121\"}}},\"left\":[{\"type\":\"object\",\"name\":\"LinearAxis\",\"id\":\"p4112\",\"attributes\":{\"ticker\":{\"type\":\"object\",\"name\":\"BasicTicker\",\"id\":\"p4114\",\"attributes\":{\"desired_num_ticks\":22,\"mantissas\":[1,2,5]}},\"formatter\":{\"type\":\"object\",\"name\":\"BasicTickFormatter\",\"id\":\"p4113\"},\"axis_label\":\"taxa de crescimento anual, %\",\"axis_label_text_font_size\":\"8pt\",\"major_label_policy\":{\"type\":\"object\",\"name\":\"AllLabels\",\"id\":\"p4115\"},\"major_label_text_font_size\":\"8pt\"}}],\"below\":[{\"type\":\"object\",\"name\":\"CategoricalAxis\",\"id\":\"p4106\",\"attributes\":{\"ticker\":{\"type\":\"object\",\"name\":\"CategoricalTicker\",\"id\":\"p4108\"},\"formatter\":{\"type\":\"object\",\"name\":\"CategoricalTickFormatter\",\"id\":\"p4107\"},\"axis_label\":\"\",\"axis_label_text_font_size\":\"8pt\",\"major_label_orientation\":0.7853981633974483,\"major_label_policy\":{\"type\":\"object\",\"name\":\"AllLabels\",\"id\":\"p4109\"},\"major_label_text_font_size\":\"8pt\",\"group_text_font_size\":\"8pt\"}},{\"type\":\"object\",\"name\":\"Legend\",\"id\":\"p4147\",\"attributes\":{\"location\":[0,0],\"orientation\":\"horizontal\",\"items\":[{\"type\":\"object\",\"name\":\"LegendItem\",\"id\":\"p4148\",\"attributes\":{\"label\":{\"type\":\"field\",\"field\":\"Variable\"},\"renderers\":[{\"id\":\"p4144\"}]}}]}}],\"center\":[{\"type\":\"object\",\"name\":\"Grid\",\"id\":\"p4111\",\"attributes\":{\"axis\":{\"id\":\"p4106\"},\"grid_line_color\":null}},{\"type\":\"object\",\"name\":\"Grid\",\"id\":\"p4118\",\"attributes\":{\"dimension\":1,\"axis\":{\"id\":\"p4112\"},\"grid_line_color\":null}},{\"id\":\"p4147\"}],\"min_border_top\":10,\"min_border_bottom\":10,\"min_border_left\":10,\"min_border_right\":10,\"output_backend\":\"webgl\"}},{\"type\":\"object\",\"name\":\"Spacer\",\"id\":\"p4176\",\"attributes\":{\"name\":\"HSpacer06547\",\"stylesheets\":[\"\\n:host(.pn-loading.pn-arc):before, .pn-loading.pn-arc:before {\\n  background-image: url(\\\"data:image/svg+xml;base64,PHN2ZyB4bWxucz0iaHR0cDovL3d3dy53My5vcmcvMjAwMC9zdmciIHN0eWxlPSJtYXJnaW46IGF1dG87IGJhY2tncm91bmQ6IG5vbmU7IGRpc3BsYXk6IGJsb2NrOyBzaGFwZS1yZW5kZXJpbmc6IGF1dG87IiB2aWV3Qm94PSIwIDAgMTAwIDEwMCIgcHJlc2VydmVBc3BlY3RSYXRpbz0ieE1pZFlNaWQiPiAgPGNpcmNsZSBjeD0iNTAiIGN5PSI1MCIgZmlsbD0ibm9uZSIgc3Ryb2tlPSIjYzNjM2MzIiBzdHJva2Utd2lkdGg9IjEwIiByPSIzNSIgc3Ryb2tlLWRhc2hhcnJheT0iMTY0LjkzMzYxNDMxMzQ2NDE1IDU2Ljk3Nzg3MTQzNzgyMTM4Ij4gICAgPGFuaW1hdGVUcmFuc2Zvcm0gYXR0cmlidXRlTmFtZT0idHJhbnNmb3JtIiB0eXBlPSJyb3RhdGUiIHJlcGVhdENvdW50PSJpbmRlZmluaXRlIiBkdXI9IjFzIiB2YWx1ZXM9IjAgNTAgNTA7MzYwIDUwIDUwIiBrZXlUaW1lcz0iMDsxIj48L2FuaW1hdGVUcmFuc2Zvcm0+ICA8L2NpcmNsZT48L3N2Zz4=\\\");\\n  background-size: auto calc(min(50%, 400px));\\n}\",{\"id\":\"p4085\"},{\"id\":\"p4083\"},{\"id\":\"p4084\"}],\"margin\":0,\"sizing_mode\":\"stretch_width\",\"align\":\"start\"}}]}}],\"callbacks\":{\"type\":\"map\"}}};\n",
       "  var render_items = [{\"docid\":\"709ade38-0758-4092-95b0-1a178d3a41ff\",\"roots\":{\"p4082\":\"b77a1e36-4397-49c9-8584-deec7ff6c63d\"},\"root_ids\":[\"p4082\"]}];\n",
       "  var docs = Object.values(docs_json)\n",
       "  if (!docs) {\n",
       "    return\n",
       "  }\n",
       "  const py_version = docs[0].version.replace('rc', '-rc.').replace('.dev', '-dev.')\n",
       "  const is_dev = py_version.indexOf(\"+\") !== -1 || py_version.indexOf(\"-\") !== -1\n",
       "  function embed_document(root) {\n",
       "    var Bokeh = get_bokeh(root)\n",
       "    Bokeh.embed.embed_items_notebook(docs_json, render_items);\n",
       "    for (const render_item of render_items) {\n",
       "      for (const root_id of render_item.root_ids) {\n",
       "\tconst id_el = document.getElementById(root_id)\n",
       "\tif (id_el.children.length && (id_el.children[0].className === 'bk-root')) {\n",
       "\t  const root_el = id_el.children[0]\n",
       "\t  root_el.id = root_el.id + '-rendered'\n",
       "\t}\n",
       "      }\n",
       "    }\n",
       "  }\n",
       "  function get_bokeh(root) {\n",
       "    if (root.Bokeh === undefined) {\n",
       "      return null\n",
       "    } else if (root.Bokeh.version !== py_version && !is_dev) {\n",
       "      if (root.Bokeh.versions === undefined || !root.Bokeh.versions.has(py_version)) {\n",
       "\treturn null\n",
       "      }\n",
       "      return root.Bokeh.versions.get(py_version);\n",
       "    } else if (root.Bokeh.version === py_version) {\n",
       "      return root.Bokeh\n",
       "    }\n",
       "    return null\n",
       "  }\n",
       "  function is_loaded(root) {\n",
       "    var Bokeh = get_bokeh(root)\n",
       "    return (Bokeh != null && Bokeh.Panel !== undefined)\n",
       "  }\n",
       "  if (is_loaded(root)) {\n",
       "    embed_document(root);\n",
       "  } else {\n",
       "    var attempts = 0;\n",
       "    var timer = setInterval(function(root) {\n",
       "      if (is_loaded(root)) {\n",
       "        clearInterval(timer);\n",
       "        embed_document(root);\n",
       "      } else if (document.readyState == \"complete\") {\n",
       "        attempts++;\n",
       "        if (attempts > 200) {\n",
       "          clearInterval(timer);\n",
       "\t  var Bokeh = get_bokeh(root)\n",
       "\t  if (Bokeh == null || Bokeh.Panel == null) {\n",
       "            console.warn(\"Panel: ERROR: Unable to run Panel code because Bokeh or Panel library is missing\");\n",
       "\t  } else {\n",
       "\t    console.warn(\"Panel: WARNING: Attempting to render but not all required libraries could be resolved.\")\n",
       "\t    embed_document(root)\n",
       "\t  }\n",
       "        }\n",
       "      }\n",
       "    }, 25, root)\n",
       "  }\n",
       "})(window);</script>"
      ],
      "text/plain": [
       ":Bars   [Ano,Variable]   (value)"
      ]
     },
     "execution_count": 51,
     "metadata": {
      "application/vnd.holoviews_exec.v0+json": {
       "id": "p4082"
      }
     },
     "output_type": "execute_result"
    }
   ],
   "source": [
    "produto"
   ]
  },
  {
   "cell_type": "code",
   "execution_count": 53,
   "metadata": {
    "slideshow": {
     "slide_type": "notes"
    }
   },
   "outputs": [],
   "source": [
    "p = pd.read_excel('br_pibpc_1996_2021.xlsx')\n",
    "\n",
    "pib_pc = p.hvplot.line('Ano', ['PIB per capita R$ índice'],\n",
    "                         height=430,\n",
    "                         width=680,\n",
    "                         rot=30,\n",
    "                         padding=0.05,\n",
    "                         group_label='Resultados',\n",
    "                         legend='bottom',\n",
    "                         cmap='Set1',\n",
    "                         xlabel='',\n",
    "                         ylabel='indice 2000 = 100',\n",
    "                         xlim=(1996, 2021),\n",
    "                         ylim=(90, 140),\n",
    "                         yformatter='%.0f',\n",
    "                         xticks=24,\n",
    "                         yticks=12,\n",
    "                         label='PIB per capita, Brasil, 1996-2021, em R$ constante, 2000=100)'\n",
    "                        ).opts(fontsize={'title': 11, 'labels': 8, 'xticks': 8, \n",
    "                                         'yticks': 8})"
   ]
  },
  {
   "cell_type": "code",
   "execution_count": 54,
   "metadata": {
    "slideshow": {
     "slide_type": "slide"
    }
   },
   "outputs": [
    {
     "data": {},
     "metadata": {},
     "output_type": "display_data"
    },
    {
     "data": {
      "application/vnd.holoviews_exec.v0+json": "",
      "text/html": [
       "<div id='p4235'>\n",
       "  <div id=\"f76d15d5-09b4-47c6-ab09-da0b385b5511\" data-root-id=\"p4235\" style=\"display: contents;\"></div>\n",
       "</div>\n",
       "<script type=\"application/javascript\">(function(root) {\n",
       "  var docs_json = {\"5be4b68e-6347-4e9e-b7ea-c60282c2b3f2\":{\"version\":\"3.1.1\",\"title\":\"Bokeh Application\",\"defs\":[{\"type\":\"model\",\"name\":\"ReactiveHTML1\"},{\"type\":\"model\",\"name\":\"FlexBox1\",\"properties\":[{\"name\":\"align_content\",\"kind\":\"Any\",\"default\":\"flex-start\"},{\"name\":\"align_items\",\"kind\":\"Any\",\"default\":\"flex-start\"},{\"name\":\"flex_direction\",\"kind\":\"Any\",\"default\":\"row\"},{\"name\":\"flex_wrap\",\"kind\":\"Any\",\"default\":\"wrap\"},{\"name\":\"justify_content\",\"kind\":\"Any\",\"default\":\"flex-start\"}]},{\"type\":\"model\",\"name\":\"FloatPanel1\",\"properties\":[{\"name\":\"config\",\"kind\":\"Any\",\"default\":{\"type\":\"map\"}},{\"name\":\"contained\",\"kind\":\"Any\",\"default\":true},{\"name\":\"position\",\"kind\":\"Any\",\"default\":\"right-top\"},{\"name\":\"offsetx\",\"kind\":\"Any\",\"default\":null},{\"name\":\"offsety\",\"kind\":\"Any\",\"default\":null},{\"name\":\"theme\",\"kind\":\"Any\",\"default\":\"primary\"},{\"name\":\"status\",\"kind\":\"Any\",\"default\":\"normalized\"}]},{\"type\":\"model\",\"name\":\"GridStack1\",\"properties\":[{\"name\":\"mode\",\"kind\":\"Any\",\"default\":\"warn\"},{\"name\":\"ncols\",\"kind\":\"Any\",\"default\":null},{\"name\":\"nrows\",\"kind\":\"Any\",\"default\":null},{\"name\":\"allow_resize\",\"kind\":\"Any\",\"default\":true},{\"name\":\"allow_drag\",\"kind\":\"Any\",\"default\":true},{\"name\":\"state\",\"kind\":\"Any\",\"default\":[]}]},{\"type\":\"model\",\"name\":\"drag1\",\"properties\":[{\"name\":\"slider_width\",\"kind\":\"Any\",\"default\":5},{\"name\":\"slider_color\",\"kind\":\"Any\",\"default\":\"black\"},{\"name\":\"value\",\"kind\":\"Any\",\"default\":50}]},{\"type\":\"model\",\"name\":\"click1\",\"properties\":[{\"name\":\"terminal_output\",\"kind\":\"Any\",\"default\":\"\"},{\"name\":\"debug_name\",\"kind\":\"Any\",\"default\":\"\"},{\"name\":\"clears\",\"kind\":\"Any\",\"default\":0}]},{\"type\":\"model\",\"name\":\"FastWrapper1\",\"properties\":[{\"name\":\"object\",\"kind\":\"Any\",\"default\":null},{\"name\":\"style\",\"kind\":\"Any\",\"default\":null}]},{\"type\":\"model\",\"name\":\"NotificationAreaBase1\",\"properties\":[{\"name\":\"js_events\",\"kind\":\"Any\",\"default\":{\"type\":\"map\"}},{\"name\":\"position\",\"kind\":\"Any\",\"default\":\"bottom-right\"},{\"name\":\"_clear\",\"kind\":\"Any\",\"default\":0}]},{\"type\":\"model\",\"name\":\"NotificationArea1\",\"properties\":[{\"name\":\"js_events\",\"kind\":\"Any\",\"default\":{\"type\":\"map\"}},{\"name\":\"notifications\",\"kind\":\"Any\",\"default\":[]},{\"name\":\"position\",\"kind\":\"Any\",\"default\":\"bottom-right\"},{\"name\":\"_clear\",\"kind\":\"Any\",\"default\":0},{\"name\":\"types\",\"kind\":\"Any\",\"default\":[{\"type\":\"map\",\"entries\":[[\"type\",\"warning\"],[\"background\",\"#ffc107\"],[\"icon\",{\"type\":\"map\",\"entries\":[[\"className\",\"fas fa-exclamation-triangle\"],[\"tagName\",\"i\"],[\"color\",\"white\"]]}]]},{\"type\":\"map\",\"entries\":[[\"type\",\"info\"],[\"background\",\"#007bff\"],[\"icon\",{\"type\":\"map\",\"entries\":[[\"className\",\"fas fa-info-circle\"],[\"tagName\",\"i\"],[\"color\",\"white\"]]}]]}]}]},{\"type\":\"model\",\"name\":\"Notification\",\"properties\":[{\"name\":\"background\",\"kind\":\"Any\",\"default\":null},{\"name\":\"duration\",\"kind\":\"Any\",\"default\":3000},{\"name\":\"icon\",\"kind\":\"Any\",\"default\":null},{\"name\":\"message\",\"kind\":\"Any\",\"default\":\"\"},{\"name\":\"notification_type\",\"kind\":\"Any\",\"default\":null},{\"name\":\"_destroyed\",\"kind\":\"Any\",\"default\":false}]},{\"type\":\"model\",\"name\":\"TemplateActions1\",\"properties\":[{\"name\":\"open_modal\",\"kind\":\"Any\",\"default\":0},{\"name\":\"close_modal\",\"kind\":\"Any\",\"default\":0}]},{\"type\":\"model\",\"name\":\"BootstrapTemplateActions1\",\"properties\":[{\"name\":\"open_modal\",\"kind\":\"Any\",\"default\":0},{\"name\":\"close_modal\",\"kind\":\"Any\",\"default\":0}]},{\"type\":\"model\",\"name\":\"MaterialTemplateActions1\",\"properties\":[{\"name\":\"open_modal\",\"kind\":\"Any\",\"default\":0},{\"name\":\"close_modal\",\"kind\":\"Any\",\"default\":0}]}],\"roots\":[{\"type\":\"object\",\"name\":\"Row\",\"id\":\"p4235\",\"attributes\":{\"name\":\"Row06816\",\"tags\":[\"embedded\"],\"stylesheets\":[\"\\n:host(.pn-loading.pn-arc):before, .pn-loading.pn-arc:before {\\n  background-image: url(\\\"data:image/svg+xml;base64,PHN2ZyB4bWxucz0iaHR0cDovL3d3dy53My5vcmcvMjAwMC9zdmciIHN0eWxlPSJtYXJnaW46IGF1dG87IGJhY2tncm91bmQ6IG5vbmU7IGRpc3BsYXk6IGJsb2NrOyBzaGFwZS1yZW5kZXJpbmc6IGF1dG87IiB2aWV3Qm94PSIwIDAgMTAwIDEwMCIgcHJlc2VydmVBc3BlY3RSYXRpbz0ieE1pZFlNaWQiPiAgPGNpcmNsZSBjeD0iNTAiIGN5PSI1MCIgZmlsbD0ibm9uZSIgc3Ryb2tlPSIjYzNjM2MzIiBzdHJva2Utd2lkdGg9IjEwIiByPSIzNSIgc3Ryb2tlLWRhc2hhcnJheT0iMTY0LjkzMzYxNDMxMzQ2NDE1IDU2Ljk3Nzg3MTQzNzgyMTM4Ij4gICAgPGFuaW1hdGVUcmFuc2Zvcm0gYXR0cmlidXRlTmFtZT0idHJhbnNmb3JtIiB0eXBlPSJyb3RhdGUiIHJlcGVhdENvdW50PSJpbmRlZmluaXRlIiBkdXI9IjFzIiB2YWx1ZXM9IjAgNTAgNTA7MzYwIDUwIDUwIiBrZXlUaW1lcz0iMDsxIj48L2FuaW1hdGVUcmFuc2Zvcm0+ICA8L2NpcmNsZT48L3N2Zz4=\\\");\\n  background-size: auto calc(min(50%, 400px));\\n}\",{\"type\":\"object\",\"name\":\"ImportedStyleSheet\",\"id\":\"p4238\",\"attributes\":{\"url\":\"https://cdn.holoviz.org/panel/1.2.3/dist/css/loading.css\"}},{\"type\":\"object\",\"name\":\"ImportedStyleSheet\",\"id\":\"p4333\",\"attributes\":{\"url\":\"https://cdn.holoviz.org/panel/1.2.3/dist/css/listpanel.css\"}},{\"type\":\"object\",\"name\":\"ImportedStyleSheet\",\"id\":\"p4236\",\"attributes\":{\"url\":\"https://cdn.holoviz.org/panel/1.2.3/dist/bundled/theme/default.css\"}},{\"type\":\"object\",\"name\":\"ImportedStyleSheet\",\"id\":\"p4237\",\"attributes\":{\"url\":\"https://cdn.holoviz.org/panel/1.2.3/dist/bundled/theme/native.css\"}}],\"min_width\":680,\"margin\":0,\"sizing_mode\":\"stretch_width\",\"align\":\"start\",\"children\":[{\"type\":\"object\",\"name\":\"Spacer\",\"id\":\"p4239\",\"attributes\":{\"name\":\"HSpacer06827\",\"stylesheets\":[\"\\n:host(.pn-loading.pn-arc):before, .pn-loading.pn-arc:before {\\n  background-image: url(\\\"data:image/svg+xml;base64,PHN2ZyB4bWxucz0iaHR0cDovL3d3dy53My5vcmcvMjAwMC9zdmciIHN0eWxlPSJtYXJnaW46IGF1dG87IGJhY2tncm91bmQ6IG5vbmU7IGRpc3BsYXk6IGJsb2NrOyBzaGFwZS1yZW5kZXJpbmc6IGF1dG87IiB2aWV3Qm94PSIwIDAgMTAwIDEwMCIgcHJlc2VydmVBc3BlY3RSYXRpbz0ieE1pZFlNaWQiPiAgPGNpcmNsZSBjeD0iNTAiIGN5PSI1MCIgZmlsbD0ibm9uZSIgc3Ryb2tlPSIjYzNjM2MzIiBzdHJva2Utd2lkdGg9IjEwIiByPSIzNSIgc3Ryb2tlLWRhc2hhcnJheT0iMTY0LjkzMzYxNDMxMzQ2NDE1IDU2Ljk3Nzg3MTQzNzgyMTM4Ij4gICAgPGFuaW1hdGVUcmFuc2Zvcm0gYXR0cmlidXRlTmFtZT0idHJhbnNmb3JtIiB0eXBlPSJyb3RhdGUiIHJlcGVhdENvdW50PSJpbmRlZmluaXRlIiBkdXI9IjFzIiB2YWx1ZXM9IjAgNTAgNTA7MzYwIDUwIDUwIiBrZXlUaW1lcz0iMDsxIj48L2FuaW1hdGVUcmFuc2Zvcm0+ICA8L2NpcmNsZT48L3N2Zz4=\\\");\\n  background-size: auto calc(min(50%, 400px));\\n}\",{\"id\":\"p4238\"},{\"id\":\"p4236\"},{\"id\":\"p4237\"}],\"margin\":0,\"sizing_mode\":\"stretch_width\",\"align\":\"start\"}},{\"type\":\"object\",\"name\":\"Figure\",\"id\":\"p4245\",\"attributes\":{\"width\":680,\"height\":430,\"margin\":[5,10],\"sizing_mode\":\"fixed\",\"align\":\"start\",\"x_range\":{\"type\":\"object\",\"name\":\"Range1d\",\"id\":\"p4240\",\"attributes\":{\"tags\":[[[\"Ano\",\"Ano\",null]],[]],\"start\":1996,\"end\":2021,\"reset_start\":1996,\"reset_end\":2021}},\"y_range\":{\"type\":\"object\",\"name\":\"Range1d\",\"id\":\"p4241\",\"attributes\":{\"tags\":[[[\"PIB per capita R$ \\u00edndice\",\"PIB per capita R$ \\u00edndice\",null]],{\"type\":\"map\",\"entries\":[[\"invert_yaxis\",false],[\"autorange\",false]]}],\"start\":90,\"end\":140,\"reset_start\":90,\"reset_end\":140}},\"x_scale\":{\"type\":\"object\",\"name\":\"LinearScale\",\"id\":\"p4257\"},\"y_scale\":{\"type\":\"object\",\"name\":\"LinearScale\",\"id\":\"p4258\"},\"title\":{\"type\":\"object\",\"name\":\"Title\",\"id\":\"p4248\",\"attributes\":{\"text\":\"PIB per capita, Brasil, 1996-2021, em R$ constante, 2000=100)\",\"text_color\":\"black\",\"text_font_size\":\"11pt\"}},\"renderers\":[{\"type\":\"object\",\"name\":\"GlyphRenderer\",\"id\":\"p4297\",\"attributes\":{\"data_source\":{\"type\":\"object\",\"name\":\"ColumnDataSource\",\"id\":\"p4287\",\"attributes\":{\"selected\":{\"type\":\"object\",\"name\":\"Selection\",\"id\":\"p4289\",\"attributes\":{\"indices\":[],\"line_indices\":[]}},\"selection_policy\":{\"type\":\"object\",\"name\":\"UnionRenderers\",\"id\":\"p4288\"},\"data\":{\"type\":\"map\",\"entries\":[[\"Ano\",{\"type\":\"ndarray\",\"array\":{\"type\":\"bytes\",\"data\":\"zAcAAM0HAADOBwAAzwcAANAHAADRBwAA0gcAANMHAADUBwAA1QcAANYHAADXBwAA2AcAANkHAADaBwAA2wcAANwHAADdBwAA3gcAAN8HAADgBwAA4QcAAOIHAADjBwAA5AcAAOUHAAA=\"},\"shape\":[26],\"dtype\":\"int32\",\"order\":\"little\"}],[\"PIB per capita R$ \\u00edndice\",{\"type\":\"ndarray\",\"array\":{\"type\":\"bytes\",\"data\":\"Pv1IcQdqWEAjW5jlZNpYQPt5VO3sjVhAstj5c89MWEAAAAAAAABZQKn1avv9/lhA+Ru3p8JtWUBO8ekGimdZQCF4usoEjVpABAsYmgwWW0CH5xfO/NhbQARalL6jOl1A41NlA6JmXkBz858HeA1eQJox5IiV/19A5lKoVXh9YEA0fDxDcqlgQMCuhayBBGFAUYZpjkX1YEA30rfNKDdgQDDnaziMHF9A67k1IJhFX0B7N3/mVJJfQG7U4r6ttF9AooswIJg+XkB2xCb68WhfQA==\"},\"shape\":[26],\"dtype\":\"float64\",\"order\":\"little\"}],[\"PIB_per_capita_R_\\u00edndice\",{\"type\":\"ndarray\",\"array\":{\"type\":\"bytes\",\"data\":\"Pv1IcQdqWEAjW5jlZNpYQPt5VO3sjVhAstj5c89MWEAAAAAAAABZQKn1avv9/lhA+Ru3p8JtWUBO8ekGimdZQCF4usoEjVpABAsYmgwWW0CH5xfO/NhbQARalL6jOl1A41NlA6JmXkBz858HeA1eQJox5IiV/19A5lKoVXh9YEA0fDxDcqlgQMCuhayBBGFAUYZpjkX1YEA30rfNKDdgQDDnaziMHF9A67k1IJhFX0B7N3/mVJJfQG7U4r6ttF9AooswIJg+XkB2xCb68WhfQA==\"},\"shape\":[26],\"dtype\":\"float64\",\"order\":\"little\"}]]}}},\"view\":{\"type\":\"object\",\"name\":\"CDSView\",\"id\":\"p4298\",\"attributes\":{\"filter\":{\"type\":\"object\",\"name\":\"AllIndices\",\"id\":\"p4299\"}}},\"glyph\":{\"type\":\"object\",\"name\":\"Line\",\"id\":\"p4294\",\"attributes\":{\"tags\":[\"apply_ranges\"],\"x\":{\"type\":\"field\",\"field\":\"Ano\"},\"y\":{\"type\":\"field\",\"field\":\"PIB per capita R$ \\u00edndice\"},\"line_color\":\"#30a2da\",\"line_width\":2}},\"selection_glyph\":{\"type\":\"object\",\"name\":\"Line\",\"id\":\"p4300\",\"attributes\":{\"tags\":[\"apply_ranges\"],\"x\":{\"type\":\"field\",\"field\":\"Ano\"},\"y\":{\"type\":\"field\",\"field\":\"PIB per capita R$ \\u00edndice\"},\"line_color\":\"#30a2da\",\"line_width\":2}},\"nonselection_glyph\":{\"type\":\"object\",\"name\":\"Line\",\"id\":\"p4295\",\"attributes\":{\"tags\":[\"apply_ranges\"],\"x\":{\"type\":\"field\",\"field\":\"Ano\"},\"y\":{\"type\":\"field\",\"field\":\"PIB per capita R$ \\u00edndice\"},\"line_color\":\"#30a2da\",\"line_alpha\":0.1,\"line_width\":2}},\"muted_glyph\":{\"type\":\"object\",\"name\":\"Line\",\"id\":\"p4296\",\"attributes\":{\"tags\":[\"apply_ranges\"],\"x\":{\"type\":\"field\",\"field\":\"Ano\"},\"y\":{\"type\":\"field\",\"field\":\"PIB per capita R$ \\u00edndice\"},\"line_color\":\"#30a2da\",\"line_alpha\":0.2,\"line_width\":2}}}}],\"toolbar\":{\"type\":\"object\",\"name\":\"Toolbar\",\"id\":\"p4253\",\"attributes\":{\"tools\":[{\"type\":\"object\",\"name\":\"HoverTool\",\"id\":\"p4244\",\"attributes\":{\"tags\":[\"hv_created\"],\"renderers\":[{\"id\":\"p4297\"}],\"tooltips\":[[\"Ano\",\"@{Ano}\"],[\"PIB per capita R$ \\u00edndice\",\"@{PIB_per_capita_R_\\u00edndice}\"]]}},{\"type\":\"object\",\"name\":\"SaveTool\",\"id\":\"p4273\"},{\"type\":\"object\",\"name\":\"PanTool\",\"id\":\"p4274\"},{\"type\":\"object\",\"name\":\"WheelZoomTool\",\"id\":\"p4275\"},{\"type\":\"object\",\"name\":\"BoxZoomTool\",\"id\":\"p4276\",\"attributes\":{\"overlay\":{\"type\":\"object\",\"name\":\"BoxAnnotation\",\"id\":\"p4277\",\"attributes\":{\"syncable\":false,\"level\":\"overlay\",\"visible\":false,\"left_units\":\"canvas\",\"right_units\":\"canvas\",\"bottom_units\":\"canvas\",\"top_units\":\"canvas\",\"line_color\":\"black\",\"line_alpha\":1.0,\"line_width\":2,\"line_dash\":[4,4],\"fill_color\":\"lightgrey\",\"fill_alpha\":0.5}}}},{\"type\":\"object\",\"name\":\"ResetTool\",\"id\":\"p4278\"}],\"active_drag\":{\"id\":\"p4274\"},\"active_scroll\":{\"id\":\"p4275\"}}},\"left\":[{\"type\":\"object\",\"name\":\"LinearAxis\",\"id\":\"p4266\",\"attributes\":{\"ticker\":{\"type\":\"object\",\"name\":\"BasicTicker\",\"id\":\"p4268\",\"attributes\":{\"desired_num_ticks\":12,\"mantissas\":[1,2,5]}},\"formatter\":{\"type\":\"object\",\"name\":\"PrintfTickFormatter\",\"id\":\"p4303\",\"attributes\":{\"format\":\"%.0f\"}},\"axis_label\":\"indice 2000 = 100\",\"axis_label_text_font_size\":\"8pt\",\"major_label_policy\":{\"type\":\"object\",\"name\":\"AllLabels\",\"id\":\"p4269\"},\"major_label_text_font_size\":\"8pt\"}}],\"below\":[{\"type\":\"object\",\"name\":\"LinearAxis\",\"id\":\"p4259\",\"attributes\":{\"ticker\":{\"type\":\"object\",\"name\":\"BasicTicker\",\"id\":\"p4261\",\"attributes\":{\"desired_num_ticks\":24,\"mantissas\":[1,2,5]}},\"formatter\":{\"type\":\"object\",\"name\":\"BasicTickFormatter\",\"id\":\"p4260\"},\"axis_label\":\"\",\"axis_label_text_font_size\":\"8pt\",\"major_label_orientation\":0.5235987755982988,\"major_label_policy\":{\"type\":\"object\",\"name\":\"AllLabels\",\"id\":\"p4262\"},\"major_label_text_font_size\":\"8pt\"}}],\"center\":[{\"type\":\"object\",\"name\":\"Grid\",\"id\":\"p4265\",\"attributes\":{\"axis\":{\"id\":\"p4259\"},\"grid_line_color\":null}},{\"type\":\"object\",\"name\":\"Grid\",\"id\":\"p4272\",\"attributes\":{\"dimension\":1,\"axis\":{\"id\":\"p4266\"},\"grid_line_color\":null}}],\"min_border_top\":10,\"min_border_bottom\":10,\"min_border_left\":10,\"min_border_right\":10,\"output_backend\":\"webgl\"}},{\"type\":\"object\",\"name\":\"Spacer\",\"id\":\"p4331\",\"attributes\":{\"name\":\"HSpacer06830\",\"stylesheets\":[\"\\n:host(.pn-loading.pn-arc):before, .pn-loading.pn-arc:before {\\n  background-image: url(\\\"data:image/svg+xml;base64,PHN2ZyB4bWxucz0iaHR0cDovL3d3dy53My5vcmcvMjAwMC9zdmciIHN0eWxlPSJtYXJnaW46IGF1dG87IGJhY2tncm91bmQ6IG5vbmU7IGRpc3BsYXk6IGJsb2NrOyBzaGFwZS1yZW5kZXJpbmc6IGF1dG87IiB2aWV3Qm94PSIwIDAgMTAwIDEwMCIgcHJlc2VydmVBc3BlY3RSYXRpbz0ieE1pZFlNaWQiPiAgPGNpcmNsZSBjeD0iNTAiIGN5PSI1MCIgZmlsbD0ibm9uZSIgc3Ryb2tlPSIjYzNjM2MzIiBzdHJva2Utd2lkdGg9IjEwIiByPSIzNSIgc3Ryb2tlLWRhc2hhcnJheT0iMTY0LjkzMzYxNDMxMzQ2NDE1IDU2Ljk3Nzg3MTQzNzgyMTM4Ij4gICAgPGFuaW1hdGVUcmFuc2Zvcm0gYXR0cmlidXRlTmFtZT0idHJhbnNmb3JtIiB0eXBlPSJyb3RhdGUiIHJlcGVhdENvdW50PSJpbmRlZmluaXRlIiBkdXI9IjFzIiB2YWx1ZXM9IjAgNTAgNTA7MzYwIDUwIDUwIiBrZXlUaW1lcz0iMDsxIj48L2FuaW1hdGVUcmFuc2Zvcm0+ICA8L2NpcmNsZT48L3N2Zz4=\\\");\\n  background-size: auto calc(min(50%, 400px));\\n}\",{\"id\":\"p4238\"},{\"id\":\"p4236\"},{\"id\":\"p4237\"}],\"margin\":0,\"sizing_mode\":\"stretch_width\",\"align\":\"start\"}}]}}],\"callbacks\":{\"type\":\"map\"}}};\n",
       "  var render_items = [{\"docid\":\"5be4b68e-6347-4e9e-b7ea-c60282c2b3f2\",\"roots\":{\"p4235\":\"f76d15d5-09b4-47c6-ab09-da0b385b5511\"},\"root_ids\":[\"p4235\"]}];\n",
       "  var docs = Object.values(docs_json)\n",
       "  if (!docs) {\n",
       "    return\n",
       "  }\n",
       "  const py_version = docs[0].version.replace('rc', '-rc.').replace('.dev', '-dev.')\n",
       "  const is_dev = py_version.indexOf(\"+\") !== -1 || py_version.indexOf(\"-\") !== -1\n",
       "  function embed_document(root) {\n",
       "    var Bokeh = get_bokeh(root)\n",
       "    Bokeh.embed.embed_items_notebook(docs_json, render_items);\n",
       "    for (const render_item of render_items) {\n",
       "      for (const root_id of render_item.root_ids) {\n",
       "\tconst id_el = document.getElementById(root_id)\n",
       "\tif (id_el.children.length && (id_el.children[0].className === 'bk-root')) {\n",
       "\t  const root_el = id_el.children[0]\n",
       "\t  root_el.id = root_el.id + '-rendered'\n",
       "\t}\n",
       "      }\n",
       "    }\n",
       "  }\n",
       "  function get_bokeh(root) {\n",
       "    if (root.Bokeh === undefined) {\n",
       "      return null\n",
       "    } else if (root.Bokeh.version !== py_version && !is_dev) {\n",
       "      if (root.Bokeh.versions === undefined || !root.Bokeh.versions.has(py_version)) {\n",
       "\treturn null\n",
       "      }\n",
       "      return root.Bokeh.versions.get(py_version);\n",
       "    } else if (root.Bokeh.version === py_version) {\n",
       "      return root.Bokeh\n",
       "    }\n",
       "    return null\n",
       "  }\n",
       "  function is_loaded(root) {\n",
       "    var Bokeh = get_bokeh(root)\n",
       "    return (Bokeh != null && Bokeh.Panel !== undefined)\n",
       "  }\n",
       "  if (is_loaded(root)) {\n",
       "    embed_document(root);\n",
       "  } else {\n",
       "    var attempts = 0;\n",
       "    var timer = setInterval(function(root) {\n",
       "      if (is_loaded(root)) {\n",
       "        clearInterval(timer);\n",
       "        embed_document(root);\n",
       "      } else if (document.readyState == \"complete\") {\n",
       "        attempts++;\n",
       "        if (attempts > 200) {\n",
       "          clearInterval(timer);\n",
       "\t  var Bokeh = get_bokeh(root)\n",
       "\t  if (Bokeh == null || Bokeh.Panel == null) {\n",
       "            console.warn(\"Panel: ERROR: Unable to run Panel code because Bokeh or Panel library is missing\");\n",
       "\t  } else {\n",
       "\t    console.warn(\"Panel: WARNING: Attempting to render but not all required libraries could be resolved.\")\n",
       "\t    embed_document(root)\n",
       "\t  }\n",
       "        }\n",
       "      }\n",
       "    }, 25, root)\n",
       "  }\n",
       "})(window);</script>"
      ],
      "text/plain": [
       ":Curve   [Ano]   (PIB per capita R$ índice)"
      ]
     },
     "execution_count": 54,
     "metadata": {
      "application/vnd.holoviews_exec.v0+json": {
       "id": "p4235"
      }
     },
     "output_type": "execute_result"
    }
   ],
   "source": [
    "pib_pc"
   ]
  }
 ],
 "metadata": {
  "celltoolbar": "Slideshow",
  "kernelspec": {
   "display_name": "Python 3 (ipykernel)",
   "language": "python",
   "name": "python3"
  },
  "language_info": {
   "codemirror_mode": {
    "name": "ipython",
    "version": 3
   },
   "file_extension": ".py",
   "mimetype": "text/x-python",
   "name": "python",
   "nbconvert_exporter": "python",
   "pygments_lexer": "ipython3",
   "version": "3.8.19"
  },
  "toc": {
   "base_numbering": 1,
   "nav_menu": {},
   "number_sections": false,
   "sideBar": true,
   "skip_h1_title": false,
   "title_cell": "Table of Contents",
   "title_sidebar": "Contents",
   "toc_cell": false,
   "toc_position": {},
   "toc_section_display": true,
   "toc_window_display": false
  }
 },
 "nbformat": 4,
 "nbformat_minor": 4
}
