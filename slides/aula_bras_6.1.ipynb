{
 "cells": [
  {
   "cell_type": "markdown",
   "metadata": {
    "slideshow": {
     "slide_type": "slide"
    }
   },
   "source": [
    "## <center>Economia Brasileira I - FEA-USP</center>\n",
    "\n",
    "### <center>Aula 6 -  Desaceleração e II PND (parte 1)</center>\n",
    "\n",
    "#### <center>Renato Perim Colistete</center>\n",
    "\n",
    "\n",
    "#### <center>2024</center>  "
   ]
  },
  {
   "cell_type": "markdown",
   "metadata": {
    "heading_collapsed": true,
    "slideshow": {
     "slide_type": "slide"
    }
   },
   "source": [
    "## Objetivos\n",
    "\n",
    "Estudaremos nesta aula a relação entre crescimento acelerado e endividamento nas décadas de 1960 e 1970.\n",
    "\n",
    "Inicialmente, revisaremos as características básicas dos empréstimos externos a partir da segunda metade da década de 1960.\n",
    "\n",
    "Em seguida, avaliaremos o endividamento externo ao lado de outras políticas econômicas, em uma perspectiva comparada com outros países da América Latina e Coreia. A pergunta central é: como esses países responderam aos choques de 1973 e 1979?"
   ]
  },
  {
   "cell_type": "markdown",
   "metadata": {
    "slideshow": {
     "slide_type": "slide"
    }
   },
   "source": [
    "## Endividamento na América Latina\n",
    "\n",
    "O endividamento externo na América Latina cresceu 8% na década de 1960 e 117% na década de 1970 em termos reais (Fishlow, 1981)."
   ]
  },
  {
   "cell_type": "markdown",
   "metadata": {
    "slideshow": {
     "slide_type": "fragment"
    }
   },
   "source": [
    "Entre 1956 e 1965, os investimentos diretos superaram os\n",
    "financiamentos; entre 1976 e 1980 os investimentos diretos somaram apenas\n",
    "20% do total dos financiamentos externos."
   ]
  },
  {
   "cell_type": "markdown",
   "metadata": {
    "slideshow": {
     "slide_type": "fragment"
    }
   },
   "source": [
    "A primeira onda de endividamento externo na América Latina ocorreu entre final da década de 1960 e 1973."
   ]
  },
  {
   "cell_type": "markdown",
   "metadata": {
    "slideshow": {
     "slide_type": "slide"
    }
   },
   "source": [
    "## Custos\n",
    "\n",
    "Diferenças dos custos dos empréstimos externos privados em relação aos oficiais:"
   ]
  },
  {
   "cell_type": "markdown",
   "metadata": {
    "slideshow": {
     "slide_type": "fragment"
    }
   },
   "source": [
    "- taxas de juros mais elevadas do que as oficiais e reajustadas duas vezes ao ano de acordo com a LIBOR ([London Inter-Bank Offer Rate](https://en.wikipedia.org/wiki/Libor));"
   ]
  },
  {
   "cell_type": "markdown",
   "metadata": {
    "slideshow": {
     "slide_type": "fragment"
    }
   },
   "source": [
    "- prazos menores: empréstimos oficiais tinham prazos médios de 20 (década de 1960) a 15 (década de 1970) anos. Os empréstimos privados variaram de 10 (auge do “milagre”) a 5 anos ou menos (crise)."
   ]
  },
  {
   "cell_type": "markdown",
   "metadata": {
    "slideshow": {
     "slide_type": "slide"
    }
   },
   "source": [
    "## Estratégias\n",
    "\n",
    "Diferentes estratégias diante do baixo dinamismo da Industrialização Substitutiva de Importações (ISI), após período de substituição “fácil” (até final de 1960): i) aumentar exportações de manufaturados ou ii) aprofundar ISI (Balassa, 1989)."
   ]
  },
  {
   "cell_type": "markdown",
   "metadata": {
    "slideshow": {
     "slide_type": "fragment"
    }
   },
   "source": [
    "Primeiro caso, *Coreia e Taiwan*: elevados benefícios para exportações de manufaturados, equilibrando incentivos para substituição de importações."
   ]
  },
  {
   "cell_type": "markdown",
   "metadata": {
    "editable": true,
    "slideshow": {
     "slide_type": "fragment"
    },
    "tags": []
   },
   "source": [
    "Segundo caso, *Argentina, Brasil e México*: aprofundamento da ISI, que por outro lado não compensou baixo desempenho das exportações, sendo acompanhado por crescente desequilíbrio externo."
   ]
  },
  {
   "cell_type": "markdown",
   "metadata": {
    "editable": true,
    "slideshow": {
     "slide_type": "subslide"
    },
    "tags": []
   },
   "source": [
    "Veja a seguir o desempenho das exportações, já como resultado das diferentes orientações desses países a partir de 1960."
   ]
  },
  {
   "cell_type": "markdown",
   "metadata": {
    "editable": true,
    "slideshow": {
     "slide_type": "subslide"
    },
    "tags": []
   },
   "source": [
    "### <center>Exportações de manufaturados per capita (US$)</center>\n",
    "\n",
    "<center><img src=\"al_paises_export_1970s.png\" width=\"650\" height=\"550\"></center>"
   ]
  },
  {
   "cell_type": "markdown",
   "metadata": {
    "slideshow": {
     "slide_type": "slide"
    }
   },
   "source": [
    "## Alternativas\n",
    "\n",
    "Outra questão relevante é: quais são, em geral, as alternativas de política econômica diante de choques externos? Seguindo Fishlow e Balassa, há quatro basicamente:"
   ]
  },
  {
   "cell_type": "markdown",
   "metadata": {
    "slideshow": {
     "slide_type": "fragment"
    }
   },
   "source": [
    "- políticas *deflacionárias*, com redução da absorção doméstica e das importações (elevada resistência interna);"
   ]
  },
  {
   "cell_type": "markdown",
   "metadata": {
    "slideshow": {
     "slide_type": "fragment"
    }
   },
   "source": [
    "- *promoção das exportações* (difícil, diante da retração de mercados externos e baixa competitividade);"
   ]
  },
  {
   "cell_type": "markdown",
   "metadata": {
    "slideshow": {
     "slide_type": "fragment"
    }
   },
   "source": [
    "- *substituição de importações* (menor resistência interna);"
   ]
  },
  {
   "cell_type": "markdown",
   "metadata": {
    "editable": true,
    "slideshow": {
     "slide_type": "subslide"
    },
    "tags": []
   },
   "source": [
    "- captação de *novos recursos externos* (menor resistência interna)."
   ]
  },
  {
   "cell_type": "markdown",
   "metadata": {
    "editable": true,
    "slideshow": {
     "slide_type": "slide"
    },
    "tags": []
   },
   "source": [
    "## Respostas\n",
    "\n",
    "Vejamos as respostas dos países selecionados da América Latina e Leste Asiático à crise de 1973, considerando essas alternativas. Primeiro, as definições:"
   ]
  },
  {
   "cell_type": "markdown",
   "metadata": {
    "editable": true,
    "slideshow": {
     "slide_type": "fragment"
    },
    "tags": []
   },
   "source": [
    "- Choques externos: a) efeito sobre o balanço de pagamentos dos termos de troca do país, principalmente preço do petróleo; b) efeito da redução do volume exportado, devido à recessão mundial;"
   ]
  },
  {
   "cell_type": "markdown",
   "metadata": {
    "editable": true,
    "slideshow": {
     "slide_type": "fragment"
    },
    "tags": []
   },
   "source": [
    "- financiamento externo adicional: medido pelo maior endividamento em relação à tendência anterior do país;"
   ]
  },
  {
   "cell_type": "markdown",
   "metadata": {
    "editable": true,
    "slideshow": {
     "slide_type": "slide"
    },
    "tags": []
   },
   "source": [
    "## Respostas\n",
    "\n",
    "- promoção de exportações: aumento da participação (%) nas exportações mundiais;"
   ]
  },
  {
   "cell_type": "markdown",
   "metadata": {
    "editable": true,
    "slideshow": {
     "slide_type": "fragment"
    },
    "tags": []
   },
   "source": [
    "- substituição de importações: diminuição da elasticidade-renda da demanda de importações;"
   ]
  },
  {
   "cell_type": "markdown",
   "metadata": {
    "editable": true,
    "slideshow": {
     "slide_type": "fragment"
    },
    "tags": []
   },
   "source": [
    "- políticas deflacionárias: redução na demanda de importações."
   ]
  },
  {
   "cell_type": "markdown",
   "metadata": {
    "editable": true,
    "slideshow": {
     "slide_type": "fragment"
    },
    "tags": []
   },
   "source": [
    "A seguir, os efeitos combinados das respostas aos choques externos."
   ]
  },
  {
   "cell_type": "markdown",
   "metadata": {
    "editable": true,
    "slideshow": {
     "slide_type": "subslide"
    },
    "tags": []
   },
   "source": [
    "#### <center>Estimativas de Balassa sobre os impactos do choque de 1973 e modelos de ajuste</center>\n",
    "\n",
    "<center><img src=\"al_paises_ajuste_1970s.png\" width=\"650\" height=\"450\"></center>"
   ]
  },
  {
   "cell_type": "markdown",
   "metadata": {
    "editable": true,
    "slideshow": {
     "slide_type": "slide"
    },
    "tags": []
   },
   "source": [
    "## Respostas ao choque de 1973\n",
    "\n",
    "As estimativas indicam que Coreia (10,5% do PIB) e Taiwan (7,2%) sofreram impacto bem maior do choque de 1973 do que Brasil (3,3%)."
   ]
  },
  {
   "cell_type": "markdown",
   "metadata": {
    "editable": true,
    "slideshow": {
     "slide_type": "fragment"
    },
    "tags": []
   },
   "source": [
    "*Coreia e Taiwan*: políticas deflacionárias para reduzir importações (mas não Coreia); menor captação de recursos externos; orientação para o mercado externo; substituição de importações."
   ]
  },
  {
   "cell_type": "markdown",
   "metadata": {
    "slideshow": {
     "slide_type": "fragment"
    }
   },
   "source": [
    "*Brasil*: políticas macro expansionistas e programa de substituição de importações; maior captação de recursos externos; aumento das exportações, embora relativamente menos importante do que o efeito da substituição de importações."
   ]
  },
  {
   "cell_type": "markdown",
   "metadata": {
    "editable": true,
    "slideshow": {
     "slide_type": "fragment"
    },
    "tags": []
   },
   "source": [
    "O mesmo exercício para a mudança da política dos juros do FED a partir de final de 1979, que levou a novo choque na economia internacional (agora acrescentando o efeito do aumento das taxas de juros aos choques externos):"
   ]
  },
  {
   "cell_type": "markdown",
   "metadata": {
    "editable": true,
    "slideshow": {
     "slide_type": "subslide"
    },
    "tags": []
   },
   "source": [
    "#### <center>Estimativas de Balassa sobre os impactos do choque de 1979 e modelos de ajuste</center>\n",
    "\n",
    "<center><img src=\"al_paises_ajuste_1980s.png\" width=\"650\" height=\"450\"></center>"
   ]
  },
  {
   "cell_type": "markdown",
   "metadata": {
    "slideshow": {
     "slide_type": "slide"
    }
   },
   "source": [
    "## Respostas ao choque de 1979\n",
    "\n",
    "Novamente Coreia (9,4% do PIB) e Taiwan (13,1%) sofreram impacto bem maior do choque de 1979 do que Brasil (2,5%)."
   ]
  },
  {
   "cell_type": "markdown",
   "metadata": {
    "slideshow": {
     "slide_type": "fragment"
    }
   },
   "source": [
    "*Coreia e Taiwan*: Taiwan seguiu a mesma política de 1973, mas Coreia baseou-se mais em políticas deflacionárias e substitutivas de importações."
   ]
  },
  {
   "cell_type": "markdown",
   "metadata": {
    "editable": true,
    "slideshow": {
     "slide_type": "fragment"
    },
    "tags": []
   },
   "source": [
    "*Brasil*: adotou políticas deflacionárias; diminuiu captação de recursos\n",
    "externos e aumentou exportações e substituição de importações."
   ]
  },
  {
   "cell_type": "markdown",
   "metadata": {
    "editable": true,
    "slideshow": {
     "slide_type": "slide"
    },
    "tags": []
   },
   "source": [
    "## Endividamento comparado\n",
    "\n",
    "Vejamos especificamente os resultados das respostas dos países em termos do financiamento externo adicional, ou seja, endividamento após 1973."
   ]
  },
  {
   "cell_type": "markdown",
   "metadata": {
    "editable": true,
    "slideshow": {
     "slide_type": "fragment"
    },
    "tags": []
   },
   "source": [
    "Podemos medir esses resultados por meio de dois indicadores: dívida externa/exportações e serviço da dívida externa/exportações."
   ]
  },
  {
   "cell_type": "markdown",
   "metadata": {
    "editable": true,
    "slideshow": {
     "slide_type": "fragment"
    },
    "tags": []
   },
   "source": [
    "Vejamos esses indicadores na tabela abaixo."
   ]
  },
  {
   "cell_type": "markdown",
   "metadata": {
    "editable": true,
    "jp-MarkdownHeadingCollapsed": true,
    "slideshow": {
     "slide_type": "subslide"
    },
    "tags": []
   },
   "source": [
    "### <center>Endividamento</center>\n",
    "\n",
    "<center><img src=\"al_balassa_external_debt_ratios.png\" width=\"650\" height=\"450\"></center>"
   ]
  },
  {
   "cell_type": "markdown",
   "metadata": {
    "editable": true,
    "slideshow": {
     "slide_type": "slide"
    },
    "tags": []
   },
   "source": [
    "## Consequências\n",
    "\n",
    "Estimativas de Fishlow mostram custos dos empréstimos relativamente reduzidos, até mesmo taxas negativas de juros nos anos 1970."
   ]
  },
  {
   "cell_type": "markdown",
   "metadata": {
    "editable": true,
    "slideshow": {
     "slide_type": "fragment"
    },
    "tags": []
   },
   "source": [
    "Endividamento não é em si um problema, pois sob certas condições pode pagar-se de forma consistente."
   ]
  },
  {
   "cell_type": "markdown",
   "metadata": {
    "editable": true,
    "slideshow": {
     "slide_type": "fragment"
    },
    "tags": []
   },
   "source": [
    "O problema é que os compromissos do endividamento são, em geral, de curto prazo e rígidos. "
   ]
  },
  {
   "cell_type": "markdown",
   "metadata": {
    "slideshow": {
     "slide_type": "subslide"
    }
   },
   "source": [
    "Lembrando, a capacidade de manter os fluxos de pagamento depende de:"
   ]
  },
  {
   "cell_type": "markdown",
   "metadata": {
    "editable": true,
    "slideshow": {
     "slide_type": "fragment"
    },
    "tags": []
   },
   "source": [
    "- saldo líquido das transações correntes (dependente sobretudo do saldo líquido  das exportações e do fluxo de pagamentos de juros e dividendos),"
   ]
  },
  {
   "cell_type": "markdown",
   "metadata": {
    "slideshow": {
     "slide_type": "fragment"
    }
   },
   "source": [
    "- saldo líquido da conta de capitais (dependente da entrada de financiamentos externos e investimentos diretos, saída de recursos via amortizações de empréstimos anteriores). "
   ]
  },
  {
   "cell_type": "markdown",
   "metadata": {
    "slideshow": {
     "slide_type": "slide"
    }
   },
   "source": [
    "## Debt-led growth?\n",
    "\n",
    "Fishlow argumenta que, entre 1967-1973, Brasil foi um caso de crescimento liderado por endividamento externo (*debt-led growth*)."
   ]
  },
  {
   "cell_type": "markdown",
   "metadata": {
    "slideshow": {
     "slide_type": "fragment"
    }
   },
   "source": [
    "Transações correntes saíram de superávit em 1965-66 para déficit de 2,3% do PIB em 1970-73."
   ]
  },
  {
   "cell_type": "markdown",
   "metadata": {
    "slideshow": {
     "slide_type": "fragment"
    }
   },
   "source": [
    "Em 1973, dívida externa alcançou 17% do PIB (10% em 1967). Segundo o autor, este seria um caso de *debt-led growth*, em vez de *export-led growth* - que estaria então sendo seguido por Coreia e Taiwan."
   ]
  },
  {
   "cell_type": "markdown",
   "metadata": {
    "slideshow": {
     "slide_type": "slide"
    }
   },
   "source": [
    "## Funcionalidade\n",
    "\n",
    "Funcionalidade do endividamento externo, segundo Fishlow: a) financiou altos níveis de importações; b) permitiu realizar investimentos sem redução do consumo."
   ]
  },
  {
   "cell_type": "markdown",
   "metadata": {
    "slideshow": {
     "slide_type": "fragment"
    }
   },
   "source": [
    "O período pós-1973, por sua vez, é definido por Fishlow (1981) como de “ajuste financiado por endividamento externo”."
   ]
  },
  {
   "cell_type": "markdown",
   "metadata": {
    "slideshow": {
     "slide_type": "fragment"
    }
   },
   "source": [
    "> “O ajustamento gradual financiado pelo endividamento externo era claramente uma alternativa atraente” (Fishlow, 1981)."
   ]
  },
  {
   "cell_type": "markdown",
   "metadata": {
    "slideshow": {
     "slide_type": "slide"
    }
   },
   "source": [
    "## Críticas\n",
    "\n",
    "Noção de *debt-led growth*, porém, não é consensual, sendo criticada por parte da literatura, como Lago (1990) e implicitamente por Cruz (1983)."
   ]
  },
  {
   "cell_type": "markdown",
   "metadata": {
    "slideshow": {
     "slide_type": "fragment"
    }
   },
   "source": [
    "Lago (1990) utiliza evidências similares às de Fishlow, mas enfatiza o fato de que a absorção líquida de recursos do exterior foi de apenas 0,8% do PIB entre 1967-1973, elevando-se para 1,2% entre 1970-73."
   ]
  },
  {
   "cell_type": "markdown",
   "metadata": {
    "slideshow": {
     "slide_type": "fragment"
    }
   },
   "source": [
    "Daí conclui que a Formação Bruta de Capital (FBKF) foi financiada majoritariamente por recursos internos, enquanto o endividamento levou ao acúmulo de reservas."
   ]
  },
  {
   "cell_type": "markdown",
   "metadata": {
    "slideshow": {
     "slide_type": "slide"
    }
   },
   "source": [
    "## Questões\n",
    "\n",
    "Analise as condições do financiamento externo nas décadas de 1960 e 1970. Em que medida essas condições se modificaram do ponto de vista dos países tomadores?\n",
    "\n",
    "Quais as principais diferenças das respostas ao choque de 1973 por parte de países da América Latina e do Leste Asiático? Qual o papel do endividamento externo nelas?\n",
    "\n",
    "Em que sentido é possível afirmar, como Fishlow, que “o ajustamento gradual financiado pelo endividamento externo era claramente uma alternativa atraente”?"
   ]
  }
 ],
 "metadata": {
  "celltoolbar": "Slideshow",
  "kernelspec": {
   "display_name": "Python 3 (ipykernel)",
   "language": "python",
   "name": "python3"
  },
  "language_info": {
   "codemirror_mode": {
    "name": "ipython",
    "version": 3
   },
   "file_extension": ".py",
   "mimetype": "text/x-python",
   "name": "python",
   "nbconvert_exporter": "python",
   "pygments_lexer": "ipython3",
   "version": "3.8.19"
  },
  "toc": {
   "base_numbering": 1,
   "nav_menu": {},
   "number_sections": false,
   "sideBar": true,
   "skip_h1_title": false,
   "title_cell": "Table of Contents",
   "title_sidebar": "Contents",
   "toc_cell": false,
   "toc_position": {},
   "toc_section_display": true,
   "toc_window_display": false
  }
 },
 "nbformat": 4,
 "nbformat_minor": 4
}
