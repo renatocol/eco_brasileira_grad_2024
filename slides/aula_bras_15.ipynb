{
 "cells": [
  {
   "cell_type": "markdown",
   "metadata": {
    "slideshow": {
     "slide_type": "slide"
    }
   },
   "source": [
    "## <center>Economia Brasileira - FEA-USP</center>\n",
    "\n",
    "### <center>Aula 15 - Distribuição de renda e bem-estar social</center>\n",
    "\n",
    "#### <center>Renato Perim Colistete</center>\n",
    "\n",
    "\n",
    "#### <center>2024</center>  "
   ]
  },
  {
   "cell_type": "markdown",
   "metadata": {
    "slideshow": {
     "slide_type": "slide"
    }
   },
   "source": [
    "## Objetivos\n",
    "\n",
    "Finalizando nosso curso, analisaremos sinteticamente a evolução de políticas e indicadores sociais o Brasil nas últimas décadas.\n",
    "\n",
    "Selecionamos três tópicos: primeiro, o comportamento do mercado de trabalho via rendimento médio do trabalho e pela taxa de desemprego.\n",
    "\n",
    "Segundo, as tendências da distribuição de renda e dos gastos sociais. Concluímos analisando o desempenho educacional do país."
   ]
  },
  {
   "cell_type": "markdown",
   "metadata": {
    "slideshow": {
     "slide_type": "slide"
    }
   },
   "source": [
    "## Rendimentos e emprego\n",
    "\n",
    "Como foi o desempenho econômico do país nas últimas décadas em termos de emprego e rendimentos? Inicialmente, ver abaixo duas séries com dados desde os anos 1980 abrangendo apenas São Paulo: "
   ]
  },
  {
   "cell_type": "markdown",
   "metadata": {
    "slideshow": {
     "slide_type": "fragment"
    }
   },
   "source": [
    "a) taxa de desemprego anual na Região Metropolitana de São Paulo entre 1985 e 2019. Essa série refere-se ao desemprego aberto (excluindo trabalho precário e desalento, isto é, quem não procurou trabalho nos últimos 30 dias)."
   ]
  },
  {
   "cell_type": "markdown",
   "metadata": {
    "slideshow": {
     "slide_type": "fragment"
    }
   },
   "source": [
    "b) rendimento médio real trimestral na Região Metropolitana de São Paulo de 1985 a 2019. A série refere-se ao rendimento do trabalho principal de todas as pessoas ocupadas (assalariadas e autônomas), com base 2000=100."
   ]
  },
  {
   "cell_type": "markdown",
   "metadata": {
    "slideshow": {
     "slide_type": "subslide"
    }
   },
   "source": [
    "Quais são as principais tendências observadas no período? Vejam os gráficos a seguir."
   ]
  },
  {
   "cell_type": "code",
   "execution_count": 11,
   "metadata": {
    "slideshow": {
     "slide_type": "notes"
    }
   },
   "outputs": [
    {
     "data": {
      "application/javascript": [
       "(function(root) {\n",
       "  function now() {\n",
       "    return new Date();\n",
       "  }\n",
       "\n",
       "  var force = true;\n",
       "  var py_version = '3.1.1'.replace('rc', '-rc.').replace('.dev', '-dev.');\n",
       "  var is_dev = py_version.indexOf(\"+\") !== -1 || py_version.indexOf(\"-\") !== -1;\n",
       "  var reloading = false;\n",
       "  var Bokeh = root.Bokeh;\n",
       "  var bokeh_loaded = Bokeh != null && (Bokeh.version === py_version || (Bokeh.versions !== undefined && Bokeh.versions.has(py_version)));\n",
       "\n",
       "  if (typeof (root._bokeh_timeout) === \"undefined\" || force) {\n",
       "    root._bokeh_timeout = Date.now() + 5000;\n",
       "    root._bokeh_failed_load = false;\n",
       "  }\n",
       "\n",
       "  function run_callbacks() {\n",
       "    try {\n",
       "      root._bokeh_onload_callbacks.forEach(function(callback) {\n",
       "        if (callback != null)\n",
       "          callback();\n",
       "      });\n",
       "    } finally {\n",
       "      delete root._bokeh_onload_callbacks;\n",
       "    }\n",
       "    console.debug(\"Bokeh: all callbacks have finished\");\n",
       "  }\n",
       "\n",
       "  function load_libs(css_urls, js_urls, js_modules, js_exports, callback) {\n",
       "    if (css_urls == null) css_urls = [];\n",
       "    if (js_urls == null) js_urls = [];\n",
       "    if (js_modules == null) js_modules = [];\n",
       "    if (js_exports == null) js_exports = {};\n",
       "\n",
       "    root._bokeh_onload_callbacks.push(callback);\n",
       "\n",
       "    if (root._bokeh_is_loading > 0) {\n",
       "      console.debug(\"Bokeh: BokehJS is being loaded, scheduling callback at\", now());\n",
       "      return null;\n",
       "    }\n",
       "    if (js_urls.length === 0 && js_modules.length === 0 && Object.keys(js_exports).length === 0) {\n",
       "      run_callbacks();\n",
       "      return null;\n",
       "    }\n",
       "    if (!reloading) {\n",
       "      console.debug(\"Bokeh: BokehJS not loaded, scheduling load and callback at\", now());\n",
       "    }\n",
       "\n",
       "    function on_load() {\n",
       "      root._bokeh_is_loading--;\n",
       "      if (root._bokeh_is_loading === 0) {\n",
       "        console.debug(\"Bokeh: all BokehJS libraries/stylesheets loaded\");\n",
       "        run_callbacks()\n",
       "      }\n",
       "    }\n",
       "    window._bokeh_on_load = on_load\n",
       "\n",
       "    function on_error() {\n",
       "      console.error(\"failed to load \" + url);\n",
       "    }\n",
       "\n",
       "    var skip = [];\n",
       "    if (window.requirejs) {\n",
       "      window.requirejs.config({'packages': {}, 'paths': {'jspanel': 'https://cdn.jsdelivr.net/npm/jspanel4@4.12.0/dist/jspanel', 'jspanel-modal': 'https://cdn.jsdelivr.net/npm/jspanel4@4.12.0/dist/extensions/modal/jspanel.modal', 'jspanel-tooltip': 'https://cdn.jsdelivr.net/npm/jspanel4@4.12.0/dist/extensions/tooltip/jspanel.tooltip', 'jspanel-hint': 'https://cdn.jsdelivr.net/npm/jspanel4@4.12.0/dist/extensions/hint/jspanel.hint', 'jspanel-layout': 'https://cdn.jsdelivr.net/npm/jspanel4@4.12.0/dist/extensions/layout/jspanel.layout', 'jspanel-contextmenu': 'https://cdn.jsdelivr.net/npm/jspanel4@4.12.0/dist/extensions/contextmenu/jspanel.contextmenu', 'jspanel-dock': 'https://cdn.jsdelivr.net/npm/jspanel4@4.12.0/dist/extensions/dock/jspanel.dock', 'gridstack': 'https://cdn.jsdelivr.net/npm/gridstack@7.2.3/dist/gridstack-all', 'notyf': 'https://cdn.jsdelivr.net/npm/notyf@3/notyf.min'}, 'shim': {'jspanel': {'exports': 'jsPanel'}, 'gridstack': {'exports': 'GridStack'}}});\n",
       "      require([\"jspanel\"], function(jsPanel) {\n",
       "\twindow.jsPanel = jsPanel\n",
       "\ton_load()\n",
       "      })\n",
       "      require([\"jspanel-modal\"], function() {\n",
       "\ton_load()\n",
       "      })\n",
       "      require([\"jspanel-tooltip\"], function() {\n",
       "\ton_load()\n",
       "      })\n",
       "      require([\"jspanel-hint\"], function() {\n",
       "\ton_load()\n",
       "      })\n",
       "      require([\"jspanel-layout\"], function() {\n",
       "\ton_load()\n",
       "      })\n",
       "      require([\"jspanel-contextmenu\"], function() {\n",
       "\ton_load()\n",
       "      })\n",
       "      require([\"jspanel-dock\"], function() {\n",
       "\ton_load()\n",
       "      })\n",
       "      require([\"gridstack\"], function(GridStack) {\n",
       "\twindow.GridStack = GridStack\n",
       "\ton_load()\n",
       "      })\n",
       "      require([\"notyf\"], function() {\n",
       "\ton_load()\n",
       "      })\n",
       "      root._bokeh_is_loading = css_urls.length + 9;\n",
       "    } else {\n",
       "      root._bokeh_is_loading = css_urls.length + js_urls.length + js_modules.length + Object.keys(js_exports).length;\n",
       "    }\n",
       "\n",
       "    var existing_stylesheets = []\n",
       "    var links = document.getElementsByTagName('link')\n",
       "    for (var i = 0; i < links.length; i++) {\n",
       "      var link = links[i]\n",
       "      if (link.href != null) {\n",
       "\texisting_stylesheets.push(link.href)\n",
       "      }\n",
       "    }\n",
       "    for (var i = 0; i < css_urls.length; i++) {\n",
       "      var url = css_urls[i];\n",
       "      if (existing_stylesheets.indexOf(url) !== -1) {\n",
       "\ton_load()\n",
       "\tcontinue;\n",
       "      }\n",
       "      const element = document.createElement(\"link\");\n",
       "      element.onload = on_load;\n",
       "      element.onerror = on_error;\n",
       "      element.rel = \"stylesheet\";\n",
       "      element.type = \"text/css\";\n",
       "      element.href = url;\n",
       "      console.debug(\"Bokeh: injecting link tag for BokehJS stylesheet: \", url);\n",
       "      document.body.appendChild(element);\n",
       "    }    if (((window['jsPanel'] !== undefined) && (!(window['jsPanel'] instanceof HTMLElement))) || window.requirejs) {\n",
       "      var urls = ['https://cdn.holoviz.org/panel/1.2.3/dist/bundled/floatpanel/jspanel4@4.12.0/dist/jspanel.js', 'https://cdn.holoviz.org/panel/1.2.3/dist/bundled/floatpanel/jspanel4@4.12.0/dist/extensions/modal/jspanel.modal.js', 'https://cdn.holoviz.org/panel/1.2.3/dist/bundled/floatpanel/jspanel4@4.12.0/dist/extensions/tooltip/jspanel.tooltip.js', 'https://cdn.holoviz.org/panel/1.2.3/dist/bundled/floatpanel/jspanel4@4.12.0/dist/extensions/hint/jspanel.hint.js', 'https://cdn.holoviz.org/panel/1.2.3/dist/bundled/floatpanel/jspanel4@4.12.0/dist/extensions/layout/jspanel.layout.js', 'https://cdn.holoviz.org/panel/1.2.3/dist/bundled/floatpanel/jspanel4@4.12.0/dist/extensions/contextmenu/jspanel.contextmenu.js', 'https://cdn.holoviz.org/panel/1.2.3/dist/bundled/floatpanel/jspanel4@4.12.0/dist/extensions/dock/jspanel.dock.js'];\n",
       "      for (var i = 0; i < urls.length; i++) {\n",
       "        skip.push(urls[i])\n",
       "      }\n",
       "    }    if (((window['GridStack'] !== undefined) && (!(window['GridStack'] instanceof HTMLElement))) || window.requirejs) {\n",
       "      var urls = ['https://cdn.holoviz.org/panel/1.2.3/dist/bundled/gridstack/gridstack@7.2.3/dist/gridstack-all.js'];\n",
       "      for (var i = 0; i < urls.length; i++) {\n",
       "        skip.push(urls[i])\n",
       "      }\n",
       "    }    if (((window['Notyf'] !== undefined) && (!(window['Notyf'] instanceof HTMLElement))) || window.requirejs) {\n",
       "      var urls = ['https://cdn.holoviz.org/panel/1.2.3/dist/bundled/notificationarea/notyf@3/notyf.min.js'];\n",
       "      for (var i = 0; i < urls.length; i++) {\n",
       "        skip.push(urls[i])\n",
       "      }\n",
       "    }    var existing_scripts = []\n",
       "    var scripts = document.getElementsByTagName('script')\n",
       "    for (var i = 0; i < scripts.length; i++) {\n",
       "      var script = scripts[i]\n",
       "      if (script.src != null) {\n",
       "\texisting_scripts.push(script.src)\n",
       "      }\n",
       "    }\n",
       "    for (var i = 0; i < js_urls.length; i++) {\n",
       "      var url = js_urls[i];\n",
       "      if (skip.indexOf(url) !== -1 || existing_scripts.indexOf(url) !== -1) {\n",
       "\tif (!window.requirejs) {\n",
       "\t  on_load();\n",
       "\t}\n",
       "\tcontinue;\n",
       "      }\n",
       "      var element = document.createElement('script');\n",
       "      element.onload = on_load;\n",
       "      element.onerror = on_error;\n",
       "      element.async = false;\n",
       "      element.src = url;\n",
       "      console.debug(\"Bokeh: injecting script tag for BokehJS library: \", url);\n",
       "      document.head.appendChild(element);\n",
       "    }\n",
       "    for (var i = 0; i < js_modules.length; i++) {\n",
       "      var url = js_modules[i];\n",
       "      if (skip.indexOf(url) !== -1 || existing_scripts.indexOf(url) !== -1) {\n",
       "\tif (!window.requirejs) {\n",
       "\t  on_load();\n",
       "\t}\n",
       "\tcontinue;\n",
       "      }\n",
       "      var element = document.createElement('script');\n",
       "      element.onload = on_load;\n",
       "      element.onerror = on_error;\n",
       "      element.async = false;\n",
       "      element.src = url;\n",
       "      element.type = \"module\";\n",
       "      console.debug(\"Bokeh: injecting script tag for BokehJS library: \", url);\n",
       "      document.head.appendChild(element);\n",
       "    }\n",
       "    for (const name in js_exports) {\n",
       "      var url = js_exports[name];\n",
       "      if (skip.indexOf(url) >= 0 || root[name] != null) {\n",
       "\tif (!window.requirejs) {\n",
       "\t  on_load();\n",
       "\t}\n",
       "\tcontinue;\n",
       "      }\n",
       "      var element = document.createElement('script');\n",
       "      element.onerror = on_error;\n",
       "      element.async = false;\n",
       "      element.type = \"module\";\n",
       "      console.debug(\"Bokeh: injecting script tag for BokehJS library: \", url);\n",
       "      element.textContent = `\n",
       "      import ${name} from \"${url}\"\n",
       "      window.${name} = ${name}\n",
       "      window._bokeh_on_load()\n",
       "      `\n",
       "      document.head.appendChild(element);\n",
       "    }\n",
       "    if (!js_urls.length && !js_modules.length) {\n",
       "      on_load()\n",
       "    }\n",
       "  };\n",
       "\n",
       "  function inject_raw_css(css) {\n",
       "    const element = document.createElement(\"style\");\n",
       "    element.appendChild(document.createTextNode(css));\n",
       "    document.body.appendChild(element);\n",
       "  }\n",
       "\n",
       "  var js_urls = [\"https://cdn.bokeh.org/bokeh/release/bokeh-3.1.1.min.js\", \"https://cdn.bokeh.org/bokeh/release/bokeh-gl-3.1.1.min.js\", \"https://cdn.bokeh.org/bokeh/release/bokeh-widgets-3.1.1.min.js\", \"https://cdn.bokeh.org/bokeh/release/bokeh-tables-3.1.1.min.js\", \"https://cdn.holoviz.org/panel/1.2.3/dist/panel.min.js\"];\n",
       "  var js_modules = [];\n",
       "  var js_exports = {};\n",
       "  var css_urls = [];\n",
       "  var inline_js = [    function(Bokeh) {\n",
       "      Bokeh.set_log_level(\"info\");\n",
       "    },\n",
       "function(Bokeh) {} // ensure no trailing comma for IE\n",
       "  ];\n",
       "\n",
       "  function run_inline_js() {\n",
       "    if ((root.Bokeh !== undefined) || (force === true)) {\n",
       "      for (var i = 0; i < inline_js.length; i++) {\n",
       "        inline_js[i].call(root, root.Bokeh);\n",
       "      }\n",
       "      // Cache old bokeh versions\n",
       "      if (Bokeh != undefined && !reloading) {\n",
       "\tvar NewBokeh = root.Bokeh;\n",
       "\tif (Bokeh.versions === undefined) {\n",
       "\t  Bokeh.versions = new Map();\n",
       "\t}\n",
       "\tif (NewBokeh.version !== Bokeh.version) {\n",
       "\t  Bokeh.versions.set(NewBokeh.version, NewBokeh)\n",
       "\t}\n",
       "\troot.Bokeh = Bokeh;\n",
       "      }} else if (Date.now() < root._bokeh_timeout) {\n",
       "      setTimeout(run_inline_js, 100);\n",
       "    } else if (!root._bokeh_failed_load) {\n",
       "      console.log(\"Bokeh: BokehJS failed to load within specified timeout.\");\n",
       "      root._bokeh_failed_load = true;\n",
       "    }\n",
       "    root._bokeh_is_initializing = false\n",
       "  }\n",
       "\n",
       "  function load_or_wait() {\n",
       "    // Implement a backoff loop that tries to ensure we do not load multiple\n",
       "    // versions of Bokeh and its dependencies at the same time.\n",
       "    // In recent versions we use the root._bokeh_is_initializing flag\n",
       "    // to determine whether there is an ongoing attempt to initialize\n",
       "    // bokeh, however for backward compatibility we also try to ensure\n",
       "    // that we do not start loading a newer (Panel>=1.0 and Bokeh>3) version\n",
       "    // before older versions are fully initialized.\n",
       "    if (root._bokeh_is_initializing && Date.now() > root._bokeh_timeout) {\n",
       "      root._bokeh_is_initializing = false;\n",
       "      root._bokeh_onload_callbacks = undefined;\n",
       "      console.log(\"Bokeh: BokehJS was loaded multiple times but one version failed to initialize.\");\n",
       "      load_or_wait();\n",
       "    } else if (root._bokeh_is_initializing || (typeof root._bokeh_is_initializing === \"undefined\" && root._bokeh_onload_callbacks !== undefined)) {\n",
       "      setTimeout(load_or_wait, 100);\n",
       "    } else {\n",
       "      Bokeh = root.Bokeh;\n",
       "      bokeh_loaded = Bokeh != null && (Bokeh.version === py_version || (Bokeh.versions !== undefined && Bokeh.versions.has(py_version)));\n",
       "      root._bokeh_is_initializing = true\n",
       "      root._bokeh_onload_callbacks = []\n",
       "      if (!reloading && (!bokeh_loaded || is_dev)) {\n",
       "\troot.Bokeh = undefined;\n",
       "      }\n",
       "      load_libs(css_urls, js_urls, js_modules, js_exports, function() {\n",
       "\tconsole.debug(\"Bokeh: BokehJS plotting callback run at\", now());\n",
       "\trun_inline_js();\n",
       "      });\n",
       "    }\n",
       "  }\n",
       "  // Give older versions of the autoload script a head-start to ensure\n",
       "  // they initialize before we start loading newer version.\n",
       "  setTimeout(load_or_wait, 100)\n",
       "}(window));"
      ],
      "application/vnd.holoviews_load.v0+json": "(function(root) {\n  function now() {\n    return new Date();\n  }\n\n  var force = true;\n  var py_version = '3.1.1'.replace('rc', '-rc.').replace('.dev', '-dev.');\n  var is_dev = py_version.indexOf(\"+\") !== -1 || py_version.indexOf(\"-\") !== -1;\n  var reloading = false;\n  var Bokeh = root.Bokeh;\n  var bokeh_loaded = Bokeh != null && (Bokeh.version === py_version || (Bokeh.versions !== undefined && Bokeh.versions.has(py_version)));\n\n  if (typeof (root._bokeh_timeout) === \"undefined\" || force) {\n    root._bokeh_timeout = Date.now() + 5000;\n    root._bokeh_failed_load = false;\n  }\n\n  function run_callbacks() {\n    try {\n      root._bokeh_onload_callbacks.forEach(function(callback) {\n        if (callback != null)\n          callback();\n      });\n    } finally {\n      delete root._bokeh_onload_callbacks;\n    }\n    console.debug(\"Bokeh: all callbacks have finished\");\n  }\n\n  function load_libs(css_urls, js_urls, js_modules, js_exports, callback) {\n    if (css_urls == null) css_urls = [];\n    if (js_urls == null) js_urls = [];\n    if (js_modules == null) js_modules = [];\n    if (js_exports == null) js_exports = {};\n\n    root._bokeh_onload_callbacks.push(callback);\n\n    if (root._bokeh_is_loading > 0) {\n      console.debug(\"Bokeh: BokehJS is being loaded, scheduling callback at\", now());\n      return null;\n    }\n    if (js_urls.length === 0 && js_modules.length === 0 && Object.keys(js_exports).length === 0) {\n      run_callbacks();\n      return null;\n    }\n    if (!reloading) {\n      console.debug(\"Bokeh: BokehJS not loaded, scheduling load and callback at\", now());\n    }\n\n    function on_load() {\n      root._bokeh_is_loading--;\n      if (root._bokeh_is_loading === 0) {\n        console.debug(\"Bokeh: all BokehJS libraries/stylesheets loaded\");\n        run_callbacks()\n      }\n    }\n    window._bokeh_on_load = on_load\n\n    function on_error() {\n      console.error(\"failed to load \" + url);\n    }\n\n    var skip = [];\n    if (window.requirejs) {\n      window.requirejs.config({'packages': {}, 'paths': {'jspanel': 'https://cdn.jsdelivr.net/npm/jspanel4@4.12.0/dist/jspanel', 'jspanel-modal': 'https://cdn.jsdelivr.net/npm/jspanel4@4.12.0/dist/extensions/modal/jspanel.modal', 'jspanel-tooltip': 'https://cdn.jsdelivr.net/npm/jspanel4@4.12.0/dist/extensions/tooltip/jspanel.tooltip', 'jspanel-hint': 'https://cdn.jsdelivr.net/npm/jspanel4@4.12.0/dist/extensions/hint/jspanel.hint', 'jspanel-layout': 'https://cdn.jsdelivr.net/npm/jspanel4@4.12.0/dist/extensions/layout/jspanel.layout', 'jspanel-contextmenu': 'https://cdn.jsdelivr.net/npm/jspanel4@4.12.0/dist/extensions/contextmenu/jspanel.contextmenu', 'jspanel-dock': 'https://cdn.jsdelivr.net/npm/jspanel4@4.12.0/dist/extensions/dock/jspanel.dock', 'gridstack': 'https://cdn.jsdelivr.net/npm/gridstack@7.2.3/dist/gridstack-all', 'notyf': 'https://cdn.jsdelivr.net/npm/notyf@3/notyf.min'}, 'shim': {'jspanel': {'exports': 'jsPanel'}, 'gridstack': {'exports': 'GridStack'}}});\n      require([\"jspanel\"], function(jsPanel) {\n\twindow.jsPanel = jsPanel\n\ton_load()\n      })\n      require([\"jspanel-modal\"], function() {\n\ton_load()\n      })\n      require([\"jspanel-tooltip\"], function() {\n\ton_load()\n      })\n      require([\"jspanel-hint\"], function() {\n\ton_load()\n      })\n      require([\"jspanel-layout\"], function() {\n\ton_load()\n      })\n      require([\"jspanel-contextmenu\"], function() {\n\ton_load()\n      })\n      require([\"jspanel-dock\"], function() {\n\ton_load()\n      })\n      require([\"gridstack\"], function(GridStack) {\n\twindow.GridStack = GridStack\n\ton_load()\n      })\n      require([\"notyf\"], function() {\n\ton_load()\n      })\n      root._bokeh_is_loading = css_urls.length + 9;\n    } else {\n      root._bokeh_is_loading = css_urls.length + js_urls.length + js_modules.length + Object.keys(js_exports).length;\n    }\n\n    var existing_stylesheets = []\n    var links = document.getElementsByTagName('link')\n    for (var i = 0; i < links.length; i++) {\n      var link = links[i]\n      if (link.href != null) {\n\texisting_stylesheets.push(link.href)\n      }\n    }\n    for (var i = 0; i < css_urls.length; i++) {\n      var url = css_urls[i];\n      if (existing_stylesheets.indexOf(url) !== -1) {\n\ton_load()\n\tcontinue;\n      }\n      const element = document.createElement(\"link\");\n      element.onload = on_load;\n      element.onerror = on_error;\n      element.rel = \"stylesheet\";\n      element.type = \"text/css\";\n      element.href = url;\n      console.debug(\"Bokeh: injecting link tag for BokehJS stylesheet: \", url);\n      document.body.appendChild(element);\n    }    if (((window['jsPanel'] !== undefined) && (!(window['jsPanel'] instanceof HTMLElement))) || window.requirejs) {\n      var urls = ['https://cdn.holoviz.org/panel/1.2.3/dist/bundled/floatpanel/jspanel4@4.12.0/dist/jspanel.js', 'https://cdn.holoviz.org/panel/1.2.3/dist/bundled/floatpanel/jspanel4@4.12.0/dist/extensions/modal/jspanel.modal.js', 'https://cdn.holoviz.org/panel/1.2.3/dist/bundled/floatpanel/jspanel4@4.12.0/dist/extensions/tooltip/jspanel.tooltip.js', 'https://cdn.holoviz.org/panel/1.2.3/dist/bundled/floatpanel/jspanel4@4.12.0/dist/extensions/hint/jspanel.hint.js', 'https://cdn.holoviz.org/panel/1.2.3/dist/bundled/floatpanel/jspanel4@4.12.0/dist/extensions/layout/jspanel.layout.js', 'https://cdn.holoviz.org/panel/1.2.3/dist/bundled/floatpanel/jspanel4@4.12.0/dist/extensions/contextmenu/jspanel.contextmenu.js', 'https://cdn.holoviz.org/panel/1.2.3/dist/bundled/floatpanel/jspanel4@4.12.0/dist/extensions/dock/jspanel.dock.js'];\n      for (var i = 0; i < urls.length; i++) {\n        skip.push(urls[i])\n      }\n    }    if (((window['GridStack'] !== undefined) && (!(window['GridStack'] instanceof HTMLElement))) || window.requirejs) {\n      var urls = ['https://cdn.holoviz.org/panel/1.2.3/dist/bundled/gridstack/gridstack@7.2.3/dist/gridstack-all.js'];\n      for (var i = 0; i < urls.length; i++) {\n        skip.push(urls[i])\n      }\n    }    if (((window['Notyf'] !== undefined) && (!(window['Notyf'] instanceof HTMLElement))) || window.requirejs) {\n      var urls = ['https://cdn.holoviz.org/panel/1.2.3/dist/bundled/notificationarea/notyf@3/notyf.min.js'];\n      for (var i = 0; i < urls.length; i++) {\n        skip.push(urls[i])\n      }\n    }    var existing_scripts = []\n    var scripts = document.getElementsByTagName('script')\n    for (var i = 0; i < scripts.length; i++) {\n      var script = scripts[i]\n      if (script.src != null) {\n\texisting_scripts.push(script.src)\n      }\n    }\n    for (var i = 0; i < js_urls.length; i++) {\n      var url = js_urls[i];\n      if (skip.indexOf(url) !== -1 || existing_scripts.indexOf(url) !== -1) {\n\tif (!window.requirejs) {\n\t  on_load();\n\t}\n\tcontinue;\n      }\n      var element = document.createElement('script');\n      element.onload = on_load;\n      element.onerror = on_error;\n      element.async = false;\n      element.src = url;\n      console.debug(\"Bokeh: injecting script tag for BokehJS library: \", url);\n      document.head.appendChild(element);\n    }\n    for (var i = 0; i < js_modules.length; i++) {\n      var url = js_modules[i];\n      if (skip.indexOf(url) !== -1 || existing_scripts.indexOf(url) !== -1) {\n\tif (!window.requirejs) {\n\t  on_load();\n\t}\n\tcontinue;\n      }\n      var element = document.createElement('script');\n      element.onload = on_load;\n      element.onerror = on_error;\n      element.async = false;\n      element.src = url;\n      element.type = \"module\";\n      console.debug(\"Bokeh: injecting script tag for BokehJS library: \", url);\n      document.head.appendChild(element);\n    }\n    for (const name in js_exports) {\n      var url = js_exports[name];\n      if (skip.indexOf(url) >= 0 || root[name] != null) {\n\tif (!window.requirejs) {\n\t  on_load();\n\t}\n\tcontinue;\n      }\n      var element = document.createElement('script');\n      element.onerror = on_error;\n      element.async = false;\n      element.type = \"module\";\n      console.debug(\"Bokeh: injecting script tag for BokehJS library: \", url);\n      element.textContent = `\n      import ${name} from \"${url}\"\n      window.${name} = ${name}\n      window._bokeh_on_load()\n      `\n      document.head.appendChild(element);\n    }\n    if (!js_urls.length && !js_modules.length) {\n      on_load()\n    }\n  };\n\n  function inject_raw_css(css) {\n    const element = document.createElement(\"style\");\n    element.appendChild(document.createTextNode(css));\n    document.body.appendChild(element);\n  }\n\n  var js_urls = [\"https://cdn.bokeh.org/bokeh/release/bokeh-3.1.1.min.js\", \"https://cdn.bokeh.org/bokeh/release/bokeh-gl-3.1.1.min.js\", \"https://cdn.bokeh.org/bokeh/release/bokeh-widgets-3.1.1.min.js\", \"https://cdn.bokeh.org/bokeh/release/bokeh-tables-3.1.1.min.js\", \"https://cdn.holoviz.org/panel/1.2.3/dist/panel.min.js\"];\n  var js_modules = [];\n  var js_exports = {};\n  var css_urls = [];\n  var inline_js = [    function(Bokeh) {\n      Bokeh.set_log_level(\"info\");\n    },\nfunction(Bokeh) {} // ensure no trailing comma for IE\n  ];\n\n  function run_inline_js() {\n    if ((root.Bokeh !== undefined) || (force === true)) {\n      for (var i = 0; i < inline_js.length; i++) {\n        inline_js[i].call(root, root.Bokeh);\n      }\n      // Cache old bokeh versions\n      if (Bokeh != undefined && !reloading) {\n\tvar NewBokeh = root.Bokeh;\n\tif (Bokeh.versions === undefined) {\n\t  Bokeh.versions = new Map();\n\t}\n\tif (NewBokeh.version !== Bokeh.version) {\n\t  Bokeh.versions.set(NewBokeh.version, NewBokeh)\n\t}\n\troot.Bokeh = Bokeh;\n      }} else if (Date.now() < root._bokeh_timeout) {\n      setTimeout(run_inline_js, 100);\n    } else if (!root._bokeh_failed_load) {\n      console.log(\"Bokeh: BokehJS failed to load within specified timeout.\");\n      root._bokeh_failed_load = true;\n    }\n    root._bokeh_is_initializing = false\n  }\n\n  function load_or_wait() {\n    // Implement a backoff loop that tries to ensure we do not load multiple\n    // versions of Bokeh and its dependencies at the same time.\n    // In recent versions we use the root._bokeh_is_initializing flag\n    // to determine whether there is an ongoing attempt to initialize\n    // bokeh, however for backward compatibility we also try to ensure\n    // that we do not start loading a newer (Panel>=1.0 and Bokeh>3) version\n    // before older versions are fully initialized.\n    if (root._bokeh_is_initializing && Date.now() > root._bokeh_timeout) {\n      root._bokeh_is_initializing = false;\n      root._bokeh_onload_callbacks = undefined;\n      console.log(\"Bokeh: BokehJS was loaded multiple times but one version failed to initialize.\");\n      load_or_wait();\n    } else if (root._bokeh_is_initializing || (typeof root._bokeh_is_initializing === \"undefined\" && root._bokeh_onload_callbacks !== undefined)) {\n      setTimeout(load_or_wait, 100);\n    } else {\n      Bokeh = root.Bokeh;\n      bokeh_loaded = Bokeh != null && (Bokeh.version === py_version || (Bokeh.versions !== undefined && Bokeh.versions.has(py_version)));\n      root._bokeh_is_initializing = true\n      root._bokeh_onload_callbacks = []\n      if (!reloading && (!bokeh_loaded || is_dev)) {\n\troot.Bokeh = undefined;\n      }\n      load_libs(css_urls, js_urls, js_modules, js_exports, function() {\n\tconsole.debug(\"Bokeh: BokehJS plotting callback run at\", now());\n\trun_inline_js();\n      });\n    }\n  }\n  // Give older versions of the autoload script a head-start to ensure\n  // they initialize before we start loading newer version.\n  setTimeout(load_or_wait, 100)\n}(window));"
     },
     "metadata": {},
     "output_type": "display_data"
    },
    {
     "data": {
      "application/javascript": [
       "\n",
       "if ((window.PyViz === undefined) || (window.PyViz instanceof HTMLElement)) {\n",
       "  window.PyViz = {comms: {}, comm_status:{}, kernels:{}, receivers: {}, plot_index: []}\n",
       "}\n",
       "\n",
       "\n",
       "    function JupyterCommManager() {\n",
       "    }\n",
       "\n",
       "    JupyterCommManager.prototype.register_target = function(plot_id, comm_id, msg_handler) {\n",
       "      if (window.comm_manager || ((window.Jupyter !== undefined) && (Jupyter.notebook.kernel != null))) {\n",
       "        var comm_manager = window.comm_manager || Jupyter.notebook.kernel.comm_manager;\n",
       "        comm_manager.register_target(comm_id, function(comm) {\n",
       "          comm.on_msg(msg_handler);\n",
       "        });\n",
       "      } else if ((plot_id in window.PyViz.kernels) && (window.PyViz.kernels[plot_id])) {\n",
       "        window.PyViz.kernels[plot_id].registerCommTarget(comm_id, function(comm) {\n",
       "          comm.onMsg = msg_handler;\n",
       "        });\n",
       "      } else if (typeof google != 'undefined' && google.colab.kernel != null) {\n",
       "        google.colab.kernel.comms.registerTarget(comm_id, (comm) => {\n",
       "          var messages = comm.messages[Symbol.asyncIterator]();\n",
       "          function processIteratorResult(result) {\n",
       "            var message = result.value;\n",
       "            console.log(message)\n",
       "            var content = {data: message.data, comm_id};\n",
       "            var buffers = []\n",
       "            for (var buffer of message.buffers || []) {\n",
       "              buffers.push(new DataView(buffer))\n",
       "            }\n",
       "            var metadata = message.metadata || {};\n",
       "            var msg = {content, buffers, metadata}\n",
       "            msg_handler(msg);\n",
       "            return messages.next().then(processIteratorResult);\n",
       "          }\n",
       "          return messages.next().then(processIteratorResult);\n",
       "        })\n",
       "      }\n",
       "    }\n",
       "\n",
       "    JupyterCommManager.prototype.get_client_comm = function(plot_id, comm_id, msg_handler) {\n",
       "      if (comm_id in window.PyViz.comms) {\n",
       "        return window.PyViz.comms[comm_id];\n",
       "      } else if (window.comm_manager || ((window.Jupyter !== undefined) && (Jupyter.notebook.kernel != null))) {\n",
       "        var comm_manager = window.comm_manager || Jupyter.notebook.kernel.comm_manager;\n",
       "        var comm = comm_manager.new_comm(comm_id, {}, {}, {}, comm_id);\n",
       "        if (msg_handler) {\n",
       "          comm.on_msg(msg_handler);\n",
       "        }\n",
       "      } else if ((plot_id in window.PyViz.kernels) && (window.PyViz.kernels[plot_id])) {\n",
       "        var comm = window.PyViz.kernels[plot_id].connectToComm(comm_id);\n",
       "        comm.open();\n",
       "        if (msg_handler) {\n",
       "          comm.onMsg = msg_handler;\n",
       "        }\n",
       "      } else if (typeof google != 'undefined' && google.colab.kernel != null) {\n",
       "        var comm_promise = google.colab.kernel.comms.open(comm_id)\n",
       "        comm_promise.then((comm) => {\n",
       "          window.PyViz.comms[comm_id] = comm;\n",
       "          if (msg_handler) {\n",
       "            var messages = comm.messages[Symbol.asyncIterator]();\n",
       "            function processIteratorResult(result) {\n",
       "              var message = result.value;\n",
       "              var content = {data: message.data};\n",
       "              var metadata = message.metadata || {comm_id};\n",
       "              var msg = {content, metadata}\n",
       "              msg_handler(msg);\n",
       "              return messages.next().then(processIteratorResult);\n",
       "            }\n",
       "            return messages.next().then(processIteratorResult);\n",
       "          }\n",
       "        }) \n",
       "        var sendClosure = (data, metadata, buffers, disposeOnDone) => {\n",
       "          return comm_promise.then((comm) => {\n",
       "            comm.send(data, metadata, buffers, disposeOnDone);\n",
       "          });\n",
       "        };\n",
       "        var comm = {\n",
       "          send: sendClosure\n",
       "        };\n",
       "      }\n",
       "      window.PyViz.comms[comm_id] = comm;\n",
       "      return comm;\n",
       "    }\n",
       "    window.PyViz.comm_manager = new JupyterCommManager();\n",
       "    \n",
       "\n",
       "\n",
       "var JS_MIME_TYPE = 'application/javascript';\n",
       "var HTML_MIME_TYPE = 'text/html';\n",
       "var EXEC_MIME_TYPE = 'application/vnd.holoviews_exec.v0+json';\n",
       "var CLASS_NAME = 'output';\n",
       "\n",
       "/**\n",
       " * Render data to the DOM node\n",
       " */\n",
       "function render(props, node) {\n",
       "  var div = document.createElement(\"div\");\n",
       "  var script = document.createElement(\"script\");\n",
       "  node.appendChild(div);\n",
       "  node.appendChild(script);\n",
       "}\n",
       "\n",
       "/**\n",
       " * Handle when a new output is added\n",
       " */\n",
       "function handle_add_output(event, handle) {\n",
       "  var output_area = handle.output_area;\n",
       "  var output = handle.output;\n",
       "  if ((output.data == undefined) || (!output.data.hasOwnProperty(EXEC_MIME_TYPE))) {\n",
       "    return\n",
       "  }\n",
       "  var id = output.metadata[EXEC_MIME_TYPE][\"id\"];\n",
       "  var toinsert = output_area.element.find(\".\" + CLASS_NAME.split(' ')[0]);\n",
       "  if (id !== undefined) {\n",
       "    var nchildren = toinsert.length;\n",
       "    var html_node = toinsert[nchildren-1].children[0];\n",
       "    html_node.innerHTML = output.data[HTML_MIME_TYPE];\n",
       "    var scripts = [];\n",
       "    var nodelist = html_node.querySelectorAll(\"script\");\n",
       "    for (var i in nodelist) {\n",
       "      if (nodelist.hasOwnProperty(i)) {\n",
       "        scripts.push(nodelist[i])\n",
       "      }\n",
       "    }\n",
       "\n",
       "    scripts.forEach( function (oldScript) {\n",
       "      var newScript = document.createElement(\"script\");\n",
       "      var attrs = [];\n",
       "      var nodemap = oldScript.attributes;\n",
       "      for (var j in nodemap) {\n",
       "        if (nodemap.hasOwnProperty(j)) {\n",
       "          attrs.push(nodemap[j])\n",
       "        }\n",
       "      }\n",
       "      attrs.forEach(function(attr) { newScript.setAttribute(attr.name, attr.value) });\n",
       "      newScript.appendChild(document.createTextNode(oldScript.innerHTML));\n",
       "      oldScript.parentNode.replaceChild(newScript, oldScript);\n",
       "    });\n",
       "    if (JS_MIME_TYPE in output.data) {\n",
       "      toinsert[nchildren-1].children[1].textContent = output.data[JS_MIME_TYPE];\n",
       "    }\n",
       "    output_area._hv_plot_id = id;\n",
       "    if ((window.Bokeh !== undefined) && (id in Bokeh.index)) {\n",
       "      window.PyViz.plot_index[id] = Bokeh.index[id];\n",
       "    } else {\n",
       "      window.PyViz.plot_index[id] = null;\n",
       "    }\n",
       "  } else if (output.metadata[EXEC_MIME_TYPE][\"server_id\"] !== undefined) {\n",
       "    var bk_div = document.createElement(\"div\");\n",
       "    bk_div.innerHTML = output.data[HTML_MIME_TYPE];\n",
       "    var script_attrs = bk_div.children[0].attributes;\n",
       "    for (var i = 0; i < script_attrs.length; i++) {\n",
       "      toinsert[toinsert.length - 1].childNodes[1].setAttribute(script_attrs[i].name, script_attrs[i].value);\n",
       "    }\n",
       "    // store reference to server id on output_area\n",
       "    output_area._bokeh_server_id = output.metadata[EXEC_MIME_TYPE][\"server_id\"];\n",
       "  }\n",
       "}\n",
       "\n",
       "/**\n",
       " * Handle when an output is cleared or removed\n",
       " */\n",
       "function handle_clear_output(event, handle) {\n",
       "  var id = handle.cell.output_area._hv_plot_id;\n",
       "  var server_id = handle.cell.output_area._bokeh_server_id;\n",
       "  if (((id === undefined) || !(id in PyViz.plot_index)) && (server_id !== undefined)) { return; }\n",
       "  var comm = window.PyViz.comm_manager.get_client_comm(\"hv-extension-comm\", \"hv-extension-comm\", function () {});\n",
       "  if (server_id !== null) {\n",
       "    comm.send({event_type: 'server_delete', 'id': server_id});\n",
       "    return;\n",
       "  } else if (comm !== null) {\n",
       "    comm.send({event_type: 'delete', 'id': id});\n",
       "  }\n",
       "  delete PyViz.plot_index[id];\n",
       "  if ((window.Bokeh !== undefined) & (id in window.Bokeh.index)) {\n",
       "    var doc = window.Bokeh.index[id].model.document\n",
       "    doc.clear();\n",
       "    const i = window.Bokeh.documents.indexOf(doc);\n",
       "    if (i > -1) {\n",
       "      window.Bokeh.documents.splice(i, 1);\n",
       "    }\n",
       "  }\n",
       "}\n",
       "\n",
       "/**\n",
       " * Handle kernel restart event\n",
       " */\n",
       "function handle_kernel_cleanup(event, handle) {\n",
       "  delete PyViz.comms[\"hv-extension-comm\"];\n",
       "  window.PyViz.plot_index = {}\n",
       "}\n",
       "\n",
       "/**\n",
       " * Handle update_display_data messages\n",
       " */\n",
       "function handle_update_output(event, handle) {\n",
       "  handle_clear_output(event, {cell: {output_area: handle.output_area}})\n",
       "  handle_add_output(event, handle)\n",
       "}\n",
       "\n",
       "function register_renderer(events, OutputArea) {\n",
       "  function append_mime(data, metadata, element) {\n",
       "    // create a DOM node to render to\n",
       "    var toinsert = this.create_output_subarea(\n",
       "    metadata,\n",
       "    CLASS_NAME,\n",
       "    EXEC_MIME_TYPE\n",
       "    );\n",
       "    this.keyboard_manager.register_events(toinsert);\n",
       "    // Render to node\n",
       "    var props = {data: data, metadata: metadata[EXEC_MIME_TYPE]};\n",
       "    render(props, toinsert[0]);\n",
       "    element.append(toinsert);\n",
       "    return toinsert\n",
       "  }\n",
       "\n",
       "  events.on('output_added.OutputArea', handle_add_output);\n",
       "  events.on('output_updated.OutputArea', handle_update_output);\n",
       "  events.on('clear_output.CodeCell', handle_clear_output);\n",
       "  events.on('delete.Cell', handle_clear_output);\n",
       "  events.on('kernel_ready.Kernel', handle_kernel_cleanup);\n",
       "\n",
       "  OutputArea.prototype.register_mime_type(EXEC_MIME_TYPE, append_mime, {\n",
       "    safe: true,\n",
       "    index: 0\n",
       "  });\n",
       "}\n",
       "\n",
       "if (window.Jupyter !== undefined) {\n",
       "  try {\n",
       "    var events = require('base/js/events');\n",
       "    var OutputArea = require('notebook/js/outputarea').OutputArea;\n",
       "    if (OutputArea.prototype.mime_types().indexOf(EXEC_MIME_TYPE) == -1) {\n",
       "      register_renderer(events, OutputArea);\n",
       "    }\n",
       "  } catch(err) {\n",
       "  }\n",
       "}\n"
      ],
      "application/vnd.holoviews_load.v0+json": "\nif ((window.PyViz === undefined) || (window.PyViz instanceof HTMLElement)) {\n  window.PyViz = {comms: {}, comm_status:{}, kernels:{}, receivers: {}, plot_index: []}\n}\n\n\n    function JupyterCommManager() {\n    }\n\n    JupyterCommManager.prototype.register_target = function(plot_id, comm_id, msg_handler) {\n      if (window.comm_manager || ((window.Jupyter !== undefined) && (Jupyter.notebook.kernel != null))) {\n        var comm_manager = window.comm_manager || Jupyter.notebook.kernel.comm_manager;\n        comm_manager.register_target(comm_id, function(comm) {\n          comm.on_msg(msg_handler);\n        });\n      } else if ((plot_id in window.PyViz.kernels) && (window.PyViz.kernels[plot_id])) {\n        window.PyViz.kernels[plot_id].registerCommTarget(comm_id, function(comm) {\n          comm.onMsg = msg_handler;\n        });\n      } else if (typeof google != 'undefined' && google.colab.kernel != null) {\n        google.colab.kernel.comms.registerTarget(comm_id, (comm) => {\n          var messages = comm.messages[Symbol.asyncIterator]();\n          function processIteratorResult(result) {\n            var message = result.value;\n            console.log(message)\n            var content = {data: message.data, comm_id};\n            var buffers = []\n            for (var buffer of message.buffers || []) {\n              buffers.push(new DataView(buffer))\n            }\n            var metadata = message.metadata || {};\n            var msg = {content, buffers, metadata}\n            msg_handler(msg);\n            return messages.next().then(processIteratorResult);\n          }\n          return messages.next().then(processIteratorResult);\n        })\n      }\n    }\n\n    JupyterCommManager.prototype.get_client_comm = function(plot_id, comm_id, msg_handler) {\n      if (comm_id in window.PyViz.comms) {\n        return window.PyViz.comms[comm_id];\n      } else if (window.comm_manager || ((window.Jupyter !== undefined) && (Jupyter.notebook.kernel != null))) {\n        var comm_manager = window.comm_manager || Jupyter.notebook.kernel.comm_manager;\n        var comm = comm_manager.new_comm(comm_id, {}, {}, {}, comm_id);\n        if (msg_handler) {\n          comm.on_msg(msg_handler);\n        }\n      } else if ((plot_id in window.PyViz.kernels) && (window.PyViz.kernels[plot_id])) {\n        var comm = window.PyViz.kernels[plot_id].connectToComm(comm_id);\n        comm.open();\n        if (msg_handler) {\n          comm.onMsg = msg_handler;\n        }\n      } else if (typeof google != 'undefined' && google.colab.kernel != null) {\n        var comm_promise = google.colab.kernel.comms.open(comm_id)\n        comm_promise.then((comm) => {\n          window.PyViz.comms[comm_id] = comm;\n          if (msg_handler) {\n            var messages = comm.messages[Symbol.asyncIterator]();\n            function processIteratorResult(result) {\n              var message = result.value;\n              var content = {data: message.data};\n              var metadata = message.metadata || {comm_id};\n              var msg = {content, metadata}\n              msg_handler(msg);\n              return messages.next().then(processIteratorResult);\n            }\n            return messages.next().then(processIteratorResult);\n          }\n        }) \n        var sendClosure = (data, metadata, buffers, disposeOnDone) => {\n          return comm_promise.then((comm) => {\n            comm.send(data, metadata, buffers, disposeOnDone);\n          });\n        };\n        var comm = {\n          send: sendClosure\n        };\n      }\n      window.PyViz.comms[comm_id] = comm;\n      return comm;\n    }\n    window.PyViz.comm_manager = new JupyterCommManager();\n    \n\n\nvar JS_MIME_TYPE = 'application/javascript';\nvar HTML_MIME_TYPE = 'text/html';\nvar EXEC_MIME_TYPE = 'application/vnd.holoviews_exec.v0+json';\nvar CLASS_NAME = 'output';\n\n/**\n * Render data to the DOM node\n */\nfunction render(props, node) {\n  var div = document.createElement(\"div\");\n  var script = document.createElement(\"script\");\n  node.appendChild(div);\n  node.appendChild(script);\n}\n\n/**\n * Handle when a new output is added\n */\nfunction handle_add_output(event, handle) {\n  var output_area = handle.output_area;\n  var output = handle.output;\n  if ((output.data == undefined) || (!output.data.hasOwnProperty(EXEC_MIME_TYPE))) {\n    return\n  }\n  var id = output.metadata[EXEC_MIME_TYPE][\"id\"];\n  var toinsert = output_area.element.find(\".\" + CLASS_NAME.split(' ')[0]);\n  if (id !== undefined) {\n    var nchildren = toinsert.length;\n    var html_node = toinsert[nchildren-1].children[0];\n    html_node.innerHTML = output.data[HTML_MIME_TYPE];\n    var scripts = [];\n    var nodelist = html_node.querySelectorAll(\"script\");\n    for (var i in nodelist) {\n      if (nodelist.hasOwnProperty(i)) {\n        scripts.push(nodelist[i])\n      }\n    }\n\n    scripts.forEach( function (oldScript) {\n      var newScript = document.createElement(\"script\");\n      var attrs = [];\n      var nodemap = oldScript.attributes;\n      for (var j in nodemap) {\n        if (nodemap.hasOwnProperty(j)) {\n          attrs.push(nodemap[j])\n        }\n      }\n      attrs.forEach(function(attr) { newScript.setAttribute(attr.name, attr.value) });\n      newScript.appendChild(document.createTextNode(oldScript.innerHTML));\n      oldScript.parentNode.replaceChild(newScript, oldScript);\n    });\n    if (JS_MIME_TYPE in output.data) {\n      toinsert[nchildren-1].children[1].textContent = output.data[JS_MIME_TYPE];\n    }\n    output_area._hv_plot_id = id;\n    if ((window.Bokeh !== undefined) && (id in Bokeh.index)) {\n      window.PyViz.plot_index[id] = Bokeh.index[id];\n    } else {\n      window.PyViz.plot_index[id] = null;\n    }\n  } else if (output.metadata[EXEC_MIME_TYPE][\"server_id\"] !== undefined) {\n    var bk_div = document.createElement(\"div\");\n    bk_div.innerHTML = output.data[HTML_MIME_TYPE];\n    var script_attrs = bk_div.children[0].attributes;\n    for (var i = 0; i < script_attrs.length; i++) {\n      toinsert[toinsert.length - 1].childNodes[1].setAttribute(script_attrs[i].name, script_attrs[i].value);\n    }\n    // store reference to server id on output_area\n    output_area._bokeh_server_id = output.metadata[EXEC_MIME_TYPE][\"server_id\"];\n  }\n}\n\n/**\n * Handle when an output is cleared or removed\n */\nfunction handle_clear_output(event, handle) {\n  var id = handle.cell.output_area._hv_plot_id;\n  var server_id = handle.cell.output_area._bokeh_server_id;\n  if (((id === undefined) || !(id in PyViz.plot_index)) && (server_id !== undefined)) { return; }\n  var comm = window.PyViz.comm_manager.get_client_comm(\"hv-extension-comm\", \"hv-extension-comm\", function () {});\n  if (server_id !== null) {\n    comm.send({event_type: 'server_delete', 'id': server_id});\n    return;\n  } else if (comm !== null) {\n    comm.send({event_type: 'delete', 'id': id});\n  }\n  delete PyViz.plot_index[id];\n  if ((window.Bokeh !== undefined) & (id in window.Bokeh.index)) {\n    var doc = window.Bokeh.index[id].model.document\n    doc.clear();\n    const i = window.Bokeh.documents.indexOf(doc);\n    if (i > -1) {\n      window.Bokeh.documents.splice(i, 1);\n    }\n  }\n}\n\n/**\n * Handle kernel restart event\n */\nfunction handle_kernel_cleanup(event, handle) {\n  delete PyViz.comms[\"hv-extension-comm\"];\n  window.PyViz.plot_index = {}\n}\n\n/**\n * Handle update_display_data messages\n */\nfunction handle_update_output(event, handle) {\n  handle_clear_output(event, {cell: {output_area: handle.output_area}})\n  handle_add_output(event, handle)\n}\n\nfunction register_renderer(events, OutputArea) {\n  function append_mime(data, metadata, element) {\n    // create a DOM node to render to\n    var toinsert = this.create_output_subarea(\n    metadata,\n    CLASS_NAME,\n    EXEC_MIME_TYPE\n    );\n    this.keyboard_manager.register_events(toinsert);\n    // Render to node\n    var props = {data: data, metadata: metadata[EXEC_MIME_TYPE]};\n    render(props, toinsert[0]);\n    element.append(toinsert);\n    return toinsert\n  }\n\n  events.on('output_added.OutputArea', handle_add_output);\n  events.on('output_updated.OutputArea', handle_update_output);\n  events.on('clear_output.CodeCell', handle_clear_output);\n  events.on('delete.Cell', handle_clear_output);\n  events.on('kernel_ready.Kernel', handle_kernel_cleanup);\n\n  OutputArea.prototype.register_mime_type(EXEC_MIME_TYPE, append_mime, {\n    safe: true,\n    index: 0\n  });\n}\n\nif (window.Jupyter !== undefined) {\n  try {\n    var events = require('base/js/events');\n    var OutputArea = require('notebook/js/outputarea').OutputArea;\n    if (OutputArea.prototype.mime_types().indexOf(EXEC_MIME_TYPE) == -1) {\n      register_renderer(events, OutputArea);\n    }\n  } catch(err) {\n  }\n}\n"
     },
     "metadata": {},
     "output_type": "display_data"
    },
    {
     "data": {
      "text/html": [
       "<style>*[data-root-id],\n",
       "*[data-root-id] > * {\n",
       "  box-sizing: border-box;\n",
       "  font-family: var(--jp-ui-font-family);\n",
       "  font-size: var(--jp-ui-font-size1);\n",
       "  color: var(--vscode-editor-foreground, var(--jp-ui-font-color1));\n",
       "}\n",
       "\n",
       "/* Override VSCode background color */\n",
       ".cell-output-ipywidget-background:has(\n",
       "    > .cell-output-ipywidget-background > .lm-Widget > *[data-root-id]\n",
       "  ),\n",
       ".cell-output-ipywidget-background:has(> .lm-Widget > *[data-root-id]) {\n",
       "  background-color: transparent !important;\n",
       "}\n",
       "</style>"
      ]
     },
     "metadata": {},
     "output_type": "display_data"
    }
   ],
   "source": [
    "import pandas as pd\n",
    "import numpy as np\n",
    "\n",
    "import holoviews as hv\n",
    "from holoviews import dim, opts\n",
    "import hvplot.pandas\n",
    "hvplot.extension('matplotlib')"
   ]
  },
  {
   "cell_type": "code",
   "execution_count": 12,
   "metadata": {
    "slideshow": {
     "slide_type": "notes"
    }
   },
   "outputs": [],
   "source": [
    "d = pd.read_excel('br_desemprego_rmsp_1985_2019.xlsx')\n",
    "\n",
    "desemprego = d.hvplot.line('ano', 'desemprego',\n",
    "                           height=550,\n",
    "                           width=1000,\n",
    "                           rot=30,\n",
    "                           padding=0.05,\n",
    "                           cmap='Set1',\n",
    "                           group_label='série',\n",
    "                           legend='top_left',\n",
    "                           xlabel='',\n",
    "                           ylabel='%',\n",
    "                           yformatter='%.1f',\n",
    "                           ylim=(0,16),\n",
    "                           yticks=18,\n",
    "                           xlim=(1984, 2020),\n",
    "                           xticks=22,\n",
    "                           label='Taxa média de desemprego, RMSP, 1985-2019 (anual, % da força de trabalho)'\n",
    "                          ).opts(fontsize={'title': 16, 'labels': 11, 'xticks': 11, 'yticks': 11})"
   ]
  },
  {
   "cell_type": "code",
   "execution_count": 13,
   "metadata": {
    "slideshow": {
     "slide_type": "slide"
    }
   },
   "outputs": [
    {
     "data": {
      "text/html": [
       "<img src='data:image/png;base64,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' style='max-width:100%; margin: auto; display: block; '/>"
      ],
      "text/plain": [
       ":Curve   [ano]   (desemprego)"
      ]
     },
     "execution_count": 13,
     "metadata": {
      "application/vnd.holoviews_exec.v0+json": {}
     },
     "output_type": "execute_result"
    }
   ],
   "source": [
    "desemprego"
   ]
  },
  {
   "cell_type": "code",
   "execution_count": 15,
   "metadata": {
    "slideshow": {
     "slide_type": "notes"
    }
   },
   "outputs": [],
   "source": [
    "r = pd.read_excel('br_rendimento_rmsp_1985_2019.xlsx')\n",
    "\n",
    "rendimento = r.hvplot.line('ano', 'rendimento real',\n",
    "                           height=550,\n",
    "                           width=850,\n",
    "                           rot=30,\n",
    "                           padding=0.05,\n",
    "                           cmap='Set1',\n",
    "                           group_label='série',\n",
    "                           legend='top_left',\n",
    "                           xlabel='',\n",
    "                           ylabel='2000=100',\n",
    "                           yformatter='%.1f',\n",
    "                           ylim=(50,200),\n",
    "                           yticks=18,\n",
    "                           xlim=(1984, 2020),\n",
    "                           xticks=18,\n",
    "                           label='Rendimento médio real, RMSP, 1985-2019 (trimestral, 2000=100)'\n",
    "                          ).opts(fontsize={'title': 16, 'labels': 11, 'xticks': 11, 'yticks': 11})"
   ]
  },
  {
   "cell_type": "code",
   "execution_count": 16,
   "metadata": {
    "slideshow": {
     "slide_type": "slide"
    }
   },
   "outputs": [
    {
     "data": {
      "text/html": [
       "<img src='data:image/png;base64,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' style='max-width:100%; margin: auto; display: block; '/>"
      ],
      "text/plain": [
       ":Curve   [ano]   (rendimento real)"
      ]
     },
     "execution_count": 16,
     "metadata": {
      "application/vnd.holoviews_exec.v0+json": {}
     },
     "output_type": "execute_result"
    }
   ],
   "source": [
    "rendimento"
   ]
  },
  {
   "cell_type": "markdown",
   "metadata": {
    "slideshow": {
     "slide_type": "slide"
    }
   },
   "source": [
    "## Desemprego e rendimentos, Brasil\n",
    "\n",
    "Agora para o conjunto do Brasil no período pós-2003, combinando duas séries do IBGE - dados de regiões metropolitanas do país e da PNAD."
   ]
  },
  {
   "cell_type": "markdown",
   "metadata": {
    "slideshow": {
     "slide_type": "fragment"
    }
   },
   "source": [
    "A taxa de desemprego aberto teve comportamento bem demarcado: contínuo declínio a partir de 2003 (12,3%) até 2014 (4,8%). Mas em 2015 o desemprego subiu para 6,9% na série com as regiões metropolitanas."
   ]
  },
  {
   "cell_type": "markdown",
   "metadata": {
    "slideshow": {
     "slide_type": "fragment"
    }
   },
   "source": [
    "Com dados da PNAD, o desemprego aberto cresceu rapidamente daí em diante: de 8,3% em 2015 chegou a 12,7% em 2017, diminuindo para 11,9% em 2019."
   ]
  },
  {
   "cell_type": "code",
   "execution_count": 17,
   "metadata": {
    "slideshow": {
     "slide_type": "notes"
    }
   },
   "outputs": [],
   "source": [
    "p = pd.read_excel('br_taxa_desemprego_br_anual.xlsx')\n",
    "\n",
    "desemprego = p.hvplot.line('Ano', ['região metropolitana', 'PNAD'],\n",
    "                           height=500,\n",
    "                           width=750,\n",
    "                           rot=30,\n",
    "                           padding=0.05,\n",
    "                           cmap='Set1',\n",
    "                           group_label='série',\n",
    "                           legend='top_left',\n",
    "                           xlabel='',\n",
    "                           ylabel='taxa de desemprego %',\n",
    "                           yformatter='%.1f',\n",
    "                           ylim=(0,16),\n",
    "                           yticks=30,\n",
    "                           xlim=(2000, 2020),\n",
    "                           xticks=24,\n",
    "                           label='Taxa de desemprego, Brasil, 2002-2019 (anual, em %)'\n",
    "                          ).opts(fontsize={'title': 11, 'labels': 8, 'xticks': 8, 'yticks': 8})"
   ]
  },
  {
   "cell_type": "code",
   "execution_count": 18,
   "metadata": {
    "slideshow": {
     "slide_type": "slide"
    }
   },
   "outputs": [
    {
     "data": {
      "text/html": [
       "<img src='data:image/png;base64,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' style='max-width:100%; margin: auto; display: block; '/>"
      ],
      "text/plain": [
       ":NdOverlay   [série]\n",
       "   :Curve   [Ano]   (value)"
      ]
     },
     "execution_count": 18,
     "metadata": {
      "application/vnd.holoviews_exec.v0+json": {}
     },
     "output_type": "execute_result"
    }
   ],
   "source": [
    "desemprego"
   ]
  },
  {
   "cell_type": "markdown",
   "metadata": {
    "slideshow": {
     "slide_type": "slide"
    }
   },
   "source": [
    "## Rendimentos médios, Brasil\n",
    "\n",
    "Os dados dos rendimentos do conjunto do Brasil apresentados na figura a seguir referem-se:"
   ]
  },
  {
   "cell_type": "markdown",
   "metadata": {
    "slideshow": {
     "slide_type": "fragment"
    }
   },
   "source": [
    " a) ao rendimento habitual real (rendimento mensal que exclui todas as parcelas sem caráter contínuo, como 13o salário, ou descontos, como faltas);"
   ]
  },
  {
   "cell_type": "markdown",
   "metadata": {
    "slideshow": {
     "slide_type": "fragment"
    }
   },
   "source": [
    "b) e ao rendimento efetivo real, ou seja, aquele de fato recebido, incluindo todos recebimentos sem caráter contínuo e deduzindo os descontos."
   ]
  },
  {
   "cell_type": "markdown",
   "metadata": {
    "slideshow": {
     "slide_type": "subslide"
    }
   },
   "source": [
    "O rendimento médio real do trabalho das pessoas ocupadas (maiores de 14 anos) cresceu continuamente a partir de 2005 até 2014. "
   ]
  },
  {
   "cell_type": "markdown",
   "metadata": {
    "slideshow": {
     "slide_type": "fragment"
    }
   },
   "source": [
    "A partir de 2015, houve declínio ou estagnação do rendimento médio."
   ]
  },
  {
   "cell_type": "code",
   "execution_count": 19,
   "metadata": {
    "slideshow": {
     "slide_type": "notes"
    }
   },
   "outputs": [
    {
     "data": {
      "application/javascript": [
       "(function(root) {\n",
       "  function now() {\n",
       "    return new Date();\n",
       "  }\n",
       "\n",
       "  var force = true;\n",
       "  var py_version = '3.1.1'.replace('rc', '-rc.').replace('.dev', '-dev.');\n",
       "  var is_dev = py_version.indexOf(\"+\") !== -1 || py_version.indexOf(\"-\") !== -1;\n",
       "  var reloading = false;\n",
       "  var Bokeh = root.Bokeh;\n",
       "  var bokeh_loaded = Bokeh != null && (Bokeh.version === py_version || (Bokeh.versions !== undefined && Bokeh.versions.has(py_version)));\n",
       "\n",
       "  if (typeof (root._bokeh_timeout) === \"undefined\" || force) {\n",
       "    root._bokeh_timeout = Date.now() + 5000;\n",
       "    root._bokeh_failed_load = false;\n",
       "  }\n",
       "\n",
       "  function run_callbacks() {\n",
       "    try {\n",
       "      root._bokeh_onload_callbacks.forEach(function(callback) {\n",
       "        if (callback != null)\n",
       "          callback();\n",
       "      });\n",
       "    } finally {\n",
       "      delete root._bokeh_onload_callbacks;\n",
       "    }\n",
       "    console.debug(\"Bokeh: all callbacks have finished\");\n",
       "  }\n",
       "\n",
       "  function load_libs(css_urls, js_urls, js_modules, js_exports, callback) {\n",
       "    if (css_urls == null) css_urls = [];\n",
       "    if (js_urls == null) js_urls = [];\n",
       "    if (js_modules == null) js_modules = [];\n",
       "    if (js_exports == null) js_exports = {};\n",
       "\n",
       "    root._bokeh_onload_callbacks.push(callback);\n",
       "\n",
       "    if (root._bokeh_is_loading > 0) {\n",
       "      console.debug(\"Bokeh: BokehJS is being loaded, scheduling callback at\", now());\n",
       "      return null;\n",
       "    }\n",
       "    if (js_urls.length === 0 && js_modules.length === 0 && Object.keys(js_exports).length === 0) {\n",
       "      run_callbacks();\n",
       "      return null;\n",
       "    }\n",
       "    if (!reloading) {\n",
       "      console.debug(\"Bokeh: BokehJS not loaded, scheduling load and callback at\", now());\n",
       "    }\n",
       "\n",
       "    function on_load() {\n",
       "      root._bokeh_is_loading--;\n",
       "      if (root._bokeh_is_loading === 0) {\n",
       "        console.debug(\"Bokeh: all BokehJS libraries/stylesheets loaded\");\n",
       "        run_callbacks()\n",
       "      }\n",
       "    }\n",
       "    window._bokeh_on_load = on_load\n",
       "\n",
       "    function on_error() {\n",
       "      console.error(\"failed to load \" + url);\n",
       "    }\n",
       "\n",
       "    var skip = [];\n",
       "    if (window.requirejs) {\n",
       "      window.requirejs.config({'packages': {}, 'paths': {'plotly': 'https://cdn.plot.ly/plotly-2.18.0.min', 'jspanel': 'https://cdn.jsdelivr.net/npm/jspanel4@4.12.0/dist/jspanel', 'jspanel-modal': 'https://cdn.jsdelivr.net/npm/jspanel4@4.12.0/dist/extensions/modal/jspanel.modal', 'jspanel-tooltip': 'https://cdn.jsdelivr.net/npm/jspanel4@4.12.0/dist/extensions/tooltip/jspanel.tooltip', 'jspanel-hint': 'https://cdn.jsdelivr.net/npm/jspanel4@4.12.0/dist/extensions/hint/jspanel.hint', 'jspanel-layout': 'https://cdn.jsdelivr.net/npm/jspanel4@4.12.0/dist/extensions/layout/jspanel.layout', 'jspanel-contextmenu': 'https://cdn.jsdelivr.net/npm/jspanel4@4.12.0/dist/extensions/contextmenu/jspanel.contextmenu', 'jspanel-dock': 'https://cdn.jsdelivr.net/npm/jspanel4@4.12.0/dist/extensions/dock/jspanel.dock', 'gridstack': 'https://cdn.jsdelivr.net/npm/gridstack@7.2.3/dist/gridstack-all', 'notyf': 'https://cdn.jsdelivr.net/npm/notyf@3/notyf.min'}, 'shim': {'jspanel': {'exports': 'jsPanel'}, 'gridstack': {'exports': 'GridStack'}}});\n",
       "      require([\"plotly\"], function(Plotly) {\n",
       "\twindow.Plotly = Plotly\n",
       "\ton_load()\n",
       "      })\n",
       "      require([\"jspanel\"], function(jsPanel) {\n",
       "\twindow.jsPanel = jsPanel\n",
       "\ton_load()\n",
       "      })\n",
       "      require([\"jspanel-modal\"], function() {\n",
       "\ton_load()\n",
       "      })\n",
       "      require([\"jspanel-tooltip\"], function() {\n",
       "\ton_load()\n",
       "      })\n",
       "      require([\"jspanel-hint\"], function() {\n",
       "\ton_load()\n",
       "      })\n",
       "      require([\"jspanel-layout\"], function() {\n",
       "\ton_load()\n",
       "      })\n",
       "      require([\"jspanel-contextmenu\"], function() {\n",
       "\ton_load()\n",
       "      })\n",
       "      require([\"jspanel-dock\"], function() {\n",
       "\ton_load()\n",
       "      })\n",
       "      require([\"gridstack\"], function(GridStack) {\n",
       "\twindow.GridStack = GridStack\n",
       "\ton_load()\n",
       "      })\n",
       "      require([\"notyf\"], function() {\n",
       "\ton_load()\n",
       "      })\n",
       "      root._bokeh_is_loading = css_urls.length + 10;\n",
       "    } else {\n",
       "      root._bokeh_is_loading = css_urls.length + js_urls.length + js_modules.length + Object.keys(js_exports).length;\n",
       "    }\n",
       "\n",
       "    var existing_stylesheets = []\n",
       "    var links = document.getElementsByTagName('link')\n",
       "    for (var i = 0; i < links.length; i++) {\n",
       "      var link = links[i]\n",
       "      if (link.href != null) {\n",
       "\texisting_stylesheets.push(link.href)\n",
       "      }\n",
       "    }\n",
       "    for (var i = 0; i < css_urls.length; i++) {\n",
       "      var url = css_urls[i];\n",
       "      if (existing_stylesheets.indexOf(url) !== -1) {\n",
       "\ton_load()\n",
       "\tcontinue;\n",
       "      }\n",
       "      const element = document.createElement(\"link\");\n",
       "      element.onload = on_load;\n",
       "      element.onerror = on_error;\n",
       "      element.rel = \"stylesheet\";\n",
       "      element.type = \"text/css\";\n",
       "      element.href = url;\n",
       "      console.debug(\"Bokeh: injecting link tag for BokehJS stylesheet: \", url);\n",
       "      document.body.appendChild(element);\n",
       "    }    if (((window['Plotly'] !== undefined) && (!(window['Plotly'] instanceof HTMLElement))) || window.requirejs) {\n",
       "      var urls = ['https://cdn.holoviz.org/panel/1.2.3/dist/bundled/plotlyplot/plotly-2.18.0.min.js'];\n",
       "      for (var i = 0; i < urls.length; i++) {\n",
       "        skip.push(urls[i])\n",
       "      }\n",
       "    }    if (((window['jsPanel'] !== undefined) && (!(window['jsPanel'] instanceof HTMLElement))) || window.requirejs) {\n",
       "      var urls = ['https://cdn.holoviz.org/panel/1.2.3/dist/bundled/floatpanel/jspanel4@4.12.0/dist/jspanel.js', 'https://cdn.holoviz.org/panel/1.2.3/dist/bundled/floatpanel/jspanel4@4.12.0/dist/extensions/modal/jspanel.modal.js', 'https://cdn.holoviz.org/panel/1.2.3/dist/bundled/floatpanel/jspanel4@4.12.0/dist/extensions/tooltip/jspanel.tooltip.js', 'https://cdn.holoviz.org/panel/1.2.3/dist/bundled/floatpanel/jspanel4@4.12.0/dist/extensions/hint/jspanel.hint.js', 'https://cdn.holoviz.org/panel/1.2.3/dist/bundled/floatpanel/jspanel4@4.12.0/dist/extensions/layout/jspanel.layout.js', 'https://cdn.holoviz.org/panel/1.2.3/dist/bundled/floatpanel/jspanel4@4.12.0/dist/extensions/contextmenu/jspanel.contextmenu.js', 'https://cdn.holoviz.org/panel/1.2.3/dist/bundled/floatpanel/jspanel4@4.12.0/dist/extensions/dock/jspanel.dock.js'];\n",
       "      for (var i = 0; i < urls.length; i++) {\n",
       "        skip.push(urls[i])\n",
       "      }\n",
       "    }    if (((window['GridStack'] !== undefined) && (!(window['GridStack'] instanceof HTMLElement))) || window.requirejs) {\n",
       "      var urls = ['https://cdn.holoviz.org/panel/1.2.3/dist/bundled/gridstack/gridstack@7.2.3/dist/gridstack-all.js'];\n",
       "      for (var i = 0; i < urls.length; i++) {\n",
       "        skip.push(urls[i])\n",
       "      }\n",
       "    }    if (((window['Notyf'] !== undefined) && (!(window['Notyf'] instanceof HTMLElement))) || window.requirejs) {\n",
       "      var urls = ['https://cdn.holoviz.org/panel/1.2.3/dist/bundled/notificationarea/notyf@3/notyf.min.js'];\n",
       "      for (var i = 0; i < urls.length; i++) {\n",
       "        skip.push(urls[i])\n",
       "      }\n",
       "    }    var existing_scripts = []\n",
       "    var scripts = document.getElementsByTagName('script')\n",
       "    for (var i = 0; i < scripts.length; i++) {\n",
       "      var script = scripts[i]\n",
       "      if (script.src != null) {\n",
       "\texisting_scripts.push(script.src)\n",
       "      }\n",
       "    }\n",
       "    for (var i = 0; i < js_urls.length; i++) {\n",
       "      var url = js_urls[i];\n",
       "      if (skip.indexOf(url) !== -1 || existing_scripts.indexOf(url) !== -1) {\n",
       "\tif (!window.requirejs) {\n",
       "\t  on_load();\n",
       "\t}\n",
       "\tcontinue;\n",
       "      }\n",
       "      var element = document.createElement('script');\n",
       "      element.onload = on_load;\n",
       "      element.onerror = on_error;\n",
       "      element.async = false;\n",
       "      element.src = url;\n",
       "      console.debug(\"Bokeh: injecting script tag for BokehJS library: \", url);\n",
       "      document.head.appendChild(element);\n",
       "    }\n",
       "    for (var i = 0; i < js_modules.length; i++) {\n",
       "      var url = js_modules[i];\n",
       "      if (skip.indexOf(url) !== -1 || existing_scripts.indexOf(url) !== -1) {\n",
       "\tif (!window.requirejs) {\n",
       "\t  on_load();\n",
       "\t}\n",
       "\tcontinue;\n",
       "      }\n",
       "      var element = document.createElement('script');\n",
       "      element.onload = on_load;\n",
       "      element.onerror = on_error;\n",
       "      element.async = false;\n",
       "      element.src = url;\n",
       "      element.type = \"module\";\n",
       "      console.debug(\"Bokeh: injecting script tag for BokehJS library: \", url);\n",
       "      document.head.appendChild(element);\n",
       "    }\n",
       "    for (const name in js_exports) {\n",
       "      var url = js_exports[name];\n",
       "      if (skip.indexOf(url) >= 0 || root[name] != null) {\n",
       "\tif (!window.requirejs) {\n",
       "\t  on_load();\n",
       "\t}\n",
       "\tcontinue;\n",
       "      }\n",
       "      var element = document.createElement('script');\n",
       "      element.onerror = on_error;\n",
       "      element.async = false;\n",
       "      element.type = \"module\";\n",
       "      console.debug(\"Bokeh: injecting script tag for BokehJS library: \", url);\n",
       "      element.textContent = `\n",
       "      import ${name} from \"${url}\"\n",
       "      window.${name} = ${name}\n",
       "      window._bokeh_on_load()\n",
       "      `\n",
       "      document.head.appendChild(element);\n",
       "    }\n",
       "    if (!js_urls.length && !js_modules.length) {\n",
       "      on_load()\n",
       "    }\n",
       "  };\n",
       "\n",
       "  function inject_raw_css(css) {\n",
       "    const element = document.createElement(\"style\");\n",
       "    element.appendChild(document.createTextNode(css));\n",
       "    document.body.appendChild(element);\n",
       "  }\n",
       "\n",
       "  var js_urls = [\"https://cdn.holoviz.org/panel/1.2.3/dist/bundled/jquery/jquery.slim.min.js\", \"https://cdn.holoviz.org/panel/1.2.3/dist/bundled/plotlyplot/plotly-2.18.0.min.js\", \"https://cdn.bokeh.org/bokeh/release/bokeh-3.1.1.min.js\", \"https://cdn.bokeh.org/bokeh/release/bokeh-gl-3.1.1.min.js\", \"https://cdn.bokeh.org/bokeh/release/bokeh-widgets-3.1.1.min.js\", \"https://cdn.bokeh.org/bokeh/release/bokeh-tables-3.1.1.min.js\", \"https://cdn.holoviz.org/panel/1.2.3/dist/panel.min.js\"];\n",
       "  var js_modules = [];\n",
       "  var js_exports = {};\n",
       "  var css_urls = [];\n",
       "  var inline_js = [    function(Bokeh) {\n",
       "      Bokeh.set_log_level(\"info\");\n",
       "    },\n",
       "function(Bokeh) {} // ensure no trailing comma for IE\n",
       "  ];\n",
       "\n",
       "  function run_inline_js() {\n",
       "    if ((root.Bokeh !== undefined) || (force === true)) {\n",
       "      for (var i = 0; i < inline_js.length; i++) {\n",
       "        inline_js[i].call(root, root.Bokeh);\n",
       "      }\n",
       "      // Cache old bokeh versions\n",
       "      if (Bokeh != undefined && !reloading) {\n",
       "\tvar NewBokeh = root.Bokeh;\n",
       "\tif (Bokeh.versions === undefined) {\n",
       "\t  Bokeh.versions = new Map();\n",
       "\t}\n",
       "\tif (NewBokeh.version !== Bokeh.version) {\n",
       "\t  Bokeh.versions.set(NewBokeh.version, NewBokeh)\n",
       "\t}\n",
       "\troot.Bokeh = Bokeh;\n",
       "      }} else if (Date.now() < root._bokeh_timeout) {\n",
       "      setTimeout(run_inline_js, 100);\n",
       "    } else if (!root._bokeh_failed_load) {\n",
       "      console.log(\"Bokeh: BokehJS failed to load within specified timeout.\");\n",
       "      root._bokeh_failed_load = true;\n",
       "    }\n",
       "    root._bokeh_is_initializing = false\n",
       "  }\n",
       "\n",
       "  function load_or_wait() {\n",
       "    // Implement a backoff loop that tries to ensure we do not load multiple\n",
       "    // versions of Bokeh and its dependencies at the same time.\n",
       "    // In recent versions we use the root._bokeh_is_initializing flag\n",
       "    // to determine whether there is an ongoing attempt to initialize\n",
       "    // bokeh, however for backward compatibility we also try to ensure\n",
       "    // that we do not start loading a newer (Panel>=1.0 and Bokeh>3) version\n",
       "    // before older versions are fully initialized.\n",
       "    if (root._bokeh_is_initializing && Date.now() > root._bokeh_timeout) {\n",
       "      root._bokeh_is_initializing = false;\n",
       "      root._bokeh_onload_callbacks = undefined;\n",
       "      console.log(\"Bokeh: BokehJS was loaded multiple times but one version failed to initialize.\");\n",
       "      load_or_wait();\n",
       "    } else if (root._bokeh_is_initializing || (typeof root._bokeh_is_initializing === \"undefined\" && root._bokeh_onload_callbacks !== undefined)) {\n",
       "      setTimeout(load_or_wait, 100);\n",
       "    } else {\n",
       "      Bokeh = root.Bokeh;\n",
       "      bokeh_loaded = Bokeh != null && (Bokeh.version === py_version || (Bokeh.versions !== undefined && Bokeh.versions.has(py_version)));\n",
       "      root._bokeh_is_initializing = true\n",
       "      root._bokeh_onload_callbacks = []\n",
       "      if (!reloading && (!bokeh_loaded || is_dev)) {\n",
       "\troot.Bokeh = undefined;\n",
       "      }\n",
       "      load_libs(css_urls, js_urls, js_modules, js_exports, function() {\n",
       "\tconsole.debug(\"Bokeh: BokehJS plotting callback run at\", now());\n",
       "\trun_inline_js();\n",
       "      });\n",
       "    }\n",
       "  }\n",
       "  // Give older versions of the autoload script a head-start to ensure\n",
       "  // they initialize before we start loading newer version.\n",
       "  setTimeout(load_or_wait, 100)\n",
       "}(window));"
      ],
      "application/vnd.holoviews_load.v0+json": "(function(root) {\n  function now() {\n    return new Date();\n  }\n\n  var force = true;\n  var py_version = '3.1.1'.replace('rc', '-rc.').replace('.dev', '-dev.');\n  var is_dev = py_version.indexOf(\"+\") !== -1 || py_version.indexOf(\"-\") !== -1;\n  var reloading = false;\n  var Bokeh = root.Bokeh;\n  var bokeh_loaded = Bokeh != null && (Bokeh.version === py_version || (Bokeh.versions !== undefined && Bokeh.versions.has(py_version)));\n\n  if (typeof (root._bokeh_timeout) === \"undefined\" || force) {\n    root._bokeh_timeout = Date.now() + 5000;\n    root._bokeh_failed_load = false;\n  }\n\n  function run_callbacks() {\n    try {\n      root._bokeh_onload_callbacks.forEach(function(callback) {\n        if (callback != null)\n          callback();\n      });\n    } finally {\n      delete root._bokeh_onload_callbacks;\n    }\n    console.debug(\"Bokeh: all callbacks have finished\");\n  }\n\n  function load_libs(css_urls, js_urls, js_modules, js_exports, callback) {\n    if (css_urls == null) css_urls = [];\n    if (js_urls == null) js_urls = [];\n    if (js_modules == null) js_modules = [];\n    if (js_exports == null) js_exports = {};\n\n    root._bokeh_onload_callbacks.push(callback);\n\n    if (root._bokeh_is_loading > 0) {\n      console.debug(\"Bokeh: BokehJS is being loaded, scheduling callback at\", now());\n      return null;\n    }\n    if (js_urls.length === 0 && js_modules.length === 0 && Object.keys(js_exports).length === 0) {\n      run_callbacks();\n      return null;\n    }\n    if (!reloading) {\n      console.debug(\"Bokeh: BokehJS not loaded, scheduling load and callback at\", now());\n    }\n\n    function on_load() {\n      root._bokeh_is_loading--;\n      if (root._bokeh_is_loading === 0) {\n        console.debug(\"Bokeh: all BokehJS libraries/stylesheets loaded\");\n        run_callbacks()\n      }\n    }\n    window._bokeh_on_load = on_load\n\n    function on_error() {\n      console.error(\"failed to load \" + url);\n    }\n\n    var skip = [];\n    if (window.requirejs) {\n      window.requirejs.config({'packages': {}, 'paths': {'plotly': 'https://cdn.plot.ly/plotly-2.18.0.min', 'jspanel': 'https://cdn.jsdelivr.net/npm/jspanel4@4.12.0/dist/jspanel', 'jspanel-modal': 'https://cdn.jsdelivr.net/npm/jspanel4@4.12.0/dist/extensions/modal/jspanel.modal', 'jspanel-tooltip': 'https://cdn.jsdelivr.net/npm/jspanel4@4.12.0/dist/extensions/tooltip/jspanel.tooltip', 'jspanel-hint': 'https://cdn.jsdelivr.net/npm/jspanel4@4.12.0/dist/extensions/hint/jspanel.hint', 'jspanel-layout': 'https://cdn.jsdelivr.net/npm/jspanel4@4.12.0/dist/extensions/layout/jspanel.layout', 'jspanel-contextmenu': 'https://cdn.jsdelivr.net/npm/jspanel4@4.12.0/dist/extensions/contextmenu/jspanel.contextmenu', 'jspanel-dock': 'https://cdn.jsdelivr.net/npm/jspanel4@4.12.0/dist/extensions/dock/jspanel.dock', 'gridstack': 'https://cdn.jsdelivr.net/npm/gridstack@7.2.3/dist/gridstack-all', 'notyf': 'https://cdn.jsdelivr.net/npm/notyf@3/notyf.min'}, 'shim': {'jspanel': {'exports': 'jsPanel'}, 'gridstack': {'exports': 'GridStack'}}});\n      require([\"plotly\"], function(Plotly) {\n\twindow.Plotly = Plotly\n\ton_load()\n      })\n      require([\"jspanel\"], function(jsPanel) {\n\twindow.jsPanel = jsPanel\n\ton_load()\n      })\n      require([\"jspanel-modal\"], function() {\n\ton_load()\n      })\n      require([\"jspanel-tooltip\"], function() {\n\ton_load()\n      })\n      require([\"jspanel-hint\"], function() {\n\ton_load()\n      })\n      require([\"jspanel-layout\"], function() {\n\ton_load()\n      })\n      require([\"jspanel-contextmenu\"], function() {\n\ton_load()\n      })\n      require([\"jspanel-dock\"], function() {\n\ton_load()\n      })\n      require([\"gridstack\"], function(GridStack) {\n\twindow.GridStack = GridStack\n\ton_load()\n      })\n      require([\"notyf\"], function() {\n\ton_load()\n      })\n      root._bokeh_is_loading = css_urls.length + 10;\n    } else {\n      root._bokeh_is_loading = css_urls.length + js_urls.length + js_modules.length + Object.keys(js_exports).length;\n    }\n\n    var existing_stylesheets = []\n    var links = document.getElementsByTagName('link')\n    for (var i = 0; i < links.length; i++) {\n      var link = links[i]\n      if (link.href != null) {\n\texisting_stylesheets.push(link.href)\n      }\n    }\n    for (var i = 0; i < css_urls.length; i++) {\n      var url = css_urls[i];\n      if (existing_stylesheets.indexOf(url) !== -1) {\n\ton_load()\n\tcontinue;\n      }\n      const element = document.createElement(\"link\");\n      element.onload = on_load;\n      element.onerror = on_error;\n      element.rel = \"stylesheet\";\n      element.type = \"text/css\";\n      element.href = url;\n      console.debug(\"Bokeh: injecting link tag for BokehJS stylesheet: \", url);\n      document.body.appendChild(element);\n    }    if (((window['Plotly'] !== undefined) && (!(window['Plotly'] instanceof HTMLElement))) || window.requirejs) {\n      var urls = ['https://cdn.holoviz.org/panel/1.2.3/dist/bundled/plotlyplot/plotly-2.18.0.min.js'];\n      for (var i = 0; i < urls.length; i++) {\n        skip.push(urls[i])\n      }\n    }    if (((window['jsPanel'] !== undefined) && (!(window['jsPanel'] instanceof HTMLElement))) || window.requirejs) {\n      var urls = ['https://cdn.holoviz.org/panel/1.2.3/dist/bundled/floatpanel/jspanel4@4.12.0/dist/jspanel.js', 'https://cdn.holoviz.org/panel/1.2.3/dist/bundled/floatpanel/jspanel4@4.12.0/dist/extensions/modal/jspanel.modal.js', 'https://cdn.holoviz.org/panel/1.2.3/dist/bundled/floatpanel/jspanel4@4.12.0/dist/extensions/tooltip/jspanel.tooltip.js', 'https://cdn.holoviz.org/panel/1.2.3/dist/bundled/floatpanel/jspanel4@4.12.0/dist/extensions/hint/jspanel.hint.js', 'https://cdn.holoviz.org/panel/1.2.3/dist/bundled/floatpanel/jspanel4@4.12.0/dist/extensions/layout/jspanel.layout.js', 'https://cdn.holoviz.org/panel/1.2.3/dist/bundled/floatpanel/jspanel4@4.12.0/dist/extensions/contextmenu/jspanel.contextmenu.js', 'https://cdn.holoviz.org/panel/1.2.3/dist/bundled/floatpanel/jspanel4@4.12.0/dist/extensions/dock/jspanel.dock.js'];\n      for (var i = 0; i < urls.length; i++) {\n        skip.push(urls[i])\n      }\n    }    if (((window['GridStack'] !== undefined) && (!(window['GridStack'] instanceof HTMLElement))) || window.requirejs) {\n      var urls = ['https://cdn.holoviz.org/panel/1.2.3/dist/bundled/gridstack/gridstack@7.2.3/dist/gridstack-all.js'];\n      for (var i = 0; i < urls.length; i++) {\n        skip.push(urls[i])\n      }\n    }    if (((window['Notyf'] !== undefined) && (!(window['Notyf'] instanceof HTMLElement))) || window.requirejs) {\n      var urls = ['https://cdn.holoviz.org/panel/1.2.3/dist/bundled/notificationarea/notyf@3/notyf.min.js'];\n      for (var i = 0; i < urls.length; i++) {\n        skip.push(urls[i])\n      }\n    }    var existing_scripts = []\n    var scripts = document.getElementsByTagName('script')\n    for (var i = 0; i < scripts.length; i++) {\n      var script = scripts[i]\n      if (script.src != null) {\n\texisting_scripts.push(script.src)\n      }\n    }\n    for (var i = 0; i < js_urls.length; i++) {\n      var url = js_urls[i];\n      if (skip.indexOf(url) !== -1 || existing_scripts.indexOf(url) !== -1) {\n\tif (!window.requirejs) {\n\t  on_load();\n\t}\n\tcontinue;\n      }\n      var element = document.createElement('script');\n      element.onload = on_load;\n      element.onerror = on_error;\n      element.async = false;\n      element.src = url;\n      console.debug(\"Bokeh: injecting script tag for BokehJS library: \", url);\n      document.head.appendChild(element);\n    }\n    for (var i = 0; i < js_modules.length; i++) {\n      var url = js_modules[i];\n      if (skip.indexOf(url) !== -1 || existing_scripts.indexOf(url) !== -1) {\n\tif (!window.requirejs) {\n\t  on_load();\n\t}\n\tcontinue;\n      }\n      var element = document.createElement('script');\n      element.onload = on_load;\n      element.onerror = on_error;\n      element.async = false;\n      element.src = url;\n      element.type = \"module\";\n      console.debug(\"Bokeh: injecting script tag for BokehJS library: \", url);\n      document.head.appendChild(element);\n    }\n    for (const name in js_exports) {\n      var url = js_exports[name];\n      if (skip.indexOf(url) >= 0 || root[name] != null) {\n\tif (!window.requirejs) {\n\t  on_load();\n\t}\n\tcontinue;\n      }\n      var element = document.createElement('script');\n      element.onerror = on_error;\n      element.async = false;\n      element.type = \"module\";\n      console.debug(\"Bokeh: injecting script tag for BokehJS library: \", url);\n      element.textContent = `\n      import ${name} from \"${url}\"\n      window.${name} = ${name}\n      window._bokeh_on_load()\n      `\n      document.head.appendChild(element);\n    }\n    if (!js_urls.length && !js_modules.length) {\n      on_load()\n    }\n  };\n\n  function inject_raw_css(css) {\n    const element = document.createElement(\"style\");\n    element.appendChild(document.createTextNode(css));\n    document.body.appendChild(element);\n  }\n\n  var js_urls = [\"https://cdn.holoviz.org/panel/1.2.3/dist/bundled/jquery/jquery.slim.min.js\", \"https://cdn.holoviz.org/panel/1.2.3/dist/bundled/plotlyplot/plotly-2.18.0.min.js\", \"https://cdn.bokeh.org/bokeh/release/bokeh-3.1.1.min.js\", \"https://cdn.bokeh.org/bokeh/release/bokeh-gl-3.1.1.min.js\", \"https://cdn.bokeh.org/bokeh/release/bokeh-widgets-3.1.1.min.js\", \"https://cdn.bokeh.org/bokeh/release/bokeh-tables-3.1.1.min.js\", \"https://cdn.holoviz.org/panel/1.2.3/dist/panel.min.js\"];\n  var js_modules = [];\n  var js_exports = {};\n  var css_urls = [];\n  var inline_js = [    function(Bokeh) {\n      Bokeh.set_log_level(\"info\");\n    },\nfunction(Bokeh) {} // ensure no trailing comma for IE\n  ];\n\n  function run_inline_js() {\n    if ((root.Bokeh !== undefined) || (force === true)) {\n      for (var i = 0; i < inline_js.length; i++) {\n        inline_js[i].call(root, root.Bokeh);\n      }\n      // Cache old bokeh versions\n      if (Bokeh != undefined && !reloading) {\n\tvar NewBokeh = root.Bokeh;\n\tif (Bokeh.versions === undefined) {\n\t  Bokeh.versions = new Map();\n\t}\n\tif (NewBokeh.version !== Bokeh.version) {\n\t  Bokeh.versions.set(NewBokeh.version, NewBokeh)\n\t}\n\troot.Bokeh = Bokeh;\n      }} else if (Date.now() < root._bokeh_timeout) {\n      setTimeout(run_inline_js, 100);\n    } else if (!root._bokeh_failed_load) {\n      console.log(\"Bokeh: BokehJS failed to load within specified timeout.\");\n      root._bokeh_failed_load = true;\n    }\n    root._bokeh_is_initializing = false\n  }\n\n  function load_or_wait() {\n    // Implement a backoff loop that tries to ensure we do not load multiple\n    // versions of Bokeh and its dependencies at the same time.\n    // In recent versions we use the root._bokeh_is_initializing flag\n    // to determine whether there is an ongoing attempt to initialize\n    // bokeh, however for backward compatibility we also try to ensure\n    // that we do not start loading a newer (Panel>=1.0 and Bokeh>3) version\n    // before older versions are fully initialized.\n    if (root._bokeh_is_initializing && Date.now() > root._bokeh_timeout) {\n      root._bokeh_is_initializing = false;\n      root._bokeh_onload_callbacks = undefined;\n      console.log(\"Bokeh: BokehJS was loaded multiple times but one version failed to initialize.\");\n      load_or_wait();\n    } else if (root._bokeh_is_initializing || (typeof root._bokeh_is_initializing === \"undefined\" && root._bokeh_onload_callbacks !== undefined)) {\n      setTimeout(load_or_wait, 100);\n    } else {\n      Bokeh = root.Bokeh;\n      bokeh_loaded = Bokeh != null && (Bokeh.version === py_version || (Bokeh.versions !== undefined && Bokeh.versions.has(py_version)));\n      root._bokeh_is_initializing = true\n      root._bokeh_onload_callbacks = []\n      if (!reloading && (!bokeh_loaded || is_dev)) {\n\troot.Bokeh = undefined;\n      }\n      load_libs(css_urls, js_urls, js_modules, js_exports, function() {\n\tconsole.debug(\"Bokeh: BokehJS plotting callback run at\", now());\n\trun_inline_js();\n      });\n    }\n  }\n  // Give older versions of the autoload script a head-start to ensure\n  // they initialize before we start loading newer version.\n  setTimeout(load_or_wait, 100)\n}(window));"
     },
     "metadata": {},
     "output_type": "display_data"
    },
    {
     "data": {
      "application/javascript": [
       "\n",
       "if ((window.PyViz === undefined) || (window.PyViz instanceof HTMLElement)) {\n",
       "  window.PyViz = {comms: {}, comm_status:{}, kernels:{}, receivers: {}, plot_index: []}\n",
       "}\n",
       "\n",
       "\n",
       "    function JupyterCommManager() {\n",
       "    }\n",
       "\n",
       "    JupyterCommManager.prototype.register_target = function(plot_id, comm_id, msg_handler) {\n",
       "      if (window.comm_manager || ((window.Jupyter !== undefined) && (Jupyter.notebook.kernel != null))) {\n",
       "        var comm_manager = window.comm_manager || Jupyter.notebook.kernel.comm_manager;\n",
       "        comm_manager.register_target(comm_id, function(comm) {\n",
       "          comm.on_msg(msg_handler);\n",
       "        });\n",
       "      } else if ((plot_id in window.PyViz.kernels) && (window.PyViz.kernels[plot_id])) {\n",
       "        window.PyViz.kernels[plot_id].registerCommTarget(comm_id, function(comm) {\n",
       "          comm.onMsg = msg_handler;\n",
       "        });\n",
       "      } else if (typeof google != 'undefined' && google.colab.kernel != null) {\n",
       "        google.colab.kernel.comms.registerTarget(comm_id, (comm) => {\n",
       "          var messages = comm.messages[Symbol.asyncIterator]();\n",
       "          function processIteratorResult(result) {\n",
       "            var message = result.value;\n",
       "            console.log(message)\n",
       "            var content = {data: message.data, comm_id};\n",
       "            var buffers = []\n",
       "            for (var buffer of message.buffers || []) {\n",
       "              buffers.push(new DataView(buffer))\n",
       "            }\n",
       "            var metadata = message.metadata || {};\n",
       "            var msg = {content, buffers, metadata}\n",
       "            msg_handler(msg);\n",
       "            return messages.next().then(processIteratorResult);\n",
       "          }\n",
       "          return messages.next().then(processIteratorResult);\n",
       "        })\n",
       "      }\n",
       "    }\n",
       "\n",
       "    JupyterCommManager.prototype.get_client_comm = function(plot_id, comm_id, msg_handler) {\n",
       "      if (comm_id in window.PyViz.comms) {\n",
       "        return window.PyViz.comms[comm_id];\n",
       "      } else if (window.comm_manager || ((window.Jupyter !== undefined) && (Jupyter.notebook.kernel != null))) {\n",
       "        var comm_manager = window.comm_manager || Jupyter.notebook.kernel.comm_manager;\n",
       "        var comm = comm_manager.new_comm(comm_id, {}, {}, {}, comm_id);\n",
       "        if (msg_handler) {\n",
       "          comm.on_msg(msg_handler);\n",
       "        }\n",
       "      } else if ((plot_id in window.PyViz.kernels) && (window.PyViz.kernels[plot_id])) {\n",
       "        var comm = window.PyViz.kernels[plot_id].connectToComm(comm_id);\n",
       "        comm.open();\n",
       "        if (msg_handler) {\n",
       "          comm.onMsg = msg_handler;\n",
       "        }\n",
       "      } else if (typeof google != 'undefined' && google.colab.kernel != null) {\n",
       "        var comm_promise = google.colab.kernel.comms.open(comm_id)\n",
       "        comm_promise.then((comm) => {\n",
       "          window.PyViz.comms[comm_id] = comm;\n",
       "          if (msg_handler) {\n",
       "            var messages = comm.messages[Symbol.asyncIterator]();\n",
       "            function processIteratorResult(result) {\n",
       "              var message = result.value;\n",
       "              var content = {data: message.data};\n",
       "              var metadata = message.metadata || {comm_id};\n",
       "              var msg = {content, metadata}\n",
       "              msg_handler(msg);\n",
       "              return messages.next().then(processIteratorResult);\n",
       "            }\n",
       "            return messages.next().then(processIteratorResult);\n",
       "          }\n",
       "        }) \n",
       "        var sendClosure = (data, metadata, buffers, disposeOnDone) => {\n",
       "          return comm_promise.then((comm) => {\n",
       "            comm.send(data, metadata, buffers, disposeOnDone);\n",
       "          });\n",
       "        };\n",
       "        var comm = {\n",
       "          send: sendClosure\n",
       "        };\n",
       "      }\n",
       "      window.PyViz.comms[comm_id] = comm;\n",
       "      return comm;\n",
       "    }\n",
       "    window.PyViz.comm_manager = new JupyterCommManager();\n",
       "    \n",
       "\n",
       "\n",
       "var JS_MIME_TYPE = 'application/javascript';\n",
       "var HTML_MIME_TYPE = 'text/html';\n",
       "var EXEC_MIME_TYPE = 'application/vnd.holoviews_exec.v0+json';\n",
       "var CLASS_NAME = 'output';\n",
       "\n",
       "/**\n",
       " * Render data to the DOM node\n",
       " */\n",
       "function render(props, node) {\n",
       "  var div = document.createElement(\"div\");\n",
       "  var script = document.createElement(\"script\");\n",
       "  node.appendChild(div);\n",
       "  node.appendChild(script);\n",
       "}\n",
       "\n",
       "/**\n",
       " * Handle when a new output is added\n",
       " */\n",
       "function handle_add_output(event, handle) {\n",
       "  var output_area = handle.output_area;\n",
       "  var output = handle.output;\n",
       "  if ((output.data == undefined) || (!output.data.hasOwnProperty(EXEC_MIME_TYPE))) {\n",
       "    return\n",
       "  }\n",
       "  var id = output.metadata[EXEC_MIME_TYPE][\"id\"];\n",
       "  var toinsert = output_area.element.find(\".\" + CLASS_NAME.split(' ')[0]);\n",
       "  if (id !== undefined) {\n",
       "    var nchildren = toinsert.length;\n",
       "    var html_node = toinsert[nchildren-1].children[0];\n",
       "    html_node.innerHTML = output.data[HTML_MIME_TYPE];\n",
       "    var scripts = [];\n",
       "    var nodelist = html_node.querySelectorAll(\"script\");\n",
       "    for (var i in nodelist) {\n",
       "      if (nodelist.hasOwnProperty(i)) {\n",
       "        scripts.push(nodelist[i])\n",
       "      }\n",
       "    }\n",
       "\n",
       "    scripts.forEach( function (oldScript) {\n",
       "      var newScript = document.createElement(\"script\");\n",
       "      var attrs = [];\n",
       "      var nodemap = oldScript.attributes;\n",
       "      for (var j in nodemap) {\n",
       "        if (nodemap.hasOwnProperty(j)) {\n",
       "          attrs.push(nodemap[j])\n",
       "        }\n",
       "      }\n",
       "      attrs.forEach(function(attr) { newScript.setAttribute(attr.name, attr.value) });\n",
       "      newScript.appendChild(document.createTextNode(oldScript.innerHTML));\n",
       "      oldScript.parentNode.replaceChild(newScript, oldScript);\n",
       "    });\n",
       "    if (JS_MIME_TYPE in output.data) {\n",
       "      toinsert[nchildren-1].children[1].textContent = output.data[JS_MIME_TYPE];\n",
       "    }\n",
       "    output_area._hv_plot_id = id;\n",
       "    if ((window.Bokeh !== undefined) && (id in Bokeh.index)) {\n",
       "      window.PyViz.plot_index[id] = Bokeh.index[id];\n",
       "    } else {\n",
       "      window.PyViz.plot_index[id] = null;\n",
       "    }\n",
       "  } else if (output.metadata[EXEC_MIME_TYPE][\"server_id\"] !== undefined) {\n",
       "    var bk_div = document.createElement(\"div\");\n",
       "    bk_div.innerHTML = output.data[HTML_MIME_TYPE];\n",
       "    var script_attrs = bk_div.children[0].attributes;\n",
       "    for (var i = 0; i < script_attrs.length; i++) {\n",
       "      toinsert[toinsert.length - 1].childNodes[1].setAttribute(script_attrs[i].name, script_attrs[i].value);\n",
       "    }\n",
       "    // store reference to server id on output_area\n",
       "    output_area._bokeh_server_id = output.metadata[EXEC_MIME_TYPE][\"server_id\"];\n",
       "  }\n",
       "}\n",
       "\n",
       "/**\n",
       " * Handle when an output is cleared or removed\n",
       " */\n",
       "function handle_clear_output(event, handle) {\n",
       "  var id = handle.cell.output_area._hv_plot_id;\n",
       "  var server_id = handle.cell.output_area._bokeh_server_id;\n",
       "  if (((id === undefined) || !(id in PyViz.plot_index)) && (server_id !== undefined)) { return; }\n",
       "  var comm = window.PyViz.comm_manager.get_client_comm(\"hv-extension-comm\", \"hv-extension-comm\", function () {});\n",
       "  if (server_id !== null) {\n",
       "    comm.send({event_type: 'server_delete', 'id': server_id});\n",
       "    return;\n",
       "  } else if (comm !== null) {\n",
       "    comm.send({event_type: 'delete', 'id': id});\n",
       "  }\n",
       "  delete PyViz.plot_index[id];\n",
       "  if ((window.Bokeh !== undefined) & (id in window.Bokeh.index)) {\n",
       "    var doc = window.Bokeh.index[id].model.document\n",
       "    doc.clear();\n",
       "    const i = window.Bokeh.documents.indexOf(doc);\n",
       "    if (i > -1) {\n",
       "      window.Bokeh.documents.splice(i, 1);\n",
       "    }\n",
       "  }\n",
       "}\n",
       "\n",
       "/**\n",
       " * Handle kernel restart event\n",
       " */\n",
       "function handle_kernel_cleanup(event, handle) {\n",
       "  delete PyViz.comms[\"hv-extension-comm\"];\n",
       "  window.PyViz.plot_index = {}\n",
       "}\n",
       "\n",
       "/**\n",
       " * Handle update_display_data messages\n",
       " */\n",
       "function handle_update_output(event, handle) {\n",
       "  handle_clear_output(event, {cell: {output_area: handle.output_area}})\n",
       "  handle_add_output(event, handle)\n",
       "}\n",
       "\n",
       "function register_renderer(events, OutputArea) {\n",
       "  function append_mime(data, metadata, element) {\n",
       "    // create a DOM node to render to\n",
       "    var toinsert = this.create_output_subarea(\n",
       "    metadata,\n",
       "    CLASS_NAME,\n",
       "    EXEC_MIME_TYPE\n",
       "    );\n",
       "    this.keyboard_manager.register_events(toinsert);\n",
       "    // Render to node\n",
       "    var props = {data: data, metadata: metadata[EXEC_MIME_TYPE]};\n",
       "    render(props, toinsert[0]);\n",
       "    element.append(toinsert);\n",
       "    return toinsert\n",
       "  }\n",
       "\n",
       "  events.on('output_added.OutputArea', handle_add_output);\n",
       "  events.on('output_updated.OutputArea', handle_update_output);\n",
       "  events.on('clear_output.CodeCell', handle_clear_output);\n",
       "  events.on('delete.Cell', handle_clear_output);\n",
       "  events.on('kernel_ready.Kernel', handle_kernel_cleanup);\n",
       "\n",
       "  OutputArea.prototype.register_mime_type(EXEC_MIME_TYPE, append_mime, {\n",
       "    safe: true,\n",
       "    index: 0\n",
       "  });\n",
       "}\n",
       "\n",
       "if (window.Jupyter !== undefined) {\n",
       "  try {\n",
       "    var events = require('base/js/events');\n",
       "    var OutputArea = require('notebook/js/outputarea').OutputArea;\n",
       "    if (OutputArea.prototype.mime_types().indexOf(EXEC_MIME_TYPE) == -1) {\n",
       "      register_renderer(events, OutputArea);\n",
       "    }\n",
       "  } catch(err) {\n",
       "  }\n",
       "}\n"
      ],
      "application/vnd.holoviews_load.v0+json": "\nif ((window.PyViz === undefined) || (window.PyViz instanceof HTMLElement)) {\n  window.PyViz = {comms: {}, comm_status:{}, kernels:{}, receivers: {}, plot_index: []}\n}\n\n\n    function JupyterCommManager() {\n    }\n\n    JupyterCommManager.prototype.register_target = function(plot_id, comm_id, msg_handler) {\n      if (window.comm_manager || ((window.Jupyter !== undefined) && (Jupyter.notebook.kernel != null))) {\n        var comm_manager = window.comm_manager || Jupyter.notebook.kernel.comm_manager;\n        comm_manager.register_target(comm_id, function(comm) {\n          comm.on_msg(msg_handler);\n        });\n      } else if ((plot_id in window.PyViz.kernels) && (window.PyViz.kernels[plot_id])) {\n        window.PyViz.kernels[plot_id].registerCommTarget(comm_id, function(comm) {\n          comm.onMsg = msg_handler;\n        });\n      } else if (typeof google != 'undefined' && google.colab.kernel != null) {\n        google.colab.kernel.comms.registerTarget(comm_id, (comm) => {\n          var messages = comm.messages[Symbol.asyncIterator]();\n          function processIteratorResult(result) {\n            var message = result.value;\n            console.log(message)\n            var content = {data: message.data, comm_id};\n            var buffers = []\n            for (var buffer of message.buffers || []) {\n              buffers.push(new DataView(buffer))\n            }\n            var metadata = message.metadata || {};\n            var msg = {content, buffers, metadata}\n            msg_handler(msg);\n            return messages.next().then(processIteratorResult);\n          }\n          return messages.next().then(processIteratorResult);\n        })\n      }\n    }\n\n    JupyterCommManager.prototype.get_client_comm = function(plot_id, comm_id, msg_handler) {\n      if (comm_id in window.PyViz.comms) {\n        return window.PyViz.comms[comm_id];\n      } else if (window.comm_manager || ((window.Jupyter !== undefined) && (Jupyter.notebook.kernel != null))) {\n        var comm_manager = window.comm_manager || Jupyter.notebook.kernel.comm_manager;\n        var comm = comm_manager.new_comm(comm_id, {}, {}, {}, comm_id);\n        if (msg_handler) {\n          comm.on_msg(msg_handler);\n        }\n      } else if ((plot_id in window.PyViz.kernels) && (window.PyViz.kernels[plot_id])) {\n        var comm = window.PyViz.kernels[plot_id].connectToComm(comm_id);\n        comm.open();\n        if (msg_handler) {\n          comm.onMsg = msg_handler;\n        }\n      } else if (typeof google != 'undefined' && google.colab.kernel != null) {\n        var comm_promise = google.colab.kernel.comms.open(comm_id)\n        comm_promise.then((comm) => {\n          window.PyViz.comms[comm_id] = comm;\n          if (msg_handler) {\n            var messages = comm.messages[Symbol.asyncIterator]();\n            function processIteratorResult(result) {\n              var message = result.value;\n              var content = {data: message.data};\n              var metadata = message.metadata || {comm_id};\n              var msg = {content, metadata}\n              msg_handler(msg);\n              return messages.next().then(processIteratorResult);\n            }\n            return messages.next().then(processIteratorResult);\n          }\n        }) \n        var sendClosure = (data, metadata, buffers, disposeOnDone) => {\n          return comm_promise.then((comm) => {\n            comm.send(data, metadata, buffers, disposeOnDone);\n          });\n        };\n        var comm = {\n          send: sendClosure\n        };\n      }\n      window.PyViz.comms[comm_id] = comm;\n      return comm;\n    }\n    window.PyViz.comm_manager = new JupyterCommManager();\n    \n\n\nvar JS_MIME_TYPE = 'application/javascript';\nvar HTML_MIME_TYPE = 'text/html';\nvar EXEC_MIME_TYPE = 'application/vnd.holoviews_exec.v0+json';\nvar CLASS_NAME = 'output';\n\n/**\n * Render data to the DOM node\n */\nfunction render(props, node) {\n  var div = document.createElement(\"div\");\n  var script = document.createElement(\"script\");\n  node.appendChild(div);\n  node.appendChild(script);\n}\n\n/**\n * Handle when a new output is added\n */\nfunction handle_add_output(event, handle) {\n  var output_area = handle.output_area;\n  var output = handle.output;\n  if ((output.data == undefined) || (!output.data.hasOwnProperty(EXEC_MIME_TYPE))) {\n    return\n  }\n  var id = output.metadata[EXEC_MIME_TYPE][\"id\"];\n  var toinsert = output_area.element.find(\".\" + CLASS_NAME.split(' ')[0]);\n  if (id !== undefined) {\n    var nchildren = toinsert.length;\n    var html_node = toinsert[nchildren-1].children[0];\n    html_node.innerHTML = output.data[HTML_MIME_TYPE];\n    var scripts = [];\n    var nodelist = html_node.querySelectorAll(\"script\");\n    for (var i in nodelist) {\n      if (nodelist.hasOwnProperty(i)) {\n        scripts.push(nodelist[i])\n      }\n    }\n\n    scripts.forEach( function (oldScript) {\n      var newScript = document.createElement(\"script\");\n      var attrs = [];\n      var nodemap = oldScript.attributes;\n      for (var j in nodemap) {\n        if (nodemap.hasOwnProperty(j)) {\n          attrs.push(nodemap[j])\n        }\n      }\n      attrs.forEach(function(attr) { newScript.setAttribute(attr.name, attr.value) });\n      newScript.appendChild(document.createTextNode(oldScript.innerHTML));\n      oldScript.parentNode.replaceChild(newScript, oldScript);\n    });\n    if (JS_MIME_TYPE in output.data) {\n      toinsert[nchildren-1].children[1].textContent = output.data[JS_MIME_TYPE];\n    }\n    output_area._hv_plot_id = id;\n    if ((window.Bokeh !== undefined) && (id in Bokeh.index)) {\n      window.PyViz.plot_index[id] = Bokeh.index[id];\n    } else {\n      window.PyViz.plot_index[id] = null;\n    }\n  } else if (output.metadata[EXEC_MIME_TYPE][\"server_id\"] !== undefined) {\n    var bk_div = document.createElement(\"div\");\n    bk_div.innerHTML = output.data[HTML_MIME_TYPE];\n    var script_attrs = bk_div.children[0].attributes;\n    for (var i = 0; i < script_attrs.length; i++) {\n      toinsert[toinsert.length - 1].childNodes[1].setAttribute(script_attrs[i].name, script_attrs[i].value);\n    }\n    // store reference to server id on output_area\n    output_area._bokeh_server_id = output.metadata[EXEC_MIME_TYPE][\"server_id\"];\n  }\n}\n\n/**\n * Handle when an output is cleared or removed\n */\nfunction handle_clear_output(event, handle) {\n  var id = handle.cell.output_area._hv_plot_id;\n  var server_id = handle.cell.output_area._bokeh_server_id;\n  if (((id === undefined) || !(id in PyViz.plot_index)) && (server_id !== undefined)) { return; }\n  var comm = window.PyViz.comm_manager.get_client_comm(\"hv-extension-comm\", \"hv-extension-comm\", function () {});\n  if (server_id !== null) {\n    comm.send({event_type: 'server_delete', 'id': server_id});\n    return;\n  } else if (comm !== null) {\n    comm.send({event_type: 'delete', 'id': id});\n  }\n  delete PyViz.plot_index[id];\n  if ((window.Bokeh !== undefined) & (id in window.Bokeh.index)) {\n    var doc = window.Bokeh.index[id].model.document\n    doc.clear();\n    const i = window.Bokeh.documents.indexOf(doc);\n    if (i > -1) {\n      window.Bokeh.documents.splice(i, 1);\n    }\n  }\n}\n\n/**\n * Handle kernel restart event\n */\nfunction handle_kernel_cleanup(event, handle) {\n  delete PyViz.comms[\"hv-extension-comm\"];\n  window.PyViz.plot_index = {}\n}\n\n/**\n * Handle update_display_data messages\n */\nfunction handle_update_output(event, handle) {\n  handle_clear_output(event, {cell: {output_area: handle.output_area}})\n  handle_add_output(event, handle)\n}\n\nfunction register_renderer(events, OutputArea) {\n  function append_mime(data, metadata, element) {\n    // create a DOM node to render to\n    var toinsert = this.create_output_subarea(\n    metadata,\n    CLASS_NAME,\n    EXEC_MIME_TYPE\n    );\n    this.keyboard_manager.register_events(toinsert);\n    // Render to node\n    var props = {data: data, metadata: metadata[EXEC_MIME_TYPE]};\n    render(props, toinsert[0]);\n    element.append(toinsert);\n    return toinsert\n  }\n\n  events.on('output_added.OutputArea', handle_add_output);\n  events.on('output_updated.OutputArea', handle_update_output);\n  events.on('clear_output.CodeCell', handle_clear_output);\n  events.on('delete.Cell', handle_clear_output);\n  events.on('kernel_ready.Kernel', handle_kernel_cleanup);\n\n  OutputArea.prototype.register_mime_type(EXEC_MIME_TYPE, append_mime, {\n    safe: true,\n    index: 0\n  });\n}\n\nif (window.Jupyter !== undefined) {\n  try {\n    var events = require('base/js/events');\n    var OutputArea = require('notebook/js/outputarea').OutputArea;\n    if (OutputArea.prototype.mime_types().indexOf(EXEC_MIME_TYPE) == -1) {\n      register_renderer(events, OutputArea);\n    }\n  } catch(err) {\n  }\n}\n"
     },
     "metadata": {},
     "output_type": "display_data"
    },
    {
     "data": {
      "text/html": [
       "<style>*[data-root-id],\n",
       "*[data-root-id] > * {\n",
       "  box-sizing: border-box;\n",
       "  font-family: var(--jp-ui-font-family);\n",
       "  font-size: var(--jp-ui-font-size1);\n",
       "  color: var(--vscode-editor-foreground, var(--jp-ui-font-color1));\n",
       "}\n",
       "\n",
       "/* Override VSCode background color */\n",
       ".cell-output-ipywidget-background:has(\n",
       "    > .cell-output-ipywidget-background > .lm-Widget > *[data-root-id]\n",
       "  ),\n",
       ".cell-output-ipywidget-background:has(> .lm-Widget > *[data-root-id]) {\n",
       "  background-color: transparent !important;\n",
       "}\n",
       "</style>"
      ]
     },
     "metadata": {},
     "output_type": "display_data"
    }
   ],
   "source": [
    "import pandas as pd\n",
    "import numpy as np\n",
    "\n",
    "import holoviews as hv\n",
    "from holoviews import dim, opts\n",
    "import hvplot.pandas\n",
    "hvplot.extension('plotly')\n",
    "\n",
    "p = pd.read_excel('br_rendimento_2001_2019_anual.xlsx')\n",
    "\n",
    "rendimento = p.hvplot.line('Ano', ['efetivo real', 'habitual real'],\n",
    "                           height=500,\n",
    "                           width=750,\n",
    "                           rot=30,\n",
    "                           padding=0.05,\n",
    "                           cmap='Accent',\n",
    "                           xlim=(2000, 2020),\n",
    "                           xticks=10,\n",
    "                           ylim=(1000, 2500),\n",
    "                           group_label='Série',\n",
    "                           legend='bottom',\n",
    "                           xlabel='',\n",
    "                           ylabel='',\n",
    "                           yformatter='%.1f',\n",
    "                           label='Rendimento real do trabalho, Brasil, 2002-2019 (anual, em R$)'\n",
    "                          ).opts(fontsize={'title': 11, 'labels': 8, 'xticks': 8, 'yticks': 8})"
   ]
  },
  {
   "cell_type": "code",
   "execution_count": 20,
   "metadata": {
    "slideshow": {
     "slide_type": "slide"
    }
   },
   "outputs": [
    {
     "data": {},
     "metadata": {},
     "output_type": "display_data"
    },
    {
     "data": {
      "application/vnd.holoviews_exec.v0+json": "",
      "text/html": [
       "<div id='p1002'>\n",
       "  <div id=\"ed1878e8-4a93-488e-92f8-b57e182f1330\" data-root-id=\"p1002\" style=\"display: contents;\"></div>\n",
       "</div>\n",
       "<script type=\"application/javascript\">(function(root) {\n",
       "  var docs_json = {\"1651ba6f-ec01-4394-afb5-a66264314fd7\":{\"version\":\"3.1.1\",\"title\":\"Bokeh Application\",\"defs\":[{\"type\":\"model\",\"name\":\"ReactiveHTML1\"},{\"type\":\"model\",\"name\":\"FlexBox1\",\"properties\":[{\"name\":\"align_content\",\"kind\":\"Any\",\"default\":\"flex-start\"},{\"name\":\"align_items\",\"kind\":\"Any\",\"default\":\"flex-start\"},{\"name\":\"flex_direction\",\"kind\":\"Any\",\"default\":\"row\"},{\"name\":\"flex_wrap\",\"kind\":\"Any\",\"default\":\"wrap\"},{\"name\":\"justify_content\",\"kind\":\"Any\",\"default\":\"flex-start\"}]},{\"type\":\"model\",\"name\":\"FloatPanel1\",\"properties\":[{\"name\":\"config\",\"kind\":\"Any\",\"default\":{\"type\":\"map\"}},{\"name\":\"contained\",\"kind\":\"Any\",\"default\":true},{\"name\":\"position\",\"kind\":\"Any\",\"default\":\"right-top\"},{\"name\":\"offsetx\",\"kind\":\"Any\",\"default\":null},{\"name\":\"offsety\",\"kind\":\"Any\",\"default\":null},{\"name\":\"theme\",\"kind\":\"Any\",\"default\":\"primary\"},{\"name\":\"status\",\"kind\":\"Any\",\"default\":\"normalized\"}]},{\"type\":\"model\",\"name\":\"GridStack1\",\"properties\":[{\"name\":\"mode\",\"kind\":\"Any\",\"default\":\"warn\"},{\"name\":\"ncols\",\"kind\":\"Any\",\"default\":null},{\"name\":\"nrows\",\"kind\":\"Any\",\"default\":null},{\"name\":\"allow_resize\",\"kind\":\"Any\",\"default\":true},{\"name\":\"allow_drag\",\"kind\":\"Any\",\"default\":true},{\"name\":\"state\",\"kind\":\"Any\",\"default\":[]}]},{\"type\":\"model\",\"name\":\"drag1\",\"properties\":[{\"name\":\"slider_width\",\"kind\":\"Any\",\"default\":5},{\"name\":\"slider_color\",\"kind\":\"Any\",\"default\":\"black\"},{\"name\":\"value\",\"kind\":\"Any\",\"default\":50}]},{\"type\":\"model\",\"name\":\"click1\",\"properties\":[{\"name\":\"terminal_output\",\"kind\":\"Any\",\"default\":\"\"},{\"name\":\"debug_name\",\"kind\":\"Any\",\"default\":\"\"},{\"name\":\"clears\",\"kind\":\"Any\",\"default\":0}]},{\"type\":\"model\",\"name\":\"FastWrapper1\",\"properties\":[{\"name\":\"object\",\"kind\":\"Any\",\"default\":null},{\"name\":\"style\",\"kind\":\"Any\",\"default\":null}]},{\"type\":\"model\",\"name\":\"NotificationAreaBase1\",\"properties\":[{\"name\":\"js_events\",\"kind\":\"Any\",\"default\":{\"type\":\"map\"}},{\"name\":\"position\",\"kind\":\"Any\",\"default\":\"bottom-right\"},{\"name\":\"_clear\",\"kind\":\"Any\",\"default\":0}]},{\"type\":\"model\",\"name\":\"NotificationArea1\",\"properties\":[{\"name\":\"js_events\",\"kind\":\"Any\",\"default\":{\"type\":\"map\"}},{\"name\":\"notifications\",\"kind\":\"Any\",\"default\":[]},{\"name\":\"position\",\"kind\":\"Any\",\"default\":\"bottom-right\"},{\"name\":\"_clear\",\"kind\":\"Any\",\"default\":0},{\"name\":\"types\",\"kind\":\"Any\",\"default\":[{\"type\":\"map\",\"entries\":[[\"type\",\"warning\"],[\"background\",\"#ffc107\"],[\"icon\",{\"type\":\"map\",\"entries\":[[\"className\",\"fas fa-exclamation-triangle\"],[\"tagName\",\"i\"],[\"color\",\"white\"]]}]]},{\"type\":\"map\",\"entries\":[[\"type\",\"info\"],[\"background\",\"#007bff\"],[\"icon\",{\"type\":\"map\",\"entries\":[[\"className\",\"fas fa-info-circle\"],[\"tagName\",\"i\"],[\"color\",\"white\"]]}]]}]}]},{\"type\":\"model\",\"name\":\"Notification\",\"properties\":[{\"name\":\"background\",\"kind\":\"Any\",\"default\":null},{\"name\":\"duration\",\"kind\":\"Any\",\"default\":3000},{\"name\":\"icon\",\"kind\":\"Any\",\"default\":null},{\"name\":\"message\",\"kind\":\"Any\",\"default\":\"\"},{\"name\":\"notification_type\",\"kind\":\"Any\",\"default\":null},{\"name\":\"_destroyed\",\"kind\":\"Any\",\"default\":false}]},{\"type\":\"model\",\"name\":\"TemplateActions1\",\"properties\":[{\"name\":\"open_modal\",\"kind\":\"Any\",\"default\":0},{\"name\":\"close_modal\",\"kind\":\"Any\",\"default\":0}]},{\"type\":\"model\",\"name\":\"BootstrapTemplateActions1\",\"properties\":[{\"name\":\"open_modal\",\"kind\":\"Any\",\"default\":0},{\"name\":\"close_modal\",\"kind\":\"Any\",\"default\":0}]},{\"type\":\"model\",\"name\":\"MaterialTemplateActions1\",\"properties\":[{\"name\":\"open_modal\",\"kind\":\"Any\",\"default\":0},{\"name\":\"close_modal\",\"kind\":\"Any\",\"default\":0}]}],\"roots\":[{\"type\":\"object\",\"name\":\"Row\",\"id\":\"p1002\",\"attributes\":{\"name\":\"Row02836\",\"tags\":[\"embedded\"],\"stylesheets\":[\"\\n:host(.pn-loading.pn-arc):before, .pn-loading.pn-arc:before {\\n  background-image: url(\\\"data:image/svg+xml;base64,PHN2ZyB4bWxucz0iaHR0cDovL3d3dy53My5vcmcvMjAwMC9zdmciIHN0eWxlPSJtYXJnaW46IGF1dG87IGJhY2tncm91bmQ6IG5vbmU7IGRpc3BsYXk6IGJsb2NrOyBzaGFwZS1yZW5kZXJpbmc6IGF1dG87IiB2aWV3Qm94PSIwIDAgMTAwIDEwMCIgcHJlc2VydmVBc3BlY3RSYXRpbz0ieE1pZFlNaWQiPiAgPGNpcmNsZSBjeD0iNTAiIGN5PSI1MCIgZmlsbD0ibm9uZSIgc3Ryb2tlPSIjYzNjM2MzIiBzdHJva2Utd2lkdGg9IjEwIiByPSIzNSIgc3Ryb2tlLWRhc2hhcnJheT0iMTY0LjkzMzYxNDMxMzQ2NDE1IDU2Ljk3Nzg3MTQzNzgyMTM4Ij4gICAgPGFuaW1hdGVUcmFuc2Zvcm0gYXR0cmlidXRlTmFtZT0idHJhbnNmb3JtIiB0eXBlPSJyb3RhdGUiIHJlcGVhdENvdW50PSJpbmRlZmluaXRlIiBkdXI9IjFzIiB2YWx1ZXM9IjAgNTAgNTA7MzYwIDUwIDUwIiBrZXlUaW1lcz0iMDsxIj48L2FuaW1hdGVUcmFuc2Zvcm0+ICA8L2NpcmNsZT48L3N2Zz4=\\\");\\n  background-size: auto calc(min(50%, 400px));\\n}\",{\"type\":\"object\",\"name\":\"ImportedStyleSheet\",\"id\":\"p1005\",\"attributes\":{\"url\":\"https://cdn.holoviz.org/panel/1.2.3/dist/css/loading.css\"}},{\"type\":\"object\",\"name\":\"ImportedStyleSheet\",\"id\":\"p1019\",\"attributes\":{\"url\":\"https://cdn.holoviz.org/panel/1.2.3/dist/css/listpanel.css\"}},{\"type\":\"object\",\"name\":\"ImportedStyleSheet\",\"id\":\"p1003\",\"attributes\":{\"url\":\"https://cdn.holoviz.org/panel/1.2.3/dist/bundled/theme/default.css\"}},{\"type\":\"object\",\"name\":\"ImportedStyleSheet\",\"id\":\"p1004\",\"attributes\":{\"url\":\"https://cdn.holoviz.org/panel/1.2.3/dist/bundled/theme/native.css\"}}],\"margin\":0,\"sizing_mode\":\"stretch_width\",\"align\":\"start\",\"children\":[{\"type\":\"object\",\"name\":\"Spacer\",\"id\":\"p1006\",\"attributes\":{\"name\":\"HSpacer02847\",\"stylesheets\":[\"\\n:host(.pn-loading.pn-arc):before, .pn-loading.pn-arc:before {\\n  background-image: url(\\\"data:image/svg+xml;base64,PHN2ZyB4bWxucz0iaHR0cDovL3d3dy53My5vcmcvMjAwMC9zdmciIHN0eWxlPSJtYXJnaW46IGF1dG87IGJhY2tncm91bmQ6IG5vbmU7IGRpc3BsYXk6IGJsb2NrOyBzaGFwZS1yZW5kZXJpbmc6IGF1dG87IiB2aWV3Qm94PSIwIDAgMTAwIDEwMCIgcHJlc2VydmVBc3BlY3RSYXRpbz0ieE1pZFlNaWQiPiAgPGNpcmNsZSBjeD0iNTAiIGN5PSI1MCIgZmlsbD0ibm9uZSIgc3Ryb2tlPSIjYzNjM2MzIiBzdHJva2Utd2lkdGg9IjEwIiByPSIzNSIgc3Ryb2tlLWRhc2hhcnJheT0iMTY0LjkzMzYxNDMxMzQ2NDE1IDU2Ljk3Nzg3MTQzNzgyMTM4Ij4gICAgPGFuaW1hdGVUcmFuc2Zvcm0gYXR0cmlidXRlTmFtZT0idHJhbnNmb3JtIiB0eXBlPSJyb3RhdGUiIHJlcGVhdENvdW50PSJpbmRlZmluaXRlIiBkdXI9IjFzIiB2YWx1ZXM9IjAgNTAgNTA7MzYwIDUwIDUwIiBrZXlUaW1lcz0iMDsxIj48L2FuaW1hdGVUcmFuc2Zvcm0+ICA8L2NpcmNsZT48L3N2Zz4=\\\");\\n  background-size: auto calc(min(50%, 400px));\\n}\",{\"id\":\"p1005\"},{\"id\":\"p1003\"},{\"id\":\"p1004\"}],\"margin\":0,\"sizing_mode\":\"stretch_width\",\"align\":\"start\"}},{\"type\":\"object\",\"name\":\"panel.models.plotly.PlotlyPlot\",\"id\":\"p1015\",\"attributes\":{\"name\":\"Plotly02893\",\"stylesheets\":[\"\\n:host(.pn-loading.pn-arc):before, .pn-loading.pn-arc:before {\\n  background-image: url(\\\"data:image/svg+xml;base64,PHN2ZyB4bWxucz0iaHR0cDovL3d3dy53My5vcmcvMjAwMC9zdmciIHN0eWxlPSJtYXJnaW46IGF1dG87IGJhY2tncm91bmQ6IG5vbmU7IGRpc3BsYXk6IGJsb2NrOyBzaGFwZS1yZW5kZXJpbmc6IGF1dG87IiB2aWV3Qm94PSIwIDAgMTAwIDEwMCIgcHJlc2VydmVBc3BlY3RSYXRpbz0ieE1pZFlNaWQiPiAgPGNpcmNsZSBjeD0iNTAiIGN5PSI1MCIgZmlsbD0ibm9uZSIgc3Ryb2tlPSIjYzNjM2MzIiBzdHJva2Utd2lkdGg9IjEwIiByPSIzNSIgc3Ryb2tlLWRhc2hhcnJheT0iMTY0LjkzMzYxNDMxMzQ2NDE1IDU2Ljk3Nzg3MTQzNzgyMTM4Ij4gICAgPGFuaW1hdGVUcmFuc2Zvcm0gYXR0cmlidXRlTmFtZT0idHJhbnNmb3JtIiB0eXBlPSJyb3RhdGUiIHJlcGVhdENvdW50PSJpbmRlZmluaXRlIiBkdXI9IjFzIiB2YWx1ZXM9IjAgNTAgNTA7MzYwIDUwIDUwIiBrZXlUaW1lcz0iMDsxIj48L2FuaW1hdGVUcmFuc2Zvcm0+ICA8L2NpcmNsZT48L3N2Zz4=\\\");\\n  background-size: auto calc(min(50%, 400px));\\n}\",{\"id\":\"p1005\"},{\"type\":\"object\",\"name\":\"ImportedStyleSheet\",\"id\":\"p1014\",\"attributes\":{\"url\":\"https://cdn.holoviz.org/panel/1.2.3/dist/css/plotly.css\"}},{\"id\":\"p1003\"},{\"id\":\"p1004\"},\":host { --plotly-icon-color: gray; --plotly-active-icon-color: #2a3f5f; }\"],\"margin\":[5,10],\"align\":\"start\",\"data\":[{\"type\":\"map\",\"entries\":[[\"legendgroup\",\"Curve_S\\u00e9rie: efetivo real\"],[\"line\",{\"type\":\"map\",\"entries\":[[\"color\",\"#30a2da\"],[\"width\",2]]}],[\"mode\",\"lines\"],[\"name\",\"S\\u00e9rie: efetivo real\"],[\"showlegend\",true],[\"uid\",\"c172ec45-a439-4521-9646-a414a4b0121b\"],[\"type\",\"scatter\"]]},{\"type\":\"map\",\"entries\":[[\"legendgroup\",\"Curve_S\\u00e9rie: habitual real\"],[\"line\",{\"type\":\"map\",\"entries\":[[\"color\",\"#fc4f30\"],[\"width\",2]]}],[\"mode\",\"lines\"],[\"name\",\"S\\u00e9rie: habitual real\"],[\"showlegend\",true],[\"uid\",\"8837ed0d-05fe-44c7-9e9e-5f88e158dd05\"],[\"type\",\"scatter\"]]}],\"layout\":{\"type\":\"map\",\"entries\":[[\"autosize\",false],[\"height\",500],[\"margin\",{\"type\":\"map\",\"entries\":[[\"b\",50],[\"l\",50],[\"pad\",4],[\"r\",50],[\"t\",50]]}],[\"title\",{\"type\":\"map\",\"entries\":[[\"text\",\"Rendimento real do trabalho, Brasil, 2002-2019 (anual, em R$)\"]]}],[\"uirevision\",true],[\"width\",750],[\"xaxis\",{\"type\":\"map\",\"entries\":[[\"automargin\",false],[\"range\",[2000,2020]],[\"side\",\"bottom\"],[\"title\",{\"type\":\"map\",\"entries\":[[\"text\",\"\"]]}]]}],[\"yaxis\",{\"type\":\"map\",\"entries\":[[\"automargin\",false],[\"range\",[1000,2500]],[\"side\",\"left\"],[\"title\",{\"type\":\"map\",\"entries\":[[\"text\",\"\"]]}]]}],[\"template\",{\"type\":\"map\",\"entries\":[[\"data\",{\"type\":\"map\",\"entries\":[[\"histogram2dcontour\",[{\"type\":\"map\",\"entries\":[[\"type\",\"histogram2dcontour\"],[\"colorbar\",{\"type\":\"map\",\"entries\":[[\"outlinewidth\",0],[\"ticks\",\"\"]]}],[\"colorscale\",[[0.0,\"#0d0887\"],[0.1111111111111111,\"#46039f\"],[0.2222222222222222,\"#7201a8\"],[0.3333333333333333,\"#9c179e\"],[0.4444444444444444,\"#bd3786\"],[0.5555555555555556,\"#d8576b\"],[0.6666666666666666,\"#ed7953\"],[0.7777777777777778,\"#fb9f3a\"],[0.8888888888888888,\"#fdca26\"],[1.0,\"#f0f921\"]]]]}]],[\"choropleth\",[{\"type\":\"map\",\"entries\":[[\"type\",\"choropleth\"],[\"colorbar\",{\"type\":\"map\",\"entries\":[[\"outlinewidth\",0],[\"ticks\",\"\"]]}]]}]],[\"histogram2d\",[{\"type\":\"map\",\"entries\":[[\"type\",\"histogram2d\"],[\"colorbar\",{\"type\":\"map\",\"entries\":[[\"outlinewidth\",0],[\"ticks\",\"\"]]}],[\"colorscale\",[[0.0,\"#0d0887\"],[0.1111111111111111,\"#46039f\"],[0.2222222222222222,\"#7201a8\"],[0.3333333333333333,\"#9c179e\"],[0.4444444444444444,\"#bd3786\"],[0.5555555555555556,\"#d8576b\"],[0.6666666666666666,\"#ed7953\"],[0.7777777777777778,\"#fb9f3a\"],[0.8888888888888888,\"#fdca26\"],[1.0,\"#f0f921\"]]]]}]],[\"heatmap\",[{\"type\":\"map\",\"entries\":[[\"type\",\"heatmap\"],[\"colorbar\",{\"type\":\"map\",\"entries\":[[\"outlinewidth\",0],[\"ticks\",\"\"]]}],[\"colorscale\",[[0.0,\"#0d0887\"],[0.1111111111111111,\"#46039f\"],[0.2222222222222222,\"#7201a8\"],[0.3333333333333333,\"#9c179e\"],[0.4444444444444444,\"#bd3786\"],[0.5555555555555556,\"#d8576b\"],[0.6666666666666666,\"#ed7953\"],[0.7777777777777778,\"#fb9f3a\"],[0.8888888888888888,\"#fdca26\"],[1.0,\"#f0f921\"]]]]}]],[\"heatmapgl\",[{\"type\":\"map\",\"entries\":[[\"type\",\"heatmapgl\"],[\"colorbar\",{\"type\":\"map\",\"entries\":[[\"outlinewidth\",0],[\"ticks\",\"\"]]}],[\"colorscale\",[[0.0,\"#0d0887\"],[0.1111111111111111,\"#46039f\"],[0.2222222222222222,\"#7201a8\"],[0.3333333333333333,\"#9c179e\"],[0.4444444444444444,\"#bd3786\"],[0.5555555555555556,\"#d8576b\"],[0.6666666666666666,\"#ed7953\"],[0.7777777777777778,\"#fb9f3a\"],[0.8888888888888888,\"#fdca26\"],[1.0,\"#f0f921\"]]]]}]],[\"contourcarpet\",[{\"type\":\"map\",\"entries\":[[\"type\",\"contourcarpet\"],[\"colorbar\",{\"type\":\"map\",\"entries\":[[\"outlinewidth\",0],[\"ticks\",\"\"]]}]]}]],[\"contour\",[{\"type\":\"map\",\"entries\":[[\"type\",\"contour\"],[\"colorbar\",{\"type\":\"map\",\"entries\":[[\"outlinewidth\",0],[\"ticks\",\"\"]]}],[\"colorscale\",[[0.0,\"#0d0887\"],[0.1111111111111111,\"#46039f\"],[0.2222222222222222,\"#7201a8\"],[0.3333333333333333,\"#9c179e\"],[0.4444444444444444,\"#bd3786\"],[0.5555555555555556,\"#d8576b\"],[0.6666666666666666,\"#ed7953\"],[0.7777777777777778,\"#fb9f3a\"],[0.8888888888888888,\"#fdca26\"],[1.0,\"#f0f921\"]]]]}]],[\"surface\",[{\"type\":\"map\",\"entries\":[[\"type\",\"surface\"],[\"colorbar\",{\"type\":\"map\",\"entries\":[[\"outlinewidth\",0],[\"ticks\",\"\"]]}],[\"colorscale\",[[0.0,\"#0d0887\"],[0.1111111111111111,\"#46039f\"],[0.2222222222222222,\"#7201a8\"],[0.3333333333333333,\"#9c179e\"],[0.4444444444444444,\"#bd3786\"],[0.5555555555555556,\"#d8576b\"],[0.6666666666666666,\"#ed7953\"],[0.7777777777777778,\"#fb9f3a\"],[0.8888888888888888,\"#fdca26\"],[1.0,\"#f0f921\"]]]]}]],[\"mesh3d\",[{\"type\":\"map\",\"entries\":[[\"type\",\"mesh3d\"],[\"colorbar\",{\"type\":\"map\",\"entries\":[[\"outlinewidth\",0],[\"ticks\",\"\"]]}]]}]],[\"scatter\",[{\"type\":\"map\",\"entries\":[[\"fillpattern\",{\"type\":\"map\",\"entries\":[[\"fillmode\",\"overlay\"],[\"size\",10],[\"solidity\",0.2]]}],[\"type\",\"scatter\"]]}]],[\"parcoords\",[{\"type\":\"map\",\"entries\":[[\"type\",\"parcoords\"],[\"line\",{\"type\":\"map\",\"entries\":[[\"colorbar\",{\"type\":\"map\",\"entries\":[[\"outlinewidth\",0],[\"ticks\",\"\"]]}]]}]]}]],[\"scatterpolargl\",[{\"type\":\"map\",\"entries\":[[\"type\",\"scatterpolargl\"],[\"marker\",{\"type\":\"map\",\"entries\":[[\"colorbar\",{\"type\":\"map\",\"entries\":[[\"outlinewidth\",0],[\"ticks\",\"\"]]}]]}]]}]],[\"bar\",[{\"type\":\"map\",\"entries\":[[\"error_x\",{\"type\":\"map\",\"entries\":[[\"color\",\"#2a3f5f\"]]}],[\"error_y\",{\"type\":\"map\",\"entries\":[[\"color\",\"#2a3f5f\"]]}],[\"marker\",{\"type\":\"map\",\"entries\":[[\"line\",{\"type\":\"map\",\"entries\":[[\"color\",\"#E5ECF6\"],[\"width\",0.5]]}],[\"pattern\",{\"type\":\"map\",\"entries\":[[\"fillmode\",\"overlay\"],[\"size\",10],[\"solidity\",0.2]]}]]}],[\"type\",\"bar\"]]}]],[\"scattergeo\",[{\"type\":\"map\",\"entries\":[[\"type\",\"scattergeo\"],[\"marker\",{\"type\":\"map\",\"entries\":[[\"colorbar\",{\"type\":\"map\",\"entries\":[[\"outlinewidth\",0],[\"ticks\",\"\"]]}]]}]]}]],[\"scatterpolar\",[{\"type\":\"map\",\"entries\":[[\"type\",\"scatterpolar\"],[\"marker\",{\"type\":\"map\",\"entries\":[[\"colorbar\",{\"type\":\"map\",\"entries\":[[\"outlinewidth\",0],[\"ticks\",\"\"]]}]]}]]}]],[\"histogram\",[{\"type\":\"map\",\"entries\":[[\"marker\",{\"type\":\"map\",\"entries\":[[\"pattern\",{\"type\":\"map\",\"entries\":[[\"fillmode\",\"overlay\"],[\"size\",10],[\"solidity\",0.2]]}]]}],[\"type\",\"histogram\"]]}]],[\"scattergl\",[{\"type\":\"map\",\"entries\":[[\"type\",\"scattergl\"],[\"marker\",{\"type\":\"map\",\"entries\":[[\"colorbar\",{\"type\":\"map\",\"entries\":[[\"outlinewidth\",0],[\"ticks\",\"\"]]}]]}]]}]],[\"scatter3d\",[{\"type\":\"map\",\"entries\":[[\"type\",\"scatter3d\"],[\"line\",{\"type\":\"map\",\"entries\":[[\"colorbar\",{\"type\":\"map\",\"entries\":[[\"outlinewidth\",0],[\"ticks\",\"\"]]}]]}],[\"marker\",{\"type\":\"map\",\"entries\":[[\"colorbar\",{\"type\":\"map\",\"entries\":[[\"outlinewidth\",0],[\"ticks\",\"\"]]}]]}]]}]],[\"scattermapbox\",[{\"type\":\"map\",\"entries\":[[\"type\",\"scattermapbox\"],[\"marker\",{\"type\":\"map\",\"entries\":[[\"colorbar\",{\"type\":\"map\",\"entries\":[[\"outlinewidth\",0],[\"ticks\",\"\"]]}]]}]]}]],[\"scatterternary\",[{\"type\":\"map\",\"entries\":[[\"type\",\"scatterternary\"],[\"marker\",{\"type\":\"map\",\"entries\":[[\"colorbar\",{\"type\":\"map\",\"entries\":[[\"outlinewidth\",0],[\"ticks\",\"\"]]}]]}]]}]],[\"scattercarpet\",[{\"type\":\"map\",\"entries\":[[\"type\",\"scattercarpet\"],[\"marker\",{\"type\":\"map\",\"entries\":[[\"colorbar\",{\"type\":\"map\",\"entries\":[[\"outlinewidth\",0],[\"ticks\",\"\"]]}]]}]]}]],[\"carpet\",[{\"type\":\"map\",\"entries\":[[\"aaxis\",{\"type\":\"map\",\"entries\":[[\"endlinecolor\",\"#2a3f5f\"],[\"gridcolor\",\"white\"],[\"linecolor\",\"white\"],[\"minorgridcolor\",\"white\"],[\"startlinecolor\",\"#2a3f5f\"]]}],[\"baxis\",{\"type\":\"map\",\"entries\":[[\"endlinecolor\",\"#2a3f5f\"],[\"gridcolor\",\"white\"],[\"linecolor\",\"white\"],[\"minorgridcolor\",\"white\"],[\"startlinecolor\",\"#2a3f5f\"]]}],[\"type\",\"carpet\"]]}]],[\"table\",[{\"type\":\"map\",\"entries\":[[\"cells\",{\"type\":\"map\",\"entries\":[[\"fill\",{\"type\":\"map\",\"entries\":[[\"color\",\"#EBF0F8\"]]}],[\"line\",{\"type\":\"map\",\"entries\":[[\"color\",\"white\"]]}]]}],[\"header\",{\"type\":\"map\",\"entries\":[[\"fill\",{\"type\":\"map\",\"entries\":[[\"color\",\"#C8D4E3\"]]}],[\"line\",{\"type\":\"map\",\"entries\":[[\"color\",\"white\"]]}]]}],[\"type\",\"table\"]]}]],[\"barpolar\",[{\"type\":\"map\",\"entries\":[[\"marker\",{\"type\":\"map\",\"entries\":[[\"line\",{\"type\":\"map\",\"entries\":[[\"color\",\"#E5ECF6\"],[\"width\",0.5]]}],[\"pattern\",{\"type\":\"map\",\"entries\":[[\"fillmode\",\"overlay\"],[\"size\",10],[\"solidity\",0.2]]}]]}],[\"type\",\"barpolar\"]]}]],[\"pie\",[{\"type\":\"map\",\"entries\":[[\"automargin\",true],[\"type\",\"pie\"]]}]]]}],[\"layout\",{\"type\":\"map\",\"entries\":[[\"autotypenumbers\",\"strict\"],[\"colorway\",[\"#636efa\",\"#EF553B\",\"#00cc96\",\"#ab63fa\",\"#FFA15A\",\"#19d3f3\",\"#FF6692\",\"#B6E880\",\"#FF97FF\",\"#FECB52\"]],[\"font\",{\"type\":\"map\",\"entries\":[[\"color\",\"#2a3f5f\"]]}],[\"hovermode\",\"closest\"],[\"hoverlabel\",{\"type\":\"map\",\"entries\":[[\"align\",\"left\"]]}],[\"paper_bgcolor\",\"white\"],[\"plot_bgcolor\",\"#E5ECF6\"],[\"polar\",{\"type\":\"map\",\"entries\":[[\"bgcolor\",\"#E5ECF6\"],[\"angularaxis\",{\"type\":\"map\",\"entries\":[[\"gridcolor\",\"white\"],[\"linecolor\",\"white\"],[\"ticks\",\"\"]]}],[\"radialaxis\",{\"type\":\"map\",\"entries\":[[\"gridcolor\",\"white\"],[\"linecolor\",\"white\"],[\"ticks\",\"\"]]}]]}],[\"ternary\",{\"type\":\"map\",\"entries\":[[\"bgcolor\",\"#E5ECF6\"],[\"aaxis\",{\"type\":\"map\",\"entries\":[[\"gridcolor\",\"white\"],[\"linecolor\",\"white\"],[\"ticks\",\"\"]]}],[\"baxis\",{\"type\":\"map\",\"entries\":[[\"gridcolor\",\"white\"],[\"linecolor\",\"white\"],[\"ticks\",\"\"]]}],[\"caxis\",{\"type\":\"map\",\"entries\":[[\"gridcolor\",\"white\"],[\"linecolor\",\"white\"],[\"ticks\",\"\"]]}]]}],[\"coloraxis\",{\"type\":\"map\",\"entries\":[[\"colorbar\",{\"type\":\"map\",\"entries\":[[\"outlinewidth\",0],[\"ticks\",\"\"]]}]]}],[\"colorscale\",{\"type\":\"map\",\"entries\":[[\"sequential\",[[0.0,\"#0d0887\"],[0.1111111111111111,\"#46039f\"],[0.2222222222222222,\"#7201a8\"],[0.3333333333333333,\"#9c179e\"],[0.4444444444444444,\"#bd3786\"],[0.5555555555555556,\"#d8576b\"],[0.6666666666666666,\"#ed7953\"],[0.7777777777777778,\"#fb9f3a\"],[0.8888888888888888,\"#fdca26\"],[1.0,\"#f0f921\"]]],[\"sequentialminus\",[[0.0,\"#0d0887\"],[0.1111111111111111,\"#46039f\"],[0.2222222222222222,\"#7201a8\"],[0.3333333333333333,\"#9c179e\"],[0.4444444444444444,\"#bd3786\"],[0.5555555555555556,\"#d8576b\"],[0.6666666666666666,\"#ed7953\"],[0.7777777777777778,\"#fb9f3a\"],[0.8888888888888888,\"#fdca26\"],[1.0,\"#f0f921\"]]],[\"diverging\",[[0,\"#8e0152\"],[0.1,\"#c51b7d\"],[0.2,\"#de77ae\"],[0.3,\"#f1b6da\"],[0.4,\"#fde0ef\"],[0.5,\"#f7f7f7\"],[0.6,\"#e6f5d0\"],[0.7,\"#b8e186\"],[0.8,\"#7fbc41\"],[0.9,\"#4d9221\"],[1,\"#276419\"]]]]}],[\"xaxis\",{\"type\":\"map\",\"entries\":[[\"gridcolor\",\"white\"],[\"linecolor\",\"white\"],[\"ticks\",\"\"],[\"title\",{\"type\":\"map\",\"entries\":[[\"standoff\",15]]}],[\"zerolinecolor\",\"white\"],[\"automargin\",true],[\"zerolinewidth\",2]]}],[\"yaxis\",{\"type\":\"map\",\"entries\":[[\"gridcolor\",\"white\"],[\"linecolor\",\"white\"],[\"ticks\",\"\"],[\"title\",{\"type\":\"map\",\"entries\":[[\"standoff\",15]]}],[\"zerolinecolor\",\"white\"],[\"automargin\",true],[\"zerolinewidth\",2]]}],[\"scene\",{\"type\":\"map\",\"entries\":[[\"xaxis\",{\"type\":\"map\",\"entries\":[[\"backgroundcolor\",\"#E5ECF6\"],[\"gridcolor\",\"white\"],[\"linecolor\",\"white\"],[\"showbackground\",true],[\"ticks\",\"\"],[\"zerolinecolor\",\"white\"],[\"gridwidth\",2]]}],[\"yaxis\",{\"type\":\"map\",\"entries\":[[\"backgroundcolor\",\"#E5ECF6\"],[\"gridcolor\",\"white\"],[\"linecolor\",\"white\"],[\"showbackground\",true],[\"ticks\",\"\"],[\"zerolinecolor\",\"white\"],[\"gridwidth\",2]]}],[\"zaxis\",{\"type\":\"map\",\"entries\":[[\"backgroundcolor\",\"#E5ECF6\"],[\"gridcolor\",\"white\"],[\"linecolor\",\"white\"],[\"showbackground\",true],[\"ticks\",\"\"],[\"zerolinecolor\",\"white\"],[\"gridwidth\",2]]}]]}],[\"shapedefaults\",{\"type\":\"map\",\"entries\":[[\"line\",{\"type\":\"map\",\"entries\":[[\"color\",\"#2a3f5f\"]]}]]}],[\"annotationdefaults\",{\"type\":\"map\",\"entries\":[[\"arrowcolor\",\"#2a3f5f\"],[\"arrowhead\",0],[\"arrowwidth\",1]]}],[\"geo\",{\"type\":\"map\",\"entries\":[[\"bgcolor\",\"white\"],[\"landcolor\",\"#E5ECF6\"],[\"subunitcolor\",\"white\"],[\"showland\",true],[\"showlakes\",true],[\"lakecolor\",\"white\"]]}],[\"title\",{\"type\":\"map\",\"entries\":[[\"x\",0.05]]}],[\"mapbox\",{\"type\":\"map\",\"entries\":[[\"style\",\"light\"]]}]]}]]}]]},\"config\":{\"type\":\"map\",\"entries\":[[\"responsive\",false]]},\"data_sources\":[{\"type\":\"object\",\"name\":\"ColumnDataSource\",\"id\":\"p1007\",\"attributes\":{\"selected\":{\"type\":\"object\",\"name\":\"Selection\",\"id\":\"p1008\",\"attributes\":{\"indices\":[],\"line_indices\":[]}},\"selection_policy\":{\"type\":\"object\",\"name\":\"UnionRenderers\",\"id\":\"p1009\"},\"data\":{\"type\":\"map\",\"entries\":[[\"x\",[{\"type\":\"ndarray\",\"array\":{\"type\":\"bytes\",\"data\":\"0gcAANMHAADUBwAA1QcAANYHAADXBwAA2AcAANkHAADaBwAA2wcAANwHAADdBwAA3gcAAN8HAADgBwAA4QcAAOIHAADjBwAA\"},\"shape\":[18],\"dtype\":\"int32\",\"order\":\"little\"}]],[\"y\",[{\"type\":\"ndarray\",\"array\":{\"type\":\"bytes\",\"data\":\"Ppb8YglEm0BJbaDTxuyZQFK4HoUr+5lA/3PaQGdOmkCbJb9Y8pSbQFEs+cWSe5xAFK5H4XocnUBI4XoUbsidQKPkF0t+7Z5APH6x5Bffn0D/OW2gk5agQB6/WPLL7qBAroFOG0hXoUB72kCnrbugQAAAAAAAAPh/AAAAAAAA+H8AAAAAAAD4fwAAAAAAAPh/\"},\"shape\":[18],\"dtype\":\"float64\",\"order\":\"little\"}]]]}}},{\"type\":\"object\",\"name\":\"ColumnDataSource\",\"id\":\"p1010\",\"attributes\":{\"selected\":{\"type\":\"object\",\"name\":\"Selection\",\"id\":\"p1011\",\"attributes\":{\"indices\":[],\"line_indices\":[]}},\"selection_policy\":{\"type\":\"object\",\"name\":\"UnionRenderers\",\"id\":\"p1012\"},\"data\":{\"type\":\"map\",\"entries\":[[\"x\",[{\"type\":\"ndarray\",\"array\":{\"type\":\"bytes\",\"data\":\"0gcAANMHAADUBwAA1QcAANYHAADXBwAA2AcAANkHAADaBwAA2wcAANwHAADdBwAA3gcAAN8HAADgBwAA4QcAAOIHAADjBwAA\"},\"shape\":[18],\"dtype\":\"int32\",\"order\":\"little\"}]],[\"y\",[{\"type\":\"ndarray\",\"array\":{\"type\":\"bytes\",\"data\":\"AAAAAAAA+H8AAAAAAAD4fwAAAAAAAPh/AAAAAAAA+H8AAAAAAAD4fwAAAAAAAPh/AAAAAAAA+H8AAAAAAAD4fwAAAAAAAPh/AAAAAAAA+H8zMzMzM0KeQK5H4XoUeZ9ApHA9Ctf4n0D1nDbQqa+fQLeSXyz5SJ9A/3PaQCeLn0C4HoXr0befQKRwPQoXrZ9A\"},\"shape\":[18],\"dtype\":\"float64\",\"order\":\"little\"}]]]}}}],\"relayout\":null,\"restyle\":null,\"viewport_update_throttle\":200}},{\"type\":\"object\",\"name\":\"Spacer\",\"id\":\"p1017\",\"attributes\":{\"name\":\"HSpacer02850\",\"stylesheets\":[\"\\n:host(.pn-loading.pn-arc):before, .pn-loading.pn-arc:before {\\n  background-image: url(\\\"data:image/svg+xml;base64,PHN2ZyB4bWxucz0iaHR0cDovL3d3dy53My5vcmcvMjAwMC9zdmciIHN0eWxlPSJtYXJnaW46IGF1dG87IGJhY2tncm91bmQ6IG5vbmU7IGRpc3BsYXk6IGJsb2NrOyBzaGFwZS1yZW5kZXJpbmc6IGF1dG87IiB2aWV3Qm94PSIwIDAgMTAwIDEwMCIgcHJlc2VydmVBc3BlY3RSYXRpbz0ieE1pZFlNaWQiPiAgPGNpcmNsZSBjeD0iNTAiIGN5PSI1MCIgZmlsbD0ibm9uZSIgc3Ryb2tlPSIjYzNjM2MzIiBzdHJva2Utd2lkdGg9IjEwIiByPSIzNSIgc3Ryb2tlLWRhc2hhcnJheT0iMTY0LjkzMzYxNDMxMzQ2NDE1IDU2Ljk3Nzg3MTQzNzgyMTM4Ij4gICAgPGFuaW1hdGVUcmFuc2Zvcm0gYXR0cmlidXRlTmFtZT0idHJhbnNmb3JtIiB0eXBlPSJyb3RhdGUiIHJlcGVhdENvdW50PSJpbmRlZmluaXRlIiBkdXI9IjFzIiB2YWx1ZXM9IjAgNTAgNTA7MzYwIDUwIDUwIiBrZXlUaW1lcz0iMDsxIj48L2FuaW1hdGVUcmFuc2Zvcm0+ICA8L2NpcmNsZT48L3N2Zz4=\\\");\\n  background-size: auto calc(min(50%, 400px));\\n}\",{\"id\":\"p1005\"},{\"id\":\"p1003\"},{\"id\":\"p1004\"}],\"margin\":0,\"sizing_mode\":\"stretch_width\",\"align\":\"start\"}}]}}],\"callbacks\":{\"type\":\"map\"}}};\n",
       "  var render_items = [{\"docid\":\"1651ba6f-ec01-4394-afb5-a66264314fd7\",\"roots\":{\"p1002\":\"ed1878e8-4a93-488e-92f8-b57e182f1330\"},\"root_ids\":[\"p1002\"]}];\n",
       "  var docs = Object.values(docs_json)\n",
       "  if (!docs) {\n",
       "    return\n",
       "  }\n",
       "  const py_version = docs[0].version.replace('rc', '-rc.').replace('.dev', '-dev.')\n",
       "  const is_dev = py_version.indexOf(\"+\") !== -1 || py_version.indexOf(\"-\") !== -1\n",
       "  function embed_document(root) {\n",
       "    var Bokeh = get_bokeh(root)\n",
       "    Bokeh.embed.embed_items_notebook(docs_json, render_items);\n",
       "    for (const render_item of render_items) {\n",
       "      for (const root_id of render_item.root_ids) {\n",
       "\tconst id_el = document.getElementById(root_id)\n",
       "\tif (id_el.children.length && (id_el.children[0].className === 'bk-root')) {\n",
       "\t  const root_el = id_el.children[0]\n",
       "\t  root_el.id = root_el.id + '-rendered'\n",
       "\t}\n",
       "      }\n",
       "    }\n",
       "  }\n",
       "  function get_bokeh(root) {\n",
       "    if (root.Bokeh === undefined) {\n",
       "      return null\n",
       "    } else if (root.Bokeh.version !== py_version && !is_dev) {\n",
       "      if (root.Bokeh.versions === undefined || !root.Bokeh.versions.has(py_version)) {\n",
       "\treturn null\n",
       "      }\n",
       "      return root.Bokeh.versions.get(py_version);\n",
       "    } else if (root.Bokeh.version === py_version) {\n",
       "      return root.Bokeh\n",
       "    }\n",
       "    return null\n",
       "  }\n",
       "  function is_loaded(root) {\n",
       "    var Bokeh = get_bokeh(root)\n",
       "    return (Bokeh != null && Bokeh.Panel !== undefined && ( root['Plotly'] !== undefined))\n",
       "  }\n",
       "  if (is_loaded(root)) {\n",
       "    embed_document(root);\n",
       "  } else {\n",
       "    var attempts = 0;\n",
       "    var timer = setInterval(function(root) {\n",
       "      if (is_loaded(root)) {\n",
       "        clearInterval(timer);\n",
       "        embed_document(root);\n",
       "      } else if (document.readyState == \"complete\") {\n",
       "        attempts++;\n",
       "        if (attempts > 200) {\n",
       "          clearInterval(timer);\n",
       "\t  var Bokeh = get_bokeh(root)\n",
       "\t  if (Bokeh == null || Bokeh.Panel == null) {\n",
       "            console.warn(\"Panel: ERROR: Unable to run Panel code because Bokeh or Panel library is missing\");\n",
       "\t  } else {\n",
       "\t    console.warn(\"Panel: WARNING: Attempting to render but not all required libraries could be resolved.\")\n",
       "\t    embed_document(root)\n",
       "\t  }\n",
       "        }\n",
       "      }\n",
       "    }, 25, root)\n",
       "  }\n",
       "})(window);</script>"
      ],
      "text/plain": [
       ":NdOverlay   [Série]\n",
       "   :Curve   [Ano]   (value)"
      ]
     },
     "execution_count": 20,
     "metadata": {
      "application/vnd.holoviews_exec.v0+json": {
       "id": "p1002"
      }
     },
     "output_type": "execute_result"
    }
   ],
   "source": [
    "rendimento"
   ]
  },
  {
   "cell_type": "markdown",
   "metadata": {
    "slideshow": {
     "slide_type": "slide"
    }
   },
   "source": [
    "## Desigualdade no longo prazo (com PNAD)\n",
    "\n",
    "A crise da dívida externa levou a aumentos substanciais nos já elevados níveis de desigualdade (medida pelo índice de Gini) na\n",
    "distribuição da renda no Brasil: 0,574 em 1981 para 0,628 em 1989.(!)"
   ]
  },
  {
   "cell_type": "markdown",
   "metadata": {
    "slideshow": {
     "slide_type": "fragment"
    }
   },
   "source": [
    "Nos anos 1990, a desigualdade caiu e depois estabilizou-se (Gini por volta de 0,590/0,600). "
   ]
  },
  {
   "cell_type": "markdown",
   "metadata": {
    "slideshow": {
     "slide_type": "fragment"
    }
   },
   "source": [
    "A partir de 2002, houve queda expressiva e sustentada da desigualdade no Brasil, conforme medida pela PNAD (Pesquisa Nacional por Amostra de Domicílios)."
   ]
  },
  {
   "cell_type": "markdown",
   "metadata": {
    "slideshow": {
     "slide_type": "subslide"
    }
   },
   "source": [
    "Porém, os índices continuaram elevados em termos internacionais e a parcela mais pobre da população permaneceu em situação social muito precária. Ver as figuras."
   ]
  },
  {
   "cell_type": "markdown",
   "metadata": {
    "slideshow": {
     "slide_type": "slide"
    }
   },
   "source": [
    "## <center>Índice de Gini, renda do trabalho (PNAD)</center>\n",
    "\n",
    "<center><img src=\"br_gini_1981_2013.png\" width=\"800\" height=\"550\"></center>"
   ]
  },
  {
   "cell_type": "markdown",
   "metadata": {
    "slideshow": {
     "slide_type": "subslide"
    }
   },
   "source": [
    "## <center>Ricos e pobres</center>\n",
    "\n",
    "<center><img src=\"br_ricos_1981_2009.png\" width=\"800\" height=\"550\"></center>"
   ]
  },
  {
   "cell_type": "markdown",
   "metadata": {
    "slideshow": {
     "slide_type": "slide"
    }
   },
   "source": [
    "## Persistência?\n",
    "\n",
    "No entanto, quando são combinados os dados das pesquisas domiciliares (renda do trabalho) e os dados fiscais (recentemente disponíveis), o quadro anterior muda para este período recente."
   ]
  },
  {
   "cell_type": "markdown",
   "metadata": {
    "slideshow": {
     "slide_type": "fragment"
    }
   },
   "source": [
    "Com dados ajustados (PNAD e dados fiscais), o que ocorreu no período de maior redução da desigualdade de renda visto anteriormente?"
   ]
  },
  {
   "cell_type": "markdown",
   "metadata": {
    "slideshow": {
     "slide_type": "fragment"
    }
   },
   "source": [
    "Os índices de Gini mantêm-se estáveis ou até se elevam (se for considerado o topo da distribuição) entre 2006 e 2012."
   ]
  },
  {
   "cell_type": "markdown",
   "metadata": {
    "slideshow": {
     "slide_type": "slide"
    }
   },
   "source": [
    "## <center>Gini com PNAD e dados fiscais</center>\n",
    "\n",
    "<center><img src=\"br_gini_2006_2012.png\" width=\"800\" height=\"450\"></center>"
   ]
  },
  {
   "cell_type": "markdown",
   "metadata": {
    "slideshow": {
     "slide_type": "slide"
    }
   },
   "source": [
    "## Desigualdade recente no contexto internacional\n",
    "\n",
    "Deterioração macroeconômica, aumento do desemprego e queda dos rendimentos do trabalho após 2014 foram acompanhados por aumento da desigualdade na distribuição da renda."
   ]
  },
  {
   "cell_type": "markdown",
   "metadata": {
    "slideshow": {
     "slide_type": "fragment"
    }
   },
   "source": [
    "Na média da América Latina, a desigualdade da renda continuou caindo nos anos recentes, mas o Brasil divergiu dessa tendência."
   ]
  },
  {
   "cell_type": "markdown",
   "metadata": {
    "slideshow": {
     "slide_type": "fragment"
    }
   },
   "source": [
    "Entre os países da América Latina, o Brasil se destaca com o maior aumento da desigualdade pós-2014, conf. abaixo.  "
   ]
  },
  {
   "cell_type": "markdown",
   "metadata": {
    "scrolled": true,
    "slideshow": {
     "slide_type": "slide"
    }
   },
   "source": [
    "## <center>Gini da América Latina, 2002-2018</center>\n",
    "\n",
    "<center><img src=\"al_gini_2002_2018.png\" width=\"800\" height=\"500\"></center>"
   ]
  },
  {
   "cell_type": "markdown",
   "metadata": {
    "slideshow": {
     "slide_type": "slide"
    }
   },
   "source": [
    "## Pobreza\n",
    "\n",
    "Outra dimensão da desigualdade é o número de pessoas vivendo abaixo da linha de pobreza, dada pela renda de US\\\\$ 3,10 por dia por membro da família. Atualmente, mais comum o uso da linha de extrema pobreza = US$ 2,15 (a partir de 2022); ambas em PPP; Banco Mundial)."
   ]
  },
  {
   "cell_type": "markdown",
   "metadata": {
    "slideshow": {
     "slide_type": "fragment"
    }
   },
   "source": [
    "Entre 2008 e 2014, houve queda na taxa de pobreza no Brasil, 25,2% para 16,4%. A tendência reverteu daí em diante: 2015 = 18,7%; 2016 = 19,8%; 2017 = 20,3%; 2018 = 19,4%. "
   ]
  },
  {
   "cell_type": "markdown",
   "metadata": {
    "slideshow": {
     "slide_type": "fragment"
    }
   },
   "source": [
    "Entre os países da América Latina, Brasil e Venezuela foram os únicos que tiveram aumento substancial na pobreza após 2014. "
   ]
  },
  {
   "cell_type": "markdown",
   "metadata": {
    "slideshow": {
     "slide_type": "subslide"
    }
   },
   "source": [
    "A redução na renda do trabalho dominou, mas também houve queda no recebimento de transferências pela parcela mais pobre da população. Ver figura."
   ]
  },
  {
   "cell_type": "markdown",
   "metadata": {
    "heading_collapsed": true,
    "slideshow": {
     "slide_type": "slide"
    }
   },
   "source": [
    "### <center>Variação na pobreza, América Latina, 2014-2018</center>\n",
    "\n",
    "<center><img src=\"al_pobreza_2014_2018.png\" width=\"800\" height=\"500\"></center>"
   ]
  },
  {
   "cell_type": "markdown",
   "metadata": {
    "slideshow": {
     "slide_type": "slide"
    }
   },
   "source": [
    "## Desigualdade na desigualdade\n",
    "\n",
    "Além dos índices agregados, a desigualdade incide de forma diferente entre diferentes grupos da sociedade, aprofundando seus efeitos. "
   ]
  },
  {
   "cell_type": "markdown",
   "metadata": {
    "slideshow": {
     "slide_type": "fragment"
    }
   },
   "source": [
    "A desigualdade étnica e racial, por exemplo, foi elevada no Brasil: em 2014, taxa de pobreza agregada = 16,4% da população, mas afrodescentes = 21,7%; não-indígenas ou afrodescendentes = 10,2%."
   ]
  },
  {
   "cell_type": "markdown",
   "metadata": {
    "slideshow": {
     "slide_type": "fragment"
    }
   },
   "source": [
    "Em países com menor taxa de pobreza como o Uruguai (9,5% em 2014), a diferença entre grupos foi até maior que no Brasil. Em 2014, razão % afrodescentes/% não indígena ou afrodescentes: Uruguai = 2,7%; Brasil = 2,1%."
   ]
  },
  {
   "cell_type": "markdown",
   "metadata": {
    "slideshow": {
     "slide_type": "subslide"
    }
   },
   "source": [
    "## <center>Incidência desigual de pobreza, América Latina</center>\n",
    "\n",
    "<center><img src=\"al_race_2014_2018.png\" width=\"800\" height=\"500\"></center>"
   ]
  },
  {
   "cell_type": "markdown",
   "metadata": {
    "slideshow": {
     "slide_type": "slide"
    }
   },
   "source": [
    "## Gastos sociais\n",
    "\n",
    "Diante da elevada desigualdade, qual foi a tendência geral dos gastos sociais? Importante aqui distinguir:"
   ]
  },
  {
   "cell_type": "markdown",
   "metadata": {
    "slideshow": {
     "slide_type": "fragment"
    }
   },
   "source": [
    "- despesas constitucionais x sujeitas à programação financeira"
   ]
  },
  {
   "cell_type": "markdown",
   "metadata": {
    "slideshow": {
     "slide_type": "fragment"
    }
   },
   "source": [
    " - despesas previdenciárias x assistência social"
   ]
  },
  {
   "cell_type": "markdown",
   "metadata": {
    "slideshow": {
     "slide_type": "slide"
    }
   },
   "source": [
    "## Tipos de despesa\n",
    "\n",
    "A despesa com gastos previdenciários manteve-se elevada e crescente durante todo o período analisado - Benefícios previdenciários urbanos e rurais, 5,5% do PIB em 2000, 8,6% em 2019. "
   ]
  },
  {
   "cell_type": "markdown",
   "metadata": {
    "slideshow": {
     "slide_type": "fragment"
    }
   },
   "source": [
    "Benefícios (Renda Mensal Vitalícia, de 1974, e o substituto, Benefício de Prestação Continuada, a partir da Lei Orgânica de Assistência Social - LOAS, de 1993): tendência de alta, mas pequeno impacto relativo: 0,2% do PIB em 2000, 0,6% em 2010; 0,8% em 2016-2019."
   ]
  },
  {
   "cell_type": "markdown",
   "metadata": {
    "slideshow": {
     "slide_type": "subslide"
    }
   },
   "source": [
    "Bolsa-família, programa de elevado impacto social e efeito marginal nas contas: 0,13% do PIB em 2002 (ainda como bolsa criança, bolsa alimentação e bolsa escola), 0,35% em 2010, 0,58% em 2010 e 0,44% em 2015 e 0,45% em 2019."
   ]
  },
  {
   "cell_type": "markdown",
   "metadata": {
    "slideshow": {
     "slide_type": "fragment"
    }
   },
   "source": [
    "Porém, despesas do Tesouro com compensação à Previdência pelas desonerações na folha de salários chegou a praticamente igualar os gastos com Bolsa Família em 2015. Ver a sequência de figuras abaixo. "
   ]
  },
  {
   "cell_type": "code",
   "execution_count": 25,
   "metadata": {
    "slideshow": {
     "slide_type": "notes"
    }
   },
   "outputs": [
    {
     "data": {
      "application/javascript": [
       "(function(root) {\n",
       "  function now() {\n",
       "    return new Date();\n",
       "  }\n",
       "\n",
       "  var force = true;\n",
       "  var py_version = '3.1.1'.replace('rc', '-rc.').replace('.dev', '-dev.');\n",
       "  var is_dev = py_version.indexOf(\"+\") !== -1 || py_version.indexOf(\"-\") !== -1;\n",
       "  var reloading = false;\n",
       "  var Bokeh = root.Bokeh;\n",
       "  var bokeh_loaded = Bokeh != null && (Bokeh.version === py_version || (Bokeh.versions !== undefined && Bokeh.versions.has(py_version)));\n",
       "\n",
       "  if (typeof (root._bokeh_timeout) === \"undefined\" || force) {\n",
       "    root._bokeh_timeout = Date.now() + 5000;\n",
       "    root._bokeh_failed_load = false;\n",
       "  }\n",
       "\n",
       "  function run_callbacks() {\n",
       "    try {\n",
       "      root._bokeh_onload_callbacks.forEach(function(callback) {\n",
       "        if (callback != null)\n",
       "          callback();\n",
       "      });\n",
       "    } finally {\n",
       "      delete root._bokeh_onload_callbacks;\n",
       "    }\n",
       "    console.debug(\"Bokeh: all callbacks have finished\");\n",
       "  }\n",
       "\n",
       "  function load_libs(css_urls, js_urls, js_modules, js_exports, callback) {\n",
       "    if (css_urls == null) css_urls = [];\n",
       "    if (js_urls == null) js_urls = [];\n",
       "    if (js_modules == null) js_modules = [];\n",
       "    if (js_exports == null) js_exports = {};\n",
       "\n",
       "    root._bokeh_onload_callbacks.push(callback);\n",
       "\n",
       "    if (root._bokeh_is_loading > 0) {\n",
       "      console.debug(\"Bokeh: BokehJS is being loaded, scheduling callback at\", now());\n",
       "      return null;\n",
       "    }\n",
       "    if (js_urls.length === 0 && js_modules.length === 0 && Object.keys(js_exports).length === 0) {\n",
       "      run_callbacks();\n",
       "      return null;\n",
       "    }\n",
       "    if (!reloading) {\n",
       "      console.debug(\"Bokeh: BokehJS not loaded, scheduling load and callback at\", now());\n",
       "    }\n",
       "\n",
       "    function on_load() {\n",
       "      root._bokeh_is_loading--;\n",
       "      if (root._bokeh_is_loading === 0) {\n",
       "        console.debug(\"Bokeh: all BokehJS libraries/stylesheets loaded\");\n",
       "        run_callbacks()\n",
       "      }\n",
       "    }\n",
       "    window._bokeh_on_load = on_load\n",
       "\n",
       "    function on_error() {\n",
       "      console.error(\"failed to load \" + url);\n",
       "    }\n",
       "\n",
       "    var skip = [];\n",
       "    if (window.requirejs) {\n",
       "      window.requirejs.config({'packages': {}, 'paths': {'plotly': 'https://cdn.plot.ly/plotly-2.18.0.min', 'jspanel': 'https://cdn.jsdelivr.net/npm/jspanel4@4.12.0/dist/jspanel', 'jspanel-modal': 'https://cdn.jsdelivr.net/npm/jspanel4@4.12.0/dist/extensions/modal/jspanel.modal', 'jspanel-tooltip': 'https://cdn.jsdelivr.net/npm/jspanel4@4.12.0/dist/extensions/tooltip/jspanel.tooltip', 'jspanel-hint': 'https://cdn.jsdelivr.net/npm/jspanel4@4.12.0/dist/extensions/hint/jspanel.hint', 'jspanel-layout': 'https://cdn.jsdelivr.net/npm/jspanel4@4.12.0/dist/extensions/layout/jspanel.layout', 'jspanel-contextmenu': 'https://cdn.jsdelivr.net/npm/jspanel4@4.12.0/dist/extensions/contextmenu/jspanel.contextmenu', 'jspanel-dock': 'https://cdn.jsdelivr.net/npm/jspanel4@4.12.0/dist/extensions/dock/jspanel.dock', 'gridstack': 'https://cdn.jsdelivr.net/npm/gridstack@7.2.3/dist/gridstack-all', 'notyf': 'https://cdn.jsdelivr.net/npm/notyf@3/notyf.min'}, 'shim': {'jspanel': {'exports': 'jsPanel'}, 'gridstack': {'exports': 'GridStack'}}});\n",
       "      require([\"plotly\"], function(Plotly) {\n",
       "\twindow.Plotly = Plotly\n",
       "\ton_load()\n",
       "      })\n",
       "      require([\"jspanel\"], function(jsPanel) {\n",
       "\twindow.jsPanel = jsPanel\n",
       "\ton_load()\n",
       "      })\n",
       "      require([\"jspanel-modal\"], function() {\n",
       "\ton_load()\n",
       "      })\n",
       "      require([\"jspanel-tooltip\"], function() {\n",
       "\ton_load()\n",
       "      })\n",
       "      require([\"jspanel-hint\"], function() {\n",
       "\ton_load()\n",
       "      })\n",
       "      require([\"jspanel-layout\"], function() {\n",
       "\ton_load()\n",
       "      })\n",
       "      require([\"jspanel-contextmenu\"], function() {\n",
       "\ton_load()\n",
       "      })\n",
       "      require([\"jspanel-dock\"], function() {\n",
       "\ton_load()\n",
       "      })\n",
       "      require([\"gridstack\"], function(GridStack) {\n",
       "\twindow.GridStack = GridStack\n",
       "\ton_load()\n",
       "      })\n",
       "      require([\"notyf\"], function() {\n",
       "\ton_load()\n",
       "      })\n",
       "      root._bokeh_is_loading = css_urls.length + 10;\n",
       "    } else {\n",
       "      root._bokeh_is_loading = css_urls.length + js_urls.length + js_modules.length + Object.keys(js_exports).length;\n",
       "    }\n",
       "\n",
       "    var existing_stylesheets = []\n",
       "    var links = document.getElementsByTagName('link')\n",
       "    for (var i = 0; i < links.length; i++) {\n",
       "      var link = links[i]\n",
       "      if (link.href != null) {\n",
       "\texisting_stylesheets.push(link.href)\n",
       "      }\n",
       "    }\n",
       "    for (var i = 0; i < css_urls.length; i++) {\n",
       "      var url = css_urls[i];\n",
       "      if (existing_stylesheets.indexOf(url) !== -1) {\n",
       "\ton_load()\n",
       "\tcontinue;\n",
       "      }\n",
       "      const element = document.createElement(\"link\");\n",
       "      element.onload = on_load;\n",
       "      element.onerror = on_error;\n",
       "      element.rel = \"stylesheet\";\n",
       "      element.type = \"text/css\";\n",
       "      element.href = url;\n",
       "      console.debug(\"Bokeh: injecting link tag for BokehJS stylesheet: \", url);\n",
       "      document.body.appendChild(element);\n",
       "    }    if (((window['Plotly'] !== undefined) && (!(window['Plotly'] instanceof HTMLElement))) || window.requirejs) {\n",
       "      var urls = ['https://cdn.holoviz.org/panel/1.2.3/dist/bundled/plotlyplot/plotly-2.18.0.min.js'];\n",
       "      for (var i = 0; i < urls.length; i++) {\n",
       "        skip.push(urls[i])\n",
       "      }\n",
       "    }    if (((window['jsPanel'] !== undefined) && (!(window['jsPanel'] instanceof HTMLElement))) || window.requirejs) {\n",
       "      var urls = ['https://cdn.holoviz.org/panel/1.2.3/dist/bundled/floatpanel/jspanel4@4.12.0/dist/jspanel.js', 'https://cdn.holoviz.org/panel/1.2.3/dist/bundled/floatpanel/jspanel4@4.12.0/dist/extensions/modal/jspanel.modal.js', 'https://cdn.holoviz.org/panel/1.2.3/dist/bundled/floatpanel/jspanel4@4.12.0/dist/extensions/tooltip/jspanel.tooltip.js', 'https://cdn.holoviz.org/panel/1.2.3/dist/bundled/floatpanel/jspanel4@4.12.0/dist/extensions/hint/jspanel.hint.js', 'https://cdn.holoviz.org/panel/1.2.3/dist/bundled/floatpanel/jspanel4@4.12.0/dist/extensions/layout/jspanel.layout.js', 'https://cdn.holoviz.org/panel/1.2.3/dist/bundled/floatpanel/jspanel4@4.12.0/dist/extensions/contextmenu/jspanel.contextmenu.js', 'https://cdn.holoviz.org/panel/1.2.3/dist/bundled/floatpanel/jspanel4@4.12.0/dist/extensions/dock/jspanel.dock.js'];\n",
       "      for (var i = 0; i < urls.length; i++) {\n",
       "        skip.push(urls[i])\n",
       "      }\n",
       "    }    if (((window['GridStack'] !== undefined) && (!(window['GridStack'] instanceof HTMLElement))) || window.requirejs) {\n",
       "      var urls = ['https://cdn.holoviz.org/panel/1.2.3/dist/bundled/gridstack/gridstack@7.2.3/dist/gridstack-all.js'];\n",
       "      for (var i = 0; i < urls.length; i++) {\n",
       "        skip.push(urls[i])\n",
       "      }\n",
       "    }    if (((window['Notyf'] !== undefined) && (!(window['Notyf'] instanceof HTMLElement))) || window.requirejs) {\n",
       "      var urls = ['https://cdn.holoviz.org/panel/1.2.3/dist/bundled/notificationarea/notyf@3/notyf.min.js'];\n",
       "      for (var i = 0; i < urls.length; i++) {\n",
       "        skip.push(urls[i])\n",
       "      }\n",
       "    }    var existing_scripts = []\n",
       "    var scripts = document.getElementsByTagName('script')\n",
       "    for (var i = 0; i < scripts.length; i++) {\n",
       "      var script = scripts[i]\n",
       "      if (script.src != null) {\n",
       "\texisting_scripts.push(script.src)\n",
       "      }\n",
       "    }\n",
       "    for (var i = 0; i < js_urls.length; i++) {\n",
       "      var url = js_urls[i];\n",
       "      if (skip.indexOf(url) !== -1 || existing_scripts.indexOf(url) !== -1) {\n",
       "\tif (!window.requirejs) {\n",
       "\t  on_load();\n",
       "\t}\n",
       "\tcontinue;\n",
       "      }\n",
       "      var element = document.createElement('script');\n",
       "      element.onload = on_load;\n",
       "      element.onerror = on_error;\n",
       "      element.async = false;\n",
       "      element.src = url;\n",
       "      console.debug(\"Bokeh: injecting script tag for BokehJS library: \", url);\n",
       "      document.head.appendChild(element);\n",
       "    }\n",
       "    for (var i = 0; i < js_modules.length; i++) {\n",
       "      var url = js_modules[i];\n",
       "      if (skip.indexOf(url) !== -1 || existing_scripts.indexOf(url) !== -1) {\n",
       "\tif (!window.requirejs) {\n",
       "\t  on_load();\n",
       "\t}\n",
       "\tcontinue;\n",
       "      }\n",
       "      var element = document.createElement('script');\n",
       "      element.onload = on_load;\n",
       "      element.onerror = on_error;\n",
       "      element.async = false;\n",
       "      element.src = url;\n",
       "      element.type = \"module\";\n",
       "      console.debug(\"Bokeh: injecting script tag for BokehJS library: \", url);\n",
       "      document.head.appendChild(element);\n",
       "    }\n",
       "    for (const name in js_exports) {\n",
       "      var url = js_exports[name];\n",
       "      if (skip.indexOf(url) >= 0 || root[name] != null) {\n",
       "\tif (!window.requirejs) {\n",
       "\t  on_load();\n",
       "\t}\n",
       "\tcontinue;\n",
       "      }\n",
       "      var element = document.createElement('script');\n",
       "      element.onerror = on_error;\n",
       "      element.async = false;\n",
       "      element.type = \"module\";\n",
       "      console.debug(\"Bokeh: injecting script tag for BokehJS library: \", url);\n",
       "      element.textContent = `\n",
       "      import ${name} from \"${url}\"\n",
       "      window.${name} = ${name}\n",
       "      window._bokeh_on_load()\n",
       "      `\n",
       "      document.head.appendChild(element);\n",
       "    }\n",
       "    if (!js_urls.length && !js_modules.length) {\n",
       "      on_load()\n",
       "    }\n",
       "  };\n",
       "\n",
       "  function inject_raw_css(css) {\n",
       "    const element = document.createElement(\"style\");\n",
       "    element.appendChild(document.createTextNode(css));\n",
       "    document.body.appendChild(element);\n",
       "  }\n",
       "\n",
       "  var js_urls = [\"https://cdn.holoviz.org/panel/1.2.3/dist/bundled/jquery/jquery.slim.min.js\", \"https://cdn.holoviz.org/panel/1.2.3/dist/bundled/plotlyplot/plotly-2.18.0.min.js\", \"https://cdn.bokeh.org/bokeh/release/bokeh-3.1.1.min.js\", \"https://cdn.bokeh.org/bokeh/release/bokeh-gl-3.1.1.min.js\", \"https://cdn.bokeh.org/bokeh/release/bokeh-widgets-3.1.1.min.js\", \"https://cdn.bokeh.org/bokeh/release/bokeh-tables-3.1.1.min.js\", \"https://cdn.holoviz.org/panel/1.2.3/dist/panel.min.js\"];\n",
       "  var js_modules = [];\n",
       "  var js_exports = {};\n",
       "  var css_urls = [];\n",
       "  var inline_js = [    function(Bokeh) {\n",
       "      Bokeh.set_log_level(\"info\");\n",
       "    },\n",
       "function(Bokeh) {} // ensure no trailing comma for IE\n",
       "  ];\n",
       "\n",
       "  function run_inline_js() {\n",
       "    if ((root.Bokeh !== undefined) || (force === true)) {\n",
       "      for (var i = 0; i < inline_js.length; i++) {\n",
       "        inline_js[i].call(root, root.Bokeh);\n",
       "      }\n",
       "      // Cache old bokeh versions\n",
       "      if (Bokeh != undefined && !reloading) {\n",
       "\tvar NewBokeh = root.Bokeh;\n",
       "\tif (Bokeh.versions === undefined) {\n",
       "\t  Bokeh.versions = new Map();\n",
       "\t}\n",
       "\tif (NewBokeh.version !== Bokeh.version) {\n",
       "\t  Bokeh.versions.set(NewBokeh.version, NewBokeh)\n",
       "\t}\n",
       "\troot.Bokeh = Bokeh;\n",
       "      }} else if (Date.now() < root._bokeh_timeout) {\n",
       "      setTimeout(run_inline_js, 100);\n",
       "    } else if (!root._bokeh_failed_load) {\n",
       "      console.log(\"Bokeh: BokehJS failed to load within specified timeout.\");\n",
       "      root._bokeh_failed_load = true;\n",
       "    }\n",
       "    root._bokeh_is_initializing = false\n",
       "  }\n",
       "\n",
       "  function load_or_wait() {\n",
       "    // Implement a backoff loop that tries to ensure we do not load multiple\n",
       "    // versions of Bokeh and its dependencies at the same time.\n",
       "    // In recent versions we use the root._bokeh_is_initializing flag\n",
       "    // to determine whether there is an ongoing attempt to initialize\n",
       "    // bokeh, however for backward compatibility we also try to ensure\n",
       "    // that we do not start loading a newer (Panel>=1.0 and Bokeh>3) version\n",
       "    // before older versions are fully initialized.\n",
       "    if (root._bokeh_is_initializing && Date.now() > root._bokeh_timeout) {\n",
       "      root._bokeh_is_initializing = false;\n",
       "      root._bokeh_onload_callbacks = undefined;\n",
       "      console.log(\"Bokeh: BokehJS was loaded multiple times but one version failed to initialize.\");\n",
       "      load_or_wait();\n",
       "    } else if (root._bokeh_is_initializing || (typeof root._bokeh_is_initializing === \"undefined\" && root._bokeh_onload_callbacks !== undefined)) {\n",
       "      setTimeout(load_or_wait, 100);\n",
       "    } else {\n",
       "      Bokeh = root.Bokeh;\n",
       "      bokeh_loaded = Bokeh != null && (Bokeh.version === py_version || (Bokeh.versions !== undefined && Bokeh.versions.has(py_version)));\n",
       "      root._bokeh_is_initializing = true\n",
       "      root._bokeh_onload_callbacks = []\n",
       "      if (!reloading && (!bokeh_loaded || is_dev)) {\n",
       "\troot.Bokeh = undefined;\n",
       "      }\n",
       "      load_libs(css_urls, js_urls, js_modules, js_exports, function() {\n",
       "\tconsole.debug(\"Bokeh: BokehJS plotting callback run at\", now());\n",
       "\trun_inline_js();\n",
       "      });\n",
       "    }\n",
       "  }\n",
       "  // Give older versions of the autoload script a head-start to ensure\n",
       "  // they initialize before we start loading newer version.\n",
       "  setTimeout(load_or_wait, 100)\n",
       "}(window));"
      ],
      "application/vnd.holoviews_load.v0+json": "(function(root) {\n  function now() {\n    return new Date();\n  }\n\n  var force = true;\n  var py_version = '3.1.1'.replace('rc', '-rc.').replace('.dev', '-dev.');\n  var is_dev = py_version.indexOf(\"+\") !== -1 || py_version.indexOf(\"-\") !== -1;\n  var reloading = false;\n  var Bokeh = root.Bokeh;\n  var bokeh_loaded = Bokeh != null && (Bokeh.version === py_version || (Bokeh.versions !== undefined && Bokeh.versions.has(py_version)));\n\n  if (typeof (root._bokeh_timeout) === \"undefined\" || force) {\n    root._bokeh_timeout = Date.now() + 5000;\n    root._bokeh_failed_load = false;\n  }\n\n  function run_callbacks() {\n    try {\n      root._bokeh_onload_callbacks.forEach(function(callback) {\n        if (callback != null)\n          callback();\n      });\n    } finally {\n      delete root._bokeh_onload_callbacks;\n    }\n    console.debug(\"Bokeh: all callbacks have finished\");\n  }\n\n  function load_libs(css_urls, js_urls, js_modules, js_exports, callback) {\n    if (css_urls == null) css_urls = [];\n    if (js_urls == null) js_urls = [];\n    if (js_modules == null) js_modules = [];\n    if (js_exports == null) js_exports = {};\n\n    root._bokeh_onload_callbacks.push(callback);\n\n    if (root._bokeh_is_loading > 0) {\n      console.debug(\"Bokeh: BokehJS is being loaded, scheduling callback at\", now());\n      return null;\n    }\n    if (js_urls.length === 0 && js_modules.length === 0 && Object.keys(js_exports).length === 0) {\n      run_callbacks();\n      return null;\n    }\n    if (!reloading) {\n      console.debug(\"Bokeh: BokehJS not loaded, scheduling load and callback at\", now());\n    }\n\n    function on_load() {\n      root._bokeh_is_loading--;\n      if (root._bokeh_is_loading === 0) {\n        console.debug(\"Bokeh: all BokehJS libraries/stylesheets loaded\");\n        run_callbacks()\n      }\n    }\n    window._bokeh_on_load = on_load\n\n    function on_error() {\n      console.error(\"failed to load \" + url);\n    }\n\n    var skip = [];\n    if (window.requirejs) {\n      window.requirejs.config({'packages': {}, 'paths': {'plotly': 'https://cdn.plot.ly/plotly-2.18.0.min', 'jspanel': 'https://cdn.jsdelivr.net/npm/jspanel4@4.12.0/dist/jspanel', 'jspanel-modal': 'https://cdn.jsdelivr.net/npm/jspanel4@4.12.0/dist/extensions/modal/jspanel.modal', 'jspanel-tooltip': 'https://cdn.jsdelivr.net/npm/jspanel4@4.12.0/dist/extensions/tooltip/jspanel.tooltip', 'jspanel-hint': 'https://cdn.jsdelivr.net/npm/jspanel4@4.12.0/dist/extensions/hint/jspanel.hint', 'jspanel-layout': 'https://cdn.jsdelivr.net/npm/jspanel4@4.12.0/dist/extensions/layout/jspanel.layout', 'jspanel-contextmenu': 'https://cdn.jsdelivr.net/npm/jspanel4@4.12.0/dist/extensions/contextmenu/jspanel.contextmenu', 'jspanel-dock': 'https://cdn.jsdelivr.net/npm/jspanel4@4.12.0/dist/extensions/dock/jspanel.dock', 'gridstack': 'https://cdn.jsdelivr.net/npm/gridstack@7.2.3/dist/gridstack-all', 'notyf': 'https://cdn.jsdelivr.net/npm/notyf@3/notyf.min'}, 'shim': {'jspanel': {'exports': 'jsPanel'}, 'gridstack': {'exports': 'GridStack'}}});\n      require([\"plotly\"], function(Plotly) {\n\twindow.Plotly = Plotly\n\ton_load()\n      })\n      require([\"jspanel\"], function(jsPanel) {\n\twindow.jsPanel = jsPanel\n\ton_load()\n      })\n      require([\"jspanel-modal\"], function() {\n\ton_load()\n      })\n      require([\"jspanel-tooltip\"], function() {\n\ton_load()\n      })\n      require([\"jspanel-hint\"], function() {\n\ton_load()\n      })\n      require([\"jspanel-layout\"], function() {\n\ton_load()\n      })\n      require([\"jspanel-contextmenu\"], function() {\n\ton_load()\n      })\n      require([\"jspanel-dock\"], function() {\n\ton_load()\n      })\n      require([\"gridstack\"], function(GridStack) {\n\twindow.GridStack = GridStack\n\ton_load()\n      })\n      require([\"notyf\"], function() {\n\ton_load()\n      })\n      root._bokeh_is_loading = css_urls.length + 10;\n    } else {\n      root._bokeh_is_loading = css_urls.length + js_urls.length + js_modules.length + Object.keys(js_exports).length;\n    }\n\n    var existing_stylesheets = []\n    var links = document.getElementsByTagName('link')\n    for (var i = 0; i < links.length; i++) {\n      var link = links[i]\n      if (link.href != null) {\n\texisting_stylesheets.push(link.href)\n      }\n    }\n    for (var i = 0; i < css_urls.length; i++) {\n      var url = css_urls[i];\n      if (existing_stylesheets.indexOf(url) !== -1) {\n\ton_load()\n\tcontinue;\n      }\n      const element = document.createElement(\"link\");\n      element.onload = on_load;\n      element.onerror = on_error;\n      element.rel = \"stylesheet\";\n      element.type = \"text/css\";\n      element.href = url;\n      console.debug(\"Bokeh: injecting link tag for BokehJS stylesheet: \", url);\n      document.body.appendChild(element);\n    }    if (((window['Plotly'] !== undefined) && (!(window['Plotly'] instanceof HTMLElement))) || window.requirejs) {\n      var urls = ['https://cdn.holoviz.org/panel/1.2.3/dist/bundled/plotlyplot/plotly-2.18.0.min.js'];\n      for (var i = 0; i < urls.length; i++) {\n        skip.push(urls[i])\n      }\n    }    if (((window['jsPanel'] !== undefined) && (!(window['jsPanel'] instanceof HTMLElement))) || window.requirejs) {\n      var urls = ['https://cdn.holoviz.org/panel/1.2.3/dist/bundled/floatpanel/jspanel4@4.12.0/dist/jspanel.js', 'https://cdn.holoviz.org/panel/1.2.3/dist/bundled/floatpanel/jspanel4@4.12.0/dist/extensions/modal/jspanel.modal.js', 'https://cdn.holoviz.org/panel/1.2.3/dist/bundled/floatpanel/jspanel4@4.12.0/dist/extensions/tooltip/jspanel.tooltip.js', 'https://cdn.holoviz.org/panel/1.2.3/dist/bundled/floatpanel/jspanel4@4.12.0/dist/extensions/hint/jspanel.hint.js', 'https://cdn.holoviz.org/panel/1.2.3/dist/bundled/floatpanel/jspanel4@4.12.0/dist/extensions/layout/jspanel.layout.js', 'https://cdn.holoviz.org/panel/1.2.3/dist/bundled/floatpanel/jspanel4@4.12.0/dist/extensions/contextmenu/jspanel.contextmenu.js', 'https://cdn.holoviz.org/panel/1.2.3/dist/bundled/floatpanel/jspanel4@4.12.0/dist/extensions/dock/jspanel.dock.js'];\n      for (var i = 0; i < urls.length; i++) {\n        skip.push(urls[i])\n      }\n    }    if (((window['GridStack'] !== undefined) && (!(window['GridStack'] instanceof HTMLElement))) || window.requirejs) {\n      var urls = ['https://cdn.holoviz.org/panel/1.2.3/dist/bundled/gridstack/gridstack@7.2.3/dist/gridstack-all.js'];\n      for (var i = 0; i < urls.length; i++) {\n        skip.push(urls[i])\n      }\n    }    if (((window['Notyf'] !== undefined) && (!(window['Notyf'] instanceof HTMLElement))) || window.requirejs) {\n      var urls = ['https://cdn.holoviz.org/panel/1.2.3/dist/bundled/notificationarea/notyf@3/notyf.min.js'];\n      for (var i = 0; i < urls.length; i++) {\n        skip.push(urls[i])\n      }\n    }    var existing_scripts = []\n    var scripts = document.getElementsByTagName('script')\n    for (var i = 0; i < scripts.length; i++) {\n      var script = scripts[i]\n      if (script.src != null) {\n\texisting_scripts.push(script.src)\n      }\n    }\n    for (var i = 0; i < js_urls.length; i++) {\n      var url = js_urls[i];\n      if (skip.indexOf(url) !== -1 || existing_scripts.indexOf(url) !== -1) {\n\tif (!window.requirejs) {\n\t  on_load();\n\t}\n\tcontinue;\n      }\n      var element = document.createElement('script');\n      element.onload = on_load;\n      element.onerror = on_error;\n      element.async = false;\n      element.src = url;\n      console.debug(\"Bokeh: injecting script tag for BokehJS library: \", url);\n      document.head.appendChild(element);\n    }\n    for (var i = 0; i < js_modules.length; i++) {\n      var url = js_modules[i];\n      if (skip.indexOf(url) !== -1 || existing_scripts.indexOf(url) !== -1) {\n\tif (!window.requirejs) {\n\t  on_load();\n\t}\n\tcontinue;\n      }\n      var element = document.createElement('script');\n      element.onload = on_load;\n      element.onerror = on_error;\n      element.async = false;\n      element.src = url;\n      element.type = \"module\";\n      console.debug(\"Bokeh: injecting script tag for BokehJS library: \", url);\n      document.head.appendChild(element);\n    }\n    for (const name in js_exports) {\n      var url = js_exports[name];\n      if (skip.indexOf(url) >= 0 || root[name] != null) {\n\tif (!window.requirejs) {\n\t  on_load();\n\t}\n\tcontinue;\n      }\n      var element = document.createElement('script');\n      element.onerror = on_error;\n      element.async = false;\n      element.type = \"module\";\n      console.debug(\"Bokeh: injecting script tag for BokehJS library: \", url);\n      element.textContent = `\n      import ${name} from \"${url}\"\n      window.${name} = ${name}\n      window._bokeh_on_load()\n      `\n      document.head.appendChild(element);\n    }\n    if (!js_urls.length && !js_modules.length) {\n      on_load()\n    }\n  };\n\n  function inject_raw_css(css) {\n    const element = document.createElement(\"style\");\n    element.appendChild(document.createTextNode(css));\n    document.body.appendChild(element);\n  }\n\n  var js_urls = [\"https://cdn.holoviz.org/panel/1.2.3/dist/bundled/jquery/jquery.slim.min.js\", \"https://cdn.holoviz.org/panel/1.2.3/dist/bundled/plotlyplot/plotly-2.18.0.min.js\", \"https://cdn.bokeh.org/bokeh/release/bokeh-3.1.1.min.js\", \"https://cdn.bokeh.org/bokeh/release/bokeh-gl-3.1.1.min.js\", \"https://cdn.bokeh.org/bokeh/release/bokeh-widgets-3.1.1.min.js\", \"https://cdn.bokeh.org/bokeh/release/bokeh-tables-3.1.1.min.js\", \"https://cdn.holoviz.org/panel/1.2.3/dist/panel.min.js\"];\n  var js_modules = [];\n  var js_exports = {};\n  var css_urls = [];\n  var inline_js = [    function(Bokeh) {\n      Bokeh.set_log_level(\"info\");\n    },\nfunction(Bokeh) {} // ensure no trailing comma for IE\n  ];\n\n  function run_inline_js() {\n    if ((root.Bokeh !== undefined) || (force === true)) {\n      for (var i = 0; i < inline_js.length; i++) {\n        inline_js[i].call(root, root.Bokeh);\n      }\n      // Cache old bokeh versions\n      if (Bokeh != undefined && !reloading) {\n\tvar NewBokeh = root.Bokeh;\n\tif (Bokeh.versions === undefined) {\n\t  Bokeh.versions = new Map();\n\t}\n\tif (NewBokeh.version !== Bokeh.version) {\n\t  Bokeh.versions.set(NewBokeh.version, NewBokeh)\n\t}\n\troot.Bokeh = Bokeh;\n      }} else if (Date.now() < root._bokeh_timeout) {\n      setTimeout(run_inline_js, 100);\n    } else if (!root._bokeh_failed_load) {\n      console.log(\"Bokeh: BokehJS failed to load within specified timeout.\");\n      root._bokeh_failed_load = true;\n    }\n    root._bokeh_is_initializing = false\n  }\n\n  function load_or_wait() {\n    // Implement a backoff loop that tries to ensure we do not load multiple\n    // versions of Bokeh and its dependencies at the same time.\n    // In recent versions we use the root._bokeh_is_initializing flag\n    // to determine whether there is an ongoing attempt to initialize\n    // bokeh, however for backward compatibility we also try to ensure\n    // that we do not start loading a newer (Panel>=1.0 and Bokeh>3) version\n    // before older versions are fully initialized.\n    if (root._bokeh_is_initializing && Date.now() > root._bokeh_timeout) {\n      root._bokeh_is_initializing = false;\n      root._bokeh_onload_callbacks = undefined;\n      console.log(\"Bokeh: BokehJS was loaded multiple times but one version failed to initialize.\");\n      load_or_wait();\n    } else if (root._bokeh_is_initializing || (typeof root._bokeh_is_initializing === \"undefined\" && root._bokeh_onload_callbacks !== undefined)) {\n      setTimeout(load_or_wait, 100);\n    } else {\n      Bokeh = root.Bokeh;\n      bokeh_loaded = Bokeh != null && (Bokeh.version === py_version || (Bokeh.versions !== undefined && Bokeh.versions.has(py_version)));\n      root._bokeh_is_initializing = true\n      root._bokeh_onload_callbacks = []\n      if (!reloading && (!bokeh_loaded || is_dev)) {\n\troot.Bokeh = undefined;\n      }\n      load_libs(css_urls, js_urls, js_modules, js_exports, function() {\n\tconsole.debug(\"Bokeh: BokehJS plotting callback run at\", now());\n\trun_inline_js();\n      });\n    }\n  }\n  // Give older versions of the autoload script a head-start to ensure\n  // they initialize before we start loading newer version.\n  setTimeout(load_or_wait, 100)\n}(window));"
     },
     "metadata": {},
     "output_type": "display_data"
    },
    {
     "data": {
      "application/javascript": [
       "\n",
       "if ((window.PyViz === undefined) || (window.PyViz instanceof HTMLElement)) {\n",
       "  window.PyViz = {comms: {}, comm_status:{}, kernels:{}, receivers: {}, plot_index: []}\n",
       "}\n",
       "\n",
       "\n",
       "    function JupyterCommManager() {\n",
       "    }\n",
       "\n",
       "    JupyterCommManager.prototype.register_target = function(plot_id, comm_id, msg_handler) {\n",
       "      if (window.comm_manager || ((window.Jupyter !== undefined) && (Jupyter.notebook.kernel != null))) {\n",
       "        var comm_manager = window.comm_manager || Jupyter.notebook.kernel.comm_manager;\n",
       "        comm_manager.register_target(comm_id, function(comm) {\n",
       "          comm.on_msg(msg_handler);\n",
       "        });\n",
       "      } else if ((plot_id in window.PyViz.kernels) && (window.PyViz.kernels[plot_id])) {\n",
       "        window.PyViz.kernels[plot_id].registerCommTarget(comm_id, function(comm) {\n",
       "          comm.onMsg = msg_handler;\n",
       "        });\n",
       "      } else if (typeof google != 'undefined' && google.colab.kernel != null) {\n",
       "        google.colab.kernel.comms.registerTarget(comm_id, (comm) => {\n",
       "          var messages = comm.messages[Symbol.asyncIterator]();\n",
       "          function processIteratorResult(result) {\n",
       "            var message = result.value;\n",
       "            console.log(message)\n",
       "            var content = {data: message.data, comm_id};\n",
       "            var buffers = []\n",
       "            for (var buffer of message.buffers || []) {\n",
       "              buffers.push(new DataView(buffer))\n",
       "            }\n",
       "            var metadata = message.metadata || {};\n",
       "            var msg = {content, buffers, metadata}\n",
       "            msg_handler(msg);\n",
       "            return messages.next().then(processIteratorResult);\n",
       "          }\n",
       "          return messages.next().then(processIteratorResult);\n",
       "        })\n",
       "      }\n",
       "    }\n",
       "\n",
       "    JupyterCommManager.prototype.get_client_comm = function(plot_id, comm_id, msg_handler) {\n",
       "      if (comm_id in window.PyViz.comms) {\n",
       "        return window.PyViz.comms[comm_id];\n",
       "      } else if (window.comm_manager || ((window.Jupyter !== undefined) && (Jupyter.notebook.kernel != null))) {\n",
       "        var comm_manager = window.comm_manager || Jupyter.notebook.kernel.comm_manager;\n",
       "        var comm = comm_manager.new_comm(comm_id, {}, {}, {}, comm_id);\n",
       "        if (msg_handler) {\n",
       "          comm.on_msg(msg_handler);\n",
       "        }\n",
       "      } else if ((plot_id in window.PyViz.kernels) && (window.PyViz.kernels[plot_id])) {\n",
       "        var comm = window.PyViz.kernels[plot_id].connectToComm(comm_id);\n",
       "        comm.open();\n",
       "        if (msg_handler) {\n",
       "          comm.onMsg = msg_handler;\n",
       "        }\n",
       "      } else if (typeof google != 'undefined' && google.colab.kernel != null) {\n",
       "        var comm_promise = google.colab.kernel.comms.open(comm_id)\n",
       "        comm_promise.then((comm) => {\n",
       "          window.PyViz.comms[comm_id] = comm;\n",
       "          if (msg_handler) {\n",
       "            var messages = comm.messages[Symbol.asyncIterator]();\n",
       "            function processIteratorResult(result) {\n",
       "              var message = result.value;\n",
       "              var content = {data: message.data};\n",
       "              var metadata = message.metadata || {comm_id};\n",
       "              var msg = {content, metadata}\n",
       "              msg_handler(msg);\n",
       "              return messages.next().then(processIteratorResult);\n",
       "            }\n",
       "            return messages.next().then(processIteratorResult);\n",
       "          }\n",
       "        }) \n",
       "        var sendClosure = (data, metadata, buffers, disposeOnDone) => {\n",
       "          return comm_promise.then((comm) => {\n",
       "            comm.send(data, metadata, buffers, disposeOnDone);\n",
       "          });\n",
       "        };\n",
       "        var comm = {\n",
       "          send: sendClosure\n",
       "        };\n",
       "      }\n",
       "      window.PyViz.comms[comm_id] = comm;\n",
       "      return comm;\n",
       "    }\n",
       "    window.PyViz.comm_manager = new JupyterCommManager();\n",
       "    \n",
       "\n",
       "\n",
       "var JS_MIME_TYPE = 'application/javascript';\n",
       "var HTML_MIME_TYPE = 'text/html';\n",
       "var EXEC_MIME_TYPE = 'application/vnd.holoviews_exec.v0+json';\n",
       "var CLASS_NAME = 'output';\n",
       "\n",
       "/**\n",
       " * Render data to the DOM node\n",
       " */\n",
       "function render(props, node) {\n",
       "  var div = document.createElement(\"div\");\n",
       "  var script = document.createElement(\"script\");\n",
       "  node.appendChild(div);\n",
       "  node.appendChild(script);\n",
       "}\n",
       "\n",
       "/**\n",
       " * Handle when a new output is added\n",
       " */\n",
       "function handle_add_output(event, handle) {\n",
       "  var output_area = handle.output_area;\n",
       "  var output = handle.output;\n",
       "  if ((output.data == undefined) || (!output.data.hasOwnProperty(EXEC_MIME_TYPE))) {\n",
       "    return\n",
       "  }\n",
       "  var id = output.metadata[EXEC_MIME_TYPE][\"id\"];\n",
       "  var toinsert = output_area.element.find(\".\" + CLASS_NAME.split(' ')[0]);\n",
       "  if (id !== undefined) {\n",
       "    var nchildren = toinsert.length;\n",
       "    var html_node = toinsert[nchildren-1].children[0];\n",
       "    html_node.innerHTML = output.data[HTML_MIME_TYPE];\n",
       "    var scripts = [];\n",
       "    var nodelist = html_node.querySelectorAll(\"script\");\n",
       "    for (var i in nodelist) {\n",
       "      if (nodelist.hasOwnProperty(i)) {\n",
       "        scripts.push(nodelist[i])\n",
       "      }\n",
       "    }\n",
       "\n",
       "    scripts.forEach( function (oldScript) {\n",
       "      var newScript = document.createElement(\"script\");\n",
       "      var attrs = [];\n",
       "      var nodemap = oldScript.attributes;\n",
       "      for (var j in nodemap) {\n",
       "        if (nodemap.hasOwnProperty(j)) {\n",
       "          attrs.push(nodemap[j])\n",
       "        }\n",
       "      }\n",
       "      attrs.forEach(function(attr) { newScript.setAttribute(attr.name, attr.value) });\n",
       "      newScript.appendChild(document.createTextNode(oldScript.innerHTML));\n",
       "      oldScript.parentNode.replaceChild(newScript, oldScript);\n",
       "    });\n",
       "    if (JS_MIME_TYPE in output.data) {\n",
       "      toinsert[nchildren-1].children[1].textContent = output.data[JS_MIME_TYPE];\n",
       "    }\n",
       "    output_area._hv_plot_id = id;\n",
       "    if ((window.Bokeh !== undefined) && (id in Bokeh.index)) {\n",
       "      window.PyViz.plot_index[id] = Bokeh.index[id];\n",
       "    } else {\n",
       "      window.PyViz.plot_index[id] = null;\n",
       "    }\n",
       "  } else if (output.metadata[EXEC_MIME_TYPE][\"server_id\"] !== undefined) {\n",
       "    var bk_div = document.createElement(\"div\");\n",
       "    bk_div.innerHTML = output.data[HTML_MIME_TYPE];\n",
       "    var script_attrs = bk_div.children[0].attributes;\n",
       "    for (var i = 0; i < script_attrs.length; i++) {\n",
       "      toinsert[toinsert.length - 1].childNodes[1].setAttribute(script_attrs[i].name, script_attrs[i].value);\n",
       "    }\n",
       "    // store reference to server id on output_area\n",
       "    output_area._bokeh_server_id = output.metadata[EXEC_MIME_TYPE][\"server_id\"];\n",
       "  }\n",
       "}\n",
       "\n",
       "/**\n",
       " * Handle when an output is cleared or removed\n",
       " */\n",
       "function handle_clear_output(event, handle) {\n",
       "  var id = handle.cell.output_area._hv_plot_id;\n",
       "  var server_id = handle.cell.output_area._bokeh_server_id;\n",
       "  if (((id === undefined) || !(id in PyViz.plot_index)) && (server_id !== undefined)) { return; }\n",
       "  var comm = window.PyViz.comm_manager.get_client_comm(\"hv-extension-comm\", \"hv-extension-comm\", function () {});\n",
       "  if (server_id !== null) {\n",
       "    comm.send({event_type: 'server_delete', 'id': server_id});\n",
       "    return;\n",
       "  } else if (comm !== null) {\n",
       "    comm.send({event_type: 'delete', 'id': id});\n",
       "  }\n",
       "  delete PyViz.plot_index[id];\n",
       "  if ((window.Bokeh !== undefined) & (id in window.Bokeh.index)) {\n",
       "    var doc = window.Bokeh.index[id].model.document\n",
       "    doc.clear();\n",
       "    const i = window.Bokeh.documents.indexOf(doc);\n",
       "    if (i > -1) {\n",
       "      window.Bokeh.documents.splice(i, 1);\n",
       "    }\n",
       "  }\n",
       "}\n",
       "\n",
       "/**\n",
       " * Handle kernel restart event\n",
       " */\n",
       "function handle_kernel_cleanup(event, handle) {\n",
       "  delete PyViz.comms[\"hv-extension-comm\"];\n",
       "  window.PyViz.plot_index = {}\n",
       "}\n",
       "\n",
       "/**\n",
       " * Handle update_display_data messages\n",
       " */\n",
       "function handle_update_output(event, handle) {\n",
       "  handle_clear_output(event, {cell: {output_area: handle.output_area}})\n",
       "  handle_add_output(event, handle)\n",
       "}\n",
       "\n",
       "function register_renderer(events, OutputArea) {\n",
       "  function append_mime(data, metadata, element) {\n",
       "    // create a DOM node to render to\n",
       "    var toinsert = this.create_output_subarea(\n",
       "    metadata,\n",
       "    CLASS_NAME,\n",
       "    EXEC_MIME_TYPE\n",
       "    );\n",
       "    this.keyboard_manager.register_events(toinsert);\n",
       "    // Render to node\n",
       "    var props = {data: data, metadata: metadata[EXEC_MIME_TYPE]};\n",
       "    render(props, toinsert[0]);\n",
       "    element.append(toinsert);\n",
       "    return toinsert\n",
       "  }\n",
       "\n",
       "  events.on('output_added.OutputArea', handle_add_output);\n",
       "  events.on('output_updated.OutputArea', handle_update_output);\n",
       "  events.on('clear_output.CodeCell', handle_clear_output);\n",
       "  events.on('delete.Cell', handle_clear_output);\n",
       "  events.on('kernel_ready.Kernel', handle_kernel_cleanup);\n",
       "\n",
       "  OutputArea.prototype.register_mime_type(EXEC_MIME_TYPE, append_mime, {\n",
       "    safe: true,\n",
       "    index: 0\n",
       "  });\n",
       "}\n",
       "\n",
       "if (window.Jupyter !== undefined) {\n",
       "  try {\n",
       "    var events = require('base/js/events');\n",
       "    var OutputArea = require('notebook/js/outputarea').OutputArea;\n",
       "    if (OutputArea.prototype.mime_types().indexOf(EXEC_MIME_TYPE) == -1) {\n",
       "      register_renderer(events, OutputArea);\n",
       "    }\n",
       "  } catch(err) {\n",
       "  }\n",
       "}\n"
      ],
      "application/vnd.holoviews_load.v0+json": "\nif ((window.PyViz === undefined) || (window.PyViz instanceof HTMLElement)) {\n  window.PyViz = {comms: {}, comm_status:{}, kernels:{}, receivers: {}, plot_index: []}\n}\n\n\n    function JupyterCommManager() {\n    }\n\n    JupyterCommManager.prototype.register_target = function(plot_id, comm_id, msg_handler) {\n      if (window.comm_manager || ((window.Jupyter !== undefined) && (Jupyter.notebook.kernel != null))) {\n        var comm_manager = window.comm_manager || Jupyter.notebook.kernel.comm_manager;\n        comm_manager.register_target(comm_id, function(comm) {\n          comm.on_msg(msg_handler);\n        });\n      } else if ((plot_id in window.PyViz.kernels) && (window.PyViz.kernels[plot_id])) {\n        window.PyViz.kernels[plot_id].registerCommTarget(comm_id, function(comm) {\n          comm.onMsg = msg_handler;\n        });\n      } else if (typeof google != 'undefined' && google.colab.kernel != null) {\n        google.colab.kernel.comms.registerTarget(comm_id, (comm) => {\n          var messages = comm.messages[Symbol.asyncIterator]();\n          function processIteratorResult(result) {\n            var message = result.value;\n            console.log(message)\n            var content = {data: message.data, comm_id};\n            var buffers = []\n            for (var buffer of message.buffers || []) {\n              buffers.push(new DataView(buffer))\n            }\n            var metadata = message.metadata || {};\n            var msg = {content, buffers, metadata}\n            msg_handler(msg);\n            return messages.next().then(processIteratorResult);\n          }\n          return messages.next().then(processIteratorResult);\n        })\n      }\n    }\n\n    JupyterCommManager.prototype.get_client_comm = function(plot_id, comm_id, msg_handler) {\n      if (comm_id in window.PyViz.comms) {\n        return window.PyViz.comms[comm_id];\n      } else if (window.comm_manager || ((window.Jupyter !== undefined) && (Jupyter.notebook.kernel != null))) {\n        var comm_manager = window.comm_manager || Jupyter.notebook.kernel.comm_manager;\n        var comm = comm_manager.new_comm(comm_id, {}, {}, {}, comm_id);\n        if (msg_handler) {\n          comm.on_msg(msg_handler);\n        }\n      } else if ((plot_id in window.PyViz.kernels) && (window.PyViz.kernels[plot_id])) {\n        var comm = window.PyViz.kernels[plot_id].connectToComm(comm_id);\n        comm.open();\n        if (msg_handler) {\n          comm.onMsg = msg_handler;\n        }\n      } else if (typeof google != 'undefined' && google.colab.kernel != null) {\n        var comm_promise = google.colab.kernel.comms.open(comm_id)\n        comm_promise.then((comm) => {\n          window.PyViz.comms[comm_id] = comm;\n          if (msg_handler) {\n            var messages = comm.messages[Symbol.asyncIterator]();\n            function processIteratorResult(result) {\n              var message = result.value;\n              var content = {data: message.data};\n              var metadata = message.metadata || {comm_id};\n              var msg = {content, metadata}\n              msg_handler(msg);\n              return messages.next().then(processIteratorResult);\n            }\n            return messages.next().then(processIteratorResult);\n          }\n        }) \n        var sendClosure = (data, metadata, buffers, disposeOnDone) => {\n          return comm_promise.then((comm) => {\n            comm.send(data, metadata, buffers, disposeOnDone);\n          });\n        };\n        var comm = {\n          send: sendClosure\n        };\n      }\n      window.PyViz.comms[comm_id] = comm;\n      return comm;\n    }\n    window.PyViz.comm_manager = new JupyterCommManager();\n    \n\n\nvar JS_MIME_TYPE = 'application/javascript';\nvar HTML_MIME_TYPE = 'text/html';\nvar EXEC_MIME_TYPE = 'application/vnd.holoviews_exec.v0+json';\nvar CLASS_NAME = 'output';\n\n/**\n * Render data to the DOM node\n */\nfunction render(props, node) {\n  var div = document.createElement(\"div\");\n  var script = document.createElement(\"script\");\n  node.appendChild(div);\n  node.appendChild(script);\n}\n\n/**\n * Handle when a new output is added\n */\nfunction handle_add_output(event, handle) {\n  var output_area = handle.output_area;\n  var output = handle.output;\n  if ((output.data == undefined) || (!output.data.hasOwnProperty(EXEC_MIME_TYPE))) {\n    return\n  }\n  var id = output.metadata[EXEC_MIME_TYPE][\"id\"];\n  var toinsert = output_area.element.find(\".\" + CLASS_NAME.split(' ')[0]);\n  if (id !== undefined) {\n    var nchildren = toinsert.length;\n    var html_node = toinsert[nchildren-1].children[0];\n    html_node.innerHTML = output.data[HTML_MIME_TYPE];\n    var scripts = [];\n    var nodelist = html_node.querySelectorAll(\"script\");\n    for (var i in nodelist) {\n      if (nodelist.hasOwnProperty(i)) {\n        scripts.push(nodelist[i])\n      }\n    }\n\n    scripts.forEach( function (oldScript) {\n      var newScript = document.createElement(\"script\");\n      var attrs = [];\n      var nodemap = oldScript.attributes;\n      for (var j in nodemap) {\n        if (nodemap.hasOwnProperty(j)) {\n          attrs.push(nodemap[j])\n        }\n      }\n      attrs.forEach(function(attr) { newScript.setAttribute(attr.name, attr.value) });\n      newScript.appendChild(document.createTextNode(oldScript.innerHTML));\n      oldScript.parentNode.replaceChild(newScript, oldScript);\n    });\n    if (JS_MIME_TYPE in output.data) {\n      toinsert[nchildren-1].children[1].textContent = output.data[JS_MIME_TYPE];\n    }\n    output_area._hv_plot_id = id;\n    if ((window.Bokeh !== undefined) && (id in Bokeh.index)) {\n      window.PyViz.plot_index[id] = Bokeh.index[id];\n    } else {\n      window.PyViz.plot_index[id] = null;\n    }\n  } else if (output.metadata[EXEC_MIME_TYPE][\"server_id\"] !== undefined) {\n    var bk_div = document.createElement(\"div\");\n    bk_div.innerHTML = output.data[HTML_MIME_TYPE];\n    var script_attrs = bk_div.children[0].attributes;\n    for (var i = 0; i < script_attrs.length; i++) {\n      toinsert[toinsert.length - 1].childNodes[1].setAttribute(script_attrs[i].name, script_attrs[i].value);\n    }\n    // store reference to server id on output_area\n    output_area._bokeh_server_id = output.metadata[EXEC_MIME_TYPE][\"server_id\"];\n  }\n}\n\n/**\n * Handle when an output is cleared or removed\n */\nfunction handle_clear_output(event, handle) {\n  var id = handle.cell.output_area._hv_plot_id;\n  var server_id = handle.cell.output_area._bokeh_server_id;\n  if (((id === undefined) || !(id in PyViz.plot_index)) && (server_id !== undefined)) { return; }\n  var comm = window.PyViz.comm_manager.get_client_comm(\"hv-extension-comm\", \"hv-extension-comm\", function () {});\n  if (server_id !== null) {\n    comm.send({event_type: 'server_delete', 'id': server_id});\n    return;\n  } else if (comm !== null) {\n    comm.send({event_type: 'delete', 'id': id});\n  }\n  delete PyViz.plot_index[id];\n  if ((window.Bokeh !== undefined) & (id in window.Bokeh.index)) {\n    var doc = window.Bokeh.index[id].model.document\n    doc.clear();\n    const i = window.Bokeh.documents.indexOf(doc);\n    if (i > -1) {\n      window.Bokeh.documents.splice(i, 1);\n    }\n  }\n}\n\n/**\n * Handle kernel restart event\n */\nfunction handle_kernel_cleanup(event, handle) {\n  delete PyViz.comms[\"hv-extension-comm\"];\n  window.PyViz.plot_index = {}\n}\n\n/**\n * Handle update_display_data messages\n */\nfunction handle_update_output(event, handle) {\n  handle_clear_output(event, {cell: {output_area: handle.output_area}})\n  handle_add_output(event, handle)\n}\n\nfunction register_renderer(events, OutputArea) {\n  function append_mime(data, metadata, element) {\n    // create a DOM node to render to\n    var toinsert = this.create_output_subarea(\n    metadata,\n    CLASS_NAME,\n    EXEC_MIME_TYPE\n    );\n    this.keyboard_manager.register_events(toinsert);\n    // Render to node\n    var props = {data: data, metadata: metadata[EXEC_MIME_TYPE]};\n    render(props, toinsert[0]);\n    element.append(toinsert);\n    return toinsert\n  }\n\n  events.on('output_added.OutputArea', handle_add_output);\n  events.on('output_updated.OutputArea', handle_update_output);\n  events.on('clear_output.CodeCell', handle_clear_output);\n  events.on('delete.Cell', handle_clear_output);\n  events.on('kernel_ready.Kernel', handle_kernel_cleanup);\n\n  OutputArea.prototype.register_mime_type(EXEC_MIME_TYPE, append_mime, {\n    safe: true,\n    index: 0\n  });\n}\n\nif (window.Jupyter !== undefined) {\n  try {\n    var events = require('base/js/events');\n    var OutputArea = require('notebook/js/outputarea').OutputArea;\n    if (OutputArea.prototype.mime_types().indexOf(EXEC_MIME_TYPE) == -1) {\n      register_renderer(events, OutputArea);\n    }\n  } catch(err) {\n  }\n}\n"
     },
     "metadata": {},
     "output_type": "display_data"
    },
    {
     "data": {
      "text/html": [
       "<style>*[data-root-id],\n",
       "*[data-root-id] > * {\n",
       "  box-sizing: border-box;\n",
       "  font-family: var(--jp-ui-font-family);\n",
       "  font-size: var(--jp-ui-font-size1);\n",
       "  color: var(--vscode-editor-foreground, var(--jp-ui-font-color1));\n",
       "}\n",
       "\n",
       "/* Override VSCode background color */\n",
       ".cell-output-ipywidget-background:has(\n",
       "    > .cell-output-ipywidget-background > .lm-Widget > *[data-root-id]\n",
       "  ),\n",
       ".cell-output-ipywidget-background:has(> .lm-Widget > *[data-root-id]) {\n",
       "  background-color: transparent !important;\n",
       "}\n",
       "</style>"
      ]
     },
     "metadata": {},
     "output_type": "display_data"
    }
   ],
   "source": [
    "import pandas as pd\n",
    "import numpy as np\n",
    "\n",
    "import holoviews as hv\n",
    "from holoviews import dim, opts\n",
    "import hvplot.pandas\n",
    "hvplot.extension('bokeh')\n",
    "\n",
    "p = pd.read_excel('br_desp_sociais.xlsx')\n",
    "\n",
    "social = p.hvplot.line('Ano', ['Benefícios previdenciários', 'Benefícios urbanos', 'Benefícios rurais'],\n",
    "                       height=450,\n",
    "                       width=700,\n",
    "                       rot=30,\n",
    "                       padding=0.05,\n",
    "                       cmap='Set1',\n",
    "                       group_label='Benefícios',\n",
    "                       legend='bottom',\n",
    "                       xlabel='',\n",
    "                       ylabel='% do PIB',\n",
    "                       yformatter='%.1f',\n",
    "                       ylim=(0, 10),\n",
    "                       xlim=(1997, 2019),\n",
    "                       yticks=12,\n",
    "                       xticks=24,\n",
    "                       label='Benefícios previdenciários (RGPS), Governo Central, 1997-2019 (% do PIB)'\n",
    "                      ).opts(fontsize={'title': 11, 'labels': 8, 'xticks': 8, 'yticks': 8})"
   ]
  },
  {
   "cell_type": "code",
   "execution_count": 26,
   "metadata": {
    "slideshow": {
     "slide_type": "slide"
    }
   },
   "outputs": [
    {
     "data": {},
     "metadata": {},
     "output_type": "display_data"
    },
    {
     "data": {
      "application/vnd.holoviews_exec.v0+json": "",
      "text/html": [
       "<div id='p1472'>\n",
       "  <div id=\"e723de85-d94d-4b01-b9ce-3edfa1a60d67\" data-root-id=\"p1472\" style=\"display: contents;\"></div>\n",
       "</div>\n",
       "<script type=\"application/javascript\">(function(root) {\n",
       "  var docs_json = {\"1016e110-3f1b-46a7-9366-b265a1483a5c\":{\"version\":\"3.1.1\",\"title\":\"Bokeh Application\",\"defs\":[{\"type\":\"model\",\"name\":\"ReactiveHTML1\"},{\"type\":\"model\",\"name\":\"FlexBox1\",\"properties\":[{\"name\":\"align_content\",\"kind\":\"Any\",\"default\":\"flex-start\"},{\"name\":\"align_items\",\"kind\":\"Any\",\"default\":\"flex-start\"},{\"name\":\"flex_direction\",\"kind\":\"Any\",\"default\":\"row\"},{\"name\":\"flex_wrap\",\"kind\":\"Any\",\"default\":\"wrap\"},{\"name\":\"justify_content\",\"kind\":\"Any\",\"default\":\"flex-start\"}]},{\"type\":\"model\",\"name\":\"FloatPanel1\",\"properties\":[{\"name\":\"config\",\"kind\":\"Any\",\"default\":{\"type\":\"map\"}},{\"name\":\"contained\",\"kind\":\"Any\",\"default\":true},{\"name\":\"position\",\"kind\":\"Any\",\"default\":\"right-top\"},{\"name\":\"offsetx\",\"kind\":\"Any\",\"default\":null},{\"name\":\"offsety\",\"kind\":\"Any\",\"default\":null},{\"name\":\"theme\",\"kind\":\"Any\",\"default\":\"primary\"},{\"name\":\"status\",\"kind\":\"Any\",\"default\":\"normalized\"}]},{\"type\":\"model\",\"name\":\"GridStack1\",\"properties\":[{\"name\":\"mode\",\"kind\":\"Any\",\"default\":\"warn\"},{\"name\":\"ncols\",\"kind\":\"Any\",\"default\":null},{\"name\":\"nrows\",\"kind\":\"Any\",\"default\":null},{\"name\":\"allow_resize\",\"kind\":\"Any\",\"default\":true},{\"name\":\"allow_drag\",\"kind\":\"Any\",\"default\":true},{\"name\":\"state\",\"kind\":\"Any\",\"default\":[]}]},{\"type\":\"model\",\"name\":\"drag1\",\"properties\":[{\"name\":\"slider_width\",\"kind\":\"Any\",\"default\":5},{\"name\":\"slider_color\",\"kind\":\"Any\",\"default\":\"black\"},{\"name\":\"value\",\"kind\":\"Any\",\"default\":50}]},{\"type\":\"model\",\"name\":\"click1\",\"properties\":[{\"name\":\"terminal_output\",\"kind\":\"Any\",\"default\":\"\"},{\"name\":\"debug_name\",\"kind\":\"Any\",\"default\":\"\"},{\"name\":\"clears\",\"kind\":\"Any\",\"default\":0}]},{\"type\":\"model\",\"name\":\"FastWrapper1\",\"properties\":[{\"name\":\"object\",\"kind\":\"Any\",\"default\":null},{\"name\":\"style\",\"kind\":\"Any\",\"default\":null}]},{\"type\":\"model\",\"name\":\"NotificationAreaBase1\",\"properties\":[{\"name\":\"js_events\",\"kind\":\"Any\",\"default\":{\"type\":\"map\"}},{\"name\":\"position\",\"kind\":\"Any\",\"default\":\"bottom-right\"},{\"name\":\"_clear\",\"kind\":\"Any\",\"default\":0}]},{\"type\":\"model\",\"name\":\"NotificationArea1\",\"properties\":[{\"name\":\"js_events\",\"kind\":\"Any\",\"default\":{\"type\":\"map\"}},{\"name\":\"notifications\",\"kind\":\"Any\",\"default\":[]},{\"name\":\"position\",\"kind\":\"Any\",\"default\":\"bottom-right\"},{\"name\":\"_clear\",\"kind\":\"Any\",\"default\":0},{\"name\":\"types\",\"kind\":\"Any\",\"default\":[{\"type\":\"map\",\"entries\":[[\"type\",\"warning\"],[\"background\",\"#ffc107\"],[\"icon\",{\"type\":\"map\",\"entries\":[[\"className\",\"fas fa-exclamation-triangle\"],[\"tagName\",\"i\"],[\"color\",\"white\"]]}]]},{\"type\":\"map\",\"entries\":[[\"type\",\"info\"],[\"background\",\"#007bff\"],[\"icon\",{\"type\":\"map\",\"entries\":[[\"className\",\"fas fa-info-circle\"],[\"tagName\",\"i\"],[\"color\",\"white\"]]}]]}]}]},{\"type\":\"model\",\"name\":\"Notification\",\"properties\":[{\"name\":\"background\",\"kind\":\"Any\",\"default\":null},{\"name\":\"duration\",\"kind\":\"Any\",\"default\":3000},{\"name\":\"icon\",\"kind\":\"Any\",\"default\":null},{\"name\":\"message\",\"kind\":\"Any\",\"default\":\"\"},{\"name\":\"notification_type\",\"kind\":\"Any\",\"default\":null},{\"name\":\"_destroyed\",\"kind\":\"Any\",\"default\":false}]},{\"type\":\"model\",\"name\":\"TemplateActions1\",\"properties\":[{\"name\":\"open_modal\",\"kind\":\"Any\",\"default\":0},{\"name\":\"close_modal\",\"kind\":\"Any\",\"default\":0}]},{\"type\":\"model\",\"name\":\"BootstrapTemplateActions1\",\"properties\":[{\"name\":\"open_modal\",\"kind\":\"Any\",\"default\":0},{\"name\":\"close_modal\",\"kind\":\"Any\",\"default\":0}]},{\"type\":\"model\",\"name\":\"MaterialTemplateActions1\",\"properties\":[{\"name\":\"open_modal\",\"kind\":\"Any\",\"default\":0},{\"name\":\"close_modal\",\"kind\":\"Any\",\"default\":0}]}],\"roots\":[{\"type\":\"object\",\"name\":\"Row\",\"id\":\"p1472\",\"attributes\":{\"name\":\"Row03517\",\"tags\":[\"embedded\"],\"stylesheets\":[\"\\n:host(.pn-loading.pn-arc):before, .pn-loading.pn-arc:before {\\n  background-image: url(\\\"data:image/svg+xml;base64,PHN2ZyB4bWxucz0iaHR0cDovL3d3dy53My5vcmcvMjAwMC9zdmciIHN0eWxlPSJtYXJnaW46IGF1dG87IGJhY2tncm91bmQ6IG5vbmU7IGRpc3BsYXk6IGJsb2NrOyBzaGFwZS1yZW5kZXJpbmc6IGF1dG87IiB2aWV3Qm94PSIwIDAgMTAwIDEwMCIgcHJlc2VydmVBc3BlY3RSYXRpbz0ieE1pZFlNaWQiPiAgPGNpcmNsZSBjeD0iNTAiIGN5PSI1MCIgZmlsbD0ibm9uZSIgc3Ryb2tlPSIjYzNjM2MzIiBzdHJva2Utd2lkdGg9IjEwIiByPSIzNSIgc3Ryb2tlLWRhc2hhcnJheT0iMTY0LjkzMzYxNDMxMzQ2NDE1IDU2Ljk3Nzg3MTQzNzgyMTM4Ij4gICAgPGFuaW1hdGVUcmFuc2Zvcm0gYXR0cmlidXRlTmFtZT0idHJhbnNmb3JtIiB0eXBlPSJyb3RhdGUiIHJlcGVhdENvdW50PSJpbmRlZmluaXRlIiBkdXI9IjFzIiB2YWx1ZXM9IjAgNTAgNTA7MzYwIDUwIDUwIiBrZXlUaW1lcz0iMDsxIj48L2FuaW1hdGVUcmFuc2Zvcm0+ICA8L2NpcmNsZT48L3N2Zz4=\\\");\\n  background-size: auto calc(min(50%, 400px));\\n}\",{\"type\":\"object\",\"name\":\"ImportedStyleSheet\",\"id\":\"p1475\",\"attributes\":{\"url\":\"https://cdn.holoviz.org/panel/1.2.3/dist/css/loading.css\"}},{\"type\":\"object\",\"name\":\"ImportedStyleSheet\",\"id\":\"p1614\",\"attributes\":{\"url\":\"https://cdn.holoviz.org/panel/1.2.3/dist/css/listpanel.css\"}},{\"type\":\"object\",\"name\":\"ImportedStyleSheet\",\"id\":\"p1473\",\"attributes\":{\"url\":\"https://cdn.holoviz.org/panel/1.2.3/dist/bundled/theme/default.css\"}},{\"type\":\"object\",\"name\":\"ImportedStyleSheet\",\"id\":\"p1474\",\"attributes\":{\"url\":\"https://cdn.holoviz.org/panel/1.2.3/dist/bundled/theme/native.css\"}}],\"min_width\":700,\"margin\":0,\"sizing_mode\":\"stretch_width\",\"align\":\"start\",\"children\":[{\"type\":\"object\",\"name\":\"Spacer\",\"id\":\"p1476\",\"attributes\":{\"name\":\"HSpacer03528\",\"stylesheets\":[\"\\n:host(.pn-loading.pn-arc):before, .pn-loading.pn-arc:before {\\n  background-image: url(\\\"data:image/svg+xml;base64,PHN2ZyB4bWxucz0iaHR0cDovL3d3dy53My5vcmcvMjAwMC9zdmciIHN0eWxlPSJtYXJnaW46IGF1dG87IGJhY2tncm91bmQ6IG5vbmU7IGRpc3BsYXk6IGJsb2NrOyBzaGFwZS1yZW5kZXJpbmc6IGF1dG87IiB2aWV3Qm94PSIwIDAgMTAwIDEwMCIgcHJlc2VydmVBc3BlY3RSYXRpbz0ieE1pZFlNaWQiPiAgPGNpcmNsZSBjeD0iNTAiIGN5PSI1MCIgZmlsbD0ibm9uZSIgc3Ryb2tlPSIjYzNjM2MzIiBzdHJva2Utd2lkdGg9IjEwIiByPSIzNSIgc3Ryb2tlLWRhc2hhcnJheT0iMTY0LjkzMzYxNDMxMzQ2NDE1IDU2Ljk3Nzg3MTQzNzgyMTM4Ij4gICAgPGFuaW1hdGVUcmFuc2Zvcm0gYXR0cmlidXRlTmFtZT0idHJhbnNmb3JtIiB0eXBlPSJyb3RhdGUiIHJlcGVhdENvdW50PSJpbmRlZmluaXRlIiBkdXI9IjFzIiB2YWx1ZXM9IjAgNTAgNTA7MzYwIDUwIDUwIiBrZXlUaW1lcz0iMDsxIj48L2FuaW1hdGVUcmFuc2Zvcm0+ICA8L2NpcmNsZT48L3N2Zz4=\\\");\\n  background-size: auto calc(min(50%, 400px));\\n}\",{\"id\":\"p1475\"},{\"id\":\"p1473\"},{\"id\":\"p1474\"}],\"margin\":0,\"sizing_mode\":\"stretch_width\",\"align\":\"start\"}},{\"type\":\"object\",\"name\":\"Figure\",\"id\":\"p1484\",\"attributes\":{\"width\":700,\"height\":450,\"margin\":[5,10],\"sizing_mode\":\"fixed\",\"align\":\"start\",\"x_range\":{\"type\":\"object\",\"name\":\"Range1d\",\"id\":\"p1477\",\"attributes\":{\"tags\":[[[\"Ano\",\"Ano\",null]],[]],\"start\":1997,\"end\":2019,\"reset_start\":1997,\"reset_end\":2019}},\"y_range\":{\"type\":\"object\",\"name\":\"Range1d\",\"id\":\"p1478\",\"attributes\":{\"tags\":[[[\"value\",\"value\",null]],{\"type\":\"map\",\"entries\":[[\"invert_yaxis\",false],[\"autorange\",false]]}],\"end\":10,\"reset_start\":0,\"reset_end\":10}},\"x_scale\":{\"type\":\"object\",\"name\":\"LinearScale\",\"id\":\"p1496\"},\"y_scale\":{\"type\":\"object\",\"name\":\"LinearScale\",\"id\":\"p1497\"},\"title\":{\"type\":\"object\",\"name\":\"Title\",\"id\":\"p1487\",\"attributes\":{\"text\":\"Benef\\u00edcios previdenci\\u00e1rios (RGPS), Governo Central, 1997-2019 (% do PIB)\",\"text_color\":\"black\",\"text_font_size\":\"11pt\"}},\"renderers\":[{\"type\":\"object\",\"name\":\"GlyphRenderer\",\"id\":\"p1549\",\"attributes\":{\"name\":\"Benef\\u00edcios previdenci\\u00e1rios\",\"data_source\":{\"type\":\"object\",\"name\":\"ColumnDataSource\",\"id\":\"p1539\",\"attributes\":{\"selected\":{\"type\":\"object\",\"name\":\"Selection\",\"id\":\"p1540\",\"attributes\":{\"indices\":[],\"line_indices\":[]}},\"selection_policy\":{\"type\":\"object\",\"name\":\"UnionRenderers\",\"id\":\"p1541\"},\"data\":{\"type\":\"map\",\"entries\":[[\"Ano\",{\"type\":\"ndarray\",\"array\":{\"type\":\"bytes\",\"data\":\"zQcAAM4HAADPBwAA0AcAANEHAADSBwAA0wcAANQHAADVBwAA1gcAANcHAADYBwAA2QcAANoHAADbBwAA3AcAAN0HAADeBwAA3wcAAOAHAADhBwAA4gcAAOMHAAA=\"},\"shape\":[23],\"dtype\":\"int32\",\"order\":\"little\"}],[\"value\",{\"type\":\"ndarray\",\"array\":{\"type\":\"bytes\",\"data\":\"aiprhmrEE0DQmrbS2EwVQMlj1JodhxVAHwDO2xTyFUBfI8FufOYWQMVixZiLphdAhrLLJd7xGECKfEXhYbEZQMb9Dzc16BpA8FsoiEN9G0AcqVgsFD8bQJXqajA0qxlA6mPFr8/8GkB6tjkJCzwaQDALKLEuuRlAVVSgczRNGkAMtmv5qcgaQFHDF8wJSRtAVFZ1vtUXHUBisxyrpzMgQNQ2CJ6+7SBAdcg9wO8FIUAMjc2tPEQhQA==\"},\"shape\":[23],\"dtype\":\"float64\",\"order\":\"little\"}],[\"Benef\\u00edcios\",[\"Benef\\u00edcios previdenci\\u00e1rios\",\"Benef\\u00edcios previdenci\\u00e1rios\",\"Benef\\u00edcios previdenci\\u00e1rios\",\"Benef\\u00edcios previdenci\\u00e1rios\",\"Benef\\u00edcios previdenci\\u00e1rios\",\"Benef\\u00edcios previdenci\\u00e1rios\",\"Benef\\u00edcios previdenci\\u00e1rios\",\"Benef\\u00edcios previdenci\\u00e1rios\",\"Benef\\u00edcios previdenci\\u00e1rios\",\"Benef\\u00edcios previdenci\\u00e1rios\",\"Benef\\u00edcios previdenci\\u00e1rios\",\"Benef\\u00edcios previdenci\\u00e1rios\",\"Benef\\u00edcios previdenci\\u00e1rios\",\"Benef\\u00edcios previdenci\\u00e1rios\",\"Benef\\u00edcios previdenci\\u00e1rios\",\"Benef\\u00edcios previdenci\\u00e1rios\",\"Benef\\u00edcios previdenci\\u00e1rios\",\"Benef\\u00edcios previdenci\\u00e1rios\",\"Benef\\u00edcios previdenci\\u00e1rios\",\"Benef\\u00edcios previdenci\\u00e1rios\",\"Benef\\u00edcios previdenci\\u00e1rios\",\"Benef\\u00edcios previdenci\\u00e1rios\",\"Benef\\u00edcios previdenci\\u00e1rios\"]]]}}},\"view\":{\"type\":\"object\",\"name\":\"CDSView\",\"id\":\"p1550\",\"attributes\":{\"filter\":{\"type\":\"object\",\"name\":\"AllIndices\",\"id\":\"p1551\"}}},\"glyph\":{\"type\":\"object\",\"name\":\"Line\",\"id\":\"p1546\",\"attributes\":{\"tags\":[\"apply_ranges\"],\"x\":{\"type\":\"field\",\"field\":\"Ano\"},\"y\":{\"type\":\"field\",\"field\":\"value\"},\"line_color\":\"#30a2da\",\"line_width\":2}},\"selection_glyph\":{\"type\":\"object\",\"name\":\"Line\",\"id\":\"p1554\",\"attributes\":{\"tags\":[\"apply_ranges\"],\"x\":{\"type\":\"field\",\"field\":\"Ano\"},\"y\":{\"type\":\"field\",\"field\":\"value\"},\"line_color\":\"#30a2da\",\"line_width\":2}},\"nonselection_glyph\":{\"type\":\"object\",\"name\":\"Line\",\"id\":\"p1547\",\"attributes\":{\"tags\":[\"apply_ranges\"],\"x\":{\"type\":\"field\",\"field\":\"Ano\"},\"y\":{\"type\":\"field\",\"field\":\"value\"},\"line_color\":\"#30a2da\",\"line_alpha\":0.1,\"line_width\":2}},\"muted_glyph\":{\"type\":\"object\",\"name\":\"Line\",\"id\":\"p1548\",\"attributes\":{\"tags\":[\"apply_ranges\"],\"x\":{\"type\":\"field\",\"field\":\"Ano\"},\"y\":{\"type\":\"field\",\"field\":\"value\"},\"line_color\":\"#30a2da\",\"line_alpha\":0.2,\"line_width\":2}}}},{\"type\":\"object\",\"name\":\"GlyphRenderer\",\"id\":\"p1565\",\"attributes\":{\"name\":\"Benef\\u00edcios urbanos\",\"data_source\":{\"type\":\"object\",\"name\":\"ColumnDataSource\",\"id\":\"p1555\",\"attributes\":{\"selected\":{\"type\":\"object\",\"name\":\"Selection\",\"id\":\"p1556\",\"attributes\":{\"indices\":[],\"line_indices\":[]}},\"selection_policy\":{\"type\":\"object\",\"name\":\"UnionRenderers\",\"id\":\"p1557\"},\"data\":{\"type\":\"map\",\"entries\":[[\"Ano\",{\"type\":\"ndarray\",\"array\":{\"type\":\"bytes\",\"data\":\"zQcAAM4HAADPBwAA0AcAANEHAADSBwAA0wcAANQHAADVBwAA1gcAANcHAADYBwAA2QcAANoHAADbBwAA3AcAAN0HAADeBwAA3wcAAOAHAADhBwAA4gcAAOMHAAA=\"},\"shape\":[23],\"dtype\":\"int32\",\"order\":\"little\"}],[\"value\",{\"type\":\"ndarray\",\"array\":{\"type\":\"bytes\",\"data\":\"AAAAAAAA+H8AAAAAAAD4fwAAAAAAAPh/AAAAAAAA+H84ZfAGJ3YSQCmSoodoEhNA58gBrl8oFEClhLJWNvEUQABu/ORa3xVA0i2T4DUhFkDBveFbJN4VQHBrLCQLiRRAZr3IVwcaFUAmSn5G+3UUQLW8hpW1GxRAXNR1gk1kFEAlWHqDXMEUQFjhbZJGJRVAJfRFEW6NFkAuzViAOU0ZQPlCt9lSkBpAgB2AMMjcGkBTioBzIl0bQA==\"},\"shape\":[23],\"dtype\":\"float64\",\"order\":\"little\"}],[\"Benef\\u00edcios\",[\"Benef\\u00edcios urbanos\",\"Benef\\u00edcios urbanos\",\"Benef\\u00edcios urbanos\",\"Benef\\u00edcios urbanos\",\"Benef\\u00edcios urbanos\",\"Benef\\u00edcios urbanos\",\"Benef\\u00edcios urbanos\",\"Benef\\u00edcios urbanos\",\"Benef\\u00edcios urbanos\",\"Benef\\u00edcios urbanos\",\"Benef\\u00edcios urbanos\",\"Benef\\u00edcios urbanos\",\"Benef\\u00edcios urbanos\",\"Benef\\u00edcios urbanos\",\"Benef\\u00edcios urbanos\",\"Benef\\u00edcios urbanos\",\"Benef\\u00edcios urbanos\",\"Benef\\u00edcios urbanos\",\"Benef\\u00edcios urbanos\",\"Benef\\u00edcios urbanos\",\"Benef\\u00edcios urbanos\",\"Benef\\u00edcios urbanos\",\"Benef\\u00edcios urbanos\"]]]}}},\"view\":{\"type\":\"object\",\"name\":\"CDSView\",\"id\":\"p1566\",\"attributes\":{\"filter\":{\"type\":\"object\",\"name\":\"AllIndices\",\"id\":\"p1567\"}}},\"glyph\":{\"type\":\"object\",\"name\":\"Line\",\"id\":\"p1562\",\"attributes\":{\"tags\":[\"apply_ranges\"],\"x\":{\"type\":\"field\",\"field\":\"Ano\"},\"y\":{\"type\":\"field\",\"field\":\"value\"},\"line_color\":\"#fc4f30\",\"line_width\":2}},\"selection_glyph\":{\"type\":\"object\",\"name\":\"Line\",\"id\":\"p1569\",\"attributes\":{\"tags\":[\"apply_ranges\"],\"x\":{\"type\":\"field\",\"field\":\"Ano\"},\"y\":{\"type\":\"field\",\"field\":\"value\"},\"line_color\":\"#fc4f30\",\"line_width\":2}},\"nonselection_glyph\":{\"type\":\"object\",\"name\":\"Line\",\"id\":\"p1563\",\"attributes\":{\"tags\":[\"apply_ranges\"],\"x\":{\"type\":\"field\",\"field\":\"Ano\"},\"y\":{\"type\":\"field\",\"field\":\"value\"},\"line_color\":\"#fc4f30\",\"line_alpha\":0.1,\"line_width\":2}},\"muted_glyph\":{\"type\":\"object\",\"name\":\"Line\",\"id\":\"p1564\",\"attributes\":{\"tags\":[\"apply_ranges\"],\"x\":{\"type\":\"field\",\"field\":\"Ano\"},\"y\":{\"type\":\"field\",\"field\":\"value\"},\"line_color\":\"#fc4f30\",\"line_alpha\":0.2,\"line_width\":2}}}},{\"type\":\"object\",\"name\":\"GlyphRenderer\",\"id\":\"p1580\",\"attributes\":{\"name\":\"Benef\\u00edcios rurais\",\"data_source\":{\"type\":\"object\",\"name\":\"ColumnDataSource\",\"id\":\"p1570\",\"attributes\":{\"selected\":{\"type\":\"object\",\"name\":\"Selection\",\"id\":\"p1571\",\"attributes\":{\"indices\":[],\"line_indices\":[]}},\"selection_policy\":{\"type\":\"object\",\"name\":\"UnionRenderers\",\"id\":\"p1572\"},\"data\":{\"type\":\"map\",\"entries\":[[\"Ano\",{\"type\":\"ndarray\",\"array\":{\"type\":\"bytes\",\"data\":\"zQcAAM4HAADPBwAA0AcAANEHAADSBwAA0wcAANQHAADVBwAA1gcAANcHAADYBwAA2QcAANoHAADbBwAA3AcAAN0HAADeBwAA3wcAAOAHAADhBwAA4gcAAOMHAAA=\"},\"shape\":[23],\"dtype\":\"int32\",\"order\":\"little\"}],[\"value\",{\"type\":\"ndarray\",\"array\":{\"type\":\"bytes\",\"data\":\"AAAAAAAA+H8AAAAAAAD4fwAAAAAAAPh/AAAAAAAA+H+b+EKfVcHxP3BCi0SMUPI/T6Yn3/kl8z+V30sqrgDzPxg/TkhpI/Q/ebhUnjZw9T8+rdtBv4P1P5f8+TCkiPQ/4JnyXyGL9z9/se0KPxj3P+k5hW7kdfY/4P+pxJuj9z9vd8XXNR34PxKIp+YMj/g/jcgxtZ4p+j8KeAMMV2j8P1+tZImpLP0/283tP128/D9EP2qgW638Pw==\"},\"shape\":[23],\"dtype\":\"float64\",\"order\":\"little\"}],[\"Benef\\u00edcios\",[\"Benef\\u00edcios rurais\",\"Benef\\u00edcios rurais\",\"Benef\\u00edcios rurais\",\"Benef\\u00edcios rurais\",\"Benef\\u00edcios rurais\",\"Benef\\u00edcios rurais\",\"Benef\\u00edcios rurais\",\"Benef\\u00edcios rurais\",\"Benef\\u00edcios rurais\",\"Benef\\u00edcios rurais\",\"Benef\\u00edcios rurais\",\"Benef\\u00edcios rurais\",\"Benef\\u00edcios rurais\",\"Benef\\u00edcios rurais\",\"Benef\\u00edcios rurais\",\"Benef\\u00edcios rurais\",\"Benef\\u00edcios rurais\",\"Benef\\u00edcios rurais\",\"Benef\\u00edcios rurais\",\"Benef\\u00edcios rurais\",\"Benef\\u00edcios rurais\",\"Benef\\u00edcios rurais\",\"Benef\\u00edcios rurais\"]]]}}},\"view\":{\"type\":\"object\",\"name\":\"CDSView\",\"id\":\"p1581\",\"attributes\":{\"filter\":{\"type\":\"object\",\"name\":\"AllIndices\",\"id\":\"p1582\"}}},\"glyph\":{\"type\":\"object\",\"name\":\"Line\",\"id\":\"p1577\",\"attributes\":{\"tags\":[\"apply_ranges\"],\"x\":{\"type\":\"field\",\"field\":\"Ano\"},\"y\":{\"type\":\"field\",\"field\":\"value\"},\"line_color\":\"#e5ae38\",\"line_width\":2}},\"selection_glyph\":{\"type\":\"object\",\"name\":\"Line\",\"id\":\"p1584\",\"attributes\":{\"tags\":[\"apply_ranges\"],\"x\":{\"type\":\"field\",\"field\":\"Ano\"},\"y\":{\"type\":\"field\",\"field\":\"value\"},\"line_color\":\"#e5ae38\",\"line_width\":2}},\"nonselection_glyph\":{\"type\":\"object\",\"name\":\"Line\",\"id\":\"p1578\",\"attributes\":{\"tags\":[\"apply_ranges\"],\"x\":{\"type\":\"field\",\"field\":\"Ano\"},\"y\":{\"type\":\"field\",\"field\":\"value\"},\"line_color\":\"#e5ae38\",\"line_alpha\":0.1,\"line_width\":2}},\"muted_glyph\":{\"type\":\"object\",\"name\":\"Line\",\"id\":\"p1579\",\"attributes\":{\"tags\":[\"apply_ranges\"],\"x\":{\"type\":\"field\",\"field\":\"Ano\"},\"y\":{\"type\":\"field\",\"field\":\"value\"},\"line_color\":\"#e5ae38\",\"line_alpha\":0.2,\"line_width\":2}}}}],\"toolbar\":{\"type\":\"object\",\"name\":\"Toolbar\",\"id\":\"p1491\",\"attributes\":{\"tools\":[{\"type\":\"object\",\"name\":\"HoverTool\",\"id\":\"p1481\",\"attributes\":{\"tags\":[\"hv_created\"],\"renderers\":[{\"id\":\"p1549\"},{\"id\":\"p1565\"},{\"id\":\"p1580\"}],\"tooltips\":[[\"Benef\\u00edcios\",\"@{Benef\\u00edcios}\"],[\"Ano\",\"@{Ano}\"],[\"value\",\"@{value}\"]]}},{\"type\":\"object\",\"name\":\"SaveTool\",\"id\":\"p1512\"},{\"type\":\"object\",\"name\":\"PanTool\",\"id\":\"p1513\"},{\"type\":\"object\",\"name\":\"WheelZoomTool\",\"id\":\"p1514\"},{\"type\":\"object\",\"name\":\"BoxZoomTool\",\"id\":\"p1515\",\"attributes\":{\"overlay\":{\"type\":\"object\",\"name\":\"BoxAnnotation\",\"id\":\"p1516\",\"attributes\":{\"syncable\":false,\"level\":\"overlay\",\"visible\":false,\"left_units\":\"canvas\",\"right_units\":\"canvas\",\"bottom_units\":\"canvas\",\"top_units\":\"canvas\",\"line_color\":\"black\",\"line_alpha\":1.0,\"line_width\":2,\"line_dash\":[4,4],\"fill_color\":\"lightgrey\",\"fill_alpha\":0.5}}}},{\"type\":\"object\",\"name\":\"ResetTool\",\"id\":\"p1517\"}],\"active_drag\":{\"id\":\"p1513\"},\"active_scroll\":{\"id\":\"p1514\"}}},\"left\":[{\"type\":\"object\",\"name\":\"LinearAxis\",\"id\":\"p1505\",\"attributes\":{\"ticker\":{\"type\":\"object\",\"name\":\"BasicTicker\",\"id\":\"p1506\",\"attributes\":{\"desired_num_ticks\":12,\"mantissas\":[1,2,5]}},\"formatter\":{\"type\":\"object\",\"name\":\"PrintfTickFormatter\",\"id\":\"p1528\",\"attributes\":{\"format\":\"%.1f\"}},\"axis_label\":\"% do PIB\",\"axis_label_text_font_size\":\"8pt\",\"major_label_policy\":{\"type\":\"object\",\"name\":\"AllLabels\",\"id\":\"p1508\"},\"major_label_text_font_size\":\"8pt\"}}],\"below\":[{\"type\":\"object\",\"name\":\"LinearAxis\",\"id\":\"p1498\",\"attributes\":{\"ticker\":{\"type\":\"object\",\"name\":\"BasicTicker\",\"id\":\"p1499\",\"attributes\":{\"desired_num_ticks\":24,\"mantissas\":[1,2,5]}},\"formatter\":{\"type\":\"object\",\"name\":\"BasicTickFormatter\",\"id\":\"p1500\"},\"axis_label\":\"\",\"axis_label_text_font_size\":\"8pt\",\"major_label_orientation\":0.5235987755982988,\"major_label_policy\":{\"type\":\"object\",\"name\":\"AllLabels\",\"id\":\"p1501\"},\"major_label_text_font_size\":\"8pt\"}},{\"type\":\"object\",\"name\":\"Legend\",\"id\":\"p1552\",\"attributes\":{\"location\":[0,0],\"orientation\":\"horizontal\",\"title\":\"Benef\\u00edcios\",\"click_policy\":\"mute\",\"items\":[{\"type\":\"object\",\"name\":\"LegendItem\",\"id\":\"p1553\",\"attributes\":{\"label\":{\"type\":\"value\",\"value\":\"Benef\\u00edcios previdenci\\u00e1rios\"},\"renderers\":[{\"id\":\"p1549\"}]}},{\"type\":\"object\",\"name\":\"LegendItem\",\"id\":\"p1568\",\"attributes\":{\"label\":{\"type\":\"value\",\"value\":\"Benef\\u00edcios urbanos\"},\"renderers\":[{\"id\":\"p1565\"}]}},{\"type\":\"object\",\"name\":\"LegendItem\",\"id\":\"p1583\",\"attributes\":{\"label\":{\"type\":\"value\",\"value\":\"Benef\\u00edcios rurais\"},\"renderers\":[{\"id\":\"p1580\"}]}}]}}],\"center\":[{\"type\":\"object\",\"name\":\"Grid\",\"id\":\"p1504\",\"attributes\":{\"axis\":{\"id\":\"p1498\"},\"grid_line_color\":null}},{\"type\":\"object\",\"name\":\"Grid\",\"id\":\"p1511\",\"attributes\":{\"dimension\":1,\"axis\":{\"id\":\"p1505\"},\"grid_line_color\":null}}],\"min_border_top\":10,\"min_border_bottom\":10,\"min_border_left\":10,\"min_border_right\":10,\"output_backend\":\"webgl\"}},{\"type\":\"object\",\"name\":\"Spacer\",\"id\":\"p1612\",\"attributes\":{\"name\":\"HSpacer03531\",\"stylesheets\":[\"\\n:host(.pn-loading.pn-arc):before, .pn-loading.pn-arc:before {\\n  background-image: url(\\\"data:image/svg+xml;base64,PHN2ZyB4bWxucz0iaHR0cDovL3d3dy53My5vcmcvMjAwMC9zdmciIHN0eWxlPSJtYXJnaW46IGF1dG87IGJhY2tncm91bmQ6IG5vbmU7IGRpc3BsYXk6IGJsb2NrOyBzaGFwZS1yZW5kZXJpbmc6IGF1dG87IiB2aWV3Qm94PSIwIDAgMTAwIDEwMCIgcHJlc2VydmVBc3BlY3RSYXRpbz0ieE1pZFlNaWQiPiAgPGNpcmNsZSBjeD0iNTAiIGN5PSI1MCIgZmlsbD0ibm9uZSIgc3Ryb2tlPSIjYzNjM2MzIiBzdHJva2Utd2lkdGg9IjEwIiByPSIzNSIgc3Ryb2tlLWRhc2hhcnJheT0iMTY0LjkzMzYxNDMxMzQ2NDE1IDU2Ljk3Nzg3MTQzNzgyMTM4Ij4gICAgPGFuaW1hdGVUcmFuc2Zvcm0gYXR0cmlidXRlTmFtZT0idHJhbnNmb3JtIiB0eXBlPSJyb3RhdGUiIHJlcGVhdENvdW50PSJpbmRlZmluaXRlIiBkdXI9IjFzIiB2YWx1ZXM9IjAgNTAgNTA7MzYwIDUwIDUwIiBrZXlUaW1lcz0iMDsxIj48L2FuaW1hdGVUcmFuc2Zvcm0+ICA8L2NpcmNsZT48L3N2Zz4=\\\");\\n  background-size: auto calc(min(50%, 400px));\\n}\",{\"id\":\"p1475\"},{\"id\":\"p1473\"},{\"id\":\"p1474\"}],\"margin\":0,\"sizing_mode\":\"stretch_width\",\"align\":\"start\"}}]}}],\"callbacks\":{\"type\":\"map\"}}};\n",
       "  var render_items = [{\"docid\":\"1016e110-3f1b-46a7-9366-b265a1483a5c\",\"roots\":{\"p1472\":\"e723de85-d94d-4b01-b9ce-3edfa1a60d67\"},\"root_ids\":[\"p1472\"]}];\n",
       "  var docs = Object.values(docs_json)\n",
       "  if (!docs) {\n",
       "    return\n",
       "  }\n",
       "  const py_version = docs[0].version.replace('rc', '-rc.').replace('.dev', '-dev.')\n",
       "  const is_dev = py_version.indexOf(\"+\") !== -1 || py_version.indexOf(\"-\") !== -1\n",
       "  function embed_document(root) {\n",
       "    var Bokeh = get_bokeh(root)\n",
       "    Bokeh.embed.embed_items_notebook(docs_json, render_items);\n",
       "    for (const render_item of render_items) {\n",
       "      for (const root_id of render_item.root_ids) {\n",
       "\tconst id_el = document.getElementById(root_id)\n",
       "\tif (id_el.children.length && (id_el.children[0].className === 'bk-root')) {\n",
       "\t  const root_el = id_el.children[0]\n",
       "\t  root_el.id = root_el.id + '-rendered'\n",
       "\t}\n",
       "      }\n",
       "    }\n",
       "  }\n",
       "  function get_bokeh(root) {\n",
       "    if (root.Bokeh === undefined) {\n",
       "      return null\n",
       "    } else if (root.Bokeh.version !== py_version && !is_dev) {\n",
       "      if (root.Bokeh.versions === undefined || !root.Bokeh.versions.has(py_version)) {\n",
       "\treturn null\n",
       "      }\n",
       "      return root.Bokeh.versions.get(py_version);\n",
       "    } else if (root.Bokeh.version === py_version) {\n",
       "      return root.Bokeh\n",
       "    }\n",
       "    return null\n",
       "  }\n",
       "  function is_loaded(root) {\n",
       "    var Bokeh = get_bokeh(root)\n",
       "    return (Bokeh != null && Bokeh.Panel !== undefined && ( root['Plotly'] !== undefined))\n",
       "  }\n",
       "  if (is_loaded(root)) {\n",
       "    embed_document(root);\n",
       "  } else {\n",
       "    var attempts = 0;\n",
       "    var timer = setInterval(function(root) {\n",
       "      if (is_loaded(root)) {\n",
       "        clearInterval(timer);\n",
       "        embed_document(root);\n",
       "      } else if (document.readyState == \"complete\") {\n",
       "        attempts++;\n",
       "        if (attempts > 200) {\n",
       "          clearInterval(timer);\n",
       "\t  var Bokeh = get_bokeh(root)\n",
       "\t  if (Bokeh == null || Bokeh.Panel == null) {\n",
       "            console.warn(\"Panel: ERROR: Unable to run Panel code because Bokeh or Panel library is missing\");\n",
       "\t  } else {\n",
       "\t    console.warn(\"Panel: WARNING: Attempting to render but not all required libraries could be resolved.\")\n",
       "\t    embed_document(root)\n",
       "\t  }\n",
       "        }\n",
       "      }\n",
       "    }, 25, root)\n",
       "  }\n",
       "})(window);</script>"
      ],
      "text/plain": [
       ":NdOverlay   [Benefícios]\n",
       "   :Curve   [Ano]   (value)"
      ]
     },
     "execution_count": 26,
     "metadata": {
      "application/vnd.holoviews_exec.v0+json": {
       "id": "p1472"
      }
     },
     "output_type": "execute_result"
    }
   ],
   "source": [
    "social"
   ]
  },
  {
   "cell_type": "code",
   "execution_count": 32,
   "metadata": {
    "slideshow": {
     "slide_type": "notes"
    }
   },
   "outputs": [],
   "source": [
    "p = pd.read_excel('br_desp_sociais.xlsx')\n",
    "\n",
    "social_2 = p.hvplot.line('Ano', ['Abono e seguro desemprego', 'LOAS/RMV'],\n",
    "                         height=450,\n",
    "                         width=700,\n",
    "                         rot=30,\n",
    "                         padding=0.05,\n",
    "                         cmap='Set1',\n",
    "                         group_label='Benefícios',\n",
    "                         legend='bottom',\n",
    "                         xlabel='',\n",
    "                         ylabel='% do PIB',\n",
    "                         yformatter='%.1f',\n",
    "                         ylim=(0, 2),\n",
    "                         xlim=(1997, 2019),\n",
    "                         xticks=18,\n",
    "                         yticks=12,\n",
    "                         label='Assistêncial social, Governo Central, 1997-2019 (% do PIB)'\n",
    "                        ).opts(fontsize={'title': 12, 'labels': 9, 'xticks': 9, 'yticks': 9})"
   ]
  },
  {
   "cell_type": "code",
   "execution_count": 33,
   "metadata": {
    "slideshow": {
     "slide_type": "slide"
    }
   },
   "outputs": [
    {
     "data": {},
     "metadata": {},
     "output_type": "display_data"
    },
    {
     "data": {
      "application/vnd.holoviews_exec.v0+json": "",
      "text/html": [
       "<div id='p2100'>\n",
       "  <div id=\"e27c943c-76b3-45f5-81af-d3657e646754\" data-root-id=\"p2100\" style=\"display: contents;\"></div>\n",
       "</div>\n",
       "<script type=\"application/javascript\">(function(root) {\n",
       "  var docs_json = {\"1169b090-62dd-4c39-aeda-7b3d1feda25f\":{\"version\":\"3.1.1\",\"title\":\"Bokeh Application\",\"defs\":[{\"type\":\"model\",\"name\":\"ReactiveHTML1\"},{\"type\":\"model\",\"name\":\"FlexBox1\",\"properties\":[{\"name\":\"align_content\",\"kind\":\"Any\",\"default\":\"flex-start\"},{\"name\":\"align_items\",\"kind\":\"Any\",\"default\":\"flex-start\"},{\"name\":\"flex_direction\",\"kind\":\"Any\",\"default\":\"row\"},{\"name\":\"flex_wrap\",\"kind\":\"Any\",\"default\":\"wrap\"},{\"name\":\"justify_content\",\"kind\":\"Any\",\"default\":\"flex-start\"}]},{\"type\":\"model\",\"name\":\"FloatPanel1\",\"properties\":[{\"name\":\"config\",\"kind\":\"Any\",\"default\":{\"type\":\"map\"}},{\"name\":\"contained\",\"kind\":\"Any\",\"default\":true},{\"name\":\"position\",\"kind\":\"Any\",\"default\":\"right-top\"},{\"name\":\"offsetx\",\"kind\":\"Any\",\"default\":null},{\"name\":\"offsety\",\"kind\":\"Any\",\"default\":null},{\"name\":\"theme\",\"kind\":\"Any\",\"default\":\"primary\"},{\"name\":\"status\",\"kind\":\"Any\",\"default\":\"normalized\"}]},{\"type\":\"model\",\"name\":\"GridStack1\",\"properties\":[{\"name\":\"mode\",\"kind\":\"Any\",\"default\":\"warn\"},{\"name\":\"ncols\",\"kind\":\"Any\",\"default\":null},{\"name\":\"nrows\",\"kind\":\"Any\",\"default\":null},{\"name\":\"allow_resize\",\"kind\":\"Any\",\"default\":true},{\"name\":\"allow_drag\",\"kind\":\"Any\",\"default\":true},{\"name\":\"state\",\"kind\":\"Any\",\"default\":[]}]},{\"type\":\"model\",\"name\":\"drag1\",\"properties\":[{\"name\":\"slider_width\",\"kind\":\"Any\",\"default\":5},{\"name\":\"slider_color\",\"kind\":\"Any\",\"default\":\"black\"},{\"name\":\"value\",\"kind\":\"Any\",\"default\":50}]},{\"type\":\"model\",\"name\":\"click1\",\"properties\":[{\"name\":\"terminal_output\",\"kind\":\"Any\",\"default\":\"\"},{\"name\":\"debug_name\",\"kind\":\"Any\",\"default\":\"\"},{\"name\":\"clears\",\"kind\":\"Any\",\"default\":0}]},{\"type\":\"model\",\"name\":\"FastWrapper1\",\"properties\":[{\"name\":\"object\",\"kind\":\"Any\",\"default\":null},{\"name\":\"style\",\"kind\":\"Any\",\"default\":null}]},{\"type\":\"model\",\"name\":\"NotificationAreaBase1\",\"properties\":[{\"name\":\"js_events\",\"kind\":\"Any\",\"default\":{\"type\":\"map\"}},{\"name\":\"position\",\"kind\":\"Any\",\"default\":\"bottom-right\"},{\"name\":\"_clear\",\"kind\":\"Any\",\"default\":0}]},{\"type\":\"model\",\"name\":\"NotificationArea1\",\"properties\":[{\"name\":\"js_events\",\"kind\":\"Any\",\"default\":{\"type\":\"map\"}},{\"name\":\"notifications\",\"kind\":\"Any\",\"default\":[]},{\"name\":\"position\",\"kind\":\"Any\",\"default\":\"bottom-right\"},{\"name\":\"_clear\",\"kind\":\"Any\",\"default\":0},{\"name\":\"types\",\"kind\":\"Any\",\"default\":[{\"type\":\"map\",\"entries\":[[\"type\",\"warning\"],[\"background\",\"#ffc107\"],[\"icon\",{\"type\":\"map\",\"entries\":[[\"className\",\"fas fa-exclamation-triangle\"],[\"tagName\",\"i\"],[\"color\",\"white\"]]}]]},{\"type\":\"map\",\"entries\":[[\"type\",\"info\"],[\"background\",\"#007bff\"],[\"icon\",{\"type\":\"map\",\"entries\":[[\"className\",\"fas fa-info-circle\"],[\"tagName\",\"i\"],[\"color\",\"white\"]]}]]}]}]},{\"type\":\"model\",\"name\":\"Notification\",\"properties\":[{\"name\":\"background\",\"kind\":\"Any\",\"default\":null},{\"name\":\"duration\",\"kind\":\"Any\",\"default\":3000},{\"name\":\"icon\",\"kind\":\"Any\",\"default\":null},{\"name\":\"message\",\"kind\":\"Any\",\"default\":\"\"},{\"name\":\"notification_type\",\"kind\":\"Any\",\"default\":null},{\"name\":\"_destroyed\",\"kind\":\"Any\",\"default\":false}]},{\"type\":\"model\",\"name\":\"TemplateActions1\",\"properties\":[{\"name\":\"open_modal\",\"kind\":\"Any\",\"default\":0},{\"name\":\"close_modal\",\"kind\":\"Any\",\"default\":0}]},{\"type\":\"model\",\"name\":\"BootstrapTemplateActions1\",\"properties\":[{\"name\":\"open_modal\",\"kind\":\"Any\",\"default\":0},{\"name\":\"close_modal\",\"kind\":\"Any\",\"default\":0}]},{\"type\":\"model\",\"name\":\"MaterialTemplateActions1\",\"properties\":[{\"name\":\"open_modal\",\"kind\":\"Any\",\"default\":0},{\"name\":\"close_modal\",\"kind\":\"Any\",\"default\":0}]}],\"roots\":[{\"type\":\"object\",\"name\":\"Row\",\"id\":\"p2100\",\"attributes\":{\"name\":\"Row04133\",\"tags\":[\"embedded\"],\"stylesheets\":[\"\\n:host(.pn-loading.pn-arc):before, .pn-loading.pn-arc:before {\\n  background-image: url(\\\"data:image/svg+xml;base64,PHN2ZyB4bWxucz0iaHR0cDovL3d3dy53My5vcmcvMjAwMC9zdmciIHN0eWxlPSJtYXJnaW46IGF1dG87IGJhY2tncm91bmQ6IG5vbmU7IGRpc3BsYXk6IGJsb2NrOyBzaGFwZS1yZW5kZXJpbmc6IGF1dG87IiB2aWV3Qm94PSIwIDAgMTAwIDEwMCIgcHJlc2VydmVBc3BlY3RSYXRpbz0ieE1pZFlNaWQiPiAgPGNpcmNsZSBjeD0iNTAiIGN5PSI1MCIgZmlsbD0ibm9uZSIgc3Ryb2tlPSIjYzNjM2MzIiBzdHJva2Utd2lkdGg9IjEwIiByPSIzNSIgc3Ryb2tlLWRhc2hhcnJheT0iMTY0LjkzMzYxNDMxMzQ2NDE1IDU2Ljk3Nzg3MTQzNzgyMTM4Ij4gICAgPGFuaW1hdGVUcmFuc2Zvcm0gYXR0cmlidXRlTmFtZT0idHJhbnNmb3JtIiB0eXBlPSJyb3RhdGUiIHJlcGVhdENvdW50PSJpbmRlZmluaXRlIiBkdXI9IjFzIiB2YWx1ZXM9IjAgNTAgNTA7MzYwIDUwIDUwIiBrZXlUaW1lcz0iMDsxIj48L2FuaW1hdGVUcmFuc2Zvcm0+ICA8L2NpcmNsZT48L3N2Zz4=\\\");\\n  background-size: auto calc(min(50%, 400px));\\n}\",{\"type\":\"object\",\"name\":\"ImportedStyleSheet\",\"id\":\"p2103\",\"attributes\":{\"url\":\"https://cdn.holoviz.org/panel/1.2.3/dist/css/loading.css\"}},{\"type\":\"object\",\"name\":\"ImportedStyleSheet\",\"id\":\"p2221\",\"attributes\":{\"url\":\"https://cdn.holoviz.org/panel/1.2.3/dist/css/listpanel.css\"}},{\"type\":\"object\",\"name\":\"ImportedStyleSheet\",\"id\":\"p2101\",\"attributes\":{\"url\":\"https://cdn.holoviz.org/panel/1.2.3/dist/bundled/theme/default.css\"}},{\"type\":\"object\",\"name\":\"ImportedStyleSheet\",\"id\":\"p2102\",\"attributes\":{\"url\":\"https://cdn.holoviz.org/panel/1.2.3/dist/bundled/theme/native.css\"}}],\"min_width\":700,\"margin\":0,\"sizing_mode\":\"stretch_width\",\"align\":\"start\",\"children\":[{\"type\":\"object\",\"name\":\"Spacer\",\"id\":\"p2104\",\"attributes\":{\"name\":\"HSpacer04144\",\"stylesheets\":[\"\\n:host(.pn-loading.pn-arc):before, .pn-loading.pn-arc:before {\\n  background-image: url(\\\"data:image/svg+xml;base64,PHN2ZyB4bWxucz0iaHR0cDovL3d3dy53My5vcmcvMjAwMC9zdmciIHN0eWxlPSJtYXJnaW46IGF1dG87IGJhY2tncm91bmQ6IG5vbmU7IGRpc3BsYXk6IGJsb2NrOyBzaGFwZS1yZW5kZXJpbmc6IGF1dG87IiB2aWV3Qm94PSIwIDAgMTAwIDEwMCIgcHJlc2VydmVBc3BlY3RSYXRpbz0ieE1pZFlNaWQiPiAgPGNpcmNsZSBjeD0iNTAiIGN5PSI1MCIgZmlsbD0ibm9uZSIgc3Ryb2tlPSIjYzNjM2MzIiBzdHJva2Utd2lkdGg9IjEwIiByPSIzNSIgc3Ryb2tlLWRhc2hhcnJheT0iMTY0LjkzMzYxNDMxMzQ2NDE1IDU2Ljk3Nzg3MTQzNzgyMTM4Ij4gICAgPGFuaW1hdGVUcmFuc2Zvcm0gYXR0cmlidXRlTmFtZT0idHJhbnNmb3JtIiB0eXBlPSJyb3RhdGUiIHJlcGVhdENvdW50PSJpbmRlZmluaXRlIiBkdXI9IjFzIiB2YWx1ZXM9IjAgNTAgNTA7MzYwIDUwIDUwIiBrZXlUaW1lcz0iMDsxIj48L2FuaW1hdGVUcmFuc2Zvcm0+ICA8L2NpcmNsZT48L3N2Zz4=\\\");\\n  background-size: auto calc(min(50%, 400px));\\n}\",{\"id\":\"p2103\"},{\"id\":\"p2101\"},{\"id\":\"p2102\"}],\"margin\":0,\"sizing_mode\":\"stretch_width\",\"align\":\"start\"}},{\"type\":\"object\",\"name\":\"Figure\",\"id\":\"p2111\",\"attributes\":{\"width\":700,\"height\":450,\"margin\":[5,10],\"sizing_mode\":\"fixed\",\"align\":\"start\",\"x_range\":{\"type\":\"object\",\"name\":\"Range1d\",\"id\":\"p2105\",\"attributes\":{\"tags\":[[[\"Ano\",\"Ano\",null]],[]],\"start\":1997,\"end\":2019,\"reset_start\":1997,\"reset_end\":2019}},\"y_range\":{\"type\":\"object\",\"name\":\"Range1d\",\"id\":\"p2106\",\"attributes\":{\"tags\":[[[\"value\",\"value\",null]],{\"type\":\"map\",\"entries\":[[\"invert_yaxis\",false],[\"autorange\",false]]}],\"end\":2,\"reset_start\":0,\"reset_end\":2}},\"x_scale\":{\"type\":\"object\",\"name\":\"LinearScale\",\"id\":\"p2123\"},\"y_scale\":{\"type\":\"object\",\"name\":\"LinearScale\",\"id\":\"p2124\"},\"title\":{\"type\":\"object\",\"name\":\"Title\",\"id\":\"p2114\",\"attributes\":{\"text\":\"Assist\\u00eancial social, Governo Central, 1997-2019 (% do PIB)\",\"text_color\":\"black\",\"text_font_size\":\"12pt\"}},\"renderers\":[{\"type\":\"object\",\"name\":\"GlyphRenderer\",\"id\":\"p2176\",\"attributes\":{\"name\":\"Abono e seguro desemprego\",\"data_source\":{\"type\":\"object\",\"name\":\"ColumnDataSource\",\"id\":\"p2166\",\"attributes\":{\"selected\":{\"type\":\"object\",\"name\":\"Selection\",\"id\":\"p2167\",\"attributes\":{\"indices\":[],\"line_indices\":[]}},\"selection_policy\":{\"type\":\"object\",\"name\":\"UnionRenderers\",\"id\":\"p2168\"},\"data\":{\"type\":\"map\",\"entries\":[[\"Ano\",{\"type\":\"ndarray\",\"array\":{\"type\":\"bytes\",\"data\":\"zQcAAM4HAADPBwAA0AcAANEHAADSBwAA0wcAANQHAADVBwAA1gcAANcHAADYBwAA2QcAANoHAADbBwAA3AcAAN0HAADeBwAA3wcAAOAHAADhBwAA4gcAAOMHAAA=\"},\"shape\":[23],\"dtype\":\"int32\",\"order\":\"little\"}],[\"value\",{\"type\":\"ndarray\",\"array\":{\"type\":\"bytes\",\"data\":\"l80QhgcF3T9T1tjuxnfcPw6OGMINf9w/DWPsl6S+2D89jh4khmjbP2YRJhVx8d4/D6wv1Dzb3j+PjlWVAzDfPxWyBgRk7uA/BzQy+4CZ4z+SC7kjpirlP1aE8qLdAOU/sYPDmi7a6T+ljIQOKIzoP3uJ/6PP/Og/AhXplv3W6T/A/aizwozqPy1A6nQS1e0/JHpLNCdZ6T8hWz+cM5fsPz78C0zAfuo/YDHlfxbg6D/ZZzEBjIPoPw==\"},\"shape\":[23],\"dtype\":\"float64\",\"order\":\"little\"}],[\"Benef\\u00edcios\",[\"Abono e seguro desemprego\",\"Abono e seguro desemprego\",\"Abono e seguro desemprego\",\"Abono e seguro desemprego\",\"Abono e seguro desemprego\",\"Abono e seguro desemprego\",\"Abono e seguro desemprego\",\"Abono e seguro desemprego\",\"Abono e seguro desemprego\",\"Abono e seguro desemprego\",\"Abono e seguro desemprego\",\"Abono e seguro desemprego\",\"Abono e seguro desemprego\",\"Abono e seguro desemprego\",\"Abono e seguro desemprego\",\"Abono e seguro desemprego\",\"Abono e seguro desemprego\",\"Abono e seguro desemprego\",\"Abono e seguro desemprego\",\"Abono e seguro desemprego\",\"Abono e seguro desemprego\",\"Abono e seguro desemprego\",\"Abono e seguro desemprego\"]]]}}},\"view\":{\"type\":\"object\",\"name\":\"CDSView\",\"id\":\"p2177\",\"attributes\":{\"filter\":{\"type\":\"object\",\"name\":\"AllIndices\",\"id\":\"p2178\"}}},\"glyph\":{\"type\":\"object\",\"name\":\"Line\",\"id\":\"p2173\",\"attributes\":{\"tags\":[\"apply_ranges\"],\"x\":{\"type\":\"field\",\"field\":\"Ano\"},\"y\":{\"type\":\"field\",\"field\":\"value\"},\"line_color\":\"#30a2da\",\"line_width\":2}},\"selection_glyph\":{\"type\":\"object\",\"name\":\"Line\",\"id\":\"p2181\",\"attributes\":{\"tags\":[\"apply_ranges\"],\"x\":{\"type\":\"field\",\"field\":\"Ano\"},\"y\":{\"type\":\"field\",\"field\":\"value\"},\"line_color\":\"#30a2da\",\"line_width\":2}},\"nonselection_glyph\":{\"type\":\"object\",\"name\":\"Line\",\"id\":\"p2174\",\"attributes\":{\"tags\":[\"apply_ranges\"],\"x\":{\"type\":\"field\",\"field\":\"Ano\"},\"y\":{\"type\":\"field\",\"field\":\"value\"},\"line_color\":\"#30a2da\",\"line_alpha\":0.1,\"line_width\":2}},\"muted_glyph\":{\"type\":\"object\",\"name\":\"Line\",\"id\":\"p2175\",\"attributes\":{\"tags\":[\"apply_ranges\"],\"x\":{\"type\":\"field\",\"field\":\"Ano\"},\"y\":{\"type\":\"field\",\"field\":\"value\"},\"line_color\":\"#30a2da\",\"line_alpha\":0.2,\"line_width\":2}}}},{\"type\":\"object\",\"name\":\"GlyphRenderer\",\"id\":\"p2192\",\"attributes\":{\"name\":\"LOAS/RMV\",\"data_source\":{\"type\":\"object\",\"name\":\"ColumnDataSource\",\"id\":\"p2182\",\"attributes\":{\"selected\":{\"type\":\"object\",\"name\":\"Selection\",\"id\":\"p2183\",\"attributes\":{\"indices\":[],\"line_indices\":[]}},\"selection_policy\":{\"type\":\"object\",\"name\":\"UnionRenderers\",\"id\":\"p2184\"},\"data\":{\"type\":\"map\",\"entries\":[[\"Ano\",{\"type\":\"ndarray\",\"array\":{\"type\":\"bytes\",\"data\":\"zQcAAM4HAADPBwAA0AcAANEHAADSBwAA0wcAANQHAADVBwAA1gcAANcHAADYBwAA2QcAANoHAADbBwAA3AcAAN0HAADeBwAA3wcAAOAHAADhBwAA4gcAAOMHAAA=\"},\"shape\":[23],\"dtype\":\"int32\",\"order\":\"little\"}],[\"value\",{\"type\":\"ndarray\",\"array\":{\"type\":\"bytes\",\"data\":\"AAAAAAAAAAAAAAAAAAAAAAjXl0tSLsE/NzAN6l9sxT/8zKo1UCTKP1SAPVGLxc0/tPmEqgaS0D8iDISLQIbYP95lN7llSNs/IDeWEEvq3j9R6XuI4bHgP4ew0OZVgOA/61AhEZQw4j9PsJDw5IfiP+6VkT7Sc+I/pH9VVJqi4z/P4mheaF/kP+OsCDvJWeU/f+NCXPyz5j8cTfKWbgHpP7J5RJOyH+o/A34/gJQV6j/jVkHWc1bqPw==\"},\"shape\":[23],\"dtype\":\"float64\",\"order\":\"little\"}],[\"Benef\\u00edcios\",[\"LOAS/RMV\",\"LOAS/RMV\",\"LOAS/RMV\",\"LOAS/RMV\",\"LOAS/RMV\",\"LOAS/RMV\",\"LOAS/RMV\",\"LOAS/RMV\",\"LOAS/RMV\",\"LOAS/RMV\",\"LOAS/RMV\",\"LOAS/RMV\",\"LOAS/RMV\",\"LOAS/RMV\",\"LOAS/RMV\",\"LOAS/RMV\",\"LOAS/RMV\",\"LOAS/RMV\",\"LOAS/RMV\",\"LOAS/RMV\",\"LOAS/RMV\",\"LOAS/RMV\",\"LOAS/RMV\"]]]}}},\"view\":{\"type\":\"object\",\"name\":\"CDSView\",\"id\":\"p2193\",\"attributes\":{\"filter\":{\"type\":\"object\",\"name\":\"AllIndices\",\"id\":\"p2194\"}}},\"glyph\":{\"type\":\"object\",\"name\":\"Line\",\"id\":\"p2189\",\"attributes\":{\"tags\":[\"apply_ranges\"],\"x\":{\"type\":\"field\",\"field\":\"Ano\"},\"y\":{\"type\":\"field\",\"field\":\"value\"},\"line_color\":\"#fc4f30\",\"line_width\":2}},\"selection_glyph\":{\"type\":\"object\",\"name\":\"Line\",\"id\":\"p2196\",\"attributes\":{\"tags\":[\"apply_ranges\"],\"x\":{\"type\":\"field\",\"field\":\"Ano\"},\"y\":{\"type\":\"field\",\"field\":\"value\"},\"line_color\":\"#fc4f30\",\"line_width\":2}},\"nonselection_glyph\":{\"type\":\"object\",\"name\":\"Line\",\"id\":\"p2190\",\"attributes\":{\"tags\":[\"apply_ranges\"],\"x\":{\"type\":\"field\",\"field\":\"Ano\"},\"y\":{\"type\":\"field\",\"field\":\"value\"},\"line_color\":\"#fc4f30\",\"line_alpha\":0.1,\"line_width\":2}},\"muted_glyph\":{\"type\":\"object\",\"name\":\"Line\",\"id\":\"p2191\",\"attributes\":{\"tags\":[\"apply_ranges\"],\"x\":{\"type\":\"field\",\"field\":\"Ano\"},\"y\":{\"type\":\"field\",\"field\":\"value\"},\"line_color\":\"#fc4f30\",\"line_alpha\":0.2,\"line_width\":2}}}}],\"toolbar\":{\"type\":\"object\",\"name\":\"Toolbar\",\"id\":\"p2118\",\"attributes\":{\"tools\":[{\"type\":\"object\",\"name\":\"HoverTool\",\"id\":\"p2109\",\"attributes\":{\"tags\":[\"hv_created\"],\"renderers\":[{\"id\":\"p2176\"},{\"id\":\"p2192\"}],\"tooltips\":[[\"Benef\\u00edcios\",\"@{Benef\\u00edcios}\"],[\"Ano\",\"@{Ano}\"],[\"value\",\"@{value}\"]]}},{\"type\":\"object\",\"name\":\"SaveTool\",\"id\":\"p2139\"},{\"type\":\"object\",\"name\":\"PanTool\",\"id\":\"p2140\"},{\"type\":\"object\",\"name\":\"WheelZoomTool\",\"id\":\"p2141\"},{\"type\":\"object\",\"name\":\"BoxZoomTool\",\"id\":\"p2142\",\"attributes\":{\"overlay\":{\"type\":\"object\",\"name\":\"BoxAnnotation\",\"id\":\"p2143\",\"attributes\":{\"syncable\":false,\"level\":\"overlay\",\"visible\":false,\"left_units\":\"canvas\",\"right_units\":\"canvas\",\"bottom_units\":\"canvas\",\"top_units\":\"canvas\",\"line_color\":\"black\",\"line_alpha\":1.0,\"line_width\":2,\"line_dash\":[4,4],\"fill_color\":\"lightgrey\",\"fill_alpha\":0.5}}}},{\"type\":\"object\",\"name\":\"ResetTool\",\"id\":\"p2144\"}],\"active_drag\":{\"id\":\"p2140\"},\"active_scroll\":{\"id\":\"p2141\"}}},\"left\":[{\"type\":\"object\",\"name\":\"LinearAxis\",\"id\":\"p2132\",\"attributes\":{\"ticker\":{\"type\":\"object\",\"name\":\"BasicTicker\",\"id\":\"p2133\",\"attributes\":{\"desired_num_ticks\":12,\"mantissas\":[1,2,5]}},\"formatter\":{\"type\":\"object\",\"name\":\"PrintfTickFormatter\",\"id\":\"p2155\",\"attributes\":{\"format\":\"%.1f\"}},\"axis_label\":\"% do PIB\",\"axis_label_text_font_size\":\"9pt\",\"major_label_policy\":{\"type\":\"object\",\"name\":\"AllLabels\",\"id\":\"p2135\"},\"major_label_text_font_size\":\"9pt\"}}],\"below\":[{\"type\":\"object\",\"name\":\"LinearAxis\",\"id\":\"p2125\",\"attributes\":{\"ticker\":{\"type\":\"object\",\"name\":\"BasicTicker\",\"id\":\"p2126\",\"attributes\":{\"desired_num_ticks\":18,\"mantissas\":[1,2,5]}},\"formatter\":{\"type\":\"object\",\"name\":\"BasicTickFormatter\",\"id\":\"p2127\"},\"axis_label\":\"\",\"axis_label_text_font_size\":\"9pt\",\"major_label_orientation\":0.5235987755982988,\"major_label_policy\":{\"type\":\"object\",\"name\":\"AllLabels\",\"id\":\"p2128\"},\"major_label_text_font_size\":\"9pt\"}},{\"type\":\"object\",\"name\":\"Legend\",\"id\":\"p2179\",\"attributes\":{\"location\":[0,0],\"orientation\":\"horizontal\",\"title\":\"Benef\\u00edcios\",\"click_policy\":\"mute\",\"items\":[{\"type\":\"object\",\"name\":\"LegendItem\",\"id\":\"p2180\",\"attributes\":{\"label\":{\"type\":\"value\",\"value\":\"Abono e seguro desemprego\"},\"renderers\":[{\"id\":\"p2176\"}]}},{\"type\":\"object\",\"name\":\"LegendItem\",\"id\":\"p2195\",\"attributes\":{\"label\":{\"type\":\"value\",\"value\":\"LOAS/RMV\"},\"renderers\":[{\"id\":\"p2192\"}]}}]}}],\"center\":[{\"type\":\"object\",\"name\":\"Grid\",\"id\":\"p2131\",\"attributes\":{\"axis\":{\"id\":\"p2125\"},\"grid_line_color\":null}},{\"type\":\"object\",\"name\":\"Grid\",\"id\":\"p2138\",\"attributes\":{\"dimension\":1,\"axis\":{\"id\":\"p2132\"},\"grid_line_color\":null}}],\"min_border_top\":10,\"min_border_bottom\":10,\"min_border_left\":10,\"min_border_right\":10,\"output_backend\":\"webgl\"}},{\"type\":\"object\",\"name\":\"Spacer\",\"id\":\"p2219\",\"attributes\":{\"name\":\"HSpacer04147\",\"stylesheets\":[\"\\n:host(.pn-loading.pn-arc):before, .pn-loading.pn-arc:before {\\n  background-image: url(\\\"data:image/svg+xml;base64,PHN2ZyB4bWxucz0iaHR0cDovL3d3dy53My5vcmcvMjAwMC9zdmciIHN0eWxlPSJtYXJnaW46IGF1dG87IGJhY2tncm91bmQ6IG5vbmU7IGRpc3BsYXk6IGJsb2NrOyBzaGFwZS1yZW5kZXJpbmc6IGF1dG87IiB2aWV3Qm94PSIwIDAgMTAwIDEwMCIgcHJlc2VydmVBc3BlY3RSYXRpbz0ieE1pZFlNaWQiPiAgPGNpcmNsZSBjeD0iNTAiIGN5PSI1MCIgZmlsbD0ibm9uZSIgc3Ryb2tlPSIjYzNjM2MzIiBzdHJva2Utd2lkdGg9IjEwIiByPSIzNSIgc3Ryb2tlLWRhc2hhcnJheT0iMTY0LjkzMzYxNDMxMzQ2NDE1IDU2Ljk3Nzg3MTQzNzgyMTM4Ij4gICAgPGFuaW1hdGVUcmFuc2Zvcm0gYXR0cmlidXRlTmFtZT0idHJhbnNmb3JtIiB0eXBlPSJyb3RhdGUiIHJlcGVhdENvdW50PSJpbmRlZmluaXRlIiBkdXI9IjFzIiB2YWx1ZXM9IjAgNTAgNTA7MzYwIDUwIDUwIiBrZXlUaW1lcz0iMDsxIj48L2FuaW1hdGVUcmFuc2Zvcm0+ICA8L2NpcmNsZT48L3N2Zz4=\\\");\\n  background-size: auto calc(min(50%, 400px));\\n}\",{\"id\":\"p2103\"},{\"id\":\"p2101\"},{\"id\":\"p2102\"}],\"margin\":0,\"sizing_mode\":\"stretch_width\",\"align\":\"start\"}}]}}],\"callbacks\":{\"type\":\"map\"}}};\n",
       "  var render_items = [{\"docid\":\"1169b090-62dd-4c39-aeda-7b3d1feda25f\",\"roots\":{\"p2100\":\"e27c943c-76b3-45f5-81af-d3657e646754\"},\"root_ids\":[\"p2100\"]}];\n",
       "  var docs = Object.values(docs_json)\n",
       "  if (!docs) {\n",
       "    return\n",
       "  }\n",
       "  const py_version = docs[0].version.replace('rc', '-rc.').replace('.dev', '-dev.')\n",
       "  const is_dev = py_version.indexOf(\"+\") !== -1 || py_version.indexOf(\"-\") !== -1\n",
       "  function embed_document(root) {\n",
       "    var Bokeh = get_bokeh(root)\n",
       "    Bokeh.embed.embed_items_notebook(docs_json, render_items);\n",
       "    for (const render_item of render_items) {\n",
       "      for (const root_id of render_item.root_ids) {\n",
       "\tconst id_el = document.getElementById(root_id)\n",
       "\tif (id_el.children.length && (id_el.children[0].className === 'bk-root')) {\n",
       "\t  const root_el = id_el.children[0]\n",
       "\t  root_el.id = root_el.id + '-rendered'\n",
       "\t}\n",
       "      }\n",
       "    }\n",
       "  }\n",
       "  function get_bokeh(root) {\n",
       "    if (root.Bokeh === undefined) {\n",
       "      return null\n",
       "    } else if (root.Bokeh.version !== py_version && !is_dev) {\n",
       "      if (root.Bokeh.versions === undefined || !root.Bokeh.versions.has(py_version)) {\n",
       "\treturn null\n",
       "      }\n",
       "      return root.Bokeh.versions.get(py_version);\n",
       "    } else if (root.Bokeh.version === py_version) {\n",
       "      return root.Bokeh\n",
       "    }\n",
       "    return null\n",
       "  }\n",
       "  function is_loaded(root) {\n",
       "    var Bokeh = get_bokeh(root)\n",
       "    return (Bokeh != null && Bokeh.Panel !== undefined && ( root['Plotly'] !== undefined))\n",
       "  }\n",
       "  if (is_loaded(root)) {\n",
       "    embed_document(root);\n",
       "  } else {\n",
       "    var attempts = 0;\n",
       "    var timer = setInterval(function(root) {\n",
       "      if (is_loaded(root)) {\n",
       "        clearInterval(timer);\n",
       "        embed_document(root);\n",
       "      } else if (document.readyState == \"complete\") {\n",
       "        attempts++;\n",
       "        if (attempts > 200) {\n",
       "          clearInterval(timer);\n",
       "\t  var Bokeh = get_bokeh(root)\n",
       "\t  if (Bokeh == null || Bokeh.Panel == null) {\n",
       "            console.warn(\"Panel: ERROR: Unable to run Panel code because Bokeh or Panel library is missing\");\n",
       "\t  } else {\n",
       "\t    console.warn(\"Panel: WARNING: Attempting to render but not all required libraries could be resolved.\")\n",
       "\t    embed_document(root)\n",
       "\t  }\n",
       "        }\n",
       "      }\n",
       "    }, 25, root)\n",
       "  }\n",
       "})(window);</script>"
      ],
      "text/plain": [
       ":NdOverlay   [Benefícios]\n",
       "   :Curve   [Ano]   (value)"
      ]
     },
     "execution_count": 33,
     "metadata": {
      "application/vnd.holoviews_exec.v0+json": {
       "id": "p2100"
      }
     },
     "output_type": "execute_result"
    }
   ],
   "source": [
    "social_2"
   ]
  },
  {
   "cell_type": "code",
   "execution_count": 36,
   "metadata": {
    "slideshow": {
     "slide_type": "notes"
    }
   },
   "outputs": [],
   "source": [
    "p = pd.read_excel('br_desp_sociais.xlsx')\n",
    "\n",
    "social_3 = p.hvplot.line('Ano', ['Bolsa Família', 'Educação (obr)', 'Saúde (obr)', 'Comp folha'],\n",
    "                         height=450,\n",
    "                         width=700,\n",
    "                         rot=30,\n",
    "                         padding=0.05,\n",
    "                         cmap='Set1',\n",
    "                         group_label='Benefícios',\n",
    "                         legend='bottom',\n",
    "                         xlabel='',\n",
    "                         ylabel='% do PIB',\n",
    "                         yformatter='%.1f',\n",
    "                         ylim=(0, 2),\n",
    "                         xlim=(2008, 2019),\n",
    "                         xticks=12,\n",
    "                         yticks=12,\n",
    "                         label='Bolsa Família e outros, Governo Central, 2008-2019 (% do PIB)'\n",
    "                        ).opts(fontsize={'title': 12, 'labels': 8, 'xticks': 8, 'yticks': 8})"
   ]
  },
  {
   "cell_type": "code",
   "execution_count": 37,
   "metadata": {
    "slideshow": {
     "slide_type": "slide"
    }
   },
   "outputs": [
    {
     "data": {},
     "metadata": {},
     "output_type": "display_data"
    },
    {
     "data": {
      "application/vnd.holoviews_exec.v0+json": "",
      "text/html": [
       "<div id='p2576'>\n",
       "  <div id=\"b7cc7930-71e2-42d7-9a40-13ebae82cb2e\" data-root-id=\"p2576\" style=\"display: contents;\"></div>\n",
       "</div>\n",
       "<script type=\"application/javascript\">(function(root) {\n",
       "  var docs_json = {\"397aff19-f0cd-4c6e-88fa-9a8ed22f9cb2\":{\"version\":\"3.1.1\",\"title\":\"Bokeh Application\",\"defs\":[{\"type\":\"model\",\"name\":\"ReactiveHTML1\"},{\"type\":\"model\",\"name\":\"FlexBox1\",\"properties\":[{\"name\":\"align_content\",\"kind\":\"Any\",\"default\":\"flex-start\"},{\"name\":\"align_items\",\"kind\":\"Any\",\"default\":\"flex-start\"},{\"name\":\"flex_direction\",\"kind\":\"Any\",\"default\":\"row\"},{\"name\":\"flex_wrap\",\"kind\":\"Any\",\"default\":\"wrap\"},{\"name\":\"justify_content\",\"kind\":\"Any\",\"default\":\"flex-start\"}]},{\"type\":\"model\",\"name\":\"FloatPanel1\",\"properties\":[{\"name\":\"config\",\"kind\":\"Any\",\"default\":{\"type\":\"map\"}},{\"name\":\"contained\",\"kind\":\"Any\",\"default\":true},{\"name\":\"position\",\"kind\":\"Any\",\"default\":\"right-top\"},{\"name\":\"offsetx\",\"kind\":\"Any\",\"default\":null},{\"name\":\"offsety\",\"kind\":\"Any\",\"default\":null},{\"name\":\"theme\",\"kind\":\"Any\",\"default\":\"primary\"},{\"name\":\"status\",\"kind\":\"Any\",\"default\":\"normalized\"}]},{\"type\":\"model\",\"name\":\"GridStack1\",\"properties\":[{\"name\":\"mode\",\"kind\":\"Any\",\"default\":\"warn\"},{\"name\":\"ncols\",\"kind\":\"Any\",\"default\":null},{\"name\":\"nrows\",\"kind\":\"Any\",\"default\":null},{\"name\":\"allow_resize\",\"kind\":\"Any\",\"default\":true},{\"name\":\"allow_drag\",\"kind\":\"Any\",\"default\":true},{\"name\":\"state\",\"kind\":\"Any\",\"default\":[]}]},{\"type\":\"model\",\"name\":\"drag1\",\"properties\":[{\"name\":\"slider_width\",\"kind\":\"Any\",\"default\":5},{\"name\":\"slider_color\",\"kind\":\"Any\",\"default\":\"black\"},{\"name\":\"value\",\"kind\":\"Any\",\"default\":50}]},{\"type\":\"model\",\"name\":\"click1\",\"properties\":[{\"name\":\"terminal_output\",\"kind\":\"Any\",\"default\":\"\"},{\"name\":\"debug_name\",\"kind\":\"Any\",\"default\":\"\"},{\"name\":\"clears\",\"kind\":\"Any\",\"default\":0}]},{\"type\":\"model\",\"name\":\"FastWrapper1\",\"properties\":[{\"name\":\"object\",\"kind\":\"Any\",\"default\":null},{\"name\":\"style\",\"kind\":\"Any\",\"default\":null}]},{\"type\":\"model\",\"name\":\"NotificationAreaBase1\",\"properties\":[{\"name\":\"js_events\",\"kind\":\"Any\",\"default\":{\"type\":\"map\"}},{\"name\":\"position\",\"kind\":\"Any\",\"default\":\"bottom-right\"},{\"name\":\"_clear\",\"kind\":\"Any\",\"default\":0}]},{\"type\":\"model\",\"name\":\"NotificationArea1\",\"properties\":[{\"name\":\"js_events\",\"kind\":\"Any\",\"default\":{\"type\":\"map\"}},{\"name\":\"notifications\",\"kind\":\"Any\",\"default\":[]},{\"name\":\"position\",\"kind\":\"Any\",\"default\":\"bottom-right\"},{\"name\":\"_clear\",\"kind\":\"Any\",\"default\":0},{\"name\":\"types\",\"kind\":\"Any\",\"default\":[{\"type\":\"map\",\"entries\":[[\"type\",\"warning\"],[\"background\",\"#ffc107\"],[\"icon\",{\"type\":\"map\",\"entries\":[[\"className\",\"fas fa-exclamation-triangle\"],[\"tagName\",\"i\"],[\"color\",\"white\"]]}]]},{\"type\":\"map\",\"entries\":[[\"type\",\"info\"],[\"background\",\"#007bff\"],[\"icon\",{\"type\":\"map\",\"entries\":[[\"className\",\"fas fa-info-circle\"],[\"tagName\",\"i\"],[\"color\",\"white\"]]}]]}]}]},{\"type\":\"model\",\"name\":\"Notification\",\"properties\":[{\"name\":\"background\",\"kind\":\"Any\",\"default\":null},{\"name\":\"duration\",\"kind\":\"Any\",\"default\":3000},{\"name\":\"icon\",\"kind\":\"Any\",\"default\":null},{\"name\":\"message\",\"kind\":\"Any\",\"default\":\"\"},{\"name\":\"notification_type\",\"kind\":\"Any\",\"default\":null},{\"name\":\"_destroyed\",\"kind\":\"Any\",\"default\":false}]},{\"type\":\"model\",\"name\":\"TemplateActions1\",\"properties\":[{\"name\":\"open_modal\",\"kind\":\"Any\",\"default\":0},{\"name\":\"close_modal\",\"kind\":\"Any\",\"default\":0}]},{\"type\":\"model\",\"name\":\"BootstrapTemplateActions1\",\"properties\":[{\"name\":\"open_modal\",\"kind\":\"Any\",\"default\":0},{\"name\":\"close_modal\",\"kind\":\"Any\",\"default\":0}]},{\"type\":\"model\",\"name\":\"MaterialTemplateActions1\",\"properties\":[{\"name\":\"open_modal\",\"kind\":\"Any\",\"default\":0},{\"name\":\"close_modal\",\"kind\":\"Any\",\"default\":0}]}],\"roots\":[{\"type\":\"object\",\"name\":\"Row\",\"id\":\"p2576\",\"attributes\":{\"name\":\"Row04677\",\"tags\":[\"embedded\"],\"stylesheets\":[\"\\n:host(.pn-loading.pn-arc):before, .pn-loading.pn-arc:before {\\n  background-image: url(\\\"data:image/svg+xml;base64,PHN2ZyB4bWxucz0iaHR0cDovL3d3dy53My5vcmcvMjAwMC9zdmciIHN0eWxlPSJtYXJnaW46IGF1dG87IGJhY2tncm91bmQ6IG5vbmU7IGRpc3BsYXk6IGJsb2NrOyBzaGFwZS1yZW5kZXJpbmc6IGF1dG87IiB2aWV3Qm94PSIwIDAgMTAwIDEwMCIgcHJlc2VydmVBc3BlY3RSYXRpbz0ieE1pZFlNaWQiPiAgPGNpcmNsZSBjeD0iNTAiIGN5PSI1MCIgZmlsbD0ibm9uZSIgc3Ryb2tlPSIjYzNjM2MzIiBzdHJva2Utd2lkdGg9IjEwIiByPSIzNSIgc3Ryb2tlLWRhc2hhcnJheT0iMTY0LjkzMzYxNDMxMzQ2NDE1IDU2Ljk3Nzg3MTQzNzgyMTM4Ij4gICAgPGFuaW1hdGVUcmFuc2Zvcm0gYXR0cmlidXRlTmFtZT0idHJhbnNmb3JtIiB0eXBlPSJyb3RhdGUiIHJlcGVhdENvdW50PSJpbmRlZmluaXRlIiBkdXI9IjFzIiB2YWx1ZXM9IjAgNTAgNTA7MzYwIDUwIDUwIiBrZXlUaW1lcz0iMDsxIj48L2FuaW1hdGVUcmFuc2Zvcm0+ICA8L2NpcmNsZT48L3N2Zz4=\\\");\\n  background-size: auto calc(min(50%, 400px));\\n}\",{\"type\":\"object\",\"name\":\"ImportedStyleSheet\",\"id\":\"p2579\",\"attributes\":{\"url\":\"https://cdn.holoviz.org/panel/1.2.3/dist/css/loading.css\"}},{\"type\":\"object\",\"name\":\"ImportedStyleSheet\",\"id\":\"p2739\",\"attributes\":{\"url\":\"https://cdn.holoviz.org/panel/1.2.3/dist/css/listpanel.css\"}},{\"type\":\"object\",\"name\":\"ImportedStyleSheet\",\"id\":\"p2577\",\"attributes\":{\"url\":\"https://cdn.holoviz.org/panel/1.2.3/dist/bundled/theme/default.css\"}},{\"type\":\"object\",\"name\":\"ImportedStyleSheet\",\"id\":\"p2578\",\"attributes\":{\"url\":\"https://cdn.holoviz.org/panel/1.2.3/dist/bundled/theme/native.css\"}}],\"min_width\":700,\"margin\":0,\"sizing_mode\":\"stretch_width\",\"align\":\"start\",\"children\":[{\"type\":\"object\",\"name\":\"Spacer\",\"id\":\"p2580\",\"attributes\":{\"name\":\"HSpacer04688\",\"stylesheets\":[\"\\n:host(.pn-loading.pn-arc):before, .pn-loading.pn-arc:before {\\n  background-image: url(\\\"data:image/svg+xml;base64,PHN2ZyB4bWxucz0iaHR0cDovL3d3dy53My5vcmcvMjAwMC9zdmciIHN0eWxlPSJtYXJnaW46IGF1dG87IGJhY2tncm91bmQ6IG5vbmU7IGRpc3BsYXk6IGJsb2NrOyBzaGFwZS1yZW5kZXJpbmc6IGF1dG87IiB2aWV3Qm94PSIwIDAgMTAwIDEwMCIgcHJlc2VydmVBc3BlY3RSYXRpbz0ieE1pZFlNaWQiPiAgPGNpcmNsZSBjeD0iNTAiIGN5PSI1MCIgZmlsbD0ibm9uZSIgc3Ryb2tlPSIjYzNjM2MzIiBzdHJva2Utd2lkdGg9IjEwIiByPSIzNSIgc3Ryb2tlLWRhc2hhcnJheT0iMTY0LjkzMzYxNDMxMzQ2NDE1IDU2Ljk3Nzg3MTQzNzgyMTM4Ij4gICAgPGFuaW1hdGVUcmFuc2Zvcm0gYXR0cmlidXRlTmFtZT0idHJhbnNmb3JtIiB0eXBlPSJyb3RhdGUiIHJlcGVhdENvdW50PSJpbmRlZmluaXRlIiBkdXI9IjFzIiB2YWx1ZXM9IjAgNTAgNTA7MzYwIDUwIDUwIiBrZXlUaW1lcz0iMDsxIj48L2FuaW1hdGVUcmFuc2Zvcm0+ICA8L2NpcmNsZT48L3N2Zz4=\\\");\\n  background-size: auto calc(min(50%, 400px));\\n}\",{\"id\":\"p2579\"},{\"id\":\"p2577\"},{\"id\":\"p2578\"}],\"margin\":0,\"sizing_mode\":\"stretch_width\",\"align\":\"start\"}},{\"type\":\"object\",\"name\":\"Figure\",\"id\":\"p2589\",\"attributes\":{\"width\":700,\"height\":450,\"margin\":[5,10],\"sizing_mode\":\"fixed\",\"align\":\"start\",\"x_range\":{\"type\":\"object\",\"name\":\"Range1d\",\"id\":\"p2581\",\"attributes\":{\"tags\":[[[\"Ano\",\"Ano\",null]],[]],\"start\":2008,\"end\":2019,\"reset_start\":2008,\"reset_end\":2019}},\"y_range\":{\"type\":\"object\",\"name\":\"Range1d\",\"id\":\"p2582\",\"attributes\":{\"tags\":[[[\"value\",\"value\",null]],{\"type\":\"map\",\"entries\":[[\"invert_yaxis\",false],[\"autorange\",false]]}],\"end\":2,\"reset_start\":0,\"reset_end\":2}},\"x_scale\":{\"type\":\"object\",\"name\":\"LinearScale\",\"id\":\"p2601\"},\"y_scale\":{\"type\":\"object\",\"name\":\"LinearScale\",\"id\":\"p2602\"},\"title\":{\"type\":\"object\",\"name\":\"Title\",\"id\":\"p2592\",\"attributes\":{\"text\":\"Bolsa Fam\\u00edlia e outros, Governo Central, 2008-2019 (% do PIB)\",\"text_color\":\"black\",\"text_font_size\":\"12pt\"}},\"renderers\":[{\"type\":\"object\",\"name\":\"GlyphRenderer\",\"id\":\"p2654\",\"attributes\":{\"name\":\"Bolsa Fam\\u00edlia\",\"data_source\":{\"type\":\"object\",\"name\":\"ColumnDataSource\",\"id\":\"p2644\",\"attributes\":{\"selected\":{\"type\":\"object\",\"name\":\"Selection\",\"id\":\"p2645\",\"attributes\":{\"indices\":[],\"line_indices\":[]}},\"selection_policy\":{\"type\":\"object\",\"name\":\"UnionRenderers\",\"id\":\"p2646\"},\"data\":{\"type\":\"map\",\"entries\":[[\"Ano\",{\"type\":\"ndarray\",\"array\":{\"type\":\"bytes\",\"data\":\"zQcAAM4HAADPBwAA0AcAANEHAADSBwAA0wcAANQHAADVBwAA1gcAANcHAADYBwAA2QcAANoHAADbBwAA3AcAAN0HAADeBwAA3wcAAOAHAADhBwAA4gcAAOMHAAA=\"},\"shape\":[23],\"dtype\":\"int32\",\"order\":\"little\"}],[\"value\",{\"type\":\"ndarray\",\"array\":{\"type\":\"bytes\",\"data\":\"AAAAAAAA+H8AAAAAAAD4fwAAAAAAAPh/AAAAAAAA+H8AAAAAAAD4fwAAAAAAAPh/AAAAAAAA+H8AAAAAAAD4fwAAAAAAAPh/AAAAAAAA+H8AAAAAAAD4f//KdMsyQ9Y/NO4kDiSz1j+6+dUjoz/WP06UekA+eNg/hfbctCeI2z9R05BFPz/dP/BFcLueSN0/wCqmmkpT3D+Y7GYrll3dP4V4Uy6keNs///OHI2Y03D/c076pPRbdPw==\"},\"shape\":[23],\"dtype\":\"float64\",\"order\":\"little\"}],[\"Benef\\u00edcios\",[\"Bolsa Fam\\u00edlia\",\"Bolsa Fam\\u00edlia\",\"Bolsa Fam\\u00edlia\",\"Bolsa Fam\\u00edlia\",\"Bolsa Fam\\u00edlia\",\"Bolsa Fam\\u00edlia\",\"Bolsa Fam\\u00edlia\",\"Bolsa Fam\\u00edlia\",\"Bolsa Fam\\u00edlia\",\"Bolsa Fam\\u00edlia\",\"Bolsa Fam\\u00edlia\",\"Bolsa Fam\\u00edlia\",\"Bolsa Fam\\u00edlia\",\"Bolsa Fam\\u00edlia\",\"Bolsa Fam\\u00edlia\",\"Bolsa Fam\\u00edlia\",\"Bolsa Fam\\u00edlia\",\"Bolsa Fam\\u00edlia\",\"Bolsa Fam\\u00edlia\",\"Bolsa Fam\\u00edlia\",\"Bolsa Fam\\u00edlia\",\"Bolsa Fam\\u00edlia\",\"Bolsa Fam\\u00edlia\"]]]}}},\"view\":{\"type\":\"object\",\"name\":\"CDSView\",\"id\":\"p2655\",\"attributes\":{\"filter\":{\"type\":\"object\",\"name\":\"AllIndices\",\"id\":\"p2656\"}}},\"glyph\":{\"type\":\"object\",\"name\":\"Line\",\"id\":\"p2651\",\"attributes\":{\"tags\":[\"apply_ranges\"],\"x\":{\"type\":\"field\",\"field\":\"Ano\"},\"y\":{\"type\":\"field\",\"field\":\"value\"},\"line_color\":\"#30a2da\",\"line_width\":2}},\"selection_glyph\":{\"type\":\"object\",\"name\":\"Line\",\"id\":\"p2659\",\"attributes\":{\"tags\":[\"apply_ranges\"],\"x\":{\"type\":\"field\",\"field\":\"Ano\"},\"y\":{\"type\":\"field\",\"field\":\"value\"},\"line_color\":\"#30a2da\",\"line_width\":2}},\"nonselection_glyph\":{\"type\":\"object\",\"name\":\"Line\",\"id\":\"p2652\",\"attributes\":{\"tags\":[\"apply_ranges\"],\"x\":{\"type\":\"field\",\"field\":\"Ano\"},\"y\":{\"type\":\"field\",\"field\":\"value\"},\"line_color\":\"#30a2da\",\"line_alpha\":0.1,\"line_width\":2}},\"muted_glyph\":{\"type\":\"object\",\"name\":\"Line\",\"id\":\"p2653\",\"attributes\":{\"tags\":[\"apply_ranges\"],\"x\":{\"type\":\"field\",\"field\":\"Ano\"},\"y\":{\"type\":\"field\",\"field\":\"value\"},\"line_color\":\"#30a2da\",\"line_alpha\":0.2,\"line_width\":2}}}},{\"type\":\"object\",\"name\":\"GlyphRenderer\",\"id\":\"p2670\",\"attributes\":{\"name\":\"Educa\\u00e7\\u00e3o (obr)\",\"data_source\":{\"type\":\"object\",\"name\":\"ColumnDataSource\",\"id\":\"p2660\",\"attributes\":{\"selected\":{\"type\":\"object\",\"name\":\"Selection\",\"id\":\"p2661\",\"attributes\":{\"indices\":[],\"line_indices\":[]}},\"selection_policy\":{\"type\":\"object\",\"name\":\"UnionRenderers\",\"id\":\"p2662\"},\"data\":{\"type\":\"map\",\"entries\":[[\"Ano\",{\"type\":\"ndarray\",\"array\":{\"type\":\"bytes\",\"data\":\"zQcAAM4HAADPBwAA0AcAANEHAADSBwAA0wcAANQHAADVBwAA1gcAANcHAADYBwAA2QcAANoHAADbBwAA3AcAAN0HAADeBwAA3wcAAOAHAADhBwAA4gcAAOMHAAA=\"},\"shape\":[23],\"dtype\":\"int32\",\"order\":\"little\"}],[\"value\",{\"type\":\"ndarray\",\"array\":{\"type\":\"bytes\",\"data\":\"AAAAAAAA+H8AAAAAAAD4fwAAAAAAAPh/AAAAAAAA+H8AAAAAAAD4fwAAAAAAAPh/AAAAAAAA+H8AAAAAAAD4fwAAAAAAAPh/AAAAAAAA+H8AAAAAAAD4f8sp8HyPsLU/SBB3udexuj+CpXknHzi9P5OTS2eqE74/ynQUZpVWwD9KeLQTNvTAPwri9fTD87w/yg0vgHsMuz+n338Sniq4P/nm5rwXILg/6vFBlxQAuD+vRCtL2jm0Pw==\"},\"shape\":[23],\"dtype\":\"float64\",\"order\":\"little\"}],[\"Benef\\u00edcios\",[\"Educa\\u00e7\\u00e3o (obr)\",\"Educa\\u00e7\\u00e3o (obr)\",\"Educa\\u00e7\\u00e3o (obr)\",\"Educa\\u00e7\\u00e3o (obr)\",\"Educa\\u00e7\\u00e3o (obr)\",\"Educa\\u00e7\\u00e3o (obr)\",\"Educa\\u00e7\\u00e3o (obr)\",\"Educa\\u00e7\\u00e3o (obr)\",\"Educa\\u00e7\\u00e3o (obr)\",\"Educa\\u00e7\\u00e3o (obr)\",\"Educa\\u00e7\\u00e3o (obr)\",\"Educa\\u00e7\\u00e3o (obr)\",\"Educa\\u00e7\\u00e3o (obr)\",\"Educa\\u00e7\\u00e3o (obr)\",\"Educa\\u00e7\\u00e3o (obr)\",\"Educa\\u00e7\\u00e3o (obr)\",\"Educa\\u00e7\\u00e3o (obr)\",\"Educa\\u00e7\\u00e3o (obr)\",\"Educa\\u00e7\\u00e3o (obr)\",\"Educa\\u00e7\\u00e3o (obr)\",\"Educa\\u00e7\\u00e3o (obr)\",\"Educa\\u00e7\\u00e3o (obr)\",\"Educa\\u00e7\\u00e3o (obr)\"]]]}}},\"view\":{\"type\":\"object\",\"name\":\"CDSView\",\"id\":\"p2671\",\"attributes\":{\"filter\":{\"type\":\"object\",\"name\":\"AllIndices\",\"id\":\"p2672\"}}},\"glyph\":{\"type\":\"object\",\"name\":\"Line\",\"id\":\"p2667\",\"attributes\":{\"tags\":[\"apply_ranges\"],\"x\":{\"type\":\"field\",\"field\":\"Ano\"},\"y\":{\"type\":\"field\",\"field\":\"value\"},\"line_color\":\"#fc4f30\",\"line_width\":2}},\"selection_glyph\":{\"type\":\"object\",\"name\":\"Line\",\"id\":\"p2674\",\"attributes\":{\"tags\":[\"apply_ranges\"],\"x\":{\"type\":\"field\",\"field\":\"Ano\"},\"y\":{\"type\":\"field\",\"field\":\"value\"},\"line_color\":\"#fc4f30\",\"line_width\":2}},\"nonselection_glyph\":{\"type\":\"object\",\"name\":\"Line\",\"id\":\"p2668\",\"attributes\":{\"tags\":[\"apply_ranges\"],\"x\":{\"type\":\"field\",\"field\":\"Ano\"},\"y\":{\"type\":\"field\",\"field\":\"value\"},\"line_color\":\"#fc4f30\",\"line_alpha\":0.1,\"line_width\":2}},\"muted_glyph\":{\"type\":\"object\",\"name\":\"Line\",\"id\":\"p2669\",\"attributes\":{\"tags\":[\"apply_ranges\"],\"x\":{\"type\":\"field\",\"field\":\"Ano\"},\"y\":{\"type\":\"field\",\"field\":\"value\"},\"line_color\":\"#fc4f30\",\"line_alpha\":0.2,\"line_width\":2}}}},{\"type\":\"object\",\"name\":\"GlyphRenderer\",\"id\":\"p2685\",\"attributes\":{\"name\":\"Sa\\u00fade (obr)\",\"data_source\":{\"type\":\"object\",\"name\":\"ColumnDataSource\",\"id\":\"p2675\",\"attributes\":{\"selected\":{\"type\":\"object\",\"name\":\"Selection\",\"id\":\"p2676\",\"attributes\":{\"indices\":[],\"line_indices\":[]}},\"selection_policy\":{\"type\":\"object\",\"name\":\"UnionRenderers\",\"id\":\"p2677\"},\"data\":{\"type\":\"map\",\"entries\":[[\"Ano\",{\"type\":\"ndarray\",\"array\":{\"type\":\"bytes\",\"data\":\"zQcAAM4HAADPBwAA0AcAANEHAADSBwAA0wcAANQHAADVBwAA1gcAANcHAADYBwAA2QcAANoHAADbBwAA3AcAAN0HAADeBwAA3wcAAOAHAADhBwAA4gcAAOMHAAA=\"},\"shape\":[23],\"dtype\":\"int32\",\"order\":\"little\"}],[\"value\",{\"type\":\"ndarray\",\"array\":{\"type\":\"bytes\",\"data\":\"AAAAAAAA+H8AAAAAAAD4fwAAAAAAAPh/AAAAAAAA+H8AAAAAAAD4fwAAAAAAAPh/AAAAAAAA+H8AAAAAAAD4fwAAAAAAAPh/AAAAAAAA+H8AAAAAAAD4f5rBNRhoA/I/AL+YLa1b8j/fZH63GX7xP1jo4Tj5GvI/xpPuf0Eo8j950p1DkijxP/G/cpDU6vI/IGbR1a/58j/jFeo8p1L0P5XFB+prPfI/SKrzhB0d8z+RqkEOnQHzPw==\"},\"shape\":[23],\"dtype\":\"float64\",\"order\":\"little\"}],[\"Benef\\u00edcios\",[\"Sa\\u00fade (obr)\",\"Sa\\u00fade (obr)\",\"Sa\\u00fade (obr)\",\"Sa\\u00fade (obr)\",\"Sa\\u00fade (obr)\",\"Sa\\u00fade (obr)\",\"Sa\\u00fade (obr)\",\"Sa\\u00fade (obr)\",\"Sa\\u00fade (obr)\",\"Sa\\u00fade (obr)\",\"Sa\\u00fade (obr)\",\"Sa\\u00fade (obr)\",\"Sa\\u00fade (obr)\",\"Sa\\u00fade (obr)\",\"Sa\\u00fade (obr)\",\"Sa\\u00fade (obr)\",\"Sa\\u00fade (obr)\",\"Sa\\u00fade (obr)\",\"Sa\\u00fade (obr)\",\"Sa\\u00fade (obr)\",\"Sa\\u00fade (obr)\",\"Sa\\u00fade (obr)\",\"Sa\\u00fade (obr)\"]]]}}},\"view\":{\"type\":\"object\",\"name\":\"CDSView\",\"id\":\"p2686\",\"attributes\":{\"filter\":{\"type\":\"object\",\"name\":\"AllIndices\",\"id\":\"p2687\"}}},\"glyph\":{\"type\":\"object\",\"name\":\"Line\",\"id\":\"p2682\",\"attributes\":{\"tags\":[\"apply_ranges\"],\"x\":{\"type\":\"field\",\"field\":\"Ano\"},\"y\":{\"type\":\"field\",\"field\":\"value\"},\"line_color\":\"#e5ae38\",\"line_width\":2}},\"selection_glyph\":{\"type\":\"object\",\"name\":\"Line\",\"id\":\"p2689\",\"attributes\":{\"tags\":[\"apply_ranges\"],\"x\":{\"type\":\"field\",\"field\":\"Ano\"},\"y\":{\"type\":\"field\",\"field\":\"value\"},\"line_color\":\"#e5ae38\",\"line_width\":2}},\"nonselection_glyph\":{\"type\":\"object\",\"name\":\"Line\",\"id\":\"p2683\",\"attributes\":{\"tags\":[\"apply_ranges\"],\"x\":{\"type\":\"field\",\"field\":\"Ano\"},\"y\":{\"type\":\"field\",\"field\":\"value\"},\"line_color\":\"#e5ae38\",\"line_alpha\":0.1,\"line_width\":2}},\"muted_glyph\":{\"type\":\"object\",\"name\":\"Line\",\"id\":\"p2684\",\"attributes\":{\"tags\":[\"apply_ranges\"],\"x\":{\"type\":\"field\",\"field\":\"Ano\"},\"y\":{\"type\":\"field\",\"field\":\"value\"},\"line_color\":\"#e5ae38\",\"line_alpha\":0.2,\"line_width\":2}}}},{\"type\":\"object\",\"name\":\"GlyphRenderer\",\"id\":\"p2700\",\"attributes\":{\"name\":\"Comp folha\",\"data_source\":{\"type\":\"object\",\"name\":\"ColumnDataSource\",\"id\":\"p2690\",\"attributes\":{\"selected\":{\"type\":\"object\",\"name\":\"Selection\",\"id\":\"p2691\",\"attributes\":{\"indices\":[],\"line_indices\":[]}},\"selection_policy\":{\"type\":\"object\",\"name\":\"UnionRenderers\",\"id\":\"p2692\"},\"data\":{\"type\":\"map\",\"entries\":[[\"Ano\",{\"type\":\"ndarray\",\"array\":{\"type\":\"bytes\",\"data\":\"zQcAAM4HAADPBwAA0AcAANEHAADSBwAA0wcAANQHAADVBwAA1gcAANcHAADYBwAA2QcAANoHAADbBwAA3AcAAN0HAADeBwAA3wcAAOAHAADhBwAA4gcAAOMHAAA=\"},\"shape\":[23],\"dtype\":\"int32\",\"order\":\"little\"}],[\"value\",{\"type\":\"ndarray\",\"array\":{\"type\":\"bytes\",\"data\":\"AAAAAAAA+H8AAAAAAAD4fwAAAAAAAPh/AAAAAAAA+H8AAAAAAAD4fwAAAAAAAPh/AAAAAAAA+H8AAAAAAAD4fwAAAAAAAPh/AAAAAAAA+H8AAAAAAAD4fwAAAAAAAPh/AAAAAAAA+H8AAAAAAAD4fwAAAAAAAPh/gSZAvegIoz+7MX9zf6fFP4Xyw2Xz/dM/XT9xZKwe2z8rHDVlw/XRPzdOuzJMB8s/Y/o/zaElyT8zcTr/bfvBPw==\"},\"shape\":[23],\"dtype\":\"float64\",\"order\":\"little\"}],[\"Benef\\u00edcios\",[\"Comp folha\",\"Comp folha\",\"Comp folha\",\"Comp folha\",\"Comp folha\",\"Comp folha\",\"Comp folha\",\"Comp folha\",\"Comp folha\",\"Comp folha\",\"Comp folha\",\"Comp folha\",\"Comp folha\",\"Comp folha\",\"Comp folha\",\"Comp folha\",\"Comp folha\",\"Comp folha\",\"Comp folha\",\"Comp folha\",\"Comp folha\",\"Comp folha\",\"Comp folha\"]]]}}},\"view\":{\"type\":\"object\",\"name\":\"CDSView\",\"id\":\"p2701\",\"attributes\":{\"filter\":{\"type\":\"object\",\"name\":\"AllIndices\",\"id\":\"p2702\"}}},\"glyph\":{\"type\":\"object\",\"name\":\"Line\",\"id\":\"p2697\",\"attributes\":{\"tags\":[\"apply_ranges\"],\"x\":{\"type\":\"field\",\"field\":\"Ano\"},\"y\":{\"type\":\"field\",\"field\":\"value\"},\"line_color\":\"#6d904f\",\"line_width\":2}},\"selection_glyph\":{\"type\":\"object\",\"name\":\"Line\",\"id\":\"p2704\",\"attributes\":{\"tags\":[\"apply_ranges\"],\"x\":{\"type\":\"field\",\"field\":\"Ano\"},\"y\":{\"type\":\"field\",\"field\":\"value\"},\"line_color\":\"#6d904f\",\"line_width\":2}},\"nonselection_glyph\":{\"type\":\"object\",\"name\":\"Line\",\"id\":\"p2698\",\"attributes\":{\"tags\":[\"apply_ranges\"],\"x\":{\"type\":\"field\",\"field\":\"Ano\"},\"y\":{\"type\":\"field\",\"field\":\"value\"},\"line_color\":\"#6d904f\",\"line_alpha\":0.1,\"line_width\":2}},\"muted_glyph\":{\"type\":\"object\",\"name\":\"Line\",\"id\":\"p2699\",\"attributes\":{\"tags\":[\"apply_ranges\"],\"x\":{\"type\":\"field\",\"field\":\"Ano\"},\"y\":{\"type\":\"field\",\"field\":\"value\"},\"line_color\":\"#6d904f\",\"line_alpha\":0.2,\"line_width\":2}}}}],\"toolbar\":{\"type\":\"object\",\"name\":\"Toolbar\",\"id\":\"p2596\",\"attributes\":{\"tools\":[{\"type\":\"object\",\"name\":\"HoverTool\",\"id\":\"p2585\",\"attributes\":{\"tags\":[\"hv_created\"],\"renderers\":[{\"id\":\"p2654\"},{\"id\":\"p2670\"},{\"id\":\"p2685\"},{\"id\":\"p2700\"}],\"tooltips\":[[\"Benef\\u00edcios\",\"@{Benef\\u00edcios}\"],[\"Ano\",\"@{Ano}\"],[\"value\",\"@{value}\"]]}},{\"type\":\"object\",\"name\":\"SaveTool\",\"id\":\"p2617\"},{\"type\":\"object\",\"name\":\"PanTool\",\"id\":\"p2618\"},{\"type\":\"object\",\"name\":\"WheelZoomTool\",\"id\":\"p2619\"},{\"type\":\"object\",\"name\":\"BoxZoomTool\",\"id\":\"p2620\",\"attributes\":{\"overlay\":{\"type\":\"object\",\"name\":\"BoxAnnotation\",\"id\":\"p2621\",\"attributes\":{\"syncable\":false,\"level\":\"overlay\",\"visible\":false,\"left_units\":\"canvas\",\"right_units\":\"canvas\",\"bottom_units\":\"canvas\",\"top_units\":\"canvas\",\"line_color\":\"black\",\"line_alpha\":1.0,\"line_width\":2,\"line_dash\":[4,4],\"fill_color\":\"lightgrey\",\"fill_alpha\":0.5}}}},{\"type\":\"object\",\"name\":\"ResetTool\",\"id\":\"p2622\"}],\"active_drag\":{\"id\":\"p2618\"},\"active_scroll\":{\"id\":\"p2619\"}}},\"left\":[{\"type\":\"object\",\"name\":\"LinearAxis\",\"id\":\"p2610\",\"attributes\":{\"ticker\":{\"type\":\"object\",\"name\":\"BasicTicker\",\"id\":\"p2611\",\"attributes\":{\"desired_num_ticks\":12,\"mantissas\":[1,2,5]}},\"formatter\":{\"type\":\"object\",\"name\":\"PrintfTickFormatter\",\"id\":\"p2633\",\"attributes\":{\"format\":\"%.1f\"}},\"axis_label\":\"% do PIB\",\"axis_label_text_font_size\":\"8pt\",\"major_label_policy\":{\"type\":\"object\",\"name\":\"AllLabels\",\"id\":\"p2613\"},\"major_label_text_font_size\":\"8pt\"}}],\"below\":[{\"type\":\"object\",\"name\":\"LinearAxis\",\"id\":\"p2603\",\"attributes\":{\"ticker\":{\"type\":\"object\",\"name\":\"BasicTicker\",\"id\":\"p2604\",\"attributes\":{\"desired_num_ticks\":12,\"mantissas\":[1,2,5]}},\"formatter\":{\"type\":\"object\",\"name\":\"BasicTickFormatter\",\"id\":\"p2605\"},\"axis_label\":\"\",\"axis_label_text_font_size\":\"8pt\",\"major_label_orientation\":0.5235987755982988,\"major_label_policy\":{\"type\":\"object\",\"name\":\"AllLabels\",\"id\":\"p2606\"},\"major_label_text_font_size\":\"8pt\"}},{\"type\":\"object\",\"name\":\"Legend\",\"id\":\"p2657\",\"attributes\":{\"location\":[0,0],\"orientation\":\"horizontal\",\"title\":\"Benef\\u00edcios\",\"click_policy\":\"mute\",\"items\":[{\"type\":\"object\",\"name\":\"LegendItem\",\"id\":\"p2658\",\"attributes\":{\"label\":{\"type\":\"value\",\"value\":\"Bolsa Fam\\u00edlia\"},\"renderers\":[{\"id\":\"p2654\"}]}},{\"type\":\"object\",\"name\":\"LegendItem\",\"id\":\"p2673\",\"attributes\":{\"label\":{\"type\":\"value\",\"value\":\"Educa\\u00e7\\u00e3o (obr)\"},\"renderers\":[{\"id\":\"p2670\"}]}},{\"type\":\"object\",\"name\":\"LegendItem\",\"id\":\"p2688\",\"attributes\":{\"label\":{\"type\":\"value\",\"value\":\"Sa\\u00fade (obr)\"},\"renderers\":[{\"id\":\"p2685\"}]}},{\"type\":\"object\",\"name\":\"LegendItem\",\"id\":\"p2703\",\"attributes\":{\"label\":{\"type\":\"value\",\"value\":\"Comp folha\"},\"renderers\":[{\"id\":\"p2700\"}]}}]}}],\"center\":[{\"type\":\"object\",\"name\":\"Grid\",\"id\":\"p2609\",\"attributes\":{\"axis\":{\"id\":\"p2603\"},\"grid_line_color\":null}},{\"type\":\"object\",\"name\":\"Grid\",\"id\":\"p2616\",\"attributes\":{\"dimension\":1,\"axis\":{\"id\":\"p2610\"},\"grid_line_color\":null}}],\"min_border_top\":10,\"min_border_bottom\":10,\"min_border_left\":10,\"min_border_right\":10,\"output_backend\":\"webgl\"}},{\"type\":\"object\",\"name\":\"Spacer\",\"id\":\"p2737\",\"attributes\":{\"name\":\"HSpacer04691\",\"stylesheets\":[\"\\n:host(.pn-loading.pn-arc):before, .pn-loading.pn-arc:before {\\n  background-image: url(\\\"data:image/svg+xml;base64,PHN2ZyB4bWxucz0iaHR0cDovL3d3dy53My5vcmcvMjAwMC9zdmciIHN0eWxlPSJtYXJnaW46IGF1dG87IGJhY2tncm91bmQ6IG5vbmU7IGRpc3BsYXk6IGJsb2NrOyBzaGFwZS1yZW5kZXJpbmc6IGF1dG87IiB2aWV3Qm94PSIwIDAgMTAwIDEwMCIgcHJlc2VydmVBc3BlY3RSYXRpbz0ieE1pZFlNaWQiPiAgPGNpcmNsZSBjeD0iNTAiIGN5PSI1MCIgZmlsbD0ibm9uZSIgc3Ryb2tlPSIjYzNjM2MzIiBzdHJva2Utd2lkdGg9IjEwIiByPSIzNSIgc3Ryb2tlLWRhc2hhcnJheT0iMTY0LjkzMzYxNDMxMzQ2NDE1IDU2Ljk3Nzg3MTQzNzgyMTM4Ij4gICAgPGFuaW1hdGVUcmFuc2Zvcm0gYXR0cmlidXRlTmFtZT0idHJhbnNmb3JtIiB0eXBlPSJyb3RhdGUiIHJlcGVhdENvdW50PSJpbmRlZmluaXRlIiBkdXI9IjFzIiB2YWx1ZXM9IjAgNTAgNTA7MzYwIDUwIDUwIiBrZXlUaW1lcz0iMDsxIj48L2FuaW1hdGVUcmFuc2Zvcm0+ICA8L2NpcmNsZT48L3N2Zz4=\\\");\\n  background-size: auto calc(min(50%, 400px));\\n}\",{\"id\":\"p2579\"},{\"id\":\"p2577\"},{\"id\":\"p2578\"}],\"margin\":0,\"sizing_mode\":\"stretch_width\",\"align\":\"start\"}}]}}],\"callbacks\":{\"type\":\"map\"}}};\n",
       "  var render_items = [{\"docid\":\"397aff19-f0cd-4c6e-88fa-9a8ed22f9cb2\",\"roots\":{\"p2576\":\"b7cc7930-71e2-42d7-9a40-13ebae82cb2e\"},\"root_ids\":[\"p2576\"]}];\n",
       "  var docs = Object.values(docs_json)\n",
       "  if (!docs) {\n",
       "    return\n",
       "  }\n",
       "  const py_version = docs[0].version.replace('rc', '-rc.').replace('.dev', '-dev.')\n",
       "  const is_dev = py_version.indexOf(\"+\") !== -1 || py_version.indexOf(\"-\") !== -1\n",
       "  function embed_document(root) {\n",
       "    var Bokeh = get_bokeh(root)\n",
       "    Bokeh.embed.embed_items_notebook(docs_json, render_items);\n",
       "    for (const render_item of render_items) {\n",
       "      for (const root_id of render_item.root_ids) {\n",
       "\tconst id_el = document.getElementById(root_id)\n",
       "\tif (id_el.children.length && (id_el.children[0].className === 'bk-root')) {\n",
       "\t  const root_el = id_el.children[0]\n",
       "\t  root_el.id = root_el.id + '-rendered'\n",
       "\t}\n",
       "      }\n",
       "    }\n",
       "  }\n",
       "  function get_bokeh(root) {\n",
       "    if (root.Bokeh === undefined) {\n",
       "      return null\n",
       "    } else if (root.Bokeh.version !== py_version && !is_dev) {\n",
       "      if (root.Bokeh.versions === undefined || !root.Bokeh.versions.has(py_version)) {\n",
       "\treturn null\n",
       "      }\n",
       "      return root.Bokeh.versions.get(py_version);\n",
       "    } else if (root.Bokeh.version === py_version) {\n",
       "      return root.Bokeh\n",
       "    }\n",
       "    return null\n",
       "  }\n",
       "  function is_loaded(root) {\n",
       "    var Bokeh = get_bokeh(root)\n",
       "    return (Bokeh != null && Bokeh.Panel !== undefined && ( root['Plotly'] !== undefined))\n",
       "  }\n",
       "  if (is_loaded(root)) {\n",
       "    embed_document(root);\n",
       "  } else {\n",
       "    var attempts = 0;\n",
       "    var timer = setInterval(function(root) {\n",
       "      if (is_loaded(root)) {\n",
       "        clearInterval(timer);\n",
       "        embed_document(root);\n",
       "      } else if (document.readyState == \"complete\") {\n",
       "        attempts++;\n",
       "        if (attempts > 200) {\n",
       "          clearInterval(timer);\n",
       "\t  var Bokeh = get_bokeh(root)\n",
       "\t  if (Bokeh == null || Bokeh.Panel == null) {\n",
       "            console.warn(\"Panel: ERROR: Unable to run Panel code because Bokeh or Panel library is missing\");\n",
       "\t  } else {\n",
       "\t    console.warn(\"Panel: WARNING: Attempting to render but not all required libraries could be resolved.\")\n",
       "\t    embed_document(root)\n",
       "\t  }\n",
       "        }\n",
       "      }\n",
       "    }, 25, root)\n",
       "  }\n",
       "})(window);</script>"
      ],
      "text/plain": [
       ":NdOverlay   [Benefícios]\n",
       "   :Curve   [Ano]   (value)"
      ]
     },
     "execution_count": 37,
     "metadata": {
      "application/vnd.holoviews_exec.v0+json": {
       "id": "p2576"
      }
     },
     "output_type": "execute_result"
    }
   ],
   "source": [
    "social_3"
   ]
  },
  {
   "cell_type": "markdown",
   "metadata": {
    "slideshow": {
     "slide_type": "slide"
    }
   },
   "source": [
    "## Educação\n",
    "\n",
    "Para finalizar, vejamos o desempenho educacional do Brasil. Desde 2006, houve aumento expressivo dos investimentos totais em educação como % do PIB: 4,5% em 2005, 5,6% em 2010 e 6,2% em 2015. É importante observar, porém, a distribuição por níveis de ensino e de governo. "
   ]
  },
  {
   "cell_type": "markdown",
   "metadata": {
    "slideshow": {
     "slide_type": "fragment"
    }
   },
   "source": [
    "A maior parcela dos investimentos recaiu sobre estados e municípios, maiores responsáveis pelas matrículas do ensino médio e, sobretudo, primário. Em 2010, União = 20,7%, Estados = 39,7%, Municípios = 39,7%."
   ]
  },
  {
   "cell_type": "markdown",
   "metadata": {
    "slideshow": {
     "slide_type": "fragment"
    }
   },
   "source": [
    "A despesa por estudante cresceu também no período, mas se manteve abaixo da média da OCDE - o que é esperado tendo em vista a renda *per capita* mais alta. A exceção foi o ensino superior. Ver as figuras a seguir."
   ]
  },
  {
   "cell_type": "markdown",
   "metadata": {
    "slideshow": {
     "slide_type": "slide"
    }
   },
   "source": [
    "## <center>Despesa com educação por níveis de ensino, 2001-2015 (%)</center>\n",
    "\n",
    "<center><img src=\"br_educ_total.png\" width=\"600\" height=\"400\"></center>"
   ]
  },
  {
   "cell_type": "code",
   "execution_count": 38,
   "metadata": {
    "slideshow": {
     "slide_type": "notes"
    }
   },
   "outputs": [],
   "source": [
    "p = pd.read_excel('br_desp_educacao.xlsx')\n",
    "\n",
    "educ = p.hvplot.line('Ano', ['União', 'Estados', 'Municípios'],\n",
    "                     height=450,\n",
    "                     width=650,\n",
    "                     rot=30,\n",
    "                     padding=(0.05),\n",
    "                     cmap='Set1',\n",
    "                     group_label='Nível de governo',\n",
    "                     legend='bottom',\n",
    "                     yformatter='%.1f',\n",
    "                     xlabel='',\n",
    "                     ylabel='%',\n",
    "                     xlim=(2000, 2012),\n",
    "                     ylim=(0, 50),\n",
    "                     xticks=14,\n",
    "                     yticks=14,\n",
    "                     label='Investimentos públicos em educação, 2000-2012 (% nível de governo)'\n",
    "                    ).opts(fontsize={'title': 11, 'labels': 8, 'xticks': 8, 'yticks': 8})"
   ]
  },
  {
   "cell_type": "code",
   "execution_count": 39,
   "metadata": {
    "slideshow": {
     "slide_type": "slide"
    }
   },
   "outputs": [
    {
     "data": {},
     "metadata": {},
     "output_type": "display_data"
    },
    {
     "data": {
      "application/vnd.holoviews_exec.v0+json": "",
      "text/html": [
       "<div id='p2857'>\n",
       "  <div id=\"c782ffba-711e-4dd6-9955-3001d665d583\" data-root-id=\"p2857\" style=\"display: contents;\"></div>\n",
       "</div>\n",
       "<script type=\"application/javascript\">(function(root) {\n",
       "  var docs_json = {\"a89f92a5-a1bc-4b27-bb73-f9afebd9efee\":{\"version\":\"3.1.1\",\"title\":\"Bokeh Application\",\"defs\":[{\"type\":\"model\",\"name\":\"ReactiveHTML1\"},{\"type\":\"model\",\"name\":\"FlexBox1\",\"properties\":[{\"name\":\"align_content\",\"kind\":\"Any\",\"default\":\"flex-start\"},{\"name\":\"align_items\",\"kind\":\"Any\",\"default\":\"flex-start\"},{\"name\":\"flex_direction\",\"kind\":\"Any\",\"default\":\"row\"},{\"name\":\"flex_wrap\",\"kind\":\"Any\",\"default\":\"wrap\"},{\"name\":\"justify_content\",\"kind\":\"Any\",\"default\":\"flex-start\"}]},{\"type\":\"model\",\"name\":\"FloatPanel1\",\"properties\":[{\"name\":\"config\",\"kind\":\"Any\",\"default\":{\"type\":\"map\"}},{\"name\":\"contained\",\"kind\":\"Any\",\"default\":true},{\"name\":\"position\",\"kind\":\"Any\",\"default\":\"right-top\"},{\"name\":\"offsetx\",\"kind\":\"Any\",\"default\":null},{\"name\":\"offsety\",\"kind\":\"Any\",\"default\":null},{\"name\":\"theme\",\"kind\":\"Any\",\"default\":\"primary\"},{\"name\":\"status\",\"kind\":\"Any\",\"default\":\"normalized\"}]},{\"type\":\"model\",\"name\":\"GridStack1\",\"properties\":[{\"name\":\"mode\",\"kind\":\"Any\",\"default\":\"warn\"},{\"name\":\"ncols\",\"kind\":\"Any\",\"default\":null},{\"name\":\"nrows\",\"kind\":\"Any\",\"default\":null},{\"name\":\"allow_resize\",\"kind\":\"Any\",\"default\":true},{\"name\":\"allow_drag\",\"kind\":\"Any\",\"default\":true},{\"name\":\"state\",\"kind\":\"Any\",\"default\":[]}]},{\"type\":\"model\",\"name\":\"drag1\",\"properties\":[{\"name\":\"slider_width\",\"kind\":\"Any\",\"default\":5},{\"name\":\"slider_color\",\"kind\":\"Any\",\"default\":\"black\"},{\"name\":\"value\",\"kind\":\"Any\",\"default\":50}]},{\"type\":\"model\",\"name\":\"click1\",\"properties\":[{\"name\":\"terminal_output\",\"kind\":\"Any\",\"default\":\"\"},{\"name\":\"debug_name\",\"kind\":\"Any\",\"default\":\"\"},{\"name\":\"clears\",\"kind\":\"Any\",\"default\":0}]},{\"type\":\"model\",\"name\":\"FastWrapper1\",\"properties\":[{\"name\":\"object\",\"kind\":\"Any\",\"default\":null},{\"name\":\"style\",\"kind\":\"Any\",\"default\":null}]},{\"type\":\"model\",\"name\":\"NotificationAreaBase1\",\"properties\":[{\"name\":\"js_events\",\"kind\":\"Any\",\"default\":{\"type\":\"map\"}},{\"name\":\"position\",\"kind\":\"Any\",\"default\":\"bottom-right\"},{\"name\":\"_clear\",\"kind\":\"Any\",\"default\":0}]},{\"type\":\"model\",\"name\":\"NotificationArea1\",\"properties\":[{\"name\":\"js_events\",\"kind\":\"Any\",\"default\":{\"type\":\"map\"}},{\"name\":\"notifications\",\"kind\":\"Any\",\"default\":[]},{\"name\":\"position\",\"kind\":\"Any\",\"default\":\"bottom-right\"},{\"name\":\"_clear\",\"kind\":\"Any\",\"default\":0},{\"name\":\"types\",\"kind\":\"Any\",\"default\":[{\"type\":\"map\",\"entries\":[[\"type\",\"warning\"],[\"background\",\"#ffc107\"],[\"icon\",{\"type\":\"map\",\"entries\":[[\"className\",\"fas fa-exclamation-triangle\"],[\"tagName\",\"i\"],[\"color\",\"white\"]]}]]},{\"type\":\"map\",\"entries\":[[\"type\",\"info\"],[\"background\",\"#007bff\"],[\"icon\",{\"type\":\"map\",\"entries\":[[\"className\",\"fas fa-info-circle\"],[\"tagName\",\"i\"],[\"color\",\"white\"]]}]]}]}]},{\"type\":\"model\",\"name\":\"Notification\",\"properties\":[{\"name\":\"background\",\"kind\":\"Any\",\"default\":null},{\"name\":\"duration\",\"kind\":\"Any\",\"default\":3000},{\"name\":\"icon\",\"kind\":\"Any\",\"default\":null},{\"name\":\"message\",\"kind\":\"Any\",\"default\":\"\"},{\"name\":\"notification_type\",\"kind\":\"Any\",\"default\":null},{\"name\":\"_destroyed\",\"kind\":\"Any\",\"default\":false}]},{\"type\":\"model\",\"name\":\"TemplateActions1\",\"properties\":[{\"name\":\"open_modal\",\"kind\":\"Any\",\"default\":0},{\"name\":\"close_modal\",\"kind\":\"Any\",\"default\":0}]},{\"type\":\"model\",\"name\":\"BootstrapTemplateActions1\",\"properties\":[{\"name\":\"open_modal\",\"kind\":\"Any\",\"default\":0},{\"name\":\"close_modal\",\"kind\":\"Any\",\"default\":0}]},{\"type\":\"model\",\"name\":\"MaterialTemplateActions1\",\"properties\":[{\"name\":\"open_modal\",\"kind\":\"Any\",\"default\":0},{\"name\":\"close_modal\",\"kind\":\"Any\",\"default\":0}]}],\"roots\":[{\"type\":\"object\",\"name\":\"Row\",\"id\":\"p2857\",\"attributes\":{\"name\":\"Row04923\",\"tags\":[\"embedded\"],\"stylesheets\":[\"\\n:host(.pn-loading.pn-arc):before, .pn-loading.pn-arc:before {\\n  background-image: url(\\\"data:image/svg+xml;base64,PHN2ZyB4bWxucz0iaHR0cDovL3d3dy53My5vcmcvMjAwMC9zdmciIHN0eWxlPSJtYXJnaW46IGF1dG87IGJhY2tncm91bmQ6IG5vbmU7IGRpc3BsYXk6IGJsb2NrOyBzaGFwZS1yZW5kZXJpbmc6IGF1dG87IiB2aWV3Qm94PSIwIDAgMTAwIDEwMCIgcHJlc2VydmVBc3BlY3RSYXRpbz0ieE1pZFlNaWQiPiAgPGNpcmNsZSBjeD0iNTAiIGN5PSI1MCIgZmlsbD0ibm9uZSIgc3Ryb2tlPSIjYzNjM2MzIiBzdHJva2Utd2lkdGg9IjEwIiByPSIzNSIgc3Ryb2tlLWRhc2hhcnJheT0iMTY0LjkzMzYxNDMxMzQ2NDE1IDU2Ljk3Nzg3MTQzNzgyMTM4Ij4gICAgPGFuaW1hdGVUcmFuc2Zvcm0gYXR0cmlidXRlTmFtZT0idHJhbnNmb3JtIiB0eXBlPSJyb3RhdGUiIHJlcGVhdENvdW50PSJpbmRlZmluaXRlIiBkdXI9IjFzIiB2YWx1ZXM9IjAgNTAgNTA7MzYwIDUwIDUwIiBrZXlUaW1lcz0iMDsxIj48L2FuaW1hdGVUcmFuc2Zvcm0+ICA8L2NpcmNsZT48L3N2Zz4=\\\");\\n  background-size: auto calc(min(50%, 400px));\\n}\",{\"type\":\"object\",\"name\":\"ImportedStyleSheet\",\"id\":\"p2860\",\"attributes\":{\"url\":\"https://cdn.holoviz.org/panel/1.2.3/dist/css/loading.css\"}},{\"type\":\"object\",\"name\":\"ImportedStyleSheet\",\"id\":\"p2999\",\"attributes\":{\"url\":\"https://cdn.holoviz.org/panel/1.2.3/dist/css/listpanel.css\"}},{\"type\":\"object\",\"name\":\"ImportedStyleSheet\",\"id\":\"p2858\",\"attributes\":{\"url\":\"https://cdn.holoviz.org/panel/1.2.3/dist/bundled/theme/default.css\"}},{\"type\":\"object\",\"name\":\"ImportedStyleSheet\",\"id\":\"p2859\",\"attributes\":{\"url\":\"https://cdn.holoviz.org/panel/1.2.3/dist/bundled/theme/native.css\"}}],\"min_width\":650,\"margin\":0,\"sizing_mode\":\"stretch_width\",\"align\":\"start\",\"children\":[{\"type\":\"object\",\"name\":\"Spacer\",\"id\":\"p2861\",\"attributes\":{\"name\":\"HSpacer04934\",\"stylesheets\":[\"\\n:host(.pn-loading.pn-arc):before, .pn-loading.pn-arc:before {\\n  background-image: url(\\\"data:image/svg+xml;base64,PHN2ZyB4bWxucz0iaHR0cDovL3d3dy53My5vcmcvMjAwMC9zdmciIHN0eWxlPSJtYXJnaW46IGF1dG87IGJhY2tncm91bmQ6IG5vbmU7IGRpc3BsYXk6IGJsb2NrOyBzaGFwZS1yZW5kZXJpbmc6IGF1dG87IiB2aWV3Qm94PSIwIDAgMTAwIDEwMCIgcHJlc2VydmVBc3BlY3RSYXRpbz0ieE1pZFlNaWQiPiAgPGNpcmNsZSBjeD0iNTAiIGN5PSI1MCIgZmlsbD0ibm9uZSIgc3Ryb2tlPSIjYzNjM2MzIiBzdHJva2Utd2lkdGg9IjEwIiByPSIzNSIgc3Ryb2tlLWRhc2hhcnJheT0iMTY0LjkzMzYxNDMxMzQ2NDE1IDU2Ljk3Nzg3MTQzNzgyMTM4Ij4gICAgPGFuaW1hdGVUcmFuc2Zvcm0gYXR0cmlidXRlTmFtZT0idHJhbnNmb3JtIiB0eXBlPSJyb3RhdGUiIHJlcGVhdENvdW50PSJpbmRlZmluaXRlIiBkdXI9IjFzIiB2YWx1ZXM9IjAgNTAgNTA7MzYwIDUwIDUwIiBrZXlUaW1lcz0iMDsxIj48L2FuaW1hdGVUcmFuc2Zvcm0+ICA8L2NpcmNsZT48L3N2Zz4=\\\");\\n  background-size: auto calc(min(50%, 400px));\\n}\",{\"id\":\"p2860\"},{\"id\":\"p2858\"},{\"id\":\"p2859\"}],\"margin\":0,\"sizing_mode\":\"stretch_width\",\"align\":\"start\"}},{\"type\":\"object\",\"name\":\"Figure\",\"id\":\"p2869\",\"attributes\":{\"width\":650,\"height\":450,\"margin\":[5,10],\"sizing_mode\":\"fixed\",\"align\":\"start\",\"x_range\":{\"type\":\"object\",\"name\":\"Range1d\",\"id\":\"p2862\",\"attributes\":{\"tags\":[[[\"Ano\",\"Ano\",null]],[]],\"start\":2000,\"end\":2012,\"reset_start\":2000,\"reset_end\":2012}},\"y_range\":{\"type\":\"object\",\"name\":\"Range1d\",\"id\":\"p2863\",\"attributes\":{\"tags\":[[[\"value\",\"value\",null]],{\"type\":\"map\",\"entries\":[[\"invert_yaxis\",false],[\"autorange\",false]]}],\"end\":50,\"reset_start\":0,\"reset_end\":50}},\"x_scale\":{\"type\":\"object\",\"name\":\"LinearScale\",\"id\":\"p2881\"},\"y_scale\":{\"type\":\"object\",\"name\":\"LinearScale\",\"id\":\"p2882\"},\"title\":{\"type\":\"object\",\"name\":\"Title\",\"id\":\"p2872\",\"attributes\":{\"text\":\"Investimentos p\\u00fablicos em educa\\u00e7\\u00e3o, 2000-2012 (% n\\u00edvel de governo)\",\"text_color\":\"black\",\"text_font_size\":\"11pt\"}},\"renderers\":[{\"type\":\"object\",\"name\":\"GlyphRenderer\",\"id\":\"p2934\",\"attributes\":{\"name\":\"Uni\\u00e3o\",\"data_source\":{\"type\":\"object\",\"name\":\"ColumnDataSource\",\"id\":\"p2924\",\"attributes\":{\"selected\":{\"type\":\"object\",\"name\":\"Selection\",\"id\":\"p2925\",\"attributes\":{\"indices\":[],\"line_indices\":[]}},\"selection_policy\":{\"type\":\"object\",\"name\":\"UnionRenderers\",\"id\":\"p2926\"},\"data\":{\"type\":\"map\",\"entries\":[[\"Ano\",{\"type\":\"ndarray\",\"array\":{\"type\":\"bytes\",\"data\":\"0AcAANEHAADSBwAA0wcAANQHAADVBwAA1gcAANcHAADYBwAA2QcAANoHAADbBwAA3AcAAA==\"},\"shape\":[13],\"dtype\":\"int32\",\"order\":\"little\"}],[\"value\",{\"type\":\"ndarray\",\"array\":{\"type\":\"bytes\",\"data\":\"mpmZmZkZM0DNzMzMzMwyQM3MzMzMzDJAmpmZmZmZM0DNzMzMzMwxQM3MzMzMzDFAAAAAAAAAMkAzMzMzMzMzQAAAAAAAgDJAmpmZmZkZNUAzMzMzM7M0QM3MzMzMTDVAzczMzMxMNEA=\"},\"shape\":[13],\"dtype\":\"float64\",\"order\":\"little\"}],[\"N\\u00edvel_de_governo\",[\"Uni\\u00e3o\",\"Uni\\u00e3o\",\"Uni\\u00e3o\",\"Uni\\u00e3o\",\"Uni\\u00e3o\",\"Uni\\u00e3o\",\"Uni\\u00e3o\",\"Uni\\u00e3o\",\"Uni\\u00e3o\",\"Uni\\u00e3o\",\"Uni\\u00e3o\",\"Uni\\u00e3o\",\"Uni\\u00e3o\"]]]}}},\"view\":{\"type\":\"object\",\"name\":\"CDSView\",\"id\":\"p2935\",\"attributes\":{\"filter\":{\"type\":\"object\",\"name\":\"AllIndices\",\"id\":\"p2936\"}}},\"glyph\":{\"type\":\"object\",\"name\":\"Line\",\"id\":\"p2931\",\"attributes\":{\"tags\":[\"apply_ranges\"],\"x\":{\"type\":\"field\",\"field\":\"Ano\"},\"y\":{\"type\":\"field\",\"field\":\"value\"},\"line_color\":\"#30a2da\",\"line_width\":2}},\"selection_glyph\":{\"type\":\"object\",\"name\":\"Line\",\"id\":\"p2939\",\"attributes\":{\"tags\":[\"apply_ranges\"],\"x\":{\"type\":\"field\",\"field\":\"Ano\"},\"y\":{\"type\":\"field\",\"field\":\"value\"},\"line_color\":\"#30a2da\",\"line_width\":2}},\"nonselection_glyph\":{\"type\":\"object\",\"name\":\"Line\",\"id\":\"p2932\",\"attributes\":{\"tags\":[\"apply_ranges\"],\"x\":{\"type\":\"field\",\"field\":\"Ano\"},\"y\":{\"type\":\"field\",\"field\":\"value\"},\"line_color\":\"#30a2da\",\"line_alpha\":0.1,\"line_width\":2}},\"muted_glyph\":{\"type\":\"object\",\"name\":\"Line\",\"id\":\"p2933\",\"attributes\":{\"tags\":[\"apply_ranges\"],\"x\":{\"type\":\"field\",\"field\":\"Ano\"},\"y\":{\"type\":\"field\",\"field\":\"value\"},\"line_color\":\"#30a2da\",\"line_alpha\":0.2,\"line_width\":2}}}},{\"type\":\"object\",\"name\":\"GlyphRenderer\",\"id\":\"p2950\",\"attributes\":{\"name\":\"Estados\",\"data_source\":{\"type\":\"object\",\"name\":\"ColumnDataSource\",\"id\":\"p2940\",\"attributes\":{\"selected\":{\"type\":\"object\",\"name\":\"Selection\",\"id\":\"p2941\",\"attributes\":{\"indices\":[],\"line_indices\":[]}},\"selection_policy\":{\"type\":\"object\",\"name\":\"UnionRenderers\",\"id\":\"p2942\"},\"data\":{\"type\":\"map\",\"entries\":[[\"Ano\",{\"type\":\"ndarray\",\"array\":{\"type\":\"bytes\",\"data\":\"0AcAANEHAADSBwAA0wcAANQHAADVBwAA1gcAANcHAADYBwAA2QcAANoHAADbBwAA3AcAAA==\"},\"shape\":[13],\"dtype\":\"int32\",\"order\":\"little\"}],[\"value\",{\"type\":\"ndarray\",\"array\":{\"type\":\"bytes\",\"data\":\"zczMzMxMRUCamZmZmdlEQGZmZmZm5kVAZmZmZmamREAAAAAAAABEQAAAAAAAAERAAAAAAAAARUAzMzMzMzNEQM3MzMzMTEVAMzMzMzMzRECamZmZmdlDQAAAAAAAgERAzczMzMyMQ0A=\"},\"shape\":[13],\"dtype\":\"float64\",\"order\":\"little\"}],[\"N\\u00edvel_de_governo\",[\"Estados\",\"Estados\",\"Estados\",\"Estados\",\"Estados\",\"Estados\",\"Estados\",\"Estados\",\"Estados\",\"Estados\",\"Estados\",\"Estados\",\"Estados\"]]]}}},\"view\":{\"type\":\"object\",\"name\":\"CDSView\",\"id\":\"p2951\",\"attributes\":{\"filter\":{\"type\":\"object\",\"name\":\"AllIndices\",\"id\":\"p2952\"}}},\"glyph\":{\"type\":\"object\",\"name\":\"Line\",\"id\":\"p2947\",\"attributes\":{\"tags\":[\"apply_ranges\"],\"x\":{\"type\":\"field\",\"field\":\"Ano\"},\"y\":{\"type\":\"field\",\"field\":\"value\"},\"line_color\":\"#fc4f30\",\"line_width\":2}},\"selection_glyph\":{\"type\":\"object\",\"name\":\"Line\",\"id\":\"p2954\",\"attributes\":{\"tags\":[\"apply_ranges\"],\"x\":{\"type\":\"field\",\"field\":\"Ano\"},\"y\":{\"type\":\"field\",\"field\":\"value\"},\"line_color\":\"#fc4f30\",\"line_width\":2}},\"nonselection_glyph\":{\"type\":\"object\",\"name\":\"Line\",\"id\":\"p2948\",\"attributes\":{\"tags\":[\"apply_ranges\"],\"x\":{\"type\":\"field\",\"field\":\"Ano\"},\"y\":{\"type\":\"field\",\"field\":\"value\"},\"line_color\":\"#fc4f30\",\"line_alpha\":0.1,\"line_width\":2}},\"muted_glyph\":{\"type\":\"object\",\"name\":\"Line\",\"id\":\"p2949\",\"attributes\":{\"tags\":[\"apply_ranges\"],\"x\":{\"type\":\"field\",\"field\":\"Ano\"},\"y\":{\"type\":\"field\",\"field\":\"value\"},\"line_color\":\"#fc4f30\",\"line_alpha\":0.2,\"line_width\":2}}}},{\"type\":\"object\",\"name\":\"GlyphRenderer\",\"id\":\"p2965\",\"attributes\":{\"name\":\"Munic\\u00edpios\",\"data_source\":{\"type\":\"object\",\"name\":\"ColumnDataSource\",\"id\":\"p2955\",\"attributes\":{\"selected\":{\"type\":\"object\",\"name\":\"Selection\",\"id\":\"p2956\",\"attributes\":{\"indices\":[],\"line_indices\":[]}},\"selection_policy\":{\"type\":\"object\",\"name\":\"UnionRenderers\",\"id\":\"p2957\"},\"data\":{\"type\":\"map\",\"entries\":[[\"Ano\",{\"type\":\"ndarray\",\"array\":{\"type\":\"bytes\",\"data\":\"0AcAANEHAADSBwAA0wcAANQHAADVBwAA1gcAANcHAADYBwAA2QcAANoHAADbBwAA3AcAAA==\"},\"shape\":[13],\"dtype\":\"int32\",\"order\":\"little\"}],[\"value\",{\"type\":\"ndarray\",\"array\":{\"type\":\"bytes\",\"data\":\"ZmZmZmYmQ0AAAAAAAMBCQAAAAAAAwEJAzczMzMyMQ0CamZmZmRlFQJqZmZmZGUVAAAAAAAAAREAAAAAAAEBDQDMzMzMzc0NAzczMzMxMQ0CamZmZmdlDQJqZmZmZ2UJAzczMzMxMREA=\"},\"shape\":[13],\"dtype\":\"float64\",\"order\":\"little\"}],[\"N\\u00edvel_de_governo\",[\"Munic\\u00edpios\",\"Munic\\u00edpios\",\"Munic\\u00edpios\",\"Munic\\u00edpios\",\"Munic\\u00edpios\",\"Munic\\u00edpios\",\"Munic\\u00edpios\",\"Munic\\u00edpios\",\"Munic\\u00edpios\",\"Munic\\u00edpios\",\"Munic\\u00edpios\",\"Munic\\u00edpios\",\"Munic\\u00edpios\"]]]}}},\"view\":{\"type\":\"object\",\"name\":\"CDSView\",\"id\":\"p2966\",\"attributes\":{\"filter\":{\"type\":\"object\",\"name\":\"AllIndices\",\"id\":\"p2967\"}}},\"glyph\":{\"type\":\"object\",\"name\":\"Line\",\"id\":\"p2962\",\"attributes\":{\"tags\":[\"apply_ranges\"],\"x\":{\"type\":\"field\",\"field\":\"Ano\"},\"y\":{\"type\":\"field\",\"field\":\"value\"},\"line_color\":\"#e5ae38\",\"line_width\":2}},\"selection_glyph\":{\"type\":\"object\",\"name\":\"Line\",\"id\":\"p2969\",\"attributes\":{\"tags\":[\"apply_ranges\"],\"x\":{\"type\":\"field\",\"field\":\"Ano\"},\"y\":{\"type\":\"field\",\"field\":\"value\"},\"line_color\":\"#e5ae38\",\"line_width\":2}},\"nonselection_glyph\":{\"type\":\"object\",\"name\":\"Line\",\"id\":\"p2963\",\"attributes\":{\"tags\":[\"apply_ranges\"],\"x\":{\"type\":\"field\",\"field\":\"Ano\"},\"y\":{\"type\":\"field\",\"field\":\"value\"},\"line_color\":\"#e5ae38\",\"line_alpha\":0.1,\"line_width\":2}},\"muted_glyph\":{\"type\":\"object\",\"name\":\"Line\",\"id\":\"p2964\",\"attributes\":{\"tags\":[\"apply_ranges\"],\"x\":{\"type\":\"field\",\"field\":\"Ano\"},\"y\":{\"type\":\"field\",\"field\":\"value\"},\"line_color\":\"#e5ae38\",\"line_alpha\":0.2,\"line_width\":2}}}}],\"toolbar\":{\"type\":\"object\",\"name\":\"Toolbar\",\"id\":\"p2876\",\"attributes\":{\"tools\":[{\"type\":\"object\",\"name\":\"HoverTool\",\"id\":\"p2866\",\"attributes\":{\"tags\":[\"hv_created\"],\"renderers\":[{\"id\":\"p2934\"},{\"id\":\"p2950\"},{\"id\":\"p2965\"}],\"tooltips\":[[\"N\\u00edvel de governo\",\"@{N\\u00edvel_de_governo}\"],[\"Ano\",\"@{Ano}\"],[\"value\",\"@{value}\"]]}},{\"type\":\"object\",\"name\":\"SaveTool\",\"id\":\"p2897\"},{\"type\":\"object\",\"name\":\"PanTool\",\"id\":\"p2898\"},{\"type\":\"object\",\"name\":\"WheelZoomTool\",\"id\":\"p2899\"},{\"type\":\"object\",\"name\":\"BoxZoomTool\",\"id\":\"p2900\",\"attributes\":{\"overlay\":{\"type\":\"object\",\"name\":\"BoxAnnotation\",\"id\":\"p2901\",\"attributes\":{\"syncable\":false,\"level\":\"overlay\",\"visible\":false,\"left_units\":\"canvas\",\"right_units\":\"canvas\",\"bottom_units\":\"canvas\",\"top_units\":\"canvas\",\"line_color\":\"black\",\"line_alpha\":1.0,\"line_width\":2,\"line_dash\":[4,4],\"fill_color\":\"lightgrey\",\"fill_alpha\":0.5}}}},{\"type\":\"object\",\"name\":\"ResetTool\",\"id\":\"p2902\"}],\"active_drag\":{\"id\":\"p2898\"},\"active_scroll\":{\"id\":\"p2899\"}}},\"left\":[{\"type\":\"object\",\"name\":\"LinearAxis\",\"id\":\"p2890\",\"attributes\":{\"ticker\":{\"type\":\"object\",\"name\":\"BasicTicker\",\"id\":\"p2891\",\"attributes\":{\"desired_num_ticks\":14,\"mantissas\":[1,2,5]}},\"formatter\":{\"type\":\"object\",\"name\":\"PrintfTickFormatter\",\"id\":\"p2913\",\"attributes\":{\"format\":\"%.1f\"}},\"axis_label\":\"%\",\"axis_label_text_font_size\":\"8pt\",\"major_label_policy\":{\"type\":\"object\",\"name\":\"AllLabels\",\"id\":\"p2893\"},\"major_label_text_font_size\":\"8pt\"}}],\"below\":[{\"type\":\"object\",\"name\":\"LinearAxis\",\"id\":\"p2883\",\"attributes\":{\"ticker\":{\"type\":\"object\",\"name\":\"BasicTicker\",\"id\":\"p2884\",\"attributes\":{\"desired_num_ticks\":14,\"mantissas\":[1,2,5]}},\"formatter\":{\"type\":\"object\",\"name\":\"BasicTickFormatter\",\"id\":\"p2885\"},\"axis_label\":\"\",\"axis_label_text_font_size\":\"8pt\",\"major_label_orientation\":0.5235987755982988,\"major_label_policy\":{\"type\":\"object\",\"name\":\"AllLabels\",\"id\":\"p2886\"},\"major_label_text_font_size\":\"8pt\"}},{\"type\":\"object\",\"name\":\"Legend\",\"id\":\"p2937\",\"attributes\":{\"location\":[0,0],\"orientation\":\"horizontal\",\"title\":\"N\\u00edvel de governo\",\"click_policy\":\"mute\",\"items\":[{\"type\":\"object\",\"name\":\"LegendItem\",\"id\":\"p2938\",\"attributes\":{\"label\":{\"type\":\"value\",\"value\":\"Uni\\u00e3o\"},\"renderers\":[{\"id\":\"p2934\"}]}},{\"type\":\"object\",\"name\":\"LegendItem\",\"id\":\"p2953\",\"attributes\":{\"label\":{\"type\":\"value\",\"value\":\"Estados\"},\"renderers\":[{\"id\":\"p2950\"}]}},{\"type\":\"object\",\"name\":\"LegendItem\",\"id\":\"p2968\",\"attributes\":{\"label\":{\"type\":\"value\",\"value\":\"Munic\\u00edpios\"},\"renderers\":[{\"id\":\"p2965\"}]}}]}}],\"center\":[{\"type\":\"object\",\"name\":\"Grid\",\"id\":\"p2889\",\"attributes\":{\"axis\":{\"id\":\"p2883\"},\"grid_line_color\":null}},{\"type\":\"object\",\"name\":\"Grid\",\"id\":\"p2896\",\"attributes\":{\"dimension\":1,\"axis\":{\"id\":\"p2890\"},\"grid_line_color\":null}}],\"min_border_top\":10,\"min_border_bottom\":10,\"min_border_left\":10,\"min_border_right\":10,\"output_backend\":\"webgl\"}},{\"type\":\"object\",\"name\":\"Spacer\",\"id\":\"p2997\",\"attributes\":{\"name\":\"HSpacer04937\",\"stylesheets\":[\"\\n:host(.pn-loading.pn-arc):before, .pn-loading.pn-arc:before {\\n  background-image: url(\\\"data:image/svg+xml;base64,PHN2ZyB4bWxucz0iaHR0cDovL3d3dy53My5vcmcvMjAwMC9zdmciIHN0eWxlPSJtYXJnaW46IGF1dG87IGJhY2tncm91bmQ6IG5vbmU7IGRpc3BsYXk6IGJsb2NrOyBzaGFwZS1yZW5kZXJpbmc6IGF1dG87IiB2aWV3Qm94PSIwIDAgMTAwIDEwMCIgcHJlc2VydmVBc3BlY3RSYXRpbz0ieE1pZFlNaWQiPiAgPGNpcmNsZSBjeD0iNTAiIGN5PSI1MCIgZmlsbD0ibm9uZSIgc3Ryb2tlPSIjYzNjM2MzIiBzdHJva2Utd2lkdGg9IjEwIiByPSIzNSIgc3Ryb2tlLWRhc2hhcnJheT0iMTY0LjkzMzYxNDMxMzQ2NDE1IDU2Ljk3Nzg3MTQzNzgyMTM4Ij4gICAgPGFuaW1hdGVUcmFuc2Zvcm0gYXR0cmlidXRlTmFtZT0idHJhbnNmb3JtIiB0eXBlPSJyb3RhdGUiIHJlcGVhdENvdW50PSJpbmRlZmluaXRlIiBkdXI9IjFzIiB2YWx1ZXM9IjAgNTAgNTA7MzYwIDUwIDUwIiBrZXlUaW1lcz0iMDsxIj48L2FuaW1hdGVUcmFuc2Zvcm0+ICA8L2NpcmNsZT48L3N2Zz4=\\\");\\n  background-size: auto calc(min(50%, 400px));\\n}\",{\"id\":\"p2860\"},{\"id\":\"p2858\"},{\"id\":\"p2859\"}],\"margin\":0,\"sizing_mode\":\"stretch_width\",\"align\":\"start\"}}]}}],\"callbacks\":{\"type\":\"map\"}}};\n",
       "  var render_items = [{\"docid\":\"a89f92a5-a1bc-4b27-bb73-f9afebd9efee\",\"roots\":{\"p2857\":\"c782ffba-711e-4dd6-9955-3001d665d583\"},\"root_ids\":[\"p2857\"]}];\n",
       "  var docs = Object.values(docs_json)\n",
       "  if (!docs) {\n",
       "    return\n",
       "  }\n",
       "  const py_version = docs[0].version.replace('rc', '-rc.').replace('.dev', '-dev.')\n",
       "  const is_dev = py_version.indexOf(\"+\") !== -1 || py_version.indexOf(\"-\") !== -1\n",
       "  function embed_document(root) {\n",
       "    var Bokeh = get_bokeh(root)\n",
       "    Bokeh.embed.embed_items_notebook(docs_json, render_items);\n",
       "    for (const render_item of render_items) {\n",
       "      for (const root_id of render_item.root_ids) {\n",
       "\tconst id_el = document.getElementById(root_id)\n",
       "\tif (id_el.children.length && (id_el.children[0].className === 'bk-root')) {\n",
       "\t  const root_el = id_el.children[0]\n",
       "\t  root_el.id = root_el.id + '-rendered'\n",
       "\t}\n",
       "      }\n",
       "    }\n",
       "  }\n",
       "  function get_bokeh(root) {\n",
       "    if (root.Bokeh === undefined) {\n",
       "      return null\n",
       "    } else if (root.Bokeh.version !== py_version && !is_dev) {\n",
       "      if (root.Bokeh.versions === undefined || !root.Bokeh.versions.has(py_version)) {\n",
       "\treturn null\n",
       "      }\n",
       "      return root.Bokeh.versions.get(py_version);\n",
       "    } else if (root.Bokeh.version === py_version) {\n",
       "      return root.Bokeh\n",
       "    }\n",
       "    return null\n",
       "  }\n",
       "  function is_loaded(root) {\n",
       "    var Bokeh = get_bokeh(root)\n",
       "    return (Bokeh != null && Bokeh.Panel !== undefined && ( root['Plotly'] !== undefined))\n",
       "  }\n",
       "  if (is_loaded(root)) {\n",
       "    embed_document(root);\n",
       "  } else {\n",
       "    var attempts = 0;\n",
       "    var timer = setInterval(function(root) {\n",
       "      if (is_loaded(root)) {\n",
       "        clearInterval(timer);\n",
       "        embed_document(root);\n",
       "      } else if (document.readyState == \"complete\") {\n",
       "        attempts++;\n",
       "        if (attempts > 200) {\n",
       "          clearInterval(timer);\n",
       "\t  var Bokeh = get_bokeh(root)\n",
       "\t  if (Bokeh == null || Bokeh.Panel == null) {\n",
       "            console.warn(\"Panel: ERROR: Unable to run Panel code because Bokeh or Panel library is missing\");\n",
       "\t  } else {\n",
       "\t    console.warn(\"Panel: WARNING: Attempting to render but not all required libraries could be resolved.\")\n",
       "\t    embed_document(root)\n",
       "\t  }\n",
       "        }\n",
       "      }\n",
       "    }, 25, root)\n",
       "  }\n",
       "})(window);</script>"
      ],
      "text/plain": [
       ":NdOverlay   [Nível de governo]\n",
       "   :Curve   [Ano]   (value)"
      ]
     },
     "execution_count": 39,
     "metadata": {
      "application/vnd.holoviews_exec.v0+json": {
       "id": "p2857"
      }
     },
     "output_type": "execute_result"
    }
   ],
   "source": [
    "educ"
   ]
  },
  {
   "cell_type": "markdown",
   "metadata": {
    "slideshow": {
     "slide_type": "slide"
    }
   },
   "source": [
    "### <center>Despesa por estudante, Brasil e OCDE, 2015 (US$, PPP)</center>\n",
    "\n",
    "<center><img src=\"br_educ_ocde.png\" width=\"900\" height=\"500\"></center>"
   ]
  },
  {
   "cell_type": "markdown",
   "metadata": {
    "slideshow": {
     "slide_type": "slide"
    }
   },
   "source": [
    "## Desempenho educacional\n",
    "\n",
    "Vejamos o resultado educacional em termos de aproveitamento escolar e conhecimento de conteúdo."
   ]
  },
  {
   "cell_type": "markdown",
   "metadata": {
    "slideshow": {
     "slide_type": "fragment"
    }
   },
   "source": [
    "Os indicadores de desempenho educacional comparado (com scores padronizados do PISA) em 2015 mostram o Brasil entre os piores índices em termos internacionais."
   ]
  },
  {
   "cell_type": "markdown",
   "metadata": {
    "slideshow": {
     "slide_type": "fragment"
    }
   },
   "source": [
    "Basicamente, essa é a mesma posição relativa do Brasil *no início do século XX (ou meados do século XIX)* em termos internacionais (considerando taxa de matrícula)!"
   ]
  },
  {
   "cell_type": "markdown",
   "metadata": {
    "slideshow": {
     "slide_type": "slide"
    }
   },
   "source": [
    "## <center>Desempenho educacional - PISA, 2015</center>\n",
    "\n",
    "<center><img src=\"br_pisa.png\" width=\"900\" height=\"450\"></center>"
   ]
  },
  {
   "cell_type": "markdown",
   "metadata": {
    "slideshow": {
     "slide_type": "slide"
    }
   },
   "source": [
    "## Por fim..."
   ]
  },
  {
   "cell_type": "markdown",
   "metadata": {
    "slideshow": {
     "slide_type": "slide"
    }
   },
   "source": [
    "### <center>Espero que tenham gostado do curso e que as as aulas sejam úteis para vocês - especialmente no futuro.</center>\n",
    "\n",
    "### <center>Obrigado e Boa Sorte!</center>"
   ]
  }
 ],
 "metadata": {
  "celltoolbar": "Slideshow",
  "kernelspec": {
   "display_name": "Python 3 (ipykernel)",
   "language": "python",
   "name": "python3"
  },
  "language_info": {
   "codemirror_mode": {
    "name": "ipython",
    "version": 3
   },
   "file_extension": ".py",
   "mimetype": "text/x-python",
   "name": "python",
   "nbconvert_exporter": "python",
   "pygments_lexer": "ipython3",
   "version": "3.8.19"
  },
  "toc": {
   "base_numbering": 1,
   "nav_menu": {},
   "number_sections": false,
   "sideBar": true,
   "skip_h1_title": false,
   "title_cell": "Table of Contents",
   "title_sidebar": "Contents",
   "toc_cell": false,
   "toc_position": {},
   "toc_section_display": true,
   "toc_window_display": false
  }
 },
 "nbformat": 4,
 "nbformat_minor": 4
}
