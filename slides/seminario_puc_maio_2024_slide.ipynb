{
 "cells": [
  {
   "cell_type": "markdown",
   "metadata": {
    "editable": true,
    "heading_collapsed": true,
    "slideshow": {
     "slide_type": "slide"
    },
    "tags": []
   },
   "source": [
    "#### <center>Seminário Internacional - O Escravismo de Ponta-Cabeça</center>  \n",
    "\n",
    "### <center>Quem eram os Trabalhadores do Café nas Vésperas da Abolição? Escravizados, Imigrantes e Nacionais em São Paulo em 1886-1887</center>\n",
    "\n",
    "#### <center>Renato Perim Colistete</center>\n",
    "##### <center>14/5/2024</center>"
   ]
  },
  {
   "cell_type": "markdown",
   "metadata": {
    "editable": true,
    "slideshow": {
     "slide_type": "slide"
    },
    "tags": []
   },
   "source": [
    "## Objetivos\n",
    "\n",
    "Este trabalho é uma tentativa de estimar a composição e o número de escravizados e trabalhadores livres (imigrantes e nacionais) engajados na cafeicultura em São Paulo no ano de 1886 e início de 1887, ou seja, nas vésperas da Abolição e antes do início da imigração em massa. \n",
    "\n",
    "O método que utilizo é basicamente uma adaptação do que foi feito por Van Delden Laërne, no seu livro *Brazil and Java*, de 1885. \n",
    "\n",
    "Nesta apresentação, eu vou resumir esse método, as fontes e dados utilizados e os principais resultados que obtive até agora, além do contexto da produção de café nos municípios e na província de São Paulo na época."
   ]
  },
  {
   "cell_type": "markdown",
   "metadata": {
    "editable": true,
    "slideshow": {
     "slide_type": "slide"
    },
    "tags": []
   },
   "source": [
    "## Diferenças da abordagem\n",
    "\n",
    "O exercício apresentado no texto tem duas diferenças principais em relação a outras estimativas:"
   ]
  },
  {
   "cell_type": "markdown",
   "metadata": {
    "editable": true,
    "slideshow": {
     "slide_type": "fragment"
    },
    "tags": []
   },
   "source": [
    "i) primeiro, procura-se levar em conta a grande variedade das condições de produção da província. Por esse motivo, as estimativas baseiam-se em dados dos municípios, que, por sua vez, são agregados em quatro regiões."
   ]
  },
  {
   "cell_type": "markdown",
   "metadata": {
    "editable": true,
    "slideshow": {
     "slide_type": "fragment"
    },
    "tags": []
   },
   "source": [
    "ii) segundo, *não* se pressupõe a inexistência de outras categorais de trabalhadores – imigrantes e nacionais – ao lado de escravizados na produção de café."
   ]
  },
  {
   "cell_type": "markdown",
   "metadata": {
    "editable": true,
    "slideshow": {
     "slide_type": "slide"
    },
    "tags": []
   },
   "source": [
    "## Vantagens\n",
    "\n",
    "Essa abordagem tem três vantagens principais."
   ]
  },
  {
   "cell_type": "markdown",
   "metadata": {
    "editable": true,
    "slideshow": {
     "slide_type": "fragment"
    },
    "tags": []
   },
   "source": [
    "As *regiões do café* em São Paulo em 1886-1887 eram radicalmente diferentes entre si: p.ex., Vale do Paraíba x nordeste e sudoeste de São Paulo. Considerá-las em conjunto, sem distinção, obscurece ou elimina variações importantes na produção e nas relações de trabalho."
   ]
  },
  {
   "cell_type": "markdown",
   "metadata": {
    "editable": true,
    "slideshow": {
     "slide_type": "fragment"
    },
    "tags": []
   },
   "source": [
    "Contempla-se o emprego de *imigrantes* como colonos, presentes desde os anos 1850: em torno de 4,1% do total da força de trabalho nas fazendas de café em 1854, concentrados sobretudo no Oeste (11,7% em Rio Claro; 34% em Limeira) (Censo de 1854). "
   ]
  },
  {
   "cell_type": "markdown",
   "metadata": {
    "editable": true,
    "slideshow": {
     "slide_type": "subslide"
    },
    "tags": []
   },
   "source": [
    "Idem para os *nacionais*: de 6 a 10% dos colonos nas fazendas de café eram nacionais em 1854, subindo para 15-20% em 1857-58 (conf. pesquisa em andamento). É possível que a frequentemente assumida ausência de nacionais na cultura do café (ou mencionados apenas como trabalhadores ocasionais, camaradas) seja mais hipótese do que evidência. "
   ]
  },
  {
   "cell_type": "markdown",
   "metadata": {
    "editable": true,
    "slideshow": {
     "slide_type": "fragment"
    },
    "tags": []
   },
   "source": [
    "Vejamos qual era a distribuição do cultivo do café por municípios em 1887."
   ]
  },
  {
   "cell_type": "markdown",
   "metadata": {
    "editable": true,
    "slideshow": {
     "slide_type": "slide"
    },
    "tags": []
   },
   "source": [
    "#### <center>Produção de café nos municípios da província de São Paulo em 1887</center>\n",
    "\n",
    "<center><img src=\"fig_1.png\" width=\"900\"></center>"
   ]
  },
  {
   "cell_type": "markdown",
   "metadata": {
    "editable": true,
    "slideshow": {
     "slide_type": "slide"
    },
    "tags": []
   },
   "source": [
    "## Principais fontes utilizadas\n",
    "\n",
    "Produção de café dos *municípios*: Relatório da Comissão Central de Estatística (1888), levantamento de F.W. Dafert (“Quadro estatistico da producção de café\" de 1886) e relatórios semestrais das companhias Mogiana, Paulista, Sorocabana e Ituana."
   ]
  },
  {
   "cell_type": "markdown",
   "metadata": {
    "editable": true,
    "slideshow": {
     "slide_type": "fragment"
    },
    "tags": []
   },
   "source": [
    "Produção de café de *fazendas*: 31 fazendas de MG e RJ (equivalentes ao Vale do Paraíba paulista), com total de 5.012 escravizados na lavoura e no beneficiamento de café; 10 fazendas do Oeste de SP, 1.429 escravizados (Laërne, 1885). Seis fazendas no Oeste com 89 famílias de colonos sob contrato, com mais de 500 membros, dos quais 275 em idade de trabalho (Couty, *Étude de biologie industrielle sur le café*, 1883; Laërne, 1885)."
   ]
  },
  {
   "cell_type": "markdown",
   "metadata": {
    "editable": true,
    "slideshow": {
     "slide_type": "fragment"
    },
    "tags": []
   },
   "source": [
    "*Escravizados*: os registrados como \"rurais\", segundo o domicílio, na lista de matrícula de março de 1887 (Comissão Central de Estatística, 1888 e manuscrito no APESP), além de Laërne (1885). "
   ]
  },
  {
   "cell_type": "markdown",
   "metadata": {
    "editable": true,
    "slideshow": {
     "slide_type": "subslide"
    },
    "tags": []
   },
   "source": [
    "*Imigrantes*: várias fontes combinadas, principalmente a) levantamento de 31/12/1885 e 31/3/1886 dos \"colonos e agricultores\" nos municípios pelo vice-cônsul italiano em SP, Enrico Perrod; b) registro dos imigrantes que passaram\n",
    "pelo alojamento provincial e seguiram para as estações ferroviárias dos municípios de São Paulo no ano de 1886 e nos três primeiros meses de 1887."
   ]
  },
  {
   "cell_type": "markdown",
   "metadata": {
    "editable": true,
    "slideshow": {
     "slide_type": "fragment"
    },
    "tags": []
   },
   "source": [
    "*Nacionais*: número obtido por resíduo, isto é, pela dedução dos trabalhadores escravizados e imigrantes. Grupo formado por brasileiros livres, ex-escravizados e, possivelmente, descendentes de 1a geração de imigrantes estabelecidos em fazendas nas décadas anteriores."
   ]
  },
  {
   "cell_type": "markdown",
   "metadata": {
    "editable": true,
    "slideshow": {
     "slide_type": "slide"
    },
    "tags": []
   },
   "source": [
    "## Coeficientes técnicos de produção\n",
    "\n",
    "Os dados foram utilizados inicialmente para calcular três \"coeficientes técnicos de produção\" (Laërne, 1885; Martins, 1988): i) quantidade de arrobas produzidas por 1.000 pés de café, ii) o número de cafeeiros tratados e iii) as arrobas de café produzidas por trabalhador escravizado, todos em termos médios anuais. "
   ]
  },
  {
   "cell_type": "markdown",
   "metadata": {
    "editable": true,
    "slideshow": {
     "slide_type": "fragment"
    },
    "tags": []
   },
   "source": [
    "O primeiro desses coeficientes, as arrobas produzidas por 1.000 cafeeiros, é a medida de produtividade (ou rendimento) dos cafezais dos municípios usada para a classificação das regiões. Em conjunto, os três coeficientes são utilizados para as estimativas adiante."
   ]
  },
  {
   "cell_type": "markdown",
   "metadata": {
    "editable": true,
    "slideshow": {
     "slide_type": "fragment"
    },
    "tags": []
   },
   "source": [
    "Ver a seguir a tabela com os coeficientes de produção (incluindo imigrantes/nacionais) e o mapa dos municípios segundo as regiões classificadas."
   ]
  },
  {
   "cell_type": "markdown",
   "metadata": {
    "editable": true,
    "slideshow": {
     "slide_type": "slide"
    },
    "tags": []
   },
   "source": [
    "<center><img src=\"tab_1.png\" width=\"700\"></center>"
   ]
  },
  {
   "cell_type": "markdown",
   "metadata": {
    "editable": true,
    "slideshow": {
     "slide_type": "slide"
    },
    "tags": []
   },
   "source": [
    "#### <center>Regiões produtoras de café da província de São Paulo em 1886-1887</center>\n",
    "\n",
    "<center><img src=\"fig_2.png\" width=\"900\"></center>"
   ]
  },
  {
   "cell_type": "markdown",
   "metadata": {
    "editable": true,
    "slideshow": {
     "slide_type": "slide"
    },
    "tags": []
   },
   "source": [
    "## Cálculo dos coeficientes das regiões\n",
    "\n",
    "Os coeficientes de produção da tabela foram calculados a partir dos dados das fazendas compilados por Van Delden Laërne. As informações das fazendas do RJ e MG (zona do Rio) e Oeste foram usadas diretamente para definir as regiões \"Antiga\" e \"Oeste\" da tabela."
   ]
  },
  {
   "cell_type": "markdown",
   "metadata": {
    "editable": true,
    "slideshow": {
     "slide_type": "fragment"
    },
    "tags": []
   },
   "source": [
    "Já os municípios das duas outras regiões, \"Oeste Novo\" e \"Fronteira\", tiveram os rendimentos médios de seus cafezais aproximados por meio das estatísticas de produção por 1.000 cafeeiros disponíveis de 1905 até 1914, em várias fontes."
   ]
  },
  {
   "cell_type": "markdown",
   "metadata": {
    "editable": true,
    "slideshow": {
     "slide_type": "fragment"
    },
    "tags": []
   },
   "source": [
    "Os outros dois coeficientes – isto é, o número médio de cafeeiros tratados e a produção em arrobas por trabalhador escravizado – das regiões Antiga e Oeste foram extraídos diretamente de Laërne (1885); e, nos casos de Oeste Novo e Fronteira, usando um modelo linear com os dados de Laërne (1885) e o rendimento médio das regiões."
   ]
  },
  {
   "cell_type": "markdown",
   "metadata": {
    "editable": true,
    "slideshow": {
     "slide_type": "slide"
    },
    "tags": []
   },
   "source": [
    "## Estimativa do número de escravizados\n",
    "\n",
    "Como observado antes, o método proposto baseia-se nos mesmos procedimentos de Laërne (1885), sem, contudo, pressupor a inexistência de outras categorias de trabalhadores – imigrantes e nacionais – além dos escravizados."
   ]
  },
  {
   "cell_type": "markdown",
   "metadata": {
    "editable": true,
    "slideshow": {
     "slide_type": "fragment"
    },
    "tags": []
   },
   "source": [
    "Parte-se, inicialmente, do número total de escravizados (os definidos como “rurais” na matrícula de 1887) para determinar a quantidade de café colhida se todos esses trabalhadores estivessem engajados no cultivo do produto."
   ]
  },
  {
   "cell_type": "markdown",
   "metadata": {
    "editable": true,
    "slideshow": {
     "slide_type": "fragment"
    },
    "tags": []
   },
   "source": [
    "A título de exemplo, a produção máxima dos 3.210 escravizados de Rio Claro (Oeste) seria de 343.470 arrobas em 1886-1887 (3.210 escravizados × 107 arrobas por trabalhador = 343.470 arrobas)."
   ]
  },
  {
   "cell_type": "markdown",
   "metadata": {
    "editable": true,
    "slideshow": {
     "slide_type": "slide"
    },
    "tags": []
   },
   "source": [
    "## Estimativa do número de escravizados\n",
    "\n",
    "Outro conceito é o número de cafeeiros se toda mão de obra escrava do município estivesse inteiramente empregada na lavoura de café. Um trabalhador escravizado tratava em média 2.805 cafeeiros na região Oeste. No caso\n",
    "de Rio Claro, o número máximo seria então de 9.004.050 cafeeiros no município (3.210 escravizados × média de 2.805 cafeeiros por trabalhador = 9.004.050 cafeeiros)."
   ]
  },
  {
   "cell_type": "markdown",
   "metadata": {
    "editable": true,
    "slideshow": {
     "slide_type": "fragment"
    },
    "tags": []
   },
   "source": [
    "Aí utiliza-se uma distinção importante feita por Laërne (1885) entre cafeeiros novos e em produção. Cafeeiros prontos para a colheita refletem as condições de produção da agricultura do município, sintetizadas pelos rendimentos por 1.000 cafeeiros na região (no Oeste, 54 arrobas)."
   ]
  },
  {
   "cell_type": "markdown",
   "metadata": {
    "editable": true,
    "slideshow": {
     "slide_type": "fragment"
    },
    "tags": []
   },
   "source": [
    "No exemplo de Rio Claro, visto que a produção máxima foi antes calculada em 343.470 arrobas, o número de cafeeiros em plena produção seria equivalente a 6.360.556 unidades ((343.470 arrobas/54 arrobas por 1.000 cafeeiros ) × 1000 = 6.360.556 cafeeiros em produção)."
   ]
  },
  {
   "cell_type": "markdown",
   "metadata": {
    "editable": true,
    "slideshow": {
     "slide_type": "slide"
    },
    "tags": []
   },
   "source": [
    "## O cálculo final\n",
    "\n",
    "O número de cafeeiros em produção é interpretado aqui como a referência básica para a estimativa do trabalho escravo diretamente ligado ao cultivo do café – por refletir as condições de produção locais, ser mais intensivo em esforço e por representar a prioridade maior na alocação da mão de obra dentro da fazenda."
   ]
  },
  {
   "cell_type": "markdown",
   "metadata": {
    "editable": true,
    "slideshow": {
     "slide_type": "fragment"
    },
    "tags": []
   },
   "source": [
    "Com a média de cafeeiros tratados, obtém-se diretamente a mão de obra cativa do café. Rio Claro, por exemplo, possuiria 2.268 escravizados engajados na cultura do café (6.360.556 cafeeiros/2.805 cafeeiros por trabalhador = 2.268 escravizados)."
   ]
  },
  {
   "cell_type": "markdown",
   "metadata": {
    "editable": true,
    "slideshow": {
     "slide_type": "fragment"
    },
    "tags": []
   },
   "source": [
    "Utilizando-se a média de produção da região Oeste a que pertence Rio Claro, obtém-se também a produção dos escravizados do município: 242.631 arrobas (2.268 escravizados × 107 arrobas por trabalhador = 242.631 arrobas)."
   ]
  },
  {
   "cell_type": "markdown",
   "metadata": {
    "editable": true,
    "slideshow": {
     "slide_type": "slide"
    },
    "tags": []
   },
   "source": [
    "## Estimativa de imigrantes e nacionais\n",
    "\n",
    "Após estimar o número de trabalhadores escravizados na lavoura cafeeira, o próximo passo é somar a eles os colonos imigrantes em cada município. "
   ]
  },
  {
   "cell_type": "markdown",
   "metadata": {
    "editable": true,
    "slideshow": {
     "slide_type": "fragment"
    },
    "tags": []
   },
   "source": [
    "A produção total de café de escravizados e imigrantes é então comparada com a produção *observada* da localidade."
   ]
  },
  {
   "cell_type": "markdown",
   "metadata": {
    "editable": true,
    "slideshow": {
     "slide_type": "fragment"
    },
    "tags": []
   },
   "source": [
    "A diferença entre esses dois agregados (produção observada - produção de escravizados e imigrantes), se houver, é atribuída aos trabalhadores nacionais, sendo o seu número calculado por meio de sua produção média de arrobas de café."
   ]
  },
  {
   "cell_type": "markdown",
   "metadata": {
    "editable": true,
    "slideshow": {
     "slide_type": "slide"
    },
    "tags": []
   },
   "source": [
    "## Trabalhadores nas regiões Antiga e Oeste\n",
    "\n",
    "A figura a seguir traz os resultados das estimativas para os 10 maiores municípios de cada região. Na Antiga, o município de Pindamonhangaba, por exemplo, possuía 2.713 pessoas trabalhando na cafeicultura, das quais 76% eram escravizadas, 23% nacionais e apenas 1% imigrante."
   ]
  },
  {
   "cell_type": "markdown",
   "metadata": {
    "editable": true,
    "slideshow": {
     "slide_type": "fragment"
    },
    "tags": []
   },
   "source": [
    "A proporção de escravizados entre os maiores municípios da região Antiga varia significativamente, até chegar a 13,3% do total em Redenção. A presença dos imigrantes, por sua vez, era praticamente nula no conjunto dos 10 maiores municípios\n",
    "da zona Antiga."
   ]
  },
  {
   "cell_type": "markdown",
   "metadata": {
    "editable": true,
    "slideshow": {
     "slide_type": "fragment"
    },
    "tags": []
   },
   "source": [
    "O percentual de escravizados na mão de obra empregada no café parece contradizer uma percepção comum de que a escravidão continuava sendo a relação de trabalho exclusiva no Vale do Paraíba até as vésperas da Abolição."
   ]
  },
  {
   "cell_type": "markdown",
   "metadata": {
    "editable": true,
    "slideshow": {
     "slide_type": "subslide"
    },
    "tags": []
   },
   "source": [
    "A composição da mão de obra variou bastante na região Antiga, com o trabalho nacional livre aparecendo com uma participação substancial e, em casos importantes como Taubaté, até majoritária entre os principais municípios cafeicultores do Vale paulista."
   ]
  },
  {
   "cell_type": "markdown",
   "metadata": {
    "editable": true,
    "slideshow": {
     "slide_type": "slide"
    },
    "tags": []
   },
   "source": [
    "#### <center>Trabalhadores do café nos dez maiores municípios das regiões Antiga e Oeste de São Paulo, 1886-1887</center>\n",
    "\n",
    "<center><img src=\"fig_3.png\" width=\"900\"></center>"
   ]
  },
  {
   "cell_type": "markdown",
   "metadata": {
    "editable": true,
    "slideshow": {
     "slide_type": "slide"
    },
    "tags": []
   },
   "source": [
    "## Trabalhadores nas regiões Antiga e Oeste\n",
    "\n",
    "Quanto ao Oeste, os municípios da figura mostram – talvez surpreendentemente – um perfil semelhante ao da Zona Antiga no que se refere à participação dos escravizados na mão de obra do café."
   ]
  },
  {
   "cell_type": "markdown",
   "metadata": {
    "editable": true,
    "slideshow": {
     "slide_type": "fragment"
    },
    "tags": []
   },
   "source": [
    "Piracicaba (78,7%), Campinas (72,6%) e Amparo (64,3%) mantiveram-se tão dependentes (ou mais) do trabalho escravo quanto os maiores municípios cafeeiros da região Antiga; em outros, metade ou menos da força de trabalho era composta por escravizados - com São Carlos (50,1%), Rio Claro (41,8%) e Limeira (40,9%)."
   ]
  },
  {
   "cell_type": "markdown",
   "metadata": {
    "editable": true,
    "slideshow": {
     "slide_type": "fragment"
    },
    "tags": []
   },
   "source": [
    "O principal aspecto que distiguiu o Oeste diante da região Antiga foi o maior peso dos imigrantes e, por consequência, a menor participação dos nacionais na força de trabalho livre. A proporção de estrangeiros variou de 13,3% em Amparo ao\n",
    "máximo de 66,2% em Jundiaí."
   ]
  },
  {
   "cell_type": "markdown",
   "metadata": {
    "editable": true,
    "slideshow": {
     "slide_type": "slide"
    },
    "tags": []
   },
   "source": [
    "## Trabalhadores no Oeste Novo e Fronteira\n",
    "\n",
    "No Oeste Novo, São Simão, São João da Boa Vista e Batatais (nordeste da província) possuíam mais de 90% de escravizados na mão de obra. Outras duas localidades tinham percentual próximo ou superior a 80%: Mococa (83,4%) e Botucatu (77.6%)."
   ]
  },
  {
   "cell_type": "markdown",
   "metadata": {
    "editable": true,
    "slideshow": {
     "slide_type": "fragment"
    },
    "tags": []
   },
   "source": [
    "Esses percentuais elevados chamam a atenção pois o crescimento das áreas novas deu-se em contexto de escassez crescente de trabalho escravo nos anos 1870 e 1880. Aparentemente, houve realocação de escravizados para a produção de café, acompanhando uma provável mudança de especialização produtiva das fazendas."
   ]
  },
  {
   "cell_type": "markdown",
   "metadata": {
    "editable": true,
    "slideshow": {
     "slide_type": "fragment"
    },
    "tags": []
   },
   "source": [
    "Em outros municípios do Oeste Novo, a presença de escravizados foi relativamente menor, chegando a ter uma participação minoritária em três grandes produtores da região: Jaú, Santa Rita do Passa Quatro e Mogi Guaçu."
   ]
  },
  {
   "cell_type": "markdown",
   "metadata": {
    "editable": true,
    "slideshow": {
     "slide_type": "subslide"
    },
    "tags": []
   },
   "source": [
    "O emprego de imigrantes foi heterogêneo no Oeste Novo: Itapira (22,9%) e Araras (34,7%) destacaram-se pela presença de colonos estrangeiros, mas outros grandes produtores dependiam principalmente do trabalhador livre nacional: Santa Rita do Passa Quatro (44,8%), Jaú (55,9%), e Mogi Guaçu (66,2%)."
   ]
  },
  {
   "cell_type": "markdown",
   "metadata": {
    "editable": true,
    "jp-MarkdownHeadingCollapsed": true,
    "slideshow": {
     "slide_type": "slide"
    },
    "tags": []
   },
   "source": [
    "#### <center>Trabalhadores do café nos dez maiores municípios das regiões Oeste Novo e Fronteira de São Paulo, 1886-1887</center>\n",
    "\n",
    "<center><img src=\"fig_4.png\" width=\"900\"></center>"
   ]
  },
  {
   "cell_type": "markdown",
   "metadata": {
    "editable": true,
    "slideshow": {
     "slide_type": "slide"
    },
    "tags": []
   },
   "source": [
    "## Trabalhadores no Oeste Novo e Fronteira\n",
    "\n",
    "A região de Fronteira praticamente reproduziu o observado no Oeste Novo. A força de trabalho em municípios distantes, mas com tradição na agricultura de alimentos e pecuária, foi dominada pela presença de escravizados na produção de café - Itaporanga, Franca e Lençóis com mais de 95% desse grupo na força de trabalho total."
   ]
  },
  {
   "cell_type": "markdown",
   "metadata": {
    "editable": true,
    "slideshow": {
     "slide_type": "fragment"
    },
    "tags": []
   },
   "source": [
    "Os dois maiores municípios da Fronteira, Ribeirão Preto e Santa Cruz das Palmeiras, empregavam majoritariamente escravizados no cultivo do café, embora em proporção bem menor do que os citados acima (58,3% e 58,1%, respectivamente)."
   ]
  },
  {
   "cell_type": "markdown",
   "metadata": {
    "editable": true,
    "slideshow": {
     "slide_type": "fragment"
    },
    "tags": []
   },
   "source": [
    "A grande diferença entre eles era o percentual de imigrantes: em Ribeirão Preto, os colonos estrangeiros constituíam 41,7% do total do trabalho na cafeicultura, sem haver registro estimado de nacionais em suas fazendas."
   ]
  },
  {
   "cell_type": "markdown",
   "metadata": {
    "editable": true,
    "slideshow": {
     "slide_type": "slide"
    },
    "tags": []
   },
   "source": [
    "## Em resumo\n",
    "\n",
    "A região Oeste parece ter mantido um perfil semelhante ao da região Antiga quanto à participação dos escravizados na mão de obra do café. A grande diferença entre elas dava-se na composição do trabalho livre, imigrante e nacional."
   ]
  },
  {
   "cell_type": "markdown",
   "metadata": {
    "editable": true,
    "slideshow": {
     "slide_type": "fragment"
    },
    "tags": []
   },
   "source": [
    "O Oeste destacou-se entre todas regiões pela maior participação dos colonos imigrantes no trabalho das fazendas de café. Essa característica *não* se reproduziu na maior parte das zonas novas de expansão e colonização da época."
   ]
  },
  {
   "cell_type": "markdown",
   "metadata": {
    "editable": true,
    "slideshow": {
     "slide_type": "fragment"
    },
    "tags": []
   },
   "source": [
    "No conjunto do Oeste Novo e da Fronteira, os trabalhadores escravizados e nacionais ocupavam o lugar central no crescimento da produção exportadora em 1886-1887, com a exceção de poucos municípios como Ribeirão Preto."
   ]
  },
  {
   "cell_type": "markdown",
   "metadata": {
    "editable": true,
    "slideshow": {
     "slide_type": "slide"
    },
    "tags": []
   },
   "source": [
    "## Resultados agregados\n",
    "\n",
    "Para concluir, as tabelas a seguir mostram esses resultados de forma sintética."
   ]
  },
  {
   "cell_type": "markdown",
   "metadata": {
    "editable": true,
    "slideshow": {
     "slide_type": "fragment"
    },
    "tags": []
   },
   "source": [
    "<center><img src=\"tab_2.png\" width=\"600\"></center>"
   ]
  },
  {
   "cell_type": "markdown",
   "metadata": {
    "editable": true,
    "slideshow": {
     "slide_type": "subslide"
    },
    "tags": []
   },
   "source": [
    "<center><img src=\"tab_3.png\" width=\"600\"></center>"
   ]
  },
  {
   "cell_type": "markdown",
   "metadata": {
    "editable": true,
    "slideshow": {
     "slide_type": "slide"
    },
    "tags": []
   },
   "source": [
    "#### <center>**Obrigado!**</center>"
   ]
  }
 ],
 "metadata": {
  "celltoolbar": "Slideshow",
  "kernelspec": {
   "display_name": "Python 3 (ipykernel)",
   "language": "python",
   "name": "python3"
  },
  "language_info": {
   "codemirror_mode": {
    "name": "ipython",
    "version": 3
   },
   "file_extension": ".py",
   "mimetype": "text/x-python",
   "name": "python",
   "nbconvert_exporter": "python",
   "pygments_lexer": "ipython3",
   "version": "3.12.3"
  },
  "toc": {
   "base_numbering": 1,
   "nav_menu": {},
   "number_sections": false,
   "sideBar": false,
   "skip_h1_title": false,
   "title_cell": "Table of Contents",
   "title_sidebar": "Contents",
   "toc_cell": false,
   "toc_position": {},
   "toc_section_display": false,
   "toc_window_display": false
  }
 },
 "nbformat": 4,
 "nbformat_minor": 4
}
