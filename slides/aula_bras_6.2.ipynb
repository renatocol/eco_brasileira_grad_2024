{
 "cells": [
  {
   "cell_type": "markdown",
   "metadata": {
    "slideshow": {
     "slide_type": "slide"
    }
   },
   "source": [
    "## <center>Economia Brasileira - FEA-USP</center>\n",
    "\n",
    "### <center>Aula 6 -  Desaceleração e II PND (parte 2)</center>\n",
    "\n",
    "#### <center>Renato Perim Colistete</center>\n",
    "\n",
    "\n",
    "#### <center>2024</center>  "
   ]
  },
  {
   "cell_type": "markdown",
   "metadata": {
    "heading_collapsed": true,
    "slideshow": {
     "slide_type": "slide"
    }
   },
   "source": [
    "## Objetivos\n",
    "\n",
    "Esta aula trata de uma política central dos anos 1974-1979: a implementação do II Plano Nacional de Desenvolvimento (II PND).\n",
    "\n",
    "Apresentaremos inicialmente a lógica, as metas e as medidas básicas do II PND.\n",
    "\n",
    "Em seguida, veremos duas das principais interpretações sobre os impactos do Plano. Completamos a aula com uma breve visão sobre ISI e exportações de manufaturados na época."
   ]
  },
  {
   "cell_type": "markdown",
   "metadata": {
    "slideshow": {
     "slide_type": "slide"
    }
   },
   "source": [
    "## Plano\n",
    "\n",
    "Aprovado em dez/1974, o II Plano Nacional de Desenvolvimento (II PND) pretendia combinar a manutenção de altas taxas de crescimento com uma “mudança no estilo do desenvolvimento econômico brasileiro”."
   ]
  },
  {
   "cell_type": "markdown",
   "metadata": {
    "slideshow": {
     "slide_type": "fragment"
    }
   },
   "source": [
    "Portanto, o II PND foi pensado como um programa, *simultaneamente*,"
   ]
  },
  {
   "cell_type": "markdown",
   "metadata": {
    "slideshow": {
     "slide_type": "fragment"
    }
   },
   "source": [
    "- de ajuste à crise internacional de 1973"
   ]
  },
  {
   "cell_type": "markdown",
   "metadata": {
    "slideshow": {
     "slide_type": "fragment"
    }
   },
   "source": [
    "- e de superação do *subdesenvolvimento*."
   ]
  },
  {
   "cell_type": "markdown",
   "metadata": {
    "slideshow": {
     "slide_type": "slide"
    }
   },
   "source": [
    "## Brasil Potência\n",
    "\n",
    "O Plano foi parte do projeto de afirmação do “Brasil Potência” do regime militar, que manifestou a aspiração “ao desenvolvimento e à grandeza” pelo “IV Governo da Revolução”."
   ]
  },
  {
   "cell_type": "markdown",
   "metadata": {
    "slideshow": {
     "slide_type": "fragment"
    }
   },
   "source": [
    "Ver o documento original do II PND na página do programa do curso."
   ]
  },
  {
   "cell_type": "markdown",
   "metadata": {
    "slideshow": {
     "slide_type": "fragment"
    }
   },
   "source": [
    "Uma síntese dos objetivos:"
   ]
  },
  {
   "cell_type": "markdown",
   "metadata": {
    "slideshow": {
     "slide_type": "subslide"
    }
   },
   "source": [
    "<center><img src=\"br_pnd_i.png\" width=\"500\"></center>"
   ]
  },
  {
   "cell_type": "markdown",
   "metadata": {
    "slideshow": {
     "slide_type": "slide"
    }
   },
   "source": [
    "## Metas\n",
    "\n",
    "Os setores definidos como estratégicos foram: agropecuária, indústria (bens de capital, eletrônica de base e insumos básicos) e infraestrutura (energia e transporte)."
   ]
  },
  {
   "cell_type": "markdown",
   "metadata": {
    "slideshow": {
     "slide_type": "fragment"
    }
   },
   "source": [
    "As metas do Plano previam *crescimento do PIB e da indústria de 10% e 12% ao ano*, respectivamente, no quinquênio 1975-1979."
   ]
  },
  {
   "cell_type": "markdown",
   "metadata": {
    "slideshow": {
     "slide_type": "fragment"
    }
   },
   "source": [
    "O crescimento seria coordenado pelo Estado, com o concurso ativo da empresa nacional secundada pelas empresas estatais e estrangeiras. O Plano combinaria substituição de importações e incentivo às exportações - mas aparentemente com maior peso ao primeiro."
   ]
  },
  {
   "cell_type": "markdown",
   "metadata": {
    "slideshow": {
     "slide_type": "subslide"
    }
   },
   "source": [
    "<center><img src=\"br_pnd_iii.png\" width=\"500\"></center>"
   ]
  },
  {
   "cell_type": "markdown",
   "metadata": {
    "slideshow": {
     "slide_type": "slide"
    }
   },
   "source": [
    "## Agências\n",
    "\n",
    "O Plano seria coordenado e implementado por um conjunto de agências. Conselho de Desenvolvimento Econômico (CDE) - coordenação geral e definição de estratégias."
   ]
  },
  {
   "cell_type": "markdown",
   "metadata": {
    "slideshow": {
     "slide_type": "fragment"
    }
   },
   "source": [
    "[Conselho de Desenvolvimento Industrial (CDI)](https://www.fgv.br/cpdoc/acervo/dicionarios/verbete-tematico/conselho-de-desenvolvimento-industrial-cdi) - implementação da política industrial (com participação de industriais até 1975)."
   ]
  },
  {
   "cell_type": "markdown",
   "metadata": {
    "slideshow": {
     "slide_type": "fragment"
    }
   },
   "source": [
    "[BNDE](https://www.fgv.br/cpdoc/acervo/dicionarios/verbete-tematico/banco-nacional-do-desenvolvimento-economico-e-social-bndes) e mais 3 novas empresas de participação e desenvolvimento: Embramec (Mecânica Brasileira S.A.), Ibrasa\n",
    "(Investimentos Brasileiros S.A.) e Fibase (Financiamento de Insumos Básicos S.A.), subsidiárias do BNDE (reunidas no BNDEPar, em 1982)."
   ]
  },
  {
   "cell_type": "markdown",
   "metadata": {
    "editable": true,
    "slideshow": {
     "slide_type": "subslide"
    },
    "tags": []
   },
   "source": [
    "## <center>Conselhos</center>\n",
    "\n",
    "<center><img src=\"br_conselhos_pnd.png\" width=\"900\" height=\"550\"></center>"
   ]
  },
  {
   "cell_type": "markdown",
   "metadata": {
    "editable": true,
    "slideshow": {
     "slide_type": "slide"
    },
    "tags": []
   },
   "source": [
    "## Distribuição dos investimentos (1975):\n",
    "\n",
    "- 25% em bens de capital;"
   ]
  },
  {
   "cell_type": "markdown",
   "metadata": {
    "slideshow": {
     "slide_type": "fragment"
    }
   },
   "source": [
    "- 23% em matérias-primas;"
   ]
  },
  {
   "cell_type": "markdown",
   "metadata": {
    "slideshow": {
     "slide_type": "fragment"
    }
   },
   "source": [
    "- 19,6% em bens intermediários;"
   ]
  },
  {
   "cell_type": "markdown",
   "metadata": {
    "slideshow": {
     "slide_type": "fragment"
    }
   },
   "source": [
    "- 19,4% em bens de consumo;"
   ]
  },
  {
   "cell_type": "markdown",
   "metadata": {
    "slideshow": {
     "slide_type": "fragment"
    }
   },
   "source": [
    "- 13% em veículos automotores."
   ]
  },
  {
   "cell_type": "markdown",
   "metadata": {
    "slideshow": {
     "slide_type": "slide"
    }
   },
   "source": [
    "## Reis Velloso\n",
    "\n",
    "O artífice do Plano, [João Paulo dos Reis Velloso](http://www.fgv.br/cpdoc/acervo/dicionarios/verbete-biografico/joao-paulo-dos-reis-veloso), definiu-o como uma estratégia de alta racionalidade em meio à crise internacional."
   ]
  },
  {
   "cell_type": "markdown",
   "metadata": {
    "slideshow": {
     "slide_type": "fragment"
    }
   },
   "source": [
    "Isso porque o Plano promoveria, *primeiro*, um ajuste simultâneo de oferta e demanda em meio à recessão da economia mundial."
   ]
  },
  {
   "cell_type": "markdown",
   "metadata": {
    "slideshow": {
     "slide_type": "fragment"
    }
   },
   "source": [
    "E, *segundo*, o Plano garantiria a sustentação do crescimento de longo prazo e a *superação do subdesenvolvimento*. Portanto, segundo Reis Velloso, o programa seria superior ao ajuste macroeconômico tradicional - redução da absorção doméstica, diminuição de M e aumento de X."
   ]
  },
  {
   "cell_type": "markdown",
   "metadata": {
    "slideshow": {
     "slide_type": "slide"
    }
   },
   "source": [
    "## Castro e o ajuste estrutural\n",
    "\n",
    "Jé em outro contexto, em um trabalho de 1985, [Antonio Barros de Castro](https://pt.wikipedia.org/wiki/Ant%C3%B4nio_Barros_de_Castro) argumentou que o ajuste externo ocorrido em 1982-84 teve causas distintas das alegadas pelo governo da época (Figueiredo) e do observado em outros países."
   ]
  },
  {
   "cell_type": "markdown",
   "metadata": {
    "slideshow": {
     "slide_type": "fragment"
    }
   },
   "source": [
    "Mesmo com expansão de 7% do PIB em 1984, as importações diminuíram em -33% entre 1982 e 1984."
   ]
  },
  {
   "cell_type": "markdown",
   "metadata": {
    "slideshow": {
     "slide_type": "fragment"
    }
   },
   "source": [
    "Essa redução nas importações teria ocorrido nas áreas dos “*grandes programas apoiados pelo II PND*”: metais não-ferrosos, produtos químicos, papel e celulose, fertilizantes, produtos siderúrgicos. Esse resultado mostraria ser necessário reavaliar o II PND considerando o seu efeito defasado no tempo."
   ]
  },
  {
   "cell_type": "markdown",
   "metadata": {
    "slideshow": {
     "slide_type": "slide"
    }
   },
   "source": [
    "## Ajuste estrutural\n",
    "\n",
    "Segundo Castro (1985), a “visão dominante” era que em 1974-1979 o governo Geisel teria - com a adoção do II PND - rejeitado o ajuste macroeconômico clássico e, para evitar sacrifícios, buscado uma estratégia de “crescimento-com-endividamento”."
   ]
  },
  {
   "cell_type": "markdown",
   "metadata": {
    "slideshow": {
     "slide_type": "fragment"
    }
   },
   "source": [
    "Porém, para Castro, \n",
    "\n",
    ">“longe de evitar problemas, a opção brasileira foi no sentido de atacá-los pela raiz”, seria uma “solução duradoura para a crise do petróleo”."
   ]
  },
  {
   "cell_type": "markdown",
   "metadata": {
    "slideshow": {
     "slide_type": "subslide"
    }
   },
   "source": [
    "Ou ainda: \n",
    "\n",
    "> “o II PND se propunha a superar, conjuntamente, a crise e o subdesenvolvimento...”. Seria o chamado “ajuste estrutural”. "
   ]
  },
  {
   "cell_type": "markdown",
   "metadata": {
    "slideshow": {
     "slide_type": "slide"
    }
   },
   "source": [
    "## Ajuste e endividamento externo\n",
    "\n",
    "O pressuposto de Castro foi de que, na época (2a metade dos anos 1970), a economia brasileira era frágil e incapaz de promover esforço exportador relevante, dada as limitações de sua estrutura produtiva:"
   ]
  },
  {
   "cell_type": "markdown",
   "metadata": {
    "slideshow": {
     "slide_type": "fragment"
    }
   },
   "source": [
    "> “tal tipo de resposta [exportações]... supõe um elevado grau de capacitação tecnológica – estando, pois, à época, fora do alcance da economia brasileira”."
   ]
  },
  {
   "cell_type": "markdown",
   "metadata": {
    "slideshow": {
     "slide_type": "subslide"
    }
   },
   "source": [
    "Desta forma, conclui Antonio Barros de Castro,\n",
    "\n",
    "> “Não creio, em suma, que existisse, para o Brasil, solução capaz de evitar o endividamento externo e o redirecionamento forçado dos investimentos”."
   ]
  },
  {
   "cell_type": "markdown",
   "metadata": {
    "slideshow": {
     "slide_type": "slide"
    }
   },
   "source": [
    "## Críticas\n",
    "\n",
    "Fishlow (1986) aponta 3 problemas empíricos nos argumentos de Castro:"
   ]
  },
  {
   "cell_type": "markdown",
   "metadata": {
    "slideshow": {
     "slide_type": "fragment"
    }
   },
   "source": [
    "- cálculo da poupança bruta de divisas em 1983-84 desconsiderou o custo dos desequilíbrios macroeconômicos causados pelos investimentos anteriores;"
   ]
  },
  {
   "cell_type": "markdown",
   "metadata": {
    "slideshow": {
     "slide_type": "fragment"
    }
   },
   "source": [
    "- argumento de que ajuste pós-1980 derivou do II PND é equivocado, pois os maiores ganhos vieram do petróleo (cujos maiores investimentos ocorreram durante governo Figueiredo);"
   ]
  },
  {
   "cell_type": "markdown",
   "metadata": {
    "slideshow": {
     "slide_type": "fragment"
    }
   },
   "source": [
    "- em 1980-84, o crescimento das exportações foi mais importante para o crescimento industrial do que a substituição de importações."
   ]
  },
  {
   "cell_type": "markdown",
   "metadata": {
    "slideshow": {
     "slide_type": "slide"
    }
   },
   "source": [
    "## Inconsistências\n",
    "\n",
    "Ainda segundo Fishlow, houve duas inconsistências básicas na estratégia do II PND:"
   ]
  },
  {
   "cell_type": "markdown",
   "metadata": {
    "slideshow": {
     "slide_type": "fragment"
    }
   },
   "source": [
    "- um programa de substituição de importações só funciona como ajuste no curto prazo do balanço de pagamentos se houver ampla margem de capacidade ociosa na indústria e resposta rápida das exportações;"
   ]
  },
  {
   "cell_type": "markdown",
   "metadata": {
    "slideshow": {
     "slide_type": "fragment"
    }
   },
   "source": [
    "- o II PND pressupôs um setor público forte, mas a base fiscal do governo permaneceu intocada, recorrendo-se a financiamento externo. Setor privado não só resistia à maior tributação, como demandava maiores subsídios e transferências."
   ]
  },
  {
   "cell_type": "markdown",
   "metadata": {
    "slideshow": {
     "slide_type": "slide"
    }
   },
   "source": [
    "## Testes\n",
    "\n",
    "Alguns poucos trabalhos recentes têm buscado testar empiricamente as interpetações de Castro e Fishlow."
   ]
  },
  {
   "cell_type": "markdown",
   "metadata": {
    "slideshow": {
     "slide_type": "fragment"
    }
   },
   "source": [
    "Por exemplo, Gouvêa e Lima (2013) concluíram que, na média das indústrias que foram objeto do II PND, as elasticidades-renda das exportações aumentaram e as elasticidades-renda das importações caíram *a partir de 1984*, indicando um efeito externo positivo, embora defasado, de ajuste estrutural dos investimentos do II PND. "
   ]
  },
  {
   "cell_type": "markdown",
   "metadata": {
    "slideshow": {
     "slide_type": "fragment"
    }
   },
   "source": [
    "Por outro lado, os resultados dos autores indicam que a causa dominante para o ajuste externo decorreu (como sustentado por Fishlow) do efeito sobre as exportações - e não da substituição de importações, como sustentava Castro em sua abordagem original."
   ]
  },
  {
   "cell_type": "markdown",
   "metadata": {
    "slideshow": {
     "slide_type": "subslide"
    }
   },
   "source": [
    "De qualquer maneira, a ausência de decomposição no plano micro (empresas e indústrias) entre o que existia antes e o que foi resultado de fato de investimentos promovidos pelo II PND parece tornar uma avaliação definitiva ainda prematura. "
   ]
  },
  {
   "cell_type": "markdown",
   "metadata": {
    "slideshow": {
     "slide_type": "slide"
    }
   },
   "source": [
    "## Resumindo\n",
    "\n",
    "Qual é, em termos gerais, o balanço sobre os impactos do II PND? Perguntas ainda abertas:"
   ]
  },
  {
   "cell_type": "markdown",
   "metadata": {
    "slideshow": {
     "slide_type": "fragment"
    }
   },
   "source": [
    "- Ajuste estrutural bem-sucedido? O que pode ser atribuído, setorialmente e em termos de firmas e indústrias específicas, ao II PND e ao período anterior - por exemplo, na expansão do setor de bens de capital e no desempenho exportador?"
   ]
  },
  {
   "cell_type": "markdown",
   "metadata": {
    "slideshow": {
     "slide_type": "fragment"
    }
   },
   "source": [
    "- Qual o peso dos fatores políticos na adoção do Plano? Por exemplo, plano de crescimento em meio à recessão mundial foi motivado por objetivo de angariar apoio político para a transição do regime (\"distensão política\")?"
   ]
  },
  {
   "cell_type": "markdown",
   "metadata": {
    "slideshow": {
     "slide_type": "subslide"
    }
   },
   "source": [
    "- O efeito direto do II PND sobre o endividamento externo foi secundário? Quais foram os custos e benefícios do alto endividamento externo? "
   ]
  },
  {
   "cell_type": "markdown",
   "metadata": {
    "slideshow": {
     "slide_type": "fragment"
    }
   },
   "source": [
    "- E o Plano foi consistente enquanto programa de longo prazo (ou pelo menos considerando as décadas seguintes) - isto é, com o objetivo de superar subdesenvolvimento?"
   ]
  },
  {
   "cell_type": "markdown",
   "metadata": {
    "slideshow": {
     "slide_type": "slide"
    }
   },
   "source": [
    "## ISI e viés antiexportador\n",
    "\n",
    "Voltando ao tema da ISI no contexto dos anos 1970: mais um aspecto a ser considerado no período é a relação entre desempenho tecnológico, eficiência produtiva e o crescimento do período. "
   ]
  },
  {
   "cell_type": "markdown",
   "metadata": {
    "slideshow": {
     "slide_type": "fragment"
    }
   },
   "source": [
    "Primeiro, as exportações – qual foi o desempenho das exportações não-tradicionais nas décadas de 1960 e 1970?"
   ]
  },
  {
   "cell_type": "markdown",
   "metadata": {
    "slideshow": {
     "slide_type": "fragment"
    }
   },
   "source": [
    "Nas estimativas de Balassa (1979), *8 de 21 indústrias* no Brasil teriam de operar com valor adicionado *negativo* se (contrafactual) tivessem que exportar em meados da década de 1960. "
   ]
  },
  {
   "cell_type": "markdown",
   "metadata": {
    "slideshow": {
     "slide_type": "subslide"
    }
   },
   "source": [
    "Ou seja, baixa remuneração das exportações em comparação à produção para mercado interno -> elevado viés antiexportador da política econômica."
   ]
  },
  {
   "cell_type": "markdown",
   "metadata": {
    "slideshow": {
     "slide_type": "slide"
    }
   },
   "source": [
    "## Exportações\n",
    "\n",
    "Exportações não-tradicionais foram sacrificadas devido à discriminação contra as exportações. Entre 1960 e 1966 o\n",
    "crescimento das exportações totais foi de apenas 3,8% a.a."
   ]
  },
  {
   "cell_type": "markdown",
   "metadata": {
    "slideshow": {
     "slide_type": "fragment"
    }
   },
   "source": [
    "Após 1966, minidesvalorizações do câmbio, subsídios, crédito e outros instrumentos mitigaram o viés antiexportador e as vendas para o exterior cresceram 10,2% a.a. entre 1966-73. "
   ]
  },
  {
   "cell_type": "markdown",
   "metadata": {
    "slideshow": {
     "slide_type": "fragment"
    }
   },
   "source": [
    "Desempenho das exportações tradicionais no período: 0,5% a.a.; não-tradicionais primárias: 26,8% a.a.; não-tradicionais manufaturados: 38,5% a.a."
   ]
  },
  {
   "cell_type": "markdown",
   "metadata": {
    "editable": true,
    "slideshow": {
     "slide_type": "slide"
    },
    "tags": []
   },
   "source": [
    "## Estrutura das exportações e conteúdo tecnológico\n",
    "\n",
    "Comparativamente, o desempenho exportador do Brasil ficou substancialmente abaixo dos países do Leste Asiático."
   ]
  },
  {
   "cell_type": "markdown",
   "metadata": {
    "editable": true,
    "slideshow": {
     "slide_type": "fragment"
    },
    "tags": []
   },
   "source": [
    "As exportações de manufaturados continuaram dependentes de um aparato complexo de subsídios e incentivos."
   ]
  },
  {
   "cell_type": "markdown",
   "metadata": {
    "editable": true,
    "slideshow": {
     "slide_type": "fragment"
    },
    "tags": []
   },
   "source": [
    "Ainda assim, a estrutura de exportações do Brasil passou por uma mudança substancial, embora lenta, desde os anos 1950."
   ]
  },
  {
   "cell_type": "markdown",
   "metadata": {
    "editable": true,
    "slideshow": {
     "slide_type": "subslide"
    },
    "tags": []
   },
   "source": [
    "Ver os dados a seguir com o conteúdo tecnológico das exportações. Notar que as exportações de manufaturados ultrapassaram as exportações de produtos primários no final da década de 1970."
   ]
  },
  {
   "cell_type": "markdown",
   "metadata": {
    "editable": true,
    "slideshow": {
     "slide_type": "slide"
    },
    "tags": []
   },
   "source": [
    "### <center>Exportações por categoria tecnológica, Brasil, 1953-1979</center>\n",
    "\n",
    "<center><img src=\"br_manufactured_exports.png\" width=\"500\"></center>"
   ]
  },
  {
   "cell_type": "markdown",
   "metadata": {
    "editable": true,
    "slideshow": {
     "slide_type": "slide"
    },
    "tags": []
   },
   "source": [
    "## Questões\n",
    "\n",
    "Descreva os principais elementos do diagnóstico do II PND sobre a) o choque do petróleo de 1973 e b) o estágio de desenvolvimento da economia brasileira em 1974. Em função desse diagnóstico, qual foi a proposta geral de ajuste delineada no II PND?\n",
    "\n",
    "Apresente a interpetação de Antonio Barros de Castro sobre o ajuste estrutural realizado pelo II PND. Qual o papel atribuído à substituição de importações, às exportações e ao endividamento externo? \n",
    "\n",
    "Analise e compare os possíveis custos e benefícios da estratégia de ajuste perseguida pelo II PND: na sua opinião, qual foi o resultado predominante - positivo ou negativo? "
   ]
  }
 ],
 "metadata": {
  "celltoolbar": "Slideshow",
  "kernelspec": {
   "display_name": "Python 3 (ipykernel)",
   "language": "python",
   "name": "python3"
  },
  "language_info": {
   "codemirror_mode": {
    "name": "ipython",
    "version": 3
   },
   "file_extension": ".py",
   "mimetype": "text/x-python",
   "name": "python",
   "nbconvert_exporter": "python",
   "pygments_lexer": "ipython3",
   "version": "3.8.19"
  },
  "toc": {
   "base_numbering": 1,
   "nav_menu": {},
   "number_sections": false,
   "sideBar": true,
   "skip_h1_title": false,
   "title_cell": "Table of Contents",
   "title_sidebar": "Contents",
   "toc_cell": false,
   "toc_position": {},
   "toc_section_display": true,
   "toc_window_display": false
  }
 },
 "nbformat": 4,
 "nbformat_minor": 4
}
