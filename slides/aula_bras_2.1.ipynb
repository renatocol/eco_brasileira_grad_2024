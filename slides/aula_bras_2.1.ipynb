{
 "cells": [
  {
   "cell_type": "markdown",
   "metadata": {
    "heading_collapsed": true,
    "slideshow": {
     "slide_type": "slide"
    }
   },
   "source": [
    "## <center>Economia Brasileira - FEA-USP</center>\n",
    "\n",
    "## <center>Aula 2 - Estabilização e Reforma, 1964-1967 (parte 1)</center>\n",
    "\n",
    "### <center>Renato Perim Colistete</center>\n",
    "\n",
    "\n",
    "#### <center>2024</center>  "
   ]
  },
  {
   "cell_type": "markdown",
   "metadata": {
    "slideshow": {
     "slide_type": "slide"
    }
   },
   "source": [
    "## Objetivos\n",
    "\n",
    "Esta aula reconstitui as linhas gerais da política econômica durante o governo Castelo Branco (15/4/1964 a 15/3/1967), sobretudo como foram delineadas pelo PAEG.\n",
    "\n",
    "Além da política de estabilização de preços, veremos a concepção mais geral de reformas formulada pelo PAEG. Quando oportuno, compararemos o que foi proposto pelo Plano e o que foi de fato implementado.\n",
    "\n",
    "Na aula seguinte, analisaremos os resultados macroeconômicos das políticas adotadas."
   ]
  },
  {
   "cell_type": "markdown",
   "metadata": {
    "slideshow": {
     "slide_type": "slide"
    }
   },
   "source": [
    "## PAEG\n",
    "\n",
    "A política econômica do novo regime militar após a deposição de João Goulart foi ditada pelo Programa de Ação Econômica do Governo – PAEG (1964-66). Ministro da Fazenda: [Octávio Gouvêa de Bulhões](https://www18.fgv.br/CPDOC/acervo/dicionarios/verbete-biografico/bulhoes-otavio-gouveia-de) (ver também esta [entrevista](https://www.bcb.gov.br/historiacontada/) na \"História Contada do Banco Central\"); Ministro do Planejamento: [Roberto Campos](https://www18.fgv.br/CPDOC/acervo/dicionarios/verbete-biografico/roberto-de-oliveira-campos)."
   ]
  },
  {
   "cell_type": "markdown",
   "metadata": {
    "slideshow": {
     "slide_type": "fragment"
    }
   },
   "source": [
    "O PAEG foi lançado como plano de curto prazo, de emergência, para enfrentar a crise acumulada nos anos anteriores (seg. Roberto Campos). *No entanto,* o Plano também continha uma concepção própria do desenvolvimento econômico, distinta da predominante até então."
   ]
  },
  {
   "cell_type": "markdown",
   "metadata": {
    "slideshow": {
     "slide_type": "fragment"
    }
   },
   "source": [
    "O diagnóstico do governo relacionou a crise ao descontrole da inflação, que teria distorcido as relações básicas da economia: cálculo de custos, expectativas de investimento, taxa de câmbio e crédito."
   ]
  },
  {
   "cell_type": "markdown",
   "metadata": {
    "slideshow": {
     "slide_type": "subslide"
    }
   },
   "source": [
    "### <center>Visão geral dos objetivos do PAEG</center>\n",
    "\n",
    "<center><img src=\"br_paeg_0.png\", width=400></center>"
   ]
  },
  {
   "cell_type": "markdown",
   "metadata": {
    "slideshow": {
     "slide_type": "slide"
    }
   },
   "source": [
    "## Concepção\n",
    "\n",
    "A concepção geral de desenvolvimento econômico, segundo o PAEG:"
   ]
  },
  {
   "cell_type": "markdown",
   "metadata": {
    "slideshow": {
     "slide_type": "fragment"
    }
   },
   "source": [
    "- subtítulo da introdução do volume de apresentação do Plano: “O sentido do planejamento numa economia democrática” (sic);"
   ]
  },
  {
   "cell_type": "markdown",
   "metadata": {
    "slideshow": {
     "slide_type": "subslide"
    }
   },
   "source": [
    "### <center>Planejamento no regime militar segundo o PAEG</center>\n",
    "\n",
    "<center><img src=\"br_paeg_i.png\"></center>"
   ]
  },
  {
   "cell_type": "markdown",
   "metadata": {
    "slideshow": {
     "slide_type": "slide"
    }
   },
   "source": [
    "- o governo não deveria interferir diretamente nos investimentos privados, mas antes criar condições (estabilidade institucional, livre negociação salarial) e estímulos para a atuação do setor privado;"
   ]
  },
  {
   "cell_type": "markdown",
   "metadata": {
    "slideshow": {
     "slide_type": "fragment"
    }
   },
   "source": [
    "- falhas de mercado nos países subdesenvolvidos justificariam a atuação do governo para corrigi-las, por exemplo na formação de poupança (inferior ao ótimo) e na provisão de bens públicos (infraestrutura, educação)."
   ]
  },
  {
   "cell_type": "markdown",
   "metadata": {
    "slideshow": {
     "slide_type": "subslide"
    }
   },
   "source": [
    "### <center>Falhas de mercado e planejamento segundo o PAEG</center>\n",
    "\n",
    "<center><img src=\"br_paeg_ii.png\"></center>"
   ]
  },
  {
   "cell_type": "markdown",
   "metadata": {
    "slideshow": {
     "slide_type": "slide"
    }
   },
   "source": [
    "## Inflação\n",
    "\n",
    "A inflação foi identificada pelo PAEG como a principal fonte de distorções da\n",
    "economia brasileira na época. Pontos gerais:"
   ]
  },
  {
   "cell_type": "markdown",
   "metadata": {
    "slideshow": {
     "slide_type": "fragment"
    }
   },
   "source": [
    "- a causa básica da inflação seria a “inconsistência da política distributiva” do governo, que geraria desequilíbrios básicos no orçamento fiscal (déficit crônico) e no plano macroeconômico (alto consumo, devido à política salarial; investimento elevado, devido à política expansiva de crédito);"
   ]
  },
  {
   "cell_type": "markdown",
   "metadata": {
    "slideshow": {
     "slide_type": "subslide"
    }
   },
   "source": [
    "### <center>Causas da inflação segundo PAEG</center>\n",
    "\n",
    "<center><img src=\"br_paeg_ii.png\"></center>"
   ]
  },
  {
   "cell_type": "markdown",
   "metadata": {
    "slideshow": {
     "slide_type": "slide"
    }
   },
   "source": [
    "- a estabilização dos preços exigiria uma política gradualista e em três frentes: redução ou eliminação do déficit público, política de reajuste salarial de acordo com a produtividade e expansão controlada do crédito."
   ]
  },
  {
   "cell_type": "markdown",
   "metadata": {
    "slideshow": {
     "slide_type": "fragment"
    }
   },
   "source": [
    "Um objetivo central seria neutralizar os efeitos negativos da inflação via introdução de cláusulas de *correção monetária* nos contratos (tributos, salários, aluguéis, mercado financeiro)."
   ]
  },
  {
   "cell_type": "markdown",
   "metadata": {
    "slideshow": {
     "slide_type": "slide"
    }
   },
   "source": [
    "## Interpretações\n",
    "\n",
    "A literatura apresenta diferentes interpretações sobre o diagnóstico da inflação contido no PAEG.\n"
   ]
  },
  {
   "cell_type": "markdown",
   "metadata": {
    "slideshow": {
     "slide_type": "fragment"
    }
   },
   "source": [
    "Um grupo de autores tende a ver o diagnóstico da inflação no início dos anos 1960 como sendo de demanda (p. ex., Macarini, 2006)."
   ]
  },
  {
   "cell_type": "markdown",
   "metadata": {
    "slideshow": {
     "slide_type": "fragment"
    }
   },
   "source": [
    "Para Resende (1982, 1990), a inflação foi interpretada pelo PAEG como, em grande parte, influenciada por conflito distributivo, expresso via orçamento público e salários – expansão monetária teria sido mais um meio de transmissão, não causa autônoma de inflação."
   ]
  },
  {
   "cell_type": "markdown",
   "metadata": {
    "slideshow": {
     "slide_type": "slide"
    }
   },
   "source": [
    "## Inflação no PAEG\n",
    "\n",
    "Em tese, o PAEG adotou uma perspectiva \"gradualista\" de redução da inflação: 1964 = 70%, 1965 = 25% e 1966 = 10%."
   ]
  },
  {
   "cell_type": "markdown",
   "metadata": {
    "slideshow": {
     "slide_type": "subslide"
    }
   },
   "source": [
    "### <center>Redução prevista de inflação, PAEG</center>\n",
    "\n",
    "<center><img src=\"br_paeg_iv.png\"></center>"
   ]
  },
  {
   "cell_type": "markdown",
   "metadata": {
    "slideshow": {
     "slide_type": "slide"
    }
   },
   "source": [
    "## Gradualismo?\n",
    "\n",
    "Lembrar, porém, que a expectativa de inflação (índice anualizado) no início de 1964 atingiu mais de 140%. A política anti-inflacionária do PAEG foi \"gradualista\" de fato?"
   ]
  },
  {
   "cell_type": "markdown",
   "metadata": {
    "slideshow": {
     "slide_type": "slide"
    }
   },
   "source": [
    "## Reformas\n",
    "\n",
    "Outro objetivo da política do novo governo de 1964 foi a realização das chamadas “reformas” em diferentes áreas – nas áreas fiscal, financeira, cambial, habitacional e salarial (ver \"Segunda Parte: Instrumentos Gerais de Ação\" do Plano). "
   ]
  },
  {
   "cell_type": "markdown",
   "metadata": {
    "slideshow": {
     "slide_type": "fragment"
    }
   },
   "source": [
    "Curiosidade: o título dos dois volumes do Plano foi “O Programa de Ação e as Reformas de Base” - este último um termo consagrado durante os governos de João Goulart."
   ]
  },
  {
   "cell_type": "markdown",
   "metadata": {
    "slideshow": {
     "slide_type": "fragment"
    }
   },
   "source": [
    "*Reforma bancária e financeira*: BACEN, CMN, SFH, bancos de investimento, incentivo ao mercado de capitais, fim da Lei da Usura, correção monetária e, indiretamente, Resolução 63 (já em 1967) (veremos melhor esses pontos adiante)."
   ]
  },
  {
   "cell_type": "markdown",
   "metadata": {
    "slideshow": {
     "slide_type": "subslide"
    }
   },
   "source": [
    "*Reforma tributária*: criação do ISS (municípios), ICM (estados), FPEMs, ORTN (Obrigações Rejustáveis do Tesouro Nacional), FGTS/PIS (no caso do FGTS, também relacionado ao mercado de trabalho)."
   ]
  },
  {
   "cell_type": "markdown",
   "metadata": {
    "slideshow": {
     "slide_type": "slide"
    }
   },
   "source": [
    "## Objetivos da reforma bancária\n",
    "\n",
    "Entre os vários objetivos da *reforma bancária e financeira*, destacaram-se:"
   ]
  },
  {
   "cell_type": "markdown",
   "metadata": {
    "slideshow": {
     "slide_type": "fragment"
    }
   },
   "source": [
    "- disciplinar a operação do sistema bancário e financeiro - via criação de um Banco Central (substituindo a SUMOC) e \"autonomia relativamente maior das Autoridades Monetárias\"; "
   ]
  },
  {
   "cell_type": "markdown",
   "metadata": {
    "slideshow": {
     "slide_type": "fragment"
    }
   },
   "source": [
    "- criar uma estrutura especializada de agentes (financeiras, bancos de investimento); "
   ]
  },
  {
   "cell_type": "markdown",
   "metadata": {
    "slideshow": {
     "slide_type": "slide"
    }
   },
   "source": [
    "- atenuar os efeitos da inflação, entre outras formas por meio do mecanismo de *correção monetária* de títulos colocados junto ao público e tributos, conforme já comentado antes; "
   ]
  },
  {
   "cell_type": "markdown",
   "metadata": {
    "slideshow": {
     "slide_type": "subslide"
    }
   },
   "source": [
    "### <center>Correção monetária no PAEG</center>\n",
    "\n",
    "<center><img src=\"br_paeg_v.png\"></center>"
   ]
  },
  {
   "cell_type": "markdown",
   "metadata": {
    "slideshow": {
     "slide_type": "slide"
    }
   },
   "source": [
    "## Reforma tributária\n",
    "\n",
    "Objetivos da reforma tributária: "
   ]
  },
  {
   "cell_type": "markdown",
   "metadata": {
    "slideshow": {
     "slide_type": "fragment"
    }
   },
   "source": [
    "- reduzir consumo do governo; "
   ]
  },
  {
   "cell_type": "markdown",
   "metadata": {
    "slideshow": {
     "slide_type": "fragment"
    }
   },
   "source": [
    "- aumentar poupança pública; "
   ]
  },
  {
   "cell_type": "markdown",
   "metadata": {
    "slideshow": {
     "slide_type": "fragment"
    }
   },
   "source": [
    "- liberar recursos para consumo e investimento privados."
   ]
  },
  {
   "cell_type": "markdown",
   "metadata": {
    "slideshow": {
     "slide_type": "slide"
    }
   },
   "source": [
    "## Setor externo\n",
    "\n",
    "Um outro objetivo declarado no PAEG foi relacionado ao setor externo. Um aspecto enfatizado foi o de buscar uma política cambial realista:"
   ]
  },
  {
   "cell_type": "markdown",
   "metadata": {
    "slideshow": {
     "slide_type": "fragment"
    }
   },
   "source": [
    "- desvalorizações do cruzeiro em dez/1964 (13%), nov/1965 (21,6%) e fev/1967 (22,3%);"
   ]
  },
  {
   "cell_type": "markdown",
   "metadata": {
    "slideshow": {
     "slide_type": "subslide"
    }
   },
   "source": [
    "### <center>Política cambial no PAEG</center>\n",
    "\n",
    "<center><img src=\"br_paeg_vi.png\"></center>"
   ]
  },
  {
   "cell_type": "markdown",
   "metadata": {
    "slideshow": {
     "slide_type": "slide"
    }
   },
   "source": [
    "- Outro exemplo foram os incentivos ao crédito externo: [Reforma](https://www2.camara.leg.br/legin/fed/lei/1960-1969/lei-4390-29-agosto-1964-353889-publicacaooriginal-1-pl.html) da [Lei no. 4131](https://www2.camara.leg.br/legin/fed/lei/1960-1969/lei-4131-3-setembro-1962-353921-publicacaooriginal-1-pl.html) (1962) em 1964 e edição da [Resolução no. 63](https://www.bcb.gov.br/pre/normativos/busca/downloadNormativo.asp?arquivo=/Lists/Normativos/Attachments/39996/Res_0063_v7_L.pdf) do Banco Central (agosto de 1967, já no governo Costa e Silva), permitindo o repasse pelos bancos comerciais de crédito externo para tomadores domésticos;"
   ]
  },
  {
   "cell_type": "markdown",
   "metadata": {
    "slideshow": {
     "slide_type": "fragment"
    }
   },
   "source": [
    "- Igualmente, foram propostos novos incentivos fiscais e creditícios às exportações: isenção e créditos de imposto de renda, IPI e ICM, iniciando já em 1967."
   ]
  },
  {
   "cell_type": "markdown",
   "metadata": {
    "slideshow": {
     "slide_type": "slide"
    }
   },
   "source": [
    "## \"Política econômica internacional\"\n",
    "\n",
    "De maneira geral, portanto, a política voltada ao setor externo do PAEG visou a reinserção do país na economia internacional sob novas bases, incluindo:  "
   ]
  },
  {
   "cell_type": "markdown",
   "metadata": {
    "slideshow": {
     "slide_type": "fragment"
    }
   },
   "source": [
    "a) maiores incentivos às exportações;"
   ]
  },
  {
   "cell_type": "markdown",
   "metadata": {
    "slideshow": {
     "slide_type": "fragment"
    }
   },
   "source": [
    "b) estímulos adicionais à entrada de capital estrangeiro; "
   ]
  },
  {
   "cell_type": "markdown",
   "metadata": {
    "slideshow": {
     "slide_type": "subslide"
    }
   },
   "source": [
    "c) conexão de intermediários financeiros domésticos ao mercado externo (ver na primeira figura do slide, \"política econômica internacional\")."
   ]
  },
  {
   "cell_type": "markdown",
   "metadata": {
    "slideshow": {
     "slide_type": "slide"
    }
   },
   "source": [
    "## Salários\n",
    "\n",
    "Ao contrário do descrito no Plano (livre negociação), a política salarial do governo Castelo Branco caracterizou-se pela intervenção direta (inédita) na fixação dos reajustes de todos salários do setor público e\n",
    "privado. "
   ]
  },
  {
   "cell_type": "markdown",
   "metadata": {
    "slideshow": {
     "slide_type": "fragment"
    }
   },
   "source": [
    "Da mesma forma, não houve, na realidade, política de \"elevação dos salários na mesma proporção da produtividade\", que visasse \"manter a participação dos assalariados no Produto Nacional\", como diz o texto do PAEG."
   ]
  },
  {
   "cell_type": "markdown",
   "metadata": {
    "slideshow": {
     "slide_type": "subslide"
    }
   },
   "source": [
    "### <center>Política salarial no PAEG</center>\n",
    "\n",
    "<center><img src=\"br_paeg_vii.png\"></center>"
   ]
  },
  {
   "cell_type": "markdown",
   "metadata": {
    "slideshow": {
     "slide_type": "slide"
    }
   },
   "source": [
    "## Compressão salarial\n",
    "\n",
    "[Decreto nº 54.018 (14/7/1964)](https://www2.camara.leg.br/legin/fed/decret/1960-1969/decreto-54018-14-julho-1964-393992-publicacaooriginal-1-pe.html) fixou fórmula de reajuste de vencimentos para o setor público federal, estendida em 1965/1966 para o setor privado:"
   ]
  },
  {
   "cell_type": "markdown",
   "metadata": {
    "slideshow": {
     "slide_type": "fragment"
    }
   },
   "source": [
    "- média salarial dos últimos 24 meses + taxa de produtividade + resíduo inflacionário de 50% do estimado para o próximo ano; complementados por reajustes anuais (e *the last but not the least*: repressão sindical)."
   ]
  },
  {
   "cell_type": "markdown",
   "metadata": {
    "slideshow": {
     "slide_type": "fragment"
    }
   },
   "source": [
    "- Intervenção em sindicatos: 4 das 6 Confederações de trabalhadores, 43 das 100 federações, 400 entre 2.000 sindicatos, os quais representavam mais de 70% dos trabalhadores organizados no Brasil em 1964 (dados históricos da OIT)."
   ]
  },
  {
   "cell_type": "markdown",
   "metadata": {
    "slideshow": {
     "slide_type": "slide"
    }
   },
   "source": [
    "## O PAEG pelos contemporâneos\n",
    "\n",
    "Ver abaixo (ou na página do curso) alguns textos selecionados do jornal \"O Estado de São Paulo\":"
   ]
  },
  {
   "cell_type": "markdown",
   "metadata": {
    "slideshow": {
     "slide_type": "fragment"
    }
   },
   "source": [
    "- [Lacerda critica o PAEG (1965)](https://renatocolistete.files.wordpress.com/2013/03/lacerda-x-campos-1965.jpg)"
   ]
  },
  {
   "cell_type": "markdown",
   "metadata": {
    "slideshow": {
     "slide_type": "fragment"
    }
   },
   "source": [
    " - [Roberto Campos defende o PAEG (1966)](https://renatocolistete.files.wordpress.com/2013/03/campos-defende-paeg-1966.jpg)"
   ]
  },
  {
   "cell_type": "markdown",
   "metadata": {
    "slideshow": {
     "slide_type": "fragment"
    }
   },
   "source": [
    "- [Dieese analisa a política salarial (1967)](https://renatocolistete.files.wordpress.com/2012/02/dieese-analisa-paeg-1967.jpg)"
   ]
  },
  {
   "cell_type": "markdown",
   "metadata": {
    "slideshow": {
     "slide_type": "slide"
    }
   },
   "source": [
    "## Questões\n",
    "\n",
    "Quais foram as medidas mais importantes adotadas pelo PAEG para o controle da inflação? Descreva-as e avalie seus\n",
    "resultados.\n",
    "\n",
    "Descreva o conjunto das medidas relacionadas ao setor externo delineadas no PAEG. Qual a orientação geral que é possível identificar em tais medidas?\n",
    "\n",
    "Analise o papel da política salarial para o programa de estabilização promovido pelo PAEG e responda: ela foi essencial ou secundária para seus objetivos?"
   ]
  }
 ],
 "metadata": {
  "celltoolbar": "Slideshow",
  "kernelspec": {
   "display_name": "Python 3 (ipykernel)",
   "language": "python",
   "name": "python3"
  },
  "language_info": {
   "codemirror_mode": {
    "name": "ipython",
    "version": 3
   },
   "file_extension": ".py",
   "mimetype": "text/x-python",
   "name": "python",
   "nbconvert_exporter": "python",
   "pygments_lexer": "ipython3",
   "version": "3.8.18"
  },
  "toc": {
   "base_numbering": 1,
   "nav_menu": {},
   "number_sections": false,
   "sideBar": true,
   "skip_h1_title": false,
   "title_cell": "Table of Contents",
   "title_sidebar": "Contents",
   "toc_cell": false,
   "toc_position": {},
   "toc_section_display": true,
   "toc_window_display": false
  }
 },
 "nbformat": 4,
 "nbformat_minor": 4
}
